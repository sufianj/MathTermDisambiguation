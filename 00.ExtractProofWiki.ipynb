version https://git-lfs.github.com/spec/v1
oid sha256:97fc92157b5e38fbadd7add4ae8623f3c6bf96f3d3ed586442b8bcbf4de4504e
size 129651
