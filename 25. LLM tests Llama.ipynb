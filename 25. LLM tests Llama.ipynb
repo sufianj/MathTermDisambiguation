{
 "cells": [
  {
   "cell_type": "markdown",
   "id": "e50b826c-1498-4d17-9d5c-a4cdf8f695e8",
   "metadata": {},
   "source": [
    "# 25. LLM Tests Llama"
   ]
  },
  {
   "cell_type": "markdown",
   "id": "5303959e-e32d-4142-b9c2-f68cae0f5b2b",
   "metadata": {},
   "source": [
    "# Import"
   ]
  },
  {
   "cell_type": "code",
   "execution_count": 1,
   "id": "aafdb6fb-9da4-4b33-80e4-9850b824b1b8",
   "metadata": {
    "tags": []
   },
   "outputs": [],
   "source": [
    "import pandas as pd"
   ]
  },
  {
   "cell_type": "markdown",
   "id": "720ba85e",
   "metadata": {},
   "source": [
    "# PICKLE and Load Variables"
   ]
  },
  {
   "cell_type": "code",
   "execution_count": 2,
   "id": "316b90a3",
   "metadata": {
    "tags": []
   },
   "outputs": [],
   "source": [
    "import pickle\n",
    "def pkl_vars(varname, filename):\n",
    "    with open(filename, 'wb') as file:\n",
    "        pickle.dump(varname, file)\n",
    "        \n",
    "def reload_vars(filename):\n",
    "    this_var = None\n",
    "    with open(filename, 'rb') as file:\n",
    "        this_var = pickle.load(file)      \n",
    "    return this_var"
   ]
  },
  {
   "cell_type": "code",
   "execution_count": 18,
   "id": "2204db31-ee39-47c0-b3c9-44a9df528798",
   "metadata": {
    "tags": []
   },
   "outputs": [
    {
     "data": {
      "text/plain": [
       "[{'title': 'Definition:Baire Space (Topology)',\n",
       "  'term': 'Baire Space',\n",
       "  'definition': 'Let T = ( S, τ) be a topological space.\\n\\n\\n=== Definition 1 ===\\nLet T = ( S, τ) be a topological space.\\n\\n\\nT is a Baire space  if and only if  the union of any countable set of closed sets of T whose interiors are empty also has an empty interior.\\n\\n=== Definition 2 ===\\nLet T = ( S, τ) be a topological space.\\n\\n\\nT is a Baire space  if and only if  the intersection of any countable set of open sets of T which are everywhere dense is everywhere dense.\\n\\n=== Definition 3 ===\\nLet T = ( S, τ) be a topological space.\\n\\n\\nT is a Baire space  if and only if  the interior of the union of any countable set of closed sets of T which are nowhere dense is empty.\\n\\n=== Definition 4 ===\\nLet T = ( S, τ) be a topological space.\\n\\n\\nT is a Baire space  if and only if , whenever the union of any countable set of closed sets of T has an interior point, then one of those closed sets must have an interior point.'},\n",
       " {'title': 'Definition:Baire Space (Set Theory)',\n",
       "  'term': 'Baire Space',\n",
       "  'definition': 'The Baire space 𝐁 is defined as the set of all infinite sequences of natural numbers.\\n\\nIt can also be defined as the Cartesian product of a countably infinite number of copies of the set of natural numbers.'},\n",
       " {'title': 'Definition:Analysis/Complex',\n",
       "  'term': 'Complex',\n",
       "  'definition': 'Complex analysis is a branch of mathematics that studies complex functions.'},\n",
       " {'title': 'Definition:Complex Number',\n",
       "  'term': 'Complex',\n",
       "  'definition': '\\n=== Informal Definition ===\\nA complex number is a number in the form a + b i or a + i b where:\\n:a and b are real numbers\\n:i is a square root of -1, that is, i = √(-1).\\n\\n=== Formal Definition ===\\nA complex number is an ordered pair ( x, y ) where x, y ∈ℝ are real numbers, on which the operations of addition and multiplication are defined as follows:\\n\\n\\n=== Complex Addition ===\\nLet ( x_1, y_1 ) and ( x_2, y_2 ) be complex numbers.\\n\\nThen + is a binary operation defined as:\\n\\n:( x_1, y_1 ) + ( x_2, y_2 ):= ( x_1 + x_2, y_1 + y_2 )\\n\\n=== Complex Multiplication ===\\nLet ( x_1, y_1 ) and ( x_2, y_2 ) be complex numbers.\\n\\n\\nThen ( x_1, y_1 ) ( x_2, y_2 ) is defined as:\\n\\n:( x_1, y_1 ) ( x_2, y_2 ) := ( x_1 x_2 - y_1 y_2, x_1 y_2 + y_1 x_2 )\\n\\n=== Scalar Product ===\\nLet ( x, y ) be a complex number.\\n\\nLet m ∈ℝ be a real number.\\n\\n\\nThen m ( x, y ) is defined as:\\n\\n:m ( x, y ) := ( m x, m y )\\n\\n=== Construction from Cayley-Dickson Construction ===\\nThe complex numbers can be defined by the Cayley-Dickson construction from the set of real numbers ℝ.\\n\\nFrom Real Numbers form Algebra, ℝ forms a nicely normed *-algebra.\\n\\nLet a, b ∈ℝ.\\n\\nThen ( a, b ) ∈ℂ, where:\\n\\n:( a, b ) ( c, d ) = ( a c - d b, a d + c b )\\n:( a, b )  = ( a, -b )\\nwhere:\\n:a is the conjugate of a\\nand \\n:( a, b ) is the conjugation operation on ℂ.\\n\\nFrom Real Numbers form Algebra, a = a and so the above translate into:\\n\\n:( a, b ) ( c, d ) = ( a c - d b, a d + c b )\\n:( a, b )  = ( a, -b )\\n\\n\\nIt is clear by direct comparison with the formal definition that this construction genuinely does generate the complex numbers.'},\n",
       " {'title': 'Definition:Complex Function',\n",
       "  'term': 'Complex',\n",
       "  'definition': 'A complex function is a function whose domain and codomain are subsets of the set of complex numbers ℂ.\\n\\n\\n=== Independent Variable ===\\nLet f: ℂ→ℂ be a complex function.\\n\\nLet f (   )z = w.\\n\\n\\nThen z is referred to as an independent variable (of f).\\n\\n=== Dependent Variable ===\\nLet f: ℂ→ℂ be a complex function.\\n\\nLet f (   )z = w.\\n\\n\\nThen w is referred to as the dependent variable (of f).'},\n",
       " {'title': 'Definition:Complex Conjugate',\n",
       "  'term': 'Complex',\n",
       "  'definition': 'Let z = a + i b be a complex number.\\n\\n\\nThen the (complex) conjugate of z is denoted z and is defined as:\\n\\n:z := a - i b\\n\\n\\nThat is, you get the complex conjugate of a complex number by negating its imaginary part.\\n\\n\\n=== Complex Conjugation ===\\nThe operation of complex conjugation is the mapping:\\n: ·: ℂ→ℂ: z ↦z.\\nwhere z is the complex conjugate of z.\\n\\n\\nThat is, it maps a complex number to its complex conjugate.\\n\\n\\nCategory:Definitions/Complex Conjugates'},\n",
       " {'title': 'Definition:Subset Product',\n",
       "  'term': 'Complex',\n",
       "  'definition': 'Let ( S, ∘) be an algebraic structure.\\n\\n\\nWe can define an operation on the power set 𝒫( S ) as follows:\\n\\n:∀ A, B ∈𝒫( S ): A ∘_𝒫 B = { a ∘ b: a ∈ A, b ∈ B }\\n\\n\\nThis is called the operation induced on 𝒫( S ) by ∘, and A ∘_𝒫 B is called the subset product of A and B.\\n\\n\\nIt is usual to write A ∘ B for A ∘_𝒫 B.\\n\\n\\n=== Subset Product with Singleton ===\\n\\nWhen one of the subsets in a subset product is a singleton, we can (and often do) dispose of the set braces. Thus:\\nLet ( S, ∘) be an algebraic structure.\\n\\n\\nLet A ⊆ S be a subset of S.\\n\\nThen:\\n:(1):    a ∘ S := { a }∘ S\\n:(2):    S ∘ a := S ∘{ a }\\n\\nwhere { a }∘ S and S ∘{ a } denote the subset product of { a } with S.\\n\\n\\nThat is:\\n:a ∘ S = { a ∘ s: s ∈ S }\\n:S ∘ a = { s ∘ a: s ∈ S }'},\n",
       " {'title': 'Definition:Complex (Group Theory)',\n",
       "  'term': 'Complex',\n",
       "  'definition': 'Let G be a group.\\n\\nLet K ⊆ G be a subset of G.\\n\\n\\nThen K is referred to by some sources as a complex of elements of G.'},\n",
       " {'title': 'Definition:Differential Complex',\n",
       "  'term': 'Complex',\n",
       "  'definition': 'Let R be a commutative ring with unity.\\n\\nLet M = ⊕_n ∈ℤ M^n be a ℤ-graded R-module that is also a differential module with differential d.\\n\\n\\nThen M is a differential complex if d satisfies:\\n\\n:d(   )M^n⊆ M^n + 1\\n\\nfor all n ∈ℤ.\\n\\n\\nThe notation d_n := d_M_n is often seen.'},\n",
       " {'title': 'Definition:Fraction/Complex',\n",
       "  'term': 'Complex',\n",
       "  'definition': 'A complex fraction is a fraction such that the numerator or denominator or both are themselves fractions.'}]"
      ]
     },
     "execution_count": 18,
     "metadata": {},
     "output_type": "execute_result"
    }
   ],
   "source": [
    "df_test_term = reload_vars('/home/ann/fiz-ddb/notebook/data/vars/flattened_test_new_term_disam_list.pkl')\n",
    "df_test_term[:10]"
   ]
  },
  {
   "cell_type": "code",
   "execution_count": 19,
   "id": "73cc5c98-82ee-4f7f-a0b5-c3ca5884ea0c",
   "metadata": {
    "tags": []
   },
   "outputs": [
    {
     "data": {
      "text/plain": [
       "[{'title': 'Definition:Quintal System',\n",
       "  'term': 'System',\n",
       "  'definition': 'A quintal system  is a number system in which the base is 5.\\n\\n\\n=== Quintal Notation ===\\nQuintal notation is the positional number system whose base is 5.\\n\\nThat is, every number x ∈ℝ is expressed in the form:\\n:x = ∑_j ∈ℤ r_j 5^j\\nwhere:\\n:∀ j ∈ℤ: r_j ∈{ 0, 1, 2, 3, 4 }'},\n",
       " {'title': 'Definition:Decimal System',\n",
       "  'term': 'System',\n",
       "  'definition': 'A decimal system  is a number system in which the base is 10.\\n\\n\\n=== Decimal Notation ===\\nDecimal notation is the quotidian technique of expressing numbers in base 10.\\n\\nEvery number x ∈ℝ is expressed in the form:\\n:x = ∑_j ∈ℤ r_j 10^j\\nwhere:\\n:∀ j ∈ℤ: r_j ∈{ 0, 1, 2, 3, 4, 5, 6, 7, 8, 9 }\\n\\n=== Decimal System of Measurement ===\\nA decimal system (of measurement) is a system of measurement in which the standard multiples and fractions of the units of measurement are powers of 10.'},\n",
       " {'title': 'Definition:Vigesimal System',\n",
       "  'term': 'System',\n",
       "  'definition': 'A vigesimal system is a number system in which the base is 20.\\n\\n\\nIn conventional base 20 notation, every number x ∈ℝ is expressed in the form:\\n:x = ∑_j ∈ℤ r_j 20^j\\nwhere:\\n:∀ j ∈ℤ: r_j ∈{ 0, 1, …, 19 }'},\n",
       " {'title': 'Definition:Sexagesimal System',\n",
       "  'term': 'System',\n",
       "  'definition': 'A sexagesimal system is a number system in which the base is 60.'},\n",
       " {'title': 'Definition:Golden Mean Number System',\n",
       "  'term': 'System',\n",
       "  'definition': 'The golden mean number system is a system for representing a non-negative real number x by a sequence of zeroes and  ones using the golden mean ϕ as a number base.\\n\\n\\n=== Equivalent Representations ===\\nLet x ∈ℝ_≥ 0 have two representations S_1 and S_2 in the golden mean number system.\\n\\nThen S_1 and S_2 are equivalent representations.\\n\\n\\nCategory:Definitions/Golden Mean Number System\\n\\n=== Simplest Form ===\\nLet x ∈ℝ_≥ 0 have a representation S in the golden mean number system.\\n\\nThen S is the simplest form for x  if and only if :\\n\\n:(1): No two adjacent 1s appear in S\\n:(2):    S does not end with the infinite sequence … 010101 …\\n\\n=== Simplification ===\\nConsider the golden mean number system.\\n\\nLet x ∈ℝ_≥ 0 have a representation which includes the string 011, say:\\n:x = p011q\\n\\nwhere p and q are strings in {0, 1}.\\n\\n\\nFrom 100 in Golden Mean Number System is Equivalent to 011, x can also be written as:\\n:x = p100q\\n\\n\\nThe expression p100q is a simplification of p011q.\\n\\n=== Expansion ===\\nConsider the golden mean number system.\\n\\nLet x ∈ℝ_≥ 0 have a representation which includes the string 100, say:\\n:x = p100q\\n\\nwhere p and q are strings in {0, 1}.\\n\\n\\nFrom 100 in Golden Mean Number System is Equivalent to 011, x can also be written as:\\n:x = p011q\\n\\n\\nThe expression p011q is an expansion of p011q.'},\n",
       " {'title': 'Definition:Factorial Number System',\n",
       "  'term': 'System',\n",
       "  'definition': 'The factorial number system is a mixed radix positional number system in which the digit in the ith column from the right is of base i.'},\n",
       " {'title': 'Definition:Combinatorial Number System',\n",
       "  'term': 'System',\n",
       "  'definition': 'The combinatorial number system is a system for representing a positive integer m by a sequence of digits which are the upper coefficient of a sequence of n binomial coefficients for some n ∈ℤ_>0:\\n\\n:m := k_1 k_2 k_3 … k_n\\n\\nwhere:\\n:m = k_1 1 + k_2 2 + k_3 3 + ⋯ + k_n n\\n:0 ≤ k_1 < k_2 < ⋯ < k_n'},\n",
       " {'title': 'Definition:Zeckendorf Representation',\n",
       "  'term': 'System',\n",
       "  'definition': 'Zeckendorf representation is a system for representing a positive integer m by a sequence of digits which are the indices of a sequence of r Fibonacci numbers:\\n\\n:n := k_1 k_2 k_3 … k_r\\n\\nwhere:\\n:n = F_k_1 + F_k_2 + F_k_3 + ⋯ + F_k_r\\n:k_1 ≫ k_2 ≫ k_3 ≫⋯≫ k_r ≫ 0\\n\\nwhere n ≫ k denotes that n ≥ k + 2.'},\n",
       " {'title': 'Definition:Number-Naming System',\n",
       "  'term': 'System',\n",
       "  'definition': 'There are various number-naming systems for naming large numbers (that is: greater than 1   000   000).\\n\\n\\n=== Short Scale ===\\nThe short scale system is the number-naming system which uses:\\n:the word million for 10^6 = 1   000   000\\n:the Latin-derived prefixes bi-, tri-, quadri-, quint-, etc. for each further multiple of 1   000, appended to the root -(i)llion, corresponding to the indices 2, 3, 4, 5, …\\n\\n\\nThus:\\n\\n \\n \\n \\n \\n \\n \\n\\nThus one n-illion equals 1000 × 10^3 n or 10^3 n + 3\\n\\n=== Long Scale ===\\nThe long scale system is the number-naming system which uses:\\n:the word million for 10^6 = 1   000   000\\n:the Latin-derived prefixes bi-, tri-, quadri-, quint-, etc. for each further multiple of 1   000   000, appended to the root -(i)llion, corresponding to the indices 2, 3, 4, 5, …\\n\\n\\nThus:\\n\\n \\n \\n \\n \\n \\n \\n\\nThus one n-illion equals 10^6 n.\\n\\n\\nAdditional terms are occasionally found to fill some of the gaps, but these are rare nowadays:\\n\\n \\n \\n \\n '},\n",
       " {'title': 'Definition:System of Neighborhoods',\n",
       "  'term': 'System',\n",
       "  'definition': 'Let M = ( A, d ) be a metric space.\\n\\nLet a ∈ A.\\n\\nLet 𝒩_a be the set of all neighborhoods of a in M.\\n\\n\\nThen 𝒩_a is the system of neighborhoods of the point a.'}]"
      ]
     },
     "execution_count": 19,
     "metadata": {},
     "output_type": "execute_result"
    }
   ],
   "source": [
    "df_test_title = reload_vars(\"/home/ann/fiz-ddb/notebook/data/vars/flattened_test_new_candi_disam_list.pkl\")\n",
    "df_test_title[:10]"
   ]
  },
  {
   "cell_type": "code",
   "execution_count": 3,
   "id": "2eb4bf82-84e2-4422-b9cf-59eeeded1ac8",
   "metadata": {
    "tags": []
   },
   "outputs": [
    {
     "data": {
      "text/plain": [
       "['Definition:Loop (Plane Geometry)',\n",
       " 'Definition:Loop (Graph Theory)',\n",
       " 'Definition:Algebra Loop',\n",
       " 'Definition:Relational Loop',\n",
       " 'Definition:Loop (Topology)',\n",
       " 'Definition:Loop (Matroid)']"
      ]
     },
     "execution_count": 3,
     "metadata": {},
     "output_type": "execute_result"
    }
   ],
   "source": [
    "df_term_kb = reload_vars('/home/ann/fiz-ddb/notebook/data/vars/def_disamb_kb.pkl')\n",
    "df_term_kb[\"Loop\"]"
   ]
  },
  {
   "cell_type": "markdown",
   "id": "a7ce16ec-e9f9-4053-8875-feee2b25719c",
   "metadata": {},
   "source": [
    "# Save Variables"
   ]
  },
  {
   "cell_type": "code",
   "execution_count": null,
   "id": "9b2d44e2",
   "metadata": {},
   "outputs": [],
   "source": []
  },
  {
   "cell_type": "markdown",
   "id": "ad93ce52",
   "metadata": {},
   "source": [
    "# Llama 3"
   ]
  },
  {
   "cell_type": "code",
   "execution_count": 8,
   "id": "3217ce58-acaf-4a5c-96c7-f86dfcfab3db",
   "metadata": {},
   "outputs": [
    {
     "name": "stdout",
     "output_type": "stream",
     "text": [
      "Looking in indexes: https://download.pytorch.org/whl/cu124\n",
      "Collecting torch\n",
      "  Downloading https://download.pytorch.org/whl/cu124/torch-2.6.0%2Bcu124-cp310-cp310-linux_x86_64.whl.metadata (28 kB)\n",
      "Collecting torchvision\n",
      "  Downloading https://download.pytorch.org/whl/cu124/torchvision-0.21.0%2Bcu124-cp310-cp310-linux_x86_64.whl.metadata (6.1 kB)\n",
      "Collecting torchaudio\n",
      "  Downloading https://download.pytorch.org/whl/cu124/torchaudio-2.6.0%2Bcu124-cp310-cp310-linux_x86_64.whl.metadata (6.6 kB)\n",
      "Requirement already satisfied: filelock in /home/ann/anaconda3/envs/mathd2/lib/python3.10/site-packages (from torch) (3.13.1)\n",
      "Requirement already satisfied: typing-extensions>=4.10.0 in /home/ann/anaconda3/envs/mathd2/lib/python3.10/site-packages (from torch) (4.12.2)\n",
      "Requirement already satisfied: networkx in /home/ann/anaconda3/envs/mathd2/lib/python3.10/site-packages (from torch) (3.4.2)\n",
      "Requirement already satisfied: jinja2 in /home/ann/anaconda3/envs/mathd2/lib/python3.10/site-packages (from torch) (3.1.5)\n",
      "Requirement already satisfied: fsspec in /home/ann/anaconda3/envs/mathd2/lib/python3.10/site-packages (from torch) (2024.12.0)\n",
      "Collecting nvidia-cuda-nvrtc-cu12==12.4.127 (from torch)\n",
      "  Downloading https://download.pytorch.org/whl/cu124/nvidia_cuda_nvrtc_cu12-12.4.127-py3-none-manylinux2014_x86_64.whl (24.6 MB)\n",
      "\u001b[2K     \u001b[90m━━━━━━━━━━━━━━━━━━━━━━━━━━━━━━━━━━━━━━━━\u001b[0m \u001b[32m24.6/24.6 MB\u001b[0m \u001b[31m90.7 MB/s\u001b[0m eta \u001b[36m0:00:00\u001b[0ma \u001b[36m0:00:01\u001b[0m\n",
      "Collecting nvidia-cuda-runtime-cu12==12.4.127 (from torch)\n",
      "  Downloading https://download.pytorch.org/whl/cu124/nvidia_cuda_runtime_cu12-12.4.127-py3-none-manylinux2014_x86_64.whl (883 kB)\n",
      "\u001b[2K     \u001b[90m━━━━━━━━━━━━━━━━━━━━━━━━━━━━━━━━━━━━━━\u001b[0m \u001b[32m883.7/883.7 kB\u001b[0m \u001b[31m60.4 MB/s\u001b[0m eta \u001b[36m0:00:00\u001b[0m\n",
      "Collecting nvidia-cuda-cupti-cu12==12.4.127 (from torch)\n",
      "  Downloading https://download.pytorch.org/whl/cu124/nvidia_cuda_cupti_cu12-12.4.127-py3-none-manylinux2014_x86_64.whl (13.8 MB)\n",
      "\u001b[2K     \u001b[90m━━━━━━━━━━━━━━━━━━━━━━━━━━━━━━━━━━━━━━━━\u001b[0m \u001b[32m13.8/13.8 MB\u001b[0m \u001b[31m74.3 MB/s\u001b[0m eta \u001b[36m0:00:00\u001b[0m\n",
      "Collecting nvidia-cudnn-cu12==9.1.0.70 (from torch)\n",
      "  Downloading https://download.pytorch.org/whl/cu124/nvidia_cudnn_cu12-9.1.0.70-py3-none-manylinux2014_x86_64.whl (664.8 MB)\n",
      "\u001b[2K     \u001b[90m━━━━━━━━━━━━━━━━━━━━━━━━━━━━━━━━━━━━━━\u001b[0m \u001b[32m664.8/664.8 MB\u001b[0m \u001b[31m59.8 MB/s\u001b[0m eta \u001b[36m0:00:00\u001b[0m00:01\u001b[0m00:01\u001b[0m\n",
      "Collecting nvidia-cublas-cu12==12.4.5.8 (from torch)\n",
      "  Downloading https://download.pytorch.org/whl/cu124/nvidia_cublas_cu12-12.4.5.8-py3-none-manylinux2014_x86_64.whl (363.4 MB)\n",
      "\u001b[2K     \u001b[90m━━━━━━━━━━━━━━━━━━━━━━━━━━━━━━━━━━━━━━\u001b[0m \u001b[32m363.4/363.4 MB\u001b[0m \u001b[31m70.3 MB/s\u001b[0m eta \u001b[36m0:00:00\u001b[0m00:01\u001b[0m00:01\u001b[0m\n",
      "Collecting nvidia-cufft-cu12==11.2.1.3 (from torch)\n",
      "  Downloading https://download.pytorch.org/whl/cu124/nvidia_cufft_cu12-11.2.1.3-py3-none-manylinux2014_x86_64.whl (211.5 MB)\n",
      "\u001b[2K     \u001b[90m━━━━━━━━━━━━━━━━━━━━━━━━━━━━━━━━━━━━━━\u001b[0m \u001b[32m211.5/211.5 MB\u001b[0m \u001b[31m75.1 MB/s\u001b[0m eta \u001b[36m0:00:00\u001b[0m00:01\u001b[0m00:01\u001b[0m\n",
      "Collecting nvidia-curand-cu12==10.3.5.147 (from torch)\n",
      "  Downloading https://download.pytorch.org/whl/cu124/nvidia_curand_cu12-10.3.5.147-py3-none-manylinux2014_x86_64.whl (56.3 MB)\n",
      "\u001b[2K     \u001b[90m━━━━━━━━━━━━━━━━━━━━━━━━━━━━━━━━━━━━━━━━\u001b[0m \u001b[32m56.3/56.3 MB\u001b[0m \u001b[31m75.0 MB/s\u001b[0m eta \u001b[36m0:00:00\u001b[0ma \u001b[36m0:00:01\u001b[0m\n",
      "Collecting nvidia-cusolver-cu12==11.6.1.9 (from torch)\n",
      "  Downloading https://download.pytorch.org/whl/cu124/nvidia_cusolver_cu12-11.6.1.9-py3-none-manylinux2014_x86_64.whl (127.9 MB)\n",
      "\u001b[2K     \u001b[90m━━━━━━━━━━━━━━━━━━━━━━━━━━━━━━━━━━━━━━\u001b[0m \u001b[32m127.9/127.9 MB\u001b[0m \u001b[31m72.5 MB/s\u001b[0m eta \u001b[36m0:00:00\u001b[0m00:01\u001b[0m00:01\u001b[0m\n",
      "Collecting nvidia-cusparse-cu12==12.3.1.170 (from torch)\n",
      "  Downloading https://download.pytorch.org/whl/cu124/nvidia_cusparse_cu12-12.3.1.170-py3-none-manylinux2014_x86_64.whl (207.5 MB)\n",
      "\u001b[2K     \u001b[90m━━━━━━━━━━━━━━━━━━━━━━━━━━━━━━━━━━━━━━\u001b[0m \u001b[32m207.5/207.5 MB\u001b[0m \u001b[31m72.4 MB/s\u001b[0m eta \u001b[36m0:00:00\u001b[0m00:01\u001b[0m00:01\u001b[0m\n",
      "Collecting nvidia-cusparselt-cu12==0.6.2 (from torch)\n",
      "  Downloading https://download.pytorch.org/whl/cu124/nvidia_cusparselt_cu12-0.6.2-py3-none-manylinux2014_x86_64.whl.metadata (6.8 kB)\n",
      "Collecting nvidia-nccl-cu12==2.21.5 (from torch)\n",
      "  Downloading https://download.pytorch.org/whl/nvidia_nccl_cu12-2.21.5-py3-none-manylinux2014_x86_64.whl (188.7 MB)\n",
      "\u001b[2K     \u001b[90m━━━━━━━━━━━━━━━━━━━━━━━━━━━━━━━━━━━━━━\u001b[0m \u001b[32m188.7/188.7 MB\u001b[0m \u001b[31m94.6 MB/s\u001b[0m eta \u001b[36m0:00:00\u001b[0m00:01\u001b[0m00:01\u001b[0m\n",
      "Collecting nvidia-nvtx-cu12==12.4.127 (from torch)\n",
      "  Downloading https://download.pytorch.org/whl/cu124/nvidia_nvtx_cu12-12.4.127-py3-none-manylinux2014_x86_64.whl (99 kB)\n",
      "Collecting nvidia-nvjitlink-cu12==12.4.127 (from torch)\n",
      "  Downloading https://download.pytorch.org/whl/cu124/nvidia_nvjitlink_cu12-12.4.127-py3-none-manylinux2014_x86_64.whl (21.1 MB)\n",
      "\u001b[2K     \u001b[90m━━━━━━━━━━━━━━━━━━━━━━━━━━━━━━━━━━━━━━━━\u001b[0m \u001b[32m21.1/21.1 MB\u001b[0m \u001b[31m70.7 MB/s\u001b[0m eta \u001b[36m0:00:00\u001b[0ma \u001b[36m0:00:01\u001b[0m\n",
      "Collecting triton==3.2.0 (from torch)\n",
      "  Downloading https://download.pytorch.org/whl/triton-3.2.0-cp310-cp310-manylinux_2_27_x86_64.manylinux_2_28_x86_64.whl.metadata (1.4 kB)\n",
      "Collecting sympy==1.13.1 (from torch)\n",
      "  Downloading https://download.pytorch.org/whl/sympy-1.13.1-py3-none-any.whl (6.2 MB)\n",
      "\u001b[2K     \u001b[90m━━━━━━━━━━━━━━━━━━━━━━━━━━━━━━━━━━━━━━━━\u001b[0m \u001b[32m6.2/6.2 MB\u001b[0m \u001b[31m66.5 MB/s\u001b[0m eta \u001b[36m0:00:00\u001b[0m\n",
      "Requirement already satisfied: mpmath<1.4,>=1.1.0 in /home/ann/anaconda3/envs/mathd2/lib/python3.10/site-packages (from sympy==1.13.1->torch) (1.3.0)\n",
      "Requirement already satisfied: numpy in /home/ann/anaconda3/envs/mathd2/lib/python3.10/site-packages (from torchvision) (1.26.4)\n",
      "Requirement already satisfied: pillow!=8.3.*,>=5.3.0 in /home/ann/anaconda3/envs/mathd2/lib/python3.10/site-packages (from torchvision) (11.1.0)\n",
      "Requirement already satisfied: MarkupSafe>=2.0 in /home/ann/anaconda3/envs/mathd2/lib/python3.10/site-packages (from jinja2->torch) (3.0.2)\n",
      "Downloading https://download.pytorch.org/whl/cu124/torch-2.6.0%2Bcu124-cp310-cp310-linux_x86_64.whl (768.4 MB)\n",
      "\u001b[2K   \u001b[90m━━━━━━━━━━━━━━━━━━━━━━━━━━━━━━━━━━━━━━━━\u001b[0m \u001b[32m768.4/768.4 MB\u001b[0m \u001b[31m59.1 MB/s\u001b[0m eta \u001b[36m0:00:00\u001b[0m00:01\u001b[0m00:01\u001b[0m\n",
      "\u001b[?25hDownloading https://download.pytorch.org/whl/cu124/nvidia_cusparselt_cu12-0.6.2-py3-none-manylinux2014_x86_64.whl (150.1 MB)\n",
      "\u001b[2K   \u001b[90m━━━━━━━━━━━━━━━━━━━━━━━━━━━━━━━━━━━━━━━━\u001b[0m \u001b[32m150.1/150.1 MB\u001b[0m \u001b[31m75.7 MB/s\u001b[0m eta \u001b[36m0:00:00\u001b[0m00:01\u001b[0m00:01\u001b[0m\n",
      "\u001b[?25hDownloading https://download.pytorch.org/whl/triton-3.2.0-cp310-cp310-manylinux_2_27_x86_64.manylinux_2_28_x86_64.whl (166.6 MB)\n",
      "\u001b[2K   \u001b[90m━━━━━━━━━━━━━━━━━━━━━━━━━━━━━━━━━━━━━━━━\u001b[0m \u001b[32m166.6/166.6 MB\u001b[0m \u001b[31m92.5 MB/s\u001b[0m eta \u001b[36m0:00:00\u001b[0m00:01\u001b[0m00:01\u001b[0m\n",
      "\u001b[?25hDownloading https://download.pytorch.org/whl/cu124/torchvision-0.21.0%2Bcu124-cp310-cp310-linux_x86_64.whl (7.3 MB)\n",
      "\u001b[2K   \u001b[90m━━━━━━━━━━━━━━━━━━━━━━━━━━━━━━━━━━━━━━━━\u001b[0m \u001b[32m7.3/7.3 MB\u001b[0m \u001b[31m69.5 MB/s\u001b[0m eta \u001b[36m0:00:00\u001b[0m\n",
      "\u001b[?25hDownloading https://download.pytorch.org/whl/cu124/torchaudio-2.6.0%2Bcu124-cp310-cp310-linux_x86_64.whl (3.4 MB)\n",
      "\u001b[2K   \u001b[90m━━━━━━━━━━━━━━━━━━━━━━━━━━━━━━━━━━━━━━━━\u001b[0m \u001b[32m3.4/3.4 MB\u001b[0m \u001b[31m70.5 MB/s\u001b[0m eta \u001b[36m0:00:00\u001b[0m\n",
      "Installing collected packages: triton, nvidia-cusparselt-cu12, sympy, nvidia-nvtx-cu12, nvidia-nvjitlink-cu12, nvidia-nccl-cu12, nvidia-curand-cu12, nvidia-cufft-cu12, nvidia-cuda-runtime-cu12, nvidia-cuda-nvrtc-cu12, nvidia-cuda-cupti-cu12, nvidia-cublas-cu12, nvidia-cusparse-cu12, nvidia-cudnn-cu12, nvidia-cusolver-cu12, torch, torchvision, torchaudio\n",
      "  Attempting uninstall: sympy\n",
      "    Found existing installation: sympy 1.13.3\n",
      "    Uninstalling sympy-1.13.3:\n",
      "      Successfully uninstalled sympy-1.13.3\n",
      "Successfully installed nvidia-cublas-cu12-12.4.5.8 nvidia-cuda-cupti-cu12-12.4.127 nvidia-cuda-nvrtc-cu12-12.4.127 nvidia-cuda-runtime-cu12-12.4.127 nvidia-cudnn-cu12-9.1.0.70 nvidia-cufft-cu12-11.2.1.3 nvidia-curand-cu12-10.3.5.147 nvidia-cusolver-cu12-11.6.1.9 nvidia-cusparse-cu12-12.3.1.170 nvidia-cusparselt-cu12-0.6.2 nvidia-nccl-cu12-2.21.5 nvidia-nvjitlink-cu12-12.4.127 nvidia-nvtx-cu12-12.4.127 sympy-1.13.1 torch-2.6.0+cu124 torchaudio-2.6.0+cu124 torchvision-0.21.0+cu124 triton-3.2.0\n"
     ]
    }
   ],
   "source": [
    "!pip install torch torchvision torchaudio --index-url https://download.pytorch.org/whl/cu124"
   ]
  },
  {
   "cell_type": "code",
   "execution_count": 6,
   "id": "73cd326d-8c7f-4b50-8a62-846e8b626ba7",
   "metadata": {},
   "outputs": [
    {
     "name": "stdout",
     "output_type": "stream",
     "text": [
      "Sat Mar  1 23:18:11 2025       \n",
      "+-----------------------------------------------------------------------------------------+\n",
      "| NVIDIA-SMI 550.54.14              Driver Version: 550.54.14      CUDA Version: 12.4     |\n",
      "|-----------------------------------------+------------------------+----------------------+\n",
      "| GPU  Name                 Persistence-M | Bus-Id          Disp.A | Volatile Uncorr. ECC |\n",
      "| Fan  Temp   Perf          Pwr:Usage/Cap |           Memory-Usage | GPU-Util  Compute M. |\n",
      "|                                         |                        |               MIG M. |\n",
      "|=========================================+========================+======================|\n",
      "|   0  NVIDIA A100 80GB PCIe          Off |   00000000:21:00.0 Off |                    0 |\n",
      "| N/A   41C    P0             67W /  300W |   30813MiB /  81920MiB |      0%      Default |\n",
      "|                                         |                        |             Disabled |\n",
      "+-----------------------------------------+------------------------+----------------------+\n",
      "|   1  NVIDIA A100 80GB PCIe          Off |   00000000:81:00.0 Off |                    0 |\n",
      "| N/A   34C    P0             47W /  300W |       3MiB /  81920MiB |      0%      Default |\n",
      "|                                         |                        |             Disabled |\n",
      "+-----------------------------------------+------------------------+----------------------+\n",
      "                                                                                         \n",
      "+-----------------------------------------------------------------------------------------+\n",
      "| Processes:                                                                              |\n",
      "|  GPU   GI   CI        PID   Type   Process name                              GPU Memory |\n",
      "|        ID   ID                                                               Usage      |\n",
      "|=========================================================================================|\n",
      "|    0   N/A  N/A   3711979      C   ...nn/anaconda3/envs/mathd2/bin/python      30804MiB |\n",
      "+-----------------------------------------------------------------------------------------+\n"
     ]
    }
   ],
   "source": [
    "!nvidia-smi"
   ]
  },
  {
   "cell_type": "code",
   "execution_count": 8,
   "id": "7855b6e0-644f-4f7e-a059-7498edccc00a",
   "metadata": {},
   "outputs": [
    {
     "name": "stdout",
     "output_type": "stream",
     "text": [
      "Downloading 'original/tokenizer.model' to 'Meta-Llama-3-8B-Instruct/.cache/huggingface/download/original/7iVfz3cUOMr-hyjiqqRDHEwVBAM=.82e9d31979e92ab929cd544440f129d9ecd797b69e327f80f17e1c50d5551b55.incomplete'\n",
      "Downloading 'original/consolidated.00.pth' to 'Meta-Llama-3-8B-Instruct/.cache/huggingface/download/original/_dLw4ih-O1I9AkO57vYC89Z48Os=.be52262c9289304f3e8240e0749bf257bc04264405a86cd4de38efb9068724ee.incomplete'\n",
      "\n",
      "tokenizer.model:   0%|                              | 0.00/2.18M [00:00<?, ?B/s]\u001b[ADownloading 'original/params.json' to 'Meta-Llama-3-8B-Instruct/.cache/huggingface/download/original/jqHB00sRqBVJXCrFOHz5gDS2Bg8=.65f16bb074ab2ba456331a8ea3d50c3fdbf343bf.incomplete'\n",
      "\n",
      "\n",
      "tokenizer.model: 100%|█████████████████████| 2.18M/2.18M [00:00<00:00, 58.2MB/s]\u001b[A\u001b[A\n",
      "Download complete. Moving file to Meta-Llama-3-8B-Instruct/original/tokenizer.model\n",
      "\n",
      "original%2Fparams.json: 100%|██████████████████| 211/211 [00:00<00:00, 2.13MB/s]\u001b[A\n",
      "Download complete. Moving file to Meta-Llama-3-8B-Instruct/original/params.json\n",
      "\n",
      "\n",
      "consolidated.00.pth:   0%|                 | 10.5M/16.1G [00:00<03:06, 86.2MB/s]\u001b[A\u001b[A\n",
      "\n",
      "consolidated.00.pth:   0%|                 | 21.0M/16.1G [00:00<02:51, 93.7MB/s]\u001b[A\u001b[A\n",
      "\n",
      "consolidated.00.pth:   0%|                 | 31.5M/16.1G [00:00<02:44, 97.4MB/s]\u001b[A\u001b[A\n",
      "\n",
      "consolidated.00.pth:   0%|                  | 52.4M/16.1G [00:00<02:29, 107MB/s]\u001b[A\u001b[A\n",
      "\n",
      "consolidated.00.pth:   0%|                  | 73.4M/16.1G [00:00<02:24, 110MB/s]\u001b[A\u001b[A\n",
      "\n",
      "consolidated.00.pth:   1%|                  | 94.4M/16.1G [00:00<02:22, 112MB/s]\u001b[A\u001b[A\n",
      "\n",
      "consolidated.00.pth:   1%|▏                  | 115M/16.1G [00:01<02:21, 113MB/s]\u001b[A\u001b[A\n",
      "\n",
      "consolidated.00.pth:   1%|▏                  | 136M/16.1G [00:01<02:21, 113MB/s]\u001b[A\u001b[A\n",
      "\n",
      "consolidated.00.pth:   1%|▏                  | 157M/16.1G [00:01<02:20, 113MB/s]\u001b[A\u001b[A\n",
      "\n",
      "consolidated.00.pth:   1%|▏                  | 178M/16.1G [00:01<02:20, 113MB/s]\u001b[A\u001b[A\n",
      "\n",
      "consolidated.00.pth:   1%|▏                  | 199M/16.1G [00:01<02:19, 113MB/s]\u001b[A\u001b[A\n",
      "\n",
      "consolidated.00.pth:   1%|▎                  | 220M/16.1G [00:01<02:19, 114MB/s]\u001b[A\u001b[A\n",
      "\n",
      "consolidated.00.pth:   2%|▎                  | 241M/16.1G [00:02<02:21, 112MB/s]\u001b[A\u001b[A\n",
      "\n",
      "consolidated.00.pth:   2%|▎                  | 262M/16.1G [00:02<02:18, 114MB/s]\u001b[A\u001b[A\n",
      "\n",
      "consolidated.00.pth:   2%|▎                  | 283M/16.1G [00:02<02:20, 112MB/s]\u001b[A\u001b[A\n",
      "\n",
      "consolidated.00.pth:   2%|▎                  | 304M/16.1G [00:02<02:19, 113MB/s]\u001b[A\u001b[A\n",
      "\n",
      "consolidated.00.pth:   2%|▍                  | 325M/16.1G [00:02<02:18, 114MB/s]\u001b[A\u001b[A\n",
      "\n",
      "consolidated.00.pth:   2%|▍                  | 346M/16.1G [00:03<02:17, 114MB/s]\u001b[A\u001b[A\n",
      "\n",
      "consolidated.00.pth:   2%|▍                  | 367M/16.1G [00:03<02:18, 113MB/s]\u001b[A\u001b[A\n",
      "\n",
      "consolidated.00.pth:   2%|▍                  | 388M/16.1G [00:03<02:18, 113MB/s]\u001b[A\u001b[A\n",
      "\n",
      "consolidated.00.pth:   3%|▍                  | 409M/16.1G [00:03<02:17, 114MB/s]\u001b[A\u001b[A\n",
      "\n",
      "consolidated.00.pth:   3%|▌                  | 430M/16.1G [00:03<02:17, 114MB/s]\u001b[A\u001b[A\n",
      "\n",
      "consolidated.00.pth:   3%|▌                  | 451M/16.1G [00:04<02:16, 114MB/s]\u001b[A\u001b[A\n",
      "\n",
      "consolidated.00.pth:   3%|▌                  | 472M/16.1G [00:04<02:16, 114MB/s]\u001b[A\u001b[A\n",
      "\n",
      "consolidated.00.pth:   3%|▌                  | 493M/16.1G [00:04<02:17, 113MB/s]\u001b[A\u001b[A\n",
      "\n",
      "consolidated.00.pth:   3%|▌                  | 514M/16.1G [00:04<02:16, 114MB/s]\u001b[A\u001b[A\n",
      "\n",
      "consolidated.00.pth:   3%|▋                  | 535M/16.1G [00:04<02:17, 113MB/s]\u001b[A\u001b[A\n",
      "\n",
      "consolidated.00.pth:   3%|▋                  | 556M/16.1G [00:04<02:16, 113MB/s]\u001b[A\u001b[A\n",
      "\n",
      "consolidated.00.pth:   4%|▋                  | 577M/16.1G [00:05<02:16, 113MB/s]\u001b[A\u001b[A\n",
      "\n",
      "consolidated.00.pth:   4%|▋                  | 598M/16.1G [00:05<02:16, 113MB/s]\u001b[A\u001b[A\n",
      "\n",
      "consolidated.00.pth:   4%|▋                  | 619M/16.1G [00:05<02:16, 113MB/s]\u001b[A\u001b[A\n",
      "\n",
      "consolidated.00.pth:   4%|▊                  | 640M/16.1G [00:05<02:16, 113MB/s]\u001b[A\u001b[A\n",
      "\n",
      "consolidated.00.pth:   4%|▊                  | 661M/16.1G [00:05<02:15, 114MB/s]\u001b[A\u001b[A\n",
      "\n",
      "consolidated.00.pth:   4%|▊                  | 682M/16.1G [00:06<02:15, 114MB/s]\u001b[A\u001b[A\n",
      "\n",
      "consolidated.00.pth:   4%|▊                  | 703M/16.1G [00:06<02:15, 113MB/s]\u001b[A\u001b[A\n",
      "\n",
      "consolidated.00.pth:   5%|▊                  | 724M/16.1G [00:06<02:14, 114MB/s]\u001b[A\u001b[A\n",
      "\n",
      "consolidated.00.pth:   5%|▉                  | 744M/16.1G [00:06<02:14, 114MB/s]\u001b[A\u001b[A\n",
      "\n",
      "consolidated.00.pth:   5%|▉                  | 765M/16.1G [00:06<02:14, 114MB/s]\u001b[A\u001b[A\n",
      "\n",
      "consolidated.00.pth:   5%|▉                  | 786M/16.1G [00:06<02:13, 114MB/s]\u001b[A\u001b[A\n",
      "\n",
      "consolidated.00.pth:   5%|▉                  | 807M/16.1G [00:07<02:13, 114MB/s]\u001b[A\u001b[A\n",
      "\n",
      "consolidated.00.pth:   5%|▉                  | 828M/16.1G [00:07<02:15, 112MB/s]\u001b[A\u001b[A\n",
      "\n",
      "consolidated.00.pth:   5%|█                  | 849M/16.1G [00:07<02:17, 110MB/s]\u001b[A\u001b[A\n",
      "\n",
      "consolidated.00.pth:   5%|█                  | 870M/16.1G [00:07<02:17, 111MB/s]\u001b[A\u001b[A\n",
      "\n",
      "consolidated.00.pth:   6%|█                  | 891M/16.1G [00:07<02:15, 112MB/s]\u001b[A\u001b[A\n",
      "\n",
      "consolidated.00.pth:   6%|█                  | 912M/16.1G [00:08<02:14, 112MB/s]\u001b[A\u001b[A\n",
      "\n",
      "consolidated.00.pth:   6%|█                  | 933M/16.1G [00:08<02:14, 113MB/s]\u001b[A\u001b[A\n",
      "\n",
      "consolidated.00.pth:   6%|█▏                 | 954M/16.1G [00:08<02:13, 113MB/s]\u001b[A\u001b[A\n",
      "\n",
      "consolidated.00.pth:   6%|█▏                 | 975M/16.1G [00:08<02:12, 114MB/s]\u001b[A\u001b[A\n",
      "\n",
      "consolidated.00.pth:   6%|█▏                 | 996M/16.1G [00:08<02:12, 114MB/s]\u001b[A\u001b[A\n",
      "\n",
      "consolidated.00.pth:   6%|█▏                | 1.02G/16.1G [00:09<02:11, 114MB/s]\u001b[A\u001b[A\n",
      "\n",
      "consolidated.00.pth:   6%|█▏                | 1.04G/16.1G [00:09<02:11, 114MB/s]\u001b[A\u001b[A\n",
      "\n",
      "consolidated.00.pth:   7%|█▏                | 1.06G/16.1G [00:09<02:11, 114MB/s]\u001b[A\u001b[A\n",
      "\n",
      "consolidated.00.pth:   7%|█▏                | 1.08G/16.1G [00:09<02:11, 114MB/s]\u001b[A\u001b[A\n",
      "\n",
      "consolidated.00.pth:   7%|█▏                | 1.10G/16.1G [00:09<02:10, 114MB/s]\u001b[A\u001b[A\n",
      "\n",
      "consolidated.00.pth:   7%|█▎                | 1.12G/16.1G [00:09<02:10, 114MB/s]\u001b[A\u001b[A\n",
      "\n",
      "consolidated.00.pth:   7%|█▏               | 1.14G/16.1G [00:10<02:58, 83.6MB/s]\u001b[A\u001b[A\n",
      "\n",
      "consolidated.00.pth:   7%|█▏               | 1.16G/16.1G [00:10<02:49, 87.9MB/s]\u001b[A\u001b[A\n",
      "\n",
      "consolidated.00.pth:   7%|█▏               | 1.17G/16.1G [00:10<02:45, 89.9MB/s]\u001b[A\u001b[A\n",
      "\n",
      "consolidated.00.pth:   7%|█▎               | 1.18G/16.1G [00:10<02:40, 92.5MB/s]\u001b[A\u001b[A\n",
      "\n",
      "consolidated.00.pth:   8%|█▎               | 1.21G/16.1G [00:10<02:38, 93.6MB/s]\u001b[A\u001b[A\n",
      "\n",
      "consolidated.00.pth:   8%|█▎               | 1.22G/16.1G [00:11<02:48, 87.9MB/s]\u001b[A\u001b[A\n",
      "\n",
      "consolidated.00.pth:   8%|█▎               | 1.24G/16.1G [00:11<02:36, 94.5MB/s]\u001b[A\u001b[A\n",
      "\n",
      "consolidated.00.pth:   8%|█▍                | 1.26G/16.1G [00:11<02:27, 101MB/s]\u001b[A\u001b[A\n",
      "\n",
      "consolidated.00.pth:   8%|█▎               | 1.28G/16.1G [00:11<02:29, 98.8MB/s]\u001b[A\u001b[A\n",
      "\n",
      "consolidated.00.pth:   8%|█▎               | 1.29G/16.1G [00:11<02:38, 93.5MB/s]\u001b[A\u001b[A\n",
      "\n",
      "consolidated.00.pth:   8%|█▍               | 1.30G/16.1G [00:12<02:53, 84.9MB/s]\u001b[A\u001b[A\n",
      "\n",
      "consolidated.00.pth:   8%|█▍               | 1.31G/16.1G [00:12<02:50, 86.6MB/s]\u001b[A\u001b[A\n",
      "\n",
      "consolidated.00.pth:   8%|█▍               | 1.32G/16.1G [00:12<02:43, 89.9MB/s]\u001b[A\u001b[A\n",
      "\n",
      "consolidated.00.pth:   8%|█▍               | 1.33G/16.1G [00:12<02:58, 82.4MB/s]\u001b[A\u001b[A\n",
      "\n",
      "consolidated.00.pth:   8%|█▍               | 1.34G/16.1G [00:12<02:48, 87.1MB/s]\u001b[A\u001b[A\n",
      "\n",
      "consolidated.00.pth:   8%|█▍               | 1.36G/16.1G [00:12<02:31, 96.9MB/s]\u001b[A\u001b[A\n",
      "\n",
      "consolidated.00.pth:   9%|█▌                | 1.38G/16.1G [00:12<02:22, 103MB/s]\u001b[A\u001b[A\n",
      "\n",
      "consolidated.00.pth:   9%|█▌                | 1.41G/16.1G [00:13<02:17, 106MB/s]\u001b[A\u001b[A\n",
      "\n",
      "consolidated.00.pth:   9%|█▌                | 1.43G/16.1G [00:13<02:14, 109MB/s]\u001b[A\u001b[A\n",
      "\n",
      "consolidated.00.pth:   9%|█▌                | 1.45G/16.1G [00:13<02:12, 111MB/s]\u001b[A\u001b[A\n",
      "\n",
      "consolidated.00.pth:   9%|█▋                | 1.47G/16.1G [00:13<02:10, 112MB/s]\u001b[A\u001b[A\n",
      "\n",
      "consolidated.00.pth:   9%|█▋                | 1.49G/16.1G [00:13<02:09, 112MB/s]\u001b[A\u001b[A\n",
      "\n",
      "consolidated.00.pth:   9%|█▋                | 1.51G/16.1G [00:13<02:10, 111MB/s]\u001b[A\u001b[A\n",
      "\n",
      "consolidated.00.pth:  10%|█▋                | 1.53G/16.1G [00:14<02:10, 112MB/s]\u001b[A\u001b[A\n",
      "\n",
      "consolidated.00.pth:  10%|█▋                | 1.55G/16.1G [00:14<02:09, 112MB/s]\u001b[A\u001b[A\n",
      "\n",
      "consolidated.00.pth:  10%|█▊                | 1.57G/16.1G [00:14<02:08, 113MB/s]\u001b[A\u001b[A\n",
      "\n",
      "consolidated.00.pth:  10%|█▊                | 1.59G/16.1G [00:14<02:07, 113MB/s]\u001b[A\u001b[A\n",
      "\n",
      "consolidated.00.pth:  10%|█▊                | 1.61G/16.1G [00:14<02:08, 112MB/s]\u001b[A\u001b[A\n",
      "\n",
      "consolidated.00.pth:  10%|█▊                | 1.64G/16.1G [00:15<02:06, 114MB/s]\u001b[A\u001b[A\n",
      "\n",
      "consolidated.00.pth:  10%|█▊                | 1.66G/16.1G [00:15<02:09, 112MB/s]\u001b[A\u001b[A\n",
      "\n",
      "consolidated.00.pth:  10%|█▉                | 1.68G/16.1G [00:15<02:05, 115MB/s]\u001b[A\u001b[A\n",
      "\n",
      "consolidated.00.pth:  11%|█▉                | 1.70G/16.1G [00:15<02:05, 114MB/s]\u001b[A\u001b[A\n",
      "\n",
      "consolidated.00.pth:  11%|█▉                | 1.72G/16.1G [00:15<02:05, 114MB/s]\u001b[A\u001b[A\n",
      "\n",
      "consolidated.00.pth:  11%|█▉                | 1.74G/16.1G [00:16<02:05, 114MB/s]\u001b[A\u001b[A\n",
      "\n",
      "consolidated.00.pth:  11%|█▉                | 1.76G/16.1G [00:16<02:05, 114MB/s]\u001b[A\u001b[A\n",
      "\n",
      "consolidated.00.pth:  11%|█▉                | 1.78G/16.1G [00:16<02:05, 114MB/s]\u001b[A\u001b[A\n",
      "\n",
      "consolidated.00.pth:  11%|██                | 1.80G/16.1G [00:16<02:05, 114MB/s]\u001b[A\u001b[A\n",
      "\n",
      "consolidated.00.pth:  11%|██                | 1.82G/16.1G [00:16<02:04, 114MB/s]\u001b[A\u001b[A\n",
      "\n",
      "consolidated.00.pth:  11%|██                | 1.85G/16.1G [00:16<02:04, 114MB/s]\u001b[A\u001b[A\n",
      "\n",
      "consolidated.00.pth:  12%|██                | 1.87G/16.1G [00:17<02:04, 114MB/s]\u001b[A\u001b[A\n",
      "\n",
      "consolidated.00.pth:  12%|██                | 1.89G/16.1G [00:17<02:04, 114MB/s]\u001b[A\u001b[A\n",
      "\n",
      "consolidated.00.pth:  12%|██▏               | 1.91G/16.1G [00:17<02:04, 114MB/s]\u001b[A\u001b[A\n",
      "\n",
      "consolidated.00.pth:  12%|██▏               | 1.93G/16.1G [00:17<02:04, 114MB/s]\u001b[A\u001b[A\n",
      "\n",
      "consolidated.00.pth:  12%|██▏               | 1.95G/16.1G [00:17<02:03, 114MB/s]\u001b[A\u001b[A\n",
      "\n",
      "consolidated.00.pth:  12%|██▏               | 1.97G/16.1G [00:18<02:03, 114MB/s]\u001b[A\u001b[A\n",
      "\n",
      "consolidated.00.pth:  12%|██▏               | 1.99G/16.1G [00:18<02:03, 114MB/s]\u001b[A\u001b[A\n",
      "\n",
      "consolidated.00.pth:  13%|██▎               | 2.01G/16.1G [00:18<02:04, 113MB/s]\u001b[A\u001b[A\n",
      "\n",
      "consolidated.00.pth:  13%|██▎               | 2.03G/16.1G [00:18<02:03, 114MB/s]\u001b[A\u001b[A\n",
      "\n",
      "consolidated.00.pth:  13%|██▎               | 2.06G/16.1G [00:18<02:03, 113MB/s]\u001b[A\u001b[A\n",
      "\n",
      "consolidated.00.pth:  13%|██▎               | 2.08G/16.1G [00:18<02:02, 114MB/s]\u001b[A\u001b[A\n",
      "\n",
      "consolidated.00.pth:  13%|██▎               | 2.10G/16.1G [00:19<02:02, 114MB/s]\u001b[A\u001b[A\n",
      "\n",
      "consolidated.00.pth:  13%|██▎               | 2.12G/16.1G [00:19<02:03, 113MB/s]\u001b[A\u001b[A\n",
      "\n",
      "consolidated.00.pth:  13%|██▍               | 2.14G/16.1G [00:19<02:03, 113MB/s]\u001b[A\u001b[A\n",
      "\n",
      "consolidated.00.pth:  13%|██▍               | 2.16G/16.1G [00:19<02:01, 114MB/s]\u001b[A\u001b[A\n",
      "\n",
      "consolidated.00.pth:  14%|██▍               | 2.18G/16.1G [00:19<02:01, 114MB/s]\u001b[A\u001b[A\n",
      "\n",
      "consolidated.00.pth:  14%|██▍               | 2.20G/16.1G [00:20<02:02, 113MB/s]\u001b[A\u001b[A\n",
      "\n",
      "consolidated.00.pth:  14%|██▍               | 2.22G/16.1G [00:20<02:02, 113MB/s]\u001b[A\u001b[A\n",
      "\n",
      "consolidated.00.pth:  14%|██▌               | 2.24G/16.1G [00:20<02:02, 113MB/s]\u001b[A\u001b[A\n",
      "\n",
      "consolidated.00.pth:  14%|██▌               | 2.26G/16.1G [00:20<02:02, 113MB/s]\u001b[A\u001b[A\n",
      "\n",
      "consolidated.00.pth:  14%|██▌               | 2.29G/16.1G [00:20<02:01, 114MB/s]\u001b[A\u001b[A\n",
      "\n",
      "consolidated.00.pth:  14%|██▌               | 2.31G/16.1G [00:20<02:00, 114MB/s]\u001b[A\u001b[A\n",
      "\n",
      "consolidated.00.pth:  14%|██▌               | 2.33G/16.1G [00:21<02:00, 114MB/s]\u001b[A\u001b[A\n",
      "\n",
      "consolidated.00.pth:  15%|██▋               | 2.35G/16.1G [00:21<02:00, 114MB/s]\u001b[A\u001b[A\n",
      "\n",
      "consolidated.00.pth:  15%|██▋               | 2.37G/16.1G [00:21<01:59, 114MB/s]\u001b[A\u001b[A\n",
      "\n",
      "consolidated.00.pth:  15%|██▌              | 2.39G/16.1G [00:21<02:42, 83.9MB/s]\u001b[A\u001b[A\n",
      "\n",
      "consolidated.00.pth:  15%|██▌              | 2.40G/16.1G [00:22<02:37, 86.7MB/s]\u001b[A\u001b[A\n",
      "\n",
      "consolidated.00.pth:  15%|██▌              | 2.42G/16.1G [00:22<02:26, 92.9MB/s]\u001b[A\u001b[A\n",
      "\n",
      "consolidated.00.pth:  15%|██▌              | 2.44G/16.1G [00:22<02:17, 99.0MB/s]\u001b[A\u001b[A\n",
      "\n",
      "consolidated.00.pth:  15%|██▊               | 2.46G/16.1G [00:22<02:14, 101MB/s]\u001b[A\u001b[A\n",
      "\n",
      "consolidated.00.pth:  15%|██▊               | 2.49G/16.1G [00:22<02:08, 106MB/s]\u001b[A\u001b[A\n",
      "\n",
      "consolidated.00.pth:  16%|██▊               | 2.51G/16.1G [00:23<02:09, 105MB/s]\u001b[A\u001b[A\n",
      "\n",
      "consolidated.00.pth:  16%|██▋              | 2.53G/16.1G [00:23<02:43, 82.5MB/s]\u001b[A\u001b[A\n",
      "\n",
      "consolidated.00.pth:  16%|██▋              | 2.54G/16.1G [00:23<03:03, 73.7MB/s]\u001b[A\u001b[A\n",
      "\n",
      "consolidated.00.pth:  16%|██▋              | 2.55G/16.1G [00:23<03:09, 71.3MB/s]\u001b[A\u001b[A\n",
      "\n",
      "consolidated.00.pth:  16%|██▋              | 2.56G/16.1G [00:23<03:16, 68.6MB/s]\u001b[A\u001b[A\n",
      "\n",
      "consolidated.00.pth:  16%|██▋              | 2.57G/16.1G [00:24<03:30, 64.2MB/s]\u001b[A\u001b[A\n",
      "\n",
      "consolidated.00.pth:  16%|██▋              | 2.58G/16.1G [00:24<03:28, 64.7MB/s]\u001b[A\u001b[A\n",
      "\n",
      "consolidated.00.pth:  16%|██▋              | 2.59G/16.1G [00:24<03:24, 65.8MB/s]\u001b[A\u001b[A\n",
      "\n",
      "consolidated.00.pth:  16%|██▊              | 2.60G/16.1G [00:24<03:15, 68.9MB/s]\u001b[A\u001b[A\n",
      "\n",
      "consolidated.00.pth:  16%|██▊              | 2.61G/16.1G [00:24<02:59, 75.1MB/s]\u001b[A\u001b[A\n",
      "\n",
      "consolidated.00.pth:  16%|██▊              | 2.62G/16.1G [00:24<02:45, 81.0MB/s]\u001b[A\u001b[A\n",
      "\n",
      "consolidated.00.pth:  16%|██▊              | 2.64G/16.1G [00:24<02:26, 91.4MB/s]\u001b[A\u001b[A\n",
      "\n",
      "consolidated.00.pth:  17%|██▊              | 2.66G/16.1G [00:25<02:14, 99.3MB/s]\u001b[A\u001b[A\n",
      "\n",
      "consolidated.00.pth:  17%|███               | 2.68G/16.1G [00:25<02:08, 104MB/s]\u001b[A\u001b[A\n",
      "\n",
      "consolidated.00.pth:  17%|███               | 2.71G/16.1G [00:25<02:04, 107MB/s]\u001b[A\u001b[A\n",
      "\n",
      "consolidated.00.pth:  17%|███               | 2.73G/16.1G [00:25<02:01, 109MB/s]\u001b[A\u001b[A\n",
      "\n",
      "consolidated.00.pth:  17%|███               | 2.75G/16.1G [00:25<01:59, 111MB/s]\u001b[A\u001b[A\n",
      "\n",
      "consolidated.00.pth:  17%|███               | 2.77G/16.1G [00:26<01:58, 112MB/s]\u001b[A\u001b[A\n",
      "\n",
      "consolidated.00.pth:  17%|███▏              | 2.79G/16.1G [00:26<01:57, 113MB/s]\u001b[A\u001b[A\n",
      "\n",
      "consolidated.00.pth:  17%|███▏              | 2.81G/16.1G [00:26<01:56, 113MB/s]\u001b[A\u001b[A\n",
      "\n",
      "consolidated.00.pth:  18%|███▏              | 2.83G/16.1G [00:26<01:56, 114MB/s]\u001b[A\u001b[A\n",
      "\n",
      "consolidated.00.pth:  18%|███▏              | 2.85G/16.1G [00:26<01:56, 114MB/s]\u001b[A\u001b[A\n",
      "\n",
      "consolidated.00.pth:  18%|███▏              | 2.87G/16.1G [00:26<01:55, 114MB/s]\u001b[A\u001b[A\n",
      "\n",
      "consolidated.00.pth:  18%|███▏              | 2.89G/16.1G [00:27<01:55, 114MB/s]\u001b[A\u001b[A\n",
      "\n",
      "consolidated.00.pth:  18%|███▎              | 2.92G/16.1G [00:27<01:55, 114MB/s]\u001b[A\u001b[A\n",
      "\n",
      "consolidated.00.pth:  18%|███▎              | 2.94G/16.1G [00:27<01:54, 114MB/s]\u001b[A\u001b[A\n",
      "\n",
      "consolidated.00.pth:  18%|███▎              | 2.96G/16.1G [00:27<01:54, 114MB/s]\u001b[A\u001b[A\n",
      "\n",
      "consolidated.00.pth:  19%|███▎              | 2.98G/16.1G [00:27<01:54, 114MB/s]\u001b[A\u001b[A\n",
      "\n",
      "consolidated.00.pth:  19%|███▎              | 3.00G/16.1G [00:28<01:54, 114MB/s]\u001b[A\u001b[A\n",
      "\n",
      "consolidated.00.pth:  19%|███▍              | 3.02G/16.1G [00:28<01:54, 114MB/s]\u001b[A\u001b[A\n",
      "\n",
      "consolidated.00.pth:  19%|███▍              | 3.04G/16.1G [00:28<01:53, 114MB/s]\u001b[A\u001b[A\n",
      "\n",
      "consolidated.00.pth:  19%|███▍              | 3.06G/16.1G [00:28<01:53, 115MB/s]\u001b[A\u001b[A\n",
      "\n",
      "consolidated.00.pth:  19%|███▍              | 3.08G/16.1G [00:28<01:53, 114MB/s]\u001b[A\u001b[A\n",
      "\n",
      "consolidated.00.pth:  19%|███▍              | 3.10G/16.1G [00:29<01:53, 114MB/s]\u001b[A\u001b[A\n",
      "\n",
      "consolidated.00.pth:  19%|███▌              | 3.12G/16.1G [00:29<01:53, 114MB/s]\u001b[A\u001b[A\n",
      "\n",
      "consolidated.00.pth:  20%|███▌              | 3.15G/16.1G [00:29<01:53, 114MB/s]\u001b[A\u001b[A\n",
      "\n",
      "consolidated.00.pth:  20%|███▌              | 3.17G/16.1G [00:29<01:52, 114MB/s]\u001b[A\u001b[A\n",
      "\n",
      "consolidated.00.pth:  20%|███▌              | 3.19G/16.1G [00:29<01:52, 114MB/s]\u001b[A\u001b[A\n",
      "\n",
      "consolidated.00.pth:  20%|███▌              | 3.21G/16.1G [00:29<01:52, 114MB/s]\u001b[A\u001b[A\n",
      "\n",
      "consolidated.00.pth:  20%|███▌              | 3.23G/16.1G [00:30<01:53, 113MB/s]\u001b[A\u001b[A\n",
      "\n",
      "consolidated.00.pth:  20%|███▋              | 3.25G/16.1G [00:30<01:53, 113MB/s]\u001b[A\u001b[A\n",
      "\n",
      "consolidated.00.pth:  20%|███▋              | 3.27G/16.1G [00:30<01:52, 114MB/s]\u001b[A\u001b[A\n",
      "\n",
      "consolidated.00.pth:  21%|███▋              | 3.29G/16.1G [00:30<01:52, 114MB/s]\u001b[A\u001b[A\n",
      "\n",
      "consolidated.00.pth:  21%|███▋              | 3.31G/16.1G [00:30<01:51, 114MB/s]\u001b[A\u001b[A\n",
      "\n",
      "consolidated.00.pth:  21%|███▋              | 3.33G/16.1G [00:31<01:51, 114MB/s]\u001b[A\u001b[A\n",
      "\n",
      "consolidated.00.pth:  21%|███▊              | 3.36G/16.1G [00:31<01:51, 114MB/s]\u001b[A\u001b[A\n",
      "\n",
      "consolidated.00.pth:  21%|███▊              | 3.38G/16.1G [00:31<01:51, 114MB/s]\u001b[A\u001b[A\n",
      "\n",
      "consolidated.00.pth:  21%|███▊              | 3.40G/16.1G [00:31<01:51, 114MB/s]\u001b[A\u001b[A\n",
      "\n",
      "consolidated.00.pth:  21%|███▊              | 3.42G/16.1G [00:31<01:50, 114MB/s]\u001b[A\u001b[A\n",
      "\n",
      "consolidated.00.pth:  21%|███▋             | 3.44G/16.1G [00:32<02:28, 84.9MB/s]\u001b[A\u001b[A\n",
      "\n",
      "consolidated.00.pth:  21%|███▋             | 3.45G/16.1G [00:32<02:25, 86.8MB/s]\u001b[A\u001b[A\n",
      "\n",
      "consolidated.00.pth:  22%|███▋             | 3.46G/16.1G [00:32<02:21, 89.3MB/s]\u001b[A\u001b[A\n",
      "\n",
      "consolidated.00.pth:  22%|███▋             | 3.48G/16.1G [00:32<02:09, 97.2MB/s]\u001b[A\u001b[A\n",
      "\n",
      "consolidated.00.pth:  22%|███▉              | 3.50G/16.1G [00:32<02:02, 103MB/s]\u001b[A\u001b[A\n",
      "\n",
      "consolidated.00.pth:  22%|███▉              | 3.52G/16.1G [00:32<01:58, 106MB/s]\u001b[A\u001b[A\n",
      "\n",
      "consolidated.00.pth:  22%|███▉              | 3.54G/16.1G [00:33<01:55, 109MB/s]\u001b[A\u001b[A\n",
      "\n",
      "consolidated.00.pth:  22%|███▉              | 3.57G/16.1G [00:33<01:53, 110MB/s]\u001b[A\u001b[A\n",
      "\n",
      "consolidated.00.pth:  22%|████              | 3.59G/16.1G [00:33<01:51, 112MB/s]\u001b[A\u001b[A\n",
      "\n",
      "consolidated.00.pth:  22%|████              | 3.61G/16.1G [00:33<01:50, 113MB/s]\u001b[A\u001b[A\n",
      "\n",
      "consolidated.00.pth:  23%|████              | 3.63G/16.1G [00:33<01:49, 113MB/s]\u001b[A\u001b[A\n",
      "\n",
      "consolidated.00.pth:  23%|████              | 3.65G/16.1G [00:34<01:49, 114MB/s]\u001b[A\u001b[A\n",
      "\n",
      "consolidated.00.pth:  23%|████              | 3.67G/16.1G [00:34<01:48, 114MB/s]\u001b[A\u001b[A\n",
      "\n",
      "consolidated.00.pth:  23%|████▏             | 3.69G/16.1G [00:34<01:48, 114MB/s]\u001b[A\u001b[A\n",
      "\n",
      "consolidated.00.pth:  23%|████▏             | 3.71G/16.1G [00:34<01:48, 114MB/s]\u001b[A\u001b[A\n",
      "\n",
      "consolidated.00.pth:  23%|████▏             | 3.73G/16.1G [00:34<01:49, 113MB/s]\u001b[A\u001b[A\n",
      "\n",
      "consolidated.00.pth:  23%|████▏             | 3.75G/16.1G [00:34<01:48, 114MB/s]\u001b[A\u001b[A\n",
      "\n",
      "consolidated.00.pth:  24%|████▏             | 3.77G/16.1G [00:35<01:47, 114MB/s]\u001b[A\u001b[A\n",
      "\n",
      "consolidated.00.pth:  24%|████▎             | 3.80G/16.1G [00:35<01:47, 114MB/s]\u001b[A\u001b[A\n",
      "\n",
      "consolidated.00.pth:  24%|████             | 3.82G/16.1G [00:35<02:15, 90.5MB/s]\u001b[A\u001b[A\n",
      "\n",
      "consolidated.00.pth:  24%|████             | 3.83G/16.1G [00:35<02:28, 82.4MB/s]\u001b[A\u001b[A\n",
      "\n",
      "consolidated.00.pth:  24%|████             | 3.84G/16.1G [00:36<02:46, 73.2MB/s]\u001b[A\u001b[A\n",
      "\n",
      "consolidated.00.pth:  24%|████             | 3.85G/16.1G [00:36<02:44, 74.2MB/s]\u001b[A\u001b[A\n",
      "\n",
      "consolidated.00.pth:  24%|████             | 3.86G/16.1G [00:36<02:34, 78.8MB/s]\u001b[A\u001b[A\n",
      "\n",
      "consolidated.00.pth:  24%|████             | 3.87G/16.1G [00:36<02:26, 83.3MB/s]\u001b[A\u001b[A\n",
      "\n",
      "consolidated.00.pth:  24%|████             | 3.89G/16.1G [00:36<02:09, 93.7MB/s]\u001b[A\u001b[A\n",
      "\n",
      "consolidated.00.pth:  24%|████▏            | 3.90G/16.1G [00:36<02:06, 96.0MB/s]\u001b[A\u001b[A\n",
      "\n",
      "consolidated.00.pth:  24%|████▏            | 3.91G/16.1G [00:36<02:22, 85.5MB/s]\u001b[A\u001b[A\n",
      "\n",
      "consolidated.00.pth:  24%|████▏            | 3.92G/16.1G [00:37<02:38, 76.8MB/s]\u001b[A\u001b[A\n",
      "\n",
      "consolidated.00.pth:  25%|████▏            | 3.94G/16.1G [00:37<02:28, 81.8MB/s]\u001b[A\u001b[A\n",
      "\n",
      "consolidated.00.pth:  25%|████▏            | 3.95G/16.1G [00:37<02:28, 81.5MB/s]\u001b[A\u001b[A\n",
      "\n",
      "consolidated.00.pth:  25%|████▏            | 3.96G/16.1G [00:37<02:42, 74.3MB/s]\u001b[A\u001b[A\n",
      "\n",
      "consolidated.00.pth:  25%|████▏            | 3.97G/16.1G [00:37<02:30, 80.3MB/s]\u001b[A\u001b[A\n",
      "\n",
      "consolidated.00.pth:  25%|████▏            | 4.00G/16.1G [00:37<02:11, 91.5MB/s]\u001b[A\u001b[A\n",
      "\n",
      "consolidated.00.pth:  25%|████▎            | 4.02G/16.1G [00:38<02:01, 99.0MB/s]\u001b[A\u001b[A\n",
      "\n",
      "consolidated.00.pth:  25%|████▌             | 4.04G/16.1G [00:38<01:55, 104MB/s]\u001b[A\u001b[A\n",
      "\n",
      "consolidated.00.pth:  25%|████▌             | 4.06G/16.1G [00:38<01:52, 106MB/s]\u001b[A\u001b[A\n",
      "\n",
      "consolidated.00.pth:  25%|████▌             | 4.08G/16.1G [00:38<01:49, 109MB/s]\u001b[A\u001b[A\n",
      "\n",
      "consolidated.00.pth:  26%|████▌             | 4.10G/16.1G [00:38<01:48, 110MB/s]\u001b[A\u001b[A\n",
      "\n",
      "consolidated.00.pth:  26%|████▌             | 4.12G/16.1G [00:38<01:47, 111MB/s]\u001b[A\u001b[A\n",
      "\n",
      "consolidated.00.pth:  26%|████▋             | 4.14G/16.1G [00:39<01:47, 111MB/s]\u001b[A\u001b[A\n",
      "\n",
      "consolidated.00.pth:  26%|████▋             | 4.16G/16.1G [00:39<01:46, 111MB/s]\u001b[A\u001b[A\n",
      "\n",
      "consolidated.00.pth:  26%|████▋             | 4.18G/16.1G [00:39<01:46, 112MB/s]\u001b[A\u001b[A\n",
      "\n",
      "consolidated.00.pth:  26%|████▋             | 4.20G/16.1G [00:39<01:45, 112MB/s]\u001b[A\u001b[A\n",
      "\n",
      "consolidated.00.pth:  26%|████▋             | 4.23G/16.1G [00:39<01:45, 112MB/s]\u001b[A\u001b[A\n",
      "\n",
      "consolidated.00.pth:  26%|████▊             | 4.25G/16.1G [00:40<01:45, 112MB/s]\u001b[A\u001b[A\n",
      "\n",
      "consolidated.00.pth:  27%|████▊             | 4.27G/16.1G [00:40<01:44, 112MB/s]\u001b[A\u001b[A\n",
      "\n",
      "consolidated.00.pth:  27%|████▊             | 4.29G/16.1G [00:40<01:43, 114MB/s]\u001b[A\u001b[A\n",
      "\n",
      "consolidated.00.pth:  27%|████▊             | 4.31G/16.1G [00:40<01:43, 114MB/s]\u001b[A\u001b[A\n",
      "\n",
      "consolidated.00.pth:  27%|████▊             | 4.33G/16.1G [00:40<01:42, 114MB/s]\u001b[A\u001b[A\n",
      "\n",
      "consolidated.00.pth:  27%|████▉             | 4.35G/16.1G [00:41<01:42, 114MB/s]\u001b[A\u001b[A\n",
      "\n",
      "consolidated.00.pth:  27%|████▉             | 4.37G/16.1G [00:41<01:42, 114MB/s]\u001b[A\u001b[A\n",
      "\n",
      "consolidated.00.pth:  27%|████▉             | 4.39G/16.1G [00:41<01:42, 114MB/s]\u001b[A\u001b[A\n",
      "\n",
      "consolidated.00.pth:  27%|████▉             | 4.41G/16.1G [00:41<01:41, 115MB/s]\u001b[A\u001b[A\n",
      "\n",
      "consolidated.00.pth:  28%|████▉             | 4.44G/16.1G [00:41<01:41, 115MB/s]\u001b[A\u001b[A\n",
      "\n",
      "consolidated.00.pth:  28%|████▉             | 4.46G/16.1G [00:41<01:41, 115MB/s]\u001b[A\u001b[A\n",
      "\n",
      "consolidated.00.pth:  28%|█████             | 4.48G/16.1G [00:42<01:41, 115MB/s]\u001b[A\u001b[A\n",
      "\n",
      "consolidated.00.pth:  28%|█████             | 4.50G/16.1G [00:42<01:41, 114MB/s]\u001b[A\u001b[A\n",
      "\n",
      "consolidated.00.pth:  28%|█████             | 4.52G/16.1G [00:42<01:41, 114MB/s]\u001b[A\u001b[A\n",
      "\n",
      "consolidated.00.pth:  28%|█████             | 4.54G/16.1G [00:42<01:40, 114MB/s]\u001b[A\u001b[A\n",
      "\n",
      "consolidated.00.pth:  28%|█████             | 4.56G/16.1G [00:42<01:40, 114MB/s]\u001b[A\u001b[A\n",
      "\n",
      "consolidated.00.pth:  29%|█████▏            | 4.58G/16.1G [00:43<01:40, 114MB/s]\u001b[A\u001b[A\n",
      "\n",
      "consolidated.00.pth:  29%|█████▏            | 4.60G/16.1G [00:43<01:40, 114MB/s]\u001b[A\u001b[A\n",
      "\n",
      "consolidated.00.pth:  29%|█████▏            | 4.62G/16.1G [00:43<01:40, 114MB/s]\u001b[A\u001b[A\n",
      "\n",
      "consolidated.00.pth:  29%|█████▏            | 4.65G/16.1G [00:43<01:39, 114MB/s]\u001b[A\u001b[A\n",
      "\n",
      "consolidated.00.pth:  29%|█████▏            | 4.67G/16.1G [00:43<01:39, 114MB/s]\u001b[A\u001b[A\n",
      "\n",
      "consolidated.00.pth:  29%|█████▎            | 4.69G/16.1G [00:43<01:39, 114MB/s]\u001b[A\u001b[A\n",
      "\n",
      "consolidated.00.pth:  29%|█████▎            | 4.71G/16.1G [00:44<01:39, 114MB/s]\u001b[A\u001b[A\n",
      "\n",
      "consolidated.00.pth:  29%|█████▎            | 4.73G/16.1G [00:44<01:39, 114MB/s]\u001b[A\u001b[A\n",
      "\n",
      "consolidated.00.pth:  30%|█████▎            | 4.75G/16.1G [00:44<01:39, 114MB/s]\u001b[A\u001b[A\n",
      "\n",
      "consolidated.00.pth:  30%|█████▎            | 4.77G/16.1G [00:44<01:38, 114MB/s]\u001b[A\u001b[A\n",
      "\n",
      "consolidated.00.pth:  30%|█████▎            | 4.79G/16.1G [00:44<01:38, 114MB/s]\u001b[A\u001b[A\n",
      "\n",
      "consolidated.00.pth:  30%|█████▍            | 4.81G/16.1G [00:45<01:38, 114MB/s]\u001b[A\u001b[A\n",
      "\n",
      "consolidated.00.pth:  30%|█████▍            | 4.83G/16.1G [00:45<01:38, 114MB/s]\u001b[A\u001b[A\n",
      "\n",
      "consolidated.00.pth:  30%|█████▍            | 4.85G/16.1G [00:45<01:38, 114MB/s]\u001b[A\u001b[A\n",
      "\n",
      "consolidated.00.pth:  30%|█████▍            | 4.88G/16.1G [00:45<01:37, 114MB/s]\u001b[A\u001b[A\n",
      "\n",
      "consolidated.00.pth:  30%|█████▍            | 4.90G/16.1G [00:45<01:37, 114MB/s]\u001b[A\u001b[A\n",
      "\n",
      "consolidated.00.pth:  31%|█████▌            | 4.92G/16.1G [00:45<01:37, 114MB/s]\u001b[A\u001b[A\n",
      "\n",
      "consolidated.00.pth:  31%|█████▌            | 4.94G/16.1G [00:46<01:37, 114MB/s]\u001b[A\u001b[A\n",
      "\n",
      "consolidated.00.pth:  31%|█████▌            | 4.96G/16.1G [00:46<01:37, 114MB/s]\u001b[A\u001b[A\n",
      "\n",
      "consolidated.00.pth:  31%|█████▌            | 4.98G/16.1G [00:46<01:37, 114MB/s]\u001b[A\u001b[A\n",
      "\n",
      "consolidated.00.pth:  31%|█████▌            | 5.00G/16.1G [00:46<01:36, 114MB/s]\u001b[A\u001b[A\n",
      "\n",
      "consolidated.00.pth:  31%|█████▋            | 5.02G/16.1G [00:46<01:36, 114MB/s]\u001b[A\u001b[A\n",
      "\n",
      "consolidated.00.pth:  31%|█████▋            | 5.04G/16.1G [00:47<01:37, 113MB/s]\u001b[A\u001b[A\n",
      "\n",
      "consolidated.00.pth:  32%|█████▋            | 5.06G/16.1G [00:47<01:35, 115MB/s]\u001b[A\u001b[A\n",
      "\n",
      "consolidated.00.pth:  32%|█████▋            | 5.09G/16.1G [00:47<01:35, 115MB/s]\u001b[A\u001b[A\n",
      "\n",
      "consolidated.00.pth:  32%|█████▋            | 5.11G/16.1G [00:47<01:35, 114MB/s]\u001b[A\u001b[A\n",
      "\n",
      "consolidated.00.pth:  32%|█████▋            | 5.13G/16.1G [00:47<01:45, 104MB/s]\u001b[A\u001b[A\n",
      "\n",
      "consolidated.00.pth:  32%|█████▊            | 5.15G/16.1G [00:48<01:45, 104MB/s]\u001b[A\u001b[A\n",
      "\n",
      "consolidated.00.pth:  32%|█████▊            | 5.17G/16.1G [00:48<01:44, 104MB/s]\u001b[A\u001b[A\n",
      "\n",
      "consolidated.00.pth:  32%|█████▊            | 5.19G/16.1G [00:48<01:41, 107MB/s]\u001b[A\u001b[A\n",
      "\n",
      "consolidated.00.pth:  32%|█████▌           | 5.21G/16.1G [00:48<02:21, 76.7MB/s]\u001b[A\u001b[A\n",
      "\n",
      "consolidated.00.pth:  33%|█████▌           | 5.22G/16.1G [00:49<02:17, 79.1MB/s]\u001b[A\u001b[A\n",
      "\n",
      "consolidated.00.pth:  33%|█████▌           | 5.24G/16.1G [00:49<02:07, 85.2MB/s]\u001b[A\u001b[A\n",
      "\n",
      "consolidated.00.pth:  33%|█████▌           | 5.25G/16.1G [00:49<02:02, 88.3MB/s]\u001b[A\u001b[A\n",
      "\n",
      "consolidated.00.pth:  33%|█████▌           | 5.27G/16.1G [00:49<01:53, 95.1MB/s]\u001b[A\u001b[A\n",
      "\n",
      "consolidated.00.pth:  33%|█████▌           | 5.28G/16.1G [00:49<02:04, 86.3MB/s]\u001b[A\u001b[A\n",
      "\n",
      "consolidated.00.pth:  33%|█████▌           | 5.30G/16.1G [00:49<02:03, 87.4MB/s]\u001b[A\u001b[A\n",
      "\n",
      "consolidated.00.pth:  33%|█████▌           | 5.31G/16.1G [00:49<01:58, 90.6MB/s]\u001b[A\u001b[A\n",
      "\n",
      "consolidated.00.pth:  33%|█████▋           | 5.32G/16.1G [00:49<01:54, 93.6MB/s]\u001b[A\u001b[A\n",
      "\n",
      "consolidated.00.pth:  33%|█████▋           | 5.34G/16.1G [00:50<01:48, 99.3MB/s]\u001b[A\u001b[A\n",
      "\n",
      "consolidated.00.pth:  33%|██████            | 5.36G/16.1G [00:50<01:42, 104MB/s]\u001b[A\u001b[A\n",
      "\n",
      "consolidated.00.pth:  33%|██████            | 5.38G/16.1G [00:50<01:39, 108MB/s]\u001b[A\u001b[A\n",
      "\n",
      "consolidated.00.pth:  34%|██████            | 5.40G/16.1G [00:50<01:37, 109MB/s]\u001b[A\u001b[A\n",
      "\n",
      "consolidated.00.pth:  34%|██████            | 5.42G/16.1G [00:50<01:36, 111MB/s]\u001b[A\u001b[A\n",
      "\n",
      "consolidated.00.pth:  34%|██████            | 5.44G/16.1G [00:51<01:35, 112MB/s]\u001b[A\u001b[A\n",
      "\n",
      "consolidated.00.pth:  34%|██████            | 5.46G/16.1G [00:51<01:34, 113MB/s]\u001b[A\u001b[A\n",
      "\n",
      "consolidated.00.pth:  34%|██████▏           | 5.48G/16.1G [00:51<01:33, 113MB/s]\u001b[A\u001b[A\n",
      "\n",
      "consolidated.00.pth:  34%|██████▏           | 5.51G/16.1G [00:51<01:33, 113MB/s]\u001b[A\u001b[A\n",
      "\n",
      "consolidated.00.pth:  34%|██████▏           | 5.53G/16.1G [00:51<01:33, 113MB/s]\u001b[A\u001b[A\n",
      "\n",
      "consolidated.00.pth:  35%|██████▏           | 5.55G/16.1G [00:52<01:33, 113MB/s]\u001b[A\u001b[A\n",
      "\n",
      "consolidated.00.pth:  35%|██████▏           | 5.57G/16.1G [00:52<01:32, 113MB/s]\u001b[A\u001b[A\n",
      "\n",
      "consolidated.00.pth:  35%|██████▎           | 5.59G/16.1G [00:52<01:32, 113MB/s]\u001b[A\u001b[A\n",
      "\n",
      "consolidated.00.pth:  35%|██████▎           | 5.61G/16.1G [00:52<01:32, 114MB/s]\u001b[A\u001b[A\n",
      "\n",
      "consolidated.00.pth:  35%|██████▎           | 5.63G/16.1G [00:52<01:31, 113MB/s]\u001b[A\u001b[A\n",
      "\n",
      "consolidated.00.pth:  35%|██████▎           | 5.65G/16.1G [00:52<01:32, 113MB/s]\u001b[A\u001b[A\n",
      "\n",
      "consolidated.00.pth:  35%|██████▎           | 5.67G/16.1G [00:53<01:32, 113MB/s]\u001b[A\u001b[A\n",
      "\n",
      "consolidated.00.pth:  35%|██████▍           | 5.69G/16.1G [00:53<01:31, 113MB/s]\u001b[A\u001b[A\n",
      "\n",
      "consolidated.00.pth:  36%|██████▍           | 5.71G/16.1G [00:53<01:31, 113MB/s]\u001b[A\u001b[A\n",
      "\n",
      "consolidated.00.pth:  36%|██████▍           | 5.74G/16.1G [00:53<01:31, 113MB/s]\u001b[A\u001b[A\n",
      "\n",
      "consolidated.00.pth:  36%|██████▍           | 5.76G/16.1G [00:53<01:30, 114MB/s]\u001b[A\u001b[A\n",
      "\n",
      "consolidated.00.pth:  36%|██████▍           | 5.78G/16.1G [00:54<01:30, 114MB/s]\u001b[A\u001b[A\n",
      "\n",
      "consolidated.00.pth:  36%|██████▍           | 5.80G/16.1G [00:54<01:30, 114MB/s]\u001b[A\u001b[A\n",
      "\n",
      "consolidated.00.pth:  36%|██████▌           | 5.82G/16.1G [00:54<01:29, 114MB/s]\u001b[A\u001b[A\n",
      "\n",
      "consolidated.00.pth:  36%|██████▌           | 5.84G/16.1G [00:54<01:29, 114MB/s]\u001b[A\u001b[A\n",
      "\n",
      "consolidated.00.pth:  36%|██████▌           | 5.86G/16.1G [00:54<01:29, 114MB/s]\u001b[A\u001b[A\n",
      "\n",
      "consolidated.00.pth:  37%|██████▌           | 5.88G/16.1G [00:54<01:29, 113MB/s]\u001b[A\u001b[A\n",
      "\n",
      "consolidated.00.pth:  37%|██████▌           | 5.90G/16.1G [00:55<01:30, 112MB/s]\u001b[A\u001b[A\n",
      "\n",
      "consolidated.00.pth:  37%|██████▋           | 5.92G/16.1G [00:55<01:28, 114MB/s]\u001b[A\u001b[A\n",
      "\n",
      "consolidated.00.pth:  37%|██████▋           | 5.95G/16.1G [00:55<01:28, 114MB/s]\u001b[A\u001b[A\n",
      "\n",
      "consolidated.00.pth:  37%|██████▋           | 5.97G/16.1G [00:55<01:28, 114MB/s]\u001b[A\u001b[A\n",
      "\n",
      "consolidated.00.pth:  37%|██████▋           | 5.99G/16.1G [00:55<01:28, 114MB/s]\u001b[A\u001b[A\n",
      "\n",
      "consolidated.00.pth:  37%|██████▋           | 6.01G/16.1G [00:56<01:28, 114MB/s]\u001b[A\u001b[A\n",
      "\n",
      "consolidated.00.pth:  38%|██████▊           | 6.03G/16.1G [00:56<01:28, 114MB/s]\u001b[A\u001b[A\n",
      "\n",
      "consolidated.00.pth:  38%|██████▊           | 6.05G/16.1G [00:56<01:27, 114MB/s]\u001b[A\u001b[A\n",
      "\n",
      "consolidated.00.pth:  38%|██████▊           | 6.07G/16.1G [00:56<01:27, 114MB/s]\u001b[A\u001b[A\n",
      "\n",
      "consolidated.00.pth:  38%|██████▊           | 6.09G/16.1G [00:56<01:27, 114MB/s]\u001b[A\u001b[A\n",
      "\n",
      "consolidated.00.pth:  38%|██████▊           | 6.11G/16.1G [00:57<01:27, 114MB/s]\u001b[A\u001b[A\n",
      "\n",
      "consolidated.00.pth:  38%|██████▊           | 6.13G/16.1G [00:57<01:27, 113MB/s]\u001b[A\u001b[A\n",
      "\n",
      "consolidated.00.pth:  38%|██████▉           | 6.16G/16.1G [00:57<01:27, 113MB/s]\u001b[A\u001b[A\n",
      "\n",
      "consolidated.00.pth:  38%|██████▉           | 6.18G/16.1G [00:57<01:26, 114MB/s]\u001b[A\u001b[A\n",
      "\n",
      "consolidated.00.pth:  39%|██████▉           | 6.20G/16.1G [00:57<01:26, 114MB/s]\u001b[A\u001b[A\n",
      "\n",
      "consolidated.00.pth:  39%|██████▉           | 6.22G/16.1G [00:57<01:26, 114MB/s]\u001b[A\u001b[A\n",
      "\n",
      "consolidated.00.pth:  39%|██████▉           | 6.24G/16.1G [00:58<01:27, 113MB/s]\u001b[A\u001b[A\n",
      "\n",
      "consolidated.00.pth:  39%|███████           | 6.26G/16.1G [00:58<01:27, 112MB/s]\u001b[A\u001b[A\n",
      "\n",
      "consolidated.00.pth:  39%|███████           | 6.28G/16.1G [00:58<01:26, 113MB/s]\u001b[A\u001b[A\n",
      "\n",
      "consolidated.00.pth:  39%|███████           | 6.30G/16.1G [00:58<01:26, 113MB/s]\u001b[A\u001b[A\n",
      "\n",
      "consolidated.00.pth:  39%|██████▋          | 6.32G/16.1G [00:59<01:55, 84.2MB/s]\u001b[A\u001b[A\n",
      "\n",
      "consolidated.00.pth:  39%|██████▋          | 6.33G/16.1G [00:59<01:52, 86.4MB/s]\u001b[A\u001b[A\n",
      "\n",
      "consolidated.00.pth:  40%|██████▋          | 6.35G/16.1G [00:59<01:43, 93.9MB/s]\u001b[A\u001b[A\n",
      "\n",
      "consolidated.00.pth:  40%|██████▋          | 6.38G/16.1G [00:59<01:37, 99.7MB/s]\u001b[A\u001b[A\n",
      "\n",
      "consolidated.00.pth:  40%|███████▏          | 6.40G/16.1G [00:59<01:32, 104MB/s]\u001b[A\u001b[A\n",
      "\n",
      "consolidated.00.pth:  40%|███████▏          | 6.42G/16.1G [00:59<01:30, 107MB/s]\u001b[A\u001b[A\n",
      "\n",
      "consolidated.00.pth:  40%|███████▏          | 6.44G/16.1G [01:00<01:28, 109MB/s]\u001b[A\u001b[A\n",
      "\n",
      "consolidated.00.pth:  40%|███████▏          | 6.46G/16.1G [01:00<01:26, 111MB/s]\u001b[A\u001b[A\n",
      "\n",
      "consolidated.00.pth:  40%|███████▎          | 6.48G/16.1G [01:00<01:33, 102MB/s]\u001b[A\u001b[A\n",
      "\n",
      "consolidated.00.pth:  40%|███████▎          | 6.49G/16.1G [01:00<01:35, 101MB/s]\u001b[A\u001b[A\n",
      "\n",
      "consolidated.00.pth:  41%|███████▎          | 6.51G/16.1G [01:00<01:31, 104MB/s]\u001b[A\u001b[A\n",
      "\n",
      "consolidated.00.pth:  41%|██████▉          | 6.52G/16.1G [01:01<01:43, 92.2MB/s]\u001b[A\u001b[A\n",
      "\n",
      "consolidated.00.pth:  41%|██████▉          | 6.53G/16.1G [01:01<01:42, 93.0MB/s]\u001b[A\u001b[A\n",
      "\n",
      "consolidated.00.pth:  41%|██████▉          | 6.54G/16.1G [01:01<01:41, 93.6MB/s]\u001b[A\u001b[A\n",
      "\n",
      "consolidated.00.pth:  41%|██████▉          | 6.55G/16.1G [01:01<01:58, 80.4MB/s]\u001b[A\u001b[A\n",
      "\n",
      "consolidated.00.pth:  41%|██████▉          | 6.56G/16.1G [01:01<01:55, 82.4MB/s]\u001b[A\u001b[A\n",
      "\n",
      "consolidated.00.pth:  41%|██████▉          | 6.59G/16.1G [01:01<01:39, 95.1MB/s]\u001b[A\u001b[A\n",
      "\n",
      "consolidated.00.pth:  41%|███████▍          | 6.61G/16.1G [01:01<01:33, 102MB/s]\u001b[A\u001b[A\n",
      "\n",
      "consolidated.00.pth:  41%|███████          | 6.62G/16.1G [01:01<01:35, 98.9MB/s]\u001b[A\u001b[A\n",
      "\n",
      "consolidated.00.pth:  41%|███████          | 6.63G/16.1G [01:02<01:50, 85.7MB/s]\u001b[A\u001b[A\n",
      "\n",
      "consolidated.00.pth:  41%|███████          | 6.64G/16.1G [01:02<01:45, 89.6MB/s]\u001b[A\u001b[A\n",
      "\n",
      "consolidated.00.pth:  41%|███████          | 6.66G/16.1G [01:02<01:37, 96.5MB/s]\u001b[A\u001b[A\n",
      "\n",
      "consolidated.00.pth:  42%|███████          | 6.68G/16.1G [01:02<01:36, 97.2MB/s]\u001b[A\u001b[A\n",
      "\n",
      "consolidated.00.pth:  42%|███████          | 6.69G/16.1G [01:02<01:51, 83.8MB/s]\u001b[A\u001b[A\n",
      "\n",
      "consolidated.00.pth:  42%|███████          | 6.70G/16.1G [01:02<01:47, 86.8MB/s]\u001b[A\u001b[A\n",
      "\n",
      "consolidated.00.pth:  42%|███████          | 6.71G/16.1G [01:03<01:43, 90.2MB/s]\u001b[A\u001b[A\n",
      "\n",
      "consolidated.00.pth:  42%|███████▏         | 6.73G/16.1G [01:03<01:34, 98.8MB/s]\u001b[A\u001b[A\n",
      "\n",
      "consolidated.00.pth:  42%|███████▌          | 6.75G/16.1G [01:03<01:29, 104MB/s]\u001b[A\u001b[A\n",
      "\n",
      "consolidated.00.pth:  42%|███████▌          | 6.77G/16.1G [01:03<01:26, 107MB/s]\u001b[A\u001b[A\n",
      "\n",
      "consolidated.00.pth:  42%|███████▌          | 6.79G/16.1G [01:03<01:24, 109MB/s]\u001b[A\u001b[A\n",
      "\n",
      "consolidated.00.pth:  42%|███████▋          | 6.82G/16.1G [01:04<01:23, 111MB/s]\u001b[A\u001b[A\n",
      "\n",
      "consolidated.00.pth:  43%|███████▋          | 6.84G/16.1G [01:04<01:22, 112MB/s]\u001b[A\u001b[A\n",
      "\n",
      "consolidated.00.pth:  43%|███████▋          | 6.86G/16.1G [01:04<01:21, 113MB/s]\u001b[A\u001b[A\n",
      "\n",
      "consolidated.00.pth:  43%|███████▋          | 6.88G/16.1G [01:04<01:21, 113MB/s]\u001b[A\u001b[A\n",
      "\n",
      "consolidated.00.pth:  43%|███████▋          | 6.90G/16.1G [01:04<01:22, 111MB/s]\u001b[A\u001b[A\n",
      "\n",
      "consolidated.00.pth:  43%|███████▊          | 6.92G/16.1G [01:04<01:20, 114MB/s]\u001b[A\u001b[A\n",
      "\n",
      "consolidated.00.pth:  43%|███████▊          | 6.94G/16.1G [01:05<01:19, 114MB/s]\u001b[A\u001b[A\n",
      "\n",
      "consolidated.00.pth:  43%|███████▊          | 6.96G/16.1G [01:05<01:19, 114MB/s]\u001b[A\u001b[A\n",
      "\n",
      "consolidated.00.pth:  43%|███████▊          | 6.98G/16.1G [01:05<01:19, 114MB/s]\u001b[A\u001b[A\n",
      "\n",
      "consolidated.00.pth:  44%|███████▊          | 7.00G/16.1G [01:05<01:19, 114MB/s]\u001b[A\u001b[A\n",
      "\n",
      "consolidated.00.pth:  44%|███████▊          | 7.03G/16.1G [01:05<01:19, 114MB/s]\u001b[A\u001b[A\n",
      "\n",
      "consolidated.00.pth:  44%|███████▉          | 7.05G/16.1G [01:06<01:19, 114MB/s]\u001b[A\u001b[A\n",
      "\n",
      "consolidated.00.pth:  44%|███████▉          | 7.07G/16.1G [01:06<01:19, 114MB/s]\u001b[A\u001b[A\n",
      "\n",
      "consolidated.00.pth:  44%|███████▉          | 7.09G/16.1G [01:06<01:18, 114MB/s]\u001b[A\u001b[A\n",
      "\n",
      "consolidated.00.pth:  44%|███████▉          | 7.11G/16.1G [01:06<01:18, 114MB/s]\u001b[A\u001b[A\n",
      "\n",
      "consolidated.00.pth:  44%|███████▉          | 7.13G/16.1G [01:06<01:18, 114MB/s]\u001b[A\u001b[A\n",
      "\n",
      "consolidated.00.pth:  45%|████████          | 7.15G/16.1G [01:06<01:18, 114MB/s]\u001b[A\u001b[A\n",
      "\n",
      "consolidated.00.pth:  45%|████████          | 7.17G/16.1G [01:07<01:17, 114MB/s]\u001b[A\u001b[A\n",
      "\n",
      "consolidated.00.pth:  45%|████████          | 7.19G/16.1G [01:07<01:17, 114MB/s]\u001b[A\u001b[A\n",
      "\n",
      "consolidated.00.pth:  45%|████████          | 7.21G/16.1G [01:07<01:17, 114MB/s]\u001b[A\u001b[A\n",
      "\n",
      "consolidated.00.pth:  45%|████████          | 7.24G/16.1G [01:07<01:17, 114MB/s]\u001b[A\u001b[A\n",
      "\n",
      "consolidated.00.pth:  45%|████████▏         | 7.26G/16.1G [01:07<01:17, 114MB/s]\u001b[A\u001b[A\n",
      "\n",
      "consolidated.00.pth:  45%|████████▏         | 7.28G/16.1G [01:08<01:16, 114MB/s]\u001b[A\u001b[A\n",
      "\n",
      "consolidated.00.pth:  45%|████████▏         | 7.30G/16.1G [01:08<01:17, 113MB/s]\u001b[A\u001b[A\n",
      "\n",
      "consolidated.00.pth:  46%|████████▏         | 7.32G/16.1G [01:08<01:16, 115MB/s]\u001b[A\u001b[A\n",
      "\n",
      "consolidated.00.pth:  46%|████████▏         | 7.34G/16.1G [01:08<01:16, 115MB/s]\u001b[A\u001b[A\n",
      "\n",
      "consolidated.00.pth:  46%|████████▏         | 7.36G/16.1G [01:08<01:16, 114MB/s]\u001b[A\u001b[A\n",
      "\n",
      "consolidated.00.pth:  46%|████████▎         | 7.38G/16.1G [01:08<01:15, 114MB/s]\u001b[A\u001b[A\n",
      "\n",
      "consolidated.00.pth:  46%|████████▎         | 7.40G/16.1G [01:09<01:15, 114MB/s]\u001b[A\u001b[A\n",
      "\n",
      "consolidated.00.pth:  46%|████████▎         | 7.42G/16.1G [01:09<01:17, 111MB/s]\u001b[A\u001b[A\n",
      "\n",
      "consolidated.00.pth:  46%|████████▎         | 7.44G/16.1G [01:09<01:16, 112MB/s]\u001b[A\u001b[A\n",
      "\n",
      "consolidated.00.pth:  46%|████████▎         | 7.47G/16.1G [01:09<01:16, 113MB/s]\u001b[A\u001b[A\n",
      "\n",
      "consolidated.00.pth:  47%|████████▍         | 7.49G/16.1G [01:09<01:16, 112MB/s]\u001b[A\u001b[A\n",
      "\n",
      "consolidated.00.pth:  47%|████████▍         | 7.51G/16.1G [01:10<01:15, 113MB/s]\u001b[A\u001b[A\n",
      "\n",
      "consolidated.00.pth:  47%|████████▍         | 7.53G/16.1G [01:10<01:15, 113MB/s]\u001b[A\u001b[A\n",
      "\n",
      "consolidated.00.pth:  47%|████████▍         | 7.55G/16.1G [01:10<01:17, 110MB/s]\u001b[A\u001b[A\n",
      "\n",
      "consolidated.00.pth:  47%|████████▍         | 7.57G/16.1G [01:10<01:16, 111MB/s]\u001b[A\u001b[A\n",
      "\n",
      "consolidated.00.pth:  47%|████████▌         | 7.59G/16.1G [01:10<01:16, 111MB/s]\u001b[A\u001b[A\n",
      "\n",
      "consolidated.00.pth:  47%|████████▌         | 7.61G/16.1G [01:11<01:16, 110MB/s]\u001b[A\u001b[A\n",
      "\n",
      "consolidated.00.pth:  48%|████████▌         | 7.63G/16.1G [01:11<01:16, 110MB/s]\u001b[A\u001b[A\n",
      "\n",
      "consolidated.00.pth:  48%|████████▌         | 7.65G/16.1G [01:11<01:16, 110MB/s]\u001b[A\u001b[A\n",
      "\n",
      "consolidated.00.pth:  48%|████████▌         | 7.68G/16.1G [01:11<01:16, 110MB/s]\u001b[A\u001b[A\n",
      "\n",
      "consolidated.00.pth:  48%|████████▋         | 7.70G/16.1G [01:11<01:15, 110MB/s]\u001b[A\u001b[A\n",
      "\n",
      "consolidated.00.pth:  48%|████████▋         | 7.72G/16.1G [01:11<01:15, 111MB/s]\u001b[A\u001b[A\n",
      "\n",
      "consolidated.00.pth:  48%|████████▋         | 7.74G/16.1G [01:12<01:15, 110MB/s]\u001b[A\u001b[A\n",
      "\n",
      "consolidated.00.pth:  48%|████████▋         | 7.76G/16.1G [01:12<01:15, 110MB/s]\u001b[A\u001b[A\n",
      "\n",
      "consolidated.00.pth:  48%|████████▋         | 7.78G/16.1G [01:12<01:15, 109MB/s]\u001b[A\u001b[A\n",
      "\n",
      "consolidated.00.pth:  49%|████████▋         | 7.80G/16.1G [01:12<01:14, 111MB/s]\u001b[A\u001b[A\n",
      "\n",
      "consolidated.00.pth:  49%|████████▊         | 7.82G/16.1G [01:12<01:13, 111MB/s]\u001b[A\u001b[A\n",
      "\n",
      "consolidated.00.pth:  49%|████████▊         | 7.84G/16.1G [01:13<01:13, 112MB/s]\u001b[A\u001b[A\n",
      "\n",
      "consolidated.00.pth:  49%|████████▊         | 7.86G/16.1G [01:13<01:12, 112MB/s]\u001b[A\u001b[A\n",
      "\n",
      "consolidated.00.pth:  49%|████████▊         | 7.89G/16.1G [01:13<01:20, 102MB/s]\u001b[A\u001b[A\n",
      "\n",
      "consolidated.00.pth:  49%|████████▎        | 7.91G/16.1G [01:13<01:25, 95.5MB/s]\u001b[A\u001b[A\n",
      "\n",
      "consolidated.00.pth:  49%|████████▍        | 7.92G/16.1G [01:13<01:33, 87.5MB/s]\u001b[A\u001b[A\n",
      "\n",
      "consolidated.00.pth:  49%|████████▍        | 7.93G/16.1G [01:14<01:31, 88.7MB/s]\u001b[A\u001b[A\n",
      "\n",
      "consolidated.00.pth:  49%|████████▍        | 7.94G/16.1G [01:14<01:28, 91.5MB/s]\u001b[A\u001b[A\n",
      "\n",
      "consolidated.00.pth:  50%|████████▍        | 7.96G/16.1G [01:14<01:21, 99.0MB/s]\u001b[A\u001b[A\n",
      "\n",
      "consolidated.00.pth:  50%|████████▉         | 7.98G/16.1G [01:14<01:19, 102MB/s]\u001b[A\u001b[A\n",
      "\n",
      "consolidated.00.pth:  50%|████████▉         | 8.00G/16.1G [01:14<01:15, 107MB/s]\u001b[A\u001b[A\n",
      "\n",
      "consolidated.00.pth:  50%|████████▉         | 8.02G/16.1G [01:14<01:13, 109MB/s]\u001b[A\u001b[A\n",
      "\n",
      "consolidated.00.pth:  50%|█████████         | 8.04G/16.1G [01:15<01:12, 111MB/s]\u001b[A\u001b[A\n",
      "\n",
      "consolidated.00.pth:  50%|█████████         | 8.06G/16.1G [01:15<01:14, 107MB/s]\u001b[A\u001b[A\n",
      "\n",
      "consolidated.00.pth:  50%|████████▌        | 8.08G/16.1G [01:15<01:27, 91.7MB/s]\u001b[A\u001b[A\n",
      "\n",
      "consolidated.00.pth:  50%|████████▌        | 8.10G/16.1G [01:15<01:25, 92.9MB/s]\u001b[A\u001b[A\n",
      "\n",
      "consolidated.00.pth:  51%|████████▌        | 8.12G/16.1G [01:15<01:21, 98.0MB/s]\u001b[A\u001b[A\n",
      "\n",
      "consolidated.00.pth:  51%|█████████         | 8.14G/16.1G [01:16<01:17, 103MB/s]\u001b[A\u001b[A\n",
      "\n",
      "consolidated.00.pth:  51%|█████████▏        | 8.16G/16.1G [01:16<01:14, 106MB/s]\u001b[A\u001b[A\n",
      "\n",
      "consolidated.00.pth:  51%|█████████▏        | 8.18G/16.1G [01:16<01:12, 109MB/s]\u001b[A\u001b[A\n",
      "\n",
      "consolidated.00.pth:  51%|█████████▏        | 8.20G/16.1G [01:16<01:11, 110MB/s]\u001b[A\u001b[A\n",
      "\n",
      "consolidated.00.pth:  51%|█████████▏        | 8.22G/16.1G [01:16<01:10, 111MB/s]\u001b[A\u001b[A\n",
      "\n",
      "consolidated.00.pth:  51%|█████████▏        | 8.24G/16.1G [01:17<01:09, 112MB/s]\u001b[A\u001b[A\n",
      "\n",
      "consolidated.00.pth:  51%|█████████▎        | 8.26G/16.1G [01:17<01:09, 113MB/s]\u001b[A\u001b[A\n",
      "\n",
      "consolidated.00.pth:  52%|█████████▎        | 8.28G/16.1G [01:17<01:08, 113MB/s]\u001b[A\u001b[A\n",
      "\n",
      "consolidated.00.pth:  52%|█████████▎        | 8.30G/16.1G [01:17<01:08, 113MB/s]\u001b[A\u001b[A\n",
      "\n",
      "consolidated.00.pth:  52%|█████████▎        | 8.33G/16.1G [01:17<01:08, 113MB/s]\u001b[A\u001b[A\n",
      "\n",
      "consolidated.00.pth:  52%|█████████▎        | 8.35G/16.1G [01:17<01:07, 114MB/s]\u001b[A\u001b[A\n",
      "\n",
      "consolidated.00.pth:  52%|█████████▍        | 8.37G/16.1G [01:18<01:07, 114MB/s]\u001b[A\u001b[A\n",
      "\n",
      "consolidated.00.pth:  52%|█████████▍        | 8.39G/16.1G [01:18<01:07, 114MB/s]\u001b[A\u001b[A\n",
      "\n",
      "consolidated.00.pth:  52%|█████████▍        | 8.41G/16.1G [01:18<01:06, 114MB/s]\u001b[A\u001b[A\n",
      "\n",
      "consolidated.00.pth:  52%|█████████▍        | 8.43G/16.1G [01:18<01:08, 111MB/s]\u001b[A\u001b[A\n",
      "\n",
      "consolidated.00.pth:  53%|█████████▍        | 8.45G/16.1G [01:18<01:07, 112MB/s]\u001b[A\u001b[A\n",
      "\n",
      "consolidated.00.pth:  53%|█████████▍        | 8.47G/16.1G [01:19<01:07, 113MB/s]\u001b[A\u001b[A\n",
      "\n",
      "consolidated.00.pth:  53%|█████████▌        | 8.49G/16.1G [01:19<01:07, 113MB/s]\u001b[A\u001b[A\n",
      "\n",
      "consolidated.00.pth:  53%|█████████▌        | 8.51G/16.1G [01:19<01:06, 113MB/s]\u001b[A\u001b[A\n",
      "\n",
      "consolidated.00.pth:  53%|█████████▌        | 8.54G/16.1G [01:19<01:06, 113MB/s]\u001b[A\u001b[A\n",
      "\n",
      "consolidated.00.pth:  53%|█████████▌        | 8.56G/16.1G [01:19<01:06, 113MB/s]\u001b[A\u001b[A\n",
      "\n",
      "consolidated.00.pth:  53%|█████████▌        | 8.58G/16.1G [01:19<01:05, 114MB/s]\u001b[A\u001b[A\n",
      "\n",
      "consolidated.00.pth:  54%|█████████▋        | 8.60G/16.1G [01:20<01:07, 111MB/s]\u001b[A\u001b[A\n",
      "\n",
      "consolidated.00.pth:  54%|█████████▋        | 8.62G/16.1G [01:20<01:06, 112MB/s]\u001b[A\u001b[A\n",
      "\n",
      "consolidated.00.pth:  54%|█████████▋        | 8.64G/16.1G [01:20<01:06, 111MB/s]\u001b[A\u001b[A\n",
      "\n",
      "consolidated.00.pth:  54%|█████████▋        | 8.66G/16.1G [01:20<01:05, 112MB/s]\u001b[A\u001b[A\n",
      "\n",
      "consolidated.00.pth:  54%|█████████▋        | 8.68G/16.1G [01:20<01:05, 113MB/s]\u001b[A\u001b[A\n",
      "\n",
      "consolidated.00.pth:  54%|█████████▊        | 8.70G/16.1G [01:21<01:05, 113MB/s]\u001b[A\u001b[A\n",
      "\n",
      "consolidated.00.pth:  54%|█████████▊        | 8.72G/16.1G [01:21<01:05, 112MB/s]\u001b[A\u001b[A\n",
      "\n",
      "consolidated.00.pth:  54%|█████████▊        | 8.75G/16.1G [01:21<01:05, 112MB/s]\u001b[A\u001b[A\n",
      "\n",
      "consolidated.00.pth:  55%|█████████▊        | 8.77G/16.1G [01:21<01:04, 112MB/s]\u001b[A\u001b[A\n",
      "\n",
      "consolidated.00.pth:  55%|█████████▊        | 8.79G/16.1G [01:21<01:04, 113MB/s]\u001b[A\u001b[A\n",
      "\n",
      "consolidated.00.pth:  55%|█████████▊        | 8.81G/16.1G [01:22<01:04, 113MB/s]\u001b[A\u001b[A\n",
      "\n",
      "consolidated.00.pth:  55%|█████████▉        | 8.83G/16.1G [01:22<01:03, 113MB/s]\u001b[A\u001b[A\n",
      "\n",
      "consolidated.00.pth:  55%|█████████▉        | 8.85G/16.1G [01:22<01:03, 114MB/s]\u001b[A\u001b[A\n",
      "\n",
      "consolidated.00.pth:  55%|█████████▉        | 8.87G/16.1G [01:22<01:03, 114MB/s]\u001b[A\u001b[A\n",
      "\n",
      "consolidated.00.pth:  55%|█████████▉        | 8.89G/16.1G [01:22<01:02, 114MB/s]\u001b[A\u001b[A\n",
      "\n",
      "consolidated.00.pth:  55%|█████████▉        | 8.91G/16.1G [01:22<01:03, 113MB/s]\u001b[A\u001b[A\n",
      "\n",
      "consolidated.00.pth:  56%|██████████        | 8.93G/16.1G [01:23<01:02, 113MB/s]\u001b[A\u001b[A\n",
      "\n",
      "consolidated.00.pth:  56%|██████████        | 8.95G/16.1G [01:23<01:02, 114MB/s]\u001b[A\u001b[A\n",
      "\n",
      "consolidated.00.pth:  56%|██████████        | 8.98G/16.1G [01:23<01:02, 114MB/s]\u001b[A\u001b[A\n",
      "\n",
      "consolidated.00.pth:  56%|██████████        | 9.00G/16.1G [01:23<01:01, 114MB/s]\u001b[A\u001b[A\n",
      "\n",
      "consolidated.00.pth:  56%|██████████        | 9.02G/16.1G [01:23<01:01, 114MB/s]\u001b[A\u001b[A\n",
      "\n",
      "consolidated.00.pth:  56%|██████████▏       | 9.04G/16.1G [01:24<01:02, 112MB/s]\u001b[A\u001b[A\n",
      "\n",
      "consolidated.00.pth:  56%|██████████▏       | 9.06G/16.1G [01:24<01:01, 113MB/s]\u001b[A\u001b[A\n",
      "\n",
      "consolidated.00.pth:  57%|██████████▏       | 9.08G/16.1G [01:24<01:01, 113MB/s]\u001b[A\u001b[A\n",
      "\n",
      "consolidated.00.pth:  57%|██████████▏       | 9.10G/16.1G [01:24<01:01, 114MB/s]\u001b[A\u001b[A\n",
      "\n",
      "consolidated.00.pth:  57%|██████████▏       | 9.12G/16.1G [01:24<01:01, 113MB/s]\u001b[A\u001b[A\n",
      "\n",
      "consolidated.00.pth:  57%|██████████▏       | 9.14G/16.1G [01:25<01:00, 114MB/s]\u001b[A\u001b[A\n",
      "\n",
      "consolidated.00.pth:  57%|██████████▎       | 9.16G/16.1G [01:25<01:00, 114MB/s]\u001b[A\u001b[A\n",
      "\n",
      "consolidated.00.pth:  57%|██████████▎       | 9.19G/16.1G [01:25<01:00, 114MB/s]\u001b[A\u001b[A\n",
      "\n",
      "consolidated.00.pth:  57%|█████████▋       | 9.21G/16.1G [01:25<01:22, 83.1MB/s]\u001b[A\u001b[A\n",
      "\n",
      "consolidated.00.pth:  57%|█████████▊       | 9.23G/16.1G [01:25<01:15, 90.4MB/s]\u001b[A\u001b[A\n",
      "\n",
      "consolidated.00.pth:  58%|█████████▊       | 9.24G/16.1G [01:26<01:22, 82.8MB/s]\u001b[A\u001b[A\n",
      "\n",
      "consolidated.00.pth:  58%|█████████▊       | 9.25G/16.1G [01:26<01:22, 82.7MB/s]\u001b[A\u001b[A\n",
      "\n",
      "consolidated.00.pth:  58%|█████████▊       | 9.26G/16.1G [01:26<01:19, 85.1MB/s]\u001b[A\u001b[A\n",
      "\n",
      "consolidated.00.pth:  58%|█████████▊       | 9.28G/16.1G [01:26<01:14, 91.3MB/s]\u001b[A\u001b[A\n",
      "\n",
      "consolidated.00.pth:  58%|█████████▊       | 9.29G/16.1G [01:26<01:13, 92.0MB/s]\u001b[A\u001b[A\n",
      "\n",
      "consolidated.00.pth:  58%|█████████▊       | 9.31G/16.1G [01:26<01:10, 95.6MB/s]\u001b[A\u001b[A\n",
      "\n",
      "consolidated.00.pth:  58%|█████████▊       | 9.32G/16.1G [01:27<01:17, 87.1MB/s]\u001b[A\u001b[A\n",
      "\n",
      "consolidated.00.pth:  58%|█████████▉       | 9.33G/16.1G [01:27<01:15, 89.6MB/s]\u001b[A\u001b[A\n",
      "\n",
      "consolidated.00.pth:  58%|█████████▉       | 9.34G/16.1G [01:27<01:12, 92.3MB/s]\u001b[A\u001b[A\n",
      "\n",
      "consolidated.00.pth:  58%|██████████▍       | 9.36G/16.1G [01:27<01:06, 100MB/s]\u001b[A\u001b[A\n",
      "\n",
      "consolidated.00.pth:  58%|██████████▌       | 9.38G/16.1G [01:27<01:03, 105MB/s]\u001b[A\u001b[A\n",
      "\n",
      "consolidated.00.pth:  59%|██████████▌       | 9.41G/16.1G [01:27<01:01, 108MB/s]\u001b[A\u001b[A\n",
      "\n",
      "consolidated.00.pth:  59%|██████████▌       | 9.43G/16.1G [01:28<01:00, 110MB/s]\u001b[A\u001b[A\n",
      "\n",
      "consolidated.00.pth:  59%|██████████▌       | 9.45G/16.1G [01:28<00:59, 112MB/s]\u001b[A\u001b[A\n",
      "\n",
      "consolidated.00.pth:  59%|██████████▌       | 9.47G/16.1G [01:28<00:58, 112MB/s]\u001b[A\u001b[A\n",
      "\n",
      "consolidated.00.pth:  59%|██████████▋       | 9.49G/16.1G [01:28<00:58, 113MB/s]\u001b[A\u001b[A\n",
      "\n",
      "consolidated.00.pth:  59%|██████████▋       | 9.51G/16.1G [01:28<00:57, 113MB/s]\u001b[A\u001b[A\n",
      "\n",
      "consolidated.00.pth:  59%|██████████▋       | 9.53G/16.1G [01:28<00:57, 113MB/s]\u001b[A\u001b[A\n",
      "\n",
      "consolidated.00.pth:  59%|██████████▋       | 9.55G/16.1G [01:29<00:57, 114MB/s]\u001b[A\u001b[A\n",
      "\n",
      "consolidated.00.pth:  60%|██████████▋       | 9.57G/16.1G [01:29<00:57, 113MB/s]\u001b[A\u001b[A\n",
      "\n",
      "consolidated.00.pth:  60%|██████████▊       | 9.59G/16.1G [01:29<00:56, 114MB/s]\u001b[A\u001b[A\n",
      "\n",
      "consolidated.00.pth:  60%|██████████▊       | 9.62G/16.1G [01:29<00:56, 114MB/s]\u001b[A\u001b[A\n",
      "\n",
      "consolidated.00.pth:  60%|██████████▊       | 9.64G/16.1G [01:29<00:56, 114MB/s]\u001b[A\u001b[A\n",
      "\n",
      "consolidated.00.pth:  60%|██████████▊       | 9.66G/16.1G [01:30<00:56, 114MB/s]\u001b[A\u001b[A\n",
      "\n",
      "consolidated.00.pth:  60%|██████████▊       | 9.68G/16.1G [01:30<00:56, 114MB/s]\u001b[A\u001b[A\n",
      "\n",
      "consolidated.00.pth:  60%|██████████▊       | 9.70G/16.1G [01:30<00:55, 114MB/s]\u001b[A\u001b[A\n",
      "\n",
      "consolidated.00.pth:  61%|██████████▉       | 9.72G/16.1G [01:30<00:55, 114MB/s]\u001b[A\u001b[A\n",
      "\n",
      "consolidated.00.pth:  61%|██████████▉       | 9.74G/16.1G [01:30<00:55, 114MB/s]\u001b[A\u001b[A\n",
      "\n",
      "consolidated.00.pth:  61%|██████████▉       | 9.76G/16.1G [01:30<00:55, 114MB/s]\u001b[A\u001b[A\n",
      "\n",
      "consolidated.00.pth:  61%|██████████▉       | 9.78G/16.1G [01:31<00:54, 114MB/s]\u001b[A\u001b[A\n",
      "\n",
      "consolidated.00.pth:  61%|██████████▉       | 9.80G/16.1G [01:31<00:54, 114MB/s]\u001b[A\u001b[A\n",
      "\n",
      "consolidated.00.pth:  61%|███████████       | 9.83G/16.1G [01:31<00:54, 114MB/s]\u001b[A\u001b[A\n",
      "\n",
      "consolidated.00.pth:  61%|███████████       | 9.85G/16.1G [01:31<00:54, 115MB/s]\u001b[A\u001b[A\n",
      "\n",
      "consolidated.00.pth:  61%|███████████       | 9.87G/16.1G [01:31<00:54, 115MB/s]\u001b[A\u001b[A\n",
      "\n",
      "consolidated.00.pth:  62%|███████████       | 9.89G/16.1G [01:32<00:53, 115MB/s]\u001b[A\u001b[A\n",
      "\n",
      "consolidated.00.pth:  62%|███████████       | 9.91G/16.1G [01:32<00:54, 114MB/s]\u001b[A\u001b[A\n",
      "\n",
      "consolidated.00.pth:  62%|███████████▏      | 9.93G/16.1G [01:32<00:53, 115MB/s]\u001b[A\u001b[A\n",
      "\n",
      "consolidated.00.pth:  62%|███████████▏      | 9.95G/16.1G [01:32<00:53, 115MB/s]\u001b[A\u001b[A\n",
      "\n",
      "consolidated.00.pth:  62%|███████████▏      | 9.97G/16.1G [01:32<00:53, 115MB/s]\u001b[A\u001b[A\n",
      "\n",
      "consolidated.00.pth:  62%|███████████▏      | 9.99G/16.1G [01:32<00:52, 115MB/s]\u001b[A\u001b[A\n",
      "\n",
      "consolidated.00.pth:  62%|███████████▏      | 10.0G/16.1G [01:33<00:52, 115MB/s]\u001b[A\u001b[A\n",
      "\n",
      "consolidated.00.pth:  62%|███████████▏      | 10.0G/16.1G [01:33<00:52, 115MB/s]\u001b[A\u001b[A\n",
      "\n",
      "consolidated.00.pth:  63%|███████████▎      | 10.1G/16.1G [01:33<00:52, 115MB/s]\u001b[A\u001b[A\n",
      "\n",
      "consolidated.00.pth:  63%|███████████▎      | 10.1G/16.1G [01:33<00:52, 115MB/s]\u001b[A\u001b[A\n",
      "\n",
      "consolidated.00.pth:  63%|███████████▎      | 10.1G/16.1G [01:33<00:52, 115MB/s]\u001b[A\u001b[A\n",
      "\n",
      "consolidated.00.pth:  63%|███████████▎      | 10.1G/16.1G [01:34<00:51, 114MB/s]\u001b[A\u001b[A\n",
      "\n",
      "consolidated.00.pth:  63%|███████████▎      | 10.1G/16.1G [01:34<00:51, 114MB/s]\u001b[A\u001b[A\n",
      "\n",
      "consolidated.00.pth:  63%|███████████▍      | 10.2G/16.1G [01:34<00:51, 114MB/s]\u001b[A\u001b[A\n",
      "\n",
      "consolidated.00.pth:  63%|███████████▍      | 10.2G/16.1G [01:34<00:51, 114MB/s]\u001b[A\u001b[A\n",
      "\n",
      "consolidated.00.pth:  64%|███████████▍      | 10.2G/16.1G [01:34<00:51, 113MB/s]\u001b[A\u001b[A\n",
      "\n",
      "consolidated.00.pth:  64%|███████████▍      | 10.2G/16.1G [01:34<00:51, 113MB/s]\u001b[A\u001b[A\n",
      "\n",
      "consolidated.00.pth:  64%|███████████▍      | 10.2G/16.1G [01:35<00:51, 113MB/s]\u001b[A\u001b[A\n",
      "\n",
      "consolidated.00.pth:  64%|███████████▌      | 10.3G/16.1G [01:35<00:52, 111MB/s]\u001b[A\u001b[A\n",
      "\n",
      "consolidated.00.pth:  64%|███████████▌      | 10.3G/16.1G [01:35<00:51, 113MB/s]\u001b[A\u001b[A\n",
      "\n",
      "consolidated.00.pth:  64%|███████████▌      | 10.3G/16.1G [01:35<00:51, 112MB/s]\u001b[A\u001b[A\n",
      "\n",
      "consolidated.00.pth:  64%|███████████▌      | 10.3G/16.1G [01:35<00:50, 113MB/s]\u001b[A\u001b[A\n",
      "\n",
      "consolidated.00.pth:  64%|███████████▌      | 10.3G/16.1G [01:36<00:50, 113MB/s]\u001b[A\u001b[A\n",
      "\n",
      "consolidated.00.pth:  65%|███████████▌      | 10.4G/16.1G [01:36<00:50, 113MB/s]\u001b[A\u001b[A\n",
      "\n",
      "consolidated.00.pth:  65%|███████████▋      | 10.4G/16.1G [01:36<00:50, 113MB/s]\u001b[A\u001b[A\n",
      "\n",
      "consolidated.00.pth:  65%|███████████▋      | 10.4G/16.1G [01:36<00:49, 114MB/s]\u001b[A\u001b[A\n",
      "\n",
      "consolidated.00.pth:  65%|███████████      | 10.4G/16.1G [01:37<01:06, 84.2MB/s]\u001b[A\u001b[A\n",
      "\n",
      "consolidated.00.pth:  65%|███████████      | 10.4G/16.1G [01:37<01:04, 86.7MB/s]\u001b[A\u001b[A\n",
      "\n",
      "consolidated.00.pth:  65%|███████████      | 10.5G/16.1G [01:37<01:00, 92.3MB/s]\u001b[A\u001b[A\n",
      "\n",
      "consolidated.00.pth:  65%|███████████      | 10.5G/16.1G [01:37<00:56, 98.8MB/s]\u001b[A\u001b[A\n",
      "\n",
      "consolidated.00.pth:  65%|███████████▊      | 10.5G/16.1G [01:37<00:53, 103MB/s]\u001b[A\u001b[A\n",
      "\n",
      "consolidated.00.pth:  66%|███████████▊      | 10.5G/16.1G [01:37<00:51, 107MB/s]\u001b[A\u001b[A\n",
      "\n",
      "consolidated.00.pth:  66%|███████████▊      | 10.5G/16.1G [01:38<00:50, 109MB/s]\u001b[A\u001b[A\n",
      "\n",
      "consolidated.00.pth:  66%|███████████▊      | 10.6G/16.1G [01:38<00:49, 110MB/s]\u001b[A\u001b[A\n",
      "\n",
      "consolidated.00.pth:  66%|███████████▊      | 10.6G/16.1G [01:38<00:49, 111MB/s]\u001b[A\u001b[A\n",
      "\n",
      "consolidated.00.pth:  66%|███████████▉      | 10.6G/16.1G [01:38<00:48, 111MB/s]\u001b[A\u001b[A\n",
      "\n",
      "consolidated.00.pth:  66%|███████████▉      | 10.6G/16.1G [01:38<00:48, 112MB/s]\u001b[A\u001b[A\n",
      "\n",
      "consolidated.00.pth:  66%|███████████▉      | 10.7G/16.1G [01:39<00:48, 110MB/s]\u001b[A\u001b[A\n",
      "\n",
      "consolidated.00.pth:  66%|███████████▉      | 10.7G/16.1G [01:39<00:47, 112MB/s]\u001b[A\u001b[A\n",
      "\n",
      "consolidated.00.pth:  67%|███████████▉      | 10.7G/16.1G [01:39<00:47, 113MB/s]\u001b[A\u001b[A\n",
      "\n",
      "consolidated.00.pth:  67%|████████████      | 10.7G/16.1G [01:39<00:47, 113MB/s]\u001b[A\u001b[A\n",
      "\n",
      "consolidated.00.pth:  67%|████████████      | 10.7G/16.1G [01:39<00:46, 113MB/s]\u001b[A\u001b[A\n",
      "\n",
      "consolidated.00.pth:  67%|████████████      | 10.8G/16.1G [01:39<00:46, 114MB/s]\u001b[A\u001b[A\n",
      "\n",
      "consolidated.00.pth:  67%|████████████      | 10.8G/16.1G [01:40<00:46, 113MB/s]\u001b[A\u001b[A\n",
      "\n",
      "consolidated.00.pth:  67%|████████████      | 10.8G/16.1G [01:40<00:46, 113MB/s]\u001b[A\u001b[A\n",
      "\n",
      "consolidated.00.pth:  67%|████████████▏     | 10.8G/16.1G [01:40<00:46, 113MB/s]\u001b[A\u001b[A\n",
      "\n",
      "consolidated.00.pth:  68%|████████████▏     | 10.8G/16.1G [01:40<00:46, 112MB/s]\u001b[A\u001b[A\n",
      "\n",
      "consolidated.00.pth:  68%|████████████▏     | 10.9G/16.1G [01:40<00:46, 113MB/s]\u001b[A\u001b[A\n",
      "\n",
      "consolidated.00.pth:  68%|████████████▏     | 10.9G/16.1G [01:41<00:45, 113MB/s]\u001b[A\u001b[A\n",
      "\n",
      "consolidated.00.pth:  68%|████████████▏     | 10.9G/16.1G [01:41<00:45, 113MB/s]\u001b[A\u001b[A\n",
      "\n",
      "consolidated.00.pth:  68%|████████████▏     | 10.9G/16.1G [01:41<00:45, 113MB/s]\u001b[A\u001b[A\n",
      "\n",
      "consolidated.00.pth:  68%|████████████▎     | 10.9G/16.1G [01:41<00:45, 113MB/s]\u001b[A\u001b[A\n",
      "\n",
      "consolidated.00.pth:  68%|████████████▎     | 11.0G/16.1G [01:41<00:45, 113MB/s]\u001b[A\u001b[A\n",
      "\n",
      "consolidated.00.pth:  68%|████████████▎     | 11.0G/16.1G [01:41<00:44, 113MB/s]\u001b[A\u001b[A\n",
      "\n",
      "consolidated.00.pth:  69%|████████████▎     | 11.0G/16.1G [01:42<00:44, 113MB/s]\u001b[A\u001b[A\n",
      "\n",
      "consolidated.00.pth:  69%|████████████▎     | 11.0G/16.1G [01:42<00:44, 114MB/s]\u001b[A\u001b[A\n",
      "\n",
      "consolidated.00.pth:  69%|████████████▍     | 11.1G/16.1G [01:42<00:44, 114MB/s]\u001b[A\u001b[A\n",
      "\n",
      "consolidated.00.pth:  69%|████████████▍     | 11.1G/16.1G [01:42<00:43, 114MB/s]\u001b[A\u001b[A\n",
      "\n",
      "consolidated.00.pth:  69%|████████████▍     | 11.1G/16.1G [01:42<00:44, 112MB/s]\u001b[A\u001b[A\n",
      "\n",
      "consolidated.00.pth:  69%|████████████▍     | 11.1G/16.1G [01:43<00:44, 112MB/s]\u001b[A\u001b[A\n",
      "\n",
      "consolidated.00.pth:  69%|████████████▍     | 11.1G/16.1G [01:43<00:44, 109MB/s]\u001b[A\u001b[A\n",
      "\n",
      "consolidated.00.pth:  69%|████████████▌     | 11.2G/16.1G [01:43<00:44, 110MB/s]\u001b[A\u001b[A\n",
      "\n",
      "consolidated.00.pth:  70%|████████████▌     | 11.2G/16.1G [01:43<00:44, 110MB/s]\u001b[A\u001b[A\n",
      "\n",
      "consolidated.00.pth:  70%|████████████▌     | 11.2G/16.1G [01:43<00:43, 111MB/s]\u001b[A\u001b[A\n",
      "\n",
      "consolidated.00.pth:  70%|████████████▌     | 11.2G/16.1G [01:44<00:43, 111MB/s]\u001b[A\u001b[A\n",
      "\n",
      "consolidated.00.pth:  70%|████████████▌     | 11.2G/16.1G [01:44<00:43, 111MB/s]\u001b[A\u001b[A\n",
      "\n",
      "consolidated.00.pth:  70%|████████████▌     | 11.3G/16.1G [01:44<00:42, 112MB/s]\u001b[A\u001b[A\n",
      "\n",
      "consolidated.00.pth:  70%|████████████▋     | 11.3G/16.1G [01:44<00:42, 112MB/s]\u001b[A\u001b[A\n",
      "\n",
      "consolidated.00.pth:  70%|████████████▋     | 11.3G/16.1G [01:44<00:42, 112MB/s]\u001b[A\u001b[A\n",
      "\n",
      "consolidated.00.pth:  71%|████████████▋     | 11.3G/16.1G [01:44<00:42, 111MB/s]\u001b[A\u001b[A\n",
      "\n",
      "consolidated.00.pth:  71%|████████████▋     | 11.3G/16.1G [01:45<00:42, 111MB/s]\u001b[A\u001b[A\n",
      "\n",
      "consolidated.00.pth:  71%|████████████▋     | 11.4G/16.1G [01:45<00:42, 111MB/s]\u001b[A\u001b[A\n",
      "\n",
      "consolidated.00.pth:  71%|████████████▊     | 11.4G/16.1G [01:45<00:41, 112MB/s]\u001b[A\u001b[A\n",
      "\n",
      "consolidated.00.pth:  71%|████████████▊     | 11.4G/16.1G [01:45<00:41, 113MB/s]\u001b[A\u001b[A\n",
      "\n",
      "consolidated.00.pth:  71%|████████████▊     | 11.4G/16.1G [01:45<00:40, 113MB/s]\u001b[A\u001b[A\n",
      "\n",
      "consolidated.00.pth:  71%|████████████▊     | 11.5G/16.1G [01:46<00:40, 113MB/s]\u001b[A\u001b[A\n",
      "\n",
      "consolidated.00.pth:  71%|████████████▊     | 11.5G/16.1G [01:46<00:40, 113MB/s]\u001b[A\u001b[A\n",
      "\n",
      "consolidated.00.pth:  72%|████████████▉     | 11.5G/16.1G [01:46<00:40, 114MB/s]\u001b[A\u001b[A\n",
      "\n",
      "consolidated.00.pth:  72%|████████████▉     | 11.5G/16.1G [01:46<00:39, 114MB/s]\u001b[A\u001b[A\n",
      "\n",
      "consolidated.00.pth:  72%|████████████▉     | 11.5G/16.1G [01:46<00:39, 114MB/s]\u001b[A\u001b[A\n",
      "\n",
      "consolidated.00.pth:  72%|████████████▉     | 11.6G/16.1G [01:47<00:39, 114MB/s]\u001b[A\u001b[A\n",
      "\n",
      "consolidated.00.pth:  72%|████████████▉     | 11.6G/16.1G [01:47<00:39, 113MB/s]\u001b[A\u001b[A\n",
      "\n",
      "consolidated.00.pth:  72%|████████████▉     | 11.6G/16.1G [01:47<00:39, 114MB/s]\u001b[A\u001b[A\n",
      "\n",
      "consolidated.00.pth:  72%|█████████████     | 11.6G/16.1G [01:47<00:39, 113MB/s]\u001b[A\u001b[A\n",
      "\n",
      "consolidated.00.pth:  72%|█████████████     | 11.6G/16.1G [01:47<00:39, 113MB/s]\u001b[A\u001b[A\n",
      "\n",
      "consolidated.00.pth:  73%|█████████████     | 11.7G/16.1G [01:47<00:38, 114MB/s]\u001b[A\u001b[A\n",
      "\n",
      "consolidated.00.pth:  73%|█████████████     | 11.7G/16.1G [01:48<00:39, 112MB/s]\u001b[A\u001b[A\n",
      "\n",
      "consolidated.00.pth:  73%|█████████████     | 11.7G/16.1G [01:48<00:38, 112MB/s]\u001b[A\u001b[A\n",
      "\n",
      "consolidated.00.pth:  73%|█████████████▏    | 11.7G/16.1G [01:48<00:38, 112MB/s]\u001b[A\u001b[A\n",
      "\n",
      "consolidated.00.pth:  73%|█████████████▏    | 11.7G/16.1G [01:48<00:38, 112MB/s]\u001b[A\u001b[A\n",
      "\n",
      "consolidated.00.pth:  73%|█████████████▏    | 11.8G/16.1G [01:48<00:38, 112MB/s]\u001b[A\u001b[A\n",
      "\n",
      "consolidated.00.pth:  73%|█████████████▏    | 11.8G/16.1G [01:49<00:37, 113MB/s]\u001b[A\u001b[A\n",
      "\n",
      "consolidated.00.pth:  74%|█████████████▏    | 11.8G/16.1G [01:49<00:37, 113MB/s]\u001b[A\u001b[A\n",
      "\n",
      "consolidated.00.pth:  74%|█████████████▎    | 11.8G/16.1G [01:49<00:37, 113MB/s]\u001b[A\u001b[A\n",
      "\n",
      "consolidated.00.pth:  74%|█████████████▎    | 11.8G/16.1G [01:49<00:36, 114MB/s]\u001b[A\u001b[A\n",
      "\n",
      "consolidated.00.pth:  74%|█████████████▎    | 11.9G/16.1G [01:49<00:36, 114MB/s]\u001b[A\u001b[A\n",
      "\n",
      "consolidated.00.pth:  74%|█████████████▎    | 11.9G/16.1G [01:49<00:36, 114MB/s]\u001b[A\u001b[A\n",
      "\n",
      "consolidated.00.pth:  74%|█████████████▎    | 11.9G/16.1G [01:50<00:36, 114MB/s]\u001b[A\u001b[A\n",
      "\n",
      "consolidated.00.pth:  74%|█████████████▎    | 11.9G/16.1G [01:50<00:36, 115MB/s]\u001b[A\u001b[A\n",
      "\n",
      "consolidated.00.pth:  74%|█████████████▍    | 12.0G/16.1G [01:50<00:35, 114MB/s]\u001b[A\u001b[A\n",
      "\n",
      "consolidated.00.pth:  75%|█████████████▍    | 12.0G/16.1G [01:50<00:35, 114MB/s]\u001b[A\u001b[A\n",
      "\n",
      "consolidated.00.pth:  75%|█████████████▍    | 12.0G/16.1G [01:50<00:35, 114MB/s]\u001b[A\u001b[A\n",
      "\n",
      "consolidated.00.pth:  75%|█████████████▍    | 12.0G/16.1G [01:51<00:35, 114MB/s]\u001b[A\u001b[A\n",
      "\n",
      "consolidated.00.pth:  75%|█████████████▍    | 12.0G/16.1G [01:51<00:35, 114MB/s]\u001b[A\u001b[A\n",
      "\n",
      "consolidated.00.pth:  75%|█████████████▌    | 12.1G/16.1G [01:51<00:35, 114MB/s]\u001b[A\u001b[A\n",
      "\n",
      "consolidated.00.pth:  75%|█████████████▌    | 12.1G/16.1G [01:51<00:34, 114MB/s]\u001b[A\u001b[A\n",
      "\n",
      "consolidated.00.pth:  75%|█████████████▌    | 12.1G/16.1G [01:51<00:35, 113MB/s]\u001b[A\u001b[A\n",
      "\n",
      "consolidated.00.pth:  75%|█████████████▌    | 12.1G/16.1G [01:52<00:34, 114MB/s]\u001b[A\u001b[A\n",
      "\n",
      "consolidated.00.pth:  76%|█████████████▌    | 12.1G/16.1G [01:52<00:34, 114MB/s]\u001b[A\u001b[A\n",
      "\n",
      "consolidated.00.pth:  76%|█████████████▋    | 12.2G/16.1G [01:52<00:36, 107MB/s]\u001b[A\u001b[A\n",
      "\n",
      "consolidated.00.pth:  76%|█████████████▋    | 12.2G/16.1G [01:52<00:36, 107MB/s]\u001b[A\u001b[A\n",
      "\n",
      "consolidated.00.pth:  76%|█████████████▋    | 12.2G/16.1G [01:52<00:35, 109MB/s]\u001b[A\u001b[A\n",
      "\n",
      "consolidated.00.pth:  76%|████████████▉    | 12.2G/16.1G [01:53<00:46, 81.8MB/s]\u001b[A\u001b[A\n",
      "\n",
      "consolidated.00.pth:  76%|████████████▉    | 12.2G/16.1G [01:53<00:43, 88.7MB/s]\u001b[A\u001b[A\n",
      "\n",
      "consolidated.00.pth:  76%|████████████▉    | 12.3G/16.1G [01:53<00:40, 94.5MB/s]\u001b[A\u001b[A\n",
      "\n",
      "consolidated.00.pth:  77%|█████████████▊    | 12.3G/16.1G [01:53<00:37, 100MB/s]\u001b[A\u001b[A\n",
      "\n",
      "consolidated.00.pth:  77%|█████████████▊    | 12.3G/16.1G [01:53<00:35, 104MB/s]\u001b[A\u001b[A\n",
      "\n",
      "consolidated.00.pth:  77%|█████████████▊    | 12.3G/16.1G [01:54<00:34, 107MB/s]\u001b[A\u001b[A\n",
      "\n",
      "consolidated.00.pth:  77%|█████████████▊    | 12.4G/16.1G [01:54<00:34, 109MB/s]\u001b[A\u001b[A\n",
      "\n",
      "consolidated.00.pth:  77%|█████████████▊    | 12.4G/16.1G [01:54<00:33, 110MB/s]\u001b[A\u001b[A\n",
      "\n",
      "consolidated.00.pth:  77%|█████████████▉    | 12.4G/16.1G [01:54<00:32, 112MB/s]\u001b[A\u001b[A\n",
      "\n",
      "consolidated.00.pth:  77%|█████████████▉    | 12.4G/16.1G [01:54<00:32, 112MB/s]\u001b[A\u001b[A\n",
      "\n",
      "consolidated.00.pth:  77%|█████████████▉    | 12.4G/16.1G [01:55<00:32, 112MB/s]\u001b[A\u001b[A\n",
      "\n",
      "consolidated.00.pth:  78%|█████████████▉    | 12.5G/16.1G [01:55<00:33, 109MB/s]\u001b[A\u001b[A\n",
      "\n",
      "consolidated.00.pth:  78%|█████████████▉    | 12.5G/16.1G [01:55<00:32, 112MB/s]\u001b[A\u001b[A\n",
      "\n",
      "consolidated.00.pth:  78%|██████████████    | 12.5G/16.1G [01:55<00:31, 112MB/s]\u001b[A\u001b[A\n",
      "\n",
      "consolidated.00.pth:  78%|██████████████    | 12.5G/16.1G [01:55<00:31, 113MB/s]\u001b[A\u001b[A\n",
      "\n",
      "consolidated.00.pth:  78%|██████████████    | 12.5G/16.1G [01:55<00:31, 113MB/s]\u001b[A\u001b[A\n",
      "\n",
      "consolidated.00.pth:  78%|██████████████    | 12.6G/16.1G [01:56<00:30, 113MB/s]\u001b[A\u001b[A\n",
      "\n",
      "consolidated.00.pth:  78%|██████████████    | 12.6G/16.1G [01:56<00:30, 113MB/s]\u001b[A\u001b[A\n",
      "\n",
      "consolidated.00.pth:  78%|██████████████▏   | 12.6G/16.1G [01:56<00:30, 113MB/s]\u001b[A\u001b[A\n",
      "\n",
      "consolidated.00.pth:  79%|██████████████▏   | 12.6G/16.1G [01:56<00:30, 114MB/s]\u001b[A\u001b[A\n",
      "\n",
      "consolidated.00.pth:  79%|██████████████▏   | 12.6G/16.1G [01:56<00:30, 113MB/s]\u001b[A\u001b[A\n",
      "\n",
      "consolidated.00.pth:  79%|██████████████▏   | 12.7G/16.1G [01:57<00:29, 113MB/s]\u001b[A\u001b[A\n",
      "\n",
      "consolidated.00.pth:  79%|██████████████▏   | 12.7G/16.1G [01:57<00:29, 114MB/s]\u001b[A\u001b[A\n",
      "\n",
      "consolidated.00.pth:  79%|██████████████▏   | 12.7G/16.1G [01:57<00:29, 114MB/s]\u001b[A\u001b[A\n",
      "\n",
      "consolidated.00.pth:  79%|██████████████▎   | 12.7G/16.1G [01:57<00:29, 114MB/s]\u001b[A\u001b[A\n",
      "\n",
      "consolidated.00.pth:  79%|██████████████▎   | 12.8G/16.1G [01:57<00:29, 114MB/s]\u001b[A\u001b[A\n",
      "\n",
      "consolidated.00.pth:  80%|██████████████▎   | 12.8G/16.1G [01:58<00:28, 114MB/s]\u001b[A\u001b[A\n",
      "\n",
      "consolidated.00.pth:  80%|██████████████▎   | 12.8G/16.1G [01:58<00:28, 114MB/s]\u001b[A\u001b[A\n",
      "\n",
      "consolidated.00.pth:  80%|██████████████▎   | 12.8G/16.1G [01:58<00:28, 114MB/s]\u001b[A\u001b[A\n",
      "\n",
      "consolidated.00.pth:  80%|██████████████▍   | 12.8G/16.1G [01:58<00:28, 113MB/s]\u001b[A\u001b[A\n",
      "\n",
      "consolidated.00.pth:  80%|██████████████▍   | 12.9G/16.1G [01:58<00:28, 113MB/s]\u001b[A\u001b[A\n",
      "\n",
      "consolidated.00.pth:  80%|██████████████▍   | 12.9G/16.1G [01:58<00:28, 113MB/s]\u001b[A\u001b[A\n",
      "\n",
      "consolidated.00.pth:  80%|██████████████▍   | 12.9G/16.1G [01:59<00:27, 114MB/s]\u001b[A\u001b[A\n",
      "\n",
      "consolidated.00.pth:  80%|██████████████▍   | 12.9G/16.1G [01:59<00:28, 112MB/s]\u001b[A\u001b[A\n",
      "\n",
      "consolidated.00.pth:  81%|██████████████▌   | 12.9G/16.1G [01:59<00:27, 114MB/s]\u001b[A\u001b[A\n",
      "\n",
      "consolidated.00.pth:  81%|██████████████▌   | 13.0G/16.1G [01:59<00:27, 114MB/s]\u001b[A\u001b[A\n",
      "\n",
      "consolidated.00.pth:  81%|██████████████▌   | 13.0G/16.1G [01:59<00:26, 114MB/s]\u001b[A\u001b[A\n",
      "\n",
      "consolidated.00.pth:  81%|██████████████▌   | 13.0G/16.1G [02:00<00:26, 114MB/s]\u001b[A\u001b[A\n",
      "\n",
      "consolidated.00.pth:  81%|██████████████▌   | 13.0G/16.1G [02:00<00:26, 114MB/s]\u001b[A\u001b[A\n",
      "\n",
      "consolidated.00.pth:  81%|██████████████▌   | 13.0G/16.1G [02:00<00:26, 114MB/s]\u001b[A\u001b[A\n",
      "\n",
      "consolidated.00.pth:  81%|██████████████▋   | 13.1G/16.1G [02:00<00:26, 114MB/s]\u001b[A\u001b[A\n",
      "\n",
      "consolidated.00.pth:  81%|██████████████▋   | 13.1G/16.1G [02:00<00:26, 114MB/s]\u001b[A\u001b[A\n",
      "\n",
      "consolidated.00.pth:  82%|██████████████▋   | 13.1G/16.1G [02:00<00:26, 113MB/s]\u001b[A\u001b[A\n",
      "\n",
      "consolidated.00.pth:  82%|██████████████▋   | 13.1G/16.1G [02:01<00:25, 114MB/s]\u001b[A\u001b[A\n",
      "\n",
      "consolidated.00.pth:  82%|██████████████▋   | 13.1G/16.1G [02:01<00:25, 114MB/s]\u001b[A\u001b[A\n",
      "\n",
      "consolidated.00.pth:  82%|██████████████▊   | 13.2G/16.1G [02:01<00:25, 114MB/s]\u001b[A\u001b[A\n",
      "\n",
      "consolidated.00.pth:  82%|██████████████▊   | 13.2G/16.1G [02:01<00:25, 114MB/s]\u001b[A\u001b[A\n",
      "\n",
      "consolidated.00.pth:  82%|██████████████▊   | 13.2G/16.1G [02:01<00:25, 113MB/s]\u001b[A\u001b[A\n",
      "\n",
      "consolidated.00.pth:  82%|██████████████▊   | 13.2G/16.1G [02:02<00:24, 113MB/s]\u001b[A\u001b[A\n",
      "\n",
      "consolidated.00.pth:  83%|██████████████▊   | 13.3G/16.1G [02:02<00:24, 114MB/s]\u001b[A\u001b[A\n",
      "\n",
      "consolidated.00.pth:  83%|██████████████▉   | 13.3G/16.1G [02:02<00:24, 114MB/s]\u001b[A\u001b[A\n",
      "\n",
      "consolidated.00.pth:  83%|██████████████▉   | 13.3G/16.1G [02:02<00:24, 114MB/s]\u001b[A\u001b[A\n",
      "\n",
      "consolidated.00.pth:  83%|██████████████▉   | 13.3G/16.1G [02:02<00:24, 114MB/s]\u001b[A\u001b[A\n",
      "\n",
      "consolidated.00.pth:  83%|██████████████▉   | 13.3G/16.1G [02:03<00:23, 114MB/s]\u001b[A\u001b[A\n",
      "\n",
      "consolidated.00.pth:  83%|██████████████▏  | 13.4G/16.1G [02:03<00:34, 78.8MB/s]\u001b[A\u001b[A\n",
      "\n",
      "consolidated.00.pth:  83%|██████████████▏  | 13.4G/16.1G [02:03<00:32, 81.9MB/s]\u001b[A\u001b[A\n",
      "\n",
      "consolidated.00.pth:  83%|██████████████▏  | 13.4G/16.1G [02:03<00:31, 85.5MB/s]\u001b[A\u001b[A\n",
      "\n",
      "consolidated.00.pth:  83%|██████████████▏  | 13.4G/16.1G [02:03<00:28, 93.2MB/s]\u001b[A\u001b[A\n",
      "\n",
      "consolidated.00.pth:  84%|██████████████▏  | 13.4G/16.1G [02:04<00:26, 99.6MB/s]\u001b[A\u001b[A\n",
      "\n",
      "consolidated.00.pth:  84%|███████████████   | 13.4G/16.1G [02:04<00:25, 104MB/s]\u001b[A\u001b[A\n",
      "\n",
      "consolidated.00.pth:  84%|███████████████   | 13.5G/16.1G [02:04<00:24, 107MB/s]\u001b[A\u001b[A\n",
      "\n",
      "consolidated.00.pth:  84%|███████████████   | 13.5G/16.1G [02:04<00:23, 109MB/s]\u001b[A\u001b[A\n",
      "\n",
      "consolidated.00.pth:  84%|███████████████▏  | 13.5G/16.1G [02:04<00:22, 111MB/s]\u001b[A\u001b[A\n",
      "\n",
      "consolidated.00.pth:  84%|███████████████▏  | 13.5G/16.1G [02:04<00:22, 112MB/s]\u001b[A\u001b[A\n",
      "\n",
      "consolidated.00.pth:  84%|███████████████▏  | 13.5G/16.1G [02:05<00:23, 107MB/s]\u001b[A\u001b[A\n",
      "\n",
      "consolidated.00.pth:  84%|███████████████▏  | 13.6G/16.1G [02:05<00:22, 109MB/s]\u001b[A\u001b[A\n",
      "\n",
      "consolidated.00.pth:  85%|███████████████▏  | 13.6G/16.1G [02:05<00:22, 110MB/s]\u001b[A\u001b[A\n",
      "\n",
      "consolidated.00.pth:  85%|███████████████▎  | 13.6G/16.1G [02:05<00:22, 111MB/s]\u001b[A\u001b[A\n",
      "\n",
      "consolidated.00.pth:  85%|███████████████▎  | 13.6G/16.1G [02:05<00:21, 112MB/s]\u001b[A\u001b[A\n",
      "\n",
      "consolidated.00.pth:  85%|███████████████▎  | 13.7G/16.1G [02:06<00:22, 106MB/s]\u001b[A\u001b[A\n",
      "\n",
      "consolidated.00.pth:  85%|███████████████▎  | 13.7G/16.1G [02:06<00:22, 108MB/s]\u001b[A\u001b[A\n",
      "\n",
      "consolidated.00.pth:  85%|██████████████▍  | 13.7G/16.1G [02:06<00:24, 95.6MB/s]\u001b[A\u001b[A\n",
      "\n",
      "consolidated.00.pth:  85%|██████████████▌  | 13.7G/16.1G [02:06<00:24, 96.0MB/s]\u001b[A\u001b[A\n",
      "\n",
      "consolidated.00.pth:  85%|██████████████▌  | 13.7G/16.1G [02:06<00:23, 98.3MB/s]\u001b[A\u001b[A\n",
      "\n",
      "consolidated.00.pth:  86%|███████████████▍  | 13.7G/16.1G [02:07<00:22, 101MB/s]\u001b[A\u001b[A\n",
      "\n",
      "consolidated.00.pth:  86%|███████████████▍  | 13.8G/16.1G [02:07<00:21, 105MB/s]\u001b[A\u001b[A\n",
      "\n",
      "consolidated.00.pth:  86%|███████████████▍  | 13.8G/16.1G [02:07<00:21, 108MB/s]\u001b[A\u001b[A\n",
      "\n",
      "consolidated.00.pth:  86%|███████████████▍  | 13.8G/16.1G [02:07<00:20, 109MB/s]\u001b[A\u001b[A\n",
      "\n",
      "consolidated.00.pth:  86%|███████████████▌  | 13.8G/16.1G [02:07<00:20, 110MB/s]\u001b[A\u001b[A\n",
      "\n",
      "consolidated.00.pth:  86%|███████████████▌  | 13.9G/16.1G [02:08<00:20, 110MB/s]\u001b[A\u001b[A\n",
      "\n",
      "consolidated.00.pth:  86%|███████████████▌  | 13.9G/16.1G [02:08<00:20, 109MB/s]\u001b[A\u001b[A\n",
      "\n",
      "consolidated.00.pth:  87%|███████████████▌  | 13.9G/16.1G [02:08<00:19, 110MB/s]\u001b[A\u001b[A\n",
      "\n",
      "consolidated.00.pth:  87%|███████████████▌  | 13.9G/16.1G [02:08<00:19, 111MB/s]\u001b[A\u001b[A\n",
      "\n",
      "consolidated.00.pth:  87%|███████████████▌  | 13.9G/16.1G [02:08<00:19, 111MB/s]\u001b[A\u001b[A\n",
      "\n",
      "consolidated.00.pth:  87%|███████████████▋  | 14.0G/16.1G [02:08<00:18, 111MB/s]\u001b[A\u001b[A\n",
      "\n",
      "consolidated.00.pth:  87%|███████████████▋  | 14.0G/16.1G [02:09<00:18, 113MB/s]\u001b[A\u001b[A\n",
      "\n",
      "consolidated.00.pth:  87%|███████████████▋  | 14.0G/16.1G [02:09<00:18, 113MB/s]\u001b[A\u001b[A\n",
      "\n",
      "consolidated.00.pth:  87%|███████████████▋  | 14.0G/16.1G [02:09<00:18, 113MB/s]\u001b[A\u001b[A\n",
      "\n",
      "consolidated.00.pth:  87%|███████████████▋  | 14.0G/16.1G [02:09<00:17, 113MB/s]\u001b[A\u001b[A\n",
      "\n",
      "consolidated.00.pth:  88%|███████████████▊  | 14.1G/16.1G [02:09<00:17, 113MB/s]\u001b[A\u001b[A\n",
      "\n",
      "consolidated.00.pth:  88%|███████████████▊  | 14.1G/16.1G [02:10<00:17, 114MB/s]\u001b[A\u001b[A\n",
      "\n",
      "consolidated.00.pth:  88%|███████████████▊  | 14.1G/16.1G [02:10<00:17, 114MB/s]\u001b[A\u001b[A\n",
      "\n",
      "consolidated.00.pth:  88%|███████████████▊  | 14.1G/16.1G [02:10<00:17, 113MB/s]\u001b[A\u001b[A\n",
      "\n",
      "consolidated.00.pth:  88%|███████████████▊  | 14.1G/16.1G [02:10<00:16, 113MB/s]\u001b[A\u001b[A\n",
      "\n",
      "consolidated.00.pth:  88%|███████████████▉  | 14.2G/16.1G [02:10<00:16, 113MB/s]\u001b[A\u001b[A\n",
      "\n",
      "consolidated.00.pth:  88%|███████████████▉  | 14.2G/16.1G [02:11<00:16, 113MB/s]\u001b[A\u001b[A\n",
      "\n",
      "consolidated.00.pth:  88%|███████████████▉  | 14.2G/16.1G [02:11<00:16, 113MB/s]\u001b[A\u001b[A\n",
      "\n",
      "consolidated.00.pth:  89%|███████████████▉  | 14.2G/16.1G [02:11<00:16, 113MB/s]\u001b[A\u001b[A\n",
      "\n",
      "consolidated.00.pth:  89%|███████████████▉  | 14.3G/16.1G [02:11<00:16, 111MB/s]\u001b[A\u001b[A\n",
      "\n",
      "consolidated.00.pth:  89%|███████████████▉  | 14.3G/16.1G [02:11<00:15, 113MB/s]\u001b[A\u001b[A\n",
      "\n",
      "consolidated.00.pth:  89%|████████████████  | 14.3G/16.1G [02:11<00:15, 114MB/s]\u001b[A\u001b[A\n",
      "\n",
      "consolidated.00.pth:  89%|████████████████  | 14.3G/16.1G [02:12<00:15, 114MB/s]\u001b[A\u001b[A\n",
      "\n",
      "consolidated.00.pth:  89%|████████████████  | 14.3G/16.1G [02:12<00:15, 114MB/s]\u001b[A\u001b[A\n",
      "\n",
      "consolidated.00.pth:  89%|████████████████  | 14.4G/16.1G [02:12<00:14, 114MB/s]\u001b[A\u001b[A\n",
      "\n",
      "consolidated.00.pth:  90%|████████████████  | 14.4G/16.1G [02:12<00:14, 114MB/s]\u001b[A\u001b[A\n",
      "\n",
      "consolidated.00.pth:  90%|████████████████▏ | 14.4G/16.1G [02:12<00:14, 114MB/s]\u001b[A\u001b[A\n",
      "\n",
      "consolidated.00.pth:  90%|████████████████▏ | 14.4G/16.1G [02:13<00:14, 114MB/s]\u001b[A\u001b[A\n",
      "\n",
      "consolidated.00.pth:  90%|████████████████▏ | 14.4G/16.1G [02:13<00:14, 114MB/s]\u001b[A\u001b[A\n",
      "\n",
      "consolidated.00.pth:  90%|███████████████▎ | 14.5G/16.1G [02:13<00:18, 84.9MB/s]\u001b[A\u001b[A\n",
      "\n",
      "consolidated.00.pth:  90%|███████████████▎ | 14.5G/16.1G [02:13<00:18, 87.0MB/s]\u001b[A\u001b[A\n",
      "\n",
      "consolidated.00.pth:  90%|███████████████▎ | 14.5G/16.1G [02:13<00:17, 89.1MB/s]\u001b[A\u001b[A\n",
      "\n",
      "consolidated.00.pth:  90%|███████████████▎ | 14.5G/16.1G [02:14<00:16, 96.4MB/s]\u001b[A\u001b[A\n",
      "\n",
      "consolidated.00.pth:  90%|████████████████▎ | 14.5G/16.1G [02:14<00:15, 102MB/s]\u001b[A\u001b[A\n",
      "\n",
      "consolidated.00.pth:  91%|████████████████▎ | 14.5G/16.1G [02:14<00:14, 105MB/s]\u001b[A\u001b[A\n",
      "\n",
      "consolidated.00.pth:  91%|████████████████▎ | 14.6G/16.1G [02:14<00:13, 108MB/s]\u001b[A\u001b[A\n",
      "\n",
      "consolidated.00.pth:  91%|████████████████▎ | 14.6G/16.1G [02:14<00:13, 109MB/s]\u001b[A\u001b[A\n",
      "\n",
      "consolidated.00.pth:  91%|████████████████▎ | 14.6G/16.1G [02:14<00:13, 111MB/s]\u001b[A\u001b[A\n",
      "\n",
      "consolidated.00.pth:  91%|████████████████▍ | 14.6G/16.1G [02:15<00:12, 112MB/s]\u001b[A\u001b[A\n",
      "\n",
      "consolidated.00.pth:  91%|████████████████▍ | 14.6G/16.1G [02:15<00:12, 112MB/s]\u001b[A\u001b[A\n",
      "\n",
      "consolidated.00.pth:  91%|████████████████▍ | 14.7G/16.1G [02:15<00:12, 113MB/s]\u001b[A\u001b[A\n",
      "\n",
      "consolidated.00.pth:  91%|████████████████▍ | 14.7G/16.1G [02:15<00:12, 113MB/s]\u001b[A\u001b[A\n",
      "\n",
      "consolidated.00.pth:  92%|████████████████▍ | 14.7G/16.1G [02:15<00:11, 113MB/s]\u001b[A\u001b[A\n",
      "\n",
      "consolidated.00.pth:  92%|████████████████▌ | 14.7G/16.1G [02:16<00:11, 113MB/s]\u001b[A\u001b[A\n",
      "\n",
      "consolidated.00.pth:  92%|████████████████▌ | 14.8G/16.1G [02:16<00:11, 113MB/s]\u001b[A\u001b[A\n",
      "\n",
      "consolidated.00.pth:  92%|████████████████▌ | 14.8G/16.1G [02:16<00:11, 114MB/s]\u001b[A\u001b[A\n",
      "\n",
      "consolidated.00.pth:  92%|████████████████▌ | 14.8G/16.1G [02:16<00:11, 114MB/s]\u001b[A\u001b[A\n",
      "\n",
      "consolidated.00.pth:  92%|████████████████▌ | 14.8G/16.1G [02:16<00:10, 114MB/s]\u001b[A\u001b[A\n",
      "\n",
      "consolidated.00.pth:  92%|████████████████▋ | 14.8G/16.1G [02:16<00:10, 114MB/s]\u001b[A\u001b[A\n",
      "\n",
      "consolidated.00.pth:  93%|████████████████▋ | 14.9G/16.1G [02:17<00:10, 114MB/s]\u001b[A\u001b[A\n",
      "\n",
      "consolidated.00.pth:  93%|████████████████▋ | 14.9G/16.1G [02:17<00:10, 114MB/s]\u001b[A\u001b[A\n",
      "\n",
      "consolidated.00.pth:  93%|████████████████▋ | 14.9G/16.1G [02:17<00:10, 114MB/s]\u001b[A\u001b[A\n",
      "\n",
      "consolidated.00.pth:  93%|███████████████▊ | 14.9G/16.1G [02:17<00:12, 90.3MB/s]\u001b[A\u001b[A\n",
      "\n",
      "consolidated.00.pth:  93%|███████████████▊ | 14.9G/16.1G [02:18<00:11, 94.1MB/s]\u001b[A\u001b[A\n",
      "\n",
      "consolidated.00.pth:  93%|███████████████▊ | 15.0G/16.1G [02:18<00:11, 99.3MB/s]\u001b[A\u001b[A\n",
      "\n",
      "consolidated.00.pth:  93%|███████████████▊ | 15.0G/16.1G [02:18<00:11, 96.1MB/s]\u001b[A\u001b[A\n",
      "\n",
      "consolidated.00.pth:  93%|███████████████▊ | 15.0G/16.1G [02:18<00:12, 85.4MB/s]\u001b[A\u001b[A\n",
      "\n",
      "consolidated.00.pth:  93%|███████████████▊ | 15.0G/16.1G [02:18<00:12, 88.4MB/s]\u001b[A\u001b[A\n",
      "\n",
      "consolidated.00.pth:  93%|███████████████▉ | 15.0G/16.1G [02:18<00:12, 82.9MB/s]\u001b[A\u001b[A\n",
      "\n",
      "consolidated.00.pth:  94%|███████████████▉ | 15.0G/16.1G [02:19<00:13, 74.3MB/s]\u001b[A\u001b[A\n",
      "\n",
      "consolidated.00.pth:  94%|███████████████▉ | 15.0G/16.1G [02:19<00:14, 70.0MB/s]\u001b[A\u001b[A\n",
      "\n",
      "consolidated.00.pth:  94%|███████████████▉ | 15.0G/16.1G [02:19<00:13, 75.8MB/s]\u001b[A\u001b[A\n",
      "\n",
      "consolidated.00.pth:  94%|███████████████▉ | 15.1G/16.1G [02:19<00:12, 81.4MB/s]\u001b[A\u001b[A\n",
      "\n",
      "consolidated.00.pth:  94%|███████████████▉ | 15.1G/16.1G [02:19<00:10, 92.1MB/s]\u001b[A\u001b[A\n",
      "\n",
      "consolidated.00.pth:  94%|███████████████▉ | 15.1G/16.1G [02:19<00:09, 99.5MB/s]\u001b[A\u001b[A\n",
      "\n",
      "consolidated.00.pth:  94%|████████████████▉ | 15.1G/16.1G [02:20<00:09, 104MB/s]\u001b[A\u001b[A\n",
      "\n",
      "consolidated.00.pth:  94%|████████████████▉ | 15.1G/16.1G [02:20<00:08, 108MB/s]\u001b[A\u001b[A\n",
      "\n",
      "consolidated.00.pth:  94%|████████████████▉ | 15.2G/16.1G [02:20<00:08, 110MB/s]\u001b[A\u001b[A\n",
      "\n",
      "consolidated.00.pth:  95%|█████████████████ | 15.2G/16.1G [02:20<00:07, 111MB/s]\u001b[A\u001b[A\n",
      "\n",
      "consolidated.00.pth:  95%|█████████████████ | 15.2G/16.1G [02:20<00:07, 112MB/s]\u001b[A\u001b[A\n",
      "\n",
      "consolidated.00.pth:  95%|█████████████████ | 15.2G/16.1G [02:20<00:07, 113MB/s]\u001b[A\u001b[A\n",
      "\n",
      "consolidated.00.pth:  95%|█████████████████ | 15.2G/16.1G [02:21<00:07, 114MB/s]\u001b[A\u001b[A\n",
      "\n",
      "consolidated.00.pth:  95%|█████████████████ | 15.3G/16.1G [02:21<00:06, 114MB/s]\u001b[A\u001b[A\n",
      "\n",
      "consolidated.00.pth:  95%|█████████████████▏| 15.3G/16.1G [02:21<00:06, 112MB/s]\u001b[A\u001b[A\n",
      "\n",
      "consolidated.00.pth:  95%|█████████████████▏| 15.3G/16.1G [02:21<00:06, 113MB/s]\u001b[A\u001b[A\n",
      "\n",
      "consolidated.00.pth:  95%|█████████████████▏| 15.3G/16.1G [02:21<00:06, 113MB/s]\u001b[A\u001b[A\n",
      "\n",
      "consolidated.00.pth:  96%|█████████████████▏| 15.4G/16.1G [02:22<00:06, 114MB/s]\u001b[A\u001b[A\n",
      "\n",
      "consolidated.00.pth:  96%|█████████████████▏| 15.4G/16.1G [02:22<00:06, 114MB/s]\u001b[A\u001b[A\n",
      "\n",
      "consolidated.00.pth:  96%|█████████████████▎| 15.4G/16.1G [02:22<00:05, 114MB/s]\u001b[A\u001b[A\n",
      "\n",
      "consolidated.00.pth:  96%|█████████████████▎| 15.4G/16.1G [02:22<00:05, 114MB/s]\u001b[A\u001b[A\n",
      "\n",
      "consolidated.00.pth:  96%|█████████████████▎| 15.4G/16.1G [02:22<00:05, 114MB/s]\u001b[A\u001b[A\n",
      "\n",
      "consolidated.00.pth:  96%|█████████████████▎| 15.5G/16.1G [02:23<00:05, 114MB/s]\u001b[A\u001b[A\n",
      "\n",
      "consolidated.00.pth:  96%|█████████████████▎| 15.5G/16.1G [02:23<00:05, 114MB/s]\u001b[A\u001b[A\n",
      "\n",
      "consolidated.00.pth:  96%|█████████████████▎| 15.5G/16.1G [02:23<00:04, 114MB/s]\u001b[A\u001b[A\n",
      "\n",
      "consolidated.00.pth:  97%|████████████████▍| 15.5G/16.1G [02:23<00:06, 84.3MB/s]\u001b[A\u001b[A\n",
      "\n",
      "consolidated.00.pth:  97%|████████████████▍| 15.5G/16.1G [02:23<00:05, 90.7MB/s]\u001b[A\u001b[A\n",
      "\n",
      "consolidated.00.pth:  97%|████████████████▍| 15.6G/16.1G [02:24<00:05, 96.7MB/s]\u001b[A\u001b[A\n",
      "\n",
      "consolidated.00.pth:  97%|█████████████████▍| 15.6G/16.1G [02:24<00:04, 101MB/s]\u001b[A\u001b[A\n",
      "\n",
      "consolidated.00.pth:  97%|█████████████████▍| 15.6G/16.1G [02:24<00:04, 105MB/s]\u001b[A\u001b[A\n",
      "\n",
      "consolidated.00.pth:  97%|█████████████████▌| 15.6G/16.1G [02:24<00:04, 107MB/s]\u001b[A\u001b[A\n",
      "\n",
      "consolidated.00.pth:  97%|█████████████████▌| 15.6G/16.1G [02:24<00:03, 109MB/s]\u001b[A\u001b[A\n",
      "\n",
      "consolidated.00.pth:  98%|█████████████████▌| 15.7G/16.1G [02:25<00:03, 110MB/s]\u001b[A\u001b[A\n",
      "\n",
      "consolidated.00.pth:  98%|█████████████████▌| 15.7G/16.1G [02:25<00:03, 112MB/s]\u001b[A\u001b[A\n",
      "\n",
      "consolidated.00.pth:  98%|█████████████████▌| 15.7G/16.1G [02:25<00:03, 113MB/s]\u001b[A\u001b[A\n",
      "\n",
      "consolidated.00.pth:  98%|█████████████████▋| 15.7G/16.1G [02:25<00:02, 113MB/s]\u001b[A\u001b[A\n",
      "\n",
      "consolidated.00.pth:  98%|█████████████████▋| 15.7G/16.1G [02:25<00:02, 113MB/s]\u001b[A\u001b[A\n",
      "\n",
      "consolidated.00.pth:  98%|█████████████████▋| 15.8G/16.1G [02:25<00:02, 113MB/s]\u001b[A\u001b[A\n",
      "\n",
      "consolidated.00.pth:  98%|█████████████████▋| 15.8G/16.1G [02:26<00:02, 114MB/s]\u001b[A\u001b[A\n",
      "\n",
      "consolidated.00.pth:  98%|█████████████████▋| 15.8G/16.1G [02:26<00:02, 114MB/s]\u001b[A\u001b[A\n",
      "\n",
      "consolidated.00.pth:  99%|█████████████████▋| 15.8G/16.1G [02:26<00:01, 114MB/s]\u001b[A\u001b[A\n",
      "\n",
      "consolidated.00.pth:  99%|█████████████████▊| 15.9G/16.1G [02:26<00:01, 113MB/s]\u001b[A\u001b[A\n",
      "\n",
      "consolidated.00.pth:  99%|█████████████████▊| 15.9G/16.1G [02:26<00:01, 113MB/s]\u001b[A\u001b[A\n",
      "\n",
      "consolidated.00.pth:  99%|█████████████████▊| 15.9G/16.1G [02:27<00:01, 113MB/s]\u001b[A\u001b[A\n",
      "\n",
      "consolidated.00.pth:  99%|█████████████████▊| 15.9G/16.1G [02:27<00:01, 114MB/s]\u001b[A\u001b[A\n",
      "\n",
      "consolidated.00.pth:  99%|█████████████████▊| 15.9G/16.1G [02:27<00:01, 114MB/s]\u001b[A\u001b[A\n",
      "\n",
      "consolidated.00.pth:  99%|█████████████████▉| 16.0G/16.1G [02:27<00:00, 113MB/s]\u001b[A\u001b[A\n",
      "\n",
      "consolidated.00.pth:  99%|█████████████████▉| 16.0G/16.1G [02:27<00:00, 114MB/s]\u001b[A\u001b[A\n",
      "\n",
      "consolidated.00.pth: 100%|█████████████████▉| 16.0G/16.1G [02:28<00:00, 114MB/s]\u001b[A\u001b[A\n",
      "\n",
      "consolidated.00.pth: 100%|█████████████████▉| 16.0G/16.1G [02:28<00:00, 114MB/s]\u001b[A\u001b[A\n",
      "\n",
      "consolidated.00.pth: 100%|█████████████████▉| 16.0G/16.1G [02:28<00:00, 114MB/s]\u001b[A\u001b[A\n",
      "\n",
      "consolidated.00.pth: 100%|██████████████████| 16.1G/16.1G [02:28<00:00, 108MB/s]\u001b[A\u001b[A\n",
      "Download complete. Moving file to Meta-Llama-3-8B-Instruct/original/consolidated.00.pth\n",
      "Fetching 3 files: 100%|███████████████████████████| 3/3 [02:28<00:00, 49.58s/it]\n",
      "/home/ann/fiz-ddb/notebook/Meta-Llama-3-8B-Instruct\n"
     ]
    }
   ],
   "source": [
    "!huggingface-cli download meta-llama/Meta-Llama-3-8B-Instruct --include \"original/*\" --local-dir Meta-Llama-3-8B-Instruct"
   ]
  },
  {
   "cell_type": "code",
   "execution_count": 10,
   "id": "298f0f80-e08c-4ddf-ab3d-2fc923812ff5",
   "metadata": {},
   "outputs": [],
   "source": [
    "## Setup Device"
   ]
  },
  {
   "cell_type": "code",
   "execution_count": 4,
   "id": "c8589fed",
   "metadata": {
    "tags": []
   },
   "outputs": [
    {
     "data": {
      "text/plain": [
       "'cuda:0'"
      ]
     },
     "execution_count": 4,
     "metadata": {},
     "output_type": "execute_result"
    }
   ],
   "source": [
    "import torch\n",
    "torch.cuda.is_available()\n",
    "device = \"cuda:0\" if torch.cuda.is_available() else \"cpu\"\n",
    "device"
   ]
  },
  {
   "cell_type": "code",
   "execution_count": 12,
   "id": "8da5d90d-e79d-4561-8aa7-1300a49ef1d5",
   "metadata": {},
   "outputs": [
    {
     "name": "stdout",
     "output_type": "stream",
     "text": [
      "Collecting transformers\n",
      "  Downloading transformers-4.49.0-py3-none-any.whl.metadata (44 kB)\n",
      "Requirement already satisfied: filelock in /home/ann/anaconda3/envs/mathd2/lib/python3.10/site-packages (from transformers) (3.13.1)\n",
      "Collecting huggingface-hub<1.0,>=0.26.0 (from transformers)\n",
      "  Downloading huggingface_hub-0.29.1-py3-none-any.whl.metadata (13 kB)\n",
      "Requirement already satisfied: numpy>=1.17 in /home/ann/anaconda3/envs/mathd2/lib/python3.10/site-packages (from transformers) (1.26.4)\n",
      "Requirement already satisfied: packaging>=20.0 in /home/ann/anaconda3/envs/mathd2/lib/python3.10/site-packages (from transformers) (24.2)\n",
      "Requirement already satisfied: pyyaml>=5.1 in /home/ann/anaconda3/envs/mathd2/lib/python3.10/site-packages (from transformers) (6.0.2)\n",
      "Requirement already satisfied: regex!=2019.12.17 in /home/ann/anaconda3/envs/mathd2/lib/python3.10/site-packages (from transformers) (2024.11.6)\n",
      "Requirement already satisfied: requests in /home/ann/anaconda3/envs/mathd2/lib/python3.10/site-packages (from transformers) (2.32.3)\n",
      "Collecting tokenizers<0.22,>=0.21 (from transformers)\n",
      "  Downloading tokenizers-0.21.0-cp39-abi3-manylinux_2_17_x86_64.manylinux2014_x86_64.whl.metadata (6.7 kB)\n",
      "Collecting safetensors>=0.4.1 (from transformers)\n",
      "  Downloading safetensors-0.5.3-cp38-abi3-manylinux_2_17_x86_64.manylinux2014_x86_64.whl.metadata (3.8 kB)\n",
      "Requirement already satisfied: tqdm>=4.27 in /home/ann/anaconda3/envs/mathd2/lib/python3.10/site-packages (from transformers) (4.67.1)\n",
      "Requirement already satisfied: fsspec>=2023.5.0 in /home/ann/anaconda3/envs/mathd2/lib/python3.10/site-packages (from huggingface-hub<1.0,>=0.26.0->transformers) (2024.12.0)\n",
      "Requirement already satisfied: typing-extensions>=3.7.4.3 in /home/ann/anaconda3/envs/mathd2/lib/python3.10/site-packages (from huggingface-hub<1.0,>=0.26.0->transformers) (4.12.2)\n",
      "Requirement already satisfied: charset-normalizer<4,>=2 in /home/ann/anaconda3/envs/mathd2/lib/python3.10/site-packages (from requests->transformers) (3.3.2)\n",
      "Requirement already satisfied: idna<4,>=2.5 in /home/ann/anaconda3/envs/mathd2/lib/python3.10/site-packages (from requests->transformers) (3.7)\n",
      "Requirement already satisfied: urllib3<3,>=1.21.1 in /home/ann/anaconda3/envs/mathd2/lib/python3.10/site-packages (from requests->transformers) (2.3.0)\n",
      "Requirement already satisfied: certifi>=2017.4.17 in /home/ann/anaconda3/envs/mathd2/lib/python3.10/site-packages (from requests->transformers) (2025.1.31)\n",
      "Downloading transformers-4.49.0-py3-none-any.whl (10.0 MB)\n",
      "\u001b[2K   \u001b[90m━━━━━━━━━━━━━━━━━━━━━━━━━━━━━━━━━━━━━━━━\u001b[0m \u001b[32m10.0/10.0 MB\u001b[0m \u001b[31m45.0 MB/s\u001b[0m eta \u001b[36m0:00:00\u001b[0m \u001b[36m0:00:01\u001b[0m\n",
      "\u001b[?25hDownloading huggingface_hub-0.29.1-py3-none-any.whl (468 kB)\n",
      "Downloading safetensors-0.5.3-cp38-abi3-manylinux_2_17_x86_64.manylinux2014_x86_64.whl (471 kB)\n",
      "Downloading tokenizers-0.21.0-cp39-abi3-manylinux_2_17_x86_64.manylinux2014_x86_64.whl (3.0 MB)\n",
      "\u001b[2K   \u001b[90m━━━━━━━━━━━━━━━━━━━━━━━━━━━━━━━━━━━━━━━━\u001b[0m \u001b[32m3.0/3.0 MB\u001b[0m \u001b[31m91.2 MB/s\u001b[0m eta \u001b[36m0:00:00\u001b[0m\n",
      "Installing collected packages: safetensors, huggingface-hub, tokenizers, transformers\n",
      "Successfully installed huggingface-hub-0.29.1 safetensors-0.5.3 tokenizers-0.21.0 transformers-4.49.0\n"
     ]
    }
   ],
   "source": [
    "!pip install transformers"
   ]
  },
  {
   "cell_type": "code",
   "execution_count": 14,
   "id": "fdf4a786-d4b9-4365-aa49-caa3c1d9000d",
   "metadata": {},
   "outputs": [
    {
     "name": "stdout",
     "output_type": "stream",
     "text": [
      "Requirement already satisfied: huggingface_hub in /home/ann/anaconda3/envs/mathd2/lib/python3.10/site-packages (0.29.1)\n",
      "Requirement already satisfied: filelock in /home/ann/anaconda3/envs/mathd2/lib/python3.10/site-packages (from huggingface_hub) (3.13.1)\n",
      "Requirement already satisfied: fsspec>=2023.5.0 in /home/ann/anaconda3/envs/mathd2/lib/python3.10/site-packages (from huggingface_hub) (2024.12.0)\n",
      "Requirement already satisfied: packaging>=20.9 in /home/ann/anaconda3/envs/mathd2/lib/python3.10/site-packages (from huggingface_hub) (24.2)\n",
      "Requirement already satisfied: pyyaml>=5.1 in /home/ann/anaconda3/envs/mathd2/lib/python3.10/site-packages (from huggingface_hub) (6.0.2)\n",
      "Requirement already satisfied: requests in /home/ann/anaconda3/envs/mathd2/lib/python3.10/site-packages (from huggingface_hub) (2.32.3)\n",
      "Requirement already satisfied: tqdm>=4.42.1 in /home/ann/anaconda3/envs/mathd2/lib/python3.10/site-packages (from huggingface_hub) (4.67.1)\n",
      "Requirement already satisfied: typing-extensions>=3.7.4.3 in /home/ann/anaconda3/envs/mathd2/lib/python3.10/site-packages (from huggingface_hub) (4.12.2)\n",
      "Requirement already satisfied: charset-normalizer<4,>=2 in /home/ann/anaconda3/envs/mathd2/lib/python3.10/site-packages (from requests->huggingface_hub) (3.3.2)\n",
      "Requirement already satisfied: idna<4,>=2.5 in /home/ann/anaconda3/envs/mathd2/lib/python3.10/site-packages (from requests->huggingface_hub) (3.7)\n",
      "Requirement already satisfied: urllib3<3,>=1.21.1 in /home/ann/anaconda3/envs/mathd2/lib/python3.10/site-packages (from requests->huggingface_hub) (2.3.0)\n",
      "Requirement already satisfied: certifi>=2017.4.17 in /home/ann/anaconda3/envs/mathd2/lib/python3.10/site-packages (from requests->huggingface_hub) (2025.1.31)\n"
     ]
    }
   ],
   "source": [
    "!pip install huggingface_hub"
   ]
  },
  {
   "cell_type": "code",
   "execution_count": 22,
   "id": "c2a1038d-7633-49e0-9f1f-a972a6c1c985",
   "metadata": {},
   "outputs": [
    {
     "name": "stdout",
     "output_type": "stream",
     "text": [
      "Requirement already satisfied: accelerate>=0.26.0 in /home/ann/anaconda3/envs/mathd2/lib/python3.10/site-packages (1.4.0)\n",
      "Requirement already satisfied: numpy<3.0.0,>=1.17 in /home/ann/anaconda3/envs/mathd2/lib/python3.10/site-packages (from accelerate>=0.26.0) (1.26.4)\n",
      "Requirement already satisfied: packaging>=20.0 in /home/ann/anaconda3/envs/mathd2/lib/python3.10/site-packages (from accelerate>=0.26.0) (24.2)\n",
      "Requirement already satisfied: psutil in /home/ann/anaconda3/envs/mathd2/lib/python3.10/site-packages (from accelerate>=0.26.0) (5.9.0)\n",
      "Requirement already satisfied: pyyaml in /home/ann/anaconda3/envs/mathd2/lib/python3.10/site-packages (from accelerate>=0.26.0) (6.0.2)\n",
      "Requirement already satisfied: torch>=2.0.0 in /home/ann/anaconda3/envs/mathd2/lib/python3.10/site-packages (from accelerate>=0.26.0) (2.6.0+cu124)\n",
      "Requirement already satisfied: huggingface-hub>=0.21.0 in /home/ann/anaconda3/envs/mathd2/lib/python3.10/site-packages (from accelerate>=0.26.0) (0.29.1)\n",
      "Requirement already satisfied: safetensors>=0.4.3 in /home/ann/anaconda3/envs/mathd2/lib/python3.10/site-packages (from accelerate>=0.26.0) (0.5.3)\n",
      "Requirement already satisfied: filelock in /home/ann/anaconda3/envs/mathd2/lib/python3.10/site-packages (from huggingface-hub>=0.21.0->accelerate>=0.26.0) (3.13.1)\n",
      "Requirement already satisfied: fsspec>=2023.5.0 in /home/ann/anaconda3/envs/mathd2/lib/python3.10/site-packages (from huggingface-hub>=0.21.0->accelerate>=0.26.0) (2024.12.0)\n",
      "Requirement already satisfied: requests in /home/ann/anaconda3/envs/mathd2/lib/python3.10/site-packages (from huggingface-hub>=0.21.0->accelerate>=0.26.0) (2.32.3)\n",
      "Requirement already satisfied: tqdm>=4.42.1 in /home/ann/anaconda3/envs/mathd2/lib/python3.10/site-packages (from huggingface-hub>=0.21.0->accelerate>=0.26.0) (4.67.1)\n",
      "Requirement already satisfied: typing-extensions>=3.7.4.3 in /home/ann/anaconda3/envs/mathd2/lib/python3.10/site-packages (from huggingface-hub>=0.21.0->accelerate>=0.26.0) (4.12.2)\n",
      "Requirement already satisfied: networkx in /home/ann/anaconda3/envs/mathd2/lib/python3.10/site-packages (from torch>=2.0.0->accelerate>=0.26.0) (3.4.2)\n",
      "Requirement already satisfied: jinja2 in /home/ann/anaconda3/envs/mathd2/lib/python3.10/site-packages (from torch>=2.0.0->accelerate>=0.26.0) (3.1.5)\n",
      "Requirement already satisfied: nvidia-cuda-nvrtc-cu12==12.4.127 in /home/ann/anaconda3/envs/mathd2/lib/python3.10/site-packages (from torch>=2.0.0->accelerate>=0.26.0) (12.4.127)\n",
      "Requirement already satisfied: nvidia-cuda-runtime-cu12==12.4.127 in /home/ann/anaconda3/envs/mathd2/lib/python3.10/site-packages (from torch>=2.0.0->accelerate>=0.26.0) (12.4.127)\n",
      "Requirement already satisfied: nvidia-cuda-cupti-cu12==12.4.127 in /home/ann/anaconda3/envs/mathd2/lib/python3.10/site-packages (from torch>=2.0.0->accelerate>=0.26.0) (12.4.127)\n",
      "Requirement already satisfied: nvidia-cudnn-cu12==9.1.0.70 in /home/ann/anaconda3/envs/mathd2/lib/python3.10/site-packages (from torch>=2.0.0->accelerate>=0.26.0) (9.1.0.70)\n",
      "Requirement already satisfied: nvidia-cublas-cu12==12.4.5.8 in /home/ann/anaconda3/envs/mathd2/lib/python3.10/site-packages (from torch>=2.0.0->accelerate>=0.26.0) (12.4.5.8)\n",
      "Requirement already satisfied: nvidia-cufft-cu12==11.2.1.3 in /home/ann/anaconda3/envs/mathd2/lib/python3.10/site-packages (from torch>=2.0.0->accelerate>=0.26.0) (11.2.1.3)\n",
      "Requirement already satisfied: nvidia-curand-cu12==10.3.5.147 in /home/ann/anaconda3/envs/mathd2/lib/python3.10/site-packages (from torch>=2.0.0->accelerate>=0.26.0) (10.3.5.147)\n",
      "Requirement already satisfied: nvidia-cusolver-cu12==11.6.1.9 in /home/ann/anaconda3/envs/mathd2/lib/python3.10/site-packages (from torch>=2.0.0->accelerate>=0.26.0) (11.6.1.9)\n",
      "Requirement already satisfied: nvidia-cusparse-cu12==12.3.1.170 in /home/ann/anaconda3/envs/mathd2/lib/python3.10/site-packages (from torch>=2.0.0->accelerate>=0.26.0) (12.3.1.170)\n",
      "Requirement already satisfied: nvidia-cusparselt-cu12==0.6.2 in /home/ann/anaconda3/envs/mathd2/lib/python3.10/site-packages (from torch>=2.0.0->accelerate>=0.26.0) (0.6.2)\n",
      "Requirement already satisfied: nvidia-nccl-cu12==2.21.5 in /home/ann/anaconda3/envs/mathd2/lib/python3.10/site-packages (from torch>=2.0.0->accelerate>=0.26.0) (2.21.5)\n",
      "Requirement already satisfied: nvidia-nvtx-cu12==12.4.127 in /home/ann/anaconda3/envs/mathd2/lib/python3.10/site-packages (from torch>=2.0.0->accelerate>=0.26.0) (12.4.127)\n",
      "Requirement already satisfied: nvidia-nvjitlink-cu12==12.4.127 in /home/ann/anaconda3/envs/mathd2/lib/python3.10/site-packages (from torch>=2.0.0->accelerate>=0.26.0) (12.4.127)\n",
      "Requirement already satisfied: triton==3.2.0 in /home/ann/anaconda3/envs/mathd2/lib/python3.10/site-packages (from torch>=2.0.0->accelerate>=0.26.0) (3.2.0)\n",
      "Requirement already satisfied: sympy==1.13.1 in /home/ann/anaconda3/envs/mathd2/lib/python3.10/site-packages (from torch>=2.0.0->accelerate>=0.26.0) (1.13.1)\n",
      "Requirement already satisfied: mpmath<1.4,>=1.1.0 in /home/ann/anaconda3/envs/mathd2/lib/python3.10/site-packages (from sympy==1.13.1->torch>=2.0.0->accelerate>=0.26.0) (1.3.0)\n",
      "Requirement already satisfied: MarkupSafe>=2.0 in /home/ann/anaconda3/envs/mathd2/lib/python3.10/site-packages (from jinja2->torch>=2.0.0->accelerate>=0.26.0) (3.0.2)\n",
      "Requirement already satisfied: charset-normalizer<4,>=2 in /home/ann/anaconda3/envs/mathd2/lib/python3.10/site-packages (from requests->huggingface-hub>=0.21.0->accelerate>=0.26.0) (3.3.2)\n",
      "Requirement already satisfied: idna<4,>=2.5 in /home/ann/anaconda3/envs/mathd2/lib/python3.10/site-packages (from requests->huggingface-hub>=0.21.0->accelerate>=0.26.0) (3.7)\n",
      "Requirement already satisfied: urllib3<3,>=1.21.1 in /home/ann/anaconda3/envs/mathd2/lib/python3.10/site-packages (from requests->huggingface-hub>=0.21.0->accelerate>=0.26.0) (2.3.0)\n",
      "Requirement already satisfied: certifi>=2017.4.17 in /home/ann/anaconda3/envs/mathd2/lib/python3.10/site-packages (from requests->huggingface-hub>=0.21.0->accelerate>=0.26.0) (2025.1.31)\n"
     ]
    }
   ],
   "source": [
    "!pip install 'accelerate>=0.26.0'"
   ]
  },
  {
   "cell_type": "markdown",
   "id": "9c5a7e38-229b-4207-be40-8efbfdf5e8c0",
   "metadata": {},
   "source": [
    "## Test zero-shot"
   ]
  },
  {
   "cell_type": "code",
   "execution_count": 5,
   "id": "b0d0c82e",
   "metadata": {
    "tags": []
   },
   "outputs": [],
   "source": [
    "setting = \"Your task is to find the correct article title given a mathematical term and definition as context.\\n\""
   ]
  },
  {
   "cell_type": "code",
   "execution_count": 6,
   "id": "94d1f549",
   "metadata": {
    "tags": []
   },
   "outputs": [],
   "source": [
    "no_answer = \"Reply with \\\"I don\\'t know\\\" when uncertain. \\n\""
   ]
  },
  {
   "cell_type": "code",
   "execution_count": 7,
   "id": "dd62a972",
   "metadata": {
    "tags": []
   },
   "outputs": [],
   "source": [
    "no_explanation = \"Only select one answer from the provided list. \\nDo not provide justifications.\\n\""
   ]
  },
  {
   "cell_type": "code",
   "execution_count": 8,
   "id": "29f55289",
   "metadata": {
    "tags": []
   },
   "outputs": [],
   "source": [
    "definition = \"\\n\\nFor example, the endpoints of a line segment are its boundaries.\\n\\n\\n=== Containment ===\\nA geometric figure is said to be contained by its boundary or boundaries.\\n\\n \""
   ]
  },
  {
   "cell_type": "code",
   "execution_count": 9,
   "id": "01a0ed38",
   "metadata": {
    "tags": []
   },
   "outputs": [],
   "source": [
    "term = \"\\\"Boundary\\\"\""
   ]
  },
  {
   "cell_type": "code",
   "execution_count": 10,
   "id": "c0336744",
   "metadata": {
    "tags": []
   },
   "outputs": [],
   "source": [
    "choices = ['Boundary (Geometry)',\n",
    "  'Boundary (Topology)',\n",
    "  'Boundary (Graph Theory)']"
   ]
  },
  {
   "cell_type": "code",
   "execution_count": 11,
   "id": "131e1c39",
   "metadata": {
    "tags": []
   },
   "outputs": [
    {
     "name": "stdout",
     "output_type": "stream",
     "text": [
      "Reply with \"I don't know\" when uncertain. \n",
      "Only select one answer from the provided list. \n",
      "Do not provide justifications.\n",
      "Identify the correct definition title from this list: \n",
      "['Boundary (Geometry)', 'Boundary (Topology)', 'Boundary (Graph Theory)']\n",
      "\n",
      "Given the term \"Boundary\" and the following mathematical definition as context: \n",
      "\n",
      "\n",
      "For example, the endpoints of a line segment are its boundaries.\n",
      "\n",
      "\n",
      "=== Containment ===\n",
      "A geometric figure is said to be contained by its boundary or boundaries.\n",
      "\n",
      " \n"
     ]
    }
   ],
   "source": [
    "test_inst = no_answer + no_explanation + \\\n",
    "            \"Identify the correct definition title from this list: \\n\" + str(choices) + \\\n",
    "            \"\\n\\nGiven the term \" + term + \\\n",
    "            \" and the following mathematical definition as context: \\n\" + definition\n",
    "print(test_inst)"
   ]
  },
  {
   "cell_type": "code",
   "execution_count": 12,
   "id": "e31a4bff",
   "metadata": {
    "tags": []
   },
   "outputs": [
    {
     "data": {
      "application/vnd.jupyter.widget-view+json": {
       "model_id": "bb3b98dc43034da9a9d0525099849afd",
       "version_major": 2,
       "version_minor": 0
      },
      "text/plain": [
       "Loading checkpoint shards:   0%|          | 0/4 [00:00<?, ?it/s]"
      ]
     },
     "metadata": {},
     "output_type": "display_data"
    },
    {
     "name": "stderr",
     "output_type": "stream",
     "text": [
      "The attention mask is not set and cannot be inferred from input because pad token is same as eos token. As a consequence, you may observe unexpected behavior. Please pass your input's `attention_mask` to obtain reliable results.\n"
     ]
    },
    {
     "name": "stdout",
     "output_type": "stream",
     "text": [
      "'Boundary (Geometry)'\n"
     ]
    }
   ],
   "source": [
    "from transformers import AutoTokenizer, AutoModelForCausalLM\n",
    "import torch\n",
    "\n",
    "model_id = \"meta-llama/Meta-Llama-3-8B-Instruct\"\n",
    "\n",
    "tokenizer = AutoTokenizer.from_pretrained(model_id)\n",
    "model = AutoModelForCausalLM.from_pretrained(\n",
    "    model_id,\n",
    "    torch_dtype=torch.bfloat16,\n",
    "    device_map=\"auto\",\n",
    ")\n",
    "\n",
    "model.generation_config.pad_token_id = tokenizer.pad_token_id\n",
    "\n",
    "messages = [\n",
    "    {\"role\": \"system\", \"content\": setting},\n",
    "    {\"role\": \"user\", \"content\": test_inst},\n",
    "]\n",
    "\n",
    "input_ids = tokenizer.apply_chat_template(\n",
    "    messages,\n",
    "    add_generation_prompt=True,\n",
    "    return_tensors=\"pt\"\n",
    ").to(model.device)\n",
    "\n",
    "terminators = [\n",
    "    tokenizer.eos_token_id,\n",
    "    tokenizer.convert_tokens_to_ids(\"<|eot_id|>\")\n",
    "]\n",
    "    \n",
    "outputs = model.generate(\n",
    "    input_ids,\n",
    "    max_new_tokens=256,\n",
    "    eos_token_id=terminators,\n",
    "    do_sample=True,\n",
    "    temperature=0.6,\n",
    "    top_p=0.9,\n",
    "    pad_token_id=tokenizer.eos_token_id\n",
    ")\n",
    "response = outputs[0][input_ids.shape[-1]:]\n",
    "print(tokenizer.decode(response, skip_special_tokens=True))"
   ]
  },
  {
   "cell_type": "code",
   "execution_count": 13,
   "id": "0d5b6751",
   "metadata": {},
   "outputs": [
    {
     "data": {
      "text/plain": [
       "['Boundary (Geometry)', 'Boundary (Topology)', 'Boundary (Graph Theory)']"
      ]
     },
     "execution_count": 13,
     "metadata": {},
     "output_type": "execute_result"
    }
   ],
   "source": [
    "def get_choices(term):\n",
    "    global df_term_kb\n",
    "    choices = list()\n",
    "    for idx, choice in enumerate(df_term_kb[term]):\n",
    "        #text = f'{idx+1}. {choice.split(\":\")[-1]}'        \n",
    "        text = f'{choice.split(\":\")[-1]}'        \n",
    "        choices.append(text)\n",
    "    \n",
    "    return choices    \n",
    "    \n",
    "\n",
    "get_choices(\"Boundary\")"
   ]
  },
  {
   "cell_type": "code",
   "execution_count": 26,
   "id": "96c6ab21",
   "metadata": {},
   "outputs": [
    {
     "data": {
      "text/plain": [
       "364"
      ]
     },
     "execution_count": 26,
     "metadata": {},
     "output_type": "execute_result"
    }
   ],
   "source": [
    "len(df_test_term)"
   ]
  },
  {
   "cell_type": "code",
   "execution_count": 27,
   "id": "5784f983-33f7-4500-ad77-0b2a184915e2",
   "metadata": {},
   "outputs": [
    {
     "data": {
      "text/plain": [
       "462"
      ]
     },
     "execution_count": 27,
     "metadata": {},
     "output_type": "execute_result"
    }
   ],
   "source": [
    "len(df_test_title)"
   ]
  },
  {
   "cell_type": "code",
   "execution_count": 14,
   "id": "bf13732b",
   "metadata": {},
   "outputs": [],
   "source": [
    "from rich.progress import track, Progress\n",
    "from rich import print\n",
    "import datetime, time\n",
    "\n",
    "def run_test(data, logfile, offset):\n",
    "\n",
    "    global tokenizer\n",
    "    global model\n",
    "    \n",
    "    answers = list()\n",
    "    total_time = 0\n",
    "    messages = list()\n",
    "\n",
    "    print(datetime.datetime.now())\n",
    "\n",
    "    with Progress() as progress:\n",
    "\n",
    "        task1 = progress.add_task(\"[blue] Prompt sample [%s]\" % (len(data)-offset), total=len(data)-offset)\n",
    "\n",
    "        with open(logfile, 'w') as f_logs:\n",
    "\n",
    "            for idx, elem in enumerate(data[offset:]):\n",
    "                progress.update(task1, advance=1)\n",
    "    \n",
    "                choices = get_choices(elem['term'])\n",
    "                inst = no_answer + \\\n",
    "                    no_explanation + \\\n",
    "                    \"Identify the correct definition title from this list: \\n\" + str(choices) +\\\n",
    "                    \"\\nGiven the term \" + elem['term'] + \\\n",
    "                    \" and the following mathematical definition as context: \\n\" + elem['definition']\n",
    "    \n",
    "                #messages.append([{\"role\": \"user\", \"content\": inst}])\n",
    "                messages = [\n",
    "                    {\"role\": \"system\", \"content\": setting},\n",
    "                    {\"role\": \"user\", \"content\": inst},\n",
    "                ]\n",
    "                \n",
    "                #print(f'start [{idx}]: {datetime.datetime.now()}')\n",
    "                start = time.time()\n",
    "                \n",
    "                messages = [\n",
    "                    {\"role\": \"system\", \"content\": setting},\n",
    "                    {\"role\": \"user\", \"content\": inst},\n",
    "                ]\n",
    "                \n",
    "                input_ids = tokenizer.apply_chat_template(\n",
    "                    messages,\n",
    "                    add_generation_prompt=True,\n",
    "                    return_tensors=\"pt\"\n",
    "                ).to(model.device)\n",
    "                \n",
    "                terminators = [\n",
    "                    tokenizer.eos_token_id,\n",
    "                    tokenizer.convert_tokens_to_ids(\"<|eot_id|>\")\n",
    "                ]\n",
    "                    \n",
    "                outputs = model.generate(\n",
    "                    input_ids,\n",
    "                    max_new_tokens=256,\n",
    "                    eos_token_id=terminators,\n",
    "                    do_sample=True,\n",
    "                    temperature=0.6,\n",
    "                    top_p=0.9,\n",
    "                    pad_token_id=tokenizer.eos_token_id\n",
    "                )                \n",
    "                \n",
    "                response = outputs[0][input_ids.shape[-1]:]\n",
    "                answer = tokenizer.decode(response, skip_special_tokens=True)\n",
    "                \n",
    "                end = time.time()\n",
    "                elapsed_time = end - start\n",
    "                total_time += elapsed_time\n",
    "                logstr = f'[{idx + offset}],{elapsed_time}\\n'\n",
    "                f_logs.write(logstr)\n",
    "    \n",
    "                answers.append((idx, elem['definition'].split(':')[-1], answer))        \n",
    "\n",
    "        return total_time, answers\n",
    "        "
   ]
  },
  {
   "cell_type": "markdown",
   "id": "3486b51f-ac73-43ee-9a64-fd4c64adebe7",
   "metadata": {},
   "source": [
    "## test_term"
   ]
  },
  {
   "cell_type": "code",
   "execution_count": 28,
   "id": "c891926f",
   "metadata": {},
   "outputs": [
    {
     "data": {
      "text/html": [
       "<pre style=\"white-space:pre;overflow-x:auto;line-height:normal;font-family:Menlo,'DejaVu Sans Mono',consolas,'Courier New',monospace\"><span style=\"color: #008080; text-decoration-color: #008080; font-weight: bold\">2025</span>-<span style=\"color: #008080; text-decoration-color: #008080; font-weight: bold\">03</span>-<span style=\"color: #008080; text-decoration-color: #008080; font-weight: bold\">02</span> <span style=\"color: #00ff00; text-decoration-color: #00ff00; font-weight: bold\">00:08:59</span>.<span style=\"color: #008080; text-decoration-color: #008080; font-weight: bold\">646064</span>\n",
       "</pre>\n"
      ],
      "text/plain": [
       "\u001b[1;36m2025\u001b[0m-\u001b[1;36m03\u001b[0m-\u001b[1;36m02\u001b[0m \u001b[1;92m00:08:59\u001b[0m.\u001b[1;36m646064\u001b[0m\n"
      ]
     },
     "metadata": {},
     "output_type": "display_data"
    },
    {
     "data": {
      "application/vnd.jupyter.widget-view+json": {
       "model_id": "bcde9637bd6944478d3f1b54287cd5bc",
       "version_major": 2,
       "version_minor": 0
      },
      "text/plain": [
       "Output()"
      ]
     },
     "metadata": {},
     "output_type": "display_data"
    },
    {
     "data": {
      "text/html": [
       "<pre style=\"white-space:pre;overflow-x:auto;line-height:normal;font-family:Menlo,'DejaVu Sans Mono',consolas,'Courier New',monospace\"></pre>\n"
      ],
      "text/plain": []
     },
     "metadata": {},
     "output_type": "display_data"
    }
   ],
   "source": [
    "test_term_time, test_term_answers = run_test(df_test_term, logfile='/home/ann/fiz-ddb/notebook/data/llama31-exec-01-test-term.csv', offset=0)"
   ]
  },
  {
   "cell_type": "code",
   "execution_count": 29,
   "id": "aff81ffe",
   "metadata": {},
   "outputs": [
    {
     "data": {
      "text/html": [
       "<pre style=\"white-space:pre;overflow-x:auto;line-height:normal;font-family:Menlo,'DejaVu Sans Mono',consolas,'Courier New',monospace\"><span style=\"color: #008080; text-decoration-color: #008080; font-weight: bold\">116.12741541862488</span>\n",
       "</pre>\n"
      ],
      "text/plain": [
       "\u001b[1;36m116.12741541862488\u001b[0m\n"
      ]
     },
     "metadata": {},
     "output_type": "display_data"
    },
    {
     "data": {
      "text/html": [
       "<pre style=\"white-space:pre;overflow-x:auto;line-height:normal;font-family:Menlo,'DejaVu Sans Mono',consolas,'Courier New',monospace\"><span style=\"color: #008080; text-decoration-color: #008080; font-weight: bold\">364</span>\n",
       "</pre>\n"
      ],
      "text/plain": [
       "\u001b[1;36m364\u001b[0m\n"
      ]
     },
     "metadata": {},
     "output_type": "display_data"
    }
   ],
   "source": [
    "print(test_term_time)\n",
    "print(len(test_term_answers))"
   ]
  },
  {
   "cell_type": "code",
   "execution_count": 30,
   "id": "ca74b53e-5b7c-4d3a-a229-655bac5ea9c3",
   "metadata": {},
   "outputs": [
    {
     "data": {
      "text/plain": [
       "[(0,\n",
       "  'Let T = ( S, τ) be a topological space.\\n\\n\\n=== Definition 1 ===\\nLet T = ( S, τ) be a topological space.\\n\\n\\nT is a Baire space  if and only if  the union of any countable set of closed sets of T whose interiors are empty also has an empty interior.\\n\\n=== Definition 2 ===\\nLet T = ( S, τ) be a topological space.\\n\\n\\nT is a Baire space  if and only if  the intersection of any countable set of open sets of T which are everywhere dense is everywhere dense.\\n\\n=== Definition 3 ===\\nLet T = ( S, τ) be a topological space.\\n\\n\\nT is a Baire space  if and only if  the interior of the union of any countable set of closed sets of T which are nowhere dense is empty.\\n\\n=== Definition 4 ===\\nLet T = ( S, τ) be a topological space.\\n\\n\\nT is a Baire space  if and only if , whenever the union of any countable set of closed sets of T has an interior point, then one of those closed sets must have an interior point.',\n",
       "  \"'Baire Space (Topology)'\"),\n",
       " (1,\n",
       "  'The Baire space 𝐁 is defined as the set of all infinite sequences of natural numbers.\\n\\nIt can also be defined as the Cartesian product of a countably infinite number of copies of the set of natural numbers.',\n",
       "  \"'Baire Space (Set Theory)'\"),\n",
       " (2,\n",
       "  'Complex analysis is a branch of mathematics that studies complex functions.',\n",
       "  'Analysis/Complex'),\n",
       " (3,\n",
       "  '( a, b )  = ( a, -b )\\n\\n\\nIt is clear by direct comparison with the formal definition that this construction genuinely does generate the complex numbers.',\n",
       "  \"'Complex Number'\"),\n",
       " (4,\n",
       "  ' ℂ→ℂ be a complex function.\\n\\nLet f (   )z = w.\\n\\n\\nThen w is referred to as the dependent variable (of f).',\n",
       "  'Complex Function')]"
      ]
     },
     "execution_count": 30,
     "metadata": {},
     "output_type": "execute_result"
    }
   ],
   "source": [
    "test_term_answers[:5]"
   ]
  },
  {
   "cell_type": "markdown",
   "id": "fa2716e7-6959-41f6-bb16-fb00cafc0765",
   "metadata": {
    "jp-MarkdownHeadingCollapsed": true
   },
   "source": [
    "## test_title"
   ]
  },
  {
   "cell_type": "markdown",
   "id": "29c76ef0",
   "metadata": {},
   "source": [
    "# Test run"
   ]
  },
  {
   "cell_type": "code",
   "execution_count": 39,
   "id": "d7d40653-9551-4db4-bfa5-9403786c2e68",
   "metadata": {},
   "outputs": [
    {
     "data": {
      "text/plain": [
       "462"
      ]
     },
     "execution_count": 39,
     "metadata": {},
     "output_type": "execute_result"
    }
   ],
   "source": [
    "len(df_test_title)"
   ]
  },
  {
   "cell_type": "code",
   "execution_count": 40,
   "id": "ee555f26-bdd8-425e-8e71-351052b98aa7",
   "metadata": {},
   "outputs": [
    {
     "data": {
      "text/html": [
       "<pre style=\"white-space:pre;overflow-x:auto;line-height:normal;font-family:Menlo,'DejaVu Sans Mono',consolas,'Courier New',monospace\"><span style=\"color: #008080; text-decoration-color: #008080; font-weight: bold\">2025</span>-<span style=\"color: #008080; text-decoration-color: #008080; font-weight: bold\">03</span>-<span style=\"color: #008080; text-decoration-color: #008080; font-weight: bold\">02</span> <span style=\"color: #00ff00; text-decoration-color: #00ff00; font-weight: bold\">00:15:21</span>.<span style=\"color: #008080; text-decoration-color: #008080; font-weight: bold\">574210</span>\n",
       "</pre>\n"
      ],
      "text/plain": [
       "\u001b[1;36m2025\u001b[0m-\u001b[1;36m03\u001b[0m-\u001b[1;36m02\u001b[0m \u001b[1;92m00:15:21\u001b[0m.\u001b[1;36m574210\u001b[0m\n"
      ]
     },
     "metadata": {},
     "output_type": "display_data"
    },
    {
     "data": {
      "application/vnd.jupyter.widget-view+json": {
       "model_id": "3db3323b2fd14b2eba62e93d1217a353",
       "version_major": 2,
       "version_minor": 0
      },
      "text/plain": [
       "Output()"
      ]
     },
     "metadata": {},
     "output_type": "display_data"
    },
    {
     "data": {
      "text/html": [
       "<pre style=\"white-space:pre;overflow-x:auto;line-height:normal;font-family:Menlo,'DejaVu Sans Mono',consolas,'Courier New',monospace\"></pre>\n"
      ],
      "text/plain": []
     },
     "metadata": {},
     "output_type": "display_data"
    }
   ],
   "source": [
    "test_title_time, test_title_answers = run_test(df_test_title, logfile='/home/ann/fiz-ddb/notebook/data/llama31-exec-01-test-title.csv', offset=0)"
   ]
  },
  {
   "cell_type": "markdown",
   "id": "44920e7a",
   "metadata": {},
   "source": [
    "# Analysis"
   ]
  },
  {
   "cell_type": "markdown",
   "id": "76363e8d-f4d2-4e8a-8f2b-f7db2d2d6b18",
   "metadata": {},
   "source": [
    "## test_term"
   ]
  },
  {
   "cell_type": "code",
   "execution_count": 34,
   "id": "ca6721a6",
   "metadata": {},
   "outputs": [
    {
     "data": {
      "text/plain": [
       "364"
      ]
     },
     "execution_count": 34,
     "metadata": {},
     "output_type": "execute_result"
    }
   ],
   "source": [
    "len(test_term_answers)"
   ]
  },
  {
   "cell_type": "markdown",
   "id": "5c53a6a8",
   "metadata": {},
   "source": [
    "{'Boundary': ['Definition:Boundary (Geometry)',\n",
    "  'Definition:Boundary (Topology)',\n",
    "  'Definition:Boundary (Graph Theory)'],\n",
    " 'Right': ['Definition:Right (Direction)',\n",
    "  'Definition:Right Angle',\n",
    "  'Definition:Right Hand Side',\n",
    "  'Definition:Right-Total Relation',\n",
    "  'Definition:Right Quasi-Reflexive Relation`"
   ]
  },
  {
   "cell_type": "code",
   "execution_count": 16,
   "id": "7dbdbea6",
   "metadata": {},
   "outputs": [],
   "source": [
    "import re\n",
    "\n",
    "def get_results(df_test, raw_answers):\n",
    "    results = list()\n",
    "    correct_count = 0\n",
    "    \n",
    "    for idx, elem in enumerate(zip(df_test, raw_answers)):\n",
    "        (gt, answer) = elem\n",
    "        choices = get_choices(gt['term'])\n",
    "        gt = gt['title'].split('Definition:')[-1]\n",
    "        \n",
    "        is_correct = False\n",
    "        answer = re.sub(\"[\\\"\\']\", \"\", answer[2])\n",
    "        \n",
    "        #if gt.lower().strip() in answer[1].lower().strip(): #lax\n",
    "        #if gt in answer or answer in gt:\n",
    "        if answer.lower().strip() in gt.lower().strip():\n",
    "            is_correct = True\n",
    "            correct_count += 1\n",
    "        elif answer in gt:\n",
    "            is_correct = True\n",
    "            correct_count += 1\n",
    "\n",
    "        results.append({\n",
    "            'idx': idx,\n",
    "            'is_correct': is_correct,\n",
    "            'gt': gt,\n",
    "            'pred': answer,\n",
    "            'choices': choices\n",
    "        })\n",
    "\n",
    "    return correct_count, results"
   ]
  },
  {
   "cell_type": "code",
   "execution_count": 32,
   "id": "baf584b2-4268-4272-b286-eea0707e2ab0",
   "metadata": {},
   "outputs": [],
   "source": [
    "test_term_correct_count, test_term_results = get_results(df_test_term, test_term_answers)"
   ]
  },
  {
   "cell_type": "markdown",
   "id": "c1d9f95d-3ebe-4557-a9e0-fd579434c219",
   "metadata": {},
   "source": [
    "### Scores"
   ]
  },
  {
   "cell_type": "code",
   "execution_count": 33,
   "id": "56060ac3",
   "metadata": {},
   "outputs": [
    {
     "data": {
      "text/html": [
       "<pre style=\"white-space:pre;overflow-x:auto;line-height:normal;font-family:Menlo,'DejaVu Sans Mono',consolas,'Courier New',monospace\">Accuracy: <span style=\"color: #008080; text-decoration-color: #008080; font-weight: bold\">78.30</span>\n",
       "</pre>\n"
      ],
      "text/plain": [
       "Accuracy: \u001b[1;36m78.30\u001b[0m\n"
      ]
     },
     "metadata": {},
     "output_type": "display_data"
    }
   ],
   "source": [
    "print(f'Accuracy: {test_term_correct_count/len(df_test_term)*100:0.2f}')"
   ]
  },
  {
   "cell_type": "code",
   "execution_count": 34,
   "id": "5cf209ce",
   "metadata": {},
   "outputs": [],
   "source": [
    "pkl_vars(test_term_results, '/home/ann/fiz-ddb/notebook/data/vars/llama31-results-01-test-term.pkl')"
   ]
  },
  {
   "cell_type": "markdown",
   "id": "572f7594-639c-4b0d-9348-6c53ff11c734",
   "metadata": {},
   "source": [
    "## test_title"
   ]
  },
  {
   "cell_type": "code",
   "execution_count": 41,
   "id": "abd2e6d0-4b19-4fba-a7e4-97ece01a94e1",
   "metadata": {},
   "outputs": [],
   "source": [
    "test_title_correct_count, test_title_results = get_results(df_test_title, test_title_answers)"
   ]
  },
  {
   "cell_type": "code",
   "execution_count": 42,
   "id": "b139e8d3-f9a4-4120-a14f-ea549bef220e",
   "metadata": {},
   "outputs": [
    {
     "data": {
      "text/html": [
       "<pre style=\"white-space:pre;overflow-x:auto;line-height:normal;font-family:Menlo,'DejaVu Sans Mono',consolas,'Courier New',monospace\">Accuracy: <span style=\"color: #008080; text-decoration-color: #008080; font-weight: bold\">68.61</span>\n",
       "</pre>\n"
      ],
      "text/plain": [
       "Accuracy: \u001b[1;36m68.61\u001b[0m\n"
      ]
     },
     "metadata": {},
     "output_type": "display_data"
    }
   ],
   "source": [
    "print(f'Accuracy: {test_title_correct_count/len(df_test_title)*100:0.2f}')"
   ]
  },
  {
   "cell_type": "code",
   "execution_count": 43,
   "id": "6856f1aa-45e3-4c3f-8728-178954b9f451",
   "metadata": {},
   "outputs": [],
   "source": [
    "pkl_vars(test_title_results, '/home/ann/fiz-ddb/notebook/data/vars/llama31-results-01-test-title.pkl')"
   ]
  },
  {
   "cell_type": "markdown",
   "id": "3b7663be-a762-4a92-89e5-0b82eebb88f8",
   "metadata": {},
   "source": [
    "## Error Analysis"
   ]
  },
  {
   "cell_type": "code",
   "execution_count": 35,
   "id": "7f0ac990",
   "metadata": {},
   "outputs": [],
   "source": [
    "def get_errors(results):\n",
    "    incorrect = list()\n",
    "    \n",
    "    for result in results:\n",
    "        if not result['is_correct']:\n",
    "            incorrect.append(result)\n",
    "    return incorrect"
   ]
  },
  {
   "cell_type": "code",
   "execution_count": 36,
   "id": "61766192-332a-47a1-97cf-693b24eef1c3",
   "metadata": {},
   "outputs": [],
   "source": [
    "test_term_incorrect = get_errors(test_term_results)"
   ]
  },
  {
   "cell_type": "code",
   "execution_count": 37,
   "id": "f1be3000-82c2-42b8-8161-f7525dcf74c1",
   "metadata": {},
   "outputs": [
    {
     "data": {
      "text/plain": [
       "79"
      ]
     },
     "execution_count": 37,
     "metadata": {},
     "output_type": "execute_result"
    }
   ],
   "source": [
    "len(test_term_incorrect)"
   ]
  },
  {
   "cell_type": "code",
   "execution_count": 38,
   "id": "71d51709-00d2-4760-a4cc-091998f079f6",
   "metadata": {},
   "outputs": [],
   "source": [
    "import json\n",
    "\n",
    "with open('/home/ann/fiz-ddb/notebook/data/llama31-errors-01-test-term.txt', 'w') as f:\n",
    "    f.write(json.dumps(test_term_incorrect, indent=4, sort_keys=True))"
   ]
  },
  {
   "cell_type": "code",
   "execution_count": 44,
   "id": "8344243b-7faa-4ba5-bb45-de663a7fea57",
   "metadata": {},
   "outputs": [],
   "source": [
    "test_title_incorrect = get_errors(test_title_results)\n",
    "\n",
    "with open('/home/ann/fiz-ddb/notebook/data/llama31-errors-01-test-title.txt', 'w') as f:\n",
    "    f.write(json.dumps(test_title_incorrect, indent=4, sort_keys=True))"
   ]
  },
  {
   "cell_type": "markdown",
   "id": "daa5b95a",
   "metadata": {},
   "source": [
    "# Cleanup"
   ]
  },
  {
   "cell_type": "code",
   "execution_count": 447,
   "id": "d7e8f7af",
   "metadata": {},
   "outputs": [],
   "source": [
    "import torch, gc\n",
    "model = None\n",
    "tokenizer = None\n",
    "encodeds = None\n",
    "\n",
    "gc.collect()\n",
    "\n",
    "del encodeds\n",
    "del tokenizer\n",
    "del model\n",
    "\n",
    "torch.cuda.empty_cache()"
   ]
  },
  {
   "cell_type": "markdown",
   "id": "a13b6b62-537e-4377-acd7-d030b052a095",
   "metadata": {},
   "source": [
    "# 5-fold"
   ]
  },
  {
   "cell_type": "code",
   "execution_count": 17,
   "id": "28461772-c42f-4392-ab92-640f724a7095",
   "metadata": {},
   "outputs": [
    {
     "data": {
      "text/html": [
       "<pre style=\"white-space:pre;overflow-x:auto;line-height:normal;font-family:Menlo,'DejaVu Sans Mono',consolas,'Courier New',monospace\"><span style=\"font-weight: bold\">[</span>\n",
       "    <span style=\"color: #008000; text-decoration-color: #008000\">'flattened_test_new_candi_1_disam_list.pkl'</span>,\n",
       "    <span style=\"color: #008000; text-decoration-color: #008000\">'flattened_test_new_candi_2_disam_list.pkl'</span>,\n",
       "    <span style=\"color: #008000; text-decoration-color: #008000\">'flattened_test_new_candi_3_disam_list.pkl'</span>,\n",
       "    <span style=\"color: #008000; text-decoration-color: #008000\">'flattened_test_new_candi_4_disam_list.pkl'</span>,\n",
       "    <span style=\"color: #008000; text-decoration-color: #008000\">'flattened_test_new_candi_5_disam_list.pkl'</span>,\n",
       "    <span style=\"color: #008000; text-decoration-color: #008000\">'flattened_test_new_term_1_disam_list.pkl'</span>,\n",
       "    <span style=\"color: #008000; text-decoration-color: #008000\">'flattened_test_new_term_2_disam_list.pkl'</span>,\n",
       "    <span style=\"color: #008000; text-decoration-color: #008000\">'flattened_test_new_term_3_disam_list.pkl'</span>,\n",
       "    <span style=\"color: #008000; text-decoration-color: #008000\">'flattened_test_new_term_4_disam_list.pkl'</span>,\n",
       "    <span style=\"color: #008000; text-decoration-color: #008000\">'flattened_test_new_term_5_disam_list.pkl'</span>\n",
       "<span style=\"font-weight: bold\">]</span>\n",
       "</pre>\n"
      ],
      "text/plain": [
       "\u001b[1m[\u001b[0m\n",
       "    \u001b[32m'flattened_test_new_candi_1_disam_list.pkl'\u001b[0m,\n",
       "    \u001b[32m'flattened_test_new_candi_2_disam_list.pkl'\u001b[0m,\n",
       "    \u001b[32m'flattened_test_new_candi_3_disam_list.pkl'\u001b[0m,\n",
       "    \u001b[32m'flattened_test_new_candi_4_disam_list.pkl'\u001b[0m,\n",
       "    \u001b[32m'flattened_test_new_candi_5_disam_list.pkl'\u001b[0m,\n",
       "    \u001b[32m'flattened_test_new_term_1_disam_list.pkl'\u001b[0m,\n",
       "    \u001b[32m'flattened_test_new_term_2_disam_list.pkl'\u001b[0m,\n",
       "    \u001b[32m'flattened_test_new_term_3_disam_list.pkl'\u001b[0m,\n",
       "    \u001b[32m'flattened_test_new_term_4_disam_list.pkl'\u001b[0m,\n",
       "    \u001b[32m'flattened_test_new_term_5_disam_list.pkl'\u001b[0m\n",
       "\u001b[1m]\u001b[0m\n"
      ]
     },
     "metadata": {},
     "output_type": "display_data"
    }
   ],
   "source": [
    "test_files = [\"flattened_test_new_candi_1_disam_list.pkl\", \\\n",
    "                    \"flattened_test_new_candi_2_disam_list.pkl\", \\\n",
    "                    \"flattened_test_new_candi_3_disam_list.pkl\", \\\n",
    "                    \"flattened_test_new_candi_4_disam_list.pkl\", \\\n",
    "                    \"flattened_test_new_candi_5_disam_list.pkl\", \\\n",
    "                    \"flattened_test_new_term_1_disam_list.pkl\", \\\n",
    "                    \"flattened_test_new_term_2_disam_list.pkl\", \\\n",
    "                    \"flattened_test_new_term_3_disam_list.pkl\", \\\n",
    "                    \"flattened_test_new_term_4_disam_list.pkl\", \\\n",
    "                    \"flattened_test_new_term_5_disam_list.pkl\"]\n",
    "print(test_files)"
   ]
  },
  {
   "cell_type": "code",
   "execution_count": 18,
   "id": "c78eee52-f4a0-469e-84df-a872dd97eb83",
   "metadata": {},
   "outputs": [],
   "source": [
    "TEST_DATA = {}"
   ]
  },
  {
   "cell_type": "code",
   "execution_count": 19,
   "id": "4f4fa66d-dc4f-4495-806a-869dac5b30e4",
   "metadata": {
    "scrolled": true
   },
   "outputs": [
    {
     "data": {
      "text/html": [
       "<pre style=\"white-space:pre;overflow-x:auto;line-height:normal;font-family:Menlo,'DejaVu Sans Mono',consolas,'Courier New',monospace\"><span style=\"color: #800080; text-decoration-color: #800080\">/home/ann/fiz-ddb/notebook/data/vars/</span><span style=\"color: #ff00ff; text-decoration-color: #ff00ff\">flattened_test_new_candi_1_disam_list.pkl</span> \n",
       "<span style=\"color: #800080; text-decoration-color: #800080\">/home/ann/fiz-ddb/notebook/data/5fold-llama3/</span><span style=\"color: #ff00ff; text-decoration-color: #ff00ff\">flattened_test_new_candi_1_disam_list.pkl.log</span>\n",
       "</pre>\n"
      ],
      "text/plain": [
       "\u001b[35m/home/ann/fiz-ddb/notebook/data/vars/\u001b[0m\u001b[95mflattened_test_new_candi_1_disam_list.pkl\u001b[0m \n",
       "\u001b[35m/home/ann/fiz-ddb/notebook/data/5fold-llama3/\u001b[0m\u001b[95mflattened_test_new_candi_1_disam_list.pkl.log\u001b[0m\n"
      ]
     },
     "metadata": {},
     "output_type": "display_data"
    },
    {
     "data": {
      "text/html": [
       "<pre style=\"white-space:pre;overflow-x:auto;line-height:normal;font-family:Menlo,'DejaVu Sans Mono',consolas,'Courier New',monospace\"><span style=\"color: #008080; text-decoration-color: #008080; font-weight: bold\">2025</span>-<span style=\"color: #008080; text-decoration-color: #008080; font-weight: bold\">03</span>-<span style=\"color: #008080; text-decoration-color: #008080; font-weight: bold\">10</span> <span style=\"color: #00ff00; text-decoration-color: #00ff00; font-weight: bold\">16:22:45</span>.<span style=\"color: #008080; text-decoration-color: #008080; font-weight: bold\">267485</span>\n",
       "</pre>\n"
      ],
      "text/plain": [
       "\u001b[1;36m2025\u001b[0m-\u001b[1;36m03\u001b[0m-\u001b[1;36m10\u001b[0m \u001b[1;92m16:22:45\u001b[0m.\u001b[1;36m267485\u001b[0m\n"
      ]
     },
     "metadata": {},
     "output_type": "display_data"
    },
    {
     "data": {
      "application/vnd.jupyter.widget-view+json": {
       "model_id": "5d4cd73e574d4d03abb362c7143d3585",
       "version_major": 2,
       "version_minor": 0
      },
      "text/plain": [
       "Output()"
      ]
     },
     "metadata": {},
     "output_type": "display_data"
    },
    {
     "data": {
      "text/html": [
       "<pre style=\"white-space:pre;overflow-x:auto;line-height:normal;font-family:Menlo,'DejaVu Sans Mono',consolas,'Courier New',monospace\"></pre>\n"
      ],
      "text/plain": []
     },
     "metadata": {},
     "output_type": "display_data"
    },
    {
     "data": {
      "text/html": [
       "<pre style=\"white-space:pre;overflow-x:auto;line-height:normal;font-family:Menlo,'DejaVu Sans Mono',consolas,'Courier New',monospace\"><span style=\"font-weight: bold\">[</span><span style=\"color: #008080; text-decoration-color: #008080; font-weight: bold\">74.70</span><span style=\"font-weight: bold\">]</span> <span style=\"font-weight: bold\">(</span>flattened_test_new_candi_1_disam_list.pkl<span style=\"font-weight: bold\">)</span>\n",
       "</pre>\n"
      ],
      "text/plain": [
       "\u001b[1m[\u001b[0m\u001b[1;36m74.70\u001b[0m\u001b[1m]\u001b[0m \u001b[1m(\u001b[0mflattened_test_new_candi_1_disam_list.pkl\u001b[1m)\u001b[0m\n"
      ]
     },
     "metadata": {},
     "output_type": "display_data"
    },
    {
     "data": {
      "text/html": [
       "<pre style=\"white-space:pre;overflow-x:auto;line-height:normal;font-family:Menlo,'DejaVu Sans Mono',consolas,'Courier New',monospace\"><span style=\"color: #800080; text-decoration-color: #800080\">/home/ann/fiz-ddb/notebook/data/vars/</span><span style=\"color: #ff00ff; text-decoration-color: #ff00ff\">flattened_test_new_candi_2_disam_list.pkl</span> \n",
       "<span style=\"color: #800080; text-decoration-color: #800080\">/home/ann/fiz-ddb/notebook/data/5fold-llama3/</span><span style=\"color: #ff00ff; text-decoration-color: #ff00ff\">flattened_test_new_candi_2_disam_list.pkl.log</span>\n",
       "</pre>\n"
      ],
      "text/plain": [
       "\u001b[35m/home/ann/fiz-ddb/notebook/data/vars/\u001b[0m\u001b[95mflattened_test_new_candi_2_disam_list.pkl\u001b[0m \n",
       "\u001b[35m/home/ann/fiz-ddb/notebook/data/5fold-llama3/\u001b[0m\u001b[95mflattened_test_new_candi_2_disam_list.pkl.log\u001b[0m\n"
      ]
     },
     "metadata": {},
     "output_type": "display_data"
    },
    {
     "data": {
      "text/html": [
       "<pre style=\"white-space:pre;overflow-x:auto;line-height:normal;font-family:Menlo,'DejaVu Sans Mono',consolas,'Courier New',monospace\"><span style=\"color: #008080; text-decoration-color: #008080; font-weight: bold\">2025</span>-<span style=\"color: #008080; text-decoration-color: #008080; font-weight: bold\">03</span>-<span style=\"color: #008080; text-decoration-color: #008080; font-weight: bold\">10</span> <span style=\"color: #00ff00; text-decoration-color: #00ff00; font-weight: bold\">16:24:51</span>.<span style=\"color: #008080; text-decoration-color: #008080; font-weight: bold\">623811</span>\n",
       "</pre>\n"
      ],
      "text/plain": [
       "\u001b[1;36m2025\u001b[0m-\u001b[1;36m03\u001b[0m-\u001b[1;36m10\u001b[0m \u001b[1;92m16:24:51\u001b[0m.\u001b[1;36m623811\u001b[0m\n"
      ]
     },
     "metadata": {},
     "output_type": "display_data"
    },
    {
     "data": {
      "application/vnd.jupyter.widget-view+json": {
       "model_id": "9ba700f94ef34cbeaf6dc6ff7c07191d",
       "version_major": 2,
       "version_minor": 0
      },
      "text/plain": [
       "Output()"
      ]
     },
     "metadata": {},
     "output_type": "display_data"
    },
    {
     "data": {
      "text/html": [
       "<pre style=\"white-space:pre;overflow-x:auto;line-height:normal;font-family:Menlo,'DejaVu Sans Mono',consolas,'Courier New',monospace\"></pre>\n"
      ],
      "text/plain": []
     },
     "metadata": {},
     "output_type": "display_data"
    },
    {
     "data": {
      "text/html": [
       "<pre style=\"white-space:pre;overflow-x:auto;line-height:normal;font-family:Menlo,'DejaVu Sans Mono',consolas,'Courier New',monospace\"><span style=\"font-weight: bold\">[</span><span style=\"color: #008080; text-decoration-color: #008080; font-weight: bold\">70.29</span><span style=\"font-weight: bold\">]</span> <span style=\"font-weight: bold\">(</span>flattened_test_new_candi_2_disam_list.pkl<span style=\"font-weight: bold\">)</span>\n",
       "</pre>\n"
      ],
      "text/plain": [
       "\u001b[1m[\u001b[0m\u001b[1;36m70.29\u001b[0m\u001b[1m]\u001b[0m \u001b[1m(\u001b[0mflattened_test_new_candi_2_disam_list.pkl\u001b[1m)\u001b[0m\n"
      ]
     },
     "metadata": {},
     "output_type": "display_data"
    },
    {
     "data": {
      "text/html": [
       "<pre style=\"white-space:pre;overflow-x:auto;line-height:normal;font-family:Menlo,'DejaVu Sans Mono',consolas,'Courier New',monospace\"><span style=\"color: #800080; text-decoration-color: #800080\">/home/ann/fiz-ddb/notebook/data/vars/</span><span style=\"color: #ff00ff; text-decoration-color: #ff00ff\">flattened_test_new_candi_3_disam_list.pkl</span> \n",
       "<span style=\"color: #800080; text-decoration-color: #800080\">/home/ann/fiz-ddb/notebook/data/5fold-llama3/</span><span style=\"color: #ff00ff; text-decoration-color: #ff00ff\">flattened_test_new_candi_3_disam_list.pkl.log</span>\n",
       "</pre>\n"
      ],
      "text/plain": [
       "\u001b[35m/home/ann/fiz-ddb/notebook/data/vars/\u001b[0m\u001b[95mflattened_test_new_candi_3_disam_list.pkl\u001b[0m \n",
       "\u001b[35m/home/ann/fiz-ddb/notebook/data/5fold-llama3/\u001b[0m\u001b[95mflattened_test_new_candi_3_disam_list.pkl.log\u001b[0m\n"
      ]
     },
     "metadata": {},
     "output_type": "display_data"
    },
    {
     "data": {
      "text/html": [
       "<pre style=\"white-space:pre;overflow-x:auto;line-height:normal;font-family:Menlo,'DejaVu Sans Mono',consolas,'Courier New',monospace\"><span style=\"color: #008080; text-decoration-color: #008080; font-weight: bold\">2025</span>-<span style=\"color: #008080; text-decoration-color: #008080; font-weight: bold\">03</span>-<span style=\"color: #008080; text-decoration-color: #008080; font-weight: bold\">10</span> <span style=\"color: #00ff00; text-decoration-color: #00ff00; font-weight: bold\">16:27:07</span>.<span style=\"color: #008080; text-decoration-color: #008080; font-weight: bold\">222581</span>\n",
       "</pre>\n"
      ],
      "text/plain": [
       "\u001b[1;36m2025\u001b[0m-\u001b[1;36m03\u001b[0m-\u001b[1;36m10\u001b[0m \u001b[1;92m16:27:07\u001b[0m.\u001b[1;36m222581\u001b[0m\n"
      ]
     },
     "metadata": {},
     "output_type": "display_data"
    },
    {
     "data": {
      "application/vnd.jupyter.widget-view+json": {
       "model_id": "b2e03af4b3434c4380ff53d279599bf8",
       "version_major": 2,
       "version_minor": 0
      },
      "text/plain": [
       "Output()"
      ]
     },
     "metadata": {},
     "output_type": "display_data"
    },
    {
     "data": {
      "text/html": [
       "<pre style=\"white-space:pre;overflow-x:auto;line-height:normal;font-family:Menlo,'DejaVu Sans Mono',consolas,'Courier New',monospace\"></pre>\n"
      ],
      "text/plain": []
     },
     "metadata": {},
     "output_type": "display_data"
    },
    {
     "data": {
      "text/html": [
       "<pre style=\"white-space:pre;overflow-x:auto;line-height:normal;font-family:Menlo,'DejaVu Sans Mono',consolas,'Courier New',monospace\"><span style=\"font-weight: bold\">[</span><span style=\"color: #008080; text-decoration-color: #008080; font-weight: bold\">70.93</span><span style=\"font-weight: bold\">]</span> <span style=\"font-weight: bold\">(</span>flattened_test_new_candi_3_disam_list.pkl<span style=\"font-weight: bold\">)</span>\n",
       "</pre>\n"
      ],
      "text/plain": [
       "\u001b[1m[\u001b[0m\u001b[1;36m70.93\u001b[0m\u001b[1m]\u001b[0m \u001b[1m(\u001b[0mflattened_test_new_candi_3_disam_list.pkl\u001b[1m)\u001b[0m\n"
      ]
     },
     "metadata": {},
     "output_type": "display_data"
    },
    {
     "data": {
      "text/html": [
       "<pre style=\"white-space:pre;overflow-x:auto;line-height:normal;font-family:Menlo,'DejaVu Sans Mono',consolas,'Courier New',monospace\"><span style=\"color: #800080; text-decoration-color: #800080\">/home/ann/fiz-ddb/notebook/data/vars/</span><span style=\"color: #ff00ff; text-decoration-color: #ff00ff\">flattened_test_new_candi_4_disam_list.pkl</span> \n",
       "<span style=\"color: #800080; text-decoration-color: #800080\">/home/ann/fiz-ddb/notebook/data/5fold-llama3/</span><span style=\"color: #ff00ff; text-decoration-color: #ff00ff\">flattened_test_new_candi_4_disam_list.pkl.log</span>\n",
       "</pre>\n"
      ],
      "text/plain": [
       "\u001b[35m/home/ann/fiz-ddb/notebook/data/vars/\u001b[0m\u001b[95mflattened_test_new_candi_4_disam_list.pkl\u001b[0m \n",
       "\u001b[35m/home/ann/fiz-ddb/notebook/data/5fold-llama3/\u001b[0m\u001b[95mflattened_test_new_candi_4_disam_list.pkl.log\u001b[0m\n"
      ]
     },
     "metadata": {},
     "output_type": "display_data"
    },
    {
     "data": {
      "text/html": [
       "<pre style=\"white-space:pre;overflow-x:auto;line-height:normal;font-family:Menlo,'DejaVu Sans Mono',consolas,'Courier New',monospace\"><span style=\"color: #008080; text-decoration-color: #008080; font-weight: bold\">2025</span>-<span style=\"color: #008080; text-decoration-color: #008080; font-weight: bold\">03</span>-<span style=\"color: #008080; text-decoration-color: #008080; font-weight: bold\">10</span> <span style=\"color: #00ff00; text-decoration-color: #00ff00; font-weight: bold\">16:29:28</span>.<span style=\"color: #008080; text-decoration-color: #008080; font-weight: bold\">048232</span>\n",
       "</pre>\n"
      ],
      "text/plain": [
       "\u001b[1;36m2025\u001b[0m-\u001b[1;36m03\u001b[0m-\u001b[1;36m10\u001b[0m \u001b[1;92m16:29:28\u001b[0m.\u001b[1;36m048232\u001b[0m\n"
      ]
     },
     "metadata": {},
     "output_type": "display_data"
    },
    {
     "data": {
      "application/vnd.jupyter.widget-view+json": {
       "model_id": "d3cf33376ac94faba3dbd6a7fa70c2b6",
       "version_major": 2,
       "version_minor": 0
      },
      "text/plain": [
       "Output()"
      ]
     },
     "metadata": {},
     "output_type": "display_data"
    },
    {
     "data": {
      "text/html": [
       "<pre style=\"white-space:pre;overflow-x:auto;line-height:normal;font-family:Menlo,'DejaVu Sans Mono',consolas,'Courier New',monospace\"></pre>\n"
      ],
      "text/plain": []
     },
     "metadata": {},
     "output_type": "display_data"
    },
    {
     "data": {
      "text/html": [
       "<pre style=\"white-space:pre;overflow-x:auto;line-height:normal;font-family:Menlo,'DejaVu Sans Mono',consolas,'Courier New',monospace\"><span style=\"font-weight: bold\">[</span><span style=\"color: #008080; text-decoration-color: #008080; font-weight: bold\">68.34</span><span style=\"font-weight: bold\">]</span> <span style=\"font-weight: bold\">(</span>flattened_test_new_candi_4_disam_list.pkl<span style=\"font-weight: bold\">)</span>\n",
       "</pre>\n"
      ],
      "text/plain": [
       "\u001b[1m[\u001b[0m\u001b[1;36m68.34\u001b[0m\u001b[1m]\u001b[0m \u001b[1m(\u001b[0mflattened_test_new_candi_4_disam_list.pkl\u001b[1m)\u001b[0m\n"
      ]
     },
     "metadata": {},
     "output_type": "display_data"
    },
    {
     "data": {
      "text/html": [
       "<pre style=\"white-space:pre;overflow-x:auto;line-height:normal;font-family:Menlo,'DejaVu Sans Mono',consolas,'Courier New',monospace\"><span style=\"color: #800080; text-decoration-color: #800080\">/home/ann/fiz-ddb/notebook/data/vars/</span><span style=\"color: #ff00ff; text-decoration-color: #ff00ff\">flattened_test_new_candi_5_disam_list.pkl</span> \n",
       "<span style=\"color: #800080; text-decoration-color: #800080\">/home/ann/fiz-ddb/notebook/data/5fold-llama3/</span><span style=\"color: #ff00ff; text-decoration-color: #ff00ff\">flattened_test_new_candi_5_disam_list.pkl.log</span>\n",
       "</pre>\n"
      ],
      "text/plain": [
       "\u001b[35m/home/ann/fiz-ddb/notebook/data/vars/\u001b[0m\u001b[95mflattened_test_new_candi_5_disam_list.pkl\u001b[0m \n",
       "\u001b[35m/home/ann/fiz-ddb/notebook/data/5fold-llama3/\u001b[0m\u001b[95mflattened_test_new_candi_5_disam_list.pkl.log\u001b[0m\n"
      ]
     },
     "metadata": {},
     "output_type": "display_data"
    },
    {
     "data": {
      "text/html": [
       "<pre style=\"white-space:pre;overflow-x:auto;line-height:normal;font-family:Menlo,'DejaVu Sans Mono',consolas,'Courier New',monospace\"><span style=\"color: #008080; text-decoration-color: #008080; font-weight: bold\">2025</span>-<span style=\"color: #008080; text-decoration-color: #008080; font-weight: bold\">03</span>-<span style=\"color: #008080; text-decoration-color: #008080; font-weight: bold\">10</span> <span style=\"color: #00ff00; text-decoration-color: #00ff00; font-weight: bold\">16:31:26</span>.<span style=\"color: #008080; text-decoration-color: #008080; font-weight: bold\">304134</span>\n",
       "</pre>\n"
      ],
      "text/plain": [
       "\u001b[1;36m2025\u001b[0m-\u001b[1;36m03\u001b[0m-\u001b[1;36m10\u001b[0m \u001b[1;92m16:31:26\u001b[0m.\u001b[1;36m304134\u001b[0m\n"
      ]
     },
     "metadata": {},
     "output_type": "display_data"
    },
    {
     "data": {
      "application/vnd.jupyter.widget-view+json": {
       "model_id": "cd30b576bd96425fb1a4963ac23a9d81",
       "version_major": 2,
       "version_minor": 0
      },
      "text/plain": [
       "Output()"
      ]
     },
     "metadata": {},
     "output_type": "display_data"
    },
    {
     "data": {
      "text/html": [
       "<pre style=\"white-space:pre;overflow-x:auto;line-height:normal;font-family:Menlo,'DejaVu Sans Mono',consolas,'Courier New',monospace\"></pre>\n"
      ],
      "text/plain": []
     },
     "metadata": {},
     "output_type": "display_data"
    },
    {
     "data": {
      "text/html": [
       "<pre style=\"white-space:pre;overflow-x:auto;line-height:normal;font-family:Menlo,'DejaVu Sans Mono',consolas,'Courier New',monospace\"><span style=\"font-weight: bold\">[</span><span style=\"color: #008080; text-decoration-color: #008080; font-weight: bold\">75.26</span><span style=\"font-weight: bold\">]</span> <span style=\"font-weight: bold\">(</span>flattened_test_new_candi_5_disam_list.pkl<span style=\"font-weight: bold\">)</span>\n",
       "</pre>\n"
      ],
      "text/plain": [
       "\u001b[1m[\u001b[0m\u001b[1;36m75.26\u001b[0m\u001b[1m]\u001b[0m \u001b[1m(\u001b[0mflattened_test_new_candi_5_disam_list.pkl\u001b[1m)\u001b[0m\n"
      ]
     },
     "metadata": {},
     "output_type": "display_data"
    },
    {
     "data": {
      "text/html": [
       "<pre style=\"white-space:pre;overflow-x:auto;line-height:normal;font-family:Menlo,'DejaVu Sans Mono',consolas,'Courier New',monospace\"><span style=\"color: #800080; text-decoration-color: #800080\">/home/ann/fiz-ddb/notebook/data/vars/</span><span style=\"color: #ff00ff; text-decoration-color: #ff00ff\">flattened_test_new_term_1_disam_list.pkl</span> \n",
       "<span style=\"color: #800080; text-decoration-color: #800080\">/home/ann/fiz-ddb/notebook/data/5fold-llama3/</span><span style=\"color: #ff00ff; text-decoration-color: #ff00ff\">flattened_test_new_term_1_disam_list.pkl.log</span>\n",
       "</pre>\n"
      ],
      "text/plain": [
       "\u001b[35m/home/ann/fiz-ddb/notebook/data/vars/\u001b[0m\u001b[95mflattened_test_new_term_1_disam_list.pkl\u001b[0m \n",
       "\u001b[35m/home/ann/fiz-ddb/notebook/data/5fold-llama3/\u001b[0m\u001b[95mflattened_test_new_term_1_disam_list.pkl.log\u001b[0m\n"
      ]
     },
     "metadata": {},
     "output_type": "display_data"
    },
    {
     "data": {
      "text/html": [
       "<pre style=\"white-space:pre;overflow-x:auto;line-height:normal;font-family:Menlo,'DejaVu Sans Mono',consolas,'Courier New',monospace\"><span style=\"color: #008080; text-decoration-color: #008080; font-weight: bold\">2025</span>-<span style=\"color: #008080; text-decoration-color: #008080; font-weight: bold\">03</span>-<span style=\"color: #008080; text-decoration-color: #008080; font-weight: bold\">10</span> <span style=\"color: #00ff00; text-decoration-color: #00ff00; font-weight: bold\">16:33:30</span>.<span style=\"color: #008080; text-decoration-color: #008080; font-weight: bold\">973099</span>\n",
       "</pre>\n"
      ],
      "text/plain": [
       "\u001b[1;36m2025\u001b[0m-\u001b[1;36m03\u001b[0m-\u001b[1;36m10\u001b[0m \u001b[1;92m16:33:30\u001b[0m.\u001b[1;36m973099\u001b[0m\n"
      ]
     },
     "metadata": {},
     "output_type": "display_data"
    },
    {
     "data": {
      "application/vnd.jupyter.widget-view+json": {
       "model_id": "2699f1eb268043108af2a260142a9be3",
       "version_major": 2,
       "version_minor": 0
      },
      "text/plain": [
       "Output()"
      ]
     },
     "metadata": {},
     "output_type": "display_data"
    },
    {
     "data": {
      "text/html": [
       "<pre style=\"white-space:pre;overflow-x:auto;line-height:normal;font-family:Menlo,'DejaVu Sans Mono',consolas,'Courier New',monospace\"></pre>\n"
      ],
      "text/plain": []
     },
     "metadata": {},
     "output_type": "display_data"
    },
    {
     "data": {
      "text/html": [
       "<pre style=\"white-space:pre;overflow-x:auto;line-height:normal;font-family:Menlo,'DejaVu Sans Mono',consolas,'Courier New',monospace\"><span style=\"font-weight: bold\">[</span><span style=\"color: #008080; text-decoration-color: #008080; font-weight: bold\">73.06</span><span style=\"font-weight: bold\">]</span> <span style=\"font-weight: bold\">(</span>flattened_test_new_term_1_disam_list.pkl<span style=\"font-weight: bold\">)</span>\n",
       "</pre>\n"
      ],
      "text/plain": [
       "\u001b[1m[\u001b[0m\u001b[1;36m73.06\u001b[0m\u001b[1m]\u001b[0m \u001b[1m(\u001b[0mflattened_test_new_term_1_disam_list.pkl\u001b[1m)\u001b[0m\n"
      ]
     },
     "metadata": {},
     "output_type": "display_data"
    },
    {
     "data": {
      "text/html": [
       "<pre style=\"white-space:pre;overflow-x:auto;line-height:normal;font-family:Menlo,'DejaVu Sans Mono',consolas,'Courier New',monospace\"><span style=\"color: #800080; text-decoration-color: #800080\">/home/ann/fiz-ddb/notebook/data/vars/</span><span style=\"color: #ff00ff; text-decoration-color: #ff00ff\">flattened_test_new_term_2_disam_list.pkl</span> \n",
       "<span style=\"color: #800080; text-decoration-color: #800080\">/home/ann/fiz-ddb/notebook/data/5fold-llama3/</span><span style=\"color: #ff00ff; text-decoration-color: #ff00ff\">flattened_test_new_term_2_disam_list.pkl.log</span>\n",
       "</pre>\n"
      ],
      "text/plain": [
       "\u001b[35m/home/ann/fiz-ddb/notebook/data/vars/\u001b[0m\u001b[95mflattened_test_new_term_2_disam_list.pkl\u001b[0m \n",
       "\u001b[35m/home/ann/fiz-ddb/notebook/data/5fold-llama3/\u001b[0m\u001b[95mflattened_test_new_term_2_disam_list.pkl.log\u001b[0m\n"
      ]
     },
     "metadata": {},
     "output_type": "display_data"
    },
    {
     "data": {
      "text/html": [
       "<pre style=\"white-space:pre;overflow-x:auto;line-height:normal;font-family:Menlo,'DejaVu Sans Mono',consolas,'Courier New',monospace\"><span style=\"color: #008080; text-decoration-color: #008080; font-weight: bold\">2025</span>-<span style=\"color: #008080; text-decoration-color: #008080; font-weight: bold\">03</span>-<span style=\"color: #008080; text-decoration-color: #008080; font-weight: bold\">10</span> <span style=\"color: #00ff00; text-decoration-color: #00ff00; font-weight: bold\">16:35:49</span>.<span style=\"color: #008080; text-decoration-color: #008080; font-weight: bold\">622050</span>\n",
       "</pre>\n"
      ],
      "text/plain": [
       "\u001b[1;36m2025\u001b[0m-\u001b[1;36m03\u001b[0m-\u001b[1;36m10\u001b[0m \u001b[1;92m16:35:49\u001b[0m.\u001b[1;36m622050\u001b[0m\n"
      ]
     },
     "metadata": {},
     "output_type": "display_data"
    },
    {
     "data": {
      "application/vnd.jupyter.widget-view+json": {
       "model_id": "2418bf9c0a244f078c014a0d2cfe158d",
       "version_major": 2,
       "version_minor": 0
      },
      "text/plain": [
       "Output()"
      ]
     },
     "metadata": {},
     "output_type": "display_data"
    },
    {
     "data": {
      "text/html": [
       "<pre style=\"white-space:pre;overflow-x:auto;line-height:normal;font-family:Menlo,'DejaVu Sans Mono',consolas,'Courier New',monospace\"></pre>\n"
      ],
      "text/plain": []
     },
     "metadata": {},
     "output_type": "display_data"
    },
    {
     "data": {
      "text/html": [
       "<pre style=\"white-space:pre;overflow-x:auto;line-height:normal;font-family:Menlo,'DejaVu Sans Mono',consolas,'Courier New',monospace\"><span style=\"font-weight: bold\">[</span><span style=\"color: #008080; text-decoration-color: #008080; font-weight: bold\">81.49</span><span style=\"font-weight: bold\">]</span> <span style=\"font-weight: bold\">(</span>flattened_test_new_term_2_disam_list.pkl<span style=\"font-weight: bold\">)</span>\n",
       "</pre>\n"
      ],
      "text/plain": [
       "\u001b[1m[\u001b[0m\u001b[1;36m81.49\u001b[0m\u001b[1m]\u001b[0m \u001b[1m(\u001b[0mflattened_test_new_term_2_disam_list.pkl\u001b[1m)\u001b[0m\n"
      ]
     },
     "metadata": {},
     "output_type": "display_data"
    },
    {
     "data": {
      "text/html": [
       "<pre style=\"white-space:pre;overflow-x:auto;line-height:normal;font-family:Menlo,'DejaVu Sans Mono',consolas,'Courier New',monospace\"><span style=\"color: #800080; text-decoration-color: #800080\">/home/ann/fiz-ddb/notebook/data/vars/</span><span style=\"color: #ff00ff; text-decoration-color: #ff00ff\">flattened_test_new_term_3_disam_list.pkl</span> \n",
       "<span style=\"color: #800080; text-decoration-color: #800080\">/home/ann/fiz-ddb/notebook/data/5fold-llama3/</span><span style=\"color: #ff00ff; text-decoration-color: #ff00ff\">flattened_test_new_term_3_disam_list.pkl.log</span>\n",
       "</pre>\n"
      ],
      "text/plain": [
       "\u001b[35m/home/ann/fiz-ddb/notebook/data/vars/\u001b[0m\u001b[95mflattened_test_new_term_3_disam_list.pkl\u001b[0m \n",
       "\u001b[35m/home/ann/fiz-ddb/notebook/data/5fold-llama3/\u001b[0m\u001b[95mflattened_test_new_term_3_disam_list.pkl.log\u001b[0m\n"
      ]
     },
     "metadata": {},
     "output_type": "display_data"
    },
    {
     "data": {
      "text/html": [
       "<pre style=\"white-space:pre;overflow-x:auto;line-height:normal;font-family:Menlo,'DejaVu Sans Mono',consolas,'Courier New',monospace\"><span style=\"color: #008080; text-decoration-color: #008080; font-weight: bold\">2025</span>-<span style=\"color: #008080; text-decoration-color: #008080; font-weight: bold\">03</span>-<span style=\"color: #008080; text-decoration-color: #008080; font-weight: bold\">10</span> <span style=\"color: #00ff00; text-decoration-color: #00ff00; font-weight: bold\">16:37:51</span>.<span style=\"color: #008080; text-decoration-color: #008080; font-weight: bold\">082805</span>\n",
       "</pre>\n"
      ],
      "text/plain": [
       "\u001b[1;36m2025\u001b[0m-\u001b[1;36m03\u001b[0m-\u001b[1;36m10\u001b[0m \u001b[1;92m16:37:51\u001b[0m.\u001b[1;36m082805\u001b[0m\n"
      ]
     },
     "metadata": {},
     "output_type": "display_data"
    },
    {
     "data": {
      "application/vnd.jupyter.widget-view+json": {
       "model_id": "9fd97f85183e4d87a90f1de213e1023f",
       "version_major": 2,
       "version_minor": 0
      },
      "text/plain": [
       "Output()"
      ]
     },
     "metadata": {},
     "output_type": "display_data"
    },
    {
     "data": {
      "text/html": [
       "<pre style=\"white-space:pre;overflow-x:auto;line-height:normal;font-family:Menlo,'DejaVu Sans Mono',consolas,'Courier New',monospace\"></pre>\n"
      ],
      "text/plain": []
     },
     "metadata": {},
     "output_type": "display_data"
    },
    {
     "data": {
      "text/html": [
       "<pre style=\"white-space:pre;overflow-x:auto;line-height:normal;font-family:Menlo,'DejaVu Sans Mono',consolas,'Courier New',monospace\"><span style=\"font-weight: bold\">[</span><span style=\"color: #008080; text-decoration-color: #008080; font-weight: bold\">71.93</span><span style=\"font-weight: bold\">]</span> <span style=\"font-weight: bold\">(</span>flattened_test_new_term_3_disam_list.pkl<span style=\"font-weight: bold\">)</span>\n",
       "</pre>\n"
      ],
      "text/plain": [
       "\u001b[1m[\u001b[0m\u001b[1;36m71.93\u001b[0m\u001b[1m]\u001b[0m \u001b[1m(\u001b[0mflattened_test_new_term_3_disam_list.pkl\u001b[1m)\u001b[0m\n"
      ]
     },
     "metadata": {},
     "output_type": "display_data"
    },
    {
     "data": {
      "text/html": [
       "<pre style=\"white-space:pre;overflow-x:auto;line-height:normal;font-family:Menlo,'DejaVu Sans Mono',consolas,'Courier New',monospace\"><span style=\"color: #800080; text-decoration-color: #800080\">/home/ann/fiz-ddb/notebook/data/vars/</span><span style=\"color: #ff00ff; text-decoration-color: #ff00ff\">flattened_test_new_term_4_disam_list.pkl</span> \n",
       "<span style=\"color: #800080; text-decoration-color: #800080\">/home/ann/fiz-ddb/notebook/data/5fold-llama3/</span><span style=\"color: #ff00ff; text-decoration-color: #ff00ff\">flattened_test_new_term_4_disam_list.pkl.log</span>\n",
       "</pre>\n"
      ],
      "text/plain": [
       "\u001b[35m/home/ann/fiz-ddb/notebook/data/vars/\u001b[0m\u001b[95mflattened_test_new_term_4_disam_list.pkl\u001b[0m \n",
       "\u001b[35m/home/ann/fiz-ddb/notebook/data/5fold-llama3/\u001b[0m\u001b[95mflattened_test_new_term_4_disam_list.pkl.log\u001b[0m\n"
      ]
     },
     "metadata": {},
     "output_type": "display_data"
    },
    {
     "data": {
      "text/html": [
       "<pre style=\"white-space:pre;overflow-x:auto;line-height:normal;font-family:Menlo,'DejaVu Sans Mono',consolas,'Courier New',monospace\"><span style=\"color: #008080; text-decoration-color: #008080; font-weight: bold\">2025</span>-<span style=\"color: #008080; text-decoration-color: #008080; font-weight: bold\">03</span>-<span style=\"color: #008080; text-decoration-color: #008080; font-weight: bold\">10</span> <span style=\"color: #00ff00; text-decoration-color: #00ff00; font-weight: bold\">16:39:41</span>.<span style=\"color: #008080; text-decoration-color: #008080; font-weight: bold\">720862</span>\n",
       "</pre>\n"
      ],
      "text/plain": [
       "\u001b[1;36m2025\u001b[0m-\u001b[1;36m03\u001b[0m-\u001b[1;36m10\u001b[0m \u001b[1;92m16:39:41\u001b[0m.\u001b[1;36m720862\u001b[0m\n"
      ]
     },
     "metadata": {},
     "output_type": "display_data"
    },
    {
     "data": {
      "application/vnd.jupyter.widget-view+json": {
       "model_id": "2e324ef4d7ae49acb69d393f676c372e",
       "version_major": 2,
       "version_minor": 0
      },
      "text/plain": [
       "Output()"
      ]
     },
     "metadata": {},
     "output_type": "display_data"
    },
    {
     "data": {
      "text/html": [
       "<pre style=\"white-space:pre;overflow-x:auto;line-height:normal;font-family:Menlo,'DejaVu Sans Mono',consolas,'Courier New',monospace\"></pre>\n"
      ],
      "text/plain": []
     },
     "metadata": {},
     "output_type": "display_data"
    },
    {
     "data": {
      "text/html": [
       "<pre style=\"white-space:pre;overflow-x:auto;line-height:normal;font-family:Menlo,'DejaVu Sans Mono',consolas,'Courier New',monospace\"><span style=\"font-weight: bold\">[</span><span style=\"color: #008080; text-decoration-color: #008080; font-weight: bold\">77.98</span><span style=\"font-weight: bold\">]</span> <span style=\"font-weight: bold\">(</span>flattened_test_new_term_4_disam_list.pkl<span style=\"font-weight: bold\">)</span>\n",
       "</pre>\n"
      ],
      "text/plain": [
       "\u001b[1m[\u001b[0m\u001b[1;36m77.98\u001b[0m\u001b[1m]\u001b[0m \u001b[1m(\u001b[0mflattened_test_new_term_4_disam_list.pkl\u001b[1m)\u001b[0m\n"
      ]
     },
     "metadata": {},
     "output_type": "display_data"
    },
    {
     "data": {
      "text/html": [
       "<pre style=\"white-space:pre;overflow-x:auto;line-height:normal;font-family:Menlo,'DejaVu Sans Mono',consolas,'Courier New',monospace\"><span style=\"color: #800080; text-decoration-color: #800080\">/home/ann/fiz-ddb/notebook/data/vars/</span><span style=\"color: #ff00ff; text-decoration-color: #ff00ff\">flattened_test_new_term_5_disam_list.pkl</span> \n",
       "<span style=\"color: #800080; text-decoration-color: #800080\">/home/ann/fiz-ddb/notebook/data/5fold-llama3/</span><span style=\"color: #ff00ff; text-decoration-color: #ff00ff\">flattened_test_new_term_5_disam_list.pkl.log</span>\n",
       "</pre>\n"
      ],
      "text/plain": [
       "\u001b[35m/home/ann/fiz-ddb/notebook/data/vars/\u001b[0m\u001b[95mflattened_test_new_term_5_disam_list.pkl\u001b[0m \n",
       "\u001b[35m/home/ann/fiz-ddb/notebook/data/5fold-llama3/\u001b[0m\u001b[95mflattened_test_new_term_5_disam_list.pkl.log\u001b[0m\n"
      ]
     },
     "metadata": {},
     "output_type": "display_data"
    },
    {
     "data": {
      "text/html": [
       "<pre style=\"white-space:pre;overflow-x:auto;line-height:normal;font-family:Menlo,'DejaVu Sans Mono',consolas,'Courier New',monospace\"><span style=\"color: #008080; text-decoration-color: #008080; font-weight: bold\">2025</span>-<span style=\"color: #008080; text-decoration-color: #008080; font-weight: bold\">03</span>-<span style=\"color: #008080; text-decoration-color: #008080; font-weight: bold\">10</span> <span style=\"color: #00ff00; text-decoration-color: #00ff00; font-weight: bold\">16:42:01</span>.<span style=\"color: #008080; text-decoration-color: #008080; font-weight: bold\">758845</span>\n",
       "</pre>\n"
      ],
      "text/plain": [
       "\u001b[1;36m2025\u001b[0m-\u001b[1;36m03\u001b[0m-\u001b[1;36m10\u001b[0m \u001b[1;92m16:42:01\u001b[0m.\u001b[1;36m758845\u001b[0m\n"
      ]
     },
     "metadata": {},
     "output_type": "display_data"
    },
    {
     "data": {
      "application/vnd.jupyter.widget-view+json": {
       "model_id": "6b6e8564700a4254882d92fde6b2208a",
       "version_major": 2,
       "version_minor": 0
      },
      "text/plain": [
       "Output()"
      ]
     },
     "metadata": {},
     "output_type": "display_data"
    },
    {
     "data": {
      "text/html": [
       "<pre style=\"white-space:pre;overflow-x:auto;line-height:normal;font-family:Menlo,'DejaVu Sans Mono',consolas,'Courier New',monospace\"></pre>\n"
      ],
      "text/plain": []
     },
     "metadata": {},
     "output_type": "display_data"
    },
    {
     "data": {
      "text/html": [
       "<pre style=\"white-space:pre;overflow-x:auto;line-height:normal;font-family:Menlo,'DejaVu Sans Mono',consolas,'Courier New',monospace\"><span style=\"font-weight: bold\">[</span><span style=\"color: #008080; text-decoration-color: #008080; font-weight: bold\">70.69</span><span style=\"font-weight: bold\">]</span> <span style=\"font-weight: bold\">(</span>flattened_test_new_term_5_disam_list.pkl<span style=\"font-weight: bold\">)</span>\n",
       "</pre>\n"
      ],
      "text/plain": [
       "\u001b[1m[\u001b[0m\u001b[1;36m70.69\u001b[0m\u001b[1m]\u001b[0m \u001b[1m(\u001b[0mflattened_test_new_term_5_disam_list.pkl\u001b[1m)\u001b[0m\n"
      ]
     },
     "metadata": {},
     "output_type": "display_data"
    }
   ],
   "source": [
    "import copy\n",
    "\n",
    "for filename in test_files:\n",
    "    fullpath = f'/home/ann/fiz-ddb/notebook/data/vars/{filename}'\n",
    "    \n",
    "    df_test = reload_vars(fullpath)\n",
    "    logfile = f'/home/ann/fiz-ddb/notebook/data/5fold-llama3/{filename}.log'\n",
    "\n",
    "    print(fullpath, logfile)\n",
    "    \n",
    "    test_time, test_answers = run_test(df_test, logfile=logfile, offset=0)\n",
    "\n",
    "    test_correct_count, test_results = get_results(df_test, test_answers)\n",
    "\n",
    "    TEST_DATA[filename] = {\n",
    "        'compute_time': test_time,\n",
    "        'logfile': logfile,\n",
    "        'raw_answers': copy.deepcopy(test_answers),\n",
    "        'correct_count': test_correct_count,\n",
    "        'test_results': copy.deepcopy(test_results)\n",
    "    }\n",
    "\n",
    "    print(f'[{test_correct_count/len(df_test)*100:0.2f}] ({filename})')\n",
    "    pkl_vars(TEST_DATA, '/home/ann/fiz-ddb/notebook/data/vars/mathd2_5fold_llama3_20250310.pkl')"
   ]
  }
 ],
 "metadata": {
  "kernelspec": {
   "display_name": "Python 3 (ipykernel)",
   "language": "python",
   "name": "python3"
  },
  "language_info": {
   "codemirror_mode": {
    "name": "ipython",
    "version": 3
   },
   "file_extension": ".py",
   "mimetype": "text/x-python",
   "name": "python",
   "nbconvert_exporter": "python",
   "pygments_lexer": "ipython3",
   "version": "3.10.16"
  }
 },
 "nbformat": 4,
 "nbformat_minor": 5
}
