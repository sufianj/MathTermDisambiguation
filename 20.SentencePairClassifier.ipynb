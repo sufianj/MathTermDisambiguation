{
 "cells": [
  {
   "cell_type": "markdown",
   "id": "2191d23f-648a-4c6f-9bf4-0a6e6d2aa831",
   "metadata": {},
   "source": [
    "# Sentence Pair Classification"
   ]
  },
  {
   "cell_type": "code",
   "execution_count": 2,
   "id": "a8f96958-f65a-45cc-9f9a-de3df638f6d3",
   "metadata": {
    "tags": []
   },
   "outputs": [
    {
     "name": "stderr",
     "output_type": "stream",
     "text": [
      "2025-03-07 23:48:03.611575: I tensorflow/core/platform/cpu_feature_guard.cc:193] This TensorFlow binary is optimized with oneAPI Deep Neural Network Library (oneDNN) to use the following CPU instructions in performance-critical operations:  AVX2 FMA\n",
      "To enable them in other operations, rebuild TensorFlow with the appropriate compiler flags.\n",
      "2025-03-07 23:48:03.769781: E tensorflow/stream_executor/cuda/cuda_blas.cc:2981] Unable to register cuBLAS factory: Attempting to register factory for plugin cuBLAS when one has already been registered\n",
      "2025-03-07 23:48:04.297571: W tensorflow/stream_executor/platform/default/dso_loader.cc:64] Could not load dynamic library 'libnvinfer.so.7'; dlerror: libnvinfer.so.7: cannot open shared object file: No such file or directory; LD_LIBRARY_PATH: /usr/local/nvidia/lib:/usr/local/nvidia/lib64\n",
      "2025-03-07 23:48:04.297668: W tensorflow/stream_executor/platform/default/dso_loader.cc:64] Could not load dynamic library 'libnvinfer_plugin.so.7'; dlerror: libnvinfer_plugin.so.7: cannot open shared object file: No such file or directory; LD_LIBRARY_PATH: /usr/local/nvidia/lib:/usr/local/nvidia/lib64\n",
      "2025-03-07 23:48:04.297676: W tensorflow/compiler/tf2tensorrt/utils/py_utils.cc:38] TF-TRT Warning: Cannot dlopen some TensorRT libraries. If you would like to use Nvidia GPU with TensorRT, please make sure the missing libraries mentioned above are installed properly.\n"
     ]
    },
    {
     "name": "stdout",
     "output_type": "stream",
     "text": [
      "cuda\n"
     ]
    }
   ],
   "source": [
    "import os\n",
    "import sys\n",
    "import logging\n",
    "import torch\n",
    "import numpy as np\n",
    "import argparse\n",
    "from math import exp\n",
    "\n",
    "from torch import nn\n",
    "from torch.optim import lr_scheduler\n",
    "import torch.nn.functional as F\n",
    "from torch.utils.data import Dataset\n",
    "from torch.utils.data import DataLoader\n",
    "import torch.optim as optim\n",
    "\n",
    "from random import random as rand\n",
    "\n",
    "\n",
    "from transformers import BertTokenizer, BertForNextSentencePrediction\n",
    "from transformers import AutoTokenizer, AutoModelForMaskedLM,AutoModel\n",
    "#import sentence_pair_utils\n",
    "#import sentence_pair_evaluation\n",
    "import transformers\n",
    "import pandas as pd\n",
    "\n",
    "from torch import cuda\n",
    "device = 'cuda' if cuda.is_available() else 'cpu'\n",
    "print(device)\n",
    "\n",
    "import random"
   ]
  },
  {
   "cell_type": "code",
   "execution_count": 3,
   "id": "a088619c-6e8d-45c9-8bb9-f44b6104b7a3",
   "metadata": {
    "tags": []
   },
   "outputs": [
    {
     "name": "stdout",
     "output_type": "stream",
     "text": [
      "Fri Mar  7 23:48:26 2025       \n",
      "+-----------------------------------------------------------------------------+\n",
      "| NVIDIA-SMI 510.39.01    Driver Version: 510.39.01    CUDA Version: 11.6     |\n",
      "|-------------------------------+----------------------+----------------------+\n",
      "| GPU  Name        Persistence-M| Bus-Id        Disp.A | Volatile Uncorr. ECC |\n",
      "| Fan  Temp  Perf  Pwr:Usage/Cap|         Memory-Usage | GPU-Util  Compute M. |\n",
      "|                               |                      |               MIG M. |\n",
      "|===============================+======================+======================|\n",
      "|   0  Tesla V100S-PCI...  On   | 00000000:21:00.0 Off |                    0 |\n",
      "| N/A   33C    P0    24W / 250W |      4MiB / 32768MiB |      0%      Default |\n",
      "|                               |                      |                  N/A |\n",
      "+-------------------------------+----------------------+----------------------+\n",
      "|   1  Tesla V100S-PCI...  On   | 00000000:81:00.0 Off |                    0 |\n",
      "| N/A   33C    P0    25W / 250W |      4MiB / 32768MiB |      0%      Default |\n",
      "|                               |                      |                  N/A |\n",
      "+-------------------------------+----------------------+----------------------+\n",
      "                                                                               \n",
      "+-----------------------------------------------------------------------------+\n",
      "| Processes:                                                                  |\n",
      "|  GPU   GI   CI        PID   Type   Process name                  GPU Memory |\n",
      "|        ID   ID                                                   Usage      |\n",
      "|=============================================================================|\n",
      "|  No running processes found                                                 |\n",
      "+-----------------------------------------------------------------------------+\n"
     ]
    }
   ],
   "source": [
    "!nvidia-smi"
   ]
  },
  {
   "cell_type": "code",
   "execution_count": 4,
   "id": "d4b23a07-f35f-48fa-a79e-544db56d2ca9",
   "metadata": {
    "tags": []
   },
   "outputs": [],
   "source": [
    "device = torch.device(\"cuda\" if torch.cuda.is_available() else \"cpu\")"
   ]
  },
  {
   "cell_type": "code",
   "execution_count": 5,
   "id": "85880ba5-1260-4d7b-9cfe-5bc9b80005db",
   "metadata": {
    "tags": []
   },
   "outputs": [],
   "source": [
    "transformers.logging.set_verbosity_error()\n",
    "\n",
    "LOG_FORMAT = '%(asctime)s : %(filename)s : %(funcName)s : %(levelname)s : %(message)s'\n",
    "logging.basicConfig(filename='SentencePairCLS-5fold.log', level=logging.INFO, format=LOG_FORMAT)\n",
    "logger = logging.getLogger(\"SentencePairCLS\")"
   ]
  },
  {
   "cell_type": "code",
   "execution_count": 4,
   "id": "296682a0-ba60-4e5c-a039-3f725f498044",
   "metadata": {
    "tags": []
   },
   "outputs": [],
   "source": [
    "import pickle\n",
    "def pkl_vars(varname, filename):\n",
    "    with open(filename, 'wb') as file:\n",
    "        pickle.dump(varname, file)\n",
    "        \n",
    "def reload_vars(filename):\n",
    "    this_var = None\n",
    "    with open(filename, 'rb') as file:\n",
    "        this_var = pickle.load(file)      \n",
    "    return this_var"
   ]
  },
  {
   "cell_type": "markdown",
   "id": "5756a2a8-ae30-4038-a134-28721e89b255",
   "metadata": {
    "tags": []
   },
   "source": [
    "## Dataset prepation"
   ]
  },
  {
   "cell_type": "code",
   "execution_count": 4,
   "id": "fc703358-e91c-4234-99d3-ee383c020272",
   "metadata": {},
   "outputs": [
    {
     "data": {
      "text/html": [
       "<div>\n",
       "<style scoped>\n",
       "    .dataframe tbody tr th:only-of-type {\n",
       "        vertical-align: middle;\n",
       "    }\n",
       "\n",
       "    .dataframe tbody tr th {\n",
       "        vertical-align: top;\n",
       "    }\n",
       "\n",
       "    .dataframe thead th {\n",
       "        text-align: right;\n",
       "    }\n",
       "</style>\n",
       "<table border=\"1\" class=\"dataframe\">\n",
       "  <thead>\n",
       "    <tr style=\"text-align: right;\">\n",
       "      <th></th>\n",
       "      <th>dd_page_title</th>\n",
       "      <th>term</th>\n",
       "      <th>definition</th>\n",
       "      <th>def_page_title</th>\n",
       "      <th>categories</th>\n",
       "      <th>plain_text_definition</th>\n",
       "    </tr>\n",
       "  </thead>\n",
       "  <tbody>\n",
       "    <tr>\n",
       "      <th>2102</th>\n",
       "      <td>Definition:Zero</td>\n",
       "      <td>Zero</td>\n",
       "      <td>Let $\\mathbb A$ be one of the standard number ...</td>\n",
       "      <td>Definition:Zero Mapping</td>\n",
       "      <td>['Definitions/Mapping Theory']</td>\n",
       "      <td>Let 𝔸 be one of the standard number systems ℕ,...</td>\n",
       "    </tr>\n",
       "    <tr>\n",
       "      <th>2103</th>\n",
       "      <td>Definition:Zero</td>\n",
       "      <td>Zero</td>\n",
       "      <td>Let $f: R \\to R$ be a mapping on a ring $R$.\\n...</td>\n",
       "      <td>Definition:Root of Mapping</td>\n",
       "      <td>['Definitions/Roots of Mappings', 'Definitions...</td>\n",
       "      <td>Let f: R → R be a mapping on a ring R.\\n\\nLet ...</td>\n",
       "    </tr>\n",
       "    <tr>\n",
       "      <th>2104</th>\n",
       "      <td>Definition:Zero</td>\n",
       "      <td>Zero</td>\n",
       "      <td>Let $\\left( R, +_R, \\times_R \\right)$ be a rin...</td>\n",
       "      <td>Definition:Zero Vector</td>\n",
       "      <td>['Definitions/Zero Vectors', 'Definitions/Vect...</td>\n",
       "      <td>Let ( R, +_R, ×_R ) be a ring.\\n\\nLet ( G, +_G...</td>\n",
       "    </tr>\n",
       "    <tr>\n",
       "      <th>2105</th>\n",
       "      <td>Definition:Zero Locus</td>\n",
       "      <td>Zero Locus</td>\n",
       "      <td>Let $k$ be a field.\\n\\nLet $n\\geq1$ be a natur...</td>\n",
       "      <td>Definition:Zero Locus of Set of Polynomials</td>\n",
       "      <td>['Definitions/Algebraic Geometry']</td>\n",
       "      <td>Let k be a field.\\n\\nLet n≥1 be a natural numb...</td>\n",
       "    </tr>\n",
       "    <tr>\n",
       "      <th>2106</th>\n",
       "      <td>Definition:Zero Locus</td>\n",
       "      <td>Zero Locus</td>\n",
       "      <td>Let $A$ be a commutative ring with unity.\\n\\nL...</td>\n",
       "      <td>Definition:Vanishing Set of Subset of Ring</td>\n",
       "      <td>['Definitions/Zariski Topology']</td>\n",
       "      <td>Let A be a commutative ring with unity.\\n\\nLet...</td>\n",
       "    </tr>\n",
       "  </tbody>\n",
       "</table>\n",
       "</div>"
      ],
      "text/plain": [
       "              dd_page_title        term   \n",
       "2102        Definition:Zero        Zero  \\\n",
       "2103        Definition:Zero        Zero   \n",
       "2104        Definition:Zero        Zero   \n",
       "2105  Definition:Zero Locus  Zero Locus   \n",
       "2106  Definition:Zero Locus  Zero Locus   \n",
       "\n",
       "                                             definition   \n",
       "2102  Let $\\mathbb A$ be one of the standard number ...  \\\n",
       "2103  Let $f: R \\to R$ be a mapping on a ring $R$.\\n...   \n",
       "2104  Let $\\left( R, +_R, \\times_R \\right)$ be a rin...   \n",
       "2105  Let $k$ be a field.\\n\\nLet $n\\geq1$ be a natur...   \n",
       "2106  Let $A$ be a commutative ring with unity.\\n\\nL...   \n",
       "\n",
       "                                   def_page_title   \n",
       "2102                      Definition:Zero Mapping  \\\n",
       "2103                   Definition:Root of Mapping   \n",
       "2104                       Definition:Zero Vector   \n",
       "2105  Definition:Zero Locus of Set of Polynomials   \n",
       "2106   Definition:Vanishing Set of Subset of Ring   \n",
       "\n",
       "                                             categories   \n",
       "2102                     ['Definitions/Mapping Theory']  \\\n",
       "2103  ['Definitions/Roots of Mappings', 'Definitions...   \n",
       "2104  ['Definitions/Zero Vectors', 'Definitions/Vect...   \n",
       "2105                 ['Definitions/Algebraic Geometry']   \n",
       "2106                   ['Definitions/Zariski Topology']   \n",
       "\n",
       "                                  plain_text_definition  \n",
       "2102  Let 𝔸 be one of the standard number systems ℕ,...  \n",
       "2103  Let f: R → R be a mapping on a ring R.\\n\\nLet ...  \n",
       "2104  Let ( R, +_R, ×_R ) be a ring.\\n\\nLet ( G, +_G...  \n",
       "2105  Let k be a field.\\n\\nLet n≥1 be a natural numb...  \n",
       "2106  Let A be a commutative ring with unity.\\n\\nLet...  "
      ]
     },
     "execution_count": 4,
     "metadata": {},
     "output_type": "execute_result"
    }
   ],
   "source": [
    "df_flattened_dd = pd.read_csv(\"parsed_disambiguation_list_without===.csv\")\n",
    "df_flattened_dd.tail()"
   ]
  },
  {
   "cell_type": "code",
   "execution_count": 5,
   "id": "ae9a7097-289a-4f4a-98c6-5458d0f0ae1e",
   "metadata": {
    "scrolled": true,
    "tags": []
   },
   "outputs": [
    {
     "data": {
      "text/html": [
       "<div>\n",
       "<style scoped>\n",
       "    .dataframe tbody tr th:only-of-type {\n",
       "        vertical-align: middle;\n",
       "    }\n",
       "\n",
       "    .dataframe tbody tr th {\n",
       "        vertical-align: top;\n",
       "    }\n",
       "\n",
       "    .dataframe thead th {\n",
       "        text-align: right;\n",
       "    }\n",
       "</style>\n",
       "<table border=\"1\" class=\"dataframe\">\n",
       "  <thead>\n",
       "    <tr style=\"text-align: right;\">\n",
       "      <th></th>\n",
       "      <th>dd_page_title</th>\n",
       "      <th>term</th>\n",
       "      <th>definition</th>\n",
       "      <th>def_page_title</th>\n",
       "      <th>categories</th>\n",
       "      <th>plain_text_definition</th>\n",
       "      <th>term_in_def</th>\n",
       "    </tr>\n",
       "  </thead>\n",
       "  <tbody>\n",
       "    <tr>\n",
       "      <th>4</th>\n",
       "      <td>Definition:Absolute</td>\n",
       "      <td>Absolute</td>\n",
       "      <td>A constant is a name for an object (usually a ...</td>\n",
       "      <td>Definition:Constant</td>\n",
       "      <td>['Definitions/Constants', 'Definitions/Algebra']</td>\n",
       "      <td>A constant is a name for an object (usually a ...</td>\n",
       "      <td>False</td>\n",
       "    </tr>\n",
       "    <tr>\n",
       "      <th>12</th>\n",
       "      <td>Definition:Absolute</td>\n",
       "      <td>Absolute</td>\n",
       "      <td>Let $S$ be a sample or a population.\\n\\nLet $\\...</td>\n",
       "      <td>Definition:Frequency (Descriptive Statistics)</td>\n",
       "      <td>['Definitions/Frequency (Descriptive Statistic...</td>\n",
       "      <td>Let S be a sample or a population.\\n\\nLet ω be...</td>\n",
       "      <td>False</td>\n",
       "    </tr>\n",
       "    <tr>\n",
       "      <th>29</th>\n",
       "      <td>Definition:Additive Function</td>\n",
       "      <td>Additive Function</td>\n",
       "      <td>Let $R$ be a unique factorization domain.\\n\\nL...</td>\n",
       "      <td>Definition:Additive Function on UFD</td>\n",
       "      <td>['Definitions/Ring Theory']</td>\n",
       "      <td>Let R be a unique factorization domain.\\n\\nLet...</td>\n",
       "      <td>False</td>\n",
       "    </tr>\n",
       "    <tr>\n",
       "      <th>33</th>\n",
       "      <td>Definition:Additive Function</td>\n",
       "      <td>Additive Function</td>\n",
       "      <td>Let $\\unicode{x3a3}$ be a $\\sigma$-algebra.\\n\\...</td>\n",
       "      <td>Definition:Countably Additive Function</td>\n",
       "      <td>['Definitions/Set Systems', 'Definitions/Measu...</td>\n",
       "      <td>Let x3a3 be a σ-algebra.\\n\\nLet f: x3a3→R be a...</td>\n",
       "      <td>False</td>\n",
       "    </tr>\n",
       "    <tr>\n",
       "      <th>52</th>\n",
       "      <td>Definition:Adjacent Faces</td>\n",
       "      <td>Adjacent Faces</td>\n",
       "      <td>:\\n\\nLet $G = \\left( V, E \\right)$ be a planar...</td>\n",
       "      <td>Definition:Adjacent (Graph Theory)/Faces</td>\n",
       "      <td>['Definitions/Adjacency (Graph Theory)', 'Defi...</td>\n",
       "      <td>:\\n\\nLet G = ( V, E ) be a planar graph.\\n\\nTw...</td>\n",
       "      <td>False</td>\n",
       "    </tr>\n",
       "    <tr>\n",
       "      <th>...</th>\n",
       "      <td>...</td>\n",
       "      <td>...</td>\n",
       "      <td>...</td>\n",
       "      <td>...</td>\n",
       "      <td>...</td>\n",
       "      <td>...</td>\n",
       "      <td>...</td>\n",
       "    </tr>\n",
       "    <tr>\n",
       "      <th>2067</th>\n",
       "      <td>Definition:Vertex</td>\n",
       "      <td>Vertex</td>\n",
       "      <td>Consider a cone consisting of the set of all s...</td>\n",
       "      <td>Definition:Cone (Geometry)/Apex</td>\n",
       "      <td>['Definitions/Cones', 'Definitions/Apices']</td>\n",
       "      <td>Consider a cone consisting of the set of all s...</td>\n",
       "      <td>False</td>\n",
       "    </tr>\n",
       "    <tr>\n",
       "      <th>2079</th>\n",
       "      <td>Definition:Weak</td>\n",
       "      <td>Weak</td>\n",
       "      <td>Let $X$ be a set.\\n\\nLet $I$ be an indexing se...</td>\n",
       "      <td>Definition:Initial Topology</td>\n",
       "      <td>['Definitions/Examples of Topologies', 'Defini...</td>\n",
       "      <td>Let X be a set.\\n\\nLet I be an indexing set.\\n...</td>\n",
       "      <td>False</td>\n",
       "    </tr>\n",
       "    <tr>\n",
       "      <th>2088</th>\n",
       "      <td>Definition:Word</td>\n",
       "      <td>Word</td>\n",
       "      <td>Let $n \\in \\mathbb N$ be a natural number.\\n\\n...</td>\n",
       "      <td>Definition:Ordered Tuple</td>\n",
       "      <td>['Definitions/Ordered Tuples', 'Definitions/Ca...</td>\n",
       "      <td>Let n ∈ℕ be a natural number.\\n\\nLet ℕ^*_n be ...</td>\n",
       "      <td>False</td>\n",
       "    </tr>\n",
       "    <tr>\n",
       "      <th>2103</th>\n",
       "      <td>Definition:Zero</td>\n",
       "      <td>Zero</td>\n",
       "      <td>Let $f: R \\to R$ be a mapping on a ring $R$.\\n...</td>\n",
       "      <td>Definition:Root of Mapping</td>\n",
       "      <td>['Definitions/Roots of Mappings', 'Definitions...</td>\n",
       "      <td>Let f: R → R be a mapping on a ring R.\\n\\nLet ...</td>\n",
       "      <td>False</td>\n",
       "    </tr>\n",
       "    <tr>\n",
       "      <th>2106</th>\n",
       "      <td>Definition:Zero Locus</td>\n",
       "      <td>Zero Locus</td>\n",
       "      <td>Let $A$ be a commutative ring with unity.\\n\\nL...</td>\n",
       "      <td>Definition:Vanishing Set of Subset of Ring</td>\n",
       "      <td>['Definitions/Zariski Topology']</td>\n",
       "      <td>Let A be a commutative ring with unity.\\n\\nLet...</td>\n",
       "      <td>False</td>\n",
       "    </tr>\n",
       "  </tbody>\n",
       "</table>\n",
       "<p>170 rows × 7 columns</p>\n",
       "</div>"
      ],
      "text/plain": [
       "                     dd_page_title               term   \n",
       "4              Definition:Absolute           Absolute  \\\n",
       "12             Definition:Absolute           Absolute   \n",
       "29    Definition:Additive Function  Additive Function   \n",
       "33    Definition:Additive Function  Additive Function   \n",
       "52       Definition:Adjacent Faces     Adjacent Faces   \n",
       "...                            ...                ...   \n",
       "2067             Definition:Vertex             Vertex   \n",
       "2079               Definition:Weak               Weak   \n",
       "2088               Definition:Word               Word   \n",
       "2103               Definition:Zero               Zero   \n",
       "2106         Definition:Zero Locus         Zero Locus   \n",
       "\n",
       "                                             definition   \n",
       "4     A constant is a name for an object (usually a ...  \\\n",
       "12    Let $S$ be a sample or a population.\\n\\nLet $\\...   \n",
       "29    Let $R$ be a unique factorization domain.\\n\\nL...   \n",
       "33    Let $\\unicode{x3a3}$ be a $\\sigma$-algebra.\\n\\...   \n",
       "52    :\\n\\nLet $G = \\left( V, E \\right)$ be a planar...   \n",
       "...                                                 ...   \n",
       "2067  Consider a cone consisting of the set of all s...   \n",
       "2079  Let $X$ be a set.\\n\\nLet $I$ be an indexing se...   \n",
       "2088  Let $n \\in \\mathbb N$ be a natural number.\\n\\n...   \n",
       "2103  Let $f: R \\to R$ be a mapping on a ring $R$.\\n...   \n",
       "2106  Let $A$ be a commutative ring with unity.\\n\\nL...   \n",
       "\n",
       "                                     def_page_title   \n",
       "4                               Definition:Constant  \\\n",
       "12    Definition:Frequency (Descriptive Statistics)   \n",
       "29              Definition:Additive Function on UFD   \n",
       "33           Definition:Countably Additive Function   \n",
       "52         Definition:Adjacent (Graph Theory)/Faces   \n",
       "...                                             ...   \n",
       "2067                Definition:Cone (Geometry)/Apex   \n",
       "2079                    Definition:Initial Topology   \n",
       "2088                       Definition:Ordered Tuple   \n",
       "2103                     Definition:Root of Mapping   \n",
       "2106     Definition:Vanishing Set of Subset of Ring   \n",
       "\n",
       "                                             categories   \n",
       "4      ['Definitions/Constants', 'Definitions/Algebra']  \\\n",
       "12    ['Definitions/Frequency (Descriptive Statistic...   \n",
       "29                          ['Definitions/Ring Theory']   \n",
       "33    ['Definitions/Set Systems', 'Definitions/Measu...   \n",
       "52    ['Definitions/Adjacency (Graph Theory)', 'Defi...   \n",
       "...                                                 ...   \n",
       "2067        ['Definitions/Cones', 'Definitions/Apices']   \n",
       "2079  ['Definitions/Examples of Topologies', 'Defini...   \n",
       "2088  ['Definitions/Ordered Tuples', 'Definitions/Ca...   \n",
       "2103  ['Definitions/Roots of Mappings', 'Definitions...   \n",
       "2106                   ['Definitions/Zariski Topology']   \n",
       "\n",
       "                                  plain_text_definition  term_in_def  \n",
       "4     A constant is a name for an object (usually a ...        False  \n",
       "12    Let S be a sample or a population.\\n\\nLet ω be...        False  \n",
       "29    Let R be a unique factorization domain.\\n\\nLet...        False  \n",
       "33    Let x3a3 be a σ-algebra.\\n\\nLet f: x3a3→R be a...        False  \n",
       "52    :\\n\\nLet G = ( V, E ) be a planar graph.\\n\\nTw...        False  \n",
       "...                                                 ...          ...  \n",
       "2067  Consider a cone consisting of the set of all s...        False  \n",
       "2079  Let X be a set.\\n\\nLet I be an indexing set.\\n...        False  \n",
       "2088  Let n ∈ℕ be a natural number.\\n\\nLet ℕ^*_n be ...        False  \n",
       "2103  Let f: R → R be a mapping on a ring R.\\n\\nLet ...        False  \n",
       "2106  Let A be a commutative ring with unity.\\n\\nLet...        False  \n",
       "\n",
       "[170 rows x 7 columns]"
      ]
     },
     "execution_count": 5,
     "metadata": {},
     "output_type": "execute_result"
    }
   ],
   "source": [
    "df_flattened_dd['term_in_def'] = df_flattened_dd.apply(lambda row: row['term'].lower() in row['plain_text_definition'].lower(), axis=1)\n",
    "df_flattened_dd[~df_flattened_dd['term_in_def']]"
   ]
  },
  {
   "cell_type": "markdown",
   "id": "171e497c-7d51-43a1-a609-c057a2b9d3cd",
   "metadata": {
    "jp-MarkdownHeadingCollapsed": true,
    "tags": []
   },
   "source": [
    "### todo: restore terms not contained in title. \n",
    "E.g., \"Adjacent Faces\" is not in \"Definition:Polyhedron/Adjacent/Faces\""
   ]
  },
  {
   "cell_type": "code",
   "execution_count": 6,
   "id": "1992f929-e91d-406e-bcfa-32956aee5063",
   "metadata": {
    "scrolled": true,
    "tags": []
   },
   "outputs": [
    {
     "data": {
      "text/html": [
       "<div>\n",
       "<style scoped>\n",
       "    .dataframe tbody tr th:only-of-type {\n",
       "        vertical-align: middle;\n",
       "    }\n",
       "\n",
       "    .dataframe tbody tr th {\n",
       "        vertical-align: top;\n",
       "    }\n",
       "\n",
       "    .dataframe thead th {\n",
       "        text-align: right;\n",
       "    }\n",
       "</style>\n",
       "<table border=\"1\" class=\"dataframe\">\n",
       "  <thead>\n",
       "    <tr style=\"text-align: right;\">\n",
       "      <th></th>\n",
       "      <th>dd_page_title</th>\n",
       "      <th>term</th>\n",
       "      <th>definition</th>\n",
       "      <th>def_page_title</th>\n",
       "      <th>categories</th>\n",
       "      <th>plain_text_definition</th>\n",
       "      <th>term_in_def</th>\n",
       "      <th>term_in_def_page_title</th>\n",
       "    </tr>\n",
       "  </thead>\n",
       "  <tbody>\n",
       "    <tr>\n",
       "      <th>4</th>\n",
       "      <td>Definition:Absolute</td>\n",
       "      <td>Absolute</td>\n",
       "      <td>A constant is a name for an object (usually a ...</td>\n",
       "      <td>Definition:Constant</td>\n",
       "      <td>['Definitions/Constants', 'Definitions/Algebra']</td>\n",
       "      <td>A constant is a name for an object (usually a ...</td>\n",
       "      <td>False</td>\n",
       "      <td>False</td>\n",
       "    </tr>\n",
       "    <tr>\n",
       "      <th>12</th>\n",
       "      <td>Definition:Absolute</td>\n",
       "      <td>Absolute</td>\n",
       "      <td>Let $S$ be a sample or a population.\\n\\nLet $\\...</td>\n",
       "      <td>Definition:Frequency (Descriptive Statistics)</td>\n",
       "      <td>['Definitions/Frequency (Descriptive Statistic...</td>\n",
       "      <td>Let S be a sample or a population.\\n\\nLet ω be...</td>\n",
       "      <td>False</td>\n",
       "      <td>False</td>\n",
       "    </tr>\n",
       "    <tr>\n",
       "      <th>52</th>\n",
       "      <td>Definition:Adjacent Faces</td>\n",
       "      <td>Adjacent Faces</td>\n",
       "      <td>:\\n\\nLet $G = \\left( V, E \\right)$ be a planar...</td>\n",
       "      <td>Definition:Adjacent (Graph Theory)/Faces</td>\n",
       "      <td>['Definitions/Adjacency (Graph Theory)', 'Defi...</td>\n",
       "      <td>:\\n\\nLet G = ( V, E ) be a planar graph.\\n\\nTw...</td>\n",
       "      <td>False</td>\n",
       "      <td>False</td>\n",
       "    </tr>\n",
       "    <tr>\n",
       "      <th>53</th>\n",
       "      <td>Definition:Adjacent Faces</td>\n",
       "      <td>Adjacent Faces</td>\n",
       "      <td>Two faces of a polyhedron that meet at the sam...</td>\n",
       "      <td>Definition:Polyhedron/Adjacent/Faces</td>\n",
       "      <td>['Definitions/Adjacent (Polyhedra)']</td>\n",
       "      <td>Two faces of a polyhedron that meet at the sam...</td>\n",
       "      <td>False</td>\n",
       "      <td>False</td>\n",
       "    </tr>\n",
       "    <tr>\n",
       "      <th>75</th>\n",
       "      <td>Definition:Aggregation</td>\n",
       "      <td>Aggregation</td>\n",
       "      <td>Parenthesis is a syntactical technique to disa...</td>\n",
       "      <td>Definition:Parenthesis</td>\n",
       "      <td>['Definitions/Parenthesis', 'Definitions/Symbo...</td>\n",
       "      <td>Parenthesis is a syntactical technique to disa...</td>\n",
       "      <td>False</td>\n",
       "      <td>False</td>\n",
       "    </tr>\n",
       "    <tr>\n",
       "      <th>...</th>\n",
       "      <td>...</td>\n",
       "      <td>...</td>\n",
       "      <td>...</td>\n",
       "      <td>...</td>\n",
       "      <td>...</td>\n",
       "      <td>...</td>\n",
       "      <td>...</td>\n",
       "      <td>...</td>\n",
       "    </tr>\n",
       "    <tr>\n",
       "      <th>2067</th>\n",
       "      <td>Definition:Vertex</td>\n",
       "      <td>Vertex</td>\n",
       "      <td>Consider a cone consisting of the set of all s...</td>\n",
       "      <td>Definition:Cone (Geometry)/Apex</td>\n",
       "      <td>['Definitions/Cones', 'Definitions/Apices']</td>\n",
       "      <td>Consider a cone consisting of the set of all s...</td>\n",
       "      <td>False</td>\n",
       "      <td>False</td>\n",
       "    </tr>\n",
       "    <tr>\n",
       "      <th>2079</th>\n",
       "      <td>Definition:Weak</td>\n",
       "      <td>Weak</td>\n",
       "      <td>Let $X$ be a set.\\n\\nLet $I$ be an indexing se...</td>\n",
       "      <td>Definition:Initial Topology</td>\n",
       "      <td>['Definitions/Examples of Topologies', 'Defini...</td>\n",
       "      <td>Let X be a set.\\n\\nLet I be an indexing set.\\n...</td>\n",
       "      <td>False</td>\n",
       "      <td>False</td>\n",
       "    </tr>\n",
       "    <tr>\n",
       "      <th>2088</th>\n",
       "      <td>Definition:Word</td>\n",
       "      <td>Word</td>\n",
       "      <td>Let $n \\in \\mathbb N$ be a natural number.\\n\\n...</td>\n",
       "      <td>Definition:Ordered Tuple</td>\n",
       "      <td>['Definitions/Ordered Tuples', 'Definitions/Ca...</td>\n",
       "      <td>Let n ∈ℕ be a natural number.\\n\\nLet ℕ^*_n be ...</td>\n",
       "      <td>False</td>\n",
       "      <td>False</td>\n",
       "    </tr>\n",
       "    <tr>\n",
       "      <th>2103</th>\n",
       "      <td>Definition:Zero</td>\n",
       "      <td>Zero</td>\n",
       "      <td>Let $f: R \\to R$ be a mapping on a ring $R$.\\n...</td>\n",
       "      <td>Definition:Root of Mapping</td>\n",
       "      <td>['Definitions/Roots of Mappings', 'Definitions...</td>\n",
       "      <td>Let f: R → R be a mapping on a ring R.\\n\\nLet ...</td>\n",
       "      <td>False</td>\n",
       "      <td>False</td>\n",
       "    </tr>\n",
       "    <tr>\n",
       "      <th>2106</th>\n",
       "      <td>Definition:Zero Locus</td>\n",
       "      <td>Zero Locus</td>\n",
       "      <td>Let $A$ be a commutative ring with unity.\\n\\nL...</td>\n",
       "      <td>Definition:Vanishing Set of Subset of Ring</td>\n",
       "      <td>['Definitions/Zariski Topology']</td>\n",
       "      <td>Let A be a commutative ring with unity.\\n\\nLet...</td>\n",
       "      <td>False</td>\n",
       "      <td>False</td>\n",
       "    </tr>\n",
       "  </tbody>\n",
       "</table>\n",
       "<p>187 rows × 8 columns</p>\n",
       "</div>"
      ],
      "text/plain": [
       "                  dd_page_title            term   \n",
       "4           Definition:Absolute        Absolute  \\\n",
       "12          Definition:Absolute        Absolute   \n",
       "52    Definition:Adjacent Faces  Adjacent Faces   \n",
       "53    Definition:Adjacent Faces  Adjacent Faces   \n",
       "75       Definition:Aggregation     Aggregation   \n",
       "...                         ...             ...   \n",
       "2067          Definition:Vertex          Vertex   \n",
       "2079            Definition:Weak            Weak   \n",
       "2088            Definition:Word            Word   \n",
       "2103            Definition:Zero            Zero   \n",
       "2106      Definition:Zero Locus      Zero Locus   \n",
       "\n",
       "                                             definition   \n",
       "4     A constant is a name for an object (usually a ...  \\\n",
       "12    Let $S$ be a sample or a population.\\n\\nLet $\\...   \n",
       "52    :\\n\\nLet $G = \\left( V, E \\right)$ be a planar...   \n",
       "53    Two faces of a polyhedron that meet at the sam...   \n",
       "75    Parenthesis is a syntactical technique to disa...   \n",
       "...                                                 ...   \n",
       "2067  Consider a cone consisting of the set of all s...   \n",
       "2079  Let $X$ be a set.\\n\\nLet $I$ be an indexing se...   \n",
       "2088  Let $n \\in \\mathbb N$ be a natural number.\\n\\n...   \n",
       "2103  Let $f: R \\to R$ be a mapping on a ring $R$.\\n...   \n",
       "2106  Let $A$ be a commutative ring with unity.\\n\\nL...   \n",
       "\n",
       "                                     def_page_title   \n",
       "4                               Definition:Constant  \\\n",
       "12    Definition:Frequency (Descriptive Statistics)   \n",
       "52         Definition:Adjacent (Graph Theory)/Faces   \n",
       "53             Definition:Polyhedron/Adjacent/Faces   \n",
       "75                           Definition:Parenthesis   \n",
       "...                                             ...   \n",
       "2067                Definition:Cone (Geometry)/Apex   \n",
       "2079                    Definition:Initial Topology   \n",
       "2088                       Definition:Ordered Tuple   \n",
       "2103                     Definition:Root of Mapping   \n",
       "2106     Definition:Vanishing Set of Subset of Ring   \n",
       "\n",
       "                                             categories   \n",
       "4      ['Definitions/Constants', 'Definitions/Algebra']  \\\n",
       "12    ['Definitions/Frequency (Descriptive Statistic...   \n",
       "52    ['Definitions/Adjacency (Graph Theory)', 'Defi...   \n",
       "53                 ['Definitions/Adjacent (Polyhedra)']   \n",
       "75    ['Definitions/Parenthesis', 'Definitions/Symbo...   \n",
       "...                                                 ...   \n",
       "2067        ['Definitions/Cones', 'Definitions/Apices']   \n",
       "2079  ['Definitions/Examples of Topologies', 'Defini...   \n",
       "2088  ['Definitions/Ordered Tuples', 'Definitions/Ca...   \n",
       "2103  ['Definitions/Roots of Mappings', 'Definitions...   \n",
       "2106                   ['Definitions/Zariski Topology']   \n",
       "\n",
       "                                  plain_text_definition  term_in_def   \n",
       "4     A constant is a name for an object (usually a ...        False  \\\n",
       "12    Let S be a sample or a population.\\n\\nLet ω be...        False   \n",
       "52    :\\n\\nLet G = ( V, E ) be a planar graph.\\n\\nTw...        False   \n",
       "53    Two faces of a polyhedron that meet at the sam...        False   \n",
       "75    Parenthesis is a syntactical technique to disa...        False   \n",
       "...                                                 ...          ...   \n",
       "2067  Consider a cone consisting of the set of all s...        False   \n",
       "2079  Let X be a set.\\n\\nLet I be an indexing set.\\n...        False   \n",
       "2088  Let n ∈ℕ be a natural number.\\n\\nLet ℕ^*_n be ...        False   \n",
       "2103  Let f: R → R be a mapping on a ring R.\\n\\nLet ...        False   \n",
       "2106  Let A be a commutative ring with unity.\\n\\nLet...        False   \n",
       "\n",
       "      term_in_def_page_title  \n",
       "4                      False  \n",
       "12                     False  \n",
       "52                     False  \n",
       "53                     False  \n",
       "75                     False  \n",
       "...                      ...  \n",
       "2067                   False  \n",
       "2079                   False  \n",
       "2088                   False  \n",
       "2103                   False  \n",
       "2106                   False  \n",
       "\n",
       "[187 rows x 8 columns]"
      ]
     },
     "execution_count": 6,
     "metadata": {},
     "output_type": "execute_result"
    }
   ],
   "source": [
    "df_flattened_dd['term_in_def_page_title'] = df_flattened_dd.apply(lambda row: row['term'].lower() in row['def_page_title'].lower(), axis=1)\n",
    "df_flattened_dd[~df_flattened_dd['term_in_def_page_title']]"
   ]
  },
  {
   "cell_type": "code",
   "execution_count": 7,
   "id": "f8f810a6-e54c-4179-b39f-df6a8459dfdd",
   "metadata": {
    "scrolled": true,
    "tags": []
   },
   "outputs": [],
   "source": [
    "todo_dict_term_not_in_def = df_flattened_dd[~df_flattened_dd['term_in_def']].to_dict(orient='records')\n",
    "pkl_vars(todo_dict_term_not_in_def, 'data/vars/todo_dict_term_not_in_def')"
   ]
  },
  {
   "cell_type": "markdown",
   "id": "1c599ec4-c817-45dd-9b57-612e7be5ce1e",
   "metadata": {
    "jp-MarkdownHeadingCollapsed": true,
    "tags": []
   },
   "source": [
    "### todo1: use the redirections to repair the definition titles containing term\n",
    "e.g.: https://proofwiki.org/wiki/Definition:Frequency_(Descriptive_Statistics) does not contain \"Abosolute\"  https://proofwiki.org/wiki/Definition:Absolute_Frequency https://proofwiki.org/wiki/Definition:Absolute"
   ]
  },
  {
   "cell_type": "code",
   "execution_count": 12,
   "id": "e668b0bb-b267-4b97-abb0-e0450f10266b",
   "metadata": {},
   "outputs": [
    {
     "data": {
      "text/plain": [
       "'Definition:Frequency (Descriptive Statistics)'"
      ]
     },
     "execution_count": 12,
     "metadata": {},
     "output_type": "execute_result"
    }
   ],
   "source": [
    "redirects.get('Definition:Absolute Frequency')"
   ]
  },
  {
   "cell_type": "code",
   "execution_count": 16,
   "id": "0c9821f6-9d5a-4f76-afe3-b76e153241c9",
   "metadata": {
    "tags": []
   },
   "outputs": [],
   "source": [
    "redirects.get('Definition:Frequency_(Descriptive_Statistics)')"
   ]
  },
  {
   "cell_type": "markdown",
   "id": "79740cec-234f-4d9e-887f-f53d82cd3933",
   "metadata": {
    "jp-MarkdownHeadingCollapsed": true,
    "tags": []
   },
   "source": [
    "### todo2: use the redirection title pairs make positive pairs"
   ]
  },
  {
   "cell_type": "code",
   "execution_count": 33,
   "id": "a4461547-a0fb-4fdd-9f2c-a58ec3bbc146",
   "metadata": {},
   "outputs": [],
   "source": [
    "# Read the redirects CSV (assuming no header in the CSV)\n",
    "redirects_df = pd.read_csv('redirected_links.csv', names=['tname', 'redirect'], header=None)"
   ]
  },
  {
   "cell_type": "code",
   "execution_count": 42,
   "id": "4f0d6da5-aff6-4921-8bbb-fc653450af61",
   "metadata": {
    "scrolled": true,
    "tags": []
   },
   "outputs": [
    {
     "name": "stdout",
     "output_type": "stream",
     "text": [
      "Redirects with conflicting mappings:\n",
      "Redirect 'Definition:Adjacent (Graph Theory)/Edges' is mapped to multiple tnames: ['Definition:Adjacent Edges of Graph', 'Definition:Coterminal Edges of Graph']\n",
      "Redirect 'Definition:Class Interval/Empty' is mapped to multiple tnames: ['Definition:Empty Class (Descriptive Statistics)', 'Definition:Empty Class Interval']\n",
      "Redirect 'Definition:Compact Space/Topology' is mapped to multiple tnames: ['Definition:Compact Topological Space', 'Definition:Quasi-Compact Topological Space']\n",
      "Redirect 'Definition:Compound Statement/Substatement' is mapped to multiple tnames: ['Definition:Component of Compound Statement', 'Definition:Substatement of Compound Statement']\n",
      "Redirect 'Definition:Differential Equation/Order' is mapped to multiple tnames: ['Definition:Dimension of Differential Equation', 'Definition:Order of Differential Equation']\n",
      "Redirect 'Definition:Differential Equation/Solution' is mapped to multiple tnames: ['Definition:Integral (Differential Equations)', 'Definition:Solution to Differential Equation']\n",
      "Redirect 'Definition:Differential Equation/Solution/Particular Solution' is mapped to multiple tnames: ['Definition:Particular Solution to Differential Equation', 'Definition:Specific Solution']\n",
      "Redirect 'Definition:Disjunction/Disjunct' is mapped to multiple tnames: ['Definition:Alternant (Logic)', 'Definition:Alternative (Logic)']\n",
      "Redirect 'Definition:Divisor (Algebra)/Integer' is mapped to multiple tnames: ['Definition:Divisor of Integer', 'Definition:Factor (Algebra)']\n",
      "Redirect 'Definition:Ellipse/Major Axis/Semi-Major Axis' is mapped to multiple tnames: ['Definition:Semi-Major Axis of Ellipse', 'Definition:Semimajor Axis of Ellipse']\n",
      "Redirect 'Definition:Ellipse/Minor Axis/Semi-Minor Axis' is mapped to multiple tnames: ['Definition:Semi-Minor Axis of Ellipse', 'Definition:Semiminor Axis of Ellipse']\n",
      "Redirect 'Definition:Generated Normal Subgroup' is mapped to multiple tnames: ['Definition:Normal Closure of Subset of Group', 'Definition:Conjugate Closure of Subset of Group']\n",
      "Redirect 'Definition:Greatest Common Divisor' is mapped to multiple tnames: ['Definition:Highest Common Factor', 'Definition:Greatest Common Factor']\n",
      "Redirect 'Definition:Hölder Mean' is mapped to multiple tnames: ['Definition:Power Mean', 'Definition:Generalized Mean']\n",
      "Redirect 'Definition:Image (Relation Theory)/Mapping/Mapping' is mapped to multiple tnames: ['Definition:Direct Image of Mapping', 'Definition:Image of Mapping', 'Definition:Image Set of Mapping']\n",
      "Redirect 'Definition:Image (Relation Theory)/Relation/Relation' is mapped to multiple tnames: ['Definition:Direct Image of Relation', 'Definition:Image of Relation', 'Definition:Image Set of Relation']\n",
      "Redirect 'Definition:Linear Measure/Length' is mapped to multiple tnames: ['Definition:Length (Linear Measure)', 'Definition:Length of Line']\n",
      "Redirect 'Definition:Mapping Reduction' is mapped to multiple tnames: ['Definition:Mapping Reducible', 'Definition:Many-One Reducible']\n",
      "Redirect 'Definition:Matrix/Order' is mapped to multiple tnames: ['Definition:Dimensions of Matrix', 'Definition:Order of Matrix']\n",
      "Redirect 'Definition:Morphism' is mapped to multiple tnames: ['Definition:Arrow (Category Theory)', 'Definition:Edge (Category Theory)']\n",
      "Redirect 'Definition:Nonsingular Matrix' is mapped to multiple tnames: ['Definition:Invertible Matrix', 'Definition:Regular Matrix']\n",
      "Redirect 'Definition:Operation/Binary Operation/Product/Left' is mapped to multiple tnames: ['Definition:Left-Hand Product', 'Definition:Left Product']\n",
      "Redirect 'Definition:Orientation of Coordinate Axes/Cartesian 3-Space/Left-Handed' is mapped to multiple tnames: ['Definition:Left-Handed Cartesian 3-Space', 'Definition:Left-Handed Triad']\n",
      "Redirect 'Definition:Orientation of Coordinate Axes/Cartesian 3-Space/Right-Handed' is mapped to multiple tnames: ['Definition:Right-Handed Cartesian 3-Space', 'Definition:Right-Handed Triad']\n",
      "Redirect 'Definition:Polar Coordinates/Angular Coordinate' is mapped to multiple tnames: ['Definition:Anomaly (Polar Coordinates)', 'Definition:Argument (Polar Coordinates)']\n",
      "Redirect 'Definition:Polygon/Adjacent/Sides' is mapped to multiple tnames: ['Definition:Adjacent Sides', 'Definition:Coterminal Sides']\n",
      "Redirect 'Definition:Real Interval/Half-Open/Left' is mapped to multiple tnames: ['Definition:Left Half-Open Real Interval', 'Definition:Left Half-Open Bounded Real Interval']\n",
      "Redirect 'Definition:Real Interval/Half-Open/Right' is mapped to multiple tnames: ['Definition:Right Half-Open Real Interval', 'Definition:Right Half-Open Bounded Real Interval']\n",
      "Redirect 'Definition:Real Interval/Unbounded Closed' is mapped to multiple tnames: ['Definition:Closed Real Interval Bounded on the Left', 'Definition:Closed Real Interval Bounded on the Right']\n",
      "Redirect 'Definition:Real Interval/Unbounded Open' is mapped to multiple tnames: ['Definition:Open Real Interval Bounded on the Left', 'Definition:Open Real Interval Bounded on the Right']\n",
      "Redirect 'Definition:Second-Countable Space' is mapped to multiple tnames: ['Definition:Completely Separable Space', 'Definition:Perfectly Separable Space']\n",
      "Redirect 'Definition:Spline Function/Knot' is mapped to multiple tnames: ['Definition:Knot of Spline', 'Definition:Node of Spline']\n",
      "Redirect 'Definition:Submatrix' is mapped to multiple tnames: ['Definition:Block (Matrix Theory)', 'Definition:Segment of Matrix']\n",
      "Redirect 'Definition:Summation/Vacuous Summation' is mapped to multiple tnames: ['Definition:Empty Sum', 'Definition:Vacuous Summation']\n",
      "Redirect 'Definition:Trajectory (Mechanics)' is mapped to multiple tnames: ['Definition:Trajectory (Ballistics)', 'Definition:Trajectory of Body']\n",
      "Redirect 'Definition:Well-Formed Part/Proper Well-Formed Part' is mapped to multiple tnames: ['Definition:Proper Subformula', 'Definition:Proper Well-Formed Part']\n"
     ]
    }
   ],
   "source": [
    "# Group by 'redirect' and check for multiple unique 'tname' mappings\n",
    "conflicting_redirects = (\n",
    "    redirects_df.groupby('redirect')['tname']\n",
    "    .agg(lambda x: list(x.unique()))  # Get unique tnames per redirect\n",
    "    .reset_index()\n",
    "    .query('tname.str.len() > 1')  # Filter redirects with >1 unique tname\n",
    ")\n",
    "\n",
    "# Print results\n",
    "if not conflicting_redirects.empty:\n",
    "    print(\"Redirects with conflicting mappings:\")\n",
    "    for _, row in conflicting_redirects.iterrows():\n",
    "        redirect = row['redirect']\n",
    "        tnames = row['tname']\n",
    "        print(f\"Redirect '{redirect}' is mapped to multiple tnames: {tnames}\")\n",
    "else:\n",
    "    print(\"No redirects with conflicting mappings found.\")"
   ]
  },
  {
   "cell_type": "code",
   "execution_count": null,
   "id": "690229f0-493d-4ff6-a39b-9b9fade510bf",
   "metadata": {},
   "outputs": [],
   "source": []
  },
  {
   "cell_type": "code",
   "execution_count": 33,
   "id": "9ec81519-c7bd-43ba-ac7e-4a26198cfdbb",
   "metadata": {},
   "outputs": [],
   "source": [
    "# Create a dictionary mapping redirects to their target tnames\n",
    "redirect_dict = redirects_df.set_index('redirect')['tname'].to_dict()"
   ]
  },
  {
   "cell_type": "code",
   "execution_count": 38,
   "id": "285193aa-7777-4099-b65d-e3133e06596a",
   "metadata": {
    "tags": []
   },
   "outputs": [
    {
     "data": {
      "text/plain": [
       "'Definition:Absolute Frequency'"
      ]
     },
     "execution_count": 38,
     "metadata": {},
     "output_type": "execute_result"
    }
   ],
   "source": [
    "redirect_dict['Definition:Frequency (Descriptive Statistics)']"
   ]
  },
  {
   "cell_type": "code",
   "execution_count": 39,
   "id": "bf6a1390-b12e-438f-814a-c235f2efc243",
   "metadata": {},
   "outputs": [],
   "source": [
    "# Replace values in the DataFrame's 'def_page_title' column using the dictionary\n",
    "df_flattened_dd['def_page_title'].replace(redirect_dict, inplace=True)"
   ]
  },
  {
   "cell_type": "code",
   "execution_count": 40,
   "id": "6ad40615-752f-4842-8d92-5cbf4ebcbdc7",
   "metadata": {
    "scrolled": true,
    "tags": []
   },
   "outputs": [
    {
     "data": {
      "text/html": [
       "<div>\n",
       "<style scoped>\n",
       "    .dataframe tbody tr th:only-of-type {\n",
       "        vertical-align: middle;\n",
       "    }\n",
       "\n",
       "    .dataframe tbody tr th {\n",
       "        vertical-align: top;\n",
       "    }\n",
       "\n",
       "    .dataframe thead th {\n",
       "        text-align: right;\n",
       "    }\n",
       "</style>\n",
       "<table border=\"1\" class=\"dataframe\">\n",
       "  <thead>\n",
       "    <tr style=\"text-align: right;\">\n",
       "      <th></th>\n",
       "      <th>dd_page_title</th>\n",
       "      <th>term</th>\n",
       "      <th>definition</th>\n",
       "      <th>def_page_title</th>\n",
       "      <th>categories</th>\n",
       "      <th>plain_text_definition</th>\n",
       "      <th>term_in_def</th>\n",
       "      <th>term_in_def_page_title</th>\n",
       "      <th>biased_indexes</th>\n",
       "      <th>def_contains_other_def</th>\n",
       "    </tr>\n",
       "  </thead>\n",
       "  <tbody>\n",
       "    <tr>\n",
       "      <th>36</th>\n",
       "      <td>Definition:Adjacent</td>\n",
       "      <td>Adjacent</td>\n",
       "      <td>=== Undirected Graph ===\\nLet $G = \\left( V, E...</td>\n",
       "      <td>Definition:Coterminal Edges of Graph</td>\n",
       "      <td>['Definitions/Edges of Graphs', 'Definitions/A...</td>\n",
       "      <td>=== Undirected Graph ===\\nLet G = ( V, E ) be ...</td>\n",
       "      <td>True</td>\n",
       "      <td>False</td>\n",
       "      <td>False</td>\n",
       "      <td>True</td>\n",
       "    </tr>\n",
       "    <tr>\n",
       "      <th>42</th>\n",
       "      <td>Definition:Adjacent</td>\n",
       "      <td>Adjacent</td>\n",
       "      <td>Two sides of a polygon that meet at the same v...</td>\n",
       "      <td>Definition:Coterminal Sides</td>\n",
       "      <td>['Definitions/Adjacent (Polygons)']</td>\n",
       "      <td>Two sides of a polygon that meet at the same v...</td>\n",
       "      <td>True</td>\n",
       "      <td>False</td>\n",
       "      <td>False</td>\n",
       "      <td>True</td>\n",
       "    </tr>\n",
       "    <tr>\n",
       "      <th>107</th>\n",
       "      <td>Definition:Alternant</td>\n",
       "      <td>Alternant</td>\n",
       "      <td>Let $p \\lor q$ be a compound statement whose m...</td>\n",
       "      <td>Definition:Alternative (Logic)</td>\n",
       "      <td>['Definitions/Disjunction']</td>\n",
       "      <td>Let p  q be a compound statement whose main co...</td>\n",
       "      <td>False</td>\n",
       "      <td>False</td>\n",
       "      <td>False</td>\n",
       "      <td>True</td>\n",
       "    </tr>\n",
       "    <tr>\n",
       "      <th>136</th>\n",
       "      <td>Definition:Arrow</td>\n",
       "      <td>Arrow</td>\n",
       "      <td>Let $\\mathbf C$ be a metacategory.\\n\\n\\nA morp...</td>\n",
       "      <td>Definition:Edge (Category Theory)</td>\n",
       "      <td>['Definitions/Morphisms', 'Definitions/Categor...</td>\n",
       "      <td>Let 𝐂 be a metacategory.\\n\\n\\nA morphism of 𝐂 ...</td>\n",
       "      <td>False</td>\n",
       "      <td>False</td>\n",
       "      <td>False</td>\n",
       "      <td>True</td>\n",
       "    </tr>\n",
       "    <tr>\n",
       "      <th>152</th>\n",
       "      <td>Definition:Auxiliary</td>\n",
       "      <td>Auxiliary</td>\n",
       "      <td>Let:\\n:$(1): \\quad y' ' + p y' + q y = 0$\\nbe ...</td>\n",
       "      <td>Definition:Characteristic Equation of Differen...</td>\n",
       "      <td>['Definitions/Auxiliary Equations', 'Definitio...</td>\n",
       "      <td>Let:\\n:(1):    y' ' + p y' + q y = 0\\nbe a con...</td>\n",
       "      <td>True</td>\n",
       "      <td>False</td>\n",
       "      <td>False</td>\n",
       "      <td>True</td>\n",
       "    </tr>\n",
       "    <tr>\n",
       "      <th>187</th>\n",
       "      <td>Definition:Block</td>\n",
       "      <td>Block</td>\n",
       "      <td>Let $\\mathbf A$ be a matrix with $m$ rows and ...</td>\n",
       "      <td>Definition:Segment of Matrix</td>\n",
       "      <td>['Definitions/Submatrices', 'Definitions/Matri...</td>\n",
       "      <td>Let 𝐀 be a matrix with m rows and n columns.\\n...</td>\n",
       "      <td>False</td>\n",
       "      <td>False</td>\n",
       "      <td>False</td>\n",
       "      <td>True</td>\n",
       "    </tr>\n",
       "    <tr>\n",
       "      <th>260</th>\n",
       "      <td>Definition:Circuit</td>\n",
       "      <td>Circuit</td>\n",
       "      <td>A circuit is a closed trail with at least one ...</td>\n",
       "      <td>Definition:Closed Trail</td>\n",
       "      <td>['Definitions/Circuits (Graph Theory)', 'Defin...</td>\n",
       "      <td>A circuit is a closed trail with at least one ...</td>\n",
       "      <td>True</td>\n",
       "      <td>False</td>\n",
       "      <td>False</td>\n",
       "      <td>True</td>\n",
       "    </tr>\n",
       "    <tr>\n",
       "      <th>300</th>\n",
       "      <td>Definition:Closure</td>\n",
       "      <td>Closure</td>\n",
       "      <td>Let $\\left( S, \\circ \\right)$ be an algebraic ...</td>\n",
       "      <td>Definition:Closed Algebraic Structure</td>\n",
       "      <td>['Definitions/Algebraic Closure']</td>\n",
       "      <td>Let ( S, ∘) be an algebraic structure.\\n\\n\\nTh...</td>\n",
       "      <td>True</td>\n",
       "      <td>False</td>\n",
       "      <td>False</td>\n",
       "      <td>True</td>\n",
       "    </tr>\n",
       "    <tr>\n",
       "      <th>360</th>\n",
       "      <td>Definition:Complement</td>\n",
       "      <td>Complement</td>\n",
       "      <td>Let $S$ be a set, and let $T \\subseteq S$, tha...</td>\n",
       "      <td>Definition:Proper Difference</td>\n",
       "      <td>['Definitions/Relative Complement', 'Definitio...</td>\n",
       "      <td>Let S be a set, and let T ⊆ S, that is: let T ...</td>\n",
       "      <td>True</td>\n",
       "      <td>False</td>\n",
       "      <td>False</td>\n",
       "      <td>True</td>\n",
       "    </tr>\n",
       "    <tr>\n",
       "      <th>388</th>\n",
       "      <td>Definition:Component</td>\n",
       "      <td>Component</td>\n",
       "      <td>A substatement of a compound statement is one ...</td>\n",
       "      <td>Definition:Substatement of Compound Statement</td>\n",
       "      <td>['Definitions/Compound Statements']</td>\n",
       "      <td>A substatement of a compound statement is one ...</td>\n",
       "      <td>False</td>\n",
       "      <td>False</td>\n",
       "      <td>False</td>\n",
       "      <td>True</td>\n",
       "    </tr>\n",
       "    <tr>\n",
       "      <th>416</th>\n",
       "      <td>Definition:Congruence</td>\n",
       "      <td>Congruence</td>\n",
       "      <td>Let $\\left( S, \\circ \\right)$ be an algebraic ...</td>\n",
       "      <td>Definition:Equivalence Relation Compatible wit...</td>\n",
       "      <td>['Definitions/Abstract Algebra', 'Definitions/...</td>\n",
       "      <td>Let ( S, ∘) be an algebraic structure.\\n\\nLet ...</td>\n",
       "      <td>True</td>\n",
       "      <td>False</td>\n",
       "      <td>False</td>\n",
       "      <td>True</td>\n",
       "    </tr>\n",
       "    <tr>\n",
       "      <th>426</th>\n",
       "      <td>Definition:Conjugate</td>\n",
       "      <td>Conjugate</td>\n",
       "      <td>Let $G$ be a group.\\n\\nLet $S \\subseteq G$ be ...</td>\n",
       "      <td>Definition:Normal Closure of Subset of Group</td>\n",
       "      <td>['Definitions/Generated Normal Subgroups', 'De...</td>\n",
       "      <td>Let G be a group.\\n\\nLet S ⊆ G be a subset.\\n\\...</td>\n",
       "      <td>False</td>\n",
       "      <td>False</td>\n",
       "      <td>False</td>\n",
       "      <td>True</td>\n",
       "    </tr>\n",
       "    <tr>\n",
       "      <th>500</th>\n",
       "      <td>Definition:Cycle</td>\n",
       "      <td>Cycle</td>\n",
       "      <td>A cycle is a circuit in which no vertex except...</td>\n",
       "      <td>Definition:Closed Path</td>\n",
       "      <td>['Definitions/Cycles (Graph Theory)', 'Definit...</td>\n",
       "      <td>A cycle is a circuit in which no vertex except...</td>\n",
       "      <td>True</td>\n",
       "      <td>False</td>\n",
       "      <td>False</td>\n",
       "      <td>True</td>\n",
       "    </tr>\n",
       "    <tr>\n",
       "      <th>528</th>\n",
       "      <td>Definition:Degree</td>\n",
       "      <td>Degree</td>\n",
       "      <td>Let $G$ be an abelian group.\\n\\nLet $\\Delta$ b...</td>\n",
       "      <td>Definition:Homogeneous Element</td>\n",
       "      <td>['Definitions/Group Theory']</td>\n",
       "      <td>Let G be an abelian group.\\n\\nLet Δ be a set.\\...</td>\n",
       "      <td>False</td>\n",
       "      <td>False</td>\n",
       "      <td>False</td>\n",
       "      <td>False</td>\n",
       "    </tr>\n",
       "    <tr>\n",
       "      <th>536</th>\n",
       "      <td>Definition:Degree</td>\n",
       "      <td>Degree</td>\n",
       "      <td>Celsius is a temperature scale.\\n\\nIts two ref...</td>\n",
       "      <td>Definition:Celsius</td>\n",
       "      <td>['Definitions/Celsius', 'Definitions/Degrees o...</td>\n",
       "      <td>Celsius is a temperature scale.\\n\\nIts two ref...</td>\n",
       "      <td>True</td>\n",
       "      <td>False</td>\n",
       "      <td>False</td>\n",
       "      <td>False</td>\n",
       "    </tr>\n",
       "    <tr>\n",
       "      <th>537</th>\n",
       "      <td>Definition:Degree</td>\n",
       "      <td>Degree</td>\n",
       "      <td>Fahrenheit is a temperature scale.\\n\\nIts two ...</td>\n",
       "      <td>Definition:Fahrenheit</td>\n",
       "      <td>['Definitions/Fahrenheit', 'Definitions/Temper...</td>\n",
       "      <td>Fahrenheit is a temperature scale.\\n\\nIts two ...</td>\n",
       "      <td>True</td>\n",
       "      <td>False</td>\n",
       "      <td>False</td>\n",
       "      <td>False</td>\n",
       "    </tr>\n",
       "    <tr>\n",
       "      <th>570</th>\n",
       "      <td>Definition:Diameter</td>\n",
       "      <td>Diameter</td>\n",
       "      <td>Let $ABCD$ be a parallelogram:\\n\\n:\\n\\nThe dia...</td>\n",
       "      <td>Definition:Diagonal of Parallelogram</td>\n",
       "      <td>['Definitions/Parallelograms']</td>\n",
       "      <td>Let ABCD be a parallelogram:\\n\\n:\\n\\nThe diame...</td>\n",
       "      <td>True</td>\n",
       "      <td>False</td>\n",
       "      <td>False</td>\n",
       "      <td>True</td>\n",
       "    </tr>\n",
       "    <tr>\n",
       "      <th>584</th>\n",
       "      <td>Definition:Dimension</td>\n",
       "      <td>Dimension</td>\n",
       "      <td>Let $\\left[ a \\right]_{m n}$ be an $m \\times n...</td>\n",
       "      <td>Definition:Order of Matrix</td>\n",
       "      <td>['Definitions/Orders of Matrices', 'Definition...</td>\n",
       "      <td>Let [ a ]_m n be an m × n matrix.\\n\\nThen the ...</td>\n",
       "      <td>False</td>\n",
       "      <td>False</td>\n",
       "      <td>False</td>\n",
       "      <td>True</td>\n",
       "    </tr>\n",
       "    <tr>\n",
       "      <th>593</th>\n",
       "      <td>Definition:Dimension</td>\n",
       "      <td>Dimension</td>\n",
       "      <td>The order of a differential equation is define...</td>\n",
       "      <td>Definition:Order of Differential Equation</td>\n",
       "      <td>['Definitions/Order of Differential Equation',...</td>\n",
       "      <td>The order of a differential equation is define...</td>\n",
       "      <td>False</td>\n",
       "      <td>False</td>\n",
       "      <td>False</td>\n",
       "      <td>True</td>\n",
       "    </tr>\n",
       "    <tr>\n",
       "      <th>596</th>\n",
       "      <td>Definition:Direct Image</td>\n",
       "      <td>Direct Image</td>\n",
       "      <td>Let $f: S \\to T$ be a mapping.\\n\\n\\n=== Defini...</td>\n",
       "      <td>Definition:Image Set of Mapping</td>\n",
       "      <td>['Definitions/Images']</td>\n",
       "      <td>Let f: S → T be a mapping.\\n\\n\\n=== Definition...</td>\n",
       "      <td>False</td>\n",
       "      <td>False</td>\n",
       "      <td>False</td>\n",
       "      <td>True</td>\n",
       "    </tr>\n",
       "    <tr>\n",
       "      <th>597</th>\n",
       "      <td>Definition:Direct Image</td>\n",
       "      <td>Direct Image</td>\n",
       "      <td>Let $\\mathcal R \\subseteq S \\times T$ be a rel...</td>\n",
       "      <td>Definition:Image Set of Relation</td>\n",
       "      <td>['Definitions/Images', 'Definitions/Relations']</td>\n",
       "      <td>Let ℛ⊆ S × T be a relation.\\n\\n\\nThe image of ...</td>\n",
       "      <td>False</td>\n",
       "      <td>False</td>\n",
       "      <td>False</td>\n",
       "      <td>True</td>\n",
       "    </tr>\n",
       "    <tr>\n",
       "      <th>658</th>\n",
       "      <td>Definition:Divisor</td>\n",
       "      <td>Divisor</td>\n",
       "      <td>Let $\\left( \\mathbb Z, +, \\times \\right)$ be t...</td>\n",
       "      <td>Definition:Factor (Algebra)</td>\n",
       "      <td>['Definitions/Divisors', 'Definitions/Number T...</td>\n",
       "      <td>Let ( ℤ, +, ×) be the ring of integers.\\n\\nLet...</td>\n",
       "      <td>True</td>\n",
       "      <td>False</td>\n",
       "      <td>False</td>\n",
       "      <td>True</td>\n",
       "    </tr>\n",
       "    <tr>\n",
       "      <th>683</th>\n",
       "      <td>Definition:Dual</td>\n",
       "      <td>Dual</td>\n",
       "      <td>Let $\\mathbf C$ be a metacategory.\\n\\n\\nIts du...</td>\n",
       "      <td>Definition:Opposite Category</td>\n",
       "      <td>['Definitions/Category Theory', 'Definitions/E...</td>\n",
       "      <td>Let 𝐂 be a metacategory.\\n\\n\\nIts dual categor...</td>\n",
       "      <td>True</td>\n",
       "      <td>False</td>\n",
       "      <td>False</td>\n",
       "      <td>True</td>\n",
       "    </tr>\n",
       "    <tr>\n",
       "      <th>699</th>\n",
       "      <td>Definition:Embedding</td>\n",
       "      <td>Embedding</td>\n",
       "      <td>Let $\\mathcal M$ and $\\mathcal N$ be $\\mathcal...</td>\n",
       "      <td>Definition:Automorphism (Model Theory)</td>\n",
       "      <td>['Definitions/Model Theory for Predicate Logic...</td>\n",
       "      <td>Let ℳ and 𝒩 be ℒ-structures with universes M a...</td>\n",
       "      <td>True</td>\n",
       "      <td>False</td>\n",
       "      <td>False</td>\n",
       "      <td>True</td>\n",
       "    </tr>\n",
       "    <tr>\n",
       "      <th>703</th>\n",
       "      <td>Definition:Empty</td>\n",
       "      <td>Empty</td>\n",
       "      <td>The empty set is a set which has no elements.\\...</td>\n",
       "      <td>Definition:Vacuous Set</td>\n",
       "      <td>['Definitions/Empty Set', 'Definitions/Set The...</td>\n",
       "      <td>The empty set is a set which has no elements.\\...</td>\n",
       "      <td>True</td>\n",
       "      <td>False</td>\n",
       "      <td>False</td>\n",
       "      <td>True</td>\n",
       "    </tr>\n",
       "    <tr>\n",
       "      <th>708</th>\n",
       "      <td>Definition:Empty</td>\n",
       "      <td>Empty</td>\n",
       "      <td>Take the summation:\\n:$\\ds \\sum_{\\Phi \\left(  ...</td>\n",
       "      <td>Definition:Vacuous Summation</td>\n",
       "      <td>['Definitions/Summations']</td>\n",
       "      <td>Take the summation:\\n:∑_Φ(   )j a_j\\nwhere Φ( ...</td>\n",
       "      <td>False</td>\n",
       "      <td>False</td>\n",
       "      <td>False</td>\n",
       "      <td>True</td>\n",
       "    </tr>\n",
       "    <tr>\n",
       "      <th>741</th>\n",
       "      <td>Definition:Equivalence</td>\n",
       "      <td>Equivalence</td>\n",
       "      <td>Let $S$ and $T$ be sets.\\n\\nThen $S$ and $T$ a...</td>\n",
       "      <td>Definition:Set Similarity</td>\n",
       "      <td>['Definitions/Set Equivalence', 'Definitions/S...</td>\n",
       "      <td>Let S and T be sets.\\n\\nThen S and T are equiv...</td>\n",
       "      <td>False</td>\n",
       "      <td>False</td>\n",
       "      <td>False</td>\n",
       "      <td>True</td>\n",
       "    </tr>\n",
       "    <tr>\n",
       "      <th>804</th>\n",
       "      <td>Definition:Finitely Generated</td>\n",
       "      <td>Finitely Generated</td>\n",
       "      <td>Let $R$ be a ring.\\n\\nLet $M$ be a module over...</td>\n",
       "      <td>Definition:Module of Finite Type</td>\n",
       "      <td>['Definitions/Generators of Modules']</td>\n",
       "      <td>Let R be a ring.\\n\\nLet M be a module over R.\\...</td>\n",
       "      <td>True</td>\n",
       "      <td>False</td>\n",
       "      <td>False</td>\n",
       "      <td>True</td>\n",
       "    </tr>\n",
       "    <tr>\n",
       "      <th>839</th>\n",
       "      <td>Definition:Generated</td>\n",
       "      <td>Generated</td>\n",
       "      <td>Let $G$ be a group.\\n\\nLet $S \\subseteq G$ be ...</td>\n",
       "      <td>Definition:Normal Closure of Subset of Group</td>\n",
       "      <td>['Definitions/Generated Normal Subgroups', 'De...</td>\n",
       "      <td>Let G be a group.\\n\\nLet S ⊆ G be a subset.\\n\\...</td>\n",
       "      <td>True</td>\n",
       "      <td>False</td>\n",
       "      <td>False</td>\n",
       "      <td>True</td>\n",
       "    </tr>\n",
       "    <tr>\n",
       "      <th>844</th>\n",
       "      <td>Definition:Generated</td>\n",
       "      <td>Generated</td>\n",
       "      <td>Let $E / F$ be a field extension.\\n\\nLet $S \\s...</td>\n",
       "      <td>Definition:Generator of Field Extension</td>\n",
       "      <td>['Definitions/Field Extensions']</td>\n",
       "      <td>Let E / F be a field extension.\\n\\nLet S ⊂ E b...</td>\n",
       "      <td>True</td>\n",
       "      <td>False</td>\n",
       "      <td>False</td>\n",
       "      <td>True</td>\n",
       "    </tr>\n",
       "    <tr>\n",
       "      <th>854</th>\n",
       "      <td>Definition:Generator</td>\n",
       "      <td>Generator</td>\n",
       "      <td>Let $\\left( M, \\circ \\right)$ be a monoid.\\n\\n...</td>\n",
       "      <td>Definition:Finitely Generated Monoid</td>\n",
       "      <td>['Definitions/Monoids']</td>\n",
       "      <td>Let ( M, ∘) be a monoid.\\n\\nLet S ⊆ M.\\n\\nLet ...</td>\n",
       "      <td>True</td>\n",
       "      <td>False</td>\n",
       "      <td>False</td>\n",
       "      <td>True</td>\n",
       "    </tr>\n",
       "    <tr>\n",
       "      <th>860</th>\n",
       "      <td>Definition:Generator</td>\n",
       "      <td>Generator</td>\n",
       "      <td>Let $R$ be a ring.\\n\\nLet $M$ be an $R$-module...</td>\n",
       "      <td>Definition:Spanning Set of Module</td>\n",
       "      <td>['Definitions/Generators of Modules', 'Definit...</td>\n",
       "      <td>Let R be a ring.\\n\\nLet M be an R-module.\\n\\nL...</td>\n",
       "      <td>True</td>\n",
       "      <td>False</td>\n",
       "      <td>False</td>\n",
       "      <td>True</td>\n",
       "    </tr>\n",
       "    <tr>\n",
       "      <th>866</th>\n",
       "      <td>Definition:Generator</td>\n",
       "      <td>Generator</td>\n",
       "      <td>Let $K$ be a division ring.\\n\\nLet $\\mathbf V$...</td>\n",
       "      <td>Definition:Spanning Set of Vector Space</td>\n",
       "      <td>['Definitions/Generators of Vector Spaces', 'D...</td>\n",
       "      <td>Let K be a division ring.\\n\\nLet 𝐕 be a vector...</td>\n",
       "      <td>True</td>\n",
       "      <td>False</td>\n",
       "      <td>False</td>\n",
       "      <td>True</td>\n",
       "    </tr>\n",
       "    <tr>\n",
       "      <th>904</th>\n",
       "      <td>Definition:Harmonic</td>\n",
       "      <td>Harmonic</td>\n",
       "      <td>=== Harmonic Range ===\\nLet $AB$ and $PQ$ be l...</td>\n",
       "      <td>Definition:Conjugate Pair (Analytic Geometry)</td>\n",
       "      <td>['Definitions/Harmonic Conjugates', 'Definitio...</td>\n",
       "      <td>=== Harmonic Range ===\\nLet AB and PQ be line ...</td>\n",
       "      <td>True</td>\n",
       "      <td>False</td>\n",
       "      <td>False</td>\n",
       "      <td>True</td>\n",
       "    </tr>\n",
       "    <tr>\n",
       "      <th>989</th>\n",
       "      <td>Definition:Integral</td>\n",
       "      <td>Integral</td>\n",
       "      <td>Let $\\Phi$ be a differential equation defined ...</td>\n",
       "      <td>Definition:Solution to Differential Equation</td>\n",
       "      <td>['Definitions/Solutions to Differential Equati...</td>\n",
       "      <td>Let Φ be a differential equation defined on a ...</td>\n",
       "      <td>False</td>\n",
       "      <td>False</td>\n",
       "      <td>False</td>\n",
       "      <td>True</td>\n",
       "    </tr>\n",
       "    <tr>\n",
       "      <th>1009</th>\n",
       "      <td>Definition:Inverse</td>\n",
       "      <td>Inverse</td>\n",
       "      <td>=== Definition 1 ===\\nLet $f: S \\to T$ be a ma...</td>\n",
       "      <td>Definition:Invertible Mapping</td>\n",
       "      <td>['Definitions/Inverse Mappings', 'Definitions/...</td>\n",
       "      <td>=== Definition 1 ===\\nLet f: S → T be a mappin...</td>\n",
       "      <td>True</td>\n",
       "      <td>False</td>\n",
       "      <td>False</td>\n",
       "      <td>True</td>\n",
       "    </tr>\n",
       "    <tr>\n",
       "      <th>1018</th>\n",
       "      <td>Definition:Invertible</td>\n",
       "      <td>Invertible</td>\n",
       "      <td>Let $\\left( R, +, \\circ \\right)$ be a ring wit...</td>\n",
       "      <td>Definition:Regular Matrix</td>\n",
       "      <td>['Definitions/Nonsingular Matrices', 'Definiti...</td>\n",
       "      <td>Let ( R, +, ∘) be a ring with unity.\\n\\nLet n ...</td>\n",
       "      <td>False</td>\n",
       "      <td>False</td>\n",
       "      <td>False</td>\n",
       "      <td>True</td>\n",
       "    </tr>\n",
       "    <tr>\n",
       "      <th>1067</th>\n",
       "      <td>Definition:Knot</td>\n",
       "      <td>Knot</td>\n",
       "      <td>Let $\\left[ a \\,.\\,.\\,   \\right]b$ be a closed...</td>\n",
       "      <td>Definition:Node of Spline</td>\n",
       "      <td>['Definitions/Knots of Splines', 'Definitions/...</td>\n",
       "      <td>Let [ a  . . ]b be a closed real interval.\\n\\n...</td>\n",
       "      <td>True</td>\n",
       "      <td>False</td>\n",
       "      <td>False</td>\n",
       "      <td>True</td>\n",
       "    </tr>\n",
       "    <tr>\n",
       "      <th>1087</th>\n",
       "      <td>Definition:Left</td>\n",
       "      <td>Left</td>\n",
       "      <td>There are two unbounded closed intervals invol...</td>\n",
       "      <td>Definition:Closed Real Interval Bounded on the...</td>\n",
       "      <td>['Definitions/Real Intervals']</td>\n",
       "      <td>There are two unbounded closed intervals invol...</td>\n",
       "      <td>False</td>\n",
       "      <td>False</td>\n",
       "      <td>False</td>\n",
       "      <td>True</td>\n",
       "    </tr>\n",
       "    <tr>\n",
       "      <th>1088</th>\n",
       "      <td>Definition:Left</td>\n",
       "      <td>Left</td>\n",
       "      <td>There are two unbounded open intervals involvi...</td>\n",
       "      <td>Definition:Open Real Interval Bounded on the R...</td>\n",
       "      <td>['Definitions/Real Intervals']</td>\n",
       "      <td>There are two unbounded open intervals involvi...</td>\n",
       "      <td>False</td>\n",
       "      <td>False</td>\n",
       "      <td>False</td>\n",
       "      <td>True</td>\n",
       "    </tr>\n",
       "    <tr>\n",
       "      <th>1167</th>\n",
       "      <td>Definition:Loop</td>\n",
       "      <td>Loop</td>\n",
       "      <td>Let $T = \\left( S, \\tau \\right)$ be a topologi...</td>\n",
       "      <td>Definition:Closed Path (Topology)</td>\n",
       "      <td>['Definitions/Loops (Topology)', 'Definitions/...</td>\n",
       "      <td>Let T = ( S, τ) be a topological space.\\n\\nLet...</td>\n",
       "      <td>True</td>\n",
       "      <td>False</td>\n",
       "      <td>False</td>\n",
       "      <td>True</td>\n",
       "    </tr>\n",
       "    <tr>\n",
       "      <th>1202</th>\n",
       "      <td>Definition:Mean</td>\n",
       "      <td>Mean</td>\n",
       "      <td>=== Definition 1 ===\\nLet a line segment $AB$ ...</td>\n",
       "      <td>Definition:Golden Section</td>\n",
       "      <td>['Definitions/Golden Mean', 'Definitions/Fibon...</td>\n",
       "      <td>=== Definition 1 ===\\nLet a line segment AB be...</td>\n",
       "      <td>True</td>\n",
       "      <td>False</td>\n",
       "      <td>False</td>\n",
       "      <td>True</td>\n",
       "    </tr>\n",
       "    <tr>\n",
       "      <th>1305</th>\n",
       "      <td>Definition:Null</td>\n",
       "      <td>Null</td>\n",
       "      <td>The null relation is a relation $\\mathcal R$ i...</td>\n",
       "      <td>Definition:Empty Relation</td>\n",
       "      <td>['Definitions/Null Relation', 'Definitions/Emp...</td>\n",
       "      <td>The null relation is a relation ℛ in S to T su...</td>\n",
       "      <td>True</td>\n",
       "      <td>False</td>\n",
       "      <td>False</td>\n",
       "      <td>True</td>\n",
       "    </tr>\n",
       "    <tr>\n",
       "      <th>1316</th>\n",
       "      <td>Definition:One-to-One</td>\n",
       "      <td>One-to-One</td>\n",
       "      <td>=== Definition 1 ===\\nA mapping $f$ is an inje...</td>\n",
       "      <td>Definition:Injection</td>\n",
       "      <td>['Definitions/Mapping Theory', 'Definitions/In...</td>\n",
       "      <td>=== Definition 1 ===\\nA mapping f is an inject...</td>\n",
       "      <td>True</td>\n",
       "      <td>False</td>\n",
       "      <td>False</td>\n",
       "      <td>True</td>\n",
       "    </tr>\n",
       "    <tr>\n",
       "      <th>1412</th>\n",
       "      <td>Definition:Power</td>\n",
       "      <td>Power</td>\n",
       "      <td>=== Natural Numbers ===\\nLet $\\mathbb N$ denot...</td>\n",
       "      <td>Definition:Involution (Analysis)</td>\n",
       "      <td>['Definitions/Powers', 'Definitions/Algebra', ...</td>\n",
       "      <td>=== Natural Numbers ===\\nLet ℕ denote the natu...</td>\n",
       "      <td>True</td>\n",
       "      <td>False</td>\n",
       "      <td>False</td>\n",
       "      <td>True</td>\n",
       "    </tr>\n",
       "    <tr>\n",
       "      <th>1421</th>\n",
       "      <td>Definition:Power</td>\n",
       "      <td>Power</td>\n",
       "      <td>Two sets (either finite or infinite) which are...</td>\n",
       "      <td>Definition:Order of Set</td>\n",
       "      <td>['Definitions/Set Theory', 'Definitions/Cardin...</td>\n",
       "      <td>Two sets (either finite or infinite) which are...</td>\n",
       "      <td>False</td>\n",
       "      <td>False</td>\n",
       "      <td>False</td>\n",
       "      <td>True</td>\n",
       "    </tr>\n",
       "    <tr>\n",
       "      <th>1428</th>\n",
       "      <td>Definition:Primitive</td>\n",
       "      <td>Primitive</td>\n",
       "      <td>=== Primitive of Real Function ===\\nLet $F$ be...</td>\n",
       "      <td>Definition:Indefinite Integral</td>\n",
       "      <td>['Definitions/Primitives', 'Definitions/Integr...</td>\n",
       "      <td>=== Primitive of Real Function ===\\nLet F be a...</td>\n",
       "      <td>True</td>\n",
       "      <td>False</td>\n",
       "      <td>False</td>\n",
       "      <td>True</td>\n",
       "    </tr>\n",
       "    <tr>\n",
       "      <th>1440</th>\n",
       "      <td>Definition:Primitive</td>\n",
       "      <td>Primitive</td>\n",
       "      <td>For a definition to not be circular, the defin...</td>\n",
       "      <td>Definition:Undefined Term</td>\n",
       "      <td>['Definitions/Logic', 'Definitions/Definitions']</td>\n",
       "      <td>For a definition to not be circular, the defin...</td>\n",
       "      <td>False</td>\n",
       "      <td>False</td>\n",
       "      <td>False</td>\n",
       "      <td>False</td>\n",
       "    </tr>\n",
       "    <tr>\n",
       "      <th>1470</th>\n",
       "      <td>Definition:Product</td>\n",
       "      <td>Product</td>\n",
       "      <td>=== Binary Product ===\\nLet $\\mathbf C$ be a m...</td>\n",
       "      <td>Definition:Projection (Category Theory)</td>\n",
       "      <td>['Definitions/Category Theory']</td>\n",
       "      <td>=== Binary Product ===\\nLet 𝐂 be a metacategor...</td>\n",
       "      <td>True</td>\n",
       "      <td>False</td>\n",
       "      <td>False</td>\n",
       "      <td>True</td>\n",
       "    </tr>\n",
       "    <tr>\n",
       "      <th>1644</th>\n",
       "      <td>Definition:Root</td>\n",
       "      <td>Root</td>\n",
       "      <td>Let $x, y \\in \\mathbb R_{\\ge 0}$ be positive r...</td>\n",
       "      <td>Definition:Radical (Analysis)</td>\n",
       "      <td>['Definitions/Roots of Numbers', 'Definitions/...</td>\n",
       "      <td>Let x, y ∈ℝ_≥ 0 be positive real numbers.\\n\\nL...</td>\n",
       "      <td>True</td>\n",
       "      <td>False</td>\n",
       "      <td>False</td>\n",
       "      <td>True</td>\n",
       "    </tr>\n",
       "    <tr>\n",
       "      <th>1646</th>\n",
       "      <td>Definition:Root</td>\n",
       "      <td>Root</td>\n",
       "      <td>Let $f: R \\to R$ be a mapping on a ring $R$.\\n...</td>\n",
       "      <td>Definition:Zero of Function</td>\n",
       "      <td>['Definitions/Roots of Mappings', 'Definitions...</td>\n",
       "      <td>Let f: R → R be a mapping on a ring R.\\n\\nLet ...</td>\n",
       "      <td>True</td>\n",
       "      <td>False</td>\n",
       "      <td>False</td>\n",
       "      <td>True</td>\n",
       "    </tr>\n",
       "    <tr>\n",
       "      <th>1669</th>\n",
       "      <td>Definition:Section</td>\n",
       "      <td>Section</td>\n",
       "      <td>Let $\\left( S, \\preceq \\right)$ be a totally o...</td>\n",
       "      <td>Definition:Dedekind Cut</td>\n",
       "      <td>['Definitions/Dedekind Cuts', 'Definitions/Ord...</td>\n",
       "      <td>Let ( S, ≼) be a totally ordered set.\\n\\n\\n===...</td>\n",
       "      <td>True</td>\n",
       "      <td>False</td>\n",
       "      <td>False</td>\n",
       "      <td>True</td>\n",
       "    </tr>\n",
       "    <tr>\n",
       "      <th>1775</th>\n",
       "      <td>Definition:Space</td>\n",
       "      <td>Space</td>\n",
       "      <td>Let $R$ be a ring.\\n\\nLet:\\n\\n:$\\mathbf A_{m \\...</td>\n",
       "      <td>Definition:Image of Matrix</td>\n",
       "      <td>['Definitions/Column Space', 'Definitions/Matr...</td>\n",
       "      <td>Let R be a ring.\\n\\nLet:\\n\\n:𝐀_m × n = [ a_1 1...</td>\n",
       "      <td>True</td>\n",
       "      <td>False</td>\n",
       "      <td>False</td>\n",
       "      <td>True</td>\n",
       "    </tr>\n",
       "    <tr>\n",
       "      <th>2003</th>\n",
       "      <td>Definition:Trivial</td>\n",
       "      <td>Trivial</td>\n",
       "      <td>Let $\\left( G, + \\right)$ be a finite abelian ...</td>\n",
       "      <td>Definition:Character (Number Theory)</td>\n",
       "      <td>['Definitions/Analytic Number Theory']</td>\n",
       "      <td>Let ( G, + ) be a finite abelian group.\\n\\nLet...</td>\n",
       "      <td>False</td>\n",
       "      <td>False</td>\n",
       "      <td>False</td>\n",
       "      <td>True</td>\n",
       "    </tr>\n",
       "    <tr>\n",
       "      <th>2006</th>\n",
       "      <td>Definition:Trivial</td>\n",
       "      <td>Trivial</td>\n",
       "      <td>Let $S \\ne \\varnothing$ be a set.\\n\\nLet $\\tau...</td>\n",
       "      <td>Definition:Indiscrete Topology</td>\n",
       "      <td>['Definitions/Indiscrete Topology', 'Definitio...</td>\n",
       "      <td>Let S ∅ be a set.\\n\\nLet τ = { S, ∅}.\\n\\n\\nThe...</td>\n",
       "      <td>False</td>\n",
       "      <td>False</td>\n",
       "      <td>False</td>\n",
       "      <td>False</td>\n",
       "    </tr>\n",
       "  </tbody>\n",
       "</table>\n",
       "</div>"
      ],
      "text/plain": [
       "                      dd_page_title                term   \n",
       "36              Definition:Adjacent            Adjacent  \\\n",
       "42              Definition:Adjacent            Adjacent   \n",
       "107            Definition:Alternant           Alternant   \n",
       "136                Definition:Arrow               Arrow   \n",
       "152            Definition:Auxiliary           Auxiliary   \n",
       "187                Definition:Block               Block   \n",
       "260              Definition:Circuit             Circuit   \n",
       "300              Definition:Closure             Closure   \n",
       "360           Definition:Complement          Complement   \n",
       "388            Definition:Component           Component   \n",
       "416           Definition:Congruence          Congruence   \n",
       "426            Definition:Conjugate           Conjugate   \n",
       "500                Definition:Cycle               Cycle   \n",
       "528               Definition:Degree              Degree   \n",
       "536               Definition:Degree              Degree   \n",
       "537               Definition:Degree              Degree   \n",
       "570             Definition:Diameter            Diameter   \n",
       "584            Definition:Dimension           Dimension   \n",
       "593            Definition:Dimension           Dimension   \n",
       "596         Definition:Direct Image        Direct Image   \n",
       "597         Definition:Direct Image        Direct Image   \n",
       "658              Definition:Divisor             Divisor   \n",
       "683                 Definition:Dual                Dual   \n",
       "699            Definition:Embedding           Embedding   \n",
       "703                Definition:Empty               Empty   \n",
       "708                Definition:Empty               Empty   \n",
       "741          Definition:Equivalence         Equivalence   \n",
       "804   Definition:Finitely Generated  Finitely Generated   \n",
       "839            Definition:Generated           Generated   \n",
       "844            Definition:Generated           Generated   \n",
       "854            Definition:Generator           Generator   \n",
       "860            Definition:Generator           Generator   \n",
       "866            Definition:Generator           Generator   \n",
       "904             Definition:Harmonic            Harmonic   \n",
       "989             Definition:Integral            Integral   \n",
       "1009             Definition:Inverse             Inverse   \n",
       "1018          Definition:Invertible          Invertible   \n",
       "1067                Definition:Knot                Knot   \n",
       "1087                Definition:Left                Left   \n",
       "1088                Definition:Left                Left   \n",
       "1167                Definition:Loop                Loop   \n",
       "1202                Definition:Mean                Mean   \n",
       "1305                Definition:Null                Null   \n",
       "1316          Definition:One-to-One          One-to-One   \n",
       "1412               Definition:Power               Power   \n",
       "1421               Definition:Power               Power   \n",
       "1428           Definition:Primitive           Primitive   \n",
       "1440           Definition:Primitive           Primitive   \n",
       "1470             Definition:Product             Product   \n",
       "1644                Definition:Root                Root   \n",
       "1646                Definition:Root                Root   \n",
       "1669             Definition:Section             Section   \n",
       "1775               Definition:Space               Space   \n",
       "2003             Definition:Trivial             Trivial   \n",
       "2006             Definition:Trivial             Trivial   \n",
       "\n",
       "                                             definition   \n",
       "36    === Undirected Graph ===\\nLet $G = \\left( V, E...  \\\n",
       "42    Two sides of a polygon that meet at the same v...   \n",
       "107   Let $p \\lor q$ be a compound statement whose m...   \n",
       "136   Let $\\mathbf C$ be a metacategory.\\n\\n\\nA morp...   \n",
       "152   Let:\\n:$(1): \\quad y' ' + p y' + q y = 0$\\nbe ...   \n",
       "187   Let $\\mathbf A$ be a matrix with $m$ rows and ...   \n",
       "260   A circuit is a closed trail with at least one ...   \n",
       "300   Let $\\left( S, \\circ \\right)$ be an algebraic ...   \n",
       "360   Let $S$ be a set, and let $T \\subseteq S$, tha...   \n",
       "388   A substatement of a compound statement is one ...   \n",
       "416   Let $\\left( S, \\circ \\right)$ be an algebraic ...   \n",
       "426   Let $G$ be a group.\\n\\nLet $S \\subseteq G$ be ...   \n",
       "500   A cycle is a circuit in which no vertex except...   \n",
       "528   Let $G$ be an abelian group.\\n\\nLet $\\Delta$ b...   \n",
       "536   Celsius is a temperature scale.\\n\\nIts two ref...   \n",
       "537   Fahrenheit is a temperature scale.\\n\\nIts two ...   \n",
       "570   Let $ABCD$ be a parallelogram:\\n\\n:\\n\\nThe dia...   \n",
       "584   Let $\\left[ a \\right]_{m n}$ be an $m \\times n...   \n",
       "593   The order of a differential equation is define...   \n",
       "596   Let $f: S \\to T$ be a mapping.\\n\\n\\n=== Defini...   \n",
       "597   Let $\\mathcal R \\subseteq S \\times T$ be a rel...   \n",
       "658   Let $\\left( \\mathbb Z, +, \\times \\right)$ be t...   \n",
       "683   Let $\\mathbf C$ be a metacategory.\\n\\n\\nIts du...   \n",
       "699   Let $\\mathcal M$ and $\\mathcal N$ be $\\mathcal...   \n",
       "703   The empty set is a set which has no elements.\\...   \n",
       "708   Take the summation:\\n:$\\ds \\sum_{\\Phi \\left(  ...   \n",
       "741   Let $S$ and $T$ be sets.\\n\\nThen $S$ and $T$ a...   \n",
       "804   Let $R$ be a ring.\\n\\nLet $M$ be a module over...   \n",
       "839   Let $G$ be a group.\\n\\nLet $S \\subseteq G$ be ...   \n",
       "844   Let $E / F$ be a field extension.\\n\\nLet $S \\s...   \n",
       "854   Let $\\left( M, \\circ \\right)$ be a monoid.\\n\\n...   \n",
       "860   Let $R$ be a ring.\\n\\nLet $M$ be an $R$-module...   \n",
       "866   Let $K$ be a division ring.\\n\\nLet $\\mathbf V$...   \n",
       "904   === Harmonic Range ===\\nLet $AB$ and $PQ$ be l...   \n",
       "989   Let $\\Phi$ be a differential equation defined ...   \n",
       "1009  === Definition 1 ===\\nLet $f: S \\to T$ be a ma...   \n",
       "1018  Let $\\left( R, +, \\circ \\right)$ be a ring wit...   \n",
       "1067  Let $\\left[ a \\,.\\,.\\,   \\right]b$ be a closed...   \n",
       "1087  There are two unbounded closed intervals invol...   \n",
       "1088  There are two unbounded open intervals involvi...   \n",
       "1167  Let $T = \\left( S, \\tau \\right)$ be a topologi...   \n",
       "1202  === Definition 1 ===\\nLet a line segment $AB$ ...   \n",
       "1305  The null relation is a relation $\\mathcal R$ i...   \n",
       "1316  === Definition 1 ===\\nA mapping $f$ is an inje...   \n",
       "1412  === Natural Numbers ===\\nLet $\\mathbb N$ denot...   \n",
       "1421  Two sets (either finite or infinite) which are...   \n",
       "1428  === Primitive of Real Function ===\\nLet $F$ be...   \n",
       "1440  For a definition to not be circular, the defin...   \n",
       "1470  === Binary Product ===\\nLet $\\mathbf C$ be a m...   \n",
       "1644  Let $x, y \\in \\mathbb R_{\\ge 0}$ be positive r...   \n",
       "1646  Let $f: R \\to R$ be a mapping on a ring $R$.\\n...   \n",
       "1669  Let $\\left( S, \\preceq \\right)$ be a totally o...   \n",
       "1775  Let $R$ be a ring.\\n\\nLet:\\n\\n:$\\mathbf A_{m \\...   \n",
       "2003  Let $\\left( G, + \\right)$ be a finite abelian ...   \n",
       "2006  Let $S \\ne \\varnothing$ be a set.\\n\\nLet $\\tau...   \n",
       "\n",
       "                                         def_page_title   \n",
       "36                 Definition:Coterminal Edges of Graph  \\\n",
       "42                          Definition:Coterminal Sides   \n",
       "107                      Definition:Alternative (Logic)   \n",
       "136                   Definition:Edge (Category Theory)   \n",
       "152   Definition:Characteristic Equation of Differen...   \n",
       "187                        Definition:Segment of Matrix   \n",
       "260                             Definition:Closed Trail   \n",
       "300               Definition:Closed Algebraic Structure   \n",
       "360                        Definition:Proper Difference   \n",
       "388       Definition:Substatement of Compound Statement   \n",
       "416   Definition:Equivalence Relation Compatible wit...   \n",
       "426        Definition:Normal Closure of Subset of Group   \n",
       "500                              Definition:Closed Path   \n",
       "528                      Definition:Homogeneous Element   \n",
       "536                                  Definition:Celsius   \n",
       "537                               Definition:Fahrenheit   \n",
       "570                Definition:Diagonal of Parallelogram   \n",
       "584                          Definition:Order of Matrix   \n",
       "593           Definition:Order of Differential Equation   \n",
       "596                     Definition:Image Set of Mapping   \n",
       "597                    Definition:Image Set of Relation   \n",
       "658                         Definition:Factor (Algebra)   \n",
       "683                        Definition:Opposite Category   \n",
       "699              Definition:Automorphism (Model Theory)   \n",
       "703                              Definition:Vacuous Set   \n",
       "708                        Definition:Vacuous Summation   \n",
       "741                           Definition:Set Similarity   \n",
       "804                    Definition:Module of Finite Type   \n",
       "839        Definition:Normal Closure of Subset of Group   \n",
       "844             Definition:Generator of Field Extension   \n",
       "854                Definition:Finitely Generated Monoid   \n",
       "860                   Definition:Spanning Set of Module   \n",
       "866             Definition:Spanning Set of Vector Space   \n",
       "904       Definition:Conjugate Pair (Analytic Geometry)   \n",
       "989        Definition:Solution to Differential Equation   \n",
       "1009                      Definition:Invertible Mapping   \n",
       "1018                          Definition:Regular Matrix   \n",
       "1067                          Definition:Node of Spline   \n",
       "1087  Definition:Closed Real Interval Bounded on the...   \n",
       "1088  Definition:Open Real Interval Bounded on the R...   \n",
       "1167                  Definition:Closed Path (Topology)   \n",
       "1202                          Definition:Golden Section   \n",
       "1305                          Definition:Empty Relation   \n",
       "1316                               Definition:Injection   \n",
       "1412                   Definition:Involution (Analysis)   \n",
       "1421                            Definition:Order of Set   \n",
       "1428                     Definition:Indefinite Integral   \n",
       "1440                          Definition:Undefined Term   \n",
       "1470            Definition:Projection (Category Theory)   \n",
       "1644                      Definition:Radical (Analysis)   \n",
       "1646                        Definition:Zero of Function   \n",
       "1669                            Definition:Dedekind Cut   \n",
       "1775                         Definition:Image of Matrix   \n",
       "2003               Definition:Character (Number Theory)   \n",
       "2006                     Definition:Indiscrete Topology   \n",
       "\n",
       "                                             categories   \n",
       "36    ['Definitions/Edges of Graphs', 'Definitions/A...  \\\n",
       "42                  ['Definitions/Adjacent (Polygons)']   \n",
       "107                         ['Definitions/Disjunction']   \n",
       "136   ['Definitions/Morphisms', 'Definitions/Categor...   \n",
       "152   ['Definitions/Auxiliary Equations', 'Definitio...   \n",
       "187   ['Definitions/Submatrices', 'Definitions/Matri...   \n",
       "260   ['Definitions/Circuits (Graph Theory)', 'Defin...   \n",
       "300                   ['Definitions/Algebraic Closure']   \n",
       "360   ['Definitions/Relative Complement', 'Definitio...   \n",
       "388                 ['Definitions/Compound Statements']   \n",
       "416   ['Definitions/Abstract Algebra', 'Definitions/...   \n",
       "426   ['Definitions/Generated Normal Subgroups', 'De...   \n",
       "500   ['Definitions/Cycles (Graph Theory)', 'Definit...   \n",
       "528                        ['Definitions/Group Theory']   \n",
       "536   ['Definitions/Celsius', 'Definitions/Degrees o...   \n",
       "537   ['Definitions/Fahrenheit', 'Definitions/Temper...   \n",
       "570                      ['Definitions/Parallelograms']   \n",
       "584   ['Definitions/Orders of Matrices', 'Definition...   \n",
       "593   ['Definitions/Order of Differential Equation',...   \n",
       "596                              ['Definitions/Images']   \n",
       "597     ['Definitions/Images', 'Definitions/Relations']   \n",
       "658   ['Definitions/Divisors', 'Definitions/Number T...   \n",
       "683   ['Definitions/Category Theory', 'Definitions/E...   \n",
       "699   ['Definitions/Model Theory for Predicate Logic...   \n",
       "703   ['Definitions/Empty Set', 'Definitions/Set The...   \n",
       "708                          ['Definitions/Summations']   \n",
       "741   ['Definitions/Set Equivalence', 'Definitions/S...   \n",
       "804               ['Definitions/Generators of Modules']   \n",
       "839   ['Definitions/Generated Normal Subgroups', 'De...   \n",
       "844                    ['Definitions/Field Extensions']   \n",
       "854                             ['Definitions/Monoids']   \n",
       "860   ['Definitions/Generators of Modules', 'Definit...   \n",
       "866   ['Definitions/Generators of Vector Spaces', 'D...   \n",
       "904   ['Definitions/Harmonic Conjugates', 'Definitio...   \n",
       "989   ['Definitions/Solutions to Differential Equati...   \n",
       "1009  ['Definitions/Inverse Mappings', 'Definitions/...   \n",
       "1018  ['Definitions/Nonsingular Matrices', 'Definiti...   \n",
       "1067  ['Definitions/Knots of Splines', 'Definitions/...   \n",
       "1087                     ['Definitions/Real Intervals']   \n",
       "1088                     ['Definitions/Real Intervals']   \n",
       "1167  ['Definitions/Loops (Topology)', 'Definitions/...   \n",
       "1202  ['Definitions/Golden Mean', 'Definitions/Fibon...   \n",
       "1305  ['Definitions/Null Relation', 'Definitions/Emp...   \n",
       "1316  ['Definitions/Mapping Theory', 'Definitions/In...   \n",
       "1412  ['Definitions/Powers', 'Definitions/Algebra', ...   \n",
       "1421  ['Definitions/Set Theory', 'Definitions/Cardin...   \n",
       "1428  ['Definitions/Primitives', 'Definitions/Integr...   \n",
       "1440   ['Definitions/Logic', 'Definitions/Definitions']   \n",
       "1470                    ['Definitions/Category Theory']   \n",
       "1644  ['Definitions/Roots of Numbers', 'Definitions/...   \n",
       "1646  ['Definitions/Roots of Mappings', 'Definitions...   \n",
       "1669  ['Definitions/Dedekind Cuts', 'Definitions/Ord...   \n",
       "1775  ['Definitions/Column Space', 'Definitions/Matr...   \n",
       "2003             ['Definitions/Analytic Number Theory']   \n",
       "2006  ['Definitions/Indiscrete Topology', 'Definitio...   \n",
       "\n",
       "                                  plain_text_definition  term_in_def   \n",
       "36    === Undirected Graph ===\\nLet G = ( V, E ) be ...         True  \\\n",
       "42    Two sides of a polygon that meet at the same v...         True   \n",
       "107   Let p  q be a compound statement whose main co...        False   \n",
       "136   Let 𝐂 be a metacategory.\\n\\n\\nA morphism of 𝐂 ...        False   \n",
       "152   Let:\\n:(1):    y' ' + p y' + q y = 0\\nbe a con...         True   \n",
       "187   Let 𝐀 be a matrix with m rows and n columns.\\n...        False   \n",
       "260   A circuit is a closed trail with at least one ...         True   \n",
       "300   Let ( S, ∘) be an algebraic structure.\\n\\n\\nTh...         True   \n",
       "360   Let S be a set, and let T ⊆ S, that is: let T ...         True   \n",
       "388   A substatement of a compound statement is one ...        False   \n",
       "416   Let ( S, ∘) be an algebraic structure.\\n\\nLet ...         True   \n",
       "426   Let G be a group.\\n\\nLet S ⊆ G be a subset.\\n\\...        False   \n",
       "500   A cycle is a circuit in which no vertex except...         True   \n",
       "528   Let G be an abelian group.\\n\\nLet Δ be a set.\\...        False   \n",
       "536   Celsius is a temperature scale.\\n\\nIts two ref...         True   \n",
       "537   Fahrenheit is a temperature scale.\\n\\nIts two ...         True   \n",
       "570   Let ABCD be a parallelogram:\\n\\n:\\n\\nThe diame...         True   \n",
       "584   Let [ a ]_m n be an m × n matrix.\\n\\nThen the ...        False   \n",
       "593   The order of a differential equation is define...        False   \n",
       "596   Let f: S → T be a mapping.\\n\\n\\n=== Definition...        False   \n",
       "597   Let ℛ⊆ S × T be a relation.\\n\\n\\nThe image of ...        False   \n",
       "658   Let ( ℤ, +, ×) be the ring of integers.\\n\\nLet...         True   \n",
       "683   Let 𝐂 be a metacategory.\\n\\n\\nIts dual categor...         True   \n",
       "699   Let ℳ and 𝒩 be ℒ-structures with universes M a...         True   \n",
       "703   The empty set is a set which has no elements.\\...         True   \n",
       "708   Take the summation:\\n:∑_Φ(   )j a_j\\nwhere Φ( ...        False   \n",
       "741   Let S and T be sets.\\n\\nThen S and T are equiv...        False   \n",
       "804   Let R be a ring.\\n\\nLet M be a module over R.\\...         True   \n",
       "839   Let G be a group.\\n\\nLet S ⊆ G be a subset.\\n\\...         True   \n",
       "844   Let E / F be a field extension.\\n\\nLet S ⊂ E b...         True   \n",
       "854   Let ( M, ∘) be a monoid.\\n\\nLet S ⊆ M.\\n\\nLet ...         True   \n",
       "860   Let R be a ring.\\n\\nLet M be an R-module.\\n\\nL...         True   \n",
       "866   Let K be a division ring.\\n\\nLet 𝐕 be a vector...         True   \n",
       "904   === Harmonic Range ===\\nLet AB and PQ be line ...         True   \n",
       "989   Let Φ be a differential equation defined on a ...        False   \n",
       "1009  === Definition 1 ===\\nLet f: S → T be a mappin...         True   \n",
       "1018  Let ( R, +, ∘) be a ring with unity.\\n\\nLet n ...        False   \n",
       "1067  Let [ a  . . ]b be a closed real interval.\\n\\n...         True   \n",
       "1087  There are two unbounded closed intervals invol...        False   \n",
       "1088  There are two unbounded open intervals involvi...        False   \n",
       "1167  Let T = ( S, τ) be a topological space.\\n\\nLet...         True   \n",
       "1202  === Definition 1 ===\\nLet a line segment AB be...         True   \n",
       "1305  The null relation is a relation ℛ in S to T su...         True   \n",
       "1316  === Definition 1 ===\\nA mapping f is an inject...         True   \n",
       "1412  === Natural Numbers ===\\nLet ℕ denote the natu...         True   \n",
       "1421  Two sets (either finite or infinite) which are...        False   \n",
       "1428  === Primitive of Real Function ===\\nLet F be a...         True   \n",
       "1440  For a definition to not be circular, the defin...        False   \n",
       "1470  === Binary Product ===\\nLet 𝐂 be a metacategor...         True   \n",
       "1644  Let x, y ∈ℝ_≥ 0 be positive real numbers.\\n\\nL...         True   \n",
       "1646  Let f: R → R be a mapping on a ring R.\\n\\nLet ...         True   \n",
       "1669  Let ( S, ≼) be a totally ordered set.\\n\\n\\n===...         True   \n",
       "1775  Let R be a ring.\\n\\nLet:\\n\\n:𝐀_m × n = [ a_1 1...         True   \n",
       "2003  Let ( G, + ) be a finite abelian group.\\n\\nLet...        False   \n",
       "2006  Let S ∅ be a set.\\n\\nLet τ = { S, ∅}.\\n\\n\\nThe...        False   \n",
       "\n",
       "      term_in_def_page_title  biased_indexes  def_contains_other_def  \n",
       "36                     False           False                    True  \n",
       "42                     False           False                    True  \n",
       "107                    False           False                    True  \n",
       "136                    False           False                    True  \n",
       "152                    False           False                    True  \n",
       "187                    False           False                    True  \n",
       "260                    False           False                    True  \n",
       "300                    False           False                    True  \n",
       "360                    False           False                    True  \n",
       "388                    False           False                    True  \n",
       "416                    False           False                    True  \n",
       "426                    False           False                    True  \n",
       "500                    False           False                    True  \n",
       "528                    False           False                   False  \n",
       "536                    False           False                   False  \n",
       "537                    False           False                   False  \n",
       "570                    False           False                    True  \n",
       "584                    False           False                    True  \n",
       "593                    False           False                    True  \n",
       "596                    False           False                    True  \n",
       "597                    False           False                    True  \n",
       "658                    False           False                    True  \n",
       "683                    False           False                    True  \n",
       "699                    False           False                    True  \n",
       "703                    False           False                    True  \n",
       "708                    False           False                    True  \n",
       "741                    False           False                    True  \n",
       "804                    False           False                    True  \n",
       "839                    False           False                    True  \n",
       "844                    False           False                    True  \n",
       "854                    False           False                    True  \n",
       "860                    False           False                    True  \n",
       "866                    False           False                    True  \n",
       "904                    False           False                    True  \n",
       "989                    False           False                    True  \n",
       "1009                   False           False                    True  \n",
       "1018                   False           False                    True  \n",
       "1067                   False           False                    True  \n",
       "1087                   False           False                    True  \n",
       "1088                   False           False                    True  \n",
       "1167                   False           False                    True  \n",
       "1202                   False           False                    True  \n",
       "1305                   False           False                    True  \n",
       "1316                   False           False                    True  \n",
       "1412                   False           False                    True  \n",
       "1421                   False           False                    True  \n",
       "1428                   False           False                    True  \n",
       "1440                   False           False                   False  \n",
       "1470                   False           False                    True  \n",
       "1644                   False           False                    True  \n",
       "1646                   False           False                    True  \n",
       "1669                   False           False                    True  \n",
       "1775                   False           False                    True  \n",
       "2003                   False           False                    True  \n",
       "2006                   False           False                   False  "
      ]
     },
     "execution_count": 40,
     "metadata": {},
     "output_type": "execute_result"
    }
   ],
   "source": [
    "df_flattened_dd['term_in_def_page_title'] = df_flattened_dd.apply(lambda row: row['term'].lower() in row['def_page_title'].lower(), axis=1)\n",
    "df_flattened_dd[~df_flattened_dd['term_in_def_page_title']]"
   ]
  },
  {
   "cell_type": "markdown",
   "id": "3095a99c-7f3b-464f-8c4e-63b9b33a327e",
   "metadata": {
    "jp-MarkdownHeadingCollapsed": true,
    "tags": []
   },
   "source": [
    "### Bias removal: An upper category term of which the definition contains the definitions of its sub-category terms should not be in the same group with these sub-category terms "
   ]
  },
  {
   "cell_type": "code",
   "execution_count": 8,
   "id": "fb338baa-7619-4739-abe1-79a355a4ef78",
   "metadata": {
    "tags": []
   },
   "outputs": [],
   "source": [
    "contained_indexes = []\n",
    "duplicated_upper_indexes = []\n",
    "def_list = list(df_flattened_dd[\"plain_text_definition\"])\n",
    "term_list = list(df_flattened_dd[\"term\"])\n",
    "for index1, def1 in enumerate(def_list):\n",
    "    for index2, def2 in enumerate(def_list):\n",
    "        if (index2 != index1 and def1 in def2):\n",
    "            contained_indexes.append((index1, index2))\n",
    "            if term_list[index1] == term_list[index2]:\n",
    "                duplicated_upper_indexes.append((index1, index2))"
   ]
  },
  {
   "cell_type": "code",
   "execution_count": 9,
   "id": "b5e559d7-0b30-4648-821f-50d84d31c0dd",
   "metadata": {
    "tags": []
   },
   "outputs": [
    {
     "data": {
      "text/plain": [
       "(753, 504)"
      ]
     },
     "execution_count": 9,
     "metadata": {},
     "output_type": "execute_result"
    }
   ],
   "source": [
    "upper_cat_indexes = set([v for k,v in contained_indexes])\n",
    "len(contained_indexes), len(upper_cat_indexes)"
   ]
  },
  {
   "cell_type": "code",
   "execution_count": 10,
   "id": "3a63d1f5-2eda-455d-a938-ddaf600a12e0",
   "metadata": {
    "tags": []
   },
   "outputs": [
    {
     "data": {
      "text/plain": [
       "119"
      ]
     },
     "execution_count": 10,
     "metadata": {},
     "output_type": "execute_result"
    }
   ],
   "source": [
    "biased_indexes = set([v for k,v in duplicated_upper_indexes])\n",
    "len(biased_indexes)"
   ]
  },
  {
   "cell_type": "code",
   "execution_count": 11,
   "id": "811b9b3b-20bb-4d48-b7d6-9533d784609d",
   "metadata": {
    "scrolled": true,
    "tags": []
   },
   "outputs": [
    {
     "data": {
      "text/plain": [
       "{'Definition:Adjacent (Graph Theory)': 1,\n",
       " \"Definition:Earth's Poles\": 1,\n",
       " 'Definition:Rooted Tree': 1,\n",
       " 'Definition:Right-Hand Derivative': 1,\n",
       " 'Definition:Group Representation': 1,\n",
       " 'Definition:Regular Representations': 1,\n",
       " 'Definition:Rank (Linear Algebra)': 1,\n",
       " 'Definition:Radius of Regular Polygon': 1,\n",
       " 'Definition:Proper Divisor': 1,\n",
       " 'Definition:Proper Coloring': 1,\n",
       " 'Definition:Group Product': 1,\n",
       " 'Definition:Product (Abstract Algebra)': 1,\n",
       " 'Definition:Primitive Element': 1,\n",
       " 'Definition:Power of Element': 1,\n",
       " 'Definition:Polar Coordinates': 1,\n",
       " 'Definition:Separated by Neighborhoods': 1,\n",
       " 'Definition:Periodic Point': 1,\n",
       " 'Definition:Periodic Function/Real': 1,\n",
       " 'Definition:Parallel (Geometry)': 1,\n",
       " 'Definition:Orthogonal (Analytic Geometry)': 1,\n",
       " 'Definition:Matrix/Order': 1,\n",
       " 'Definition:Normal Line': 1,\n",
       " 'Definition:Elastic Modulus': 1,\n",
       " 'Definition:Ellipse/Minor Axis': 1,\n",
       " 'Definition:Median (Statistics)': 1,\n",
       " 'Definition:Topological Manifold': 1,\n",
       " 'Definition:Ellipse/Major Axis': 1,\n",
       " 'Definition:Lower Bound of Sequence': 1,\n",
       " 'Definition:Section (Geometry)': 1,\n",
       " 'Definition:Separated by Closed Neighborhoods': 1,\n",
       " 'Definition:Lower Bound of Set': 1,\n",
       " 'Definition:Differential Equation/System': 1,\n",
       " 'Definition:Walk (Graph Theory)': 1,\n",
       " 'Definition:Vertex of Conic Section': 1,\n",
       " 'Definition:Vertex (Geometry)': 1,\n",
       " 'Definition:Upper Bound of Sequence': 1,\n",
       " 'Definition:Upper Bound of Mapping': 1,\n",
       " 'Definition:Upper Bound of Set': 1,\n",
       " 'Definition:Unity (Abstract Algebra)': 1,\n",
       " 'Definition:Set Union': 1,\n",
       " 'Definition:Truncation': 1,\n",
       " 'Definition:Natural Transformation': 1,\n",
       " 'Definition:Transcendental (Abstract Algebra)': 1,\n",
       " 'Definition:Trace (Linear Algebra)': 1,\n",
       " 'Definition:Mathematical System': 1,\n",
       " 'Definition:Continued Fraction/Simple': 1,\n",
       " 'Definition:Orthogonal Coordinate System': 1,\n",
       " 'Definition:Sound Proof System': 1,\n",
       " 'Definition:Supremum of Mapping': 1,\n",
       " 'Definition:Supremum of Set': 1,\n",
       " 'Definition:Support of Continuous Mapping': 1,\n",
       " 'Definition:Support of Mapping to Algebraic Structure': 1,\n",
       " 'Definition:Substitution (Formal Systems)': 1,\n",
       " 'Definition:Subdivision (Graph Theory)': 1,\n",
       " 'Definition:Formal Semantics/Structure': 1,\n",
       " 'Definition:Abstract Space': 1,\n",
       " 'Definition:Fiber of Truth': 1,\n",
       " 'Definition:Differential Equation/Solution': 1,\n",
       " 'Definition:Lower Bound of Mapping': 1,\n",
       " 'Definition:Left-Hand Derivative': 1,\n",
       " 'Definition:Polygon/Adjacent': 1,\n",
       " 'Definition:Characteristic of Field': 1,\n",
       " 'Definition:Connected (Graph Theory)': 1,\n",
       " 'Definition:Connected (Topology)': 1,\n",
       " 'Definition:Compatible Charts': 1,\n",
       " 'Definition:Compact Space/Metric Space': 1,\n",
       " 'Definition:Compact Space/Euclidean Space': 1,\n",
       " 'Definition:Compact Space': 1,\n",
       " 'Definition:Greatest Common Divisor': 1,\n",
       " 'Definition:Common Divisor': 1,\n",
       " 'Definition:Common Denominator': 1,\n",
       " 'Definition:Closed Set': 1,\n",
       " 'Definition:Circumference of Geometric Figure': 1,\n",
       " 'Definition:Cipher (Cryptography)': 1,\n",
       " 'Definition:Chain (Order Theory)': 1,\n",
       " 'Definition:Convolution (Measure Theory)': 1,\n",
       " 'Definition:Multifunction/Branch': 1,\n",
       " 'Definition:Bounded Below Sequence': 1,\n",
       " 'Definition:Bounded Below Mapping': 1,\n",
       " 'Definition:Bounded Below Set': 1,\n",
       " 'Definition:Bounded Above Sequence': 1,\n",
       " 'Definition:Bounded Above Mapping': 1,\n",
       " 'Definition:Bounded Above Set': 1,\n",
       " 'Definition:Bounded Sequence': 1,\n",
       " 'Definition:Bounded Mapping': 1,\n",
       " 'Definition:Bounded Set': 1,\n",
       " 'Definition:Altitude of Geometric Figure': 1,\n",
       " 'Definition:Polyhedron/Adjacent': 1,\n",
       " 'Definition:Content of Polynomial': 1,\n",
       " 'Definition:Algebraic Number/Degree': 1,\n",
       " 'Definition:Kernel (Abstract Algebra)': 1,\n",
       " 'Definition:Harmonic Numbers': 1,\n",
       " 'Definition:Isomorphism (Abstract Algebra)': 1,\n",
       " 'Definition:Irreducible (Representation Theory)': 1,\n",
       " 'Definition:Inverse Semigroup': 1,\n",
       " 'Definition:Infimum of Mapping': 1,\n",
       " 'Definition:Infimum of Set': 1,\n",
       " 'Definition:Indexing Set': 1,\n",
       " 'Definition:Ideal (Order Theory)': 1,\n",
       " 'Definition:Ideal of Algebra': 1,\n",
       " 'Definition:Ideal of Ring': 1,\n",
       " 'Definition:Homomorphism (Abstract Algebra)': 1,\n",
       " 'Definition:Harmonic Progression': 1,\n",
       " 'Definition:Harmonic Series': 1,\n",
       " 'Definition:Graph of Mapping': 1,\n",
       " 'Definition:Density (Physics)': 1,\n",
       " 'Definition:Field (Physics)': 1,\n",
       " 'Definition:Extension of Class': 1,\n",
       " 'Definition:Logical Equivalence': 1,\n",
       " 'Definition:Equilibrium (Mechanics)': 1,\n",
       " 'Definition:Algebraic Dual': 1,\n",
       " 'Definition:Discontinuous Mapping/Real Function': 1,\n",
       " 'Definition:Discontinuous Mapping': 1,\n",
       " 'Definition:Direct Image Mapping': 1,\n",
       " 'Definition:Krull Dimension': 1,\n",
       " 'Definition:Dimension (Topology)': 1,\n",
       " 'Definition:Dihedral (Geometry)': 1,\n",
       " 'Definition:Diameter of Conic Section': 1,\n",
       " 'Definition:Zero (Number)': 1}"
      ]
     },
     "execution_count": 11,
     "metadata": {},
     "output_type": "execute_result"
    }
   ],
   "source": [
    "# these should be removed\n",
    "df_flattened_dd[\"biased_indexes\"] = df_flattened_dd.index.isin(biased_indexes)\n",
    "dict(df_flattened_dd[df_flattened_dd[\"biased_indexes\"]]['def_page_title'].value_counts())"
   ]
  },
  {
   "cell_type": "code",
   "execution_count": 12,
   "id": "8fde7b71-2bb5-4ff0-ad80-e76b80390af3",
   "metadata": {
    "scrolled": true,
    "tags": []
   },
   "outputs": [],
   "source": [
    "df_flattened_dd[\"def_contains_other_def\"] = df_flattened_dd.index.isin(upper_cat_indexes)"
   ]
  },
  {
   "cell_type": "code",
   "execution_count": 13,
   "id": "93be2222-2f60-480a-a58a-45d84f8fac15",
   "metadata": {
    "tags": []
   },
   "outputs": [
    {
     "data": {
      "text/html": [
       "<div>\n",
       "<style scoped>\n",
       "    .dataframe tbody tr th:only-of-type {\n",
       "        vertical-align: middle;\n",
       "    }\n",
       "\n",
       "    .dataframe tbody tr th {\n",
       "        vertical-align: top;\n",
       "    }\n",
       "\n",
       "    .dataframe thead th {\n",
       "        text-align: right;\n",
       "    }\n",
       "</style>\n",
       "<table border=\"1\" class=\"dataframe\">\n",
       "  <thead>\n",
       "    <tr style=\"text-align: right;\">\n",
       "      <th></th>\n",
       "      <th>dd_page_title</th>\n",
       "      <th>term</th>\n",
       "      <th>definition</th>\n",
       "      <th>def_page_title</th>\n",
       "      <th>categories</th>\n",
       "      <th>plain_text_definition</th>\n",
       "      <th>term_in_def</th>\n",
       "      <th>term_in_def_page_title</th>\n",
       "      <th>biased_indexes</th>\n",
       "      <th>def_contains_other_def</th>\n",
       "    </tr>\n",
       "  </thead>\n",
       "  <tbody>\n",
       "    <tr>\n",
       "      <th>5</th>\n",
       "      <td>Definition:Absolute</td>\n",
       "      <td>Absolute</td>\n",
       "      <td>=== Definition 1 ===\\nLet $x \\in \\mathbb R$ be...</td>\n",
       "      <td>Definition:Absolute Value</td>\n",
       "      <td>['Definitions/Absolute Value Function', 'Defin...</td>\n",
       "      <td>=== Definition 1 ===\\nLet x ∈ℝ be a real numbe...</td>\n",
       "      <td>True</td>\n",
       "      <td>True</td>\n",
       "      <td>False</td>\n",
       "      <td>True</td>\n",
       "    </tr>\n",
       "    <tr>\n",
       "      <th>12</th>\n",
       "      <td>Definition:Absolute</td>\n",
       "      <td>Absolute</td>\n",
       "      <td>Let $S$ be a sample or a population.\\n\\nLet $\\...</td>\n",
       "      <td>Definition:Frequency (Descriptive Statistics)</td>\n",
       "      <td>['Definitions/Frequency (Descriptive Statistic...</td>\n",
       "      <td>Let S be a sample or a population.\\n\\nLet ω be...</td>\n",
       "      <td>False</td>\n",
       "      <td>False</td>\n",
       "      <td>False</td>\n",
       "      <td>True</td>\n",
       "    </tr>\n",
       "    <tr>\n",
       "      <th>15</th>\n",
       "      <td>Definition:Absolute</td>\n",
       "      <td>Absolute</td>\n",
       "      <td>A real number $r$ is absolutely normal if it i...</td>\n",
       "      <td>Definition:Absolutely Normal Number</td>\n",
       "      <td>['Definitions/Absolutely Normal Numbers', 'Def...</td>\n",
       "      <td>A real number r is absolutely normal if it is ...</td>\n",
       "      <td>True</td>\n",
       "      <td>True</td>\n",
       "      <td>False</td>\n",
       "      <td>True</td>\n",
       "    </tr>\n",
       "    <tr>\n",
       "      <th>22</th>\n",
       "      <td>Definition:Action</td>\n",
       "      <td>Action</td>\n",
       "      <td>Let $X$ be a set.\\n\\nLet $\\left( G, \\circ \\rig...</td>\n",
       "      <td>Definition:Group Action</td>\n",
       "      <td>['Definitions/Group Actions', 'Definitions/Gro...</td>\n",
       "      <td>Let X be a set.\\n\\nLet ( G, ∘) be a group whos...</td>\n",
       "      <td>True</td>\n",
       "      <td>True</td>\n",
       "      <td>False</td>\n",
       "      <td>True</td>\n",
       "    </tr>\n",
       "    <tr>\n",
       "      <th>23</th>\n",
       "      <td>Definition:Action</td>\n",
       "      <td>Action</td>\n",
       "      <td>Let $R$ be a ring.\\n\\nLet $M$ be an abelian gr...</td>\n",
       "      <td>Definition:Linear Ring Action</td>\n",
       "      <td>['Definitions/Module Theory', 'Definitions/Lin...</td>\n",
       "      <td>Let R be a ring.\\n\\nLet M be an abelian group....</td>\n",
       "      <td>True</td>\n",
       "      <td>True</td>\n",
       "      <td>False</td>\n",
       "      <td>True</td>\n",
       "    </tr>\n",
       "    <tr>\n",
       "      <th>...</th>\n",
       "      <td>...</td>\n",
       "      <td>...</td>\n",
       "      <td>...</td>\n",
       "      <td>...</td>\n",
       "      <td>...</td>\n",
       "      <td>...</td>\n",
       "      <td>...</td>\n",
       "      <td>...</td>\n",
       "      <td>...</td>\n",
       "      <td>...</td>\n",
       "    </tr>\n",
       "    <tr>\n",
       "      <th>2055</th>\n",
       "      <td>Definition:Value</td>\n",
       "      <td>Value</td>\n",
       "      <td>Let $F$ be a field, such as the field of real ...</td>\n",
       "      <td>Definition:Value of Continued Fraction</td>\n",
       "      <td>['Definitions/Continued Fractions']</td>\n",
       "      <td>Let F be a field, such as the field of real nu...</td>\n",
       "      <td>True</td>\n",
       "      <td>True</td>\n",
       "      <td>False</td>\n",
       "      <td>True</td>\n",
       "    </tr>\n",
       "    <tr>\n",
       "      <th>2072</th>\n",
       "      <td>Definition:Walk</td>\n",
       "      <td>Walk</td>\n",
       "      <td>A closed walk is a walk whose first vertex is ...</td>\n",
       "      <td>Definition:Walk (Graph Theory)/Closed</td>\n",
       "      <td>['Definitions/Closed Walks', 'Definitions/Walks']</td>\n",
       "      <td>A closed walk is a walk whose first vertex is ...</td>\n",
       "      <td>True</td>\n",
       "      <td>True</td>\n",
       "      <td>False</td>\n",
       "      <td>True</td>\n",
       "    </tr>\n",
       "    <tr>\n",
       "      <th>2074</th>\n",
       "      <td>Definition:Walk</td>\n",
       "      <td>Walk</td>\n",
       "      <td>Let $G = \\left( V, A \\right)$ be a digraph.\\n\\...</td>\n",
       "      <td>Definition:Directed Walk</td>\n",
       "      <td>['Definitions/Digraphs', 'Definitions/Walks']</td>\n",
       "      <td>Let G = ( V, A ) be a digraph.\\n\\n\\nA directed...</td>\n",
       "      <td>True</td>\n",
       "      <td>True</td>\n",
       "      <td>False</td>\n",
       "      <td>True</td>\n",
       "    </tr>\n",
       "    <tr>\n",
       "      <th>2099</th>\n",
       "      <td>Definition:Zero</td>\n",
       "      <td>Zero</td>\n",
       "      <td>Let $\\left( S, \\circ \\right)$ be an algebraic ...</td>\n",
       "      <td>Definition:Zero Element</td>\n",
       "      <td>['Definitions/Abstract Algebra', 'Definitions/...</td>\n",
       "      <td>Let ( S, ∘) be an algebraic structure.\\n\\n\\n==...</td>\n",
       "      <td>True</td>\n",
       "      <td>True</td>\n",
       "      <td>False</td>\n",
       "      <td>True</td>\n",
       "    </tr>\n",
       "    <tr>\n",
       "      <th>2103</th>\n",
       "      <td>Definition:Zero</td>\n",
       "      <td>Zero</td>\n",
       "      <td>Let $f: R \\to R$ be a mapping on a ring $R$.\\n...</td>\n",
       "      <td>Definition:Root of Mapping</td>\n",
       "      <td>['Definitions/Roots of Mappings', 'Definitions...</td>\n",
       "      <td>Let f: R → R be a mapping on a ring R.\\n\\nLet ...</td>\n",
       "      <td>False</td>\n",
       "      <td>False</td>\n",
       "      <td>False</td>\n",
       "      <td>True</td>\n",
       "    </tr>\n",
       "  </tbody>\n",
       "</table>\n",
       "<p>385 rows × 10 columns</p>\n",
       "</div>"
      ],
      "text/plain": [
       "            dd_page_title      term   \n",
       "5     Definition:Absolute  Absolute  \\\n",
       "12    Definition:Absolute  Absolute   \n",
       "15    Definition:Absolute  Absolute   \n",
       "22      Definition:Action    Action   \n",
       "23      Definition:Action    Action   \n",
       "...                   ...       ...   \n",
       "2055     Definition:Value     Value   \n",
       "2072      Definition:Walk      Walk   \n",
       "2074      Definition:Walk      Walk   \n",
       "2099      Definition:Zero      Zero   \n",
       "2103      Definition:Zero      Zero   \n",
       "\n",
       "                                             definition   \n",
       "5     === Definition 1 ===\\nLet $x \\in \\mathbb R$ be...  \\\n",
       "12    Let $S$ be a sample or a population.\\n\\nLet $\\...   \n",
       "15    A real number $r$ is absolutely normal if it i...   \n",
       "22    Let $X$ be a set.\\n\\nLet $\\left( G, \\circ \\rig...   \n",
       "23    Let $R$ be a ring.\\n\\nLet $M$ be an abelian gr...   \n",
       "...                                                 ...   \n",
       "2055  Let $F$ be a field, such as the field of real ...   \n",
       "2072  A closed walk is a walk whose first vertex is ...   \n",
       "2074  Let $G = \\left( V, A \\right)$ be a digraph.\\n\\...   \n",
       "2099  Let $\\left( S, \\circ \\right)$ be an algebraic ...   \n",
       "2103  Let $f: R \\to R$ be a mapping on a ring $R$.\\n...   \n",
       "\n",
       "                                     def_page_title   \n",
       "5                         Definition:Absolute Value  \\\n",
       "12    Definition:Frequency (Descriptive Statistics)   \n",
       "15              Definition:Absolutely Normal Number   \n",
       "22                          Definition:Group Action   \n",
       "23                    Definition:Linear Ring Action   \n",
       "...                                             ...   \n",
       "2055         Definition:Value of Continued Fraction   \n",
       "2072          Definition:Walk (Graph Theory)/Closed   \n",
       "2074                       Definition:Directed Walk   \n",
       "2099                        Definition:Zero Element   \n",
       "2103                     Definition:Root of Mapping   \n",
       "\n",
       "                                             categories   \n",
       "5     ['Definitions/Absolute Value Function', 'Defin...  \\\n",
       "12    ['Definitions/Frequency (Descriptive Statistic...   \n",
       "15    ['Definitions/Absolutely Normal Numbers', 'Def...   \n",
       "22    ['Definitions/Group Actions', 'Definitions/Gro...   \n",
       "23    ['Definitions/Module Theory', 'Definitions/Lin...   \n",
       "...                                                 ...   \n",
       "2055                ['Definitions/Continued Fractions']   \n",
       "2072  ['Definitions/Closed Walks', 'Definitions/Walks']   \n",
       "2074      ['Definitions/Digraphs', 'Definitions/Walks']   \n",
       "2099  ['Definitions/Abstract Algebra', 'Definitions/...   \n",
       "2103  ['Definitions/Roots of Mappings', 'Definitions...   \n",
       "\n",
       "                                  plain_text_definition  term_in_def   \n",
       "5     === Definition 1 ===\\nLet x ∈ℝ be a real numbe...         True  \\\n",
       "12    Let S be a sample or a population.\\n\\nLet ω be...        False   \n",
       "15    A real number r is absolutely normal if it is ...         True   \n",
       "22    Let X be a set.\\n\\nLet ( G, ∘) be a group whos...         True   \n",
       "23    Let R be a ring.\\n\\nLet M be an abelian group....         True   \n",
       "...                                                 ...          ...   \n",
       "2055  Let F be a field, such as the field of real nu...         True   \n",
       "2072  A closed walk is a walk whose first vertex is ...         True   \n",
       "2074  Let G = ( V, A ) be a digraph.\\n\\n\\nA directed...         True   \n",
       "2099  Let ( S, ∘) be an algebraic structure.\\n\\n\\n==...         True   \n",
       "2103  Let f: R → R be a mapping on a ring R.\\n\\nLet ...        False   \n",
       "\n",
       "      term_in_def_page_title  biased_indexes  def_contains_other_def  \n",
       "5                       True           False                    True  \n",
       "12                     False           False                    True  \n",
       "15                      True           False                    True  \n",
       "22                      True           False                    True  \n",
       "23                      True           False                    True  \n",
       "...                      ...             ...                     ...  \n",
       "2055                    True           False                    True  \n",
       "2072                    True           False                    True  \n",
       "2074                    True           False                    True  \n",
       "2099                    True           False                    True  \n",
       "2103                   False           False                    True  \n",
       "\n",
       "[385 rows x 10 columns]"
      ]
     },
     "execution_count": 13,
     "metadata": {},
     "output_type": "execute_result"
    }
   ],
   "source": [
    "df_flattened_dd[df_flattened_dd[\"def_contains_other_def\"] & ~df_flattened_dd[\"biased_indexes\"]]"
   ]
  },
  {
   "cell_type": "code",
   "execution_count": 14,
   "id": "d38868f0-fdb8-4d12-a251-c6d4a01ed1c4",
   "metadata": {
    "tags": []
   },
   "outputs": [],
   "source": [
    "df_no_biased = df_flattened_dd[~df_flattened_dd[\"biased_indexes\"]]"
   ]
  },
  {
   "cell_type": "code",
   "execution_count": 15,
   "id": "6b9c81b8-ecdc-4139-8b9f-16108e66da1b",
   "metadata": {
    "tags": []
   },
   "outputs": [
    {
     "data": {
      "text/html": [
       "<div>\n",
       "<style scoped>\n",
       "    .dataframe tbody tr th:only-of-type {\n",
       "        vertical-align: middle;\n",
       "    }\n",
       "\n",
       "    .dataframe tbody tr th {\n",
       "        vertical-align: top;\n",
       "    }\n",
       "\n",
       "    .dataframe thead th {\n",
       "        text-align: right;\n",
       "    }\n",
       "</style>\n",
       "<table border=\"1\" class=\"dataframe\">\n",
       "  <thead>\n",
       "    <tr style=\"text-align: right;\">\n",
       "      <th></th>\n",
       "      <th>dd_page_title</th>\n",
       "      <th>term</th>\n",
       "      <th>definition</th>\n",
       "      <th>def_page_title</th>\n",
       "      <th>categories</th>\n",
       "      <th>plain_text_definition</th>\n",
       "      <th>term_in_def</th>\n",
       "      <th>term_in_def_page_title</th>\n",
       "      <th>biased_indexes</th>\n",
       "      <th>def_contains_other_def</th>\n",
       "    </tr>\n",
       "  </thead>\n",
       "  <tbody>\n",
       "    <tr>\n",
       "      <th>512</th>\n",
       "      <td>Definition:Definite</td>\n",
       "      <td>Definite</td>\n",
       "      <td>Let $\\mathbb C$ be the field of complex number...</td>\n",
       "      <td>Definition:Non-Negative Definite Mapping</td>\n",
       "      <td>['Definitions/Hilbert Spaces']</td>\n",
       "      <td>Let ℂ be the field of complex numbers.\\n\\nLet ...</td>\n",
       "      <td>True</td>\n",
       "      <td>True</td>\n",
       "      <td>False</td>\n",
       "      <td>False</td>\n",
       "    </tr>\n",
       "    <tr>\n",
       "      <th>513</th>\n",
       "      <td>Definition:Definite</td>\n",
       "      <td>Definite</td>\n",
       "      <td>Let $\\left[ a \\,.\\,.\\,   \\right]b$ be a closed...</td>\n",
       "      <td>Definition:Definite Integral</td>\n",
       "      <td>['Definitions/Definite Integrals', 'Definition...</td>\n",
       "      <td>Let [ a  . . ]b be a closed real interval.\\n\\n...</td>\n",
       "      <td>True</td>\n",
       "      <td>True</td>\n",
       "      <td>False</td>\n",
       "      <td>True</td>\n",
       "    </tr>\n",
       "  </tbody>\n",
       "</table>\n",
       "</div>"
      ],
      "text/plain": [
       "           dd_page_title      term   \n",
       "512  Definition:Definite  Definite  \\\n",
       "513  Definition:Definite  Definite   \n",
       "\n",
       "                                            definition   \n",
       "512  Let $\\mathbb C$ be the field of complex number...  \\\n",
       "513  Let $\\left[ a \\,.\\,.\\,   \\right]b$ be a closed...   \n",
       "\n",
       "                               def_page_title   \n",
       "512  Definition:Non-Negative Definite Mapping  \\\n",
       "513              Definition:Definite Integral   \n",
       "\n",
       "                                            categories   \n",
       "512                     ['Definitions/Hilbert Spaces']  \\\n",
       "513  ['Definitions/Definite Integrals', 'Definition...   \n",
       "\n",
       "                                 plain_text_definition  term_in_def   \n",
       "512  Let ℂ be the field of complex numbers.\\n\\nLet ...         True  \\\n",
       "513  Let [ a  . . ]b be a closed real interval.\\n\\n...         True   \n",
       "\n",
       "     term_in_def_page_title  biased_indexes  def_contains_other_def  \n",
       "512                    True           False                   False  \n",
       "513                    True           False                    True  "
      ]
     },
     "execution_count": 15,
     "metadata": {},
     "output_type": "execute_result"
    }
   ],
   "source": [
    "df_no_biased[df_no_biased['term'] == 'Definite']"
   ]
  },
  {
   "cell_type": "code",
   "execution_count": 16,
   "id": "7f237acb-e9ba-4284-9384-9c6121de4ba5",
   "metadata": {
    "scrolled": true,
    "tags": []
   },
   "outputs": [
    {
     "data": {
      "text/plain": [
       "{'System': 57,\n",
       " 'Right': 43,\n",
       " 'Left': 43,\n",
       " 'Normal': 29,\n",
       " 'Proper': 24,\n",
       " 'Harmonic': 22,\n",
       " 'Order': 21,\n",
       " 'Closed': 20,\n",
       " 'Length': 18,\n",
       " 'Regular': 17,\n",
       " 'Space': 17,\n",
       " 'Algebraic': 16,\n",
       " 'Generated': 16,\n",
       " 'Mean': 16,\n",
       " 'Degree': 16,\n",
       " 'Absolute': 16,\n",
       " 'Generator': 16,\n",
       " 'Adjacent': 15,\n",
       " 'Dual': 14,\n",
       " 'Trivial': 14,\n",
       " 'Principal': 14,\n",
       " 'Closure': 14,\n",
       " 'Similar': 14,\n",
       " 'Homogeneous': 13,\n",
       " 'Compatible': 13,\n",
       " 'Continuous': 13,\n",
       " 'Discrete': 13,\n",
       " 'Integral': 13,\n",
       " 'Null': 12,\n",
       " 'Affine': 12,\n",
       " 'Conjugate': 12,\n",
       " 'Complete': 12,\n",
       " 'Dimension': 12,\n",
       " 'Limit': 12,\n",
       " 'Base': 12,\n",
       " 'Primitive': 12,\n",
       " 'Zero': 11,\n",
       " 'Transformation': 11,\n",
       " 'Common': 11,\n",
       " 'Isomorphism': 11,\n",
       " 'Power': 11,\n",
       " 'Algebra': 11,\n",
       " 'Product': 10,\n",
       " 'Inverse': 10,\n",
       " 'Section': 10,\n",
       " 'Distance': 10,\n",
       " 'Extension': 10,\n",
       " 'Orthogonal': 9,\n",
       " 'Component': 9,\n",
       " 'Composition': 9,\n",
       " 'Directed': 9,\n",
       " 'Degenerate': 9,\n",
       " 'Term': 9,\n",
       " 'Bounded': 9,\n",
       " 'Index': 9,\n",
       " 'Kernel': 9,\n",
       " 'Free': 9,\n",
       " 'Altitude': 9,\n",
       " 'Radius': 9,\n",
       " 'Class': 8,\n",
       " 'Diameter': 8,\n",
       " 'Modulus': 8,\n",
       " 'Projection': 8,\n",
       " 'Vertex': 8,\n",
       " 'Radical': 8,\n",
       " 'Irreducible': 8,\n",
       " 'Connected': 8,\n",
       " 'Unit': 8,\n",
       " 'Simple': 8,\n",
       " 'Empty': 8,\n",
       " 'Compact': 8,\n",
       " 'Characteristic': 8,\n",
       " 'Complement': 8,\n",
       " 'Equilibrium': 8,\n",
       " 'Complex': 8,\n",
       " 'Rank': 7,\n",
       " 'Diagonal': 7,\n",
       " 'Adjoint': 7,\n",
       " 'Character': 7,\n",
       " 'Interior': 7,\n",
       " 'Trace': 7,\n",
       " 'Support': 7,\n",
       " 'Separated': 7,\n",
       " 'Ideal': 7,\n",
       " 'Transitive': 7,\n",
       " 'Euclidean': 7,\n",
       " 'Equivalence': 7,\n",
       " 'Node': 7,\n",
       " 'Substitution': 7,\n",
       " 'Polar': 6,\n",
       " 'Expansion': 6,\n",
       " 'Separable': 6,\n",
       " 'Homomorphism': 6,\n",
       " 'Root': 6,\n",
       " 'Pole': 6,\n",
       " 'Finitely Generated': 6,\n",
       " 'Exterior': 6,\n",
       " 'Graph': 6,\n",
       " 'Height': 6,\n",
       " 'Convex': 6,\n",
       " 'Torsion': 6,\n",
       " 'Decomposition': 6,\n",
       " 'Congruence': 6,\n",
       " 'Value': 6,\n",
       " 'Cut': 6,\n",
       " 'Transform': 6,\n",
       " 'Convolution': 6,\n",
       " 'Weight': 6,\n",
       " 'Solution': 6,\n",
       " 'Word': 6,\n",
       " 'Additive Function': 6,\n",
       " 'Opposite': 6,\n",
       " 'Loop': 6,\n",
       " 'Reducible': 5,\n",
       " 'Canonical': 5,\n",
       " 'Union': 5,\n",
       " 'Atom': 5,\n",
       " 'Argument': 5,\n",
       " 'Machine': 5,\n",
       " 'Face': 5,\n",
       " 'Major': 5,\n",
       " 'Representation': 5,\n",
       " 'Multiplicity': 5,\n",
       " 'Measure': 5,\n",
       " 'Frequency': 5,\n",
       " 'Action': 5,\n",
       " 'Equiangular': 5,\n",
       " 'Independent': 5,\n",
       " 'Divisor': 5,\n",
       " 'Invertible': 5,\n",
       " 'Direct Image': 5,\n",
       " 'Density': 5,\n",
       " 'Dense': 5,\n",
       " 'Side': 5,\n",
       " 'Perfect': 5,\n",
       " 'Divergent': 5,\n",
       " 'Segment': 5,\n",
       " 'Sign': 5,\n",
       " 'Edge': 5,\n",
       " 'Successor': 5,\n",
       " 'Embedding': 5,\n",
       " 'Tableau': 5,\n",
       " 'Tangent': 5,\n",
       " 'Parallel': 4,\n",
       " 'Noetherian': 4,\n",
       " 'Inverse Image': 4,\n",
       " 'Knot': 4,\n",
       " 'Manifold': 4,\n",
       " 'Genus': 4,\n",
       " 'Path': 4,\n",
       " 'Image': 4,\n",
       " 'Infimum': 4,\n",
       " 'Join': 4,\n",
       " 'Period': 4,\n",
       " 'Isometry': 4,\n",
       " 'Focus': 4,\n",
       " 'Critical Point': 4,\n",
       " 'Consequence': 4,\n",
       " 'Completion': 4,\n",
       " 'Symmetry': 4,\n",
       " 'Cipher': 4,\n",
       " 'Chain': 4,\n",
       " 'Branch': 4,\n",
       " 'Transcendental': 4,\n",
       " 'Binomial': 4,\n",
       " 'Basis': 4,\n",
       " 'Auxiliary': 4,\n",
       " 'Universal': 4,\n",
       " 'Associative': 4,\n",
       " 'Universe': 4,\n",
       " 'Archimedean': 4,\n",
       " 'Vacuous': 4,\n",
       " 'Walk': 4,\n",
       " 'Acyclic': 4,\n",
       " 'Coterminal': 4,\n",
       " 'Supremum': 4,\n",
       " 'Cycle': 4,\n",
       " 'Singular': 4,\n",
       " 'Residue': 4,\n",
       " 'Domain': 4,\n",
       " 'Discriminant': 4,\n",
       " 'Signature': 4,\n",
       " 'Similarity': 4,\n",
       " 'Differentiable': 4,\n",
       " 'Minor': 4,\n",
       " 'Smooth': 4,\n",
       " 'Pullback': 3,\n",
       " 'Subtree': 3,\n",
       " 'Quasi-Compact': 3,\n",
       " 'Monotone': 3,\n",
       " 'Multiplicative Function': 3,\n",
       " 'Weak': 3,\n",
       " 'Range': 3,\n",
       " 'Ray': 3,\n",
       " 'Upper Bound': 3,\n",
       " 'Right Cancellable': 3,\n",
       " 'Net': 3,\n",
       " 'Right Inverse': 3,\n",
       " 'Neutral': 3,\n",
       " 'Row': 3,\n",
       " 'Structure': 3,\n",
       " 'Positive Definite': 3,\n",
       " 'Truncation': 3,\n",
       " 'Subdivision': 3,\n",
       " 'Spectrum': 3,\n",
       " 'Model': 3,\n",
       " 'Orbit': 3,\n",
       " 'Subspace': 3,\n",
       " 'Trajectory': 3,\n",
       " 'Orientation': 3,\n",
       " 'Permutable': 3,\n",
       " 'Skew': 3,\n",
       " 'Tree': 3,\n",
       " 'Above': 3,\n",
       " 'Foot': 3,\n",
       " 'Bar': 3,\n",
       " 'Boundary': 3,\n",
       " 'Bounded Above': 3,\n",
       " 'Bounded Below': 3,\n",
       " 'Characteristic Function': 3,\n",
       " 'Circuit': 3,\n",
       " 'Circumference': 3,\n",
       " 'Field': 3,\n",
       " 'Family': 3,\n",
       " 'Factor': 3,\n",
       " 'Column': 3,\n",
       " 'Concave': 3,\n",
       " 'Equator': 3,\n",
       " 'Epicycle': 3,\n",
       " 'Consistent': 3,\n",
       " 'Entropy': 3,\n",
       " 'Efficiency': 3,\n",
       " 'Cyclic': 3,\n",
       " 'Below': 3,\n",
       " 'Directrix': 3,\n",
       " 'Locally Finite': 3,\n",
       " 'Lower Bound': 3,\n",
       " 'Arrow': 3,\n",
       " 'Aggregation': 3,\n",
       " 'Amplitude': 3,\n",
       " 'Left Inverse': 3,\n",
       " 'Median': 3,\n",
       " 'Left Cancellable': 3,\n",
       " 'Annulus': 3,\n",
       " 'Meet': 3,\n",
       " 'Subnormal': 2,\n",
       " 'Convex Set': 2,\n",
       " 'Adjacent Faces': 2,\n",
       " 'Content': 2,\n",
       " 'Substatement': 2,\n",
       " 'Age': 2,\n",
       " 'Conjugate Pair': 2,\n",
       " 'Cone': 2,\n",
       " 'Structure Sheaf': 2,\n",
       " 'Automorphism': 2,\n",
       " 'Coordinate': 2,\n",
       " 'Sum': 2,\n",
       " 'State': 2,\n",
       " 'Couple': 2,\n",
       " 'Spanning Set': 2,\n",
       " 'Sound': 2,\n",
       " 'Definite': 2,\n",
       " 'Degrees of Freedom': 2,\n",
       " 'Small': 2,\n",
       " 'Deltoid': 2,\n",
       " 'Diagram': 2,\n",
       " 'Difference': 2,\n",
       " 'Dihedral': 2,\n",
       " 'Strong': 2,\n",
       " 'Commutative Algebra': 2,\n",
       " 'Composite': 2,\n",
       " 'Transfer Function': 2,\n",
       " 'Baire Space': 2,\n",
       " 'Artinian': 2,\n",
       " 'Bilinear Form': 2,\n",
       " 'Triple Product': 2,\n",
       " 'Triangle': 2,\n",
       " 'Block': 2,\n",
       " 'Transversal': 2,\n",
       " 'Transpose': 2,\n",
       " 'Transitive Closure': 2,\n",
       " 'Bottom': 2,\n",
       " 'Valid': 2,\n",
       " 'Bridge': 2,\n",
       " 'Unity': 2,\n",
       " 'Cancellable': 2,\n",
       " 'Disconnected': 2,\n",
       " 'Top': 2,\n",
       " 'Tensor Product': 2,\n",
       " 'Vanishing Ideal': 2,\n",
       " 'Alternative': 2,\n",
       " 'Alternant': 2,\n",
       " 'Wavelength': 2,\n",
       " 'Tableau Proof': 2,\n",
       " 'Codomain': 2,\n",
       " 'Alphabet': 2,\n",
       " 'Metrizable': 2,\n",
       " 'Semimajor Axis': 2,\n",
       " 'Discontinuous': 2,\n",
       " 'Identity': 2,\n",
       " 'Interior Angle': 2,\n",
       " 'Inertia': 2,\n",
       " 'Inconsistent': 2,\n",
       " 'Pitch': 2,\n",
       " 'Improper': 2,\n",
       " 'Image Set': 2,\n",
       " 'Grade': 2,\n",
       " 'Dispersion': 2,\n",
       " 'Prime Element': 2,\n",
       " 'Prime Ideal': 2,\n",
       " 'Galois Group': 2,\n",
       " 'Primitive Root': 2,\n",
       " 'Fréchet Space': 2,\n",
       " 'Principal Ideal': 2,\n",
       " 'Intersection': 2,\n",
       " 'Parity': 2,\n",
       " 'Involution': 2,\n",
       " 'Pair': 2,\n",
       " 'Oscillation': 2,\n",
       " 'Orthogonal Complement': 2,\n",
       " 'Isotropy': 2,\n",
       " 'Lattice': 2,\n",
       " 'Leading Coefficient': 2,\n",
       " 'One-to-One': 2,\n",
       " 'Letter': 2,\n",
       " 'Like': 2,\n",
       " 'Linear Algebra': 2,\n",
       " 'Linear Form': 2,\n",
       " 'Negation': 2,\n",
       " 'Name': 2,\n",
       " 'Maximal Ideal': 2,\n",
       " 'Frequency Curve': 2,\n",
       " 'Formula': 2,\n",
       " 'Pseudoprime': 2,\n",
       " 'Rotation': 2,\n",
       " 'Shear': 2,\n",
       " 'Distributive': 2,\n",
       " 'Divergence': 2,\n",
       " 'Semiminor Axis': 2,\n",
       " 'Monomorphism': 2,\n",
       " 'Dominate': 2,\n",
       " 'Sector': 2,\n",
       " 'Dram': 2,\n",
       " 'Secant': 2,\n",
       " 'Screw': 2,\n",
       " 'Scalar Field': 2,\n",
       " 'Saddle Point': 2,\n",
       " 'Run': 2,\n",
       " 'Eccentricity': 2,\n",
       " 'Elevation': 2,\n",
       " 'Finite Type': 2,\n",
       " 'Empty Class': 2,\n",
       " 'Retraction': 2,\n",
       " 'Retract': 2,\n",
       " 'Resultant': 2,\n",
       " 'Epimorphism': 2,\n",
       " 'Reduction Formula': 2,\n",
       " 'Euler Characteristic': 2,\n",
       " 'Realization': 2,\n",
       " 'Exterior Angle': 2,\n",
       " 'Rational': 2,\n",
       " 'Rank Function': 2,\n",
       " 'Extraction of Root': 2,\n",
       " 'Finitary': 2,\n",
       " 'Quadratic Form': 2,\n",
       " 'Zero Locus': 2}"
      ]
     },
     "execution_count": 16,
     "metadata": {},
     "output_type": "execute_result"
    }
   ],
   "source": [
    "term_cnt = dict(df_no_biased['term'].value_counts())\n",
    "term_cnt"
   ]
  },
  {
   "cell_type": "code",
   "execution_count": 17,
   "id": "98135955-ac8c-45fe-b65f-fd886483d8ac",
   "metadata": {
    "tags": []
   },
   "outputs": [],
   "source": [
    "df_no_biased = df_no_biased.drop(df_no_biased[df_no_biased['term']=='Period'].index)"
   ]
  },
  {
   "cell_type": "code",
   "execution_count": 18,
   "id": "c28c0a72-63db-4c2c-bba9-61dbb0d79a6e",
   "metadata": {
    "tags": []
   },
   "outputs": [],
   "source": [
    "def_set = set(df_no_biased[\"plain_text_definition\"])\n",
    "pkl_vars(def_set, \"data/vars/def_set.pkl\")\n",
    "\n",
    "title_set = set(df_no_biased[\"def_page_title\"])\n",
    "pkl_vars(title_set, \"data/vars/title_set.pkl\")"
   ]
  },
  {
   "cell_type": "code",
   "execution_count": 19,
   "id": "b2dcea42-878c-4b22-b7d7-a955c6c88908",
   "metadata": {
    "tags": []
   },
   "outputs": [],
   "source": [
    "parsed_disamb_list = []\n",
    "for key, group in df_no_biased.groupby(\"term\"):\n",
    "    items = group[[\"plain_text_definition\", \"def_page_title\"]].to_dict(orient=\"records\")\n",
    "    parsed_disamb_list.append({\"term\": key, \"def_item_list\": items})"
   ]
  },
  {
   "cell_type": "code",
   "execution_count": 20,
   "id": "4bbbec8e-b5fe-4724-8963-0445730d9d08",
   "metadata": {
    "tags": []
   },
   "outputs": [],
   "source": [
    "pkl_vars(parsed_disamb_list,\"data/vars/parsed_disamb_list_without===_without_bias.pkl\")"
   ]
  },
  {
   "cell_type": "code",
   "execution_count": 22,
   "id": "d6ec2a9e-6897-4685-889e-069ffddc3478",
   "metadata": {
    "tags": []
   },
   "outputs": [
    {
     "data": {
      "text/plain": [
       "365"
      ]
     },
     "execution_count": 22,
     "metadata": {},
     "output_type": "execute_result"
    }
   ],
   "source": [
    "len(parsed_disamb_list)"
   ]
  },
  {
   "cell_type": "markdown",
   "id": "7fe4146d-3dbc-46c0-877c-610d308dab3a",
   "metadata": {},
   "source": [
    "### train test split"
   ]
  },
  {
   "cell_type": "code",
   "execution_count": 5,
   "id": "8b9ff774-1c8e-4882-be45-0b2369d3c283",
   "metadata": {
    "tags": []
   },
   "outputs": [],
   "source": [
    "parsed_disamb_list = reload_vars(\"data/vars/parsed_disamb_list_without===_without_bias.pkl\")"
   ]
  },
  {
   "cell_type": "code",
   "execution_count": 71,
   "id": "5cfa4ad2-ecbc-406e-9ea8-92349e556a9f",
   "metadata": {
    "tags": []
   },
   "outputs": [],
   "source": [
    "#sanitary check\n",
    "for item in parsed_disamb_list:\n",
    "    if len(item['def_item_list']) < 2:\n",
    "        print(iterm['term'])"
   ]
  },
  {
   "cell_type": "code",
   "execution_count": 72,
   "id": "9414c660-e4da-49af-8fa1-7d31f204130c",
   "metadata": {
    "tags": []
   },
   "outputs": [
    {
     "data": {
      "text/plain": [
       "297"
      ]
     },
     "execution_count": 72,
     "metadata": {},
     "output_type": "execute_result"
    }
   ],
   "source": [
    "import random\n",
    "random.shuffle(parsed_disamb_list)\n",
    "test_disamb_list_new_term = parsed_disamb_list[:68] # int(0.2 * len(parsed_disamb_list)) = 68\n",
    "rest_disamb_list = parsed_disamb_list[68:]\n",
    "len(rest_disamb_list)"
   ]
  },
  {
   "cell_type": "code",
   "execution_count": 73,
   "id": "4101a17d-1469-4a6c-b6be-6e1ffda45aed",
   "metadata": {
    "tags": []
   },
   "outputs": [],
   "source": [
    "def flatten_def_disamb_list(disamb_list):\n",
    "    flattened_dd_list = []\n",
    "    for li in disamb_list:\n",
    "        for def_item in li['def_item_list']:\n",
    "            data = {\n",
    "                'title': def_item['def_page_title'],\n",
    "                'term': li['term'],\n",
    "                'definition': def_item['plain_text_definition'],\n",
    "                #'def_page_title': def_item['title'],\n",
    "                #'categories': def_item['categories']\n",
    "            }\n",
    "            flattened_dd_list.append(data)\n",
    "    return flattened_dd_list"
   ]
  },
  {
   "cell_type": "code",
   "execution_count": 74,
   "id": "05699a29-a176-4696-83b6-a203ea24f021",
   "metadata": {
    "tags": []
   },
   "outputs": [
    {
     "data": {
      "text/plain": [
       "(297, 1158, 68, 462)"
      ]
     },
     "execution_count": 74,
     "metadata": {},
     "output_type": "execute_result"
    }
   ],
   "source": [
    "# split again for unseen candidates to known terms \n",
    "train_disamb_list = []\n",
    "test_disamb_list_new_candi = []\n",
    "\n",
    "for item in rest_disamb_list:\n",
    "    term = item['term']\n",
    "    def_items = item['def_item_list']\n",
    "    \n",
    "    if len(def_items) > 6:\n",
    "        # Split into the first two and the rest\n",
    "        train_disamb_list.append({'term': term, 'def_item_list': def_items[:6]})\n",
    "        test_disamb_list_new_candi.append({'term': term, 'def_item_list': def_items[6:]})\n",
    "    else:\n",
    "        # Add to list1 as is (assuming all def_item_list here have >= 2 items)\n",
    "        train_disamb_list.append(item)\n",
    "\n",
    "len(train_disamb_list), len(flatten_def_disamb_list(train_disamb_list)), len(test_disamb_list_new_candi), len(flatten_def_disamb_list(test_disamb_list_new_candi))"
   ]
  },
  {
   "cell_type": "code",
   "execution_count": 75,
   "id": "ceb267f9-592c-4884-a3b7-9d1bb214cb96",
   "metadata": {
    "tags": []
   },
   "outputs": [
    {
     "data": {
      "text/plain": [
       "(68, 364)"
      ]
     },
     "execution_count": 75,
     "metadata": {},
     "output_type": "execute_result"
    }
   ],
   "source": [
    "len(test_disamb_list_new_term), len(flatten_def_disamb_list(test_disamb_list_new_term)),"
   ]
  },
  {
   "cell_type": "code",
   "execution_count": 76,
   "id": "b0ffd6de-7973-465f-aed1-ee13accfa172",
   "metadata": {
    "tags": []
   },
   "outputs": [],
   "source": [
    "pkl_vars(train_disamb_list, 'data/vars/train_disamb_list.pkl')\n",
    "pkl_vars(test_disamb_list_new_candi, 'data/vars/test_disamb_list_new_candi.pkl')\n",
    "pkl_vars(test_disamb_list_new_term, 'data/vars/test_disamb_list_new_term.pkl')"
   ]
  },
  {
   "cell_type": "code",
   "execution_count": 80,
   "id": "01020a1b-e172-427b-ad77-a7b9fc35ab63",
   "metadata": {
    "tags": []
   },
   "outputs": [
    {
     "data": {
      "text/plain": [
       "364"
      ]
     },
     "execution_count": 80,
     "metadata": {},
     "output_type": "execute_result"
    }
   ],
   "source": [
    "flattened_test_new_term_disam_list = flatten_def_disamb_list(test_disamb_list_new_term)\n",
    "len(flattened_test_new_term_disam_list)"
   ]
  },
  {
   "cell_type": "code",
   "execution_count": 83,
   "id": "7b89bb6e-96f0-4540-931d-7a18cb83b691",
   "metadata": {
    "tags": []
   },
   "outputs": [
    {
     "data": {
      "text/plain": [
       "462"
      ]
     },
     "execution_count": 83,
     "metadata": {},
     "output_type": "execute_result"
    }
   ],
   "source": [
    "flattened_test_new_candi_disam_list = flatten_def_disamb_list(test_disamb_list_new_candi)\n",
    "len(flattened_test_new_candi_disam_list)"
   ]
  },
  {
   "cell_type": "code",
   "execution_count": 81,
   "id": "ee2345a9-d713-4ad0-bb59-41109b6ad7d4",
   "metadata": {
    "tags": []
   },
   "outputs": [
    {
     "data": {
      "text/plain": [
       "1158"
      ]
     },
     "execution_count": 81,
     "metadata": {},
     "output_type": "execute_result"
    }
   ],
   "source": [
    "flattened_train_disamb_list = flatten_def_disamb_list(train_disamb_list)\n",
    "len(flattened_train_disamb_list)"
   ]
  },
  {
   "cell_type": "code",
   "execution_count": 84,
   "id": "770656ff-614e-4968-a3e0-442c776ad60a",
   "metadata": {
    "tags": []
   },
   "outputs": [],
   "source": [
    "pkl_vars(flattened_train_disamb_list, 'data/vars/flattened_train_disamb_list.pkl')"
   ]
  },
  {
   "cell_type": "code",
   "execution_count": 85,
   "id": "b35d897a-1249-478e-91e8-ad4e9d7d3b1a",
   "metadata": {
    "tags": []
   },
   "outputs": [],
   "source": [
    "pkl_vars(flattened_test_new_candi_disam_list, 'data/vars/flattened_test_new_candi_disam_list.pkl')"
   ]
  },
  {
   "cell_type": "code",
   "execution_count": 86,
   "id": "dbe0f733-359f-4dd9-98fd-f92dc06a2c4d",
   "metadata": {
    "tags": []
   },
   "outputs": [],
   "source": [
    "pkl_vars(flattened_test_new_term_disam_list, 'data/vars/flattened_test_new_term_disam_list.pkl')"
   ]
  },
  {
   "cell_type": "code",
   "execution_count": 87,
   "id": "c74d668c-e146-429e-af07-c879b2e258f2",
   "metadata": {
    "tags": []
   },
   "outputs": [],
   "source": [
    "pkl_vars(flattened_test_new_candi_disam_list[:9], \"data/vars/flattened_9_test_sample_list.pkl\")"
   ]
  },
  {
   "cell_type": "code",
   "execution_count": 88,
   "id": "72e6e7dd-a2b9-421b-8d7d-161345c8ac88",
   "metadata": {
    "tags": []
   },
   "outputs": [],
   "source": [
    "df_flattened_train_disam_list = pd.DataFrame(flattened_train_disamb_list)\n",
    "df_flattened_train_disam_list.to_csv(\"data/SP_CLS/df_flattened_train_disam_list.csv\", index=False)"
   ]
  },
  {
   "cell_type": "code",
   "execution_count": 89,
   "id": "92f247e6-717f-4119-aa60-92d8dd2b7479",
   "metadata": {
    "tags": []
   },
   "outputs": [],
   "source": [
    "df_flattened_test_new_term_disam_list = pd.DataFrame(flattened_test_new_term_disam_list)\n",
    "df_flattened_test_new_term_disam_list.to_csv(\"data/SP_CLS/df_flattened_test_new_term_disam_list.csv\", index=False)"
   ]
  },
  {
   "cell_type": "code",
   "execution_count": 90,
   "id": "35550c09-5280-44ba-8f6c-42c7892ee010",
   "metadata": {
    "tags": []
   },
   "outputs": [],
   "source": [
    "df_flattened_test_new_candi_disam_list = pd.DataFrame(flattened_test_new_candi_disam_list)\n",
    "df_flattened_test_new_candi_disam_list.to_csv(\"data/SP_CLS/df_flattened_test_new_candi_disam_list.csv\", index=False)"
   ]
  },
  {
   "cell_type": "code",
   "execution_count": 91,
   "id": "28aabdf2-443f-45ca-93f7-94899c23f50a",
   "metadata": {
    "tags": []
   },
   "outputs": [],
   "source": [
    "df_flattened_test_new_candi_disam_list[:9].to_csv(\"data/SP_CLS/9_test_samples.csv\", index=False)\n",
    "df_flattened_train_disam_list[:5].to_csv(\"data/SP_CLS/5_samples.csv\", index=False)"
   ]
  },
  {
   "cell_type": "markdown",
   "id": "0ede9e97-3b9d-4870-a7d2-4295fe6fe18d",
   "metadata": {},
   "source": [
    "#### make a smaller train set"
   ]
  },
  {
   "cell_type": "code",
   "execution_count": 6,
   "id": "7a46042f-aa20-4b0b-873c-e16aea44f7e9",
   "metadata": {
    "tags": []
   },
   "outputs": [],
   "source": [
    "flattened_train_disamb_list = reload_vars(\"data/vars/flattened_train_disamb_list.pkl\")\n",
    "flattened_test_new_candi_disam_list = reload_vars('data/vars/flattened_test_new_candi_disam_list.pkl')"
   ]
  },
  {
   "cell_type": "code",
   "execution_count": 15,
   "id": "2b79e1ce-0b10-4253-bec0-b22f87668bad",
   "metadata": {
    "tags": []
   },
   "outputs": [
    {
     "data": {
      "text/plain": [
       "68"
      ]
     },
     "execution_count": 15,
     "metadata": {},
     "output_type": "execute_result"
    }
   ],
   "source": [
    "new_candi_terms = set([e['term'] for e in flattened_test_new_candi_disam_list])\n",
    "len(new_candi_terms)"
   ]
  },
  {
   "cell_type": "code",
   "execution_count": 16,
   "id": "f7cba084-91c6-4355-a151-ab8df120221c",
   "metadata": {
    "tags": []
   },
   "outputs": [
    {
     "data": {
      "text/plain": [
       "408"
      ]
     },
     "execution_count": 16,
     "metadata": {},
     "output_type": "execute_result"
    }
   ],
   "source": [
    "flattened_train_68_disamb_list = [e for e in flattened_train_disamb_list if e['term'] in new_candi_terms]\n",
    "len(flattened_train_68_disamb_list)"
   ]
  },
  {
   "cell_type": "code",
   "execution_count": 17,
   "id": "f9c42f2b-d00d-45c6-8802-3908e3bdd635",
   "metadata": {
    "tags": []
   },
   "outputs": [],
   "source": [
    "df_flattened_train_68_disam_list = pd.DataFrame(flattened_train_68_disamb_list)\n",
    "df_flattened_train_68_disam_list.to_csv(\"data/SP_CLS/df_flattened_train_68_disam_list.csv\", index=False)\n",
    "pkl_vars(flattened_train_68_disamb_list, 'data/vars/flattened_train_68_disamb_list.pkl')"
   ]
  },
  {
   "cell_type": "markdown",
   "id": "97b8c70b-d4fd-4949-b28e-22c2dbb78720",
   "metadata": {
    "tags": []
   },
   "source": [
    "### make  dict"
   ]
  },
  {
   "cell_type": "code",
   "execution_count": 78,
   "id": "c649ee5c-8271-4f7f-99d5-e20ef9fb146f",
   "metadata": {
    "tags": []
   },
   "outputs": [
    {
     "data": {
      "text/plain": [
       "365"
      ]
     },
     "execution_count": 78,
     "metadata": {},
     "output_type": "execute_result"
    }
   ],
   "source": [
    "# the kb is a dictionary of notion and definition page titles, each title contains the term and its domain\n",
    "def make_def_kb(def_disamb_list):\n",
    "    def_kb = dict()\n",
    "    for x in def_disamb_list:\n",
    "        term = x['term']\n",
    "        titles = [def_item['def_page_title'] for def_item in x['def_item_list']]\n",
    "        def_kb[term] = titles\n",
    "    return def_kb\n",
    "\n",
    "def_disamb_kb = make_def_kb(parsed_disamb_list)\n",
    "len(def_disamb_kb)"
   ]
  },
  {
   "cell_type": "code",
   "execution_count": 79,
   "id": "10ca8d87-4c71-4c3b-80f2-7e8cc81cbb7e",
   "metadata": {
    "tags": []
   },
   "outputs": [],
   "source": [
    "pkl_vars(def_disamb_kb, 'data/vars/def_disamb_kb.pkl')"
   ]
  },
  {
   "cell_type": "markdown",
   "id": "f1640513-2792-4950-a0a7-55c907cbbe65",
   "metadata": {
    "jp-MarkdownHeadingCollapsed": true,
    "tags": []
   },
   "source": [
    "### GLADIS data samples"
   ]
  },
  {
   "cell_type": "raw",
   "id": "911837b6-bc6a-4fa0-b561-85d32ca924fa",
   "metadata": {},
   "source": [
    "# eval/test_set/bio_umls_test.json\n",
    "{\"index\": 28, \"short_term\": \"PEP\", \"long_term\": \"pre-ejection period\", \"type\": \"Biomedical Concept\", \"tokens\": [\"With\", \"regard\", \"to\", \"ANS\", \"activity\", \",\", \"positive\", \"direct\", \"effects\", \"on\", \"externalizing\", \"behaviour\", \"problems\", \"were\", \"present\", \"for\", \"HR\", \"(\", \"standardized\", \"\\u03b2\", \"=\", \"0.306\", \",\", \"p\", \"=\", \"0.020\", \")\", \"and\", \"PEP\", \"(\", \"standardized\", \"\\u03b2\", \"=\", \"-0.323\", \",\", \"p\", \"=\", \"0.031\", \")\", \",\", \"though\", \"not\", \"for\", \"RSA\", \".\"]},\n",
    "{}"
   ]
  },
  {
   "cell_type": "raw",
   "id": "55493662-e891-4718-9cbe-b49c3b672dd1",
   "metadata": {},
   "source": [
    "# eval/dict/bio_umls_dict.json\n",
    "\n",
    "{\n",
    "    \"PEP\": [ /*short term*/\n",
    "        [\n",
    "            \"pepleomycin\",  /*long term*/\n",
    "            1\n",
    "        ],\n",
    "        \n",
    "        ...\n",
    "        \n",
    "        [\n",
    "            \"pre-ejection period\", /*long term*/\n",
    "            1\n",
    "        ]\n",
    "    ],\n",
    "    ...\n",
    "    \n",
    "    \"TLR2\": [ /*short term*/\n",
    "        [\n",
    "            \"Toll-like receptor 2\",\n",
    "            1\n",
    "        ]\n",
    "    ],\n",
    "}"
   ]
  },
  {
   "cell_type": "raw",
   "id": "3e0ce64e-48b6-4fc2-a530-77e92a265d14",
   "metadata": {},
   "source": [
    "#input/dataset/biomedical/test.json\n",
    "\n",
    "{\"index\": 28, \"short_term\": \"PEP\", \"long_term\": \"pre-ejection period\", \"type\": \"Biomedical Concept\", \"tokens\": [\"With\", \"regard\", \"to\", \"ANS\", \"activity\", \",\", \"positive\", \"direct\", \"effects\", \"on\", \"externalizing\", \"behaviour\", \"problems\", \"were\", \"present\", \"for\", \"HR\", \"(\", \"standardized\", \"\\u03b2\", \"=\", \"0.306\", \",\", \"p\", \"=\", \"0.020\", \")\", \"and\", \"PEP\", \"(\", \"standardized\", \"\\u03b2\", \"=\", \"-0.323\", \",\", \"p\", \"=\", \"0.031\", \")\", \",\", \"though\", \"not\", \"for\", \"RSA\", \".\"]}\n",
    "{\"index\": 17, \"short_term\": \"CBF\", \"long_term\": \"cerebral blood flow\", \"type\": \"Biomedical Concept\", \"tokens\": [\"The\", \"reconstructed\", \"volume\", \"was\", \"then\", \"compared\", \"with\", \"corresponding\", \"magnetic\", \"resonance\", \"images\", \"demonstrating\", \"that\", \"the\", \"volume\", \"of\", \"reduced\", \"CBF\", \"agrees\", \"with\", \"the\", \"infarct\", \"zone\", \"at\", \"twenty-four\", \"hours\", \".\"]}\n"
   ]
  },
  {
   "cell_type": "raw",
   "id": "f6d50d53-93dd-4406-933f-5060df24ab4f",
   "metadata": {},
   "source": [
    "#input/pre_train_sample.txt\n",
    "\n",
    "PEP\tprospective early pregnancy\tMethods In a PEP cohort (2016-2017), 203 pregnant women were recruited from 4 to 8 weeks' gestation.\n",
    "PEP\tPoverty and Economic Policy\tAbout 1000 children under the age of 5 die everyREPUBLIC OF KENYA MINISTRY OF STATE FOR PLANNING, NATIONAL DEVELOPMENT AND VISION 2030 8 TH PEP RESEARCH NETWORK CONFERENCE IN DAKAR, SENEGAL PAPER ON THE ACTUAL USES OF CBMSWorld Food Programme capacity building support to Disaster Preparedness and Response in the Philippines Strengthening Food Security through Disaster Risk Reduction January 2013 Disaster Preparedness andDepartment of Public Service Vote Number: 093 Controlling Officer: 1."
   ]
  },
  {
   "cell_type": "markdown",
   "id": "aada8348-8361-4a4a-8795-7e7becd6e3b9",
   "metadata": {},
   "source": [
    "# defining DefDisambiguationBERT"
   ]
  },
  {
   "cell_type": "markdown",
   "id": "4c93ffce-6875-4339-8e79-98266bb1638d",
   "metadata": {},
   "source": [
    "## model for next sentence prediction "
   ]
  },
  {
   "cell_type": "code",
   "execution_count": 5,
   "id": "272b769e-13fe-4d70-b199-caba60ac6e97",
   "metadata": {},
   "outputs": [],
   "source": [
    "#Copied from https://github.com/tigerchen52/GLADIS/blob/master/source/acrobert.py\n",
    "def_disamb_kb = reload_vars('data/vars/def_disamb_kb.pkl')\n",
    "\n",
    "class DefDisambiguationBERT(nn.Module):\n",
    "    #margin: the margin value lambda in the triplet loss'\n",
    "    def __init__(self, model_name=\"bert-base-uncased\", from_tf=False, device='cpu', margin=0.2):\n",
    "        super().__init__()\n",
    "        self.model_name=model_name\n",
    "        self.device = device\n",
    "        self.model = BertForNextSentencePrediction.from_pretrained(model_name, from_tf=from_tf)\n",
    "        self.tokenizer = AutoTokenizer.from_pretrained(model_name)\n",
    "        self.margin = margin\n",
    "\n",
    "    def forward(self, pos_x, masked_pos_x=None, neg_x=None, train=True):\n",
    "        loss, scores = 0.0, 0.0\n",
    "        if train:\n",
    "            pos_samples = self.tokenizer(pos_x, padding=True, return_tensors='pt', truncation=True)[\"input_ids\"]\n",
    "            neg_x = self.tokenizer(neg_x, padding=True, return_tensors='pt', truncation=True)[\"input_ids\"]\n",
    "\n",
    "            pos_samples = pos_samples.to(self.device)\n",
    "            neg_x = neg_x.to(self.device)\n",
    "\n",
    "            pos_outputs = self.model(pos_samples).logits\n",
    "            neg_outputs = self.model(neg_x).logits\n",
    "            pos_scores = 1 - nn.Softmax(dim=1)(pos_outputs)[:, 0]\n",
    "            neg_scores = 1 - nn.Softmax(dim=1)(neg_outputs)[:, 0]\n",
    "            loss = triplet_loss(pos_scores, neg_scores, self.margin)\n",
    "\n",
    "        else:\n",
    "            samples = self.tokenizer(pos_x, padding=True, return_tensors='pt', truncation=True)[\"input_ids\"]\n",
    "            samples = samples.to(self.device)\n",
    "            outputs = self.model(samples).logits\n",
    "            scores = nn.Softmax(dim=1)(outputs)[:, 0]\n",
    "\n",
    "\n",
    "        return loss if train else scores\n",
    "    \n",
    "        \n",
    "def triplet_loss(pos_score, neg_score, margin=0.2):\n",
    "    losses = torch.relu(pos_score - neg_score + margin)\n",
    "    return losses.mean()\n",
    "\n",
    "\n",
    "def softmax(elements):\n",
    "    total = sum([exp(e) for e in elements])\n",
    "    return exp(elements[0]) / total\n",
    "\n",
    "# todo: cache pairwised nsp scores...\n",
    "def cal_nsp_score(model, tokenizer, titles, definition, batch_size):\n",
    "    ps = list()\n",
    "    for index in range(0, len(titles), batch_size):\n",
    "        batch_tt = titles[index:index + batch_size]\n",
    "        batch_df = [definition] * len(batch_tt)\n",
    "        encoding = tokenizer(batch_tt, batch_df, return_tensors=\"pt\", padding=True, truncation=True, max_length=400)#.to(device)\n",
    "        outputs = model(**encoding)\n",
    "        logits = outputs.logits#.cpu().detach().numpy()\n",
    "        p = [softmax(lg) for lg in logits]\n",
    "        ps.extend(p)\n",
    "    return ps"
   ]
  },
  {
   "cell_type": "markdown",
   "id": "a72468da-0876-4ee4-862e-aad688a7f3fb",
   "metadata": {},
   "source": [
    "## model for embedding similarity"
   ]
  },
  {
   "cell_type": "code",
   "execution_count": 6,
   "id": "bfbc297b-b6ae-4c28-ad54-6220c6c254f4",
   "metadata": {
    "tags": []
   },
   "outputs": [],
   "source": [
    "class SentenceEncoderModel(nn.Module):\n",
    "    def __init__(self, model_name=\"bert-base-uncased\", #check_point_path=None,\n",
    "                 from_tf=False, device='cpu'):\n",
    "        super().__init__()\n",
    "        self.model_name=model_name\n",
    "        self.device = device\n",
    "        self.model = AutoModel.from_pretrained(model_name, from_tf=from_tf)\n",
    "        self.tokenizer = AutoTokenizer.from_pretrained(model_name)\n",
    "        \n",
    "        # cache embeddings to  avoid repeated calculations\n",
    "        def_emb_dict_path = f\"data/vars/{model_name.split('/')[-1]}_def_emb_dict.pkl\"            \n",
    "        if not os.path.isfile(def_emb_dict_path):\n",
    "            defs = list(reload_vars(\"data/vars/def_set.pkl\"))\n",
    "            def_embs = get_embeddings(self.model, self.tokenizer, defs)\n",
    "            def_emb_dict = dict()\n",
    "            for index, definition in enumerate(defs):\n",
    "                def_emb_dict[definition] = def_embs[index]\n",
    "            pkl_vars(def_emb_dict, def_emb_dict_path)\n",
    "        else:\n",
    "            def_emb_dict = reload_vars(def_emb_dict_path)           \n",
    "        self.def_emb_dict = def_emb_dict\n",
    "\n",
    "        title_emb_dict_path = f\"data/vars/{model_name.split('/')[-1]}_title_emb_dict_path.pkl\"\n",
    "        if not os.path.isfile(title_emb_dict_path):\n",
    "            titles = list(reload_vars(\"data/vars/title_set.pkl\"))\n",
    "            tt_embs = get_embeddings(self.model, self.tokenizer, titles)\n",
    "            title_emb_dict = dict()\n",
    "            for index, tt in enumerate(titles):\n",
    "                title_emb_dict[tt] = tt_embs[index]\n",
    "            pkl_vars(title_emb_dict, title_emb_dict_path)\n",
    "        else:\n",
    "            title_emb_dict = reload_vars(title_emb_dict_path)\n",
    "        self.title_emb_dict = title_emb_dict\n",
    "        \n",
    "        \n",
    "#Mean Pooling - Take attention mask into account for correct averaging\n",
    "def mean_pooling(model_output, attention_mask):\n",
    "    token_embeddings = model_output[0] #First element of model_output contains all token embeddings\n",
    "    input_mask_expanded = attention_mask.unsqueeze(-1).expand(token_embeddings.size()).float()\n",
    "    return torch.sum(token_embeddings * input_mask_expanded, 1) / torch.clamp(input_mask_expanded.sum(1), min=1e-9)\n",
    "\n",
    "\n",
    "def get_embeddings(model, tokenizer, sentences):\n",
    "    batch_tokenizer_output = tokenizer(\n",
    "        sentences,\n",
    "        max_length=400,\n",
    "        padding=\"max_length\",\n",
    "        truncation=True,\n",
    "        return_tensors=\"pt\"\n",
    "    )\n",
    "    with torch.no_grad():\n",
    "        batch_model_output = model(**batch_tokenizer_output, output_hidden_states=True)\n",
    "    token_embeddings = batch_model_output.hidden_states[-1]\n",
    "    return mean_pooling(batch_model_output, batch_tokenizer_output.attention_mask).tolist() # convert .tolist() to save storage spaces\n",
    "        \n",
    "\n",
    "def cal_sim_score(sem_model, titles, definition):\n",
    "    if definition in sem_model.def_emb_dict:\n",
    "        def_emb = sem_model.def_emb_dict[definition]\n",
    "    else:\n",
    "        def_emb = get_embeddings(sem_model.model, sem_model.tokenizer, [definition])[0]\n",
    "\n",
    "    tt_embs = []\n",
    "    for tt in titles: \n",
    "        if tt in sem_model.title_emb_dict:\n",
    "            tt_emb = sem_model.title_emb_dict[tt]\n",
    "        else:\n",
    "            tt_emb = get_embeddings(sem_model.model, sem_model.tokenizer, [tt])[0]\n",
    "        tt_embs.append(tt_emb)\n",
    "    \n",
    "    ps = [F.cosine_similarity(torch.Tensor(def_emb), torch.Tensor(tt_emb), dim = -1) for tt_emb in tt_embs]\n",
    "    return ps"
   ]
  },
  {
   "cell_type": "markdown",
   "id": "5e92fef4-4406-44e1-a93b-c0c6507a8270",
   "metadata": {
    "tags": []
   },
   "source": [
    "## utils"
   ]
  },
  {
   "cell_type": "code",
   "execution_count": 7,
   "id": "3ecbe34c-031a-46c8-ac16-0899cd0e43e1",
   "metadata": {
    "tags": []
   },
   "outputs": [],
   "source": [
    "# adpated from https://github.com/tigerchen52/GLADIS/blob/master/source/utils.py \n",
    "\n",
    "#def_disamb_kb = reload_vars('data/vars/def_disamb_kb.pkl')\n",
    "def get_candidate(def_disamb_kb, term):\n",
    "    return def_disamb_kb[term]\n",
    "\n",
    "class TextData(Dataset):\n",
    "    def __init__(self, data):\n",
    "        self.all_term = data['term']\n",
    "        self.all_title = data['title']\n",
    "        self.all_definition = data['definition']\n",
    "\n",
    "    def __len__(self):\n",
    "        return len(self.all_term)\n",
    "\n",
    "    def __getitem__(self, idx):\n",
    "        return self.all_term[idx], self.all_title[idx], self.all_definition[idx]\n",
    "\n",
    "def load_pretrain(train_data_path='data/SP_CLS/df_flattened_train_disam_list.csv'):\n",
    "    flattened_train_disamb_list = pd.read_csv(train_data_path)\n",
    "    all_term = list(flattened_train_disamb_list['term'])\n",
    "    all_title =  list(flattened_train_disamb_list['title'])\n",
    "    all_definition = list(flattened_train_disamb_list['definition'])\n",
    "    return {'term': all_term, 'title': all_title, 'definition': all_definition}\n",
    "\n",
    "class DefDisambiguationBertLoader():\n",
    "    def __init__(self, batch_size, tokenizer, kb, shuffle=True, masked_prob=0.15, hard_num=2):\n",
    "        self.batch_size = batch_size\n",
    "        self.shuffle = shuffle\n",
    "        self.tokenizer = tokenizer\n",
    "        self.masked_prob = masked_prob\n",
    "        self.hard_num = hard_num\n",
    "        self.kb = kb\n",
    "        self.all_titles = list()\n",
    "        for vs in self.kb.values():\n",
    "            self.all_titles.extend(list(vs))\n",
    "\n",
    "    def select_negative(self, target):\n",
    "        selected, flag, max_time = None, True, 10\n",
    "        if target in self.kb:\n",
    "            title_candidates = self.kb[target]\n",
    "            if len(title_candidates) == 1:\n",
    "                title_candidates = self.all_titles\n",
    "        else:\n",
    "            title_candidates = self.all_titles\n",
    "        attempt = 0\n",
    "        while flag and attempt < max_time:\n",
    "            attempt += 1\n",
    "            selected = random.choice(title_candidates)\n",
    "            if selected != target:\n",
    "                flag = False\n",
    "        if attempt == max_time:\n",
    "            selected = random.choice(self.all_titles)\n",
    "        return selected\n",
    "\n",
    "    def collate_fn(self, batch_data):\n",
    "        batch_term, batch_title, batch_definition = list(zip(*batch_data))\n",
    "        pos_samples, neg_samples, masked_pos_samples = list(),  list(), list()\n",
    "        for _ in range(self.hard_num):\n",
    "            temp_pos_samples = [batch_title[index] + ' [SEP] ' + batch_definition[index] for index in range(len(batch_title))]\n",
    "            neg_titles = [self.select_negative(t) for t in batch_term]\n",
    "            temp_neg_samples = [neg_titles[index] + ' [SEP] ' + batch_definition[index] for index in range(len(batch_title))]\n",
    "            temp_masked_pos_samples = [batch_title[index] + ' [SEP] ' + batch_definition[index] for index in range(len(batch_title))]\n",
    "\n",
    "            pos_samples.extend(temp_pos_samples)\n",
    "            neg_samples.extend(temp_neg_samples)\n",
    "            masked_pos_samples.extend(temp_masked_pos_samples)\n",
    "        return pos_samples,  masked_pos_samples,  neg_samples\n",
    "\n",
    "    def __call__(self, data_path):\n",
    "        dataset = load_pretrain(train_data_path=data_path)\n",
    "        logger.info('loaded dataset, sample = {a}'.format(a=len(dataset['term'])))\n",
    "        dataset = TextData(dataset)\n",
    "        train_iterator = DataLoader(dataset=dataset, batch_size=self.batch_size // (2 * self.hard_num), shuffle=self.shuffle,\n",
    "                                    collate_fn=self.collate_fn)\n",
    "        return train_iterator"
   ]
  },
  {
   "cell_type": "markdown",
   "id": "5e6f92f1-9a8f-495d-b316-c11756c25f82",
   "metadata": {},
   "source": [
    "## Sentence Pair CLS Training"
   ]
  },
  {
   "cell_type": "code",
   "execution_count": 8,
   "id": "89ccf6f8-1a59-459e-8707-5bd4c6ba3e79",
   "metadata": {
    "tags": []
   },
   "outputs": [],
   "source": [
    "def train_scp(model_name =\"bert-base-uncased\", device = device, batch_size = 16, kb = def_disamb_kb, from_tf= False, shuffle = True,\n",
    "         hard_neg_numbers = 2, train_data_path = 'data/SP_CLS/df_flattened_train_disam_list.csv',\n",
    "         lr=2e-5, lr_decay = 0.95, min_epoch_num=0, epoch_num = 30, loss_check_step =1, check_step = 1000, \n",
    "         output_model_path=\"trained_models/\" ):\n",
    "    \n",
    "    model = DefDisambiguationBERT(model_name= model_name, device=device,from_tf=from_tf)\n",
    "    \n",
    "    if 0!= min_epoch_num:\n",
    "        model_path = f\"{output_model_path}_{model.model_name.split('/')[-1]}_{min_epoch_num}_epoch.pt\"\n",
    "        model.load_state_dict(torch.load(model_path, map_location=device))\n",
    "        \n",
    "    model.to(device)\n",
    "    loader = DefDisambiguationBertLoader(batch_size, tokenizer=model.tokenizer, kb=kb, shuffle=shuffle, hard_num=hard_neg_numbers)\n",
    "\n",
    "    train_loader = loader(train_data_path)\n",
    "    trainable_num = sum(p.numel() for p in model.parameters() if p.requires_grad)\n",
    "    logger.info(trainable_num)\n",
    "    optimizer = optim.Adam(model.parameters(), lr=lr)\n",
    "    scheduler = lr_scheduler.ExponentialLR(optimizer, gamma=0.99)\n",
    "\n",
    "\n",
    "    max_f1, max_epoch = 0.0, 0\n",
    "    for e in range(min_epoch_num, epoch_num):\n",
    "        epoch_loss = 0\n",
    "        batch_num = 0\n",
    "\n",
    "        for pos_samples, masked_pos_samples, neg_samples in train_loader:\n",
    "            model.train()\n",
    "            optimizer.zero_grad()\n",
    "\n",
    "            if batch_num % loss_check_step == 0 and batch_num != 0:\n",
    "                logger.info('sample = {b}, loss = {a}'.format(a=epoch_loss / batch_num, b=batch_num * batch_size))\n",
    "\n",
    "            if batch_num % check_step == 0 and batch_num != 0:\n",
    "                for g in optimizer.param_groups:\n",
    "                    g['lr'] *= lr_decay\n",
    "            #if batch_num % check_step == 0 and batch_num != 0:\n",
    "            #    temp_path = output_model_path.format(a=str(e + 1) + '_' + str(batch_num))\n",
    "            #    torch.save(model.state_dict(), temp_path)\n",
    "            loss = model(pos_samples, masked_pos_samples, neg_samples)\n",
    "\n",
    "            # backward\n",
    "            loss.backward()\n",
    "            optimizer.step()\n",
    "            epoch_loss += loss.item()\n",
    "            batch_num += 1\n",
    "\n",
    "        scheduler.step()\n",
    "        temp_path = f\"{output_model_path}_{model.model_name.split('/')[-1]}_{e+1}_epoch.pt\"\n",
    "        logger.info('the pre-training finished, saving model, path = {a}'.format(a=temp_path))\n",
    "        torch.save(model.state_dict(), temp_path)\n",
    "    return max_f1, max_epoch\n"
   ]
  },
  {
   "cell_type": "code",
   "execution_count": 10,
   "id": "0ab61564-5069-43f7-bb4f-515c623c4731",
   "metadata": {
    "tags": []
   },
   "outputs": [
    {
     "name": "stdout",
     "output_type": "stream",
     "text": [
      "CPU times: user 7 µs, sys: 3 µs, total: 10 µs\n",
      "Wall time: 21.7 µs\n"
     ]
    }
   ],
   "source": [
    "%%time\n",
    "#train_scp(train_data_path=\"data/SP_CLS/5_samples.csv\", device=1, epoch_num = 3, batch_size=4) #,model_name=\"InriaValda/roberta-base_definiendum\")"
   ]
  },
  {
   "cell_type": "code",
   "execution_count": 21,
   "id": "a4668687-8c1f-4a40-b9e3-2b68ac993411",
   "metadata": {
    "tags": []
   },
   "outputs": [
    {
     "name": "stdout",
     "output_type": "stream",
     "text": [
      "Sat Mar  1 01:07:34 2025       \n",
      "+-----------------------------------------------------------------------------+\n",
      "| NVIDIA-SMI 510.39.01    Driver Version: 510.39.01    CUDA Version: 11.6     |\n",
      "|-------------------------------+----------------------+----------------------+\n",
      "| GPU  Name        Persistence-M| Bus-Id        Disp.A | Volatile Uncorr. ECC |\n",
      "| Fan  Temp  Perf  Pwr:Usage/Cap|         Memory-Usage | GPU-Util  Compute M. |\n",
      "|                               |                      |               MIG M. |\n",
      "|===============================+======================+======================|\n",
      "|   0  Tesla V100S-PCI...  On   | 00000000:21:00.0 Off |                    0 |\n",
      "| N/A   34C    P0    35W / 250W |  31859MiB / 32768MiB |      0%      Default |\n",
      "|                               |                      |                  N/A |\n",
      "+-------------------------------+----------------------+----------------------+\n",
      "|   1  Tesla V100S-PCI...  On   | 00000000:81:00.0 Off |                    0 |\n",
      "| N/A   34C    P0    35W / 250W |   1461MiB / 32768MiB |      0%      Default |\n",
      "|                               |                      |                  N/A |\n",
      "+-------------------------------+----------------------+----------------------+\n",
      "                                                                               \n",
      "+-----------------------------------------------------------------------------+\n",
      "| Processes:                                                                  |\n",
      "|  GPU   GI   CI        PID   Type   Process name                  GPU Memory |\n",
      "|        ID   ID                                                   Usage      |\n",
      "|=============================================================================|\n",
      "|    0   N/A  N/A   2423187      C                                   31855MiB |\n",
      "|    1   N/A  N/A   4090749      C                                    1457MiB |\n",
      "+-----------------------------------------------------------------------------+\n"
     ]
    }
   ],
   "source": [
    "!nvidia-smi"
   ]
  },
  {
   "cell_type": "code",
   "execution_count": 109,
   "id": "78b75a43-28d5-4f6f-a57f-14ef4d30ee64",
   "metadata": {
    "tags": []
   },
   "outputs": [
    {
     "name": "stdout",
     "output_type": "stream",
     "text": [
      "CPU times: user 2h 9min 33s, sys: 24min 10s, total: 2h 33min 44s\n",
      "Wall time: 2h 4min 9s\n"
     ]
    },
    {
     "data": {
      "text/plain": [
       "(0.0, 0)"
      ]
     },
     "execution_count": 109,
     "metadata": {},
     "output_type": "execute_result"
    }
   ],
   "source": [
    "%%time\n",
    "train_scp(train_data_path = 'data/SP_CLS/df_flattened_train_disam_list.csv', device=1, epoch_num = 100, batch_size=16, lr=1e-5)"
   ]
  },
  {
   "cell_type": "code",
   "execution_count": 22,
   "id": "8b661099-94c5-460d-aea6-dcc53ab61f22",
   "metadata": {
    "tags": []
   },
   "outputs": [
    {
     "name": "stdout",
     "output_type": "stream",
     "text": [
      "CPU times: user 1h 25min 33s, sys: 16min 21s, total: 1h 41min 54s\n",
      "Wall time: 1h 25min 3s\n"
     ]
    },
    {
     "data": {
      "text/plain": [
       "(0.0, 0)"
      ]
     },
     "execution_count": 22,
     "metadata": {},
     "output_type": "execute_result"
    }
   ],
   "source": [
    "%%time\n",
    "train_scp(model_name =\"bert-base-uncased\", device = device, batch_size = 16, kb = def_disamb_kb, from_tf= False, shuffle = True,\n",
    "         hard_neg_numbers = 2, train_data_path = 'data/SP_CLS/df_flattened_train_68_disam_list.csv',\n",
    "         lr=1e-5, epoch_num = 200, loss_check_step =10, check_step = 1000, \n",
    "         output_model_path=\"trained_models_with_less_data/\" )"
   ]
  },
  {
   "cell_type": "markdown",
   "id": "6824e627-f08f-4f97-a555-26299a706371",
   "metadata": {},
   "source": [
    "### continue nsp training from a check point"
   ]
  },
  {
   "cell_type": "code",
   "execution_count": 14,
   "id": "74548797-37ec-4cd9-ace1-f409a919f920",
   "metadata": {
    "tags": []
   },
   "outputs": [
    {
     "name": "stderr",
     "output_type": "stream",
     "text": [
      "/opt/conda/lib/python3.10/site-packages/huggingface_hub/file_download.py:1132: FutureWarning: `resume_download` is deprecated and will be removed in version 1.0.0. Downloads always resume when possible. If you want to force a new download, use `force_download=True`.\n",
      "  warnings.warn(\n"
     ]
    },
    {
     "name": "stdout",
     "output_type": "stream",
     "text": [
      "CPU times: user 3.8 s, sys: 1.32 s, total: 5.12 s\n",
      "Wall time: 2.87 s\n"
     ]
    },
    {
     "data": {
      "text/plain": [
       "(0.0, 0)"
      ]
     },
     "execution_count": 14,
     "metadata": {},
     "output_type": "execute_result"
    }
   ],
   "source": [
    "%%time\n",
    "train_scp(train_data_path = 'data/SP_CLS/5_samples.csv', min_epoch_num=100, epoch_num = 101, batch_size=16, lr=1e-5)"
   ]
  },
  {
   "cell_type": "markdown",
   "id": "dc9acdef-43b4-4f9d-971c-a72d1e2dc2e7",
   "metadata": {},
   "source": [
    "### fine-tune other models than bert-base (abandoned)"
   ]
  },
  {
   "cell_type": "code",
   "execution_count": null,
   "id": "290c9a6c-efed-494b-9ecc-fb0a6eb0fabc",
   "metadata": {
    "tags": []
   },
   "outputs": [
    {
     "name": "stderr",
     "output_type": "stream",
     "text": [
      "/opt/conda/lib/python3.10/site-packages/huggingface_hub/file_download.py:1132: FutureWarning: `resume_download` is deprecated and will be removed in version 1.0.0. Downloads always resume when possible. If you want to force a new download, use `force_download=True`.\n",
      "  warnings.warn(\n"
     ]
    }
   ],
   "source": [
    "%%time\n",
    "train_scp(train_data_path=\"data/SP_CLS/df_flattened_train_disam_list.csv\", epoch_num = 100, batch_size=16, lr=5e-6, model_name=\"InriaValda/roberta-base_definiendum\")"
   ]
  },
  {
   "cell_type": "code",
   "execution_count": 13,
   "id": "bba5f83c-9217-478a-88f8-100be1988c91",
   "metadata": {
    "tags": []
   },
   "outputs": [
    {
     "data": {
      "application/vnd.jupyter.widget-view+json": {
       "model_id": "c04776c15ab04318a94cde73a1ad2239",
       "version_major": 2,
       "version_minor": 0
      },
      "text/plain": [
       "vocab.json:   0%|          | 0.00/798k [00:00<?, ?B/s]"
      ]
     },
     "metadata": {},
     "output_type": "display_data"
    },
    {
     "data": {
      "application/vnd.jupyter.widget-view+json": {
       "model_id": "1eed81aa88af428c81431ff8d004dd43",
       "version_major": 2,
       "version_minor": 0
      },
      "text/plain": [
       "merges.txt:   0%|          | 0.00/456k [00:00<?, ?B/s]"
      ]
     },
     "metadata": {},
     "output_type": "display_data"
    }
   ],
   "source": [
    "definiendum_ddmodel = DefDisambiguationBERT(device=device,model_name=\"InriaValda/roberta-base_definiendum\")"
   ]
  },
  {
   "cell_type": "markdown",
   "id": "b4844877-3dda-49e9-8d5e-c201ec28b325",
   "metadata": {
    "tags": []
   },
   "source": [
    "## Evaluation"
   ]
  },
  {
   "cell_type": "code",
   "execution_count": 12,
   "id": "496d8af4-b682-4043-9f60-0c8ef7698f69",
   "metadata": {
    "tags": []
   },
   "outputs": [],
   "source": [
    "# adpated from https://github.com/tigerchen52/GLADIS/blob/master/source/evaluation.py\n",
    "from sklearn.metrics import f1_score\n",
    "from collections import OrderedDict\n",
    "\n",
    "\n",
    "def transform_to_index(trues, preds):\n",
    "\n",
    "    true_map = dict([(title, index) for index, title in enumerate(list(OrderedDict.fromkeys(trues)))])\n",
    "    tag_cnt = len(true_map)\n",
    "    true_index = [true_map[t] for t in trues]\n",
    "\n",
    "    for pred in preds:\n",
    "        if pred not in true_map:\n",
    "            true_map[pred] = len(true_map)\n",
    "    pred_index = [true_map[pred] for pred in preds]\n",
    "    return true_index, pred_index, tag_cnt\n",
    "\n",
    "\n",
    "def macro_f1(trues, preds):\n",
    "    true_index, pred_index, tag_cnt = transform_to_index(trues, preds)\n",
    "    f1_scores = f1_score(true_index, pred_index, average=None)[:tag_cnt]\n",
    "    macro_f1_score = sum(f1_scores) / len(f1_scores)\n",
    "    return macro_f1_score\n",
    "\n",
    "\n",
    "def accuracy(trues, preds):\n",
    "    acc_cnt = 0\n",
    "    for index, true in enumerate(trues):\n",
    "        pred = preds[index]\n",
    "        if pred == true:\n",
    "            acc_cnt += 1\n",
    "    acc = acc_cnt * 1.0 / len(trues)\n",
    "    return acc\n",
    "\n",
    "def predict(task_model, term, definition, batch_size, dd_kb=def_disamb_kb, cal=\"nsp\"):\n",
    "    titles = get_candidate(dd_kb, term)\n",
    "    #titles = [str.lower(can) for can in titles]\n",
    "    if \"nsp\" == cal:\n",
    "        scores = cal_nsp_score(task_model.model, task_model.tokenizer, titles, definition, batch_size)\n",
    "        max_index = np.argmax(scores)\n",
    "    else:\n",
    "        scores = cal_sim_score(task_model, titles, definition)\n",
    "        max_index = np.argmax(scores)\n",
    "    return titles[max_index]\n",
    "\n",
    "# evaluate prediction based on nsp and kb\n",
    "def eval_pred(task_model, flattened_dd_list_path, batch_size, dd_kb=def_disamb_kb, cal=\"nsp\",train=True):\n",
    "    data = reload_vars(flattened_dd_list_path)\n",
    "    true_labels, pred_labels = list(), list()\n",
    "    for index, sample in enumerate(data):\n",
    "        if index % 100 == 0:\n",
    "            logger.info('processing {a} lines '.format(a=index))\n",
    "        if train and index > 200: break\n",
    "        term = sample['term']\n",
    "        title = sample['title']\n",
    "        definition = sample['definition']\n",
    "        pred = predict(task_model, term, definition, batch_size, dd_kb=def_disamb_kb, cal=cal)\n",
    "        true_labels.append(title)\n",
    "        pred_labels.append(pred)\n",
    "    df_res = pd.DataFrame(data)\n",
    "    df_res['pred'] = pred_labels\n",
    "    file_str = flattened_dd_list_path.split('flattened_')[1].split('_disam_list')[0]\n",
    "    df_res.to_csv(f\"data/res/{task_model.model_name.split('/')[-1]}_{cal}_{file_str}.csv\")\n",
    "    macro_f1_score = macro_f1(true_labels, pred_labels)\n",
    "    acc = accuracy(true_labels, pred_labels)\n",
    "    return macro_f1_score, acc\n"
   ]
  },
  {
   "cell_type": "markdown",
   "id": "21025f2f-11dc-441d-ae3f-3953ba69f63c",
   "metadata": {},
   "source": [
    "# Evaluate NSP with NSP-finetuned LMs"
   ]
  },
  {
   "cell_type": "code",
   "execution_count": 13,
   "id": "677a39df-d51d-48a2-8807-7caab645a6a0",
   "metadata": {
    "tags": []
   },
   "outputs": [],
   "source": [
    "def run_eval(device=device, batch_size=4, min_epoch_num = 0, epoch_num=3, \n",
    "             test_data_path=\"data/vars/flattened_test_new_candi_disam_list.pkl\",\n",
    "             output_model_path=\"trained_models/\" ):\n",
    "    for epoch in range(min_epoch_num, epoch_num):\n",
    "        model = DefDisambiguationBERT(device=device)\n",
    "        model_path = f\"{output_model_path}_{model.model_name.split('/')[-1]}_{epoch+1}_epoch.pt\"\n",
    "        model.model_name = f\"{model.model_name}_{epoch+1}_ep\"\n",
    "        model.load_state_dict(torch.load(model_path, map_location=device))\n",
    "        macro_f1_score, acc = eval_pred(model, test_data_path,\n",
    "                                batch_size = batch_size, dd_kb=def_disamb_kb, train=False) \n",
    "        logger.info('Epoch {e}: F1: {a}, ACC: {b}'.format(e=epoch+1, a=macro_f1_score, b=acc))"
   ]
  },
  {
   "cell_type": "code",
   "execution_count": null,
   "id": "07ffeaf1-6da7-4ce6-a093-5e5af3906884",
   "metadata": {
    "tags": []
   },
   "outputs": [],
   "source": [
    "%%time\n",
    "run_eval(device=device, batch_size=64, epoch_num=3, test_data_path=\"data/vars/flattened_9_test_sample_list.pkl\")"
   ]
  },
  {
   "cell_type": "code",
   "execution_count": null,
   "id": "2194fb45-5c9c-41f1-930d-33823c215126",
   "metadata": {
    "scrolled": true,
    "tags": []
   },
   "outputs": [],
   "source": [
    "%%time\n",
    "run_eval(device=device, batch_size=64,  epoch_num=100, test_data_path=\"data/vars/flattened_test_new_term_disam_list.pkl\")"
   ]
  },
  {
   "cell_type": "code",
   "execution_count": null,
   "id": "9f7c4f99-3116-4714-ac47-ed9f0d398f1a",
   "metadata": {
    "tags": []
   },
   "outputs": [],
   "source": [
    "%%time\n",
    "run_eval(device=device, batch_size=64,  epoch_num=100, test_data_path=\"data/vars/flattened_test_new_candi_disam_list.pkl\")"
   ]
  },
  {
   "cell_type": "code",
   "execution_count": null,
   "id": "ae294d31-3f2b-4577-91f4-808d517430b5",
   "metadata": {
    "tags": []
   },
   "outputs": [],
   "source": [
    "%%time\n",
    "run_eval(device=device, batch_size=64,  min_epoch_num = 21,epoch_num=52, test_data_path=\"data/vars/flattened_test_new_term_disam_list.pkl\",\n",
    "        output_model_path=\"trained_models_with_less_data/\")"
   ]
  },
  {
   "cell_type": "code",
   "execution_count": null,
   "id": "65809cff-1933-4975-872d-25c9974ddd92",
   "metadata": {
    "tags": []
   },
   "outputs": [],
   "source": [
    "%%time\n",
    "run_eval(device=device, batch_size=64,  min_epoch_num = 85,epoch_num=95, test_data_path=\"data/vars/flattened_test_new_term_disam_list.pkl\",\n",
    "        output_model_path=\"trained_models_with_less_data/\")"
   ]
  },
  {
   "cell_type": "code",
   "execution_count": null,
   "id": "c0ad3b17-95b8-4906-9306-22c028c83741",
   "metadata": {
    "tags": []
   },
   "outputs": [],
   "source": [
    "%%time\n",
    "run_eval(device=device, batch_size=64,  min_epoch_num = 113,epoch_num=121, test_data_path=\"data/vars/flattened_test_new_term_disam_list.pkl\",\n",
    "        output_model_path=\"trained_models_with_less_data/\")"
   ]
  },
  {
   "cell_type": "code",
   "execution_count": null,
   "id": "2a6fe80c-6719-43a3-8feb-18351f8d7702",
   "metadata": {
    "tags": []
   },
   "outputs": [],
   "source": [
    "%%time\n",
    "run_eval(device=device, batch_size=64,  min_epoch_num = 180,epoch_num=183, test_data_path=\"data/vars/flattened_test_new_term_disam_list.pkl\",\n",
    "        output_model_path=\"trained_models_with_less_data/\")"
   ]
  },
  {
   "cell_type": "code",
   "execution_count": null,
   "id": "edd48ebf-e04f-41e0-8adf-c41786730c91",
   "metadata": {
    "tags": []
   },
   "outputs": [],
   "source": [
    "%%time\n",
    "run_eval(device=device, batch_size=64,  min_epoch_num = 199,epoch_num=200, test_data_path=\"data/vars/flattened_test_new_term_disam_list.pkl\",\n",
    "        output_model_path=\"trained_models_with_less_data/\")"
   ]
  },
  {
   "cell_type": "code",
   "execution_count": null,
   "id": "46bf1a94-bee4-40bf-a4e8-b463ca583941",
   "metadata": {
    "tags": []
   },
   "outputs": [],
   "source": [
    "%%time\n",
    "run_eval(device=device, batch_size=64,  min_epoch_num = 21,epoch_num=52, test_data_path=\"data/vars/flattened_test_new_candi_disam_list.pkl\",\n",
    "        output_model_path=\"trained_models_with_less_data/\")"
   ]
  },
  {
   "cell_type": "code",
   "execution_count": null,
   "id": "7fe5f202-b2ce-4373-bdb4-661c829f5fcb",
   "metadata": {
    "tags": []
   },
   "outputs": [],
   "source": [
    "%%time\n",
    "run_eval(device=device, batch_size=64,  min_epoch_num = 85,epoch_num=95, test_data_path=\"data/vars/flattened_test_new_candi_disam_list.pkl\",\n",
    "        output_model_path=\"trained_models_with_less_data/\")"
   ]
  },
  {
   "cell_type": "code",
   "execution_count": null,
   "id": "489cbbac-e9da-42a1-9252-cfe9114dc18f",
   "metadata": {
    "tags": []
   },
   "outputs": [],
   "source": [
    "%%time\n",
    "run_eval(device=device, batch_size=64,  min_epoch_num = 113,epoch_num=121, test_data_path=\"data/vars/flattened_test_new_candi_disam_list.pkl\",\n",
    "        output_model_path=\"trained_models_with_less_data/\")"
   ]
  },
  {
   "cell_type": "code",
   "execution_count": null,
   "id": "fe0fbc22-5471-4028-b4b3-c289cef53b66",
   "metadata": {
    "tags": []
   },
   "outputs": [],
   "source": [
    "%%time\n",
    "run_eval(device=device, batch_size=64,  min_epoch_num = 180,epoch_num=183, test_data_path=\"data/vars/flattened_test_new_candi_disam_list.pkl\",\n",
    "        output_model_path=\"trained_models_with_less_data/\")"
   ]
  },
  {
   "cell_type": "code",
   "execution_count": null,
   "id": "caa62d20-4b3c-47b5-9c36-a042af017503",
   "metadata": {
    "tags": []
   },
   "outputs": [],
   "source": [
    "%%time\n",
    "run_eval(device=device, batch_size=64,  min_epoch_num = 199,epoch_num=200, test_data_path=\"data/vars/flattened_test_new_candi_disam_list.pkl\",\n",
    "        output_model_path=\"trained_models_with_less_data/\")"
   ]
  },
  {
   "cell_type": "markdown",
   "id": "00567ac4-e8c9-4a91-956a-38914d922b62",
   "metadata": {},
   "source": [
    "# Evaluate NSP with OOB LMs\n",
    "Note: To cache the pairwised NSP calculations"
   ]
  },
  {
   "cell_type": "code",
   "execution_count": null,
   "id": "a383f87a-a425-4860-b8c1-27378e05f532",
   "metadata": {
    "tags": []
   },
   "outputs": [],
   "source": [
    "%%time\n",
    "cc_model = DefDisambiguationBERT(\"InriaValda/cc_math_bert_ep10\", from_tf=True, device= device)\n",
    "macro_f1_score, acc = eval_pred(cc_model, \"data/vars/flattened_test_new_candi_disam_list.pkl\",\n",
    "                                batch_size = 128, dd_kb=def_disamb_kb, train=False) \n",
    "macro_f1_score, acc "
   ]
  },
  {
   "cell_type": "code",
   "execution_count": null,
   "id": "c37264cb-1ef7-495c-8651-ca55ac7536f3",
   "metadata": {
    "tags": []
   },
   "outputs": [],
   "source": [
    "%%time\n",
    "macro_f1_score, acc = eval_pred(cc_model, \"data/vars/flattened_test_new_term_disam_list.pkl\",\n",
    "                                batch_size = 128, dd_kb=def_disamb_kb, train=False) \n",
    "macro_f1_score, acc "
   ]
  },
  {
   "cell_type": "code",
   "execution_count": null,
   "id": "9aa5f16c-7f3d-4e3a-a9c5-03019b093fd5",
   "metadata": {
    "scrolled": true,
    "tags": []
   },
   "outputs": [],
   "source": [
    "%%time\n",
    "macro_f1_score, acc = eval_pred(cc_model, \"data/vars/flattened_train_disamb_list.pkl\",\n",
    "                                batch_size = 128, dd_kb=def_disamb_kb, train=False) \n",
    "macro_f1_score, acc "
   ]
  },
  {
   "cell_type": "code",
   "execution_count": 9,
   "id": "09267210-b197-45bf-97a3-88c517f35c69",
   "metadata": {
    "tags": []
   },
   "outputs": [
    {
     "name": "stderr",
     "output_type": "stream",
     "text": [
      "/opt/conda/lib/python3.10/site-packages/huggingface_hub/file_download.py:1132: FutureWarning: `resume_download` is deprecated and will be removed in version 1.0.0. Downloads always resume when possible. If you want to force a new download, use `force_download=True`.\n",
      "  warnings.warn(\n"
     ]
    },
    {
     "name": "stdout",
     "output_type": "stream",
     "text": [
      "CPU times: user 17h 8min 42s, sys: 46min 33s, total: 17h 55min 15s\n",
      "Wall time: 22min 46s\n"
     ]
    },
    {
     "data": {
      "text/plain": [
       "(0.12285009244468703, 0.18662952646239556)"
      ]
     },
     "execution_count": 9,
     "metadata": {},
     "output_type": "execute_result"
    }
   ],
   "source": [
    "%%time\n",
    "definiendum_model = DefDisambiguationBERT(\"InriaValda/roberta-base_definiendum\", device= device)\n",
    "macro_f1_score, acc = eval_pred(definiendum_model, \"data/vars/flattened_train_disamb_list.pkl\",\n",
    "                                batch_size = 32, dd_kb=def_disamb_kb, train=False) \n",
    "macro_f1_score, acc "
   ]
  },
  {
   "cell_type": "code",
   "execution_count": null,
   "id": "eef26741-7906-4d21-8ea4-50e2b8c2d36b",
   "metadata": {
    "tags": []
   },
   "outputs": [],
   "source": [
    "#it seems that there 's no need to do it...\n",
    "eval_pred(definiendum_model, \"data/vars/flattened_test_disam_list\",\n",
    "                                batch_size = 32, dd_kb=def_disamb_kb, train=False) \n"
   ]
  },
  {
   "cell_type": "code",
   "execution_count": null,
   "id": "3d12597c-6154-4ddb-80fe-a3c8a5629733",
   "metadata": {
    "tags": []
   },
   "outputs": [],
   "source": [
    "%%time \n",
    "BERT_OOB = DefDisambiguationBERT(device= device)\n",
    "macro_f1_score, acc = eval_pred(BERT_OOB, \"data/vars/flattened_test_new_candi_disam_list.pkl\",\n",
    "                                batch_size = 128, dd_kb=def_disamb_kb, train=False) \n",
    "macro_f1_score, acc"
   ]
  },
  {
   "cell_type": "code",
   "execution_count": null,
   "id": "2d983b2a-1ebb-458b-97ce-fc7e9ad0a93d",
   "metadata": {},
   "outputs": [],
   "source": [
    "%%time\n",
    "macro_f1_score, acc = eval_pred(BERT_OOB, \"data/vars/flattened_test_new_term_disam_list.pkl.pkl\",\n",
    "                                batch_size = 128, dd_kb=def_disamb_kb, train=False) \n",
    "macro_f1_score, acc"
   ]
  },
  {
   "cell_type": "code",
   "execution_count": null,
   "id": "4b1522de-0ba9-406e-86ee-e9073cc9b0a4",
   "metadata": {},
   "outputs": [],
   "source": [
    "%%time\n",
    "macro_f1_score, acc = eval_pred(BERT_OOB, \"data/vars/flattened_train_disamb_list.pkl\",\n",
    "                                batch_size = 128, dd_kb=def_disamb_kb, train=False) \n",
    "macro_f1_score, acc"
   ]
  },
  {
   "cell_type": "markdown",
   "id": "4ca4501b-f25b-4970-9274-363de2ecf797",
   "metadata": {},
   "source": [
    "## see one example"
   ]
  },
  {
   "cell_type": "code",
   "execution_count": 23,
   "id": "994a1a5e-5856-4593-a67a-7c36590ad323",
   "metadata": {
    "tags": []
   },
   "outputs": [
    {
     "name": "stderr",
     "output_type": "stream",
     "text": [
      "/opt/conda/lib/python3.10/site-packages/huggingface_hub/file_download.py:1132: FutureWarning: `resume_download` is deprecated and will be removed in version 1.0.0. Downloads always resume when possible. If you want to force a new download, use `force_download=True`.\n",
      "  warnings.warn(\n"
     ]
    }
   ],
   "source": [
    "BERT_OOB = DefDisambiguationBERT(device= device)"
   ]
  },
  {
   "cell_type": "code",
   "execution_count": 32,
   "id": "015363bf-4d25-4431-9154-27ee1899175f",
   "metadata": {
    "tags": []
   },
   "outputs": [
    {
     "data": {
      "text/plain": [
       "[0.9999956885267922, 0.9999938907480375, 0.9832256557200766]"
      ]
     },
     "execution_count": 32,
     "metadata": {},
     "output_type": "execute_result"
    }
   ],
   "source": [
    "titles = [ \"Definition:Simple Group\",\"Definition:Continued Fraction/Simple/Finite\",\"Definition:Real Interval/Unbounded Open\"]\n",
    "definition1 = \"A group G is simple  if and only if  it has only G and the trivial group as normal subgroups. That is,  if and only if  the composition length of G is 1.\"\n",
    "\n",
    "cal_nsp_score(BERT_OOB.model, BERT_OOB.tokenizer, titles, definition1, 1)"
   ]
  },
  {
   "cell_type": "markdown",
   "id": "1532d5cb-6f98-44e4-abc4-e8e8bc3cec6c",
   "metadata": {
    "tags": []
   },
   "source": [
    "# Evaluate embedding similarity with NSP-finetuned LMs\n"
   ]
  },
  {
   "cell_type": "code",
   "execution_count": 10,
   "id": "25c5b3fe-10e4-4284-9fd3-d958022b49d5",
   "metadata": {},
   "outputs": [],
   "source": [
    "def run_eval_sim(device=device, batch_size=4, check_point_nums=[0], test_data_path=\"data/vars/flattened_test_disam_list.pkl\"):\n",
    "    test_data_str = test_data_path.split('/')[-1].split('.pkl')[0]\n",
    "    for epoch in check_point_nums:\n",
    "        \n",
    "        ft_model_name = f\"ft_models/bert-base-uncased_nsp_{epoch+1}_ep\"\n",
    "        # check if we have alread save the bert model\n",
    "        if not os.path.isdir(ft_model_name):\n",
    "            dd_model = DefDisambiguationBERT(device=device)\n",
    "            dd_model_path = f\"{output_model_path}_{dd_model.model_name.split('/')[-1]}_{epoch+1}_epoch.pt\"\n",
    "            dd_model.load_state_dict(torch.load(dd_model_path, map_location=device))\n",
    "            dd_model.model.save_pretrained(ft_model_name)\n",
    "            dd_model.tokenizer.save_pretrained(ft_model_name)\n",
    "            del dd_model\n",
    "            \n",
    "        sem_model = SentenceEncoderModel(ft_model_name, device= device)\n",
    "\n",
    "        macro_f1_score, acc = eval_pred(sem_model, test_data_path, dd_kb=def_disamb_kb, train=False,\n",
    "                                       cal=\"sim\", batch_size=4)  \n",
    "        logger.info('Evaluate emb sim of Epoch {e} on {test_data_str} set: F1: {a}, ACC: {b}'.format(e=epoch+1, test_data_str = test_data_str, a=macro_f1_score, b=acc))"
   ]
  },
  {
   "cell_type": "code",
   "execution_count": 45,
   "id": "f027c907-07b6-4570-b7ac-52e0962613c7",
   "metadata": {
    "tags": []
   },
   "outputs": [
    {
     "name": "stderr",
     "output_type": "stream",
     "text": [
      "/opt/conda/lib/python3.10/site-packages/huggingface_hub/file_download.py:1132: FutureWarning: `resume_download` is deprecated and will be removed in version 1.0.0. Downloads always resume when possible. If you want to force a new download, use `force_download=True`.\n",
      "  warnings.warn(\n",
      "/opt/conda/lib/python3.10/site-packages/huggingface_hub/file_download.py:1132: FutureWarning: `resume_download` is deprecated and will be removed in version 1.0.0. Downloads always resume when possible. If you want to force a new download, use `force_download=True`.\n",
      "  warnings.warn(\n"
     ]
    },
    {
     "name": "stdout",
     "output_type": "stream",
     "text": [
      "CPU times: user 7h 31min 44s, sys: 3h 34min 35s, total: 11h 6min 20s\n",
      "Wall time: 19min 21s\n"
     ]
    }
   ],
   "source": [
    "%%time\n",
    "run_eval_sim(device=device, batch_size=4, check_point_nums=[23,42], test_data_path=\"data/vars/flattened_test_disam_list.pkl\")\n",
    "run_eval_sim(device=device, batch_size=4, check_point_nums=[23,42], test_data_path=\"data/vars/flattened_train_disamb_list.pkl\")"
   ]
  },
  {
   "cell_type": "markdown",
   "id": "20bd796d-7a43-4a42-8000-2543189e9067",
   "metadata": {},
   "source": [
    "# Evaluate embedding similarity with OOB LMs\n",
    "Notes: without the pickled sentence-embedding dictionaries, each 768-dimension sentence bert model takes ~ 11 minutes to calculate all the embeddings once."
   ]
  },
  {
   "cell_type": "code",
   "execution_count": 39,
   "id": "71252c27-57a4-4286-8aec-575647af3ab6",
   "metadata": {},
   "outputs": [
    {
     "name": "stderr",
     "output_type": "stream",
     "text": [
      "/opt/conda/lib/python3.10/site-packages/huggingface_hub/file_download.py:1132: FutureWarning: `resume_download` is deprecated and will be removed in version 1.0.0. Downloads always resume when possible. If you want to force a new download, use `force_download=True`.\n",
      "  warnings.warn(\n"
     ]
    },
    {
     "name": "stdout",
     "output_type": "stream",
     "text": [
      "CPU times: user 1.37 s, sys: 608 ms, total: 1.97 s\n",
      "Wall time: 1.54 s\n"
     ]
    }
   ],
   "source": [
    "%%time\n",
    "cc_sem_model = SentenceEncoderModel(\"InriaValda/cc_math_bert_ep10\", from_tf=True, device= device)"
   ]
  },
  {
   "cell_type": "code",
   "execution_count": 253,
   "id": "a328e315-de76-4ab1-b71e-68b711d277ef",
   "metadata": {
    "tags": []
   },
   "outputs": [
    {
     "name": "stdout",
     "output_type": "stream",
     "text": [
      "CPU times: user 1.4 s, sys: 36.3 ms, total: 1.44 s\n",
      "Wall time: 1.44 s\n"
     ]
    },
    {
     "data": {
      "text/plain": [
       "(0.2820924882245639, 0.3787528868360277)"
      ]
     },
     "execution_count": 253,
     "metadata": {},
     "output_type": "execute_result"
    }
   ],
   "source": [
    "%%time\n",
    "macro_f1_score, acc = eval_pred(cc_sem_model, \"data/vars/flattened_test_disam_list.pkl\",\n",
    "                                batch_size = 4, dd_kb=def_disamb_kb, train=False,\n",
    "                               cal=\"sim\") \n",
    "macro_f1_score, acc"
   ]
  },
  {
   "cell_type": "code",
   "execution_count": 254,
   "id": "237f82eb-2069-4bdc-ae08-a1f1dbde4f65",
   "metadata": {
    "tags": []
   },
   "outputs": [
    {
     "name": "stdout",
     "output_type": "stream",
     "text": [
      "CPU times: user 2.43 s, sys: 0 ns, total: 2.43 s\n",
      "Wall time: 2.43 s\n"
     ]
    },
    {
     "data": {
      "text/plain": [
       "(0.3560199829675193, 0.45403899721448465)"
      ]
     },
     "execution_count": 254,
     "metadata": {},
     "output_type": "execute_result"
    }
   ],
   "source": [
    "%%time\n",
    "macro_f1_score, acc = eval_pred(cc_sem_model, \"data/vars/flattened_train_disamb_list.pkl\",\n",
    "                                batch_size = 32, dd_kb=def_disamb_kb, train=False,\n",
    "                               cal=\"sim\") \n",
    "macro_f1_score, acc"
   ]
  },
  {
   "cell_type": "code",
   "execution_count": 12,
   "id": "4b3e0cb2-6dc7-4e4e-b190-e4c9f52ec911",
   "metadata": {
    "scrolled": true,
    "tags": []
   },
   "outputs": [
    {
     "data": {
      "application/vnd.jupyter.widget-view+json": {
       "model_id": "06769c2da14b40599cb2cc646457b2af",
       "version_major": 2,
       "version_minor": 0
      },
      "text/plain": [
       "config.json:   0%|          | 0.00/898 [00:00<?, ?B/s]"
      ]
     },
     "metadata": {},
     "output_type": "display_data"
    },
    {
     "data": {
      "application/vnd.jupyter.widget-view+json": {
       "model_id": "e2c7d67482a2405a98b2cf8dbfee46c2",
       "version_major": 2,
       "version_minor": 0
      },
      "text/plain": [
       "tf_model.h5:   0%|          | 0.00/655M [00:00<?, ?B/s]"
      ]
     },
     "metadata": {},
     "output_type": "display_data"
    },
    {
     "name": "stderr",
     "output_type": "stream",
     "text": [
      "2024-10-24 21:40:40.358676: I tensorflow/core/platform/cpu_feature_guard.cc:193] This TensorFlow binary is optimized with oneAPI Deep Neural Network Library (oneDNN) to use the following CPU instructions in performance-critical operations:  AVX2 FMA\n",
      "To enable them in other operations, rebuild TensorFlow with the appropriate compiler flags.\n",
      "2024-10-24 21:40:40.515377: E tensorflow/stream_executor/cuda/cuda_blas.cc:2981] Unable to register cuBLAS factory: Attempting to register factory for plugin cuBLAS when one has already been registered\n",
      "2024-10-24 21:40:41.131608: W tensorflow/stream_executor/platform/default/dso_loader.cc:64] Could not load dynamic library 'libnvinfer.so.7'; dlerror: libnvinfer.so.7: cannot open shared object file: No such file or directory; LD_LIBRARY_PATH: /usr/local/nvidia/lib:/usr/local/nvidia/lib64\n",
      "2024-10-24 21:40:41.131698: W tensorflow/stream_executor/platform/default/dso_loader.cc:64] Could not load dynamic library 'libnvinfer_plugin.so.7'; dlerror: libnvinfer_plugin.so.7: cannot open shared object file: No such file or directory; LD_LIBRARY_PATH: /usr/local/nvidia/lib:/usr/local/nvidia/lib64\n",
      "2024-10-24 21:40:41.131705: W tensorflow/compiler/tf2tensorrt/utils/py_utils.cc:38] TF-TRT Warning: Cannot dlopen some TensorRT libraries. If you would like to use Nvidia GPU with TensorRT, please make sure the missing libraries mentioned above are installed properly.\n",
      "2024-10-24 21:40:41.677070: I tensorflow/core/platform/cpu_feature_guard.cc:193] This TensorFlow binary is optimized with oneAPI Deep Neural Network Library (oneDNN) to use the following CPU instructions in performance-critical operations:  AVX2 FMA\n",
      "To enable them in other operations, rebuild TensorFlow with the appropriate compiler flags.\n",
      "2024-10-24 21:40:44.512767: I tensorflow/core/common_runtime/gpu/gpu_device.cc:1616] Created device /job:localhost/replica:0/task:0/device:GPU:0 with 30471 MB memory:  -> device: 0, name: Tesla V100S-PCIE-32GB, pci bus id: 0000:21:00.0, compute capability: 7.0\n",
      "2024-10-24 21:40:44.513565: I tensorflow/core/common_runtime/gpu/gpu_device.cc:1616] Created device /job:localhost/replica:0/task:0/device:GPU:1 with 30471 MB memory:  -> device: 1, name: Tesla V100S-PCIE-32GB, pci bus id: 0000:81:00.0, compute capability: 7.0\n"
     ]
    },
    {
     "data": {
      "application/vnd.jupyter.widget-view+json": {
       "model_id": "a032b7757e8d4c0cbf1fe1a3fbcbfc87",
       "version_major": 2,
       "version_minor": 0
      },
      "text/plain": [
       "tokenizer_config.json:   0%|          | 0.00/1.36k [00:00<?, ?B/s]"
      ]
     },
     "metadata": {},
     "output_type": "display_data"
    },
    {
     "data": {
      "application/vnd.jupyter.widget-view+json": {
       "model_id": "f32c78de17f14a63afe7ce882f7f678e",
       "version_major": 2,
       "version_minor": 0
      },
      "text/plain": [
       "vocab.json:   0%|          | 0.00/805k [00:00<?, ?B/s]"
      ]
     },
     "metadata": {},
     "output_type": "display_data"
    },
    {
     "data": {
      "application/vnd.jupyter.widget-view+json": {
       "model_id": "6313ec9ad0d543eca2ce1aac0f181d3f",
       "version_major": 2,
       "version_minor": 0
      },
      "text/plain": [
       "merges.txt:   0%|          | 0.00/465k [00:00<?, ?B/s]"
      ]
     },
     "metadata": {},
     "output_type": "display_data"
    },
    {
     "data": {
      "application/vnd.jupyter.widget-view+json": {
       "model_id": "c4b909fcf9c2421b9641a3a4f4ba3db3",
       "version_major": 2,
       "version_minor": 0
      },
      "text/plain": [
       "tokenizer.json:   0%|          | 0.00/2.12M [00:00<?, ?B/s]"
      ]
     },
     "metadata": {},
     "output_type": "display_data"
    },
    {
     "data": {
      "application/vnd.jupyter.widget-view+json": {
       "model_id": "ba4f46bb5d6f4bf2bdb3c28af2315ef0",
       "version_major": 2,
       "version_minor": 0
      },
      "text/plain": [
       "special_tokens_map.json:   0%|          | 0.00/957 [00:00<?, ?B/s]"
      ]
     },
     "metadata": {},
     "output_type": "display_data"
    },
    {
     "name": "stdout",
     "output_type": "stream",
     "text": [
      "CPU times: user 4h 17min 8s, sys: 1h 44min, total: 6h 1min 8s\n",
      "Wall time: 10min 47s\n"
     ]
    },
    {
     "data": {
      "text/plain": [
       "(0.11283362401564395, 0.17090069284064666)"
      ]
     },
     "execution_count": 12,
     "metadata": {},
     "output_type": "execute_result"
    }
   ],
   "source": [
    "%%time\n",
    "ccrobe01_sem_model = SentenceEncoderModel(\"InriaValda/cc_math_roberta_ep01\", from_tf=True, device= device)\n",
    "macro_f1_score, acc = eval_pred(ccrobe01_sem_model, \"data/vars/flattened_test_disam_list.pkl\",\n",
    "                                batch_size = 4, dd_kb=def_disamb_kb, train=False,\n",
    "                               cal=\"sim\") \n",
    "macro_f1_score, acc"
   ]
  },
  {
   "cell_type": "code",
   "execution_count": 13,
   "id": "eec5627e-117a-4e5b-b064-1e1cf5c28ddf",
   "metadata": {
    "tags": []
   },
   "outputs": [
    {
     "data": {
      "text/plain": [
       "(0.1242661613488323, 0.20543175487465182)"
      ]
     },
     "execution_count": 13,
     "metadata": {},
     "output_type": "execute_result"
    }
   ],
   "source": [
    "macro_f1_score, acc = eval_pred(ccrobe01_sem_model, \"data/vars/flattened_train_disamb_list.pkl\",\n",
    "                                batch_size = 4, dd_kb=def_disamb_kb, train=False,\n",
    "                               cal=\"sim\") \n",
    "macro_f1_score, acc"
   ]
  },
  {
   "cell_type": "code",
   "execution_count": 14,
   "id": "b6f1de0a-6c86-488c-8848-91f09dad97cf",
   "metadata": {
    "tags": []
   },
   "outputs": [
    {
     "name": "stderr",
     "output_type": "stream",
     "text": [
      "/opt/conda/lib/python3.10/site-packages/huggingface_hub/file_download.py:1132: FutureWarning: `resume_download` is deprecated and will be removed in version 1.0.0. Downloads always resume when possible. If you want to force a new download, use `force_download=True`.\n",
      "  warnings.warn(\n"
     ]
    },
    {
     "name": "stdout",
     "output_type": "stream",
     "text": [
      "CPU times: user 3h 57min 32s, sys: 1h 45min 6s, total: 5h 42min 39s\n",
      "Wall time: 9min 56s\n"
     ]
    },
    {
     "data": {
      "text/plain": [
       "(0.20232139453837564, 0.279445727482679)"
      ]
     },
     "execution_count": 14,
     "metadata": {},
     "output_type": "execute_result"
    }
   ],
   "source": [
    "%%time\n",
    "cc10_sem_model = SentenceEncoderModel(\"InriaValda/cc_math_roberta_ep10\", from_tf=True, device= device)\n",
    "macro_f1_score, acc = eval_pred(cc10_sem_model, \"data/vars/flattened_test_disam_list.pkl\",\n",
    "                                batch_size = 4, dd_kb=def_disamb_kb, train=False,\n",
    "                               cal=\"sim\") \n",
    "macro_f1_score, acc"
   ]
  },
  {
   "cell_type": "code",
   "execution_count": 15,
   "id": "20ed5f3a-040c-4656-9cfd-aafe2fbd4f47",
   "metadata": {
    "tags": []
   },
   "outputs": [
    {
     "data": {
      "text/plain": [
       "(0.23870627384140905, 0.3293871866295265)"
      ]
     },
     "execution_count": 15,
     "metadata": {},
     "output_type": "execute_result"
    }
   ],
   "source": [
    "macro_f1_score, acc = eval_pred(cc10_sem_model, \"data/vars/flattened_train_disamb_list.pkl\",\n",
    "                                batch_size = 4, dd_kb=def_disamb_kb, train=False,\n",
    "                               cal=\"sim\") \n",
    "macro_f1_score, acc"
   ]
  },
  {
   "cell_type": "code",
   "execution_count": 248,
   "id": "48fce2f2-f52d-4822-b61e-0d8169df273b",
   "metadata": {
    "tags": []
   },
   "outputs": [
    {
     "name": "stderr",
     "output_type": "stream",
     "text": [
      "/opt/conda/lib/python3.10/site-packages/huggingface_hub/file_download.py:1132: FutureWarning: `resume_download` is deprecated and will be removed in version 1.0.0. Downloads always resume when possible. If you want to force a new download, use `force_download=True`.\n",
      "  warnings.warn(\n"
     ]
    },
    {
     "name": "stdout",
     "output_type": "stream",
     "text": [
      "CPU times: user 1.97 s, sys: 176 ms, total: 2.15 s\n",
      "Wall time: 1.3 s\n"
     ]
    },
    {
     "data": {
      "text/plain": [
       "(0.9008647798742141, 0.9237875288683602)"
      ]
     },
     "execution_count": 248,
     "metadata": {},
     "output_type": "execute_result"
    }
   ],
   "source": [
    "%%time\n",
    "mini_sem_model = SentenceEncoderModel(\"sentence-transformers/all-MiniLM-L6-v2\", device= device)\n",
    "\n",
    "macro_f1_score, acc = eval_pred(mini_sem_model, \"data/vars/flattened_test_disam_list.pkl\",\n",
    "                                batch_size = 4, dd_kb=def_disamb_kb, train=False,\n",
    "                               cal=\"sim\") \n",
    "macro_f1_score, acc"
   ]
  },
  {
   "cell_type": "code",
   "execution_count": 249,
   "id": "bfe59298-08d5-4b89-bb88-54df1e382b3b",
   "metadata": {
    "tags": []
   },
   "outputs": [
    {
     "data": {
      "text/plain": [
       "(0.8813732651570487, 0.9101671309192201)"
      ]
     },
     "execution_count": 249,
     "metadata": {},
     "output_type": "execute_result"
    }
   ],
   "source": [
    "macro_f1_score, acc = eval_pred(mini_sem_model, \"data/vars/flattened_train_disamb_list.pkl\",\n",
    "                                batch_size = 4, dd_kb=def_disamb_kb, train=False,\n",
    "                               cal=\"sim\") \n",
    "macro_f1_score, acc"
   ]
  },
  {
   "cell_type": "code",
   "execution_count": 250,
   "id": "9ce985b9-b346-4ecb-9f47-2975eeb046e8",
   "metadata": {
    "tags": []
   },
   "outputs": [
    {
     "name": "stderr",
     "output_type": "stream",
     "text": [
      "/opt/conda/lib/python3.10/site-packages/huggingface_hub/file_download.py:1132: FutureWarning: `resume_download` is deprecated and will be removed in version 1.0.0. Downloads always resume when possible. If you want to force a new download, use `force_download=True`.\n",
      "  warnings.warn(\n"
     ]
    },
    {
     "name": "stdout",
     "output_type": "stream",
     "text": [
      "CPU times: user 3.81 s, sys: 592 ms, total: 4.4 s\n",
      "Wall time: 1.95 s\n"
     ]
    },
    {
     "data": {
      "text/plain": [
       "(0.2611149736068411, 0.3533487297921478)"
      ]
     },
     "execution_count": 250,
     "metadata": {},
     "output_type": "execute_result"
    }
   ],
   "source": [
    "%%time\n",
    "bert_sem_model = SentenceEncoderModel(\"bert-base-uncased\", device= device)\n",
    "\n",
    "macro_f1_score, acc = eval_pred(bert_sem_model, \"data/vars/flattened_test_disam_list.pkl\",\n",
    "                                batch_size = 4, dd_kb=def_disamb_kb, train=False,\n",
    "                               cal=\"sim\") \n",
    "macro_f1_score, acc"
   ]
  },
  {
   "cell_type": "code",
   "execution_count": 252,
   "id": "f62d46a7-a95f-4cb1-aeb3-1554d39b48f8",
   "metadata": {
    "tags": []
   },
   "outputs": [
    {
     "name": "stdout",
     "output_type": "stream",
     "text": [
      "CPU times: user 2.37 s, sys: 14.9 ms, total: 2.39 s\n",
      "Wall time: 2.39 s\n"
     ]
    },
    {
     "data": {
      "text/plain": [
       "(0.3019173019173022, 0.4025069637883008)"
      ]
     },
     "execution_count": 252,
     "metadata": {},
     "output_type": "execute_result"
    }
   ],
   "source": [
    "%%time\n",
    "macro_f1_score, acc = eval_pred(bert_sem_model, \"data/vars/flattened_train_disamb_list.pkl\",\n",
    "                                batch_size = 4, dd_kb=def_disamb_kb, train=False,\n",
    "                               cal=\"sim\") \n",
    "macro_f1_score, acc"
   ]
  },
  {
   "cell_type": "code",
   "execution_count": 255,
   "id": "84a06b83-fd4d-4c65-b90b-817d57df4bb3",
   "metadata": {
    "tags": []
   },
   "outputs": [
    {
     "name": "stderr",
     "output_type": "stream",
     "text": [
      "/opt/conda/lib/python3.10/site-packages/huggingface_hub/file_download.py:1132: FutureWarning: `resume_download` is deprecated and will be removed in version 1.0.0. Downloads always resume when possible. If you want to force a new download, use `force_download=True`.\n",
      "  warnings.warn(\n"
     ]
    },
    {
     "name": "stdout",
     "output_type": "stream",
     "text": [
      "CPU times: user 4.15 s, sys: 767 ms, total: 4.92 s\n",
      "Wall time: 2.08 s\n"
     ]
    },
    {
     "data": {
      "text/plain": [
       "(0.28279607465114975, 0.3833718244803695)"
      ]
     },
     "execution_count": 255,
     "metadata": {},
     "output_type": "execute_result"
    }
   ],
   "source": [
    "%%time\n",
    "MLM_arXiv_sem_model = SentenceEncoderModel(\"math-similarity/Bert-MLM_arXiv\", device= device)\n",
    "\n",
    "macro_f1_score, acc = eval_pred(MLM_arXiv_sem_model, \"data/vars/flattened_test_disam_list.pkl\",\n",
    "                                batch_size = 4, dd_kb=def_disamb_kb, train=False,\n",
    "                               cal=\"sim\") \n",
    "macro_f1_score, acc"
   ]
  },
  {
   "cell_type": "code",
   "execution_count": 257,
   "id": "7a2538bc-4fbb-41dc-b7a8-dab476ab6981",
   "metadata": {
    "tags": []
   },
   "outputs": [
    {
     "data": {
      "text/plain": [
       "(0.32845973438183346, 0.4268802228412256)"
      ]
     },
     "execution_count": 257,
     "metadata": {},
     "output_type": "execute_result"
    }
   ],
   "source": [
    "macro_f1_score, acc = eval_pred(MLM_arXiv_sem_model, \"data/vars/flattened_train_disamb_list.pkl\",\n",
    "                                batch_size = 4, dd_kb=def_disamb_kb, train=False,\n",
    "                               cal=\"sim\") \n",
    "macro_f1_score, acc"
   ]
  },
  {
   "cell_type": "code",
   "execution_count": 258,
   "id": "38485f21-716f-4dee-84d6-8ae64d6871b3",
   "metadata": {
    "tags": []
   },
   "outputs": [
    {
     "name": "stderr",
     "output_type": "stream",
     "text": [
      "/opt/conda/lib/python3.10/site-packages/huggingface_hub/file_download.py:1132: FutureWarning: `resume_download` is deprecated and will be removed in version 1.0.0. Downloads always resume when possible. If you want to force a new download, use `force_download=True`.\n",
      "  warnings.warn(\n"
     ]
    },
    {
     "name": "stdout",
     "output_type": "stream",
     "text": [
      "CPU times: user 3.59 s, sys: 944 ms, total: 4.53 s\n",
      "Wall time: 2.08 s\n"
     ]
    },
    {
     "data": {
      "text/plain": [
       "(0.43801662174303685, 0.5219399538106235)"
      ]
     },
     "execution_count": 258,
     "metadata": {},
     "output_type": "execute_result"
    }
   ],
   "source": [
    "%%time\n",
    "zbmath_sem_model = SentenceEncoderModel(\"math-similarity/Bert-MLM_arXiv-MP-class_zbMath\", device= device)\n",
    "\n",
    "macro_f1_score, acc = eval_pred(zbmath_sem_model, \"data/vars/flattened_test_disam_list.pkl\",\n",
    "                                batch_size = 4, dd_kb=def_disamb_kb, train=False,\n",
    "                               cal=\"sim\") \n",
    "macro_f1_score, acc"
   ]
  },
  {
   "cell_type": "code",
   "execution_count": 259,
   "id": "4f33e79b-fa56-49de-8f9c-d8355e4a85f1",
   "metadata": {
    "tags": []
   },
   "outputs": [
    {
     "data": {
      "text/plain": [
       "(0.5399012561174714, 0.6149025069637883)"
      ]
     },
     "execution_count": 259,
     "metadata": {},
     "output_type": "execute_result"
    }
   ],
   "source": [
    "macro_f1_score, acc = eval_pred(zbmath_sem_model, \"data/vars/flattened_train_disamb_list.pkl\",\n",
    "                                batch_size = 4, dd_kb=def_disamb_kb, train=False,\n",
    "                               cal=\"sim\") \n",
    "macro_f1_score, acc"
   ]
  },
  {
   "cell_type": "code",
   "execution_count": 17,
   "id": "d1fc1e74-343a-47df-b716-02a1a5256ed4",
   "metadata": {
    "tags": []
   },
   "outputs": [
    {
     "name": "stderr",
     "output_type": "stream",
     "text": [
      "/opt/conda/lib/python3.10/site-packages/huggingface_hub/file_download.py:1132: FutureWarning: `resume_download` is deprecated and will be removed in version 1.0.0. Downloads always resume when possible. If you want to force a new download, use `force_download=True`.\n",
      "  warnings.warn(\n"
     ]
    },
    {
     "name": "stdout",
     "output_type": "stream",
     "text": [
      "CPU times: user 2.51 s, sys: 270 ms, total: 2.78 s\n",
      "Wall time: 1.36 s\n"
     ]
    },
    {
     "data": {
      "text/plain": [
       "(0.9118710691823901, 0.9330254041570438)"
      ]
     },
     "execution_count": 17,
     "metadata": {},
     "output_type": "execute_result"
    }
   ],
   "source": [
    "%%time\n",
    "mini_sem_model_12 = SentenceEncoderModel(\"sentence-transformers/all-MiniLM-L12-v2\", device= device)\n",
    " \n",
    "macro_f1_score, acc = eval_pred(mini_sem_model_12, \"data/vars/flattened_test_disam_list.pkl\",\n",
    "                                batch_size = 4, dd_kb=def_disamb_kb, train=False,\n",
    "                               cal=\"sim\") \n",
    "macro_f1_score, acc"
   ]
  },
  {
   "cell_type": "code",
   "execution_count": 19,
   "id": "aa62b934-28eb-4af5-b70a-c123b15343b7",
   "metadata": {
    "tags": []
   },
   "outputs": [
    {
     "data": {
      "text/plain": [
       "(0.8944728512296076, 0.9206128133704735)"
      ]
     },
     "execution_count": 19,
     "metadata": {},
     "output_type": "execute_result"
    }
   ],
   "source": [
    "macro_f1_score, acc = eval_pred(mini_sem_model_12, \"data/vars/flattened_train_disamb_list.pkl\",\n",
    "                                batch_size = 4, dd_kb=def_disamb_kb, train=False,\n",
    "                               cal=\"sim\") \n",
    "macro_f1_score, acc"
   ]
  },
  {
   "cell_type": "code",
   "execution_count": 16,
   "id": "1ae45eac-256e-4415-9439-6888f959f383",
   "metadata": {
    "tags": []
   },
   "outputs": [
    {
     "name": "stderr",
     "output_type": "stream",
     "text": [
      "/opt/conda/lib/python3.10/site-packages/huggingface_hub/file_download.py:1132: FutureWarning: `resume_download` is deprecated and will be removed in version 1.0.0. Downloads always resume when possible. If you want to force a new download, use `force_download=True`.\n",
      "  warnings.warn(\n"
     ]
    },
    {
     "data": {
      "application/vnd.jupyter.widget-view+json": {
       "model_id": "03853f052e1e40ecb67a1fb67a7c9597",
       "version_major": 2,
       "version_minor": 0
      },
      "text/plain": [
       "config.json:   0%|          | 0.00/626 [00:00<?, ?B/s]"
      ]
     },
     "metadata": {},
     "output_type": "display_data"
    },
    {
     "data": {
      "application/vnd.jupyter.widget-view+json": {
       "model_id": "4af9ed6700b5438fa405a4c1e0bb2703",
       "version_major": 2,
       "version_minor": 0
      },
      "text/plain": [
       "model.safetensors:   0%|          | 0.00/133M [00:00<?, ?B/s]"
      ]
     },
     "metadata": {},
     "output_type": "display_data"
    },
    {
     "data": {
      "application/vnd.jupyter.widget-view+json": {
       "model_id": "fc9b73c6810e44c1b79fbfbcd14a4c68",
       "version_major": 2,
       "version_minor": 0
      },
      "text/plain": [
       "tokenizer_config.json:   0%|          | 0.00/314 [00:00<?, ?B/s]"
      ]
     },
     "metadata": {},
     "output_type": "display_data"
    },
    {
     "data": {
      "application/vnd.jupyter.widget-view+json": {
       "model_id": "487e7fac1c9541a7b8e8cfca58ac8a38",
       "version_major": 2,
       "version_minor": 0
      },
      "text/plain": [
       "vocab.txt:   0%|          | 0.00/232k [00:00<?, ?B/s]"
      ]
     },
     "metadata": {},
     "output_type": "display_data"
    },
    {
     "data": {
      "application/vnd.jupyter.widget-view+json": {
       "model_id": "cf9a0483aa814df48cca2bcd1dbe599d",
       "version_major": 2,
       "version_minor": 0
      },
      "text/plain": [
       "tokenizer.json:   0%|          | 0.00/711k [00:00<?, ?B/s]"
      ]
     },
     "metadata": {},
     "output_type": "display_data"
    },
    {
     "data": {
      "application/vnd.jupyter.widget-view+json": {
       "model_id": "50b7c06363ec4a9f81ad8eae34d2f283",
       "version_major": 2,
       "version_minor": 0
      },
      "text/plain": [
       "special_tokens_map.json:   0%|          | 0.00/125 [00:00<?, ?B/s]"
      ]
     },
     "metadata": {},
     "output_type": "display_data"
    },
    {
     "name": "stdout",
     "output_type": "stream",
     "text": [
      "CPU times: user 1h 20min 39s, sys: 1h 14min 59s, total: 2h 35min 39s\n",
      "Wall time: 4min 58s\n"
     ]
    },
    {
     "data": {
      "text/plain": [
       "(0.8863207547169812, 0.9122401847575058)"
      ]
     },
     "execution_count": 16,
     "metadata": {},
     "output_type": "execute_result"
    }
   ],
   "source": [
    "%%time\n",
    "pearl_s_model = SentenceEncoderModel(\"Lihuchen/pearl_small\", device= device)\n",
    " \n",
    "macro_f1_score, acc = eval_pred(pearl_s_model, \"data/vars/flattened_test_disam_list.pkl\",\n",
    "                                batch_size = 4, dd_kb=def_disamb_kb, train=False,\n",
    "                               cal=\"sim\") \n",
    "macro_f1_score, acc"
   ]
  },
  {
   "cell_type": "code",
   "execution_count": 17,
   "id": "21a71520-a5b9-4662-8d0e-4855a8285e3c",
   "metadata": {
    "tags": []
   },
   "outputs": [
    {
     "data": {
      "text/plain": [
       "(0.8663083933354198, 0.8955431754874652)"
      ]
     },
     "execution_count": 17,
     "metadata": {},
     "output_type": "execute_result"
    }
   ],
   "source": [
    "eval_pred(pearl_s_model, \"data/vars/flattened_train_disamb_list.pkl\",\n",
    "                                batch_size = 4, dd_kb=def_disamb_kb, train=False,\n",
    "                               cal=\"sim\") "
   ]
  },
  {
   "cell_type": "code",
   "execution_count": 20,
   "id": "e581619b-6954-401c-a413-008d954326c3",
   "metadata": {
    "tags": []
   },
   "outputs": [
    {
     "name": "stderr",
     "output_type": "stream",
     "text": [
      "/opt/conda/lib/python3.10/site-packages/huggingface_hub/file_download.py:1132: FutureWarning: `resume_download` is deprecated and will be removed in version 1.0.0. Downloads always resume when possible. If you want to force a new download, use `force_download=True`.\n",
      "  warnings.warn(\n"
     ]
    },
    {
     "data": {
      "application/vnd.jupyter.widget-view+json": {
       "model_id": "62ad9139903d44cea9a152482b84c129",
       "version_major": 2,
       "version_minor": 0
      },
      "text/plain": [
       "config.json:   0%|          | 0.00/665 [00:00<?, ?B/s]"
      ]
     },
     "metadata": {},
     "output_type": "display_data"
    },
    {
     "data": {
      "application/vnd.jupyter.widget-view+json": {
       "model_id": "2ccb63c1d84746d0b283581799b4066e",
       "version_major": 2,
       "version_minor": 0
      },
      "text/plain": [
       "model.safetensors:   0%|          | 0.00/438M [00:00<?, ?B/s]"
      ]
     },
     "metadata": {},
     "output_type": "display_data"
    },
    {
     "data": {
      "application/vnd.jupyter.widget-view+json": {
       "model_id": "38cac7b0024a40dea074f9037a122926",
       "version_major": 2,
       "version_minor": 0
      },
      "text/plain": [
       "tokenizer_config.json:   0%|          | 0.00/314 [00:00<?, ?B/s]"
      ]
     },
     "metadata": {},
     "output_type": "display_data"
    },
    {
     "data": {
      "application/vnd.jupyter.widget-view+json": {
       "model_id": "d64b04419c00476987bfbc595265135d",
       "version_major": 2,
       "version_minor": 0
      },
      "text/plain": [
       "vocab.txt:   0%|          | 0.00/232k [00:00<?, ?B/s]"
      ]
     },
     "metadata": {},
     "output_type": "display_data"
    },
    {
     "data": {
      "application/vnd.jupyter.widget-view+json": {
       "model_id": "e1ec4fbe34b9415c956ae3c29745d1a7",
       "version_major": 2,
       "version_minor": 0
      },
      "text/plain": [
       "tokenizer.json:   0%|          | 0.00/711k [00:00<?, ?B/s]"
      ]
     },
     "metadata": {},
     "output_type": "display_data"
    },
    {
     "data": {
      "application/vnd.jupyter.widget-view+json": {
       "model_id": "211add6edd2d4899875a31230b4cb7e3",
       "version_major": 2,
       "version_minor": 0
      },
      "text/plain": [
       "special_tokens_map.json:   0%|          | 0.00/125 [00:00<?, ?B/s]"
      ]
     },
     "metadata": {},
     "output_type": "display_data"
    },
    {
     "name": "stdout",
     "output_type": "stream",
     "text": [
      "CPU times: user 4h 2min 1s, sys: 1h 45min 11s, total: 5h 47min 12s\n",
      "Wall time: 10min 15s\n"
     ]
    },
    {
     "data": {
      "text/plain": [
       "(0.8942610062893084, 0.9191685912240185)"
      ]
     },
     "execution_count": 20,
     "metadata": {},
     "output_type": "execute_result"
    }
   ],
   "source": [
    "%%time\n",
    "pearl_model = SentenceEncoderModel(\"Lihuchen/pearl_base\", device= device)\n",
    " \n",
    "macro_f1_score, acc = eval_pred(pearl_model, \"data/vars/flattened_test_disam_list.pkl\",\n",
    "                                batch_size = 4, dd_kb=def_disamb_kb, train=False,\n",
    "                               cal=\"sim\") \n",
    "macro_f1_score, acc"
   ]
  },
  {
   "cell_type": "code",
   "execution_count": 21,
   "id": "7ec65283-6609-4642-806f-78835037b79b",
   "metadata": {
    "tags": []
   },
   "outputs": [
    {
     "data": {
      "text/plain": [
       "(0.8942610062893084, 0.9191685912240185)"
      ]
     },
     "execution_count": 21,
     "metadata": {},
     "output_type": "execute_result"
    }
   ],
   "source": [
    "eval_pred(pearl_model, \"data/vars/flattened_test_disam_list.pkl\",\n",
    "                                batch_size = 4, dd_kb=def_disamb_kb, train=False,\n",
    "                               cal=\"sim\")"
   ]
  },
  {
   "cell_type": "code",
   "execution_count": 33,
   "id": "f9f7ddda-676f-4933-82f5-3bf20492a404",
   "metadata": {
    "tags": []
   },
   "outputs": [
    {
     "name": "stderr",
     "output_type": "stream",
     "text": [
      "/opt/conda/lib/python3.10/site-packages/huggingface_hub/file_download.py:1132: FutureWarning: `resume_download` is deprecated and will be removed in version 1.0.0. Downloads always resume when possible. If you want to force a new download, use `force_download=True`.\n",
      "  warnings.warn(\n"
     ]
    },
    {
     "data": {
      "application/vnd.jupyter.widget-view+json": {
       "model_id": "83c0bb3715c7482eb6717d892e331fbe",
       "version_major": 2,
       "version_minor": 0
      },
      "text/plain": [
       "config.json:   0%|          | 0.00/571 [00:00<?, ?B/s]"
      ]
     },
     "metadata": {},
     "output_type": "display_data"
    },
    {
     "data": {
      "application/vnd.jupyter.widget-view+json": {
       "model_id": "4ecc40d3c7004a5e978964ef86781a20",
       "version_major": 2,
       "version_minor": 0
      },
      "text/plain": [
       "model.safetensors:   0%|          | 0.00/438M [00:00<?, ?B/s]"
      ]
     },
     "metadata": {},
     "output_type": "display_data"
    },
    {
     "data": {
      "application/vnd.jupyter.widget-view+json": {
       "model_id": "0750d1c0879242269d7ce40d36acbd17",
       "version_major": 2,
       "version_minor": 0
      },
      "text/plain": [
       "tokenizer_config.json:   0%|          | 0.00/363 [00:00<?, ?B/s]"
      ]
     },
     "metadata": {},
     "output_type": "display_data"
    },
    {
     "data": {
      "application/vnd.jupyter.widget-view+json": {
       "model_id": "74c76318964b4998be8b1f09465c4667",
       "version_major": 2,
       "version_minor": 0
      },
      "text/plain": [
       "vocab.txt:   0%|          | 0.00/232k [00:00<?, ?B/s]"
      ]
     },
     "metadata": {},
     "output_type": "display_data"
    },
    {
     "data": {
      "application/vnd.jupyter.widget-view+json": {
       "model_id": "7285b396fe194279bffc306886edf761",
       "version_major": 2,
       "version_minor": 0
      },
      "text/plain": [
       "tokenizer.json:   0%|          | 0.00/466k [00:00<?, ?B/s]"
      ]
     },
     "metadata": {},
     "output_type": "display_data"
    },
    {
     "data": {
      "application/vnd.jupyter.widget-view+json": {
       "model_id": "d246eee874fb43cbbbcb920a1808830e",
       "version_major": 2,
       "version_minor": 0
      },
      "text/plain": [
       "special_tokens_map.json:   0%|          | 0.00/239 [00:00<?, ?B/s]"
      ]
     },
     "metadata": {},
     "output_type": "display_data"
    },
    {
     "name": "stdout",
     "output_type": "stream",
     "text": [
      "CPU times: user 4h 18s, sys: 1h 54min 24s, total: 5h 54min 42s\n",
      "Wall time: 10min 31s\n"
     ]
    },
    {
     "data": {
      "text/plain": [
       "(0.9138364779874216, 0.9353348729792148)"
      ]
     },
     "execution_count": 33,
     "metadata": {},
     "output_type": "execute_result"
    }
   ],
   "source": [
    "%%time\n",
    "# best OOB sbert model of the CIKM'24 paper\n",
    "mpnet_sb_model = SentenceEncoderModel(\"sentence-transformers/all-mpnet-base-v2\", device= device)\n",
    " \n",
    "macro_f1_score, acc = eval_pred(mpnet_sb_model, \"data/vars/flattened_test_disam_list.pkl\",\n",
    "                                batch_size = 4, dd_kb=def_disamb_kb, train=False,\n",
    "                               cal=\"sim\") \n",
    "macro_f1_score, acc"
   ]
  },
  {
   "cell_type": "code",
   "execution_count": 34,
   "id": "bc669317-8f5a-42e1-a285-6b18d2172215",
   "metadata": {
    "tags": []
   },
   "outputs": [
    {
     "data": {
      "text/plain": [
       "(0.8896274653031411, 0.9164345403899722)"
      ]
     },
     "execution_count": 34,
     "metadata": {},
     "output_type": "execute_result"
    }
   ],
   "source": [
    "eval_pred(mpnet_sb_model, \"data/vars/flattened_train_disamb_list.pkl\",\n",
    "                                batch_size = 4, dd_kb=def_disamb_kb, train=False,\n",
    "                               cal=\"sim\") "
   ]
  },
  {
   "cell_type": "code",
   "execution_count": 166,
   "id": "67a5471b-dcbf-41e6-bb58-aba259ee452e",
   "metadata": {
    "tags": []
   },
   "outputs": [
    {
     "data": {
      "text/plain": [
       "768"
      ]
     },
     "execution_count": 166,
     "metadata": {},
     "output_type": "execute_result"
    }
   ],
   "source": [
    "len(cc_sem_model.title_emb_dict['Definition:Field Zero'])"
   ]
  },
  {
   "cell_type": "code",
   "execution_count": 188,
   "id": "06abe521-c11f-4e88-827f-3d2641cd8ae2",
   "metadata": {
    "tags": []
   },
   "outputs": [
    {
     "data": {
      "text/plain": [
       "[tensor(0.6233), tensor(0.5268)]"
      ]
     },
     "execution_count": 188,
     "metadata": {},
     "output_type": "execute_result"
    }
   ],
   "source": [
    "cal_sim_score(cc_sem_model, [title0, 'blabla'], def0)"
   ]
  },
  {
   "cell_type": "code",
   "execution_count": 178,
   "id": "cfbb9a3b-8eea-40da-8100-c73534b2e8be",
   "metadata": {
    "tags": []
   },
   "outputs": [],
   "source": [
    "title02 = 'Definition:Field Zero2'\n",
    "def02 = 'A2 dynamical system is a non-linear system in which a function describes the time dependence of a point in a geometrical space.\\n\\n\\n=== Flow ===\\nIn a dynamical system, a set of time-dependent equations is known as flow.\\n\\n '"
   ]
  },
  {
   "cell_type": "code",
   "execution_count": 189,
   "id": "51b8be7a-2e40-40d2-ac5b-e13f0e8d8bbf",
   "metadata": {
    "tags": []
   },
   "outputs": [],
   "source": [
    "embs = get_embeddings(cc_sem_model.model, cc_sem_model.tokenizer, [title0, 'blabla'])"
   ]
  },
  {
   "cell_type": "code",
   "execution_count": null,
   "id": "1c99cba4-8cb3-4575-a7d3-41ec60c3bdb4",
   "metadata": {},
   "outputs": [],
   "source": []
  }
 ],
 "metadata": {
  "kernelspec": {
   "display_name": "Python 3 (ipykernel)",
   "language": "python",
   "name": "python3"
  },
  "language_info": {
   "codemirror_mode": {
    "name": "ipython",
    "version": 3
   },
   "file_extension": ".py",
   "mimetype": "text/x-python",
   "name": "python",
   "nbconvert_exporter": "python",
   "pygments_lexer": "ipython3",
   "version": "3.10.10"
  }
 },
 "nbformat": 4,
 "nbformat_minor": 5
}
