{
 "cells": [
  {
   "cell_type": "markdown",
   "id": "2191d23f-648a-4c6f-9bf4-0a6e6d2aa831",
   "metadata": {},
   "source": [
    "# Sentence Pair Classification"
   ]
  },
  {
   "cell_type": "code",
   "execution_count": 1,
   "id": "a8f96958-f65a-45cc-9f9a-de3df638f6d3",
   "metadata": {
    "tags": []
   },
   "outputs": [
    {
     "name": "stdout",
     "output_type": "stream",
     "text": [
      "cuda\n"
     ]
    }
   ],
   "source": [
    "import os\n",
    "import sys\n",
    "import logging\n",
    "import torch\n",
    "import numpy as np\n",
    "import argparse\n",
    "from math import exp\n",
    "\n",
    "from torch import nn\n",
    "from torch.optim import lr_scheduler\n",
    "import torch.nn.functional as F\n",
    "from torch.utils.data import Dataset\n",
    "from torch.utils.data import DataLoader\n",
    "import torch.optim as optim\n",
    "\n",
    "from random import random as rand\n",
    "\n",
    "\n",
    "from transformers import BertTokenizer, BertForNextSentencePrediction\n",
    "from transformers import AutoTokenizer, AutoModelForMaskedLM,AutoModel\n",
    "#import sentence_pair_utils\n",
    "#import sentence_pair_evaluation\n",
    "import transformers\n",
    "import pandas as pd\n",
    "\n",
    "from torch import cuda\n",
    "device = 'cuda' if cuda.is_available() else 'cpu'\n",
    "print(device)\n",
    "\n",
    "import random"
   ]
  },
  {
   "cell_type": "code",
   "execution_count": 2,
   "id": "85880ba5-1260-4d7b-9cfe-5bc9b80005db",
   "metadata": {
    "tags": []
   },
   "outputs": [],
   "source": [
    "transformers.logging.set_verbosity_error()\n",
    "\n",
    "LOG_FORMAT = '%(asctime)s : %(filename)s : %(funcName)s : %(levelname)s : %(message)s'\n",
    "logging.basicConfig(filename='SentencePairCLS.log', level=logging.INFO, format=LOG_FORMAT)\n",
    "logger = logging.getLogger(\"SentencePairCLS\")"
   ]
  },
  {
   "cell_type": "code",
   "execution_count": 3,
   "id": "296682a0-ba60-4e5c-a039-3f725f498044",
   "metadata": {
    "tags": []
   },
   "outputs": [],
   "source": [
    "import pickle\n",
    "def pkl_vars(varname, filename):\n",
    "    with open(filename, 'wb') as file:\n",
    "        pickle.dump(varname, file)\n",
    "        \n",
    "def reload_vars(filename):\n",
    "    this_var = None\n",
    "    with open(filename, 'rb') as file:\n",
    "        this_var = pickle.load(file)      \n",
    "    return this_var"
   ]
  },
  {
   "cell_type": "markdown",
   "id": "5756a2a8-ae30-4038-a134-28721e89b255",
   "metadata": {
    "tags": []
   },
   "source": [
    "## Dataset prepation"
   ]
  },
  {
   "cell_type": "code",
   "execution_count": 125,
   "id": "fc703358-e91c-4234-99d3-ee383c020272",
   "metadata": {},
   "outputs": [
    {
     "data": {
      "text/html": [
       "<div>\n",
       "<style scoped>\n",
       "    .dataframe tbody tr th:only-of-type {\n",
       "        vertical-align: middle;\n",
       "    }\n",
       "\n",
       "    .dataframe tbody tr th {\n",
       "        vertical-align: top;\n",
       "    }\n",
       "\n",
       "    .dataframe thead th {\n",
       "        text-align: right;\n",
       "    }\n",
       "</style>\n",
       "<table border=\"1\" class=\"dataframe\">\n",
       "  <thead>\n",
       "    <tr style=\"text-align: right;\">\n",
       "      <th></th>\n",
       "      <th>dd_page_title</th>\n",
       "      <th>term</th>\n",
       "      <th>definition</th>\n",
       "      <th>def_page_title</th>\n",
       "      <th>categories</th>\n",
       "      <th>plain_text_definition</th>\n",
       "    </tr>\n",
       "  </thead>\n",
       "  <tbody>\n",
       "    <tr>\n",
       "      <th>1976</th>\n",
       "      <td>Definition:Zero</td>\n",
       "      <td>Zero</td>\n",
       "      <td>Let $\\mathbb A$ be one of the standard number ...</td>\n",
       "      <td>Definition:Zero Mapping</td>\n",
       "      <td>['Definitions/Mapping Theory']</td>\n",
       "      <td>Let 𝔸 be one of the standard number systems ℕ,...</td>\n",
       "    </tr>\n",
       "    <tr>\n",
       "      <th>1977</th>\n",
       "      <td>Definition:Zero</td>\n",
       "      <td>Zero</td>\n",
       "      <td>Let $f: R \\to R$ be a mapping on a ring $R$.\\n...</td>\n",
       "      <td>Definition:Root of Mapping</td>\n",
       "      <td>['Definitions/Roots of Mappings', 'Definitions...</td>\n",
       "      <td>Let f: R → R be a mapping on a ring R.\\n\\nLet ...</td>\n",
       "    </tr>\n",
       "    <tr>\n",
       "      <th>1978</th>\n",
       "      <td>Definition:Zero</td>\n",
       "      <td>Zero</td>\n",
       "      <td>Let $\\left( R, +_R, \\times_R \\right)$ be a rin...</td>\n",
       "      <td>Definition:Zero Vector</td>\n",
       "      <td>['Definitions/Module Theory', 'Definitions/Vec...</td>\n",
       "      <td>Let ( R, +_R, ×_R ) be a ring.\\n\\nLet ( G, +_G...</td>\n",
       "    </tr>\n",
       "    <tr>\n",
       "      <th>1979</th>\n",
       "      <td>Definition:Zero Locus</td>\n",
       "      <td>Zero Locus</td>\n",
       "      <td>Let $k$ be a field.\\n\\nLet $n\\geq1$ be a natur...</td>\n",
       "      <td>Definition:Zero Locus of Set of Polynomials</td>\n",
       "      <td>['Definitions/Algebraic Geometry']</td>\n",
       "      <td>Let k be a field.\\n\\nLet n≥1 be a natural numb...</td>\n",
       "    </tr>\n",
       "    <tr>\n",
       "      <th>1980</th>\n",
       "      <td>Definition:Zero Locus</td>\n",
       "      <td>Zero Locus</td>\n",
       "      <td>Let $A$ be a commutative ring with unity.\\n\\nL...</td>\n",
       "      <td>Definition:Vanishing Set of Subset of Ring</td>\n",
       "      <td>['Definitions/Zariski Topology']</td>\n",
       "      <td>Let A be a commutative ring with unity.\\n\\nLet...</td>\n",
       "    </tr>\n",
       "  </tbody>\n",
       "</table>\n",
       "</div>"
      ],
      "text/plain": [
       "              dd_page_title        term   \n",
       "1976        Definition:Zero        Zero  \\\n",
       "1977        Definition:Zero        Zero   \n",
       "1978        Definition:Zero        Zero   \n",
       "1979  Definition:Zero Locus  Zero Locus   \n",
       "1980  Definition:Zero Locus  Zero Locus   \n",
       "\n",
       "                                             definition   \n",
       "1976  Let $\\mathbb A$ be one of the standard number ...  \\\n",
       "1977  Let $f: R \\to R$ be a mapping on a ring $R$.\\n...   \n",
       "1978  Let $\\left( R, +_R, \\times_R \\right)$ be a rin...   \n",
       "1979  Let $k$ be a field.\\n\\nLet $n\\geq1$ be a natur...   \n",
       "1980  Let $A$ be a commutative ring with unity.\\n\\nL...   \n",
       "\n",
       "                                   def_page_title   \n",
       "1976                      Definition:Zero Mapping  \\\n",
       "1977                   Definition:Root of Mapping   \n",
       "1978                       Definition:Zero Vector   \n",
       "1979  Definition:Zero Locus of Set of Polynomials   \n",
       "1980   Definition:Vanishing Set of Subset of Ring   \n",
       "\n",
       "                                             categories   \n",
       "1976                     ['Definitions/Mapping Theory']  \\\n",
       "1977  ['Definitions/Roots of Mappings', 'Definitions...   \n",
       "1978  ['Definitions/Module Theory', 'Definitions/Vec...   \n",
       "1979                 ['Definitions/Algebraic Geometry']   \n",
       "1980                   ['Definitions/Zariski Topology']   \n",
       "\n",
       "                                  plain_text_definition  \n",
       "1976  Let 𝔸 be one of the standard number systems ℕ,...  \n",
       "1977  Let f: R → R be a mapping on a ring R.\\n\\nLet ...  \n",
       "1978  Let ( R, +_R, ×_R ) be a ring.\\n\\nLet ( G, +_G...  \n",
       "1979  Let k be a field.\\n\\nLet n≥1 be a natural numb...  \n",
       "1980  Let A be a commutative ring with unity.\\n\\nLet...  "
      ]
     },
     "execution_count": 125,
     "metadata": {},
     "output_type": "execute_result"
    }
   ],
   "source": [
    "df_flattened_dd = pd.read_csv(\"parsed_disambiguation_list_without===.csv\")\n",
    "df_flattened_dd.tail()"
   ]
  },
  {
   "cell_type": "code",
   "execution_count": 139,
   "id": "ae9a7097-289a-4f4a-98c6-5458d0f0ae1e",
   "metadata": {
    "scrolled": true,
    "tags": []
   },
   "outputs": [
    {
     "data": {
      "text/html": [
       "<div>\n",
       "<style scoped>\n",
       "    .dataframe tbody tr th:only-of-type {\n",
       "        vertical-align: middle;\n",
       "    }\n",
       "\n",
       "    .dataframe tbody tr th {\n",
       "        vertical-align: top;\n",
       "    }\n",
       "\n",
       "    .dataframe thead th {\n",
       "        text-align: right;\n",
       "    }\n",
       "</style>\n",
       "<table border=\"1\" class=\"dataframe\">\n",
       "  <thead>\n",
       "    <tr style=\"text-align: right;\">\n",
       "      <th></th>\n",
       "      <th>dd_page_title</th>\n",
       "      <th>term</th>\n",
       "      <th>definition</th>\n",
       "      <th>def_page_title</th>\n",
       "      <th>categories</th>\n",
       "      <th>plain_text_definition</th>\n",
       "      <th>term_in_def</th>\n",
       "      <th>biased_indexes</th>\n",
       "      <th>def_contains_other_def</th>\n",
       "    </tr>\n",
       "  </thead>\n",
       "  <tbody>\n",
       "    <tr>\n",
       "      <th>4</th>\n",
       "      <td>Definition:Absolute</td>\n",
       "      <td>Absolute</td>\n",
       "      <td>A constant is a name for an object (usually a ...</td>\n",
       "      <td>Definition:Constant</td>\n",
       "      <td>['Definitions/Constants', 'Definitions/Algebra']</td>\n",
       "      <td>A constant is a name for an object (usually a ...</td>\n",
       "      <td>False</td>\n",
       "      <td>False</td>\n",
       "      <td>False</td>\n",
       "    </tr>\n",
       "    <tr>\n",
       "      <th>12</th>\n",
       "      <td>Definition:Absolute</td>\n",
       "      <td>Absolute</td>\n",
       "      <td>Let $S$ be a sample or a population.\\n\\nLet $\\...</td>\n",
       "      <td>Definition:Frequency (Descriptive Statistics)</td>\n",
       "      <td>['Definitions/Frequency (Descriptive Statistic...</td>\n",
       "      <td>Let S be a sample or a population.\\n\\nLet ω be...</td>\n",
       "      <td>False</td>\n",
       "      <td>False</td>\n",
       "      <td>True</td>\n",
       "    </tr>\n",
       "    <tr>\n",
       "      <th>29</th>\n",
       "      <td>Definition:Additive Function</td>\n",
       "      <td>Additive Function</td>\n",
       "      <td>Let $R$ be a unique factorization domain.\\n\\nL...</td>\n",
       "      <td>Definition:Additive Function on UFD</td>\n",
       "      <td>['Definitions/Ring Theory']</td>\n",
       "      <td>Let R be a unique factorization domain.\\n\\nLet...</td>\n",
       "      <td>False</td>\n",
       "      <td>False</td>\n",
       "      <td>False</td>\n",
       "    </tr>\n",
       "    <tr>\n",
       "      <th>32</th>\n",
       "      <td>Definition:Additive Function</td>\n",
       "      <td>Additive Function</td>\n",
       "      <td>Let $\\unicode{x3a3}$ be a $\\sigma$-algebra.\\n\\...</td>\n",
       "      <td>Definition:Countably Additive Function</td>\n",
       "      <td>['Definitions/Set Systems', 'Definitions/Measu...</td>\n",
       "      <td>Let x3a3 be a σ-algebra.\\n\\nLet f: x3a3→R be a...</td>\n",
       "      <td>False</td>\n",
       "      <td>False</td>\n",
       "      <td>False</td>\n",
       "    </tr>\n",
       "    <tr>\n",
       "      <th>51</th>\n",
       "      <td>Definition:Adjacent Faces</td>\n",
       "      <td>Adjacent Faces</td>\n",
       "      <td>:\\n\\nLet $G = \\left( V, E \\right)$ be a planar...</td>\n",
       "      <td>Definition:Adjacent (Graph Theory)/Faces</td>\n",
       "      <td>['Definitions/Adjacency (Graph Theory)', 'Defi...</td>\n",
       "      <td>:\\n\\nLet G = ( V, E ) be a planar graph.\\n\\nTw...</td>\n",
       "      <td>False</td>\n",
       "      <td>False</td>\n",
       "      <td>True</td>\n",
       "    </tr>\n",
       "    <tr>\n",
       "      <th>...</th>\n",
       "      <td>...</td>\n",
       "      <td>...</td>\n",
       "      <td>...</td>\n",
       "      <td>...</td>\n",
       "      <td>...</td>\n",
       "      <td>...</td>\n",
       "      <td>...</td>\n",
       "      <td>...</td>\n",
       "      <td>...</td>\n",
       "    </tr>\n",
       "    <tr>\n",
       "      <th>1941</th>\n",
       "      <td>Definition:Vertex</td>\n",
       "      <td>Vertex</td>\n",
       "      <td>Consider a cone consisting of the set of all s...</td>\n",
       "      <td>Definition:Cone (Geometry)/Apex</td>\n",
       "      <td>['Definitions/Cones']</td>\n",
       "      <td>Consider a cone consisting of the set of all s...</td>\n",
       "      <td>False</td>\n",
       "      <td>False</td>\n",
       "      <td>False</td>\n",
       "    </tr>\n",
       "    <tr>\n",
       "      <th>1953</th>\n",
       "      <td>Definition:Weak</td>\n",
       "      <td>Weak</td>\n",
       "      <td>Let $X$ be a set.\\n\\nLet $I$ be an indexing se...</td>\n",
       "      <td>Definition:Initial Topology</td>\n",
       "      <td>['Definitions/Examples of Topologies', 'Defini...</td>\n",
       "      <td>Let X be a set.\\n\\nLet I be an indexing set.\\n...</td>\n",
       "      <td>False</td>\n",
       "      <td>False</td>\n",
       "      <td>False</td>\n",
       "    </tr>\n",
       "    <tr>\n",
       "      <th>1962</th>\n",
       "      <td>Definition:Word</td>\n",
       "      <td>Word</td>\n",
       "      <td>Let $n \\in \\mathbb N$ be a natural number.\\n\\n...</td>\n",
       "      <td>Definition:Ordered Tuple</td>\n",
       "      <td>['Definitions/Set Theory', 'Definitions/Mappin...</td>\n",
       "      <td>Let n ∈ℕ be a natural number.\\n\\nLet ℕ^*_n be ...</td>\n",
       "      <td>False</td>\n",
       "      <td>False</td>\n",
       "      <td>False</td>\n",
       "    </tr>\n",
       "    <tr>\n",
       "      <th>1977</th>\n",
       "      <td>Definition:Zero</td>\n",
       "      <td>Zero</td>\n",
       "      <td>Let $f: R \\to R$ be a mapping on a ring $R$.\\n...</td>\n",
       "      <td>Definition:Root of Mapping</td>\n",
       "      <td>['Definitions/Roots of Mappings', 'Definitions...</td>\n",
       "      <td>Let f: R → R be a mapping on a ring R.\\n\\nLet ...</td>\n",
       "      <td>False</td>\n",
       "      <td>False</td>\n",
       "      <td>True</td>\n",
       "    </tr>\n",
       "    <tr>\n",
       "      <th>1980</th>\n",
       "      <td>Definition:Zero Locus</td>\n",
       "      <td>Zero Locus</td>\n",
       "      <td>Let $A$ be a commutative ring with unity.\\n\\nL...</td>\n",
       "      <td>Definition:Vanishing Set of Subset of Ring</td>\n",
       "      <td>['Definitions/Zariski Topology']</td>\n",
       "      <td>Let A be a commutative ring with unity.\\n\\nLet...</td>\n",
       "      <td>False</td>\n",
       "      <td>False</td>\n",
       "      <td>False</td>\n",
       "    </tr>\n",
       "  </tbody>\n",
       "</table>\n",
       "<p>162 rows × 9 columns</p>\n",
       "</div>"
      ],
      "text/plain": [
       "                     dd_page_title               term   \n",
       "4              Definition:Absolute           Absolute  \\\n",
       "12             Definition:Absolute           Absolute   \n",
       "29    Definition:Additive Function  Additive Function   \n",
       "32    Definition:Additive Function  Additive Function   \n",
       "51       Definition:Adjacent Faces     Adjacent Faces   \n",
       "...                            ...                ...   \n",
       "1941             Definition:Vertex             Vertex   \n",
       "1953               Definition:Weak               Weak   \n",
       "1962               Definition:Word               Word   \n",
       "1977               Definition:Zero               Zero   \n",
       "1980         Definition:Zero Locus         Zero Locus   \n",
       "\n",
       "                                             definition   \n",
       "4     A constant is a name for an object (usually a ...  \\\n",
       "12    Let $S$ be a sample or a population.\\n\\nLet $\\...   \n",
       "29    Let $R$ be a unique factorization domain.\\n\\nL...   \n",
       "32    Let $\\unicode{x3a3}$ be a $\\sigma$-algebra.\\n\\...   \n",
       "51    :\\n\\nLet $G = \\left( V, E \\right)$ be a planar...   \n",
       "...                                                 ...   \n",
       "1941  Consider a cone consisting of the set of all s...   \n",
       "1953  Let $X$ be a set.\\n\\nLet $I$ be an indexing se...   \n",
       "1962  Let $n \\in \\mathbb N$ be a natural number.\\n\\n...   \n",
       "1977  Let $f: R \\to R$ be a mapping on a ring $R$.\\n...   \n",
       "1980  Let $A$ be a commutative ring with unity.\\n\\nL...   \n",
       "\n",
       "                                     def_page_title   \n",
       "4                               Definition:Constant  \\\n",
       "12    Definition:Frequency (Descriptive Statistics)   \n",
       "29              Definition:Additive Function on UFD   \n",
       "32           Definition:Countably Additive Function   \n",
       "51         Definition:Adjacent (Graph Theory)/Faces   \n",
       "...                                             ...   \n",
       "1941                Definition:Cone (Geometry)/Apex   \n",
       "1953                    Definition:Initial Topology   \n",
       "1962                       Definition:Ordered Tuple   \n",
       "1977                     Definition:Root of Mapping   \n",
       "1980     Definition:Vanishing Set of Subset of Ring   \n",
       "\n",
       "                                             categories   \n",
       "4      ['Definitions/Constants', 'Definitions/Algebra']  \\\n",
       "12    ['Definitions/Frequency (Descriptive Statistic...   \n",
       "29                          ['Definitions/Ring Theory']   \n",
       "32    ['Definitions/Set Systems', 'Definitions/Measu...   \n",
       "51    ['Definitions/Adjacency (Graph Theory)', 'Defi...   \n",
       "...                                                 ...   \n",
       "1941                              ['Definitions/Cones']   \n",
       "1953  ['Definitions/Examples of Topologies', 'Defini...   \n",
       "1962  ['Definitions/Set Theory', 'Definitions/Mappin...   \n",
       "1977  ['Definitions/Roots of Mappings', 'Definitions...   \n",
       "1980                   ['Definitions/Zariski Topology']   \n",
       "\n",
       "                                  plain_text_definition  term_in_def   \n",
       "4     A constant is a name for an object (usually a ...        False  \\\n",
       "12    Let S be a sample or a population.\\n\\nLet ω be...        False   \n",
       "29    Let R be a unique factorization domain.\\n\\nLet...        False   \n",
       "32    Let x3a3 be a σ-algebra.\\n\\nLet f: x3a3→R be a...        False   \n",
       "51    :\\n\\nLet G = ( V, E ) be a planar graph.\\n\\nTw...        False   \n",
       "...                                                 ...          ...   \n",
       "1941  Consider a cone consisting of the set of all s...        False   \n",
       "1953  Let X be a set.\\n\\nLet I be an indexing set.\\n...        False   \n",
       "1962  Let n ∈ℕ be a natural number.\\n\\nLet ℕ^*_n be ...        False   \n",
       "1977  Let f: R → R be a mapping on a ring R.\\n\\nLet ...        False   \n",
       "1980  Let A be a commutative ring with unity.\\n\\nLet...        False   \n",
       "\n",
       "      biased_indexes  def_contains_other_def  \n",
       "4              False                   False  \n",
       "12             False                    True  \n",
       "29             False                   False  \n",
       "32             False                   False  \n",
       "51             False                    True  \n",
       "...              ...                     ...  \n",
       "1941           False                   False  \n",
       "1953           False                   False  \n",
       "1962           False                   False  \n",
       "1977           False                    True  \n",
       "1980           False                   False  \n",
       "\n",
       "[162 rows x 9 columns]"
      ]
     },
     "execution_count": 139,
     "metadata": {},
     "output_type": "execute_result"
    }
   ],
   "source": [
    "df_flattened_dd['term_in_def'] = df_flattened_dd.apply(lambda row: row['term'].lower() in row['plain_text_definition'].lower(), axis=1)\n",
    "df_flattened_dd[~df_flattened_dd['term_in_def']]"
   ]
  },
  {
   "cell_type": "code",
   "execution_count": 140,
   "id": "e39b13a5-7166-4655-bb41-a01a3dd42b8b",
   "metadata": {
    "scrolled": true,
    "tags": []
   },
   "outputs": [
    {
     "data": {
      "text/html": [
       "<div>\n",
       "<style scoped>\n",
       "    .dataframe tbody tr th:only-of-type {\n",
       "        vertical-align: middle;\n",
       "    }\n",
       "\n",
       "    .dataframe tbody tr th {\n",
       "        vertical-align: top;\n",
       "    }\n",
       "\n",
       "    .dataframe thead th {\n",
       "        text-align: right;\n",
       "    }\n",
       "</style>\n",
       "<table border=\"1\" class=\"dataframe\">\n",
       "  <thead>\n",
       "    <tr style=\"text-align: right;\">\n",
       "      <th></th>\n",
       "      <th>dd_page_title</th>\n",
       "      <th>term</th>\n",
       "      <th>definition</th>\n",
       "      <th>def_page_title</th>\n",
       "      <th>categories</th>\n",
       "      <th>plain_text_definition</th>\n",
       "      <th>term_in_def</th>\n",
       "      <th>biased_indexes</th>\n",
       "      <th>def_contains_other_def</th>\n",
       "      <th>term_in_def_page_title</th>\n",
       "    </tr>\n",
       "  </thead>\n",
       "  <tbody>\n",
       "    <tr>\n",
       "      <th>4</th>\n",
       "      <td>Definition:Absolute</td>\n",
       "      <td>Absolute</td>\n",
       "      <td>A constant is a name for an object (usually a ...</td>\n",
       "      <td>Definition:Constant</td>\n",
       "      <td>['Definitions/Constants', 'Definitions/Algebra']</td>\n",
       "      <td>A constant is a name for an object (usually a ...</td>\n",
       "      <td>False</td>\n",
       "      <td>False</td>\n",
       "      <td>False</td>\n",
       "      <td>False</td>\n",
       "    </tr>\n",
       "    <tr>\n",
       "      <th>12</th>\n",
       "      <td>Definition:Absolute</td>\n",
       "      <td>Absolute</td>\n",
       "      <td>Let $S$ be a sample or a population.\\n\\nLet $\\...</td>\n",
       "      <td>Definition:Frequency (Descriptive Statistics)</td>\n",
       "      <td>['Definitions/Frequency (Descriptive Statistic...</td>\n",
       "      <td>Let S be a sample or a population.\\n\\nLet ω be...</td>\n",
       "      <td>False</td>\n",
       "      <td>False</td>\n",
       "      <td>True</td>\n",
       "      <td>False</td>\n",
       "    </tr>\n",
       "    <tr>\n",
       "      <th>51</th>\n",
       "      <td>Definition:Adjacent Faces</td>\n",
       "      <td>Adjacent Faces</td>\n",
       "      <td>:\\n\\nLet $G = \\left( V, E \\right)$ be a planar...</td>\n",
       "      <td>Definition:Adjacent (Graph Theory)/Faces</td>\n",
       "      <td>['Definitions/Adjacency (Graph Theory)', 'Defi...</td>\n",
       "      <td>:\\n\\nLet G = ( V, E ) be a planar graph.\\n\\nTw...</td>\n",
       "      <td>False</td>\n",
       "      <td>False</td>\n",
       "      <td>True</td>\n",
       "      <td>False</td>\n",
       "    </tr>\n",
       "    <tr>\n",
       "      <th>52</th>\n",
       "      <td>Definition:Adjacent Faces</td>\n",
       "      <td>Adjacent Faces</td>\n",
       "      <td>Two faces of a polyhedron that meet at the sam...</td>\n",
       "      <td>Definition:Polyhedron/Adjacent/Faces</td>\n",
       "      <td>['Definitions/Adjacent (Polyhedra)']</td>\n",
       "      <td>Two faces of a polyhedron that meet at the sam...</td>\n",
       "      <td>False</td>\n",
       "      <td>False</td>\n",
       "      <td>True</td>\n",
       "      <td>False</td>\n",
       "    </tr>\n",
       "    <tr>\n",
       "      <th>70</th>\n",
       "      <td>Definition:Aggregation</td>\n",
       "      <td>Aggregation</td>\n",
       "      <td>Parenthesis is a syntactical technique to disa...</td>\n",
       "      <td>Definition:Parenthesis</td>\n",
       "      <td>['Definitions/Parenthesis', 'Definitions/Symbo...</td>\n",
       "      <td>Parenthesis is a syntactical technique to disa...</td>\n",
       "      <td>False</td>\n",
       "      <td>False</td>\n",
       "      <td>False</td>\n",
       "      <td>False</td>\n",
       "    </tr>\n",
       "    <tr>\n",
       "      <th>...</th>\n",
       "      <td>...</td>\n",
       "      <td>...</td>\n",
       "      <td>...</td>\n",
       "      <td>...</td>\n",
       "      <td>...</td>\n",
       "      <td>...</td>\n",
       "      <td>...</td>\n",
       "      <td>...</td>\n",
       "      <td>...</td>\n",
       "      <td>...</td>\n",
       "    </tr>\n",
       "    <tr>\n",
       "      <th>1941</th>\n",
       "      <td>Definition:Vertex</td>\n",
       "      <td>Vertex</td>\n",
       "      <td>Consider a cone consisting of the set of all s...</td>\n",
       "      <td>Definition:Cone (Geometry)/Apex</td>\n",
       "      <td>['Definitions/Cones']</td>\n",
       "      <td>Consider a cone consisting of the set of all s...</td>\n",
       "      <td>False</td>\n",
       "      <td>False</td>\n",
       "      <td>False</td>\n",
       "      <td>False</td>\n",
       "    </tr>\n",
       "    <tr>\n",
       "      <th>1953</th>\n",
       "      <td>Definition:Weak</td>\n",
       "      <td>Weak</td>\n",
       "      <td>Let $X$ be a set.\\n\\nLet $I$ be an indexing se...</td>\n",
       "      <td>Definition:Initial Topology</td>\n",
       "      <td>['Definitions/Examples of Topologies', 'Defini...</td>\n",
       "      <td>Let X be a set.\\n\\nLet I be an indexing set.\\n...</td>\n",
       "      <td>False</td>\n",
       "      <td>False</td>\n",
       "      <td>False</td>\n",
       "      <td>False</td>\n",
       "    </tr>\n",
       "    <tr>\n",
       "      <th>1962</th>\n",
       "      <td>Definition:Word</td>\n",
       "      <td>Word</td>\n",
       "      <td>Let $n \\in \\mathbb N$ be a natural number.\\n\\n...</td>\n",
       "      <td>Definition:Ordered Tuple</td>\n",
       "      <td>['Definitions/Set Theory', 'Definitions/Mappin...</td>\n",
       "      <td>Let n ∈ℕ be a natural number.\\n\\nLet ℕ^*_n be ...</td>\n",
       "      <td>False</td>\n",
       "      <td>False</td>\n",
       "      <td>False</td>\n",
       "      <td>False</td>\n",
       "    </tr>\n",
       "    <tr>\n",
       "      <th>1977</th>\n",
       "      <td>Definition:Zero</td>\n",
       "      <td>Zero</td>\n",
       "      <td>Let $f: R \\to R$ be a mapping on a ring $R$.\\n...</td>\n",
       "      <td>Definition:Root of Mapping</td>\n",
       "      <td>['Definitions/Roots of Mappings', 'Definitions...</td>\n",
       "      <td>Let f: R → R be a mapping on a ring R.\\n\\nLet ...</td>\n",
       "      <td>False</td>\n",
       "      <td>False</td>\n",
       "      <td>True</td>\n",
       "      <td>False</td>\n",
       "    </tr>\n",
       "    <tr>\n",
       "      <th>1980</th>\n",
       "      <td>Definition:Zero Locus</td>\n",
       "      <td>Zero Locus</td>\n",
       "      <td>Let $A$ be a commutative ring with unity.\\n\\nL...</td>\n",
       "      <td>Definition:Vanishing Set of Subset of Ring</td>\n",
       "      <td>['Definitions/Zariski Topology']</td>\n",
       "      <td>Let A be a commutative ring with unity.\\n\\nLet...</td>\n",
       "      <td>False</td>\n",
       "      <td>False</td>\n",
       "      <td>False</td>\n",
       "      <td>False</td>\n",
       "    </tr>\n",
       "  </tbody>\n",
       "</table>\n",
       "<p>179 rows × 10 columns</p>\n",
       "</div>"
      ],
      "text/plain": [
       "                  dd_page_title            term   \n",
       "4           Definition:Absolute        Absolute  \\\n",
       "12          Definition:Absolute        Absolute   \n",
       "51    Definition:Adjacent Faces  Adjacent Faces   \n",
       "52    Definition:Adjacent Faces  Adjacent Faces   \n",
       "70       Definition:Aggregation     Aggregation   \n",
       "...                         ...             ...   \n",
       "1941          Definition:Vertex          Vertex   \n",
       "1953            Definition:Weak            Weak   \n",
       "1962            Definition:Word            Word   \n",
       "1977            Definition:Zero            Zero   \n",
       "1980      Definition:Zero Locus      Zero Locus   \n",
       "\n",
       "                                             definition   \n",
       "4     A constant is a name for an object (usually a ...  \\\n",
       "12    Let $S$ be a sample or a population.\\n\\nLet $\\...   \n",
       "51    :\\n\\nLet $G = \\left( V, E \\right)$ be a planar...   \n",
       "52    Two faces of a polyhedron that meet at the sam...   \n",
       "70    Parenthesis is a syntactical technique to disa...   \n",
       "...                                                 ...   \n",
       "1941  Consider a cone consisting of the set of all s...   \n",
       "1953  Let $X$ be a set.\\n\\nLet $I$ be an indexing se...   \n",
       "1962  Let $n \\in \\mathbb N$ be a natural number.\\n\\n...   \n",
       "1977  Let $f: R \\to R$ be a mapping on a ring $R$.\\n...   \n",
       "1980  Let $A$ be a commutative ring with unity.\\n\\nL...   \n",
       "\n",
       "                                     def_page_title   \n",
       "4                               Definition:Constant  \\\n",
       "12    Definition:Frequency (Descriptive Statistics)   \n",
       "51         Definition:Adjacent (Graph Theory)/Faces   \n",
       "52             Definition:Polyhedron/Adjacent/Faces   \n",
       "70                           Definition:Parenthesis   \n",
       "...                                             ...   \n",
       "1941                Definition:Cone (Geometry)/Apex   \n",
       "1953                    Definition:Initial Topology   \n",
       "1962                       Definition:Ordered Tuple   \n",
       "1977                     Definition:Root of Mapping   \n",
       "1980     Definition:Vanishing Set of Subset of Ring   \n",
       "\n",
       "                                             categories   \n",
       "4      ['Definitions/Constants', 'Definitions/Algebra']  \\\n",
       "12    ['Definitions/Frequency (Descriptive Statistic...   \n",
       "51    ['Definitions/Adjacency (Graph Theory)', 'Defi...   \n",
       "52                 ['Definitions/Adjacent (Polyhedra)']   \n",
       "70    ['Definitions/Parenthesis', 'Definitions/Symbo...   \n",
       "...                                                 ...   \n",
       "1941                              ['Definitions/Cones']   \n",
       "1953  ['Definitions/Examples of Topologies', 'Defini...   \n",
       "1962  ['Definitions/Set Theory', 'Definitions/Mappin...   \n",
       "1977  ['Definitions/Roots of Mappings', 'Definitions...   \n",
       "1980                   ['Definitions/Zariski Topology']   \n",
       "\n",
       "                                  plain_text_definition  term_in_def   \n",
       "4     A constant is a name for an object (usually a ...        False  \\\n",
       "12    Let S be a sample or a population.\\n\\nLet ω be...        False   \n",
       "51    :\\n\\nLet G = ( V, E ) be a planar graph.\\n\\nTw...        False   \n",
       "52    Two faces of a polyhedron that meet at the sam...        False   \n",
       "70    Parenthesis is a syntactical technique to disa...        False   \n",
       "...                                                 ...          ...   \n",
       "1941  Consider a cone consisting of the set of all s...        False   \n",
       "1953  Let X be a set.\\n\\nLet I be an indexing set.\\n...        False   \n",
       "1962  Let n ∈ℕ be a natural number.\\n\\nLet ℕ^*_n be ...        False   \n",
       "1977  Let f: R → R be a mapping on a ring R.\\n\\nLet ...        False   \n",
       "1980  Let A be a commutative ring with unity.\\n\\nLet...        False   \n",
       "\n",
       "      biased_indexes  def_contains_other_def  term_in_def_page_title  \n",
       "4              False                   False                   False  \n",
       "12             False                    True                   False  \n",
       "51             False                    True                   False  \n",
       "52             False                    True                   False  \n",
       "70             False                   False                   False  \n",
       "...              ...                     ...                     ...  \n",
       "1941           False                   False                   False  \n",
       "1953           False                   False                   False  \n",
       "1962           False                   False                   False  \n",
       "1977           False                    True                   False  \n",
       "1980           False                   False                   False  \n",
       "\n",
       "[179 rows x 10 columns]"
      ]
     },
     "execution_count": 140,
     "metadata": {},
     "output_type": "execute_result"
    }
   ],
   "source": [
    "# Todo: does it really matter ? \n",
    "df_flattened_dd['term_in_def_page_title'] = df_flattened_dd.apply(lambda row: row['term'].lower() in row['def_page_title'].lower(), axis=1)\n",
    "df_flattened_dd[~df_flattened_dd['term_in_def_page_title']]"
   ]
  },
  {
   "cell_type": "code",
   "execution_count": 147,
   "id": "f8f810a6-e54c-4179-b39f-df6a8459dfdd",
   "metadata": {
    "scrolled": true,
    "tags": []
   },
   "outputs": [],
   "source": [
    "todo_dict_term_not_in_def = df_flattened_dd[~df_flattened_dd['term_in_def']].to_dict(orient='records')\n",
    "pkl_vars(todo_dict_term_not_in_def, 'data/vars/todo_dict_term_not_in_def')"
   ]
  },
  {
   "cell_type": "markdown",
   "id": "1c599ec4-c817-45dd-9b57-612e7be5ce1e",
   "metadata": {},
   "source": [
    "### todo1: use the redirections to repair the definition titles containing term\n",
    "e.g.: https://proofwiki.org/wiki/Definition:Frequency_(Descriptive_Statistics) does not contain \"Abosolute\"  https://proofwiki.org/wiki/Definition:Absolute_Frequency https://proofwiki.org/wiki/Definition:Absolute"
   ]
  },
  {
   "cell_type": "code",
   "execution_count": null,
   "id": "5e7bd904-0a59-43d9-9ddb-6a62b3ad1588",
   "metadata": {},
   "outputs": [],
   "source": [
    "redirects = reload_vars('data/vars/redirects_list.pkl')"
   ]
  },
  {
   "cell_type": "code",
   "execution_count": null,
   "id": "e668b0bb-b267-4b97-abb0-e0450f10266b",
   "metadata": {},
   "outputs": [
    {
     "data": {
      "text/plain": [
       "'Definition:Frequency (Descriptive Statistics)'"
      ]
     },
     "execution_count": 161,
     "metadata": {},
     "output_type": "execute_result"
    }
   ],
   "source": [
    "redirects.get('Definition:Absolute Frequency')"
   ]
  },
  {
   "cell_type": "code",
   "execution_count": 167,
   "id": "dc9863a1-ff91-4b2d-a3c3-d4807cbfdd8a",
   "metadata": {
    "tags": []
   },
   "outputs": [
    {
     "ename": "RuntimeError",
     "evalue": "dictionary changed size during iteration",
     "output_type": "error",
     "traceback": [
      "\u001b[0;31m---------------------------------------------------------------------------\u001b[0m",
      "\u001b[0;31mRuntimeError\u001b[0m                              Traceback (most recent call last)",
      "Cell \u001b[0;32mIn[167], line 2\u001b[0m\n\u001b[1;32m      1\u001b[0m inv_redirects \u001b[38;5;241m=\u001b[39m {}\n\u001b[0;32m----> 2\u001b[0m \u001b[38;5;28;01mfor\u001b[39;00m k, v \u001b[38;5;129;01min\u001b[39;00m redirects\u001b[38;5;241m.\u001b[39mitems():\n\u001b[1;32m      3\u001b[0m     redirects[v] \u001b[38;5;241m=\u001b[39m redirects\u001b[38;5;241m.\u001b[39mget(v, []) \u001b[38;5;241m+\u001b[39m [k]\n",
      "\u001b[0;31mRuntimeError\u001b[0m: dictionary changed size during iteration"
     ]
    }
   ],
   "source": [
    "inv_redirects = {}\n",
    "for k, v in redirects.items():\n",
    "    redirects[v] = redirects.get(v, []) + [k]"
   ]
  },
  {
   "cell_type": "markdown",
   "id": "79740cec-234f-4d9e-887f-f53d82cd3933",
   "metadata": {},
   "source": [
    "### todo2: use the redirection title pairs make positive pairs"
   ]
  },
  {
   "cell_type": "code",
   "execution_count": null,
   "id": "3c7c019b-fa4d-4963-81c4-d50a58931ab8",
   "metadata": {},
   "outputs": [],
   "source": []
  },
  {
   "cell_type": "markdown",
   "id": "3095a99c-7f3b-464f-8c4e-63b9b33a327e",
   "metadata": {},
   "source": [
    "### Bias removal: An upper category term of which the definition contains the definitions of its sub-category terms should not be in the same group with these sub-category terms "
   ]
  },
  {
   "cell_type": "code",
   "execution_count": 127,
   "id": "fb338baa-7619-4739-abe1-79a355a4ef78",
   "metadata": {
    "tags": []
   },
   "outputs": [],
   "source": [
    "contained_indexes = []\n",
    "duplicated_upper_indexes = []\n",
    "def_list = list(df_flattened_dd[\"plain_text_definition\"])\n",
    "term_list = list(df_flattened_dd[\"term\"])\n",
    "for index1, def1 in enumerate(def_list):\n",
    "    for index2, def2 in enumerate(def_list):\n",
    "        if (index2 != index1 and def1 in def2):\n",
    "            contained_indexes.append((index1, index2))\n",
    "            if term_list[index1] == term_list[index2]:\n",
    "                duplicated_upper_indexes.append((index1, index2))"
   ]
  },
  {
   "cell_type": "code",
   "execution_count": 128,
   "id": "b5e559d7-0b30-4648-821f-50d84d31c0dd",
   "metadata": {
    "tags": []
   },
   "outputs": [
    {
     "data": {
      "text/plain": [
       "(678, 456)"
      ]
     },
     "execution_count": 128,
     "metadata": {},
     "output_type": "execute_result"
    }
   ],
   "source": [
    "upper_cat_indexes = set([v for k,v in contained_indexes])\n",
    "len(contained_indexes), len(upper_cat_indexes)"
   ]
  },
  {
   "cell_type": "code",
   "execution_count": 129,
   "id": "3a63d1f5-2eda-455d-a938-ddaf600a12e0",
   "metadata": {
    "tags": []
   },
   "outputs": [
    {
     "data": {
      "text/plain": [
       "111"
      ]
     },
     "execution_count": 129,
     "metadata": {},
     "output_type": "execute_result"
    }
   ],
   "source": [
    "biased_indexes = set([v for k,v in duplicated_upper_indexes])\n",
    "len(biased_indexes)"
   ]
  },
  {
   "cell_type": "code",
   "execution_count": 130,
   "id": "811b9b3b-20bb-4d48-b7d6-9533d784609d",
   "metadata": {
    "scrolled": true,
    "tags": []
   },
   "outputs": [
    {
     "data": {
      "text/plain": [
       "{'Definition:Adjacent (Graph Theory)': 1,\n",
       " 'Definition:Parallel (Geometry)': 1,\n",
       " 'Definition:Rooted Tree': 1,\n",
       " 'Definition:Right-Hand Derivative': 1,\n",
       " 'Definition:Regular Representations': 1,\n",
       " 'Definition:Rank (Linear Algebra)': 1,\n",
       " 'Definition:Proper Divisor': 1,\n",
       " 'Definition:Proper Coloring': 1,\n",
       " 'Definition:Group Product': 1,\n",
       " 'Definition:Product (Abstract Algebra)': 1,\n",
       " 'Definition:Power of Element': 1,\n",
       " 'Definition:Polar Coordinates': 1,\n",
       " 'Definition:Periodic Function/Real': 1,\n",
       " 'Definition:Orthogonal (Analytic Geometry)': 1,\n",
       " 'Definition:Separated by Neighborhoods': 1,\n",
       " 'Definition:Matrix/Order': 1,\n",
       " 'Definition:Elastic Modulus': 1,\n",
       " 'Definition:Ellipse/Minor Axis': 1,\n",
       " 'Definition:Median (Statistics)': 1,\n",
       " 'Definition:Topological Manifold': 1,\n",
       " 'Definition:Ellipse/Major Axis': 1,\n",
       " 'Definition:Lower Bound of Sequence': 1,\n",
       " 'Definition:Lower Bound of Mapping': 1,\n",
       " 'Definition:Lower Bound of Set': 1,\n",
       " 'Definition:Left-Hand Derivative': 1,\n",
       " 'Definition:Kernel (Abstract Algebra)': 1,\n",
       " 'Definition:Section (Geometry)': 1,\n",
       " 'Definition:Separated by Closed Neighborhoods': 1,\n",
       " 'Definition:Irreducible (Representation Theory)': 1,\n",
       " 'Definition:Differential Equation/System': 1,\n",
       " 'Definition:Walk (Graph Theory)': 1,\n",
       " 'Definition:Vertex of Conic Section': 1,\n",
       " 'Definition:Vertex (Geometry)': 1,\n",
       " 'Definition:Upper Bound of Sequence': 1,\n",
       " 'Definition:Upper Bound of Mapping': 1,\n",
       " 'Definition:Upper Bound of Set': 1,\n",
       " 'Definition:Unity (Abstract Algebra)': 1,\n",
       " 'Definition:Set Union': 1,\n",
       " 'Definition:Natural Transformation': 1,\n",
       " 'Definition:Transcendental (Abstract Algebra)': 1,\n",
       " 'Definition:Trace (Linear Algebra)': 1,\n",
       " 'Definition:Mathematical System': 1,\n",
       " 'Definition:Continued Fraction/Simple': 1,\n",
       " 'Definition:Orthogonal Coordinate System': 1,\n",
       " 'Definition:Sound Proof System': 1,\n",
       " 'Definition:Supremum of Mapping': 1,\n",
       " 'Definition:Supremum of Set': 1,\n",
       " 'Definition:Support of Continuous Mapping': 1,\n",
       " 'Definition:Support of Mapping to Algebraic Structure': 1,\n",
       " 'Definition:Substitution (Formal Systems)': 1,\n",
       " 'Definition:Subdivision (Graph Theory)': 1,\n",
       " 'Definition:Formal Semantics/Structure': 1,\n",
       " 'Definition:Fiber of Truth': 1,\n",
       " 'Definition:Differential Equation/Solution': 1,\n",
       " 'Definition:Isomorphism (Abstract Algebra)': 1,\n",
       " 'Definition:Inverse Semigroup': 1,\n",
       " 'Definition:Polygon/Adjacent': 1,\n",
       " 'Definition:Chain (Order Theory)': 1,\n",
       " 'Definition:Compatible Charts': 1,\n",
       " 'Definition:Compact Space/Metric Space': 1,\n",
       " 'Definition:Compact Space/Euclidean Space': 1,\n",
       " 'Definition:Compact Space': 1,\n",
       " 'Definition:Greatest Common Divisor': 1,\n",
       " 'Definition:Common Divisor': 1,\n",
       " 'Definition:Common Denominator': 1,\n",
       " 'Definition:Closed Set': 1,\n",
       " 'Definition:Circumference of Geometric Figure': 1,\n",
       " 'Definition:Cipher (Cryptography)': 1,\n",
       " 'Definition:Characteristic of Field': 1,\n",
       " 'Definition:Multifunction/Branch': 1,\n",
       " 'Definition:Connected (Graph Theory)': 1,\n",
       " 'Definition:Bounded Below Sequence': 1,\n",
       " 'Definition:Bounded Below Mapping': 1,\n",
       " 'Definition:Bounded Below Set': 1,\n",
       " 'Definition:Bounded Above Sequence': 1,\n",
       " 'Definition:Bounded Above Mapping': 1,\n",
       " 'Definition:Bounded Above Set': 1,\n",
       " 'Definition:Bounded Sequence': 1,\n",
       " 'Definition:Bounded Mapping': 1,\n",
       " 'Definition:Bounded Set': 1,\n",
       " 'Definition:Altitude of Geometric Figure': 1,\n",
       " 'Definition:Polyhedron/Adjacent': 1,\n",
       " 'Definition:Connected (Topology)': 1,\n",
       " 'Definition:Content of Polynomial': 1,\n",
       " 'Definition:Infimum of Mapping': 1,\n",
       " 'Definition:Extension of Class': 1,\n",
       " 'Definition:Infimum of Set': 1,\n",
       " 'Definition:Indexing Set': 1,\n",
       " 'Definition:Ideal (Order Theory)': 1,\n",
       " 'Definition:Ideal of Algebra': 1,\n",
       " 'Definition:Ideal of Ring': 1,\n",
       " 'Definition:Homomorphism (Abstract Algebra)': 1,\n",
       " 'Definition:Harmonic Progression': 1,\n",
       " 'Definition:Harmonic Series': 1,\n",
       " 'Definition:Harmonic Numbers': 1,\n",
       " 'Definition:Graph of Mapping': 1,\n",
       " 'Definition:Field (Physics)': 1,\n",
       " 'Definition:Logical Equivalence': 1,\n",
       " 'Definition:Convolution (Measure Theory)': 1,\n",
       " 'Definition:Equilibrium (Mechanics)': 1,\n",
       " 'Definition:Algebraic Dual': 1,\n",
       " 'Definition:Discontinuous Mapping/Real Function': 1,\n",
       " 'Definition:Discontinuous Mapping': 1,\n",
       " 'Definition:Direct Image Mapping': 1,\n",
       " 'Definition:Krull Dimension': 1,\n",
       " 'Definition:Dimension (Topology)': 1,\n",
       " 'Definition:Dihedral (Geometry)': 1,\n",
       " 'Definition:Diameter of Conic Section': 1,\n",
       " 'Definition:Density (Physics)': 1,\n",
       " 'Definition:Algebraic Number/Degree': 1,\n",
       " 'Definition:Zero (Number)': 1}"
      ]
     },
     "execution_count": 130,
     "metadata": {},
     "output_type": "execute_result"
    }
   ],
   "source": [
    "# these should be removed\n",
    "df_flattened_dd[\"biased_indexes\"] = df_flattened_dd.index.isin(biased_indexes)\n",
    "dict(df_flattened_dd[df_flattened_dd[\"biased_indexes\"]]['def_page_title'].value_counts())"
   ]
  },
  {
   "cell_type": "code",
   "execution_count": 131,
   "id": "8fde7b71-2bb5-4ff0-ad80-e76b80390af3",
   "metadata": {
    "scrolled": true,
    "tags": []
   },
   "outputs": [],
   "source": [
    "df_flattened_dd[\"def_contains_other_def\"] = df_flattened_dd.index.isin(upper_cat_indexes)"
   ]
  },
  {
   "cell_type": "code",
   "execution_count": 137,
   "id": "93be2222-2f60-480a-a58a-45d84f8fac15",
   "metadata": {
    "tags": []
   },
   "outputs": [
    {
     "data": {
      "text/html": [
       "<div>\n",
       "<style scoped>\n",
       "    .dataframe tbody tr th:only-of-type {\n",
       "        vertical-align: middle;\n",
       "    }\n",
       "\n",
       "    .dataframe tbody tr th {\n",
       "        vertical-align: top;\n",
       "    }\n",
       "\n",
       "    .dataframe thead th {\n",
       "        text-align: right;\n",
       "    }\n",
       "</style>\n",
       "<table border=\"1\" class=\"dataframe\">\n",
       "  <thead>\n",
       "    <tr style=\"text-align: right;\">\n",
       "      <th></th>\n",
       "      <th>dd_page_title</th>\n",
       "      <th>term</th>\n",
       "      <th>definition</th>\n",
       "      <th>def_page_title</th>\n",
       "      <th>categories</th>\n",
       "      <th>plain_text_definition</th>\n",
       "      <th>term_in_def</th>\n",
       "      <th>biased_indexes</th>\n",
       "      <th>def_contains_other_def</th>\n",
       "    </tr>\n",
       "  </thead>\n",
       "  <tbody>\n",
       "    <tr>\n",
       "      <th>5</th>\n",
       "      <td>Definition:Absolute</td>\n",
       "      <td>Absolute</td>\n",
       "      <td>=== Definition 1 ===\\nLet $x \\in \\mathbb R$ be...</td>\n",
       "      <td>Definition:Absolute Value</td>\n",
       "      <td>['Definitions/Absolute Value Function', 'Defin...</td>\n",
       "      <td>=== Definition 1 ===\\nLet x ∈ℝ be a real numbe...</td>\n",
       "      <td>True</td>\n",
       "      <td>False</td>\n",
       "      <td>True</td>\n",
       "    </tr>\n",
       "    <tr>\n",
       "      <th>12</th>\n",
       "      <td>Definition:Absolute</td>\n",
       "      <td>Absolute</td>\n",
       "      <td>Let $S$ be a sample or a population.\\n\\nLet $\\...</td>\n",
       "      <td>Definition:Frequency (Descriptive Statistics)</td>\n",
       "      <td>['Definitions/Frequency (Descriptive Statistic...</td>\n",
       "      <td>Let S be a sample or a population.\\n\\nLet ω be...</td>\n",
       "      <td>False</td>\n",
       "      <td>False</td>\n",
       "      <td>True</td>\n",
       "    </tr>\n",
       "    <tr>\n",
       "      <th>22</th>\n",
       "      <td>Definition:Action</td>\n",
       "      <td>Action</td>\n",
       "      <td>Let $X$ be a set.\\n\\nLet $\\left( G, \\circ \\rig...</td>\n",
       "      <td>Definition:Group Action</td>\n",
       "      <td>['Definitions/Group Actions']</td>\n",
       "      <td>Let X be a set.\\n\\nLet ( G, ∘) be a group whos...</td>\n",
       "      <td>True</td>\n",
       "      <td>False</td>\n",
       "      <td>True</td>\n",
       "    </tr>\n",
       "    <tr>\n",
       "      <th>23</th>\n",
       "      <td>Definition:Action</td>\n",
       "      <td>Action</td>\n",
       "      <td>Let $R$ be a ring.\\n\\nLet $M$ be an abelian gr...</td>\n",
       "      <td>Definition:Linear Ring Action</td>\n",
       "      <td>['Definitions/Module Theory', 'Definitions/Lin...</td>\n",
       "      <td>Let R be a ring.\\n\\nLet M be an abelian group....</td>\n",
       "      <td>True</td>\n",
       "      <td>False</td>\n",
       "      <td>True</td>\n",
       "    </tr>\n",
       "    <tr>\n",
       "      <th>35</th>\n",
       "      <td>Definition:Adjacent</td>\n",
       "      <td>Adjacent</td>\n",
       "      <td>=== Undirected Graph ===\\nLet $G = \\left( V, E...</td>\n",
       "      <td>Definition:Adjacent (Graph Theory)/Edges</td>\n",
       "      <td>['Definitions/Edges of Graphs', 'Definitions/A...</td>\n",
       "      <td>=== Undirected Graph ===\\nLet G = ( V, E ) be ...</td>\n",
       "      <td>True</td>\n",
       "      <td>False</td>\n",
       "      <td>True</td>\n",
       "    </tr>\n",
       "    <tr>\n",
       "      <th>...</th>\n",
       "      <td>...</td>\n",
       "      <td>...</td>\n",
       "      <td>...</td>\n",
       "      <td>...</td>\n",
       "      <td>...</td>\n",
       "      <td>...</td>\n",
       "      <td>...</td>\n",
       "      <td>...</td>\n",
       "      <td>...</td>\n",
       "    </tr>\n",
       "    <tr>\n",
       "      <th>1929</th>\n",
       "      <td>Definition:Value</td>\n",
       "      <td>Value</td>\n",
       "      <td>Let $F$ be a field, such as the field of real ...</td>\n",
       "      <td>Definition:Value of Continued Fraction</td>\n",
       "      <td>['Definitions/Continued Fractions']</td>\n",
       "      <td>Let F be a field, such as the field of real nu...</td>\n",
       "      <td>True</td>\n",
       "      <td>False</td>\n",
       "      <td>True</td>\n",
       "    </tr>\n",
       "    <tr>\n",
       "      <th>1946</th>\n",
       "      <td>Definition:Walk</td>\n",
       "      <td>Walk</td>\n",
       "      <td>A closed walk is a walk whose first vertex is ...</td>\n",
       "      <td>Definition:Walk (Graph Theory)/Closed</td>\n",
       "      <td>['Definitions/Walks']</td>\n",
       "      <td>A closed walk is a walk whose first vertex is ...</td>\n",
       "      <td>True</td>\n",
       "      <td>False</td>\n",
       "      <td>True</td>\n",
       "    </tr>\n",
       "    <tr>\n",
       "      <th>1948</th>\n",
       "      <td>Definition:Walk</td>\n",
       "      <td>Walk</td>\n",
       "      <td>Let $G = \\left( V, A \\right)$ be a digraph.\\n\\...</td>\n",
       "      <td>Definition:Directed Walk</td>\n",
       "      <td>['Definitions/Digraphs', 'Definitions/Walks']</td>\n",
       "      <td>Let G = ( V, A ) be a digraph.\\n\\n\\nA directed...</td>\n",
       "      <td>True</td>\n",
       "      <td>False</td>\n",
       "      <td>True</td>\n",
       "    </tr>\n",
       "    <tr>\n",
       "      <th>1973</th>\n",
       "      <td>Definition:Zero</td>\n",
       "      <td>Zero</td>\n",
       "      <td>Let $\\left( S, \\circ \\right)$ be an algebraic ...</td>\n",
       "      <td>Definition:Zero Element</td>\n",
       "      <td>['Definitions/Abstract Algebra', 'Definitions/...</td>\n",
       "      <td>Let ( S, ∘) be an algebraic structure.\\n\\n\\n==...</td>\n",
       "      <td>True</td>\n",
       "      <td>False</td>\n",
       "      <td>True</td>\n",
       "    </tr>\n",
       "    <tr>\n",
       "      <th>1977</th>\n",
       "      <td>Definition:Zero</td>\n",
       "      <td>Zero</td>\n",
       "      <td>Let $f: R \\to R$ be a mapping on a ring $R$.\\n...</td>\n",
       "      <td>Definition:Root of Mapping</td>\n",
       "      <td>['Definitions/Roots of Mappings', 'Definitions...</td>\n",
       "      <td>Let f: R → R be a mapping on a ring R.\\n\\nLet ...</td>\n",
       "      <td>False</td>\n",
       "      <td>False</td>\n",
       "      <td>True</td>\n",
       "    </tr>\n",
       "  </tbody>\n",
       "</table>\n",
       "<p>345 rows × 9 columns</p>\n",
       "</div>"
      ],
      "text/plain": [
       "            dd_page_title      term   \n",
       "5     Definition:Absolute  Absolute  \\\n",
       "12    Definition:Absolute  Absolute   \n",
       "22      Definition:Action    Action   \n",
       "23      Definition:Action    Action   \n",
       "35    Definition:Adjacent  Adjacent   \n",
       "...                   ...       ...   \n",
       "1929     Definition:Value     Value   \n",
       "1946      Definition:Walk      Walk   \n",
       "1948      Definition:Walk      Walk   \n",
       "1973      Definition:Zero      Zero   \n",
       "1977      Definition:Zero      Zero   \n",
       "\n",
       "                                             definition   \n",
       "5     === Definition 1 ===\\nLet $x \\in \\mathbb R$ be...  \\\n",
       "12    Let $S$ be a sample or a population.\\n\\nLet $\\...   \n",
       "22    Let $X$ be a set.\\n\\nLet $\\left( G, \\circ \\rig...   \n",
       "23    Let $R$ be a ring.\\n\\nLet $M$ be an abelian gr...   \n",
       "35    === Undirected Graph ===\\nLet $G = \\left( V, E...   \n",
       "...                                                 ...   \n",
       "1929  Let $F$ be a field, such as the field of real ...   \n",
       "1946  A closed walk is a walk whose first vertex is ...   \n",
       "1948  Let $G = \\left( V, A \\right)$ be a digraph.\\n\\...   \n",
       "1973  Let $\\left( S, \\circ \\right)$ be an algebraic ...   \n",
       "1977  Let $f: R \\to R$ be a mapping on a ring $R$.\\n...   \n",
       "\n",
       "                                     def_page_title   \n",
       "5                         Definition:Absolute Value  \\\n",
       "12    Definition:Frequency (Descriptive Statistics)   \n",
       "22                          Definition:Group Action   \n",
       "23                    Definition:Linear Ring Action   \n",
       "35         Definition:Adjacent (Graph Theory)/Edges   \n",
       "...                                             ...   \n",
       "1929         Definition:Value of Continued Fraction   \n",
       "1946          Definition:Walk (Graph Theory)/Closed   \n",
       "1948                       Definition:Directed Walk   \n",
       "1973                        Definition:Zero Element   \n",
       "1977                     Definition:Root of Mapping   \n",
       "\n",
       "                                             categories   \n",
       "5     ['Definitions/Absolute Value Function', 'Defin...  \\\n",
       "12    ['Definitions/Frequency (Descriptive Statistic...   \n",
       "22                        ['Definitions/Group Actions']   \n",
       "23    ['Definitions/Module Theory', 'Definitions/Lin...   \n",
       "35    ['Definitions/Edges of Graphs', 'Definitions/A...   \n",
       "...                                                 ...   \n",
       "1929                ['Definitions/Continued Fractions']   \n",
       "1946                              ['Definitions/Walks']   \n",
       "1948      ['Definitions/Digraphs', 'Definitions/Walks']   \n",
       "1973  ['Definitions/Abstract Algebra', 'Definitions/...   \n",
       "1977  ['Definitions/Roots of Mappings', 'Definitions...   \n",
       "\n",
       "                                  plain_text_definition  term_in_def   \n",
       "5     === Definition 1 ===\\nLet x ∈ℝ be a real numbe...         True  \\\n",
       "12    Let S be a sample or a population.\\n\\nLet ω be...        False   \n",
       "22    Let X be a set.\\n\\nLet ( G, ∘) be a group whos...         True   \n",
       "23    Let R be a ring.\\n\\nLet M be an abelian group....         True   \n",
       "35    === Undirected Graph ===\\nLet G = ( V, E ) be ...         True   \n",
       "...                                                 ...          ...   \n",
       "1929  Let F be a field, such as the field of real nu...         True   \n",
       "1946  A closed walk is a walk whose first vertex is ...         True   \n",
       "1948  Let G = ( V, A ) be a digraph.\\n\\n\\nA directed...         True   \n",
       "1973  Let ( S, ∘) be an algebraic structure.\\n\\n\\n==...         True   \n",
       "1977  Let f: R → R be a mapping on a ring R.\\n\\nLet ...        False   \n",
       "\n",
       "      biased_indexes  def_contains_other_def  \n",
       "5              False                    True  \n",
       "12             False                    True  \n",
       "22             False                    True  \n",
       "23             False                    True  \n",
       "35             False                    True  \n",
       "...              ...                     ...  \n",
       "1929           False                    True  \n",
       "1946           False                    True  \n",
       "1948           False                    True  \n",
       "1973           False                    True  \n",
       "1977           False                    True  \n",
       "\n",
       "[345 rows x 9 columns]"
      ]
     },
     "execution_count": 137,
     "metadata": {},
     "output_type": "execute_result"
    }
   ],
   "source": [
    "df_flattened_dd[df_flattened_dd[\"def_contains_other_def\"] & ~df_flattened_dd[\"biased_indexes\"]]"
   ]
  },
  {
   "cell_type": "code",
   "execution_count": 168,
   "id": "d38868f0-fdb8-4d12-a251-c6d4a01ed1c4",
   "metadata": {
    "tags": []
   },
   "outputs": [],
   "source": [
    "df_no_biased = df_flattened_dd[~df_flattened_dd[\"biased_indexes\"]]"
   ]
  },
  {
   "cell_type": "code",
   "execution_count": 169,
   "id": "6b9c81b8-ecdc-4139-8b9f-16108e66da1b",
   "metadata": {
    "tags": []
   },
   "outputs": [
    {
     "data": {
      "text/html": [
       "<div>\n",
       "<style scoped>\n",
       "    .dataframe tbody tr th:only-of-type {\n",
       "        vertical-align: middle;\n",
       "    }\n",
       "\n",
       "    .dataframe tbody tr th {\n",
       "        vertical-align: top;\n",
       "    }\n",
       "\n",
       "    .dataframe thead th {\n",
       "        text-align: right;\n",
       "    }\n",
       "</style>\n",
       "<table border=\"1\" class=\"dataframe\">\n",
       "  <thead>\n",
       "    <tr style=\"text-align: right;\">\n",
       "      <th></th>\n",
       "      <th>dd_page_title</th>\n",
       "      <th>term</th>\n",
       "      <th>definition</th>\n",
       "      <th>def_page_title</th>\n",
       "      <th>categories</th>\n",
       "      <th>plain_text_definition</th>\n",
       "      <th>term_in_def</th>\n",
       "      <th>biased_indexes</th>\n",
       "      <th>def_contains_other_def</th>\n",
       "      <th>term_in_def_page_title</th>\n",
       "    </tr>\n",
       "  </thead>\n",
       "  <tbody>\n",
       "    <tr>\n",
       "      <th>504</th>\n",
       "      <td>Definition:Definite</td>\n",
       "      <td>Definite</td>\n",
       "      <td>Let $\\mathbb C$ be the field of complex number...</td>\n",
       "      <td>Definition:Non-Negative Definite Mapping</td>\n",
       "      <td>['Definitions/Hilbert Spaces']</td>\n",
       "      <td>Let ℂ be the field of complex numbers.\\n\\nLet ...</td>\n",
       "      <td>True</td>\n",
       "      <td>False</td>\n",
       "      <td>False</td>\n",
       "      <td>True</td>\n",
       "    </tr>\n",
       "    <tr>\n",
       "      <th>505</th>\n",
       "      <td>Definition:Definite</td>\n",
       "      <td>Definite</td>\n",
       "      <td>Let $\\left[ a \\,.\\,.\\,   \\right]b$ be a closed...</td>\n",
       "      <td>Definition:Definite Integral</td>\n",
       "      <td>['Definitions/Definite Integrals', 'Definition...</td>\n",
       "      <td>Let [ a  . . ]b be a closed real interval.\\n\\n...</td>\n",
       "      <td>True</td>\n",
       "      <td>False</td>\n",
       "      <td>True</td>\n",
       "      <td>True</td>\n",
       "    </tr>\n",
       "  </tbody>\n",
       "</table>\n",
       "</div>"
      ],
      "text/plain": [
       "           dd_page_title      term   \n",
       "504  Definition:Definite  Definite  \\\n",
       "505  Definition:Definite  Definite   \n",
       "\n",
       "                                            definition   \n",
       "504  Let $\\mathbb C$ be the field of complex number...  \\\n",
       "505  Let $\\left[ a \\,.\\,.\\,   \\right]b$ be a closed...   \n",
       "\n",
       "                               def_page_title   \n",
       "504  Definition:Non-Negative Definite Mapping  \\\n",
       "505              Definition:Definite Integral   \n",
       "\n",
       "                                            categories   \n",
       "504                     ['Definitions/Hilbert Spaces']  \\\n",
       "505  ['Definitions/Definite Integrals', 'Definition...   \n",
       "\n",
       "                                 plain_text_definition  term_in_def   \n",
       "504  Let ℂ be the field of complex numbers.\\n\\nLet ...         True  \\\n",
       "505  Let [ a  . . ]b be a closed real interval.\\n\\n...         True   \n",
       "\n",
       "     biased_indexes  def_contains_other_def  term_in_def_page_title  \n",
       "504           False                   False                    True  \n",
       "505           False                    True                    True  "
      ]
     },
     "execution_count": 169,
     "metadata": {},
     "output_type": "execute_result"
    }
   ],
   "source": [
    "df_no_biased[df_no_biased['term'] == 'Definite']"
   ]
  },
  {
   "cell_type": "code",
   "execution_count": 170,
   "id": "7f237acb-e9ba-4284-9384-9c6121de4ba5",
   "metadata": {
    "scrolled": true,
    "tags": []
   },
   "outputs": [
    {
     "data": {
      "text/plain": [
       "{'System': 54,\n",
       " 'Left': 43,\n",
       " 'Right': 43,\n",
       " 'Normal': 24,\n",
       " 'Proper': 23,\n",
       " 'Harmonic': 22,\n",
       " 'Closed': 20,\n",
       " 'Length': 18,\n",
       " 'Regular': 17,\n",
       " 'Algebraic': 16,\n",
       " 'Absolute': 16,\n",
       " 'Generator': 16,\n",
       " 'Generated': 16,\n",
       " 'Mean': 15,\n",
       " 'Adjacent': 15,\n",
       " 'Order': 15,\n",
       " 'Principal': 14,\n",
       " 'Trivial': 14,\n",
       " 'Similar': 14,\n",
       " 'Degree': 14,\n",
       " 'Closure': 14,\n",
       " 'Dual': 14,\n",
       " 'Continuous': 13,\n",
       " 'Discrete': 13,\n",
       " 'Compatible': 13,\n",
       " 'Integral': 13,\n",
       " 'Homogeneous': 13,\n",
       " 'Dimension': 12,\n",
       " 'Conjugate': 12,\n",
       " 'Null': 12,\n",
       " 'Limit': 12,\n",
       " 'Isomorphism': 11,\n",
       " 'Base': 11,\n",
       " 'Common': 11,\n",
       " 'Power': 11,\n",
       " 'Algebra': 11,\n",
       " 'Zero': 11,\n",
       " 'Space': 11,\n",
       " 'Extension': 10,\n",
       " 'Section': 10,\n",
       " 'Complete': 10,\n",
       " 'Product': 10,\n",
       " 'Inverse': 10,\n",
       " 'Free': 9,\n",
       " 'Directed': 9,\n",
       " 'Composition': 9,\n",
       " 'Transformation': 9,\n",
       " 'Kernel': 9,\n",
       " 'Degenerate': 9,\n",
       " 'Altitude': 9,\n",
       " 'Affine': 9,\n",
       " 'Index': 9,\n",
       " 'Bounded': 9,\n",
       " 'Primitive': 9,\n",
       " 'Orthogonal': 9,\n",
       " 'Term': 9,\n",
       " 'Component': 9,\n",
       " 'Complex': 8,\n",
       " 'Irreducible': 8,\n",
       " 'Connected': 8,\n",
       " 'Vertex': 8,\n",
       " 'Simple': 8,\n",
       " 'Empty': 8,\n",
       " 'Radical': 8,\n",
       " 'Diameter': 8,\n",
       " 'Compact': 8,\n",
       " 'Equilibrium': 8,\n",
       " 'Class': 8,\n",
       " 'Projection': 8,\n",
       " 'Characteristic': 8,\n",
       " 'Complement': 8,\n",
       " 'Diagonal': 7,\n",
       " 'Node': 7,\n",
       " 'Euclidean': 7,\n",
       " 'Transitive': 7,\n",
       " 'Separated': 7,\n",
       " 'Rank': 7,\n",
       " 'Distance': 7,\n",
       " 'Ideal': 7,\n",
       " 'Character': 7,\n",
       " 'Interior': 7,\n",
       " 'Support': 7,\n",
       " 'Convolution': 6,\n",
       " 'Unit': 6,\n",
       " 'Weight': 6,\n",
       " 'Homomorphism': 6,\n",
       " 'Height': 6,\n",
       " 'Solution': 6,\n",
       " 'Torsion': 6,\n",
       " 'Value': 6,\n",
       " 'Trace': 6,\n",
       " 'Loop': 6,\n",
       " 'Expansion': 6,\n",
       " 'Graph': 6,\n",
       " 'Exterior': 6,\n",
       " 'Separable': 6,\n",
       " 'Root': 6,\n",
       " 'Adjoint': 6,\n",
       " 'Congruence': 6,\n",
       " 'Polar': 6,\n",
       " 'Substitution': 6,\n",
       " 'Opposite': 6,\n",
       " 'Cut': 6,\n",
       " 'Radius': 6,\n",
       " 'Modulus': 6,\n",
       " 'Word': 6,\n",
       " 'Convex': 6,\n",
       " 'Finitely Generated': 6,\n",
       " 'Reducible': 5,\n",
       " 'Independent': 5,\n",
       " 'Equivalence': 5,\n",
       " 'Successor': 5,\n",
       " 'Face': 5,\n",
       " 'Multiplicity': 5,\n",
       " 'Frequency': 5,\n",
       " 'Side': 5,\n",
       " 'Machine': 5,\n",
       " 'Major': 5,\n",
       " 'Measure': 5,\n",
       " 'Invertible': 5,\n",
       " 'Embedding': 5,\n",
       " 'Equiangular': 5,\n",
       " 'Union': 5,\n",
       " 'Divergent': 5,\n",
       " 'Dense': 5,\n",
       " 'Density': 5,\n",
       " 'Atom': 5,\n",
       " 'Direct Image': 5,\n",
       " 'Argument': 5,\n",
       " 'Decomposition': 5,\n",
       " 'Additive Function': 5,\n",
       " 'Canonical': 5,\n",
       " 'Divisor': 5,\n",
       " 'Edge': 5,\n",
       " 'Action': 5,\n",
       " 'Segment': 5,\n",
       " 'Infimum': 4,\n",
       " 'Binomial': 4,\n",
       " 'Vacuous': 4,\n",
       " 'Supremum': 4,\n",
       " 'Sign': 4,\n",
       " 'Branch': 4,\n",
       " 'Universe': 4,\n",
       " 'Manifold': 4,\n",
       " 'Basis': 4,\n",
       " 'Image': 4,\n",
       " 'Residue': 4,\n",
       " 'Isometry': 4,\n",
       " 'Smooth': 4,\n",
       " 'Inverse Image': 4,\n",
       " 'Auxiliary': 4,\n",
       " 'Associative': 4,\n",
       " 'Cipher': 4,\n",
       " 'Archimedean': 4,\n",
       " 'Join': 4,\n",
       " 'Walk': 4,\n",
       " 'Knot': 4,\n",
       " 'Singular': 4,\n",
       " 'Representation': 4,\n",
       " 'Acyclic': 4,\n",
       " 'Similarity': 4,\n",
       " 'Chain': 4,\n",
       " 'Differentiable': 4,\n",
       " 'Critical Point': 4,\n",
       " 'Coterminal': 4,\n",
       " 'Parameter': 4,\n",
       " 'Cycle': 4,\n",
       " 'Discriminant': 4,\n",
       " 'Cubic': 4,\n",
       " 'Universal': 4,\n",
       " 'Tangent': 4,\n",
       " 'Focus': 4,\n",
       " 'Transcendental': 4,\n",
       " 'Minor': 4,\n",
       " 'Path': 4,\n",
       " 'Perfect': 4,\n",
       " 'Noetherian': 4,\n",
       " 'Domain': 4,\n",
       " 'Consequence': 4,\n",
       " 'Genus': 4,\n",
       " 'Completion': 4,\n",
       " 'Parallel': 4,\n",
       " 'Net': 3,\n",
       " 'Lower Bound': 3,\n",
       " 'Neutral': 3,\n",
       " 'Range': 3,\n",
       " 'Locally Finite': 3,\n",
       " 'Right Cancellable': 3,\n",
       " 'Multiplicative Function': 3,\n",
       " 'Monotone': 3,\n",
       " 'Row': 3,\n",
       " 'Quasi-Compact': 3,\n",
       " 'Model': 3,\n",
       " 'Pullback': 3,\n",
       " 'Meet': 3,\n",
       " 'Median': 3,\n",
       " 'Permutable': 3,\n",
       " 'Right Inverse': 3,\n",
       " 'Above': 3,\n",
       " 'Ray': 3,\n",
       " 'Equator': 3,\n",
       " 'Epicycle': 3,\n",
       " 'Entropy': 3,\n",
       " 'Efficiency': 3,\n",
       " 'Symmetry': 3,\n",
       " 'Below': 3,\n",
       " 'Boundary': 3,\n",
       " 'Bounded Above': 3,\n",
       " 'Directrix': 3,\n",
       " 'Left Inverse': 3,\n",
       " 'Bounded Below': 3,\n",
       " 'Cyclic': 3,\n",
       " 'Upper Bound': 3,\n",
       " 'Characteristic Function': 3,\n",
       " 'Tree': 3,\n",
       " 'Circuit': 3,\n",
       " 'Circumference': 3,\n",
       " 'Consistent': 3,\n",
       " 'Column': 3,\n",
       " 'Bar': 3,\n",
       " 'Subtree': 3,\n",
       " 'Factor': 3,\n",
       " 'Left Cancellable': 3,\n",
       " 'Skew': 3,\n",
       " 'Aggregation': 3,\n",
       " 'Weak': 3,\n",
       " 'Spectrum': 3,\n",
       " 'Amplitude': 3,\n",
       " 'Structure': 3,\n",
       " 'Arrow': 3,\n",
       " 'Subadditive Function': 3,\n",
       " 'Subdivision': 3,\n",
       " 'Foot': 3,\n",
       " 'Subspace': 3,\n",
       " 'Field': 3,\n",
       " 'Family': 3,\n",
       " 'Concave': 3,\n",
       " 'Resultant': 2,\n",
       " 'Wavelength': 2,\n",
       " 'Valid': 2,\n",
       " 'Vanishing Ideal': 2,\n",
       " 'Signature': 2,\n",
       " 'Unity': 2,\n",
       " 'Table': 2,\n",
       " 'Small': 2,\n",
       " 'Spanning Set': 2,\n",
       " 'State': 2,\n",
       " 'Strong': 2,\n",
       " 'Structure Sheaf': 2,\n",
       " 'Substatement': 2,\n",
       " 'Sum': 2,\n",
       " 'Tableau Proof': 2,\n",
       " 'Triangle': 2,\n",
       " 'Tensor Product': 2,\n",
       " 'Top': 2,\n",
       " 'Scalar Field': 2,\n",
       " 'Transfer Function': 2,\n",
       " 'Transpose': 2,\n",
       " 'Transversal': 2,\n",
       " 'Rotation': 2,\n",
       " 'Secant': 2,\n",
       " 'Inertia': 2,\n",
       " 'Realization': 2,\n",
       " 'Convex Set': 2,\n",
       " 'Couple': 2,\n",
       " 'Definite': 2,\n",
       " 'Degrees of Freedom': 2,\n",
       " 'Deltoid': 2,\n",
       " 'Diagram': 2,\n",
       " 'Difference': 2,\n",
       " 'Dihedral': 2,\n",
       " 'Disconnected': 2,\n",
       " 'Discontinuous': 2,\n",
       " 'Dispersion': 2,\n",
       " 'Distributive': 2,\n",
       " 'Divergence': 2,\n",
       " 'Dominate': 2,\n",
       " 'Dram': 2,\n",
       " 'Eccentricity': 2,\n",
       " 'Elevation': 2,\n",
       " 'Empty Class': 2,\n",
       " 'Coordinate': 2,\n",
       " 'Content': 2,\n",
       " 'Rational': 2,\n",
       " 'Conjugate Pair': 2,\n",
       " 'Adjacent Faces': 2,\n",
       " 'Age': 2,\n",
       " 'Alphabet': 2,\n",
       " 'Alternant': 2,\n",
       " 'Alternative': 2,\n",
       " 'Annulus': 2,\n",
       " 'Artinian': 2,\n",
       " 'Automorphism': 2,\n",
       " 'Baire Space': 2,\n",
       " 'Bilinear Form': 2,\n",
       " 'Bottom': 2,\n",
       " 'Bridge': 2,\n",
       " 'Cancellable': 2,\n",
       " 'Codomain': 2,\n",
       " 'Commutative Algebra': 2,\n",
       " 'Composite': 2,\n",
       " 'Cone': 2,\n",
       " 'Epimorphism': 2,\n",
       " 'Euler Characteristic': 2,\n",
       " 'Exterior Angle': 2,\n",
       " 'Pair': 2,\n",
       " 'Maximal Ideal': 2,\n",
       " 'Metrizable': 2,\n",
       " 'Monomorphism': 2,\n",
       " 'Negation': 2,\n",
       " 'One-to-One': 2,\n",
       " 'Orientation': 2,\n",
       " 'Orthogonal Complement': 2,\n",
       " 'Parity': 2,\n",
       " 'Extraction of Root': 2,\n",
       " 'Positive Definite': 2,\n",
       " 'Prime Element': 2,\n",
       " 'Prime Ideal': 2,\n",
       " 'Primitive Root': 2,\n",
       " 'Principal Ideal': 2,\n",
       " 'Quadratic Form': 2,\n",
       " 'Rank Function': 2,\n",
       " 'Linear Form': 2,\n",
       " 'Linear Algebra': 2,\n",
       " 'Like': 2,\n",
       " 'Leading Coefficient': 2,\n",
       " 'Finitary': 2,\n",
       " 'Finite Type': 2,\n",
       " 'Formula': 2,\n",
       " 'Frequency Curve': 2,\n",
       " 'Fréchet Space': 2,\n",
       " 'Galois Group': 2,\n",
       " 'Grade': 2,\n",
       " 'Identity': 2,\n",
       " 'Image Set': 2,\n",
       " 'Improper': 2,\n",
       " 'Inconsistent': 2,\n",
       " 'Interior Angle': 2,\n",
       " 'Intersection': 2,\n",
       " 'Involution': 2,\n",
       " 'Isotropy': 2,\n",
       " 'Lattice': 2,\n",
       " 'Zero Locus': 2,\n",
       " 'Period': 1}"
      ]
     },
     "execution_count": 170,
     "metadata": {},
     "output_type": "execute_result"
    }
   ],
   "source": [
    "term_cnt = dict(df_no_biased['term'].value_counts())\n",
    "term_cnt"
   ]
  },
  {
   "cell_type": "code",
   "execution_count": 217,
   "id": "98135955-ac8c-45fe-b65f-fd886483d8ac",
   "metadata": {
    "tags": []
   },
   "outputs": [],
   "source": [
    "df_no_biased = df_no_biased.drop(df_no_biased[df_no_biased['term']=='Period'].index)"
   ]
  },
  {
   "cell_type": "code",
   "execution_count": 219,
   "id": "c28c0a72-63db-4c2c-bba9-61dbb0d79a6e",
   "metadata": {
    "tags": []
   },
   "outputs": [],
   "source": [
    "def_set = set(df_no_biased[\"plain_text_definition\"])\n",
    "pkl_vars(def_set, \"data/vars/def_set.pkl\")\n",
    "\n",
    "title_set = set(df_no_biased[\"def_page_title\"])\n",
    "pkl_vars(title_set, \"data/vars/title_set.pkl\")"
   ]
  },
  {
   "cell_type": "code",
   "execution_count": 220,
   "id": "b2dcea42-878c-4b22-b7d7-a955c6c88908",
   "metadata": {
    "tags": []
   },
   "outputs": [],
   "source": [
    "parsed_disamb_list = []\n",
    "for key, group in df_no_biased.groupby(\"term\"):\n",
    "    items = group[[\"plain_text_definition\", \"def_page_title\"]].to_dict(orient=\"records\")\n",
    "    parsed_disamb_list.append({\"term\": key, \"def_item_list\": items})"
   ]
  },
  {
   "cell_type": "code",
   "execution_count": 221,
   "id": "4bbbec8e-b5fe-4724-8963-0445730d9d08",
   "metadata": {
    "tags": []
   },
   "outputs": [],
   "source": [
    "pkl_vars(parsed_disamb_list,\"data/vars/parsed_disamb_list_without===_without_bias.pkl\")"
   ]
  },
  {
   "cell_type": "code",
   "execution_count": 222,
   "id": "8b9ff774-1c8e-4882-be45-0b2369d3c283",
   "metadata": {
    "tags": []
   },
   "outputs": [],
   "source": [
    "parsed_disamb_list = reload_vars(\"data/vars/parsed_disamb_list_without===_without_bias.pkl\")"
   ]
  },
  {
   "cell_type": "code",
   "execution_count": 223,
   "id": "d6ec2a9e-6897-4685-889e-069ffddc3478",
   "metadata": {
    "tags": []
   },
   "outputs": [
    {
     "data": {
      "text/plain": [
       "343"
      ]
     },
     "execution_count": 223,
     "metadata": {},
     "output_type": "execute_result"
    }
   ],
   "source": [
    "len(parsed_disamb_list)"
   ]
  },
  {
   "cell_type": "code",
   "execution_count": 224,
   "id": "9414c660-e4da-49af-8fa1-7d31f204130c",
   "metadata": {
    "tags": []
   },
   "outputs": [
    {
     "data": {
      "text/plain": [
       "275"
      ]
     },
     "execution_count": 224,
     "metadata": {},
     "output_type": "execute_result"
    }
   ],
   "source": [
    "import random\n",
    "random.shuffle(parsed_disamb_list)\n",
    "test_disamb_list = parsed_disamb_list[:68] # int(0.2 * len(parsed_disamb_list)) = 68\n",
    "train_disamb_list = parsed_disamb_list[68:]\n",
    "len(train_disamb_list)"
   ]
  },
  {
   "cell_type": "code",
   "execution_count": 225,
   "id": "b0ffd6de-7973-465f-aed1-ee13accfa172",
   "metadata": {
    "tags": []
   },
   "outputs": [],
   "source": [
    "pkl_vars(train_disamb_list, 'data/vars/train_disamb_list.pkl')\n",
    "pkl_vars(test_disamb_list, 'data/vars/test_disamb_list.pkl')"
   ]
  },
  {
   "cell_type": "code",
   "execution_count": 226,
   "id": "261b348e-206a-4f31-a6a3-31370e0dfe77",
   "metadata": {
    "tags": []
   },
   "outputs": [
    {
     "data": {
      "text/plain": [
       "{'term': 'Boundary',\n",
       " 'def_item_list': [{'plain_text_definition': ' \\n\\nFor example, the endpoints of a line segment are its boundaries.\\n\\n\\n=== Containment ===\\nA geometric figure is said to be contained by its boundary or boundaries.\\n\\n ',\n",
       "   'def_page_title': 'Definition:Boundary (Geometry)'},\n",
       "  {'plain_text_definition': 'Let T = ( S, τ) be a topological space.\\n\\nLet H ⊆ S.\\n\\n\\n=== Definition from Closure and Interior ===\\nLet T = ( S, τ) be a topological space.\\n\\nLet H ⊆ S.\\n\\n\\nThe boundary of H consists of all the points in the closure of H which are not in the interior of H.\\n\\nThus, the boundary of H is defined as:\\n:∂ H := H^- ∖ H^∘\\nwhere H^- denotes the closure and H^∘ the interior of H.\\n\\n=== Definition from Neighborhood ===\\nLet T = ( S, τ) be a topological space.\\n\\nLet H ⊆ S.\\n\\n\\n \\n\\nx ∈ S is a boundary point of H  if and only if  every neighborhood N of x satisfies:\\n:H ∩ N ∅\\nand\\n:H∩ N ∅\\nwhere H is the complement of H in S.\\n\\nThe boundary of H consists of all the boundary point of H.\\n\\n=== Definition from Intersection of Closure with Closure of Complement ===\\nLet T = ( S, τ) be a topological space.\\n\\nLet H ⊆ S.\\n\\n\\nThe boundary of H is the intersection of the closure of H with the closure of the complement of H in T:\\n\\n:∂ H = H^- ∩( H)^-\\n\\n=== Definition from Closure and Exterior ===\\nLet T = ( S, τ) be a topological space.\\n\\nLet H ⊆ S.\\n\\n\\nThe boundary of H consists of all the points in H which are not in either the interior or exterior of H.\\n\\nThus, the boundary of H is defined as:\\n:∂ H := H ∖( H^∘∪ H^e )\\nwhere:\\n:H^∘ denotes the interior of H\\n:H^e denotes the exterior of H.',\n",
       "   'def_page_title': 'Definition:Boundary (Topology)'},\n",
       "  {'plain_text_definition': '=== Simple Graph ===\\nLet G = ( V, E ) be a simple graph.\\n\\nLet v ∈ V be a vertex of G.\\n\\n\\nThen the boundary of v is the set of all vertices of G which are adjacent to v:\\n:B (   )v = { u ∈ V: { u, v }∈ E }',\n",
       "   'def_page_title': 'Definition:Boundary (Graph Theory)'}]}"
      ]
     },
     "execution_count": 226,
     "metadata": {},
     "output_type": "execute_result"
    }
   ],
   "source": [
    "test_disamb_list[0]"
   ]
  },
  {
   "cell_type": "markdown",
   "id": "97b8c70b-d4fd-4949-b28e-22c2dbb78720",
   "metadata": {
    "tags": []
   },
   "source": [
    "### make  dict"
   ]
  },
  {
   "cell_type": "code",
   "execution_count": 227,
   "id": "c649ee5c-8271-4f7f-99d5-e20ef9fb146f",
   "metadata": {
    "tags": []
   },
   "outputs": [
    {
     "data": {
      "text/plain": [
       "343"
      ]
     },
     "execution_count": 227,
     "metadata": {},
     "output_type": "execute_result"
    }
   ],
   "source": [
    "# the kb is a dictionary of notion and definition page titles, each title contains the term and its domain\n",
    "def make_def_kb(def_disamb_list):\n",
    "    def_kb = dict()\n",
    "    for x in def_disamb_list:\n",
    "        term = x['term']\n",
    "        titles = [def_item['def_page_title'] for def_item in x['def_item_list']]\n",
    "        def_kb[term] = titles\n",
    "    return def_kb\n",
    "\n",
    "def_disamb_kb = make_def_kb(parsed_disamb_list)\n",
    "len(def_disamb_kb)"
   ]
  },
  {
   "cell_type": "code",
   "execution_count": 228,
   "id": "10ca8d87-4c71-4c3b-80f2-7e8cc81cbb7e",
   "metadata": {
    "tags": []
   },
   "outputs": [],
   "source": [
    "pkl_vars(def_disamb_kb, 'data/vars/def_disamb_kb.pkl')"
   ]
  },
  {
   "cell_type": "code",
   "execution_count": 229,
   "id": "4101a17d-1469-4a6c-b6be-6e1ffda45aed",
   "metadata": {
    "tags": []
   },
   "outputs": [],
   "source": [
    "def flatten_def_disamb_list(disamb_list):\n",
    "    flattened_dd_list = []\n",
    "    for li in disamb_list:\n",
    "        for def_item in li['def_item_list']:\n",
    "            data = {\n",
    "                'title': def_item['def_page_title'],\n",
    "                'term': li['term'],\n",
    "                'definition': def_item['plain_text_definition'],\n",
    "                #'def_page_title': def_item['title'],\n",
    "                #'categories': def_item['categories']\n",
    "            }\n",
    "            flattened_dd_list.append(data)\n",
    "    return flattened_dd_list"
   ]
  },
  {
   "cell_type": "code",
   "execution_count": 230,
   "id": "01020a1b-e172-427b-ad77-a7b9fc35ab63",
   "metadata": {
    "tags": []
   },
   "outputs": [
    {
     "data": {
      "text/plain": [
       "433"
      ]
     },
     "execution_count": 230,
     "metadata": {},
     "output_type": "execute_result"
    }
   ],
   "source": [
    "flattened_test_disam_list = flatten_def_disamb_list(test_disamb_list)\n",
    "len(flattened_test_disam_list)"
   ]
  },
  {
   "cell_type": "code",
   "execution_count": 231,
   "id": "ee2345a9-d713-4ad0-bb59-41109b6ad7d4",
   "metadata": {
    "tags": []
   },
   "outputs": [
    {
     "data": {
      "text/plain": [
       "1436"
      ]
     },
     "execution_count": 231,
     "metadata": {},
     "output_type": "execute_result"
    }
   ],
   "source": [
    "flattened_train_disamb_list = flatten_def_disamb_list(train_disamb_list)\n",
    "len(flattened_train_disamb_list)"
   ]
  },
  {
   "cell_type": "code",
   "execution_count": 232,
   "id": "770656ff-614e-4968-a3e0-442c776ad60a",
   "metadata": {
    "tags": []
   },
   "outputs": [],
   "source": [
    "pkl_vars(flattened_train_disamb_list, 'data/vars/flattened_train_disamb_list.pkl')"
   ]
  },
  {
   "cell_type": "code",
   "execution_count": 233,
   "id": "b35d897a-1249-478e-91e8-ad4e9d7d3b1a",
   "metadata": {
    "tags": []
   },
   "outputs": [],
   "source": [
    "pkl_vars(flattened_test_disam_list, 'data/vars/flattened_test_disam_list.pkl')"
   ]
  },
  {
   "cell_type": "code",
   "execution_count": 234,
   "id": "7f345bb2-f9fd-41bd-acd0-6ed2c56be65b",
   "metadata": {
    "tags": []
   },
   "outputs": [],
   "source": [
    "flattened_test_disam_list = reload_vars('data/vars/flattened_test_disam_list.pkl')"
   ]
  },
  {
   "cell_type": "code",
   "execution_count": 235,
   "id": "c74d668c-e146-429e-af07-c879b2e258f2",
   "metadata": {
    "tags": []
   },
   "outputs": [],
   "source": [
    "pkl_vars(flattened_test_disam_list[:9], \"data/vars/9_test_sample_list.pkl\")"
   ]
  },
  {
   "cell_type": "code",
   "execution_count": 236,
   "id": "92f247e6-717f-4119-aa60-92d8dd2b7479",
   "metadata": {
    "tags": []
   },
   "outputs": [],
   "source": [
    "df_flattened_test_disam_list = pd.DataFrame(flattened_test_disam_list)\n",
    "df_flattened_test_disam_list.to_csv(\"data/SP_CLS/df_flattened_test_disam_list.csv\", index=False)"
   ]
  },
  {
   "cell_type": "code",
   "execution_count": 237,
   "id": "72e6e7dd-a2b9-421b-8d7d-161345c8ac88",
   "metadata": {
    "tags": []
   },
   "outputs": [],
   "source": [
    "flattened_train_disamb_list = reload_vars('data/vars/flattened_train_disamb_list.pkl')\n",
    "df_flattened_train_disam_list = pd.DataFrame(flattened_train_disamb_list)\n",
    "df_flattened_train_disam_list.to_csv(\"data/SP_CLS/df_flattened_train_disam_list.csv\", index=False)"
   ]
  },
  {
   "cell_type": "code",
   "execution_count": 238,
   "id": "28aabdf2-443f-45ca-93f7-94899c23f50a",
   "metadata": {
    "tags": []
   },
   "outputs": [],
   "source": [
    "df_flattened_test_disam_list[:9].to_csv(\"data/SP_CLS/9_test_samples.csv\", index=False)\n",
    "df_flattened_train_disam_list[:5].to_csv(\"data/SP_CLS/5_samples.csv\", index=False)"
   ]
  },
  {
   "cell_type": "markdown",
   "id": "f1640513-2792-4950-a0a7-55c907cbbe65",
   "metadata": {
    "jp-MarkdownHeadingCollapsed": true,
    "tags": []
   },
   "source": [
    "### GLADIS data samples"
   ]
  },
  {
   "cell_type": "raw",
   "id": "911837b6-bc6a-4fa0-b561-85d32ca924fa",
   "metadata": {},
   "source": [
    "# eval/test_set/bio_umls_test.json\n",
    "{\"index\": 28, \"short_term\": \"PEP\", \"long_term\": \"pre-ejection period\", \"type\": \"Biomedical Concept\", \"tokens\": [\"With\", \"regard\", \"to\", \"ANS\", \"activity\", \",\", \"positive\", \"direct\", \"effects\", \"on\", \"externalizing\", \"behaviour\", \"problems\", \"were\", \"present\", \"for\", \"HR\", \"(\", \"standardized\", \"\\u03b2\", \"=\", \"0.306\", \",\", \"p\", \"=\", \"0.020\", \")\", \"and\", \"PEP\", \"(\", \"standardized\", \"\\u03b2\", \"=\", \"-0.323\", \",\", \"p\", \"=\", \"0.031\", \")\", \",\", \"though\", \"not\", \"for\", \"RSA\", \".\"]},\n",
    "{}"
   ]
  },
  {
   "cell_type": "raw",
   "id": "55493662-e891-4718-9cbe-b49c3b672dd1",
   "metadata": {},
   "source": [
    "# eval/dict/bio_umls_dict.json\n",
    "\n",
    "{\n",
    "    \"PEP\": [ /*short term*/\n",
    "        [\n",
    "            \"pepleomycin\",  /*long term*/\n",
    "            1\n",
    "        ],\n",
    "        \n",
    "        ...\n",
    "        \n",
    "        [\n",
    "            \"pre-ejection period\", /*long term*/\n",
    "            1\n",
    "        ]\n",
    "    ],\n",
    "    ...\n",
    "    \n",
    "    \"TLR2\": [ /*short term*/\n",
    "        [\n",
    "            \"Toll-like receptor 2\",\n",
    "            1\n",
    "        ]\n",
    "    ],\n",
    "}"
   ]
  },
  {
   "cell_type": "raw",
   "id": "3e0ce64e-48b6-4fc2-a530-77e92a265d14",
   "metadata": {},
   "source": [
    "#input/dataset/biomedical/test.json\n",
    "\n",
    "{\"index\": 28, \"short_term\": \"PEP\", \"long_term\": \"pre-ejection period\", \"type\": \"Biomedical Concept\", \"tokens\": [\"With\", \"regard\", \"to\", \"ANS\", \"activity\", \",\", \"positive\", \"direct\", \"effects\", \"on\", \"externalizing\", \"behaviour\", \"problems\", \"were\", \"present\", \"for\", \"HR\", \"(\", \"standardized\", \"\\u03b2\", \"=\", \"0.306\", \",\", \"p\", \"=\", \"0.020\", \")\", \"and\", \"PEP\", \"(\", \"standardized\", \"\\u03b2\", \"=\", \"-0.323\", \",\", \"p\", \"=\", \"0.031\", \")\", \",\", \"though\", \"not\", \"for\", \"RSA\", \".\"]}\n",
    "{\"index\": 17, \"short_term\": \"CBF\", \"long_term\": \"cerebral blood flow\", \"type\": \"Biomedical Concept\", \"tokens\": [\"The\", \"reconstructed\", \"volume\", \"was\", \"then\", \"compared\", \"with\", \"corresponding\", \"magnetic\", \"resonance\", \"images\", \"demonstrating\", \"that\", \"the\", \"volume\", \"of\", \"reduced\", \"CBF\", \"agrees\", \"with\", \"the\", \"infarct\", \"zone\", \"at\", \"twenty-four\", \"hours\", \".\"]}\n"
   ]
  },
  {
   "cell_type": "raw",
   "id": "f6d50d53-93dd-4406-933f-5060df24ab4f",
   "metadata": {},
   "source": [
    "#input/pre_train_sample.txt\n",
    "\n",
    "PEP\tprospective early pregnancy\tMethods In a PEP cohort (2016-2017), 203 pregnant women were recruited from 4 to 8 weeks' gestation.\n",
    "PEP\tPoverty and Economic Policy\tAbout 1000 children under the age of 5 die everyREPUBLIC OF KENYA MINISTRY OF STATE FOR PLANNING, NATIONAL DEVELOPMENT AND VISION 2030 8 TH PEP RESEARCH NETWORK CONFERENCE IN DAKAR, SENEGAL PAPER ON THE ACTUAL USES OF CBMSWorld Food Programme capacity building support to Disaster Preparedness and Response in the Philippines Strengthening Food Security through Disaster Risk Reduction January 2013 Disaster Preparedness andDepartment of Public Service Vote Number: 093 Controlling Officer: 1."
   ]
  },
  {
   "cell_type": "markdown",
   "id": "aada8348-8361-4a4a-8795-7e7becd6e3b9",
   "metadata": {},
   "source": [
    "# defining DefDisambiguationBERT"
   ]
  },
  {
   "cell_type": "markdown",
   "id": "4c93ffce-6875-4339-8e79-98266bb1638d",
   "metadata": {},
   "source": [
    "## model for next sentence prediction "
   ]
  },
  {
   "cell_type": "code",
   "execution_count": 4,
   "id": "272b769e-13fe-4d70-b199-caba60ac6e97",
   "metadata": {},
   "outputs": [],
   "source": [
    "#Copied from https://github.com/tigerchen52/GLADIS/blob/master/source/acrobert.py\n",
    "def_disamb_kb = reload_vars('data/vars/def_disamb_kb.pkl')\n",
    "\n",
    "class DefDisambiguationBERT(nn.Module):\n",
    "    #margin: the margin value lambda in the triplet loss'\n",
    "    def __init__(self, model_name=\"bert-base-uncased\", from_tf=False, device='cpu', margin=0.2):\n",
    "        super().__init__()\n",
    "        self.model_name=model_name\n",
    "        self.device = device\n",
    "        self.model = BertForNextSentencePrediction.from_pretrained(model_name, from_tf=from_tf)\n",
    "        self.tokenizer = BertTokenizer.from_pretrained(model_name)\n",
    "        self.margin = margin\n",
    "\n",
    "    def forward(self, pos_x, masked_pos_x=None, neg_x=None, train=True):\n",
    "        loss, scores = 0.0, 0.0\n",
    "        if train:\n",
    "            pos_samples = self.tokenizer(pos_x, padding=True, return_tensors='pt', truncation=True)[\"input_ids\"]\n",
    "            neg_x = self.tokenizer(neg_x, padding=True, return_tensors='pt', truncation=True)[\"input_ids\"]\n",
    "\n",
    "            pos_samples = pos_samples.to(self.device)\n",
    "            neg_x = neg_x.to(self.device)\n",
    "\n",
    "            pos_outputs = self.model(pos_samples).logits\n",
    "            neg_outputs = self.model(neg_x).logits\n",
    "            pos_scores = 1 - nn.Softmax(dim=1)(pos_outputs)[:, 0]\n",
    "            neg_scores = 1 - nn.Softmax(dim=1)(neg_outputs)[:, 0]\n",
    "            loss = triplet_loss(pos_scores, neg_scores, self.margin)\n",
    "\n",
    "        else:\n",
    "            samples = self.tokenizer(pos_x, padding=True, return_tensors='pt', truncation=True)[\"input_ids\"]\n",
    "            samples = samples.to(self.device)\n",
    "            outputs = self.model(samples).logits\n",
    "            scores = nn.Softmax(dim=1)(outputs)[:, 0]\n",
    "\n",
    "\n",
    "        return loss if train else scores\n",
    "    \n",
    "        \n",
    "def triplet_loss(pos_score, neg_score, margin=0.2):\n",
    "    losses = torch.relu(pos_score - neg_score + margin)\n",
    "    return losses.mean()\n",
    "\n",
    "\n",
    "def softmax(elements):\n",
    "    total = sum([exp(e) for e in elements])\n",
    "    return exp(elements[0]) / total\n",
    "\n",
    "# todo: cache pairwised nsp scores...\n",
    "def cal_nsp_score(model, tokenizer, titles, definition, batch_size):\n",
    "    ps = list()\n",
    "    for index in range(0, len(titles), batch_size):\n",
    "        batch_tt = titles[index:index + batch_size]\n",
    "        batch_df = [definition] * len(batch_tt)\n",
    "        encoding = tokenizer(batch_tt, batch_df, return_tensors=\"pt\", padding=True, truncation=True, max_length=400)#.to(device)\n",
    "        outputs = model(**encoding)\n",
    "        logits = outputs.logits#.cpu().detach().numpy()\n",
    "        p = [softmax(lg) for lg in logits]\n",
    "        ps.extend(p)\n",
    "    return ps"
   ]
  },
  {
   "cell_type": "markdown",
   "id": "a72468da-0876-4ee4-862e-aad688a7f3fb",
   "metadata": {},
   "source": [
    "## model for embedding similarity"
   ]
  },
  {
   "cell_type": "code",
   "execution_count": 38,
   "id": "bfbc297b-b6ae-4c28-ad54-6220c6c254f4",
   "metadata": {
    "tags": []
   },
   "outputs": [],
   "source": [
    "class SentenceEncoderModel(nn.Module):\n",
    "    def __init__(self, model_name=\"bert-base-uncased\", #check_point_path=None,\n",
    "                 from_tf=False, device='cpu'):\n",
    "        super().__init__()\n",
    "        self.model_name=model_name\n",
    "        self.device = device\n",
    "        self.model = AutoModel.from_pretrained(model_name, from_tf=from_tf)\n",
    "        self.tokenizer = AutoTokenizer.from_pretrained(model_name)\n",
    "        \n",
    "        # cache embeddings to  avoid repeated calculations\n",
    "        def_emb_dict_path = f\"data/vars/{model_name.split('/')[-1]}_def_emb_dict.pkl\"            \n",
    "        if not os.path.isfile(def_emb_dict_path):\n",
    "            defs = list(reload_vars(\"data/vars/def_set.pkl\"))\n",
    "            def_embs = get_embeddings(self.model, self.tokenizer, defs)\n",
    "            def_emb_dict = dict()\n",
    "            for index, definition in enumerate(defs):\n",
    "                def_emb_dict[definition] = def_embs[index]\n",
    "            pkl_vars(def_emb_dict, def_emb_dict_path)\n",
    "        else:\n",
    "            def_emb_dict = reload_vars(def_emb_dict_path)           \n",
    "        self.def_emb_dict = def_emb_dict\n",
    "\n",
    "        title_emb_dict_path = f\"data/vars/{model_name.split('/')[-1]}_title_emb_dict_path.pkl\"\n",
    "        if not os.path.isfile(title_emb_dict_path):\n",
    "            titles = list(reload_vars(\"data/vars/title_set.pkl\"))\n",
    "            tt_embs = get_embeddings(self.model, self.tokenizer, titles)\n",
    "            title_emb_dict = dict()\n",
    "            for index, tt in enumerate(titles):\n",
    "                title_emb_dict[tt] = tt_embs[index]\n",
    "            pkl_vars(title_emb_dict, title_emb_dict_path)\n",
    "        else:\n",
    "            title_emb_dict = reload_vars(title_emb_dict_path)\n",
    "        self.title_emb_dict = title_emb_dict\n",
    "        \n",
    "        \n",
    "#Mean Pooling - Take attention mask into account for correct averaging\n",
    "def mean_pooling(model_output, attention_mask):\n",
    "    token_embeddings = model_output[0] #First element of model_output contains all token embeddings\n",
    "    input_mask_expanded = attention_mask.unsqueeze(-1).expand(token_embeddings.size()).float()\n",
    "    return torch.sum(token_embeddings * input_mask_expanded, 1) / torch.clamp(input_mask_expanded.sum(1), min=1e-9)\n",
    "\n",
    "\n",
    "def get_embeddings(model, tokenizer, sentences):\n",
    "    batch_tokenizer_output = tokenizer(\n",
    "        sentences,\n",
    "        max_length=400,\n",
    "        padding=\"max_length\",\n",
    "        truncation=True,\n",
    "        return_tensors=\"pt\"\n",
    "    )\n",
    "    with torch.no_grad():\n",
    "        batch_model_output = model(**batch_tokenizer_output, output_hidden_states=True)\n",
    "    token_embeddings = batch_model_output.hidden_states[-1]\n",
    "    return mean_pooling(batch_model_output, batch_tokenizer_output.attention_mask).tolist() # convert .tolist() to save storage spaces\n",
    "        \n",
    "\n",
    "def cal_sim_score(sem_model, titles, definition):\n",
    "    if definition in sem_model.def_emb_dict:\n",
    "        def_emb = sem_model.def_emb_dict[definition]\n",
    "    else:\n",
    "        def_emb = get_embeddings(sem_model.model, sem_model.tokenizer, [definition])[0]\n",
    "\n",
    "    tt_embs = []\n",
    "    for tt in titles: \n",
    "        if tt in sem_model.title_emb_dict:\n",
    "            tt_emb = sem_model.title_emb_dict[tt]\n",
    "        else:\n",
    "            tt_emb = get_embeddings(sem_model.model, sem_model.tokenizer, [tt])[0]\n",
    "        tt_embs.append(tt_emb)\n",
    "    \n",
    "    ps = [F.cosine_similarity(torch.Tensor(def_emb), torch.Tensor(tt_emb), dim = -1) for tt_emb in tt_embs]\n",
    "    return ps"
   ]
  },
  {
   "cell_type": "markdown",
   "id": "5e92fef4-4406-44e1-a93b-c0c6507a8270",
   "metadata": {
    "tags": []
   },
   "source": [
    "## utils"
   ]
  },
  {
   "cell_type": "code",
   "execution_count": 6,
   "id": "3ecbe34c-031a-46c8-ac16-0899cd0e43e1",
   "metadata": {
    "tags": []
   },
   "outputs": [],
   "source": [
    "# adpated from https://github.com/tigerchen52/GLADIS/blob/master/source/utils.py \n",
    "\n",
    "#def_disamb_kb = reload_vars('data/vars/def_disamb_kb.pkl')\n",
    "def get_candidate(def_disamb_kb, term):\n",
    "    return def_disamb_kb[term]\n",
    "\n",
    "class TextData(Dataset):\n",
    "    def __init__(self, data):\n",
    "        self.all_term = data['term']\n",
    "        self.all_title = data['title']\n",
    "        self.all_definition = data['definition']\n",
    "\n",
    "    def __len__(self):\n",
    "        return len(self.all_term)\n",
    "\n",
    "    def __getitem__(self, idx):\n",
    "        return self.all_term[idx], self.all_title[idx], self.all_definition[idx]\n",
    "\n",
    "def load_pretrain(train_data_path='data/SP_CLS/df_flattened_train_disam_list.csv'):\n",
    "    flattened_train_disamb_list = pd.read_csv(train_data_path)\n",
    "    all_term = list(flattened_train_disamb_list['term'])\n",
    "    all_title =  list(flattened_train_disamb_list['title'])\n",
    "    all_definition = list(flattened_train_disamb_list['definition'])\n",
    "    return {'term': all_term, 'title': all_title, 'definition': all_definition}\n",
    "\n",
    "class DefDisambiguationBertLoader():\n",
    "    def __init__(self, batch_size, tokenizer, kb, shuffle=True, masked_prob=0.15, hard_num=2):\n",
    "        self.batch_size = batch_size\n",
    "        self.shuffle = shuffle\n",
    "        self.tokenizer = tokenizer\n",
    "        self.masked_prob = masked_prob\n",
    "        self.hard_num = hard_num\n",
    "        self.kb = kb\n",
    "        self.all_titles = list()\n",
    "        for vs in self.kb.values():\n",
    "            self.all_titles.extend(list(vs))\n",
    "\n",
    "    def select_negative(self, target):\n",
    "        selected, flag, max_time = None, True, 10\n",
    "        if target in self.kb:\n",
    "            title_candidates = self.kb[target]\n",
    "            if len(title_candidates) == 1:\n",
    "                title_candidates = self.all_titles\n",
    "        else:\n",
    "            title_candidates = self.all_titles\n",
    "        attempt = 0\n",
    "        while flag and attempt < max_time:\n",
    "            attempt += 1\n",
    "            selected = random.choice(title_candidates)\n",
    "            if selected != target:\n",
    "                flag = False\n",
    "        if attempt == max_time:\n",
    "            selected = random.choice(self.all_titles)\n",
    "        return selected\n",
    "\n",
    "    def collate_fn(self, batch_data):\n",
    "        batch_term, batch_title, batch_definition = list(zip(*batch_data))\n",
    "        pos_samples, neg_samples, masked_pos_samples = list(),  list(), list()\n",
    "        for _ in range(self.hard_num):\n",
    "            temp_pos_samples = [batch_title[index] + ' [SEP] ' + batch_definition[index] for index in range(len(batch_title))]\n",
    "            neg_titles = [self.select_negative(t) for t in batch_term]\n",
    "            temp_neg_samples = [neg_titles[index] + ' [SEP] ' + batch_definition[index] for index in range(len(batch_title))]\n",
    "            temp_masked_pos_samples = [batch_title[index] + ' [SEP] ' + batch_definition[index] for index in range(len(batch_title))]\n",
    "\n",
    "            pos_samples.extend(temp_pos_samples)\n",
    "            neg_samples.extend(temp_neg_samples)\n",
    "            masked_pos_samples.extend(temp_masked_pos_samples)\n",
    "        return pos_samples,  masked_pos_samples,  neg_samples\n",
    "\n",
    "    def __call__(self, data_path):\n",
    "        dataset = load_pretrain(train_data_path=data_path)\n",
    "        logger.info('loaded dataset, sample = {a}'.format(a=len(dataset['term'])))\n",
    "        dataset = TextData(dataset)\n",
    "        train_iterator = DataLoader(dataset=dataset, batch_size=self.batch_size // (2 * self.hard_num), shuffle=self.shuffle,\n",
    "                                    collate_fn=self.collate_fn)\n",
    "        return train_iterator"
   ]
  },
  {
   "cell_type": "markdown",
   "id": "5e6f92f1-9a8f-495d-b316-c11756c25f82",
   "metadata": {},
   "source": [
    "## Sentence Pair CLS Training"
   ]
  },
  {
   "cell_type": "code",
   "execution_count": 243,
   "id": "89ccf6f8-1a59-459e-8707-5bd4c6ba3e79",
   "metadata": {
    "tags": []
   },
   "outputs": [],
   "source": [
    "def train_scp(device = device, batch_size = 16, kb = def_disamb_kb, from_tf= False, shuffle = True,\n",
    "         hard_neg_numbers = 2, train_data_path = 'data/SP_CLS/df_flattened_train_disam_list.csv',\n",
    "         lr=2e-5, lr_decay = 0.95, epoch_num = 30, loss_check_step =1, check_step = 1000, \n",
    "         output_model_path=\"trained_models/\" ):\n",
    "    \n",
    "    model = DefDisambiguationBERT(device=device,from_tf=from_tf)\n",
    "    model.to(device)\n",
    "    loader = DefDisambiguationBertLoader(batch_size, tokenizer=model.tokenizer, kb=kb, shuffle=shuffle, hard_num=hard_neg_numbers)\n",
    "\n",
    "    train_loader = loader(train_data_path)\n",
    "    trainable_num = sum(p.numel() for p in model.parameters() if p.requires_grad)\n",
    "    logger.info(trainable_num)\n",
    "    optimizer = optim.Adam(model.parameters(), lr=lr)\n",
    "    scheduler = lr_scheduler.ExponentialLR(optimizer, gamma=0.99)\n",
    "\n",
    "    max_f1, max_epoch = 0.0, 0\n",
    "    for e in range(epoch_num):\n",
    "        epoch_loss = 0\n",
    "        batch_num = 0\n",
    "\n",
    "        for pos_samples, masked_pos_samples, neg_samples in train_loader:\n",
    "            model.train()\n",
    "            optimizer.zero_grad()\n",
    "\n",
    "            if batch_num % loss_check_step == 0 and batch_num != 0:\n",
    "                logger.info('sample = {b}, loss = {a}'.format(a=epoch_loss / batch_num, b=batch_num * batch_size))\n",
    "\n",
    "            if batch_num % check_step == 0 and batch_num != 0:\n",
    "                for g in optimizer.param_groups:\n",
    "                    g['lr'] *= lr_decay\n",
    "            #if batch_num % check_step == 0 and batch_num != 0:\n",
    "            #    temp_path = output_model_path.format(a=str(e + 1) + '_' + str(batch_num))\n",
    "            #    torch.save(model.state_dict(), temp_path)\n",
    "            loss = model(pos_samples, masked_pos_samples, neg_samples)\n",
    "\n",
    "            # backward\n",
    "            loss.backward()\n",
    "            optimizer.step()\n",
    "            epoch_loss += loss.item()\n",
    "            batch_num += 1\n",
    "\n",
    "        scheduler.step()\n",
    "        temp_path = f\"{output_model_path}_{model.model_name.split('/')[-1]}_{e+1}_epoch.pt\"\n",
    "        logger.info('the pre-training finished, saving model, path = {a}'.format(a=temp_path))\n",
    "        torch.save(model.state_dict(), temp_path)\n",
    "    return max_f1, max_epoch\n"
   ]
  },
  {
   "cell_type": "code",
   "execution_count": 244,
   "id": "0ab61564-5069-43f7-bb4f-515c623c4731",
   "metadata": {
    "tags": []
   },
   "outputs": [
    {
     "name": "stderr",
     "output_type": "stream",
     "text": [
      "/opt/conda/lib/python3.10/site-packages/huggingface_hub/file_download.py:1132: FutureWarning: `resume_download` is deprecated and will be removed in version 1.0.0. Downloads always resume when possible. If you want to force a new download, use `force_download=True`.\n",
      "  warnings.warn(\n"
     ]
    },
    {
     "name": "stdout",
     "output_type": "stream",
     "text": [
      "CPU times: user 4.15 s, sys: 1.23 s, total: 5.38 s\n",
      "Wall time: 3.67 s\n"
     ]
    },
    {
     "data": {
      "text/plain": [
       "(0.0, 0)"
      ]
     },
     "execution_count": 244,
     "metadata": {},
     "output_type": "execute_result"
    }
   ],
   "source": [
    "%%time\n",
    "train_scp(train_data_path=\"data/SP_CLS/5_samples.csv\", epoch_num = 3, batch_size=4)"
   ]
  },
  {
   "cell_type": "code",
   "execution_count": null,
   "id": "78b75a43-28d5-4f6f-a57f-14ef4d30ee64",
   "metadata": {
    "tags": []
   },
   "outputs": [
    {
     "name": "stderr",
     "output_type": "stream",
     "text": [
      "/opt/conda/lib/python3.10/site-packages/huggingface_hub/file_download.py:1132: FutureWarning: `resume_download` is deprecated and will be removed in version 1.0.0. Downloads always resume when possible. If you want to force a new download, use `force_download=True`.\n",
      "  warnings.warn(\n"
     ]
    }
   ],
   "source": [
    "%%time\n",
    "train_scp(train_data_path = 'data/SP_CLS/df_flattened_train_disam_list.csv', epoch_num = 50, batch_size=16, lr=1e-5)"
   ]
  },
  {
   "cell_type": "markdown",
   "id": "b4844877-3dda-49e9-8d5e-c201ec28b325",
   "metadata": {
    "tags": []
   },
   "source": [
    "## Evaluation"
   ]
  },
  {
   "cell_type": "code",
   "execution_count": 7,
   "id": "496d8af4-b682-4043-9f60-0c8ef7698f69",
   "metadata": {
    "tags": []
   },
   "outputs": [],
   "source": [
    "# adpated from https://github.com/tigerchen52/GLADIS/blob/master/source/evaluation.py\n",
    "from sklearn.metrics import f1_score\n",
    "from collections import OrderedDict\n",
    "\n",
    "\n",
    "def transform_to_index(trues, preds):\n",
    "\n",
    "    true_map = dict([(title, index) for index, title in enumerate(list(OrderedDict.fromkeys(trues)))])\n",
    "    tag_cnt = len(true_map)\n",
    "    true_index = [true_map[t] for t in trues]\n",
    "\n",
    "    for pred in preds:\n",
    "        if pred not in true_map:\n",
    "            true_map[pred] = len(true_map)\n",
    "    pred_index = [true_map[pred] for pred in preds]\n",
    "    return true_index, pred_index, tag_cnt\n",
    "\n",
    "\n",
    "def macro_f1(trues, preds):\n",
    "    true_index, pred_index, tag_cnt = transform_to_index(trues, preds)\n",
    "    f1_scores = f1_score(true_index, pred_index, average=None)[:tag_cnt]\n",
    "    macro_f1_score = sum(f1_scores) / len(f1_scores)\n",
    "    return macro_f1_score\n",
    "\n",
    "\n",
    "def accuracy(trues, preds):\n",
    "    acc_cnt = 0\n",
    "    for index, true in enumerate(trues):\n",
    "        pred = preds[index]\n",
    "        if pred == true:\n",
    "            acc_cnt += 1\n",
    "    acc = acc_cnt * 1.0 / len(trues)\n",
    "    return acc\n",
    "\n",
    "def predict(task_model, term, definition, batch_size, dd_kb=def_disamb_kb, cal=\"nsp\"):\n",
    "    titles = get_candidate(dd_kb, term)\n",
    "    #titles = [str.lower(can) for can in titles]\n",
    "    if \"nsp\" == cal:\n",
    "        scores = cal_nsp_score(task_model.model, task_model.tokenizer, titles, definition, batch_size)\n",
    "        max_index = np.argmax(scores)\n",
    "    else:\n",
    "        scores = cal_sim_score(task_model, titles, definition)\n",
    "        max_index = np.argmax(scores)\n",
    "    return titles[max_index]\n",
    "\n",
    "# evaluate prediction based on nsp and kb\n",
    "def eval_pred(task_model, flattened_dd_list_path, batch_size, dd_kb=def_disamb_kb, cal=\"nsp\",train=True):\n",
    "    data = reload_vars(flattened_dd_list_path)\n",
    "    true_labels, pred_labels = list(), list()\n",
    "    for index, sample in enumerate(data):\n",
    "        if index % 100 == 0:\n",
    "            logger.info('processing {a} lines '.format(a=index))\n",
    "        if train and index > 200: break\n",
    "        term = sample['term']\n",
    "        title = sample['title']\n",
    "        definition = sample['definition']\n",
    "        pred = predict(task_model, term, definition, batch_size, dd_kb=def_disamb_kb, cal=cal)\n",
    "        true_labels.append(title)\n",
    "        pred_labels.append(pred)\n",
    "    df_res = pd.DataFrame(data)\n",
    "    df_res['pred'] = pred_labels\n",
    "    df_res.to_csv(f\"data/res/{task_model.model_name.split('/')[-1]}_{cal}_{'train' if 'train' in flattened_dd_list_path else 'test'}.csv\")\n",
    "    macro_f1_score = macro_f1(true_labels, pred_labels)\n",
    "    acc = accuracy(true_labels, pred_labels)\n",
    "    return macro_f1_score, acc\n"
   ]
  },
  {
   "cell_type": "markdown",
   "id": "21025f2f-11dc-441d-ae3f-3953ba69f63c",
   "metadata": {},
   "source": [
    "# Evaluate NSP with NSP-finetuned LMs"
   ]
  },
  {
   "cell_type": "code",
   "execution_count": 48,
   "id": "677a39df-d51d-48a2-8807-7caab645a6a0",
   "metadata": {
    "tags": []
   },
   "outputs": [],
   "source": [
    "def run_eval(device=device, batch_size=4, min_epoch_num = 0, epoch_num=3, \n",
    "             test_data_path=\"data/vars/flattened_test_disam_list.pkl\",\n",
    "             output_model_path=\"trained_models/\" ):\n",
    "    for epoch in range(min_epoch_num, epoch_num):\n",
    "        model = DefDisambiguationBERT(device=device)\n",
    "        model_path = f\"{output_model_path}_{model.model_name.split('/')[-1]}_{epoch+1}_epoch.pt\"\n",
    "        model.model_name = f\"{model.model_name}_{epoch+1}_ep\"\n",
    "        model.load_state_dict(torch.load(model_path, map_location=device))\n",
    "        macro_f1_score, acc = eval_pred(model, test_data_path,\n",
    "                                batch_size = batch_size, dd_kb=def_disamb_kb, train=False) \n",
    "        logger.info('Epoch {e}: F1: {a}, ACC: {b}'.format(e=epoch+1, a=macro_f1_score, b=acc))"
   ]
  },
  {
   "cell_type": "code",
   "execution_count": 46,
   "id": "a4038198-0ee4-4f75-a6a2-66562b9e5cd2",
   "metadata": {
    "tags": []
   },
   "outputs": [
    {
     "name": "stdout",
     "output_type": "stream",
     "text": [
      "1\n",
      "2\n"
     ]
    }
   ],
   "source": [
    "for epoch in range(1, 3):print(epoch)"
   ]
  },
  {
   "cell_type": "code",
   "execution_count": 260,
   "id": "07ffeaf1-6da7-4ce6-a093-5e5af3906884",
   "metadata": {
    "tags": []
   },
   "outputs": [
    {
     "name": "stderr",
     "output_type": "stream",
     "text": [
      "/opt/conda/lib/python3.10/site-packages/huggingface_hub/file_download.py:1132: FutureWarning: `resume_download` is deprecated and will be removed in version 1.0.0. Downloads always resume when possible. If you want to force a new download, use `force_download=True`.\n",
      "  warnings.warn(\n"
     ]
    },
    {
     "name": "stdout",
     "output_type": "stream",
     "text": [
      "CPU times: user 10min 49s, sys: 8.39 s, total: 10min 57s\n",
      "Wall time: 14.8 s\n"
     ]
    }
   ],
   "source": [
    "%%time\n",
    "run_eval(device=device, batch_size=32, epoch_num=1, test_data_path=\"data/vars/9_test_sample_list.pkl\")"
   ]
  },
  {
   "cell_type": "code",
   "execution_count": null,
   "id": "4862b26b-934b-455b-a3a8-ff7ec1ca61d6",
   "metadata": {
    "scrolled": true,
    "tags": []
   },
   "outputs": [],
   "source": [
    "%%time\n",
    "run_eval(device=device, batch_size=4, epoch_num=50)"
   ]
  },
  {
   "cell_type": "code",
   "execution_count": null,
   "id": "2194fb45-5c9c-41f1-930d-33823c215126",
   "metadata": {
    "tags": []
   },
   "outputs": [
    {
     "name": "stderr",
     "output_type": "stream",
     "text": [
      "/opt/conda/lib/python3.10/site-packages/huggingface_hub/file_download.py:1132: FutureWarning: `resume_download` is deprecated and will be removed in version 1.0.0. Downloads always resume when possible. If you want to force a new download, use `force_download=True`.\n",
      "  warnings.warn(\n"
     ]
    }
   ],
   "source": [
    "%%time\n",
    "run_eval(device=device, batch_size=16, min_epoch_num=10, epoch_num=50, test_data_path=\"data/vars/flattened_train_disamb_list.pkl\")"
   ]
  },
  {
   "cell_type": "markdown",
   "id": "00567ac4-e8c9-4a91-956a-38914d922b62",
   "metadata": {},
   "source": [
    "# Evaluate NSP with OOB LMs\n",
    "Note: To cache the pairwised NSP calculations"
   ]
  },
  {
   "cell_type": "code",
   "execution_count": 115,
   "id": "a383f87a-a425-4860-b8c1-27378e05f532",
   "metadata": {
    "tags": []
   },
   "outputs": [
    {
     "name": "stderr",
     "output_type": "stream",
     "text": [
      "/opt/conda/lib/python3.10/site-packages/huggingface_hub/file_download.py:1132: FutureWarning: `resume_download` is deprecated and will be removed in version 1.0.0. Downloads always resume when possible. If you want to force a new download, use `force_download=True`.\n",
      "  warnings.warn(\n"
     ]
    },
    {
     "name": "stdout",
     "output_type": "stream",
     "text": [
      "CPU times: user 2h 58min 16s, sys: 8min 32s, total: 3h 6min 49s\n",
      "Wall time: 4min 7s\n"
     ]
    },
    {
     "data": {
      "text/plain": [
       "(0.08303624480095069, 0.13031914893617022)"
      ]
     },
     "execution_count": 115,
     "metadata": {},
     "output_type": "execute_result"
    }
   ],
   "source": [
    "%%time\n",
    "cc_model = DefDisambiguationBERT(\"InriaValda/cc_math_bert_ep10\", from_tf=True, device= device)\n",
    "macro_f1_score, acc = eval_pred(cc_model, \"data/vars/flattened_test_disam_list.pkl\",\n",
    "                                batch_size = 32, dd_kb=def_disamb_kb, train=False) \n",
    "macro_f1_score, acc "
   ]
  },
  {
   "cell_type": "code",
   "execution_count": null,
   "id": "9aa5f16c-7f3d-4e3a-a9c5-03019b093fd5",
   "metadata": {
    "scrolled": true,
    "tags": []
   },
   "outputs": [
    {
     "name": "stderr",
     "output_type": "stream",
     "text": [
      "/opt/conda/lib/python3.10/site-packages/huggingface_hub/file_download.py:1132: FutureWarning: `resume_download` is deprecated and will be removed in version 1.0.0. Downloads always resume when possible. If you want to force a new download, use `force_download=True`.\n",
      "  warnings.warn(\n",
      "2024-10-22 15:15:38.327174: I tensorflow/core/platform/cpu_feature_guard.cc:193] This TensorFlow binary is optimized with oneAPI Deep Neural Network Library (oneDNN) to use the following CPU instructions in performance-critical operations:  AVX2 FMA\n",
      "To enable them in other operations, rebuild TensorFlow with the appropriate compiler flags.\n",
      "2024-10-22 15:15:38.486482: E tensorflow/stream_executor/cuda/cuda_blas.cc:2981] Unable to register cuBLAS factory: Attempting to register factory for plugin cuBLAS when one has already been registered\n",
      "2024-10-22 15:15:39.140395: W tensorflow/stream_executor/platform/default/dso_loader.cc:64] Could not load dynamic library 'libnvinfer.so.7'; dlerror: libnvinfer.so.7: cannot open shared object file: No such file or directory; LD_LIBRARY_PATH: /usr/local/nvidia/lib:/usr/local/nvidia/lib64\n",
      "2024-10-22 15:15:39.140491: W tensorflow/stream_executor/platform/default/dso_loader.cc:64] Could not load dynamic library 'libnvinfer_plugin.so.7'; dlerror: libnvinfer_plugin.so.7: cannot open shared object file: No such file or directory; LD_LIBRARY_PATH: /usr/local/nvidia/lib:/usr/local/nvidia/lib64\n",
      "2024-10-22 15:15:39.140500: W tensorflow/compiler/tf2tensorrt/utils/py_utils.cc:38] TF-TRT Warning: Cannot dlopen some TensorRT libraries. If you would like to use Nvidia GPU with TensorRT, please make sure the missing libraries mentioned above are installed properly.\n",
      "2024-10-22 15:15:39.689022: I tensorflow/core/platform/cpu_feature_guard.cc:193] This TensorFlow binary is optimized with oneAPI Deep Neural Network Library (oneDNN) to use the following CPU instructions in performance-critical operations:  AVX2 FMA\n",
      "To enable them in other operations, rebuild TensorFlow with the appropriate compiler flags.\n",
      "2024-10-22 15:15:42.441376: I tensorflow/core/common_runtime/gpu/gpu_device.cc:1616] Created device /job:localhost/replica:0/task:0/device:GPU:0 with 30471 MB memory:  -> device: 0, name: Tesla V100S-PCIE-32GB, pci bus id: 0000:21:00.0, compute capability: 7.0\n",
      "2024-10-22 15:15:42.442100: I tensorflow/core/common_runtime/gpu/gpu_device.cc:1616] Created device /job:localhost/replica:0/task:0/device:GPU:1 with 30471 MB memory:  -> device: 1, name: Tesla V100S-PCIE-32GB, pci bus id: 0000:81:00.0, compute capability: 7.0\n"
     ]
    }
   ],
   "source": [
    "%%time\n",
    "cc_model = DefDisambiguationBERT(\"InriaValda/cc_math_bert_ep10\", from_tf=True, device= device)\n",
    "macro_f1_score, acc = eval_pred(cc_model, \"data/vars/flattened_train_disamb_list.pkl\",\n",
    "                                batch_size = 4, dd_kb=def_disamb_kb, train=False) \n",
    "macro_f1_score, acc "
   ]
  },
  {
   "cell_type": "code",
   "execution_count": 8,
   "id": "3d12597c-6154-4ddb-80fe-a3c8a5629733",
   "metadata": {
    "tags": []
   },
   "outputs": [
    {
     "name": "stderr",
     "output_type": "stream",
     "text": [
      "/opt/conda/lib/python3.10/site-packages/huggingface_hub/file_download.py:1132: FutureWarning: `resume_download` is deprecated and will be removed in version 1.0.0. Downloads always resume when possible. If you want to force a new download, use `force_download=True`.\n",
      "  warnings.warn(\n"
     ]
    },
    {
     "name": "stdout",
     "output_type": "stream",
     "text": [
      "CPU times: user 5h 3min 11s, sys: 23min 38s, total: 5h 26min 50s\n",
      "Wall time: 7min 23s\n"
     ]
    },
    {
     "data": {
      "text/plain": [
       "(0.8089622641509436, 0.8475750577367206)"
      ]
     },
     "execution_count": 8,
     "metadata": {},
     "output_type": "execute_result"
    }
   ],
   "source": [
    "%%time \n",
    "BERT_OOB = DefDisambiguationBERT(device= device)\n",
    "macro_f1_score, acc = eval_pred(BERT_OOB, \"data/vars/flattened_test_disam_list.pkl\",\n",
    "                                batch_size = 32, dd_kb=def_disamb_kb, train=False) \n",
    "macro_f1_score, acc"
   ]
  },
  {
   "cell_type": "code",
   "execution_count": 11,
   "id": "2d983b2a-1ebb-458b-97ce-fc7e9ad0a93d",
   "metadata": {},
   "outputs": [
    {
     "name": "stdout",
     "output_type": "stream",
     "text": [
      "CPU times: user 11h 22min 18s, sys: 38min 59s, total: 12h 1min 18s\n",
      "Wall time: 15min 46s\n"
     ]
    },
    {
     "data": {
      "text/plain": [
       "(0.7982990712720429, 0.8391364902506964)"
      ]
     },
     "execution_count": 11,
     "metadata": {},
     "output_type": "execute_result"
    }
   ],
   "source": [
    "%%time\n",
    "macro_f1_score, acc = eval_pred(BERT_OOB, \"data/vars/flattened_train_disamb_list.pkl\",\n",
    "                                batch_size = 32, dd_kb=def_disamb_kb, train=False) \n",
    "macro_f1_score, acc"
   ]
  },
  {
   "cell_type": "markdown",
   "id": "1532d5cb-6f98-44e4-abc4-e8e8bc3cec6c",
   "metadata": {
    "tags": []
   },
   "source": [
    "# Evaluate embedding similarity with NSP-finetuned LMs\n"
   ]
  },
  {
   "cell_type": "code",
   "execution_count": 42,
   "id": "25c5b3fe-10e4-4284-9fd3-d958022b49d5",
   "metadata": {},
   "outputs": [],
   "source": [
    "def run_eval_sim(device=device, batch_size=4, check_point_nums=[0], test_data_path=\"data/vars/flattened_test_disam_list.pkl\"):\n",
    "    test_data_str = test_data_path.split('/')[-1].split('.pkl')[0]\n",
    "    for epoch in check_point_nums:\n",
    "        \n",
    "        ft_model_name = f\"ft_models/bert-base-uncased_nsp_{epoch+1}_ep\"\n",
    "        # check if we have alread save the bert model\n",
    "        if not os.path.isdir(ft_model_name):\n",
    "            dd_model = DefDisambiguationBERT(device=device)\n",
    "            dd_model_path = f\"{output_model_path}_{dd_model.model_name.split('/')[-1]}_{epoch+1}_epoch.pt\"\n",
    "            dd_model.load_state_dict(torch.load(dd_model_path, map_location=device))\n",
    "            dd_model.model.save_pretrained(ft_model_name)\n",
    "            dd_model.tokenizer.save_pretrained(ft_model_name)\n",
    "            del dd_model\n",
    "            \n",
    "        sem_model = SentenceEncoderModel(ft_model_name, device= device)\n",
    "\n",
    "        macro_f1_score, acc = eval_pred(sem_model, test_data_path, dd_kb=def_disamb_kb, train=False,\n",
    "                                       cal=\"sim\", batch_size=4)  \n",
    "        logger.info('Evaluate emb sim of Epoch {e} on {test_data_str} set: F1: {a}, ACC: {b}'.format(e=epoch+1, test_data_str = test_data_str, a=macro_f1_score, b=acc))"
   ]
  },
  {
   "cell_type": "code",
   "execution_count": 45,
   "id": "f027c907-07b6-4570-b7ac-52e0962613c7",
   "metadata": {
    "tags": []
   },
   "outputs": [
    {
     "name": "stderr",
     "output_type": "stream",
     "text": [
      "/opt/conda/lib/python3.10/site-packages/huggingface_hub/file_download.py:1132: FutureWarning: `resume_download` is deprecated and will be removed in version 1.0.0. Downloads always resume when possible. If you want to force a new download, use `force_download=True`.\n",
      "  warnings.warn(\n",
      "/opt/conda/lib/python3.10/site-packages/huggingface_hub/file_download.py:1132: FutureWarning: `resume_download` is deprecated and will be removed in version 1.0.0. Downloads always resume when possible. If you want to force a new download, use `force_download=True`.\n",
      "  warnings.warn(\n"
     ]
    },
    {
     "name": "stdout",
     "output_type": "stream",
     "text": [
      "CPU times: user 7h 31min 44s, sys: 3h 34min 35s, total: 11h 6min 20s\n",
      "Wall time: 19min 21s\n"
     ]
    }
   ],
   "source": [
    "%%time\n",
    "run_eval_sim(device=device, batch_size=4, check_point_nums=[23,42], test_data_path=\"data/vars/flattened_test_disam_list.pkl\")\n",
    "run_eval_sim(device=device, batch_size=4, check_point_nums=[23,42], test_data_path=\"data/vars/flattened_train_disamb_list.pkl\")"
   ]
  },
  {
   "cell_type": "markdown",
   "id": "20bd796d-7a43-4a42-8000-2543189e9067",
   "metadata": {},
   "source": [
    "# Evaluate embedding similarity with OOB LMs\n",
    "Notes: without the pickled sentence-embedding dictionaries, each 768-dimension sentence bert model takes ~ 11 minutes to calculate all the embeddings once."
   ]
  },
  {
   "cell_type": "code",
   "execution_count": 39,
   "id": "71252c27-57a4-4286-8aec-575647af3ab6",
   "metadata": {},
   "outputs": [
    {
     "name": "stderr",
     "output_type": "stream",
     "text": [
      "/opt/conda/lib/python3.10/site-packages/huggingface_hub/file_download.py:1132: FutureWarning: `resume_download` is deprecated and will be removed in version 1.0.0. Downloads always resume when possible. If you want to force a new download, use `force_download=True`.\n",
      "  warnings.warn(\n"
     ]
    },
    {
     "name": "stdout",
     "output_type": "stream",
     "text": [
      "CPU times: user 1.37 s, sys: 608 ms, total: 1.97 s\n",
      "Wall time: 1.54 s\n"
     ]
    }
   ],
   "source": [
    "%%time\n",
    "cc_sem_model = SentenceEncoderModel(\"InriaValda/cc_math_bert_ep10\", from_tf=True, device= device)"
   ]
  },
  {
   "cell_type": "code",
   "execution_count": 253,
   "id": "a328e315-de76-4ab1-b71e-68b711d277ef",
   "metadata": {
    "tags": []
   },
   "outputs": [
    {
     "name": "stdout",
     "output_type": "stream",
     "text": [
      "CPU times: user 1.4 s, sys: 36.3 ms, total: 1.44 s\n",
      "Wall time: 1.44 s\n"
     ]
    },
    {
     "data": {
      "text/plain": [
       "(0.2820924882245639, 0.3787528868360277)"
      ]
     },
     "execution_count": 253,
     "metadata": {},
     "output_type": "execute_result"
    }
   ],
   "source": [
    "%%time\n",
    "macro_f1_score, acc = eval_pred(cc_sem_model, \"data/vars/flattened_test_disam_list.pkl\",\n",
    "                                batch_size = 4, dd_kb=def_disamb_kb, train=False,\n",
    "                               cal=\"sim\") \n",
    "macro_f1_score, acc"
   ]
  },
  {
   "cell_type": "code",
   "execution_count": 254,
   "id": "237f82eb-2069-4bdc-ae08-a1f1dbde4f65",
   "metadata": {
    "tags": []
   },
   "outputs": [
    {
     "name": "stdout",
     "output_type": "stream",
     "text": [
      "CPU times: user 2.43 s, sys: 0 ns, total: 2.43 s\n",
      "Wall time: 2.43 s\n"
     ]
    },
    {
     "data": {
      "text/plain": [
       "(0.3560199829675193, 0.45403899721448465)"
      ]
     },
     "execution_count": 254,
     "metadata": {},
     "output_type": "execute_result"
    }
   ],
   "source": [
    "%%time\n",
    "macro_f1_score, acc = eval_pred(cc_sem_model, \"data/vars/flattened_train_disamb_list.pkl\",\n",
    "                                batch_size = 32, dd_kb=def_disamb_kb, train=False,\n",
    "                               cal=\"sim\") \n",
    "macro_f1_score, acc"
   ]
  },
  {
   "cell_type": "code",
   "execution_count": 248,
   "id": "48fce2f2-f52d-4822-b61e-0d8169df273b",
   "metadata": {
    "tags": []
   },
   "outputs": [
    {
     "name": "stderr",
     "output_type": "stream",
     "text": [
      "/opt/conda/lib/python3.10/site-packages/huggingface_hub/file_download.py:1132: FutureWarning: `resume_download` is deprecated and will be removed in version 1.0.0. Downloads always resume when possible. If you want to force a new download, use `force_download=True`.\n",
      "  warnings.warn(\n"
     ]
    },
    {
     "name": "stdout",
     "output_type": "stream",
     "text": [
      "CPU times: user 1.97 s, sys: 176 ms, total: 2.15 s\n",
      "Wall time: 1.3 s\n"
     ]
    },
    {
     "data": {
      "text/plain": [
       "(0.9008647798742141, 0.9237875288683602)"
      ]
     },
     "execution_count": 248,
     "metadata": {},
     "output_type": "execute_result"
    }
   ],
   "source": [
    "%%time\n",
    "mini_sem_model = SentenceEncoderModel(\"sentence-transformers/all-MiniLM-L6-v2\", device= device)\n",
    "\n",
    "macro_f1_score, acc = eval_pred(mini_sem_model, \"data/vars/flattened_test_disam_list.pkl\",\n",
    "                                batch_size = 4, dd_kb=def_disamb_kb, train=False,\n",
    "                               cal=\"sim\") \n",
    "macro_f1_score, acc"
   ]
  },
  {
   "cell_type": "code",
   "execution_count": 249,
   "id": "bfe59298-08d5-4b89-bb88-54df1e382b3b",
   "metadata": {
    "tags": []
   },
   "outputs": [
    {
     "data": {
      "text/plain": [
       "(0.8813732651570487, 0.9101671309192201)"
      ]
     },
     "execution_count": 249,
     "metadata": {},
     "output_type": "execute_result"
    }
   ],
   "source": [
    "macro_f1_score, acc = eval_pred(mini_sem_model, \"data/vars/flattened_train_disamb_list.pkl\",\n",
    "                                batch_size = 4, dd_kb=def_disamb_kb, train=False,\n",
    "                               cal=\"sim\") \n",
    "macro_f1_score, acc"
   ]
  },
  {
   "cell_type": "code",
   "execution_count": 250,
   "id": "9ce985b9-b346-4ecb-9f47-2975eeb046e8",
   "metadata": {
    "tags": []
   },
   "outputs": [
    {
     "name": "stderr",
     "output_type": "stream",
     "text": [
      "/opt/conda/lib/python3.10/site-packages/huggingface_hub/file_download.py:1132: FutureWarning: `resume_download` is deprecated and will be removed in version 1.0.0. Downloads always resume when possible. If you want to force a new download, use `force_download=True`.\n",
      "  warnings.warn(\n"
     ]
    },
    {
     "name": "stdout",
     "output_type": "stream",
     "text": [
      "CPU times: user 3.81 s, sys: 592 ms, total: 4.4 s\n",
      "Wall time: 1.95 s\n"
     ]
    },
    {
     "data": {
      "text/plain": [
       "(0.2611149736068411, 0.3533487297921478)"
      ]
     },
     "execution_count": 250,
     "metadata": {},
     "output_type": "execute_result"
    }
   ],
   "source": [
    "%%time\n",
    "bert_sem_model = SentenceEncoderModel(\"bert-base-uncased\", device= device)\n",
    "\n",
    "macro_f1_score, acc = eval_pred(bert_sem_model, \"data/vars/flattened_test_disam_list.pkl\",\n",
    "                                batch_size = 4, dd_kb=def_disamb_kb, train=False,\n",
    "                               cal=\"sim\") \n",
    "macro_f1_score, acc"
   ]
  },
  {
   "cell_type": "code",
   "execution_count": 252,
   "id": "f62d46a7-a95f-4cb1-aeb3-1554d39b48f8",
   "metadata": {
    "tags": []
   },
   "outputs": [
    {
     "name": "stdout",
     "output_type": "stream",
     "text": [
      "CPU times: user 2.37 s, sys: 14.9 ms, total: 2.39 s\n",
      "Wall time: 2.39 s\n"
     ]
    },
    {
     "data": {
      "text/plain": [
       "(0.3019173019173022, 0.4025069637883008)"
      ]
     },
     "execution_count": 252,
     "metadata": {},
     "output_type": "execute_result"
    }
   ],
   "source": [
    "%%time\n",
    "macro_f1_score, acc = eval_pred(bert_sem_model, \"data/vars/flattened_train_disamb_list.pkl\",\n",
    "                                batch_size = 4, dd_kb=def_disamb_kb, train=False,\n",
    "                               cal=\"sim\") \n",
    "macro_f1_score, acc"
   ]
  },
  {
   "cell_type": "code",
   "execution_count": 255,
   "id": "84a06b83-fd4d-4c65-b90b-817d57df4bb3",
   "metadata": {
    "tags": []
   },
   "outputs": [
    {
     "name": "stderr",
     "output_type": "stream",
     "text": [
      "/opt/conda/lib/python3.10/site-packages/huggingface_hub/file_download.py:1132: FutureWarning: `resume_download` is deprecated and will be removed in version 1.0.0. Downloads always resume when possible. If you want to force a new download, use `force_download=True`.\n",
      "  warnings.warn(\n"
     ]
    },
    {
     "name": "stdout",
     "output_type": "stream",
     "text": [
      "CPU times: user 4.15 s, sys: 767 ms, total: 4.92 s\n",
      "Wall time: 2.08 s\n"
     ]
    },
    {
     "data": {
      "text/plain": [
       "(0.28279607465114975, 0.3833718244803695)"
      ]
     },
     "execution_count": 255,
     "metadata": {},
     "output_type": "execute_result"
    }
   ],
   "source": [
    "%%time\n",
    "MLM_arXiv_sem_model = SentenceEncoderModel(\"math-similarity/Bert-MLM_arXiv\", device= device)\n",
    "\n",
    "macro_f1_score, acc = eval_pred(MLM_arXiv_sem_model, \"data/vars/flattened_test_disam_list.pkl\",\n",
    "                                batch_size = 4, dd_kb=def_disamb_kb, train=False,\n",
    "                               cal=\"sim\") \n",
    "macro_f1_score, acc"
   ]
  },
  {
   "cell_type": "code",
   "execution_count": 257,
   "id": "7a2538bc-4fbb-41dc-b7a8-dab476ab6981",
   "metadata": {
    "tags": []
   },
   "outputs": [
    {
     "data": {
      "text/plain": [
       "(0.32845973438183346, 0.4268802228412256)"
      ]
     },
     "execution_count": 257,
     "metadata": {},
     "output_type": "execute_result"
    }
   ],
   "source": [
    "macro_f1_score, acc = eval_pred(MLM_arXiv_sem_model, \"data/vars/flattened_train_disamb_list.pkl\",\n",
    "                                batch_size = 4, dd_kb=def_disamb_kb, train=False,\n",
    "                               cal=\"sim\") \n",
    "macro_f1_score, acc"
   ]
  },
  {
   "cell_type": "code",
   "execution_count": 258,
   "id": "38485f21-716f-4dee-84d6-8ae64d6871b3",
   "metadata": {
    "tags": []
   },
   "outputs": [
    {
     "name": "stderr",
     "output_type": "stream",
     "text": [
      "/opt/conda/lib/python3.10/site-packages/huggingface_hub/file_download.py:1132: FutureWarning: `resume_download` is deprecated and will be removed in version 1.0.0. Downloads always resume when possible. If you want to force a new download, use `force_download=True`.\n",
      "  warnings.warn(\n"
     ]
    },
    {
     "name": "stdout",
     "output_type": "stream",
     "text": [
      "CPU times: user 3.59 s, sys: 944 ms, total: 4.53 s\n",
      "Wall time: 2.08 s\n"
     ]
    },
    {
     "data": {
      "text/plain": [
       "(0.43801662174303685, 0.5219399538106235)"
      ]
     },
     "execution_count": 258,
     "metadata": {},
     "output_type": "execute_result"
    }
   ],
   "source": [
    "%%time\n",
    "zbmath_sem_model = SentenceEncoderModel(\"math-similarity/Bert-MLM_arXiv-MP-class_zbMath\", device= device)\n",
    "\n",
    "macro_f1_score, acc = eval_pred(zbmath_sem_model, \"data/vars/flattened_test_disam_list.pkl\",\n",
    "                                batch_size = 4, dd_kb=def_disamb_kb, train=False,\n",
    "                               cal=\"sim\") \n",
    "macro_f1_score, acc"
   ]
  },
  {
   "cell_type": "code",
   "execution_count": 259,
   "id": "4f33e79b-fa56-49de-8f9c-d8355e4a85f1",
   "metadata": {
    "tags": []
   },
   "outputs": [
    {
     "data": {
      "text/plain": [
       "(0.5399012561174714, 0.6149025069637883)"
      ]
     },
     "execution_count": 259,
     "metadata": {},
     "output_type": "execute_result"
    }
   ],
   "source": [
    "macro_f1_score, acc = eval_pred(zbmath_sem_model, \"data/vars/flattened_train_disamb_list.pkl\",\n",
    "                                batch_size = 4, dd_kb=def_disamb_kb, train=False,\n",
    "                               cal=\"sim\") \n",
    "macro_f1_score, acc"
   ]
  },
  {
   "cell_type": "code",
   "execution_count": 17,
   "id": "d1fc1e74-343a-47df-b716-02a1a5256ed4",
   "metadata": {
    "tags": []
   },
   "outputs": [
    {
     "name": "stderr",
     "output_type": "stream",
     "text": [
      "/opt/conda/lib/python3.10/site-packages/huggingface_hub/file_download.py:1132: FutureWarning: `resume_download` is deprecated and will be removed in version 1.0.0. Downloads always resume when possible. If you want to force a new download, use `force_download=True`.\n",
      "  warnings.warn(\n"
     ]
    },
    {
     "name": "stdout",
     "output_type": "stream",
     "text": [
      "CPU times: user 2.51 s, sys: 270 ms, total: 2.78 s\n",
      "Wall time: 1.36 s\n"
     ]
    },
    {
     "data": {
      "text/plain": [
       "(0.9118710691823901, 0.9330254041570438)"
      ]
     },
     "execution_count": 17,
     "metadata": {},
     "output_type": "execute_result"
    }
   ],
   "source": [
    "%%time\n",
    "mini_sem_model_12 = SentenceEncoderModel(\"sentence-transformers/all-MiniLM-L12-v2\", device= device)\n",
    " \n",
    "macro_f1_score, acc = eval_pred(mini_sem_model_12, \"data/vars/flattened_test_disam_list.pkl\",\n",
    "                                batch_size = 4, dd_kb=def_disamb_kb, train=False,\n",
    "                               cal=\"sim\") \n",
    "macro_f1_score, acc"
   ]
  },
  {
   "cell_type": "code",
   "execution_count": 19,
   "id": "aa62b934-28eb-4af5-b70a-c123b15343b7",
   "metadata": {
    "tags": []
   },
   "outputs": [
    {
     "data": {
      "text/plain": [
       "(0.8944728512296076, 0.9206128133704735)"
      ]
     },
     "execution_count": 19,
     "metadata": {},
     "output_type": "execute_result"
    }
   ],
   "source": [
    "macro_f1_score, acc = eval_pred(mini_sem_model_12, \"data/vars/flattened_train_disamb_list.pkl\",\n",
    "                                batch_size = 4, dd_kb=def_disamb_kb, train=False,\n",
    "                               cal=\"sim\") \n",
    "macro_f1_score, acc"
   ]
  },
  {
   "cell_type": "code",
   "execution_count": 166,
   "id": "67a5471b-dcbf-41e6-bb58-aba259ee452e",
   "metadata": {
    "tags": []
   },
   "outputs": [
    {
     "data": {
      "text/plain": [
       "768"
      ]
     },
     "execution_count": 166,
     "metadata": {},
     "output_type": "execute_result"
    }
   ],
   "source": [
    "len(cc_sem_model.title_emb_dict['Definition:Field Zero'])"
   ]
  },
  {
   "cell_type": "code",
   "execution_count": 188,
   "id": "06abe521-c11f-4e88-827f-3d2641cd8ae2",
   "metadata": {
    "tags": []
   },
   "outputs": [
    {
     "data": {
      "text/plain": [
       "[tensor(0.6233), tensor(0.5268)]"
      ]
     },
     "execution_count": 188,
     "metadata": {},
     "output_type": "execute_result"
    }
   ],
   "source": [
    "cal_sim_score(cc_sem_model, [title0, 'blabla'], def0)"
   ]
  },
  {
   "cell_type": "code",
   "execution_count": 178,
   "id": "cfbb9a3b-8eea-40da-8100-c73534b2e8be",
   "metadata": {
    "tags": []
   },
   "outputs": [],
   "source": [
    "title02 = 'Definition:Field Zero2'\n",
    "def02 = 'A2 dynamical system is a non-linear system in which a function describes the time dependence of a point in a geometrical space.\\n\\n\\n=== Flow ===\\nIn a dynamical system, a set of time-dependent equations is known as flow.\\n\\n '"
   ]
  },
  {
   "cell_type": "code",
   "execution_count": 189,
   "id": "51b8be7a-2e40-40d2-ac5b-e13f0e8d8bbf",
   "metadata": {
    "tags": []
   },
   "outputs": [],
   "source": [
    "embs = get_embeddings(cc_sem_model.model, cc_sem_model.tokenizer, [title0, 'blabla'])"
   ]
  },
  {
   "cell_type": "code",
   "execution_count": null,
   "id": "4c758967-05d6-4bfc-bdd5-0274ea9fc031",
   "metadata": {},
   "outputs": [],
   "source": []
  }
 ],
 "metadata": {
  "kernelspec": {
   "display_name": "Python 3 (ipykernel)",
   "language": "python",
   "name": "python3"
  },
  "language_info": {
   "codemirror_mode": {
    "name": "ipython",
    "version": 3
   },
   "file_extension": ".py",
   "mimetype": "text/x-python",
   "name": "python",
   "nbconvert_exporter": "python",
   "pygments_lexer": "ipython3",
   "version": "3.10.10"
  }
 },
 "nbformat": 4,
 "nbformat_minor": 5
}
