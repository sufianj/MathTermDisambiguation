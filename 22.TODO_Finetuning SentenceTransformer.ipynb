{
 "cells": [
  {
   "cell_type": "markdown",
   "id": "e50b826c-1498-4d17-9d5c-a4cdf8f695e8",
   "metadata": {},
   "source": [
    "# 21. TODO: Finetuning SentenceTransformer\n",
    "\n",
    "cf: https://sbert.net/docs/sentence_transformer/training_overview.html#\n",
    "\n",
    "cf: https://sbert.net/docs/sentence_transformer/loss_overview.html\n",
    "\n",
    "cf: https://github.com/math-collab/text-similarity/blob/main/SBert%20%2B%20fine-tune%20arXiv-class.ipynb"
   ]
  },
  {
   "cell_type": "markdown",
   "id": "b43dca84-3c62-4ce3-b630-cd65b2643b22",
   "metadata": {},
   "source": [
    "## Classfication Task: sentence pairs are either similar(1) or dissimilar (0)"
   ]
  },
  {
   "cell_type": "markdown",
   "id": "eab636fb-dbcd-451d-992b-3bffbc008d20",
   "metadata": {},
   "source": [
    "## Anchor Task: a definition DA should be more similar to title TA than title TB"
   ]
  },
  {
   "cell_type": "code",
   "execution_count": null,
   "id": "24b039e0-9512-48c3-9455-f38921ad7a82",
   "metadata": {},
   "outputs": [],
   "source": []
  },
  {
   "cell_type": "code",
   "execution_count": null,
   "id": "1fa66d1b-f7e5-47e0-b92c-5c3901a9c958",
   "metadata": {},
   "outputs": [],
   "source": []
  }
 ],
 "metadata": {
  "kernelspec": {
   "display_name": "Python 3 (ipykernel)",
   "language": "python",
   "name": "python3"
  },
  "language_info": {
   "codemirror_mode": {
    "name": "ipython",
    "version": 3
   },
   "file_extension": ".py",
   "mimetype": "text/x-python",
   "name": "python",
   "nbconvert_exporter": "python",
   "pygments_lexer": "ipython3",
   "version": "3.10.10"
  }
 },
 "nbformat": 4,
 "nbformat_minor": 5
}
