{
 "cells": [
  {
   "cell_type": "markdown",
   "id": "e50b826c-1498-4d17-9d5c-a4cdf8f695e8",
   "metadata": {},
   "source": [
    "# 22. TODO: Finetuning SentenceTransformer\n",
    "\n",
    "cf: https://sbert.net/docs/sentence_transformer/training_overview.html#\n",
    "\n",
    "cf: https://sbert.net/docs/sentence_transformer/loss_overview.html\n",
    "\n",
    "cf: https://github.com/math-collab/text-similarity/blob/main/SBert%20%2B%20fine-tune%20arXiv-class.ipynb"
   ]
  },
  {
   "cell_type": "code",
   "execution_count": 1,
   "id": "d903ef45-64d3-4cec-94d7-7c57cfbf297b",
   "metadata": {
    "tags": []
   },
   "outputs": [],
   "source": [
    "import pandas as pd"
   ]
  },
  {
   "cell_type": "markdown",
   "id": "b43dca84-3c62-4ce3-b630-cd65b2643b22",
   "metadata": {
    "jp-MarkdownHeadingCollapsed": true,
    "tags": []
   },
   "source": [
    "## Classfication Task: sentence pairs are either similar(1) or dissimilar (0)"
   ]
  },
  {
   "cell_type": "markdown",
   "id": "eab636fb-dbcd-451d-992b-3bffbc008d20",
   "metadata": {
    "tags": []
   },
   "source": [
    "## Anchor Task: a definition DA should be more similar to title TA than title TB"
   ]
  },
  {
   "cell_type": "markdown",
   "id": "38d37761-b2c5-42e4-9e36-40436df49447",
   "metadata": {},
   "source": [
    "## Read Plagiasm Dataset from https://github.com/gipplab/Taxonomy-of-Mathematical-Plagiarism/tree/main/data"
   ]
  },
  {
   "cell_type": "code",
   "execution_count": 6,
   "id": "1fa66d1b-f7e5-47e0-b92c-5c3901a9c958",
   "metadata": {},
   "outputs": [],
   "source": [
    "#df_plgsm = pd.read_json(\"data/annotated_spans.jsonl\",lines=True)\n",
    "del df_plgsm"
   ]
  },
  {
   "cell_type": "code",
   "execution_count": 7,
   "id": "c946f18f-34af-4d24-8e4c-fe2a65962dbd",
   "metadata": {
    "tags": []
   },
   "outputs": [],
   "source": [
    "import json\n",
    "with open('data/annotated_spans.jsonl') as f:\n",
    "    plag_data = [json.loads(line) for line in f]"
   ]
  },
  {
   "cell_type": "code",
   "execution_count": 8,
   "id": "a493f3e2-551d-4a8a-b2a9-27e230d31ef1",
   "metadata": {
    "scrolled": true,
    "tags": []
   },
   "outputs": [
    {
     "data": {
      "text/plain": [
       "{'srcDoc': {'srcMath': ['p5.m1', 'p5.m2', 'p5.m3', 'p5.m4', 'p5.m5'],\n",
       "  'srcText': 'Furthermore, we denote by d\\u2062σQ (resp. dSr) the (n-1)-dimensional volume elements induced by the Euclidean metric on ∂\\u2061Cn\\u2062(Ω) (resp. Sr )',\n",
       "  'srcImages': [],\n",
       "  'srcDocHTML': 'Furthermore, we denote by <math xmlns=\"http://www.w3.org/1998/Math/MathML\" id=\"p5.m1\" class=\"ltx_Math\" display=\"inline\"><mrow><mi>d</mi><mo>\\u2062</mo><msub><mi>σ</mi><mi>Q</mi></msub></mrow></math> (resp. <math xmlns=\"http://www.w3.org/1998/Math/MathML\" id=\"p5.m2\" class=\"ltx_Math\" display=\"inline\"><mrow><mi>d</mi><msub><mi>S</mi><mi>r</mi></msub><mo>)</mo></mrow></math> the <math xmlns=\"http://www.w3.org/1998/Math/MathML\" id=\"p5.m3\" class=\"ltx_Math\" display=\"inline\"><mrow><mo stretchy=\"false\">(</mo><mrow><mi>n</mi><mo>-</mo><mn>1</mn></mrow><mo stretchy=\"false\">)</mo></mrow></math>-dimensional volume elements induced by the Euclidean metric on <math xmlns=\"http://www.w3.org/1998/Math/MathML\" id=\"p5.m4\" class=\"ltx_Math\" display=\"inline\"><mrow><mrow><mo>∂</mo><mo>\\u2061</mo><msub><mi>C</mi><mi>n</mi></msub></mrow><mo>\\u2062</mo><mrow><mo stretchy=\"false\">(</mo><mi mathvariant=\"normal\">Ω</mi><mo stretchy=\"false\">)</mo></mrow></mrow></math> (resp. <math xmlns=\"http://www.w3.org/1998/Math/MathML\" id=\"p5.m5\" class=\"ltx_Math\" display=\"inline\"><msub><mi>S</mi><mi>r</mi></msub></math> ) ',\n",
       "  'srcDocName': '1252.31004.tex',\n",
       "  'srcDocHTMLParent': '<p class=\"ltx_p\"><div style=\"background-color: rgb(206, 252, 239);\">Furthermore, we denote by <math xmlns=\"http://www.w3.org/1998/Math/MathML\" id=\"p5.m1\" class=\"ltx_Math\" display=\"inline\"><mrow><mi>d</mi><mo>\\u2062</mo><msub><mi>σ</mi><mi>Q</mi></msub></mrow></math> (resp. <math xmlns=\"http://www.w3.org/1998/Math/MathML\" id=\"p5.m2\" class=\"ltx_Math\" display=\"inline\"><mrow><mi>d</mi><msub><mi>S</mi><mi>r</mi></msub><mo>)</mo></mrow></math> the <math xmlns=\"http://www.w3.org/1998/Math/MathML\" id=\"p5.m3\" class=\"ltx_Math\" display=\"inline\"><mrow><mo stretchy=\"false\">(</mo><mrow><mi>n</mi><mo>-</mo><mn>1</mn></mrow><mo stretchy=\"false\">)</mo></mrow></math>-dimensional volume elements induced by the Euclidean metric on <math xmlns=\"http://www.w3.org/1998/Math/MathML\" id=\"p5.m4\" class=\"ltx_Math\" display=\"inline\"><mrow><mrow><mo>∂</mo><mo>\\u2061</mo><msub><mi>C</mi><mi>n</mi></msub></mrow><mo>\\u2062</mo><mrow><mo stretchy=\"false\">(</mo><mi mathvariant=\"normal\">Ω</mi><mo stretchy=\"false\">)</mo></mrow></mrow></math> (resp. <math xmlns=\"http://www.w3.org/1998/Math/MathML\" id=\"p5.m5\" class=\"ltx_Math\" display=\"inline\"><msub><mi>S</mi><mi>r</mi></msub></math> ) </div>and by <math xmlns=\"http://www.w3.org/1998/Math/MathML\" id=\"p5.m6\" class=\"ltx_Math\" display=\"inline\"><mrow><mi>d</mi><mo>\\u2062</mo><mi>w</mi></mrow></math> the elements of the Euclidean volume in <math xmlns=\"http://www.w3.org/1998/Math/MathML\" id=\"p5.m7\" class=\"ltx_Math\" display=\"inline\"><msup><mi>𝐑</mi><mi>n</mi></msup></math>.</p>'},\n",
       " 'suspDoc': {'suspMath': ['p3.m13', 'p3.m14'],\n",
       "  'suspText': 'and d\\u2062σQ is the surface area element on Sn(Ω)) and',\n",
       "  'suspImages': [],\n",
       "  'suspDocHTML': 'and <math xmlns=\"http://www.w3.org/1998/Math/MathML\" id=\"p3.m13\" class=\"ltx_Math\" display=\"inline\"><mrow><mi>d</mi><mo>\\u2062</mo><msub><mi>σ</mi><mi>Q</mi></msub></mrow></math> is the surface area element on <math xmlns=\"http://www.w3.org/1998/Math/MathML\" id=\"p3.m14\" class=\"ltx_Math\" display=\"inline\"><mrow><msub><mi>S</mi><mi>n</mi></msub><mrow><mo stretchy=\"false\">(</mo><mi mathvariant=\"normal\">Ω</mi><mo stretchy=\"false\">)</mo></mrow><mo>)</mo></mrow></math> and',\n",
       "  'suspDocName': '1321.47163.tex',\n",
       "  'suspDocHTMLParent': '<p class=\"ltx_p\"><math xmlns=\"http://www.w3.org/1998/Math/MathML\" id=\"p3.m9\" class=\"ltx_Math\" display=\"inline\"><mi>μ</mi></math> is a positive measure on <math xmlns=\"http://www.w3.org/1998/Math/MathML\" id=\"p3.m10\" class=\"ltx_Math\" display=\"inline\"><mrow><mrow><mo>∂</mo><mo>\\u2061</mo><msub><mi>C</mi><mi>n</mi></msub></mrow><mo>\\u2062</mo><mrow><mo stretchy=\"false\">(</mo><mi mathvariant=\"normal\">Ω</mi><mo stretchy=\"false\">)</mo></mrow></mrow></math> (resp. <math xmlns=\"http://www.w3.org/1998/Math/MathML\" id=\"p3.m11\" class=\"ltx_Math\" display=\"inline\"><mi>g</mi></math> is a continuous function on <math xmlns=\"http://www.w3.org/1998/Math/MathML\" id=\"p3.m12\" class=\"ltx_Math\" display=\"inline\"><mrow><mrow><mo>∂</mo><mo>\\u2061</mo><msub><mi>C</mi><mi>n</mi></msub></mrow><mo>\\u2062</mo><mrow><mo stretchy=\"false\">(</mo><mi mathvariant=\"normal\">Ω</mi><mo stretchy=\"false\">)</mo></mrow></mrow></math> <div style=\"background-color: rgb(206, 252, 239);\">and <math xmlns=\"http://www.w3.org/1998/Math/MathML\" id=\"p3.m13\" class=\"ltx_Math\" display=\"inline\"><mrow><mi>d</mi><mo>\\u2062</mo><msub><mi>σ</mi><mi>Q</mi></msub></mrow></math> is the surface area element on <math xmlns=\"http://www.w3.org/1998/Math/MathML\" id=\"p3.m14\" class=\"ltx_Math\" display=\"inline\"><mrow><msub><mi>S</mi><mi>n</mi></msub><mrow><mo stretchy=\"false\">(</mo><mi mathvariant=\"normal\">Ω</mi><mo stretchy=\"false\">)</mo></mrow><mo>)</mo></mrow></math> and</div> <math xmlns=\"http://www.w3.org/1998/Math/MathML\" id=\"p3.m15\" class=\"ltx_Math\" display=\"inline\"><mrow><mo>∂</mo><mo>/</mo><mrow><mo>∂</mo><mo>\\u2061</mo><msub><mi>n</mi><mi>Q</mi></msub></mrow></mrow></math> denotes the differentiation at <math xmlns=\"http://www.w3.org/1998/Math/MathML\" id=\"p3.m16\" class=\"ltx_Math\" display=\"inline\"><mi>Q</mi></math> along the inward normal into <math xmlns=\"http://www.w3.org/1998/Math/MathML\" id=\"p3.m17\" class=\"ltx_Math\" display=\"inline\"><mrow><msub><mi>C</mi><mi>n</mi></msub><mo>\\u2062</mo><mrow><mo stretchy=\"false\">(</mo><mi mathvariant=\"normal\">Ω</mi><mo stretchy=\"false\">)</mo></mrow></mrow></math>.\\nWe define the positive measure <math xmlns=\"http://www.w3.org/1998/Math/MathML\" id=\"p3.m18\" class=\"ltx_Math\" display=\"inline\"><msup><mi>μ</mi><mo>′</mo></msup></math> on <math xmlns=\"http://www.w3.org/1998/Math/MathML\" id=\"p3.m19\" class=\"ltx_Math\" display=\"inline\"><msup><mi>𝐑</mi><mi>n</mi></msup></math> by</p>'},\n",
       " 'casesReuse': {'srcDocend': 2444,\n",
       "  'suspDocend': 5717,\n",
       "  'obfuscation': 'Paraphrase; Deletions',\n",
       "  'srcDocstart': 2317,\n",
       "  'suspDocstart': 5667,\n",
       "  'recordingType': ['Text', 'Math']},\n",
       " 'colorHighlight': '#CEFCEF',\n",
       " 'ID_nr': 1}"
      ]
     },
     "execution_count": 8,
     "metadata": {},
     "output_type": "execute_result"
    }
   ],
   "source": [
    "plag_data[0]"
   ]
  },
  {
   "cell_type": "code",
   "execution_count": 11,
   "id": "26ef7d85-172d-48c7-94c9-9c8f80131424",
   "metadata": {
    "tags": []
   },
   "outputs": [],
   "source": [
    "flattend = [{'srcText': doc['srcDoc']['srcText'], 'suspText':doc['suspDoc']['suspText'], \n",
    "             'srcDocName':doc['srcDoc']['srcDocName'], 'suspDocName': doc['suspDoc']['suspDocName'],\n",
    "            'obfuscation':doc['casesReuse']['obfuscation']} for doc in plag_data]"
   ]
  },
  {
   "cell_type": "code",
   "execution_count": 13,
   "id": "29a50f3d-7612-4209-a667-34bde2d816d5",
   "metadata": {
    "scrolled": true,
    "tags": []
   },
   "outputs": [
    {
     "data": {
      "text/html": [
       "<div>\n",
       "<style scoped>\n",
       "    .dataframe tbody tr th:only-of-type {\n",
       "        vertical-align: middle;\n",
       "    }\n",
       "\n",
       "    .dataframe tbody tr th {\n",
       "        vertical-align: top;\n",
       "    }\n",
       "\n",
       "    .dataframe thead th {\n",
       "        text-align: right;\n",
       "    }\n",
       "</style>\n",
       "<table border=\"1\" class=\"dataframe\">\n",
       "  <thead>\n",
       "    <tr style=\"text-align: right;\">\n",
       "      <th></th>\n",
       "      <th>srcText</th>\n",
       "      <th>suspText</th>\n",
       "      <th>srcDocName</th>\n",
       "      <th>suspDocName</th>\n",
       "      <th>obfuscation</th>\n",
       "    </tr>\n",
       "  </thead>\n",
       "  <tbody>\n",
       "    <tr>\n",
       "      <th>0</th>\n",
       "      <td>Furthermore, we denote by d⁢σQ (resp. dSr) the...</td>\n",
       "      <td>and d⁢σQ is the surface area element on Sn(Ω))...</td>\n",
       "      <td>1252.31004.tex</td>\n",
       "      <td>1321.47163.tex</td>\n",
       "      <td>Paraphrase; Deletions</td>\n",
       "    </tr>\n",
       "    <tr>\n",
       "      <th>1</th>\n",
       "      <td>Theorem A Let g be a measurable function on ∂⁡...</td>\n",
       "      <td>The em A Let g be a measurable function on ∂⁡T...</td>\n",
       "      <td>1364.31004.tex</td>\n",
       "      <td>1379.35041.tex</td>\n",
       "      <td>Variation of subject; None; Different Presenta...</td>\n",
       "    </tr>\n",
       "    <tr>\n",
       "      <th>2</th>\n",
       "      <td>Finally, a group G was said in [7] to be weakl...</td>\n",
       "      <td>Definition 2.2. A Q⁢T⁢A⁢G-module M is quasi tr...</td>\n",
       "      <td>1247.20062.tex</td>\n",
       "      <td>1344.16007.tex</td>\n",
       "      <td>Variation of subject; Different Presentation; ...</td>\n",
       "    </tr>\n",
       "    <tr>\n",
       "      <th>3</th>\n",
       "      <td>1 Introduction Let D be a domain in ℂ. Let ℱ b...</td>\n",
       "      <td>1 Introduction and results Let D be a domain i...</td>\n",
       "      <td>1338.35129.tex</td>\n",
       "      <td>1422.30056.tex</td>\n",
       "      <td>None; Paraphrase</td>\n",
       "    </tr>\n",
       "    <tr>\n",
       "      <th>4</th>\n",
       "      <td>Corresponding to Theorem A, there are the foll...</td>\n",
       "      <td>Corresponding to Theorem A, there are the foll...</td>\n",
       "      <td>1338.35129.tex</td>\n",
       "      <td>1422.30056.tex</td>\n",
       "      <td>None; Paraphrase</td>\n",
       "    </tr>\n",
       "    <tr>\n",
       "      <th>...</th>\n",
       "      <td>...</td>\n",
       "      <td>...</td>\n",
       "      <td>...</td>\n",
       "      <td>...</td>\n",
       "      <td>...</td>\n",
       "    </tr>\n",
       "    <tr>\n",
       "      <th>1704</th>\n",
       "      <td>In view of Corollary 4.4, a natural question i...</td>\n",
       "      <td>Although it is very interesting to note that t...</td>\n",
       "      <td>0168.27303.tex</td>\n",
       "      <td>1188.16002.tex</td>\n",
       "      <td>Variation of subject; Paraphrase</td>\n",
       "    </tr>\n",
       "    <tr>\n",
       "      <th>1705</th>\n",
       "      <td>TheOrem 4.1. The group G=A¯+B, where A and B a...</td>\n",
       "      <td>Theorem 3.4. Let M be a Q⁢T⁢A⁢G-m⁢o⁢d⁢u⁢l⁢e su...</td>\n",
       "      <td>0168.27303.tex</td>\n",
       "      <td>1188.16002.tex</td>\n",
       "      <td>Variation of subject; Paraphrase; Deletions</td>\n",
       "    </tr>\n",
       "    <tr>\n",
       "      <th>1706</th>\n",
       "      <td>Corollary 2.2. The critical number of a primar...</td>\n",
       "      <td>Corollary 2.6. For a cobounded submodule N of ...</td>\n",
       "      <td>0168.27303.tex</td>\n",
       "      <td>1188.16002.tex</td>\n",
       "      <td>Variation of subject; Paraphrase; Formula Mani...</td>\n",
       "    </tr>\n",
       "    <tr>\n",
       "      <th>1707</th>\n",
       "      <td>THEOREM 2.1. Suppose that H is a cobounded sub...</td>\n",
       "      <td>Theorem 2.4. Let N be a cobounded submodule of...</td>\n",
       "      <td>0168.27303.tex</td>\n",
       "      <td>1188.16002.tex</td>\n",
       "      <td>Variation of subject; Paraphrase; Different Pr...</td>\n",
       "    </tr>\n",
       "    <tr>\n",
       "      <th>1708</th>\n",
       "      <td>Two primary groups G and H are quasi-isomorphi...</td>\n",
       "      <td>Two QTAG-modules are quasi-isomorphic when the...</td>\n",
       "      <td>0168.27303.tex</td>\n",
       "      <td>1188.16002.tex</td>\n",
       "      <td>Variation of subject; Paraphrase; Insertions</td>\n",
       "    </tr>\n",
       "  </tbody>\n",
       "</table>\n",
       "<p>1709 rows × 5 columns</p>\n",
       "</div>"
      ],
      "text/plain": [
       "                                                srcText   \n",
       "0     Furthermore, we denote by d⁢σQ (resp. dSr) the...  \\\n",
       "1     Theorem A Let g be a measurable function on ∂⁡...   \n",
       "2     Finally, a group G was said in [7] to be weakl...   \n",
       "3     1 Introduction Let D be a domain in ℂ. Let ℱ b...   \n",
       "4     Corresponding to Theorem A, there are the foll...   \n",
       "...                                                 ...   \n",
       "1704  In view of Corollary 4.4, a natural question i...   \n",
       "1705  TheOrem 4.1. The group G=A¯+B, where A and B a...   \n",
       "1706  Corollary 2.2. The critical number of a primar...   \n",
       "1707  THEOREM 2.1. Suppose that H is a cobounded sub...   \n",
       "1708  Two primary groups G and H are quasi-isomorphi...   \n",
       "\n",
       "                                               suspText      srcDocName   \n",
       "0     and d⁢σQ is the surface area element on Sn(Ω))...  1252.31004.tex  \\\n",
       "1     The em A Let g be a measurable function on ∂⁡T...  1364.31004.tex   \n",
       "2     Definition 2.2. A Q⁢T⁢A⁢G-module M is quasi tr...  1247.20062.tex   \n",
       "3     1 Introduction and results Let D be a domain i...  1338.35129.tex   \n",
       "4     Corresponding to Theorem A, there are the foll...  1338.35129.tex   \n",
       "...                                                 ...             ...   \n",
       "1704  Although it is very interesting to note that t...  0168.27303.tex   \n",
       "1705  Theorem 3.4. Let M be a Q⁢T⁢A⁢G-m⁢o⁢d⁢u⁢l⁢e su...  0168.27303.tex   \n",
       "1706  Corollary 2.6. For a cobounded submodule N of ...  0168.27303.tex   \n",
       "1707  Theorem 2.4. Let N be a cobounded submodule of...  0168.27303.tex   \n",
       "1708  Two QTAG-modules are quasi-isomorphic when the...  0168.27303.tex   \n",
       "\n",
       "         suspDocName                                        obfuscation  \n",
       "0     1321.47163.tex                              Paraphrase; Deletions  \n",
       "1     1379.35041.tex  Variation of subject; None; Different Presenta...  \n",
       "2     1344.16007.tex  Variation of subject; Different Presentation; ...  \n",
       "3     1422.30056.tex                                   None; Paraphrase  \n",
       "4     1422.30056.tex                                   None; Paraphrase  \n",
       "...              ...                                                ...  \n",
       "1704  1188.16002.tex                   Variation of subject; Paraphrase  \n",
       "1705  1188.16002.tex        Variation of subject; Paraphrase; Deletions  \n",
       "1706  1188.16002.tex  Variation of subject; Paraphrase; Formula Mani...  \n",
       "1707  1188.16002.tex  Variation of subject; Paraphrase; Different Pr...  \n",
       "1708  1188.16002.tex       Variation of subject; Paraphrase; Insertions  \n",
       "\n",
       "[1709 rows x 5 columns]"
      ]
     },
     "execution_count": 13,
     "metadata": {},
     "output_type": "execute_result"
    }
   ],
   "source": [
    "df_flattened = pd.DataFrame(flattend)\n",
    "df_flattened"
   ]
  },
  {
   "cell_type": "code",
   "execution_count": 14,
   "id": "b34daefe-49a4-4b7d-96ca-3ade5ac21697",
   "metadata": {
    "tags": []
   },
   "outputs": [],
   "source": [
    "df_flattened.to_csv(\"data/plagiasm_span_pairs.csv\", index=False)"
   ]
  },
  {
   "cell_type": "code",
   "execution_count": 15,
   "id": "7d6af022-5358-429f-82ba-65bd2dbb2322",
   "metadata": {
    "tags": []
   },
   "outputs": [
    {
     "data": {
      "text/html": [
       "<div>\n",
       "<style scoped>\n",
       "    .dataframe tbody tr th:only-of-type {\n",
       "        vertical-align: middle;\n",
       "    }\n",
       "\n",
       "    .dataframe tbody tr th {\n",
       "        vertical-align: top;\n",
       "    }\n",
       "\n",
       "    .dataframe thead th {\n",
       "        text-align: right;\n",
       "    }\n",
       "</style>\n",
       "<table border=\"1\" class=\"dataframe\">\n",
       "  <thead>\n",
       "    <tr style=\"text-align: right;\">\n",
       "      <th></th>\n",
       "      <th>srcText</th>\n",
       "      <th>suspText</th>\n",
       "      <th>srcDocName</th>\n",
       "      <th>suspDocName</th>\n",
       "      <th>obfuscation</th>\n",
       "    </tr>\n",
       "  </thead>\n",
       "  <tbody>\n",
       "    <tr>\n",
       "      <th>count</th>\n",
       "      <td>1709</td>\n",
       "      <td>1709</td>\n",
       "      <td>1709</td>\n",
       "      <td>1709</td>\n",
       "      <td>1709</td>\n",
       "    </tr>\n",
       "    <tr>\n",
       "      <th>unique</th>\n",
       "      <td>1662</td>\n",
       "      <td>1633</td>\n",
       "      <td>119</td>\n",
       "      <td>99</td>\n",
       "      <td>305</td>\n",
       "    </tr>\n",
       "    <tr>\n",
       "      <th>top</th>\n",
       "      <td>The Thom isomorphism theorem in equivariant K-...</td>\n",
       "      <td>The virtual representation [Vλ,C]-[Wλ,C]∈R⁢(G~...</td>\n",
       "      <td>1247.20062.tex</td>\n",
       "      <td>1321.47163.tex</td>\n",
       "      <td>Variation of subject; Paraphrase</td>\n",
       "    </tr>\n",
       "    <tr>\n",
       "      <th>freq</th>\n",
       "      <td>3</td>\n",
       "      <td>3</td>\n",
       "      <td>67</td>\n",
       "      <td>106</td>\n",
       "      <td>174</td>\n",
       "    </tr>\n",
       "  </tbody>\n",
       "</table>\n",
       "</div>"
      ],
      "text/plain": [
       "                                                  srcText   \n",
       "count                                                1709  \\\n",
       "unique                                               1662   \n",
       "top     The Thom isomorphism theorem in equivariant K-...   \n",
       "freq                                                    3   \n",
       "\n",
       "                                                 suspText      srcDocName   \n",
       "count                                                1709            1709  \\\n",
       "unique                                               1633             119   \n",
       "top     The virtual representation [Vλ,C]-[Wλ,C]∈R⁢(G~...  1247.20062.tex   \n",
       "freq                                                    3              67   \n",
       "\n",
       "           suspDocName                       obfuscation  \n",
       "count             1709                              1709  \n",
       "unique              99                               305  \n",
       "top     1321.47163.tex  Variation of subject; Paraphrase  \n",
       "freq               106                               174  "
      ]
     },
     "execution_count": 15,
     "metadata": {},
     "output_type": "execute_result"
    }
   ],
   "source": [
    "df_flattened.describe()"
   ]
  },
  {
   "cell_type": "code",
   "execution_count": null,
   "id": "1f7d84f3-baea-447e-b3a7-2923f1df9ac1",
   "metadata": {},
   "outputs": [],
   "source": []
  }
 ],
 "metadata": {
  "kernelspec": {
   "display_name": "Python 3 (ipykernel)",
   "language": "python",
   "name": "python3"
  },
  "language_info": {
   "codemirror_mode": {
    "name": "ipython",
    "version": 3
   },
   "file_extension": ".py",
   "mimetype": "text/x-python",
   "name": "python",
   "nbconvert_exporter": "python",
   "pygments_lexer": "ipython3",
   "version": "3.10.10"
  }
 },
 "nbformat": 4,
 "nbformat_minor": 5
}
