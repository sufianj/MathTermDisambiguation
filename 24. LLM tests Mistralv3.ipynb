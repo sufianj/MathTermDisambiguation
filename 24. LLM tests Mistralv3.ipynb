{
 "cells": [
  {
   "cell_type": "markdown",
   "id": "e50b826c-1498-4d17-9d5c-a4cdf8f695e8",
   "metadata": {},
   "source": [
    "#### 24. LLM Tests Mistralv3"
   ]
  },
  {
   "cell_type": "markdown",
   "id": "5303959e-e32d-4142-b9c2-f68cae0f5b2b",
   "metadata": {},
   "source": [
    "# Import"
   ]
  },
  {
   "cell_type": "code",
   "execution_count": 1,
   "id": "aafdb6fb-9da4-4b33-80e4-9850b824b1b8",
   "metadata": {
    "tags": []
   },
   "outputs": [],
   "source": [
    "import pandas as pd"
   ]
  },
  {
   "cell_type": "markdown",
   "id": "720ba85e",
   "metadata": {},
   "source": [
    "# PICKLE and Load Variables"
   ]
  },
  {
   "cell_type": "code",
   "execution_count": 2,
   "id": "316b90a3",
   "metadata": {
    "tags": []
   },
   "outputs": [],
   "source": [
    "import pickle\n",
    "def pkl_vars(varname, filename):\n",
    "    with open(filename, 'wb') as file:\n",
    "        pickle.dump(varname, file)\n",
    "        \n",
    "def reload_vars(filename):\n",
    "    this_var = None\n",
    "    with open(filename, 'rb') as file:\n",
    "        this_var = pickle.load(file)      \n",
    "    return this_var"
   ]
  },
  {
   "cell_type": "code",
   "execution_count": 3,
   "id": "2204db31-ee39-47c0-b3c9-44a9df528798",
   "metadata": {
    "tags": []
   },
   "outputs": [
    {
     "data": {
      "text/plain": [
       "[{'title': 'Definition:Baire Space (Topology)',\n",
       "  'term': 'Baire Space',\n",
       "  'definition': 'Let T = ( S, τ) be a topological space.\\n\\n\\n=== Definition 1 ===\\nLet T = ( S, τ) be a topological space.\\n\\n\\nT is a Baire space  if and only if  the union of any countable set of closed sets of T whose interiors are empty also has an empty interior.\\n\\n=== Definition 2 ===\\nLet T = ( S, τ) be a topological space.\\n\\n\\nT is a Baire space  if and only if  the intersection of any countable set of open sets of T which are everywhere dense is everywhere dense.\\n\\n=== Definition 3 ===\\nLet T = ( S, τ) be a topological space.\\n\\n\\nT is a Baire space  if and only if  the interior of the union of any countable set of closed sets of T which are nowhere dense is empty.\\n\\n=== Definition 4 ===\\nLet T = ( S, τ) be a topological space.\\n\\n\\nT is a Baire space  if and only if , whenever the union of any countable set of closed sets of T has an interior point, then one of those closed sets must have an interior point.'},\n",
       " {'title': 'Definition:Baire Space (Set Theory)',\n",
       "  'term': 'Baire Space',\n",
       "  'definition': 'The Baire space 𝐁 is defined as the set of all infinite sequences of natural numbers.\\n\\nIt can also be defined as the Cartesian product of a countably infinite number of copies of the set of natural numbers.'},\n",
       " {'title': 'Definition:Analysis/Complex',\n",
       "  'term': 'Complex',\n",
       "  'definition': 'Complex analysis is a branch of mathematics that studies complex functions.'},\n",
       " {'title': 'Definition:Complex Number',\n",
       "  'term': 'Complex',\n",
       "  'definition': '\\n=== Informal Definition ===\\nA complex number is a number in the form a + b i or a + i b where:\\n:a and b are real numbers\\n:i is a square root of -1, that is, i = √(-1).\\n\\n=== Formal Definition ===\\nA complex number is an ordered pair ( x, y ) where x, y ∈ℝ are real numbers, on which the operations of addition and multiplication are defined as follows:\\n\\n\\n=== Complex Addition ===\\nLet ( x_1, y_1 ) and ( x_2, y_2 ) be complex numbers.\\n\\nThen + is a binary operation defined as:\\n\\n:( x_1, y_1 ) + ( x_2, y_2 ):= ( x_1 + x_2, y_1 + y_2 )\\n\\n=== Complex Multiplication ===\\nLet ( x_1, y_1 ) and ( x_2, y_2 ) be complex numbers.\\n\\n\\nThen ( x_1, y_1 ) ( x_2, y_2 ) is defined as:\\n\\n:( x_1, y_1 ) ( x_2, y_2 ) := ( x_1 x_2 - y_1 y_2, x_1 y_2 + y_1 x_2 )\\n\\n=== Scalar Product ===\\nLet ( x, y ) be a complex number.\\n\\nLet m ∈ℝ be a real number.\\n\\n\\nThen m ( x, y ) is defined as:\\n\\n:m ( x, y ) := ( m x, m y )\\n\\n=== Construction from Cayley-Dickson Construction ===\\nThe complex numbers can be defined by the Cayley-Dickson construction from the set of real numbers ℝ.\\n\\nFrom Real Numbers form Algebra, ℝ forms a nicely normed *-algebra.\\n\\nLet a, b ∈ℝ.\\n\\nThen ( a, b ) ∈ℂ, where:\\n\\n:( a, b ) ( c, d ) = ( a c - d b, a d + c b )\\n:( a, b )  = ( a, -b )\\nwhere:\\n:a is the conjugate of a\\nand \\n:( a, b ) is the conjugation operation on ℂ.\\n\\nFrom Real Numbers form Algebra, a = a and so the above translate into:\\n\\n:( a, b ) ( c, d ) = ( a c - d b, a d + c b )\\n:( a, b )  = ( a, -b )\\n\\n\\nIt is clear by direct comparison with the formal definition that this construction genuinely does generate the complex numbers.'},\n",
       " {'title': 'Definition:Complex Function',\n",
       "  'term': 'Complex',\n",
       "  'definition': 'A complex function is a function whose domain and codomain are subsets of the set of complex numbers ℂ.\\n\\n\\n=== Independent Variable ===\\nLet f: ℂ→ℂ be a complex function.\\n\\nLet f (   )z = w.\\n\\n\\nThen z is referred to as an independent variable (of f).\\n\\n=== Dependent Variable ===\\nLet f: ℂ→ℂ be a complex function.\\n\\nLet f (   )z = w.\\n\\n\\nThen w is referred to as the dependent variable (of f).'},\n",
       " {'title': 'Definition:Complex Conjugate',\n",
       "  'term': 'Complex',\n",
       "  'definition': 'Let z = a + i b be a complex number.\\n\\n\\nThen the (complex) conjugate of z is denoted z and is defined as:\\n\\n:z := a - i b\\n\\n\\nThat is, you get the complex conjugate of a complex number by negating its imaginary part.\\n\\n\\n=== Complex Conjugation ===\\nThe operation of complex conjugation is the mapping:\\n: ·: ℂ→ℂ: z ↦z.\\nwhere z is the complex conjugate of z.\\n\\n\\nThat is, it maps a complex number to its complex conjugate.\\n\\n\\nCategory:Definitions/Complex Conjugates'},\n",
       " {'title': 'Definition:Subset Product',\n",
       "  'term': 'Complex',\n",
       "  'definition': 'Let ( S, ∘) be an algebraic structure.\\n\\n\\nWe can define an operation on the power set 𝒫( S ) as follows:\\n\\n:∀ A, B ∈𝒫( S ): A ∘_𝒫 B = { a ∘ b: a ∈ A, b ∈ B }\\n\\n\\nThis is called the operation induced on 𝒫( S ) by ∘, and A ∘_𝒫 B is called the subset product of A and B.\\n\\n\\nIt is usual to write A ∘ B for A ∘_𝒫 B.\\n\\n\\n=== Subset Product with Singleton ===\\n\\nWhen one of the subsets in a subset product is a singleton, we can (and often do) dispose of the set braces. Thus:\\nLet ( S, ∘) be an algebraic structure.\\n\\n\\nLet A ⊆ S be a subset of S.\\n\\nThen:\\n:(1):    a ∘ S := { a }∘ S\\n:(2):    S ∘ a := S ∘{ a }\\n\\nwhere { a }∘ S and S ∘{ a } denote the subset product of { a } with S.\\n\\n\\nThat is:\\n:a ∘ S = { a ∘ s: s ∈ S }\\n:S ∘ a = { s ∘ a: s ∈ S }'},\n",
       " {'title': 'Definition:Complex (Group Theory)',\n",
       "  'term': 'Complex',\n",
       "  'definition': 'Let G be a group.\\n\\nLet K ⊆ G be a subset of G.\\n\\n\\nThen K is referred to by some sources as a complex of elements of G.'},\n",
       " {'title': 'Definition:Differential Complex',\n",
       "  'term': 'Complex',\n",
       "  'definition': 'Let R be a commutative ring with unity.\\n\\nLet M = ⊕_n ∈ℤ M^n be a ℤ-graded R-module that is also a differential module with differential d.\\n\\n\\nThen M is a differential complex if d satisfies:\\n\\n:d(   )M^n⊆ M^n + 1\\n\\nfor all n ∈ℤ.\\n\\n\\nThe notation d_n := d_M_n is often seen.'},\n",
       " {'title': 'Definition:Fraction/Complex',\n",
       "  'term': 'Complex',\n",
       "  'definition': 'A complex fraction is a fraction such that the numerator or denominator or both are themselves fractions.'}]"
      ]
     },
     "execution_count": 3,
     "metadata": {},
     "output_type": "execute_result"
    }
   ],
   "source": [
    "df_test_term = reload_vars('/home/ann/fiz-ddb/notebook/data/vars/flattened_test_new_term_disam_list.pkl')\n",
    "df_test_term[:10]"
   ]
  },
  {
   "cell_type": "code",
   "execution_count": 4,
   "id": "73cc5c98-82ee-4f7f-a0b5-c3ca5884ea0c",
   "metadata": {
    "tags": []
   },
   "outputs": [
    {
     "data": {
      "text/plain": [
       "[{'title': 'Definition:Quintal System',\n",
       "  'term': 'System',\n",
       "  'definition': 'A quintal system  is a number system in which the base is 5.\\n\\n\\n=== Quintal Notation ===\\nQuintal notation is the positional number system whose base is 5.\\n\\nThat is, every number x ∈ℝ is expressed in the form:\\n:x = ∑_j ∈ℤ r_j 5^j\\nwhere:\\n:∀ j ∈ℤ: r_j ∈{ 0, 1, 2, 3, 4 }'},\n",
       " {'title': 'Definition:Decimal System',\n",
       "  'term': 'System',\n",
       "  'definition': 'A decimal system  is a number system in which the base is 10.\\n\\n\\n=== Decimal Notation ===\\nDecimal notation is the quotidian technique of expressing numbers in base 10.\\n\\nEvery number x ∈ℝ is expressed in the form:\\n:x = ∑_j ∈ℤ r_j 10^j\\nwhere:\\n:∀ j ∈ℤ: r_j ∈{ 0, 1, 2, 3, 4, 5, 6, 7, 8, 9 }\\n\\n=== Decimal System of Measurement ===\\nA decimal system (of measurement) is a system of measurement in which the standard multiples and fractions of the units of measurement are powers of 10.'},\n",
       " {'title': 'Definition:Vigesimal System',\n",
       "  'term': 'System',\n",
       "  'definition': 'A vigesimal system is a number system in which the base is 20.\\n\\n\\nIn conventional base 20 notation, every number x ∈ℝ is expressed in the form:\\n:x = ∑_j ∈ℤ r_j 20^j\\nwhere:\\n:∀ j ∈ℤ: r_j ∈{ 0, 1, …, 19 }'},\n",
       " {'title': 'Definition:Sexagesimal System',\n",
       "  'term': 'System',\n",
       "  'definition': 'A sexagesimal system is a number system in which the base is 60.'},\n",
       " {'title': 'Definition:Golden Mean Number System',\n",
       "  'term': 'System',\n",
       "  'definition': 'The golden mean number system is a system for representing a non-negative real number x by a sequence of zeroes and  ones using the golden mean ϕ as a number base.\\n\\n\\n=== Equivalent Representations ===\\nLet x ∈ℝ_≥ 0 have two representations S_1 and S_2 in the golden mean number system.\\n\\nThen S_1 and S_2 are equivalent representations.\\n\\n\\nCategory:Definitions/Golden Mean Number System\\n\\n=== Simplest Form ===\\nLet x ∈ℝ_≥ 0 have a representation S in the golden mean number system.\\n\\nThen S is the simplest form for x  if and only if :\\n\\n:(1): No two adjacent 1s appear in S\\n:(2):    S does not end with the infinite sequence … 010101 …\\n\\n=== Simplification ===\\nConsider the golden mean number system.\\n\\nLet x ∈ℝ_≥ 0 have a representation which includes the string 011, say:\\n:x = p011q\\n\\nwhere p and q are strings in {0, 1}.\\n\\n\\nFrom 100 in Golden Mean Number System is Equivalent to 011, x can also be written as:\\n:x = p100q\\n\\n\\nThe expression p100q is a simplification of p011q.\\n\\n=== Expansion ===\\nConsider the golden mean number system.\\n\\nLet x ∈ℝ_≥ 0 have a representation which includes the string 100, say:\\n:x = p100q\\n\\nwhere p and q are strings in {0, 1}.\\n\\n\\nFrom 100 in Golden Mean Number System is Equivalent to 011, x can also be written as:\\n:x = p011q\\n\\n\\nThe expression p011q is an expansion of p011q.'},\n",
       " {'title': 'Definition:Factorial Number System',\n",
       "  'term': 'System',\n",
       "  'definition': 'The factorial number system is a mixed radix positional number system in which the digit in the ith column from the right is of base i.'},\n",
       " {'title': 'Definition:Combinatorial Number System',\n",
       "  'term': 'System',\n",
       "  'definition': 'The combinatorial number system is a system for representing a positive integer m by a sequence of digits which are the upper coefficient of a sequence of n binomial coefficients for some n ∈ℤ_>0:\\n\\n:m := k_1 k_2 k_3 … k_n\\n\\nwhere:\\n:m = k_1 1 + k_2 2 + k_3 3 + ⋯ + k_n n\\n:0 ≤ k_1 < k_2 < ⋯ < k_n'},\n",
       " {'title': 'Definition:Zeckendorf Representation',\n",
       "  'term': 'System',\n",
       "  'definition': 'Zeckendorf representation is a system for representing a positive integer m by a sequence of digits which are the indices of a sequence of r Fibonacci numbers:\\n\\n:n := k_1 k_2 k_3 … k_r\\n\\nwhere:\\n:n = F_k_1 + F_k_2 + F_k_3 + ⋯ + F_k_r\\n:k_1 ≫ k_2 ≫ k_3 ≫⋯≫ k_r ≫ 0\\n\\nwhere n ≫ k denotes that n ≥ k + 2.'},\n",
       " {'title': 'Definition:Number-Naming System',\n",
       "  'term': 'System',\n",
       "  'definition': 'There are various number-naming systems for naming large numbers (that is: greater than 1   000   000).\\n\\n\\n=== Short Scale ===\\nThe short scale system is the number-naming system which uses:\\n:the word million for 10^6 = 1   000   000\\n:the Latin-derived prefixes bi-, tri-, quadri-, quint-, etc. for each further multiple of 1   000, appended to the root -(i)llion, corresponding to the indices 2, 3, 4, 5, …\\n\\n\\nThus:\\n\\n \\n \\n \\n \\n \\n \\n\\nThus one n-illion equals 1000 × 10^3 n or 10^3 n + 3\\n\\n=== Long Scale ===\\nThe long scale system is the number-naming system which uses:\\n:the word million for 10^6 = 1   000   000\\n:the Latin-derived prefixes bi-, tri-, quadri-, quint-, etc. for each further multiple of 1   000   000, appended to the root -(i)llion, corresponding to the indices 2, 3, 4, 5, …\\n\\n\\nThus:\\n\\n \\n \\n \\n \\n \\n \\n\\nThus one n-illion equals 10^6 n.\\n\\n\\nAdditional terms are occasionally found to fill some of the gaps, but these are rare nowadays:\\n\\n \\n \\n \\n '},\n",
       " {'title': 'Definition:System of Neighborhoods',\n",
       "  'term': 'System',\n",
       "  'definition': 'Let M = ( A, d ) be a metric space.\\n\\nLet a ∈ A.\\n\\nLet 𝒩_a be the set of all neighborhoods of a in M.\\n\\n\\nThen 𝒩_a is the system of neighborhoods of the point a.'}]"
      ]
     },
     "execution_count": 4,
     "metadata": {},
     "output_type": "execute_result"
    }
   ],
   "source": [
    "df_test_title = reload_vars(\"/home/ann/fiz-ddb/notebook/data/vars/flattened_test_new_candi_disam_list.pkl\")\n",
    "df_test_title[:10]"
   ]
  },
  {
   "cell_type": "code",
   "execution_count": 14,
   "id": "2eb4bf82-84e2-4422-b9cf-59eeeded1ac8",
   "metadata": {
    "tags": []
   },
   "outputs": [
    {
     "data": {
      "text/plain": [
       "['Definition:Loop (Plane Geometry)',\n",
       " 'Definition:Loop (Graph Theory)',\n",
       " 'Definition:Algebra Loop',\n",
       " 'Definition:Relational Loop',\n",
       " 'Definition:Loop (Topology)',\n",
       " 'Definition:Loop (Matroid)']"
      ]
     },
     "execution_count": 14,
     "metadata": {},
     "output_type": "execute_result"
    }
   ],
   "source": [
    "df_term_kb = reload_vars('/home/ann/fiz-ddb/notebook/data/vars/def_disamb_kb.pkl')\n",
    "df_term_kb[\"Loop\"]"
   ]
  },
  {
   "cell_type": "markdown",
   "id": "a7ce16ec-e9f9-4053-8875-feee2b25719c",
   "metadata": {},
   "source": [
    "# Save Variables"
   ]
  },
  {
   "cell_type": "code",
   "execution_count": null,
   "id": "9b2d44e2",
   "metadata": {},
   "outputs": [],
   "source": []
  },
  {
   "cell_type": "markdown",
   "id": "3143e346",
   "metadata": {},
   "source": [
    "https://huggingface.co/mistralai/Mistral-7B-Instruct-v0.3"
   ]
  },
  {
   "cell_type": "markdown",
   "id": "ad93ce52",
   "metadata": {},
   "source": [
    "# Mistral v3"
   ]
  },
  {
   "cell_type": "code",
   "execution_count": 8,
   "id": "3217ce58-acaf-4a5c-96c7-f86dfcfab3db",
   "metadata": {},
   "outputs": [
    {
     "name": "stdout",
     "output_type": "stream",
     "text": [
      "Looking in indexes: https://download.pytorch.org/whl/cu124\n",
      "Collecting torch\n",
      "  Downloading https://download.pytorch.org/whl/cu124/torch-2.6.0%2Bcu124-cp310-cp310-linux_x86_64.whl.metadata (28 kB)\n",
      "Collecting torchvision\n",
      "  Downloading https://download.pytorch.org/whl/cu124/torchvision-0.21.0%2Bcu124-cp310-cp310-linux_x86_64.whl.metadata (6.1 kB)\n",
      "Collecting torchaudio\n",
      "  Downloading https://download.pytorch.org/whl/cu124/torchaudio-2.6.0%2Bcu124-cp310-cp310-linux_x86_64.whl.metadata (6.6 kB)\n",
      "Requirement already satisfied: filelock in /home/ann/anaconda3/envs/mathd2/lib/python3.10/site-packages (from torch) (3.13.1)\n",
      "Requirement already satisfied: typing-extensions>=4.10.0 in /home/ann/anaconda3/envs/mathd2/lib/python3.10/site-packages (from torch) (4.12.2)\n",
      "Requirement already satisfied: networkx in /home/ann/anaconda3/envs/mathd2/lib/python3.10/site-packages (from torch) (3.4.2)\n",
      "Requirement already satisfied: jinja2 in /home/ann/anaconda3/envs/mathd2/lib/python3.10/site-packages (from torch) (3.1.5)\n",
      "Requirement already satisfied: fsspec in /home/ann/anaconda3/envs/mathd2/lib/python3.10/site-packages (from torch) (2024.12.0)\n",
      "Collecting nvidia-cuda-nvrtc-cu12==12.4.127 (from torch)\n",
      "  Downloading https://download.pytorch.org/whl/cu124/nvidia_cuda_nvrtc_cu12-12.4.127-py3-none-manylinux2014_x86_64.whl (24.6 MB)\n",
      "\u001b[2K     \u001b[90m━━━━━━━━━━━━━━━━━━━━━━━━━━━━━━━━━━━━━━━━\u001b[0m \u001b[32m24.6/24.6 MB\u001b[0m \u001b[31m90.7 MB/s\u001b[0m eta \u001b[36m0:00:00\u001b[0ma \u001b[36m0:00:01\u001b[0m\n",
      "Collecting nvidia-cuda-runtime-cu12==12.4.127 (from torch)\n",
      "  Downloading https://download.pytorch.org/whl/cu124/nvidia_cuda_runtime_cu12-12.4.127-py3-none-manylinux2014_x86_64.whl (883 kB)\n",
      "\u001b[2K     \u001b[90m━━━━━━━━━━━━━━━━━━━━━━━━━━━━━━━━━━━━━━\u001b[0m \u001b[32m883.7/883.7 kB\u001b[0m \u001b[31m60.4 MB/s\u001b[0m eta \u001b[36m0:00:00\u001b[0m\n",
      "Collecting nvidia-cuda-cupti-cu12==12.4.127 (from torch)\n",
      "  Downloading https://download.pytorch.org/whl/cu124/nvidia_cuda_cupti_cu12-12.4.127-py3-none-manylinux2014_x86_64.whl (13.8 MB)\n",
      "\u001b[2K     \u001b[90m━━━━━━━━━━━━━━━━━━━━━━━━━━━━━━━━━━━━━━━━\u001b[0m \u001b[32m13.8/13.8 MB\u001b[0m \u001b[31m74.3 MB/s\u001b[0m eta \u001b[36m0:00:00\u001b[0m\n",
      "Collecting nvidia-cudnn-cu12==9.1.0.70 (from torch)\n",
      "  Downloading https://download.pytorch.org/whl/cu124/nvidia_cudnn_cu12-9.1.0.70-py3-none-manylinux2014_x86_64.whl (664.8 MB)\n",
      "\u001b[2K     \u001b[90m━━━━━━━━━━━━━━━━━━━━━━━━━━━━━━━━━━━━━━\u001b[0m \u001b[32m664.8/664.8 MB\u001b[0m \u001b[31m59.8 MB/s\u001b[0m eta \u001b[36m0:00:00\u001b[0m00:01\u001b[0m00:01\u001b[0m\n",
      "Collecting nvidia-cublas-cu12==12.4.5.8 (from torch)\n",
      "  Downloading https://download.pytorch.org/whl/cu124/nvidia_cublas_cu12-12.4.5.8-py3-none-manylinux2014_x86_64.whl (363.4 MB)\n",
      "\u001b[2K     \u001b[90m━━━━━━━━━━━━━━━━━━━━━━━━━━━━━━━━━━━━━━\u001b[0m \u001b[32m363.4/363.4 MB\u001b[0m \u001b[31m70.3 MB/s\u001b[0m eta \u001b[36m0:00:00\u001b[0m00:01\u001b[0m00:01\u001b[0m\n",
      "Collecting nvidia-cufft-cu12==11.2.1.3 (from torch)\n",
      "  Downloading https://download.pytorch.org/whl/cu124/nvidia_cufft_cu12-11.2.1.3-py3-none-manylinux2014_x86_64.whl (211.5 MB)\n",
      "\u001b[2K     \u001b[90m━━━━━━━━━━━━━━━━━━━━━━━━━━━━━━━━━━━━━━\u001b[0m \u001b[32m211.5/211.5 MB\u001b[0m \u001b[31m75.1 MB/s\u001b[0m eta \u001b[36m0:00:00\u001b[0m00:01\u001b[0m00:01\u001b[0m\n",
      "Collecting nvidia-curand-cu12==10.3.5.147 (from torch)\n",
      "  Downloading https://download.pytorch.org/whl/cu124/nvidia_curand_cu12-10.3.5.147-py3-none-manylinux2014_x86_64.whl (56.3 MB)\n",
      "\u001b[2K     \u001b[90m━━━━━━━━━━━━━━━━━━━━━━━━━━━━━━━━━━━━━━━━\u001b[0m \u001b[32m56.3/56.3 MB\u001b[0m \u001b[31m75.0 MB/s\u001b[0m eta \u001b[36m0:00:00\u001b[0ma \u001b[36m0:00:01\u001b[0m\n",
      "Collecting nvidia-cusolver-cu12==11.6.1.9 (from torch)\n",
      "  Downloading https://download.pytorch.org/whl/cu124/nvidia_cusolver_cu12-11.6.1.9-py3-none-manylinux2014_x86_64.whl (127.9 MB)\n",
      "\u001b[2K     \u001b[90m━━━━━━━━━━━━━━━━━━━━━━━━━━━━━━━━━━━━━━\u001b[0m \u001b[32m127.9/127.9 MB\u001b[0m \u001b[31m72.5 MB/s\u001b[0m eta \u001b[36m0:00:00\u001b[0m00:01\u001b[0m00:01\u001b[0m\n",
      "Collecting nvidia-cusparse-cu12==12.3.1.170 (from torch)\n",
      "  Downloading https://download.pytorch.org/whl/cu124/nvidia_cusparse_cu12-12.3.1.170-py3-none-manylinux2014_x86_64.whl (207.5 MB)\n",
      "\u001b[2K     \u001b[90m━━━━━━━━━━━━━━━━━━━━━━━━━━━━━━━━━━━━━━\u001b[0m \u001b[32m207.5/207.5 MB\u001b[0m \u001b[31m72.4 MB/s\u001b[0m eta \u001b[36m0:00:00\u001b[0m00:01\u001b[0m00:01\u001b[0m\n",
      "Collecting nvidia-cusparselt-cu12==0.6.2 (from torch)\n",
      "  Downloading https://download.pytorch.org/whl/cu124/nvidia_cusparselt_cu12-0.6.2-py3-none-manylinux2014_x86_64.whl.metadata (6.8 kB)\n",
      "Collecting nvidia-nccl-cu12==2.21.5 (from torch)\n",
      "  Downloading https://download.pytorch.org/whl/nvidia_nccl_cu12-2.21.5-py3-none-manylinux2014_x86_64.whl (188.7 MB)\n",
      "\u001b[2K     \u001b[90m━━━━━━━━━━━━━━━━━━━━━━━━━━━━━━━━━━━━━━\u001b[0m \u001b[32m188.7/188.7 MB\u001b[0m \u001b[31m94.6 MB/s\u001b[0m eta \u001b[36m0:00:00\u001b[0m00:01\u001b[0m00:01\u001b[0m\n",
      "Collecting nvidia-nvtx-cu12==12.4.127 (from torch)\n",
      "  Downloading https://download.pytorch.org/whl/cu124/nvidia_nvtx_cu12-12.4.127-py3-none-manylinux2014_x86_64.whl (99 kB)\n",
      "Collecting nvidia-nvjitlink-cu12==12.4.127 (from torch)\n",
      "  Downloading https://download.pytorch.org/whl/cu124/nvidia_nvjitlink_cu12-12.4.127-py3-none-manylinux2014_x86_64.whl (21.1 MB)\n",
      "\u001b[2K     \u001b[90m━━━━━━━━━━━━━━━━━━━━━━━━━━━━━━━━━━━━━━━━\u001b[0m \u001b[32m21.1/21.1 MB\u001b[0m \u001b[31m70.7 MB/s\u001b[0m eta \u001b[36m0:00:00\u001b[0ma \u001b[36m0:00:01\u001b[0m\n",
      "Collecting triton==3.2.0 (from torch)\n",
      "  Downloading https://download.pytorch.org/whl/triton-3.2.0-cp310-cp310-manylinux_2_27_x86_64.manylinux_2_28_x86_64.whl.metadata (1.4 kB)\n",
      "Collecting sympy==1.13.1 (from torch)\n",
      "  Downloading https://download.pytorch.org/whl/sympy-1.13.1-py3-none-any.whl (6.2 MB)\n",
      "\u001b[2K     \u001b[90m━━━━━━━━━━━━━━━━━━━━━━━━━━━━━━━━━━━━━━━━\u001b[0m \u001b[32m6.2/6.2 MB\u001b[0m \u001b[31m66.5 MB/s\u001b[0m eta \u001b[36m0:00:00\u001b[0m\n",
      "Requirement already satisfied: mpmath<1.4,>=1.1.0 in /home/ann/anaconda3/envs/mathd2/lib/python3.10/site-packages (from sympy==1.13.1->torch) (1.3.0)\n",
      "Requirement already satisfied: numpy in /home/ann/anaconda3/envs/mathd2/lib/python3.10/site-packages (from torchvision) (1.26.4)\n",
      "Requirement already satisfied: pillow!=8.3.*,>=5.3.0 in /home/ann/anaconda3/envs/mathd2/lib/python3.10/site-packages (from torchvision) (11.1.0)\n",
      "Requirement already satisfied: MarkupSafe>=2.0 in /home/ann/anaconda3/envs/mathd2/lib/python3.10/site-packages (from jinja2->torch) (3.0.2)\n",
      "Downloading https://download.pytorch.org/whl/cu124/torch-2.6.0%2Bcu124-cp310-cp310-linux_x86_64.whl (768.4 MB)\n",
      "\u001b[2K   \u001b[90m━━━━━━━━━━━━━━━━━━━━━━━━━━━━━━━━━━━━━━━━\u001b[0m \u001b[32m768.4/768.4 MB\u001b[0m \u001b[31m59.1 MB/s\u001b[0m eta \u001b[36m0:00:00\u001b[0m00:01\u001b[0m00:01\u001b[0m\n",
      "\u001b[?25hDownloading https://download.pytorch.org/whl/cu124/nvidia_cusparselt_cu12-0.6.2-py3-none-manylinux2014_x86_64.whl (150.1 MB)\n",
      "\u001b[2K   \u001b[90m━━━━━━━━━━━━━━━━━━━━━━━━━━━━━━━━━━━━━━━━\u001b[0m \u001b[32m150.1/150.1 MB\u001b[0m \u001b[31m75.7 MB/s\u001b[0m eta \u001b[36m0:00:00\u001b[0m00:01\u001b[0m00:01\u001b[0m\n",
      "\u001b[?25hDownloading https://download.pytorch.org/whl/triton-3.2.0-cp310-cp310-manylinux_2_27_x86_64.manylinux_2_28_x86_64.whl (166.6 MB)\n",
      "\u001b[2K   \u001b[90m━━━━━━━━━━━━━━━━━━━━━━━━━━━━━━━━━━━━━━━━\u001b[0m \u001b[32m166.6/166.6 MB\u001b[0m \u001b[31m92.5 MB/s\u001b[0m eta \u001b[36m0:00:00\u001b[0m00:01\u001b[0m00:01\u001b[0m\n",
      "\u001b[?25hDownloading https://download.pytorch.org/whl/cu124/torchvision-0.21.0%2Bcu124-cp310-cp310-linux_x86_64.whl (7.3 MB)\n",
      "\u001b[2K   \u001b[90m━━━━━━━━━━━━━━━━━━━━━━━━━━━━━━━━━━━━━━━━\u001b[0m \u001b[32m7.3/7.3 MB\u001b[0m \u001b[31m69.5 MB/s\u001b[0m eta \u001b[36m0:00:00\u001b[0m\n",
      "\u001b[?25hDownloading https://download.pytorch.org/whl/cu124/torchaudio-2.6.0%2Bcu124-cp310-cp310-linux_x86_64.whl (3.4 MB)\n",
      "\u001b[2K   \u001b[90m━━━━━━━━━━━━━━━━━━━━━━━━━━━━━━━━━━━━━━━━\u001b[0m \u001b[32m3.4/3.4 MB\u001b[0m \u001b[31m70.5 MB/s\u001b[0m eta \u001b[36m0:00:00\u001b[0m\n",
      "Installing collected packages: triton, nvidia-cusparselt-cu12, sympy, nvidia-nvtx-cu12, nvidia-nvjitlink-cu12, nvidia-nccl-cu12, nvidia-curand-cu12, nvidia-cufft-cu12, nvidia-cuda-runtime-cu12, nvidia-cuda-nvrtc-cu12, nvidia-cuda-cupti-cu12, nvidia-cublas-cu12, nvidia-cusparse-cu12, nvidia-cudnn-cu12, nvidia-cusolver-cu12, torch, torchvision, torchaudio\n",
      "  Attempting uninstall: sympy\n",
      "    Found existing installation: sympy 1.13.3\n",
      "    Uninstalling sympy-1.13.3:\n",
      "      Successfully uninstalled sympy-1.13.3\n",
      "Successfully installed nvidia-cublas-cu12-12.4.5.8 nvidia-cuda-cupti-cu12-12.4.127 nvidia-cuda-nvrtc-cu12-12.4.127 nvidia-cuda-runtime-cu12-12.4.127 nvidia-cudnn-cu12-9.1.0.70 nvidia-cufft-cu12-11.2.1.3 nvidia-curand-cu12-10.3.5.147 nvidia-cusolver-cu12-11.6.1.9 nvidia-cusparse-cu12-12.3.1.170 nvidia-cusparselt-cu12-0.6.2 nvidia-nccl-cu12-2.21.5 nvidia-nvjitlink-cu12-12.4.127 nvidia-nvtx-cu12-12.4.127 sympy-1.13.1 torch-2.6.0+cu124 torchaudio-2.6.0+cu124 torchvision-0.21.0+cu124 triton-3.2.0\n"
     ]
    }
   ],
   "source": [
    "!pip install torch torchvision torchaudio --index-url https://download.pytorch.org/whl/cu124"
   ]
  },
  {
   "cell_type": "code",
   "execution_count": 6,
   "id": "73cd326d-8c7f-4b50-8a62-846e8b626ba7",
   "metadata": {},
   "outputs": [
    {
     "name": "stdout",
     "output_type": "stream",
     "text": [
      "Sat Mar  1 13:04:16 2025       \n",
      "+-----------------------------------------------------------------------------------------+\n",
      "| NVIDIA-SMI 550.54.14              Driver Version: 550.54.14      CUDA Version: 12.4     |\n",
      "|-----------------------------------------+------------------------+----------------------+\n",
      "| GPU  Name                 Persistence-M | Bus-Id          Disp.A | Volatile Uncorr. ECC |\n",
      "| Fan  Temp   Perf          Pwr:Usage/Cap |           Memory-Usage | GPU-Util  Compute M. |\n",
      "|                                         |                        |               MIG M. |\n",
      "|=========================================+========================+======================|\n",
      "|   0  NVIDIA A100 80GB PCIe          Off |   00000000:21:00.0 Off |                    0 |\n",
      "| N/A   35C    P0             45W /  300W |       3MiB /  81920MiB |      0%      Default |\n",
      "|                                         |                        |             Disabled |\n",
      "+-----------------------------------------+------------------------+----------------------+\n",
      "|   1  NVIDIA A100 80GB PCIe          Off |   00000000:81:00.0 Off |                    0 |\n",
      "| N/A   33C    P0             46W /  300W |       3MiB /  81920MiB |      0%      Default |\n",
      "|                                         |                        |             Disabled |\n",
      "+-----------------------------------------+------------------------+----------------------+\n",
      "                                                                                         \n",
      "+-----------------------------------------------------------------------------------------+\n",
      "| Processes:                                                                              |\n",
      "|  GPU   GI   CI        PID   Type   Process name                              GPU Memory |\n",
      "|        ID   ID                                                               Usage      |\n",
      "|=========================================================================================|\n",
      "|  No running processes found                                                             |\n",
      "+-----------------------------------------------------------------------------------------+\n"
     ]
    }
   ],
   "source": [
    "!nvidia-smi"
   ]
  },
  {
   "cell_type": "code",
   "execution_count": null,
   "id": "e4fd7683-d82b-4448-b30b-703f7ec8ef2c",
   "metadata": {},
   "outputs": [],
   "source": []
  },
  {
   "cell_type": "code",
   "execution_count": 9,
   "id": "ca8854c7-b301-42dc-9e58-9187ed68d7c3",
   "metadata": {},
   "outputs": [
    {
     "name": "stdout",
     "output_type": "stream",
     "text": [
      "Collecting mistral_inference\n",
      "  Downloading mistral_inference-1.5.0-py3-none-any.whl.metadata (14 kB)\n",
      "Collecting fire>=0.6.0 (from mistral_inference)\n",
      "  Downloading fire-0.7.0.tar.gz (87 kB)\n",
      "  Preparing metadata (setup.py) ... \u001b[?25ldone\n",
      "Collecting mistral_common>=1.4.0 (from mistral_inference)\n",
      "  Downloading mistral_common-1.5.3-py3-none-any.whl.metadata (4.5 kB)\n",
      "Requirement already satisfied: pillow>=10.3.0 in /home/ann/anaconda3/envs/mathd2/lib/python3.10/site-packages (from mistral_inference) (11.1.0)\n",
      "Requirement already satisfied: safetensors>=0.4.0 in /home/ann/anaconda3/envs/mathd2/lib/python3.10/site-packages (from mistral_inference) (0.5.3)\n",
      "Collecting simple-parsing>=0.1.5 (from mistral_inference)\n",
      "  Downloading simple_parsing-0.1.7-py3-none-any.whl.metadata (7.3 kB)\n",
      "Collecting xformers>=0.0.24 (from mistral_inference)\n",
      "  Downloading xformers-0.0.29.post3-cp310-cp310-manylinux_2_28_x86_64.whl.metadata (1.0 kB)\n",
      "Collecting termcolor (from fire>=0.6.0->mistral_inference)\n",
      "  Downloading termcolor-2.5.0-py3-none-any.whl.metadata (6.1 kB)\n",
      "Requirement already satisfied: jsonschema>=4.21.1 in /home/ann/anaconda3/envs/mathd2/lib/python3.10/site-packages (from mistral_common>=1.4.0->mistral_inference) (4.23.0)\n",
      "Requirement already satisfied: numpy>=1.25 in /home/ann/anaconda3/envs/mathd2/lib/python3.10/site-packages (from mistral_common>=1.4.0->mistral_inference) (1.26.4)\n",
      "Collecting pydantic<3.0,>=2.7 (from mistral_common>=1.4.0->mistral_inference)\n",
      "  Downloading pydantic-2.10.6-py3-none-any.whl.metadata (30 kB)\n",
      "Requirement already satisfied: requests>=2.0.0 in /home/ann/anaconda3/envs/mathd2/lib/python3.10/site-packages (from mistral_common>=1.4.0->mistral_inference) (2.32.3)\n",
      "Collecting sentencepiece>=0.2.0 (from mistral_common>=1.4.0->mistral_inference)\n",
      "  Downloading sentencepiece-0.2.0-cp310-cp310-manylinux_2_17_x86_64.manylinux2014_x86_64.whl.metadata (7.7 kB)\n",
      "Collecting tiktoken>=0.7.0 (from mistral_common>=1.4.0->mistral_inference)\n",
      "  Downloading tiktoken-0.9.0-cp310-cp310-manylinux_2_17_x86_64.manylinux2014_x86_64.whl.metadata (6.7 kB)\n",
      "Requirement already satisfied: typing-extensions>=4.11.0 in /home/ann/anaconda3/envs/mathd2/lib/python3.10/site-packages (from mistral_common>=1.4.0->mistral_inference) (4.12.2)\n",
      "Collecting docstring-parser<1.0,>=0.15 (from simple-parsing>=0.1.5->mistral_inference)\n",
      "  Downloading docstring_parser-0.16-py3-none-any.whl.metadata (3.0 kB)\n",
      "Requirement already satisfied: torch==2.6.0 in /home/ann/anaconda3/envs/mathd2/lib/python3.10/site-packages (from xformers>=0.0.24->mistral_inference) (2.6.0+cu124)\n",
      "Requirement already satisfied: filelock in /home/ann/anaconda3/envs/mathd2/lib/python3.10/site-packages (from torch==2.6.0->xformers>=0.0.24->mistral_inference) (3.13.1)\n",
      "Requirement already satisfied: networkx in /home/ann/anaconda3/envs/mathd2/lib/python3.10/site-packages (from torch==2.6.0->xformers>=0.0.24->mistral_inference) (3.4.2)\n",
      "Requirement already satisfied: jinja2 in /home/ann/anaconda3/envs/mathd2/lib/python3.10/site-packages (from torch==2.6.0->xformers>=0.0.24->mistral_inference) (3.1.5)\n",
      "Requirement already satisfied: fsspec in /home/ann/anaconda3/envs/mathd2/lib/python3.10/site-packages (from torch==2.6.0->xformers>=0.0.24->mistral_inference) (2024.12.0)\n",
      "Requirement already satisfied: nvidia-cuda-nvrtc-cu12==12.4.127 in /home/ann/anaconda3/envs/mathd2/lib/python3.10/site-packages (from torch==2.6.0->xformers>=0.0.24->mistral_inference) (12.4.127)\n",
      "Requirement already satisfied: nvidia-cuda-runtime-cu12==12.4.127 in /home/ann/anaconda3/envs/mathd2/lib/python3.10/site-packages (from torch==2.6.0->xformers>=0.0.24->mistral_inference) (12.4.127)\n",
      "Requirement already satisfied: nvidia-cuda-cupti-cu12==12.4.127 in /home/ann/anaconda3/envs/mathd2/lib/python3.10/site-packages (from torch==2.6.0->xformers>=0.0.24->mistral_inference) (12.4.127)\n",
      "Requirement already satisfied: nvidia-cudnn-cu12==9.1.0.70 in /home/ann/anaconda3/envs/mathd2/lib/python3.10/site-packages (from torch==2.6.0->xformers>=0.0.24->mistral_inference) (9.1.0.70)\n",
      "Requirement already satisfied: nvidia-cublas-cu12==12.4.5.8 in /home/ann/anaconda3/envs/mathd2/lib/python3.10/site-packages (from torch==2.6.0->xformers>=0.0.24->mistral_inference) (12.4.5.8)\n",
      "Requirement already satisfied: nvidia-cufft-cu12==11.2.1.3 in /home/ann/anaconda3/envs/mathd2/lib/python3.10/site-packages (from torch==2.6.0->xformers>=0.0.24->mistral_inference) (11.2.1.3)\n",
      "Requirement already satisfied: nvidia-curand-cu12==10.3.5.147 in /home/ann/anaconda3/envs/mathd2/lib/python3.10/site-packages (from torch==2.6.0->xformers>=0.0.24->mistral_inference) (10.3.5.147)\n",
      "Requirement already satisfied: nvidia-cusolver-cu12==11.6.1.9 in /home/ann/anaconda3/envs/mathd2/lib/python3.10/site-packages (from torch==2.6.0->xformers>=0.0.24->mistral_inference) (11.6.1.9)\n",
      "Requirement already satisfied: nvidia-cusparse-cu12==12.3.1.170 in /home/ann/anaconda3/envs/mathd2/lib/python3.10/site-packages (from torch==2.6.0->xformers>=0.0.24->mistral_inference) (12.3.1.170)\n",
      "Requirement already satisfied: nvidia-cusparselt-cu12==0.6.2 in /home/ann/anaconda3/envs/mathd2/lib/python3.10/site-packages (from torch==2.6.0->xformers>=0.0.24->mistral_inference) (0.6.2)\n",
      "Requirement already satisfied: nvidia-nccl-cu12==2.21.5 in /home/ann/anaconda3/envs/mathd2/lib/python3.10/site-packages (from torch==2.6.0->xformers>=0.0.24->mistral_inference) (2.21.5)\n",
      "Requirement already satisfied: nvidia-nvtx-cu12==12.4.127 in /home/ann/anaconda3/envs/mathd2/lib/python3.10/site-packages (from torch==2.6.0->xformers>=0.0.24->mistral_inference) (12.4.127)\n",
      "Requirement already satisfied: nvidia-nvjitlink-cu12==12.4.127 in /home/ann/anaconda3/envs/mathd2/lib/python3.10/site-packages (from torch==2.6.0->xformers>=0.0.24->mistral_inference) (12.4.127)\n",
      "Requirement already satisfied: triton==3.2.0 in /home/ann/anaconda3/envs/mathd2/lib/python3.10/site-packages (from torch==2.6.0->xformers>=0.0.24->mistral_inference) (3.2.0)\n",
      "Requirement already satisfied: sympy==1.13.1 in /home/ann/anaconda3/envs/mathd2/lib/python3.10/site-packages (from torch==2.6.0->xformers>=0.0.24->mistral_inference) (1.13.1)\n",
      "Requirement already satisfied: mpmath<1.4,>=1.1.0 in /home/ann/anaconda3/envs/mathd2/lib/python3.10/site-packages (from sympy==1.13.1->torch==2.6.0->xformers>=0.0.24->mistral_inference) (1.3.0)\n",
      "Requirement already satisfied: attrs>=22.2.0 in /home/ann/anaconda3/envs/mathd2/lib/python3.10/site-packages (from jsonschema>=4.21.1->mistral_common>=1.4.0->mistral_inference) (24.3.0)\n",
      "Requirement already satisfied: jsonschema-specifications>=2023.03.6 in /home/ann/anaconda3/envs/mathd2/lib/python3.10/site-packages (from jsonschema>=4.21.1->mistral_common>=1.4.0->mistral_inference) (2023.7.1)\n",
      "Requirement already satisfied: referencing>=0.28.4 in /home/ann/anaconda3/envs/mathd2/lib/python3.10/site-packages (from jsonschema>=4.21.1->mistral_common>=1.4.0->mistral_inference) (0.30.2)\n",
      "Requirement already satisfied: rpds-py>=0.7.1 in /home/ann/anaconda3/envs/mathd2/lib/python3.10/site-packages (from jsonschema>=4.21.1->mistral_common>=1.4.0->mistral_inference) (0.22.3)\n",
      "Collecting annotated-types>=0.6.0 (from pydantic<3.0,>=2.7->mistral_common>=1.4.0->mistral_inference)\n",
      "  Downloading annotated_types-0.7.0-py3-none-any.whl.metadata (15 kB)\n",
      "Collecting pydantic-core==2.27.2 (from pydantic<3.0,>=2.7->mistral_common>=1.4.0->mistral_inference)\n",
      "  Downloading pydantic_core-2.27.2-cp310-cp310-manylinux_2_17_x86_64.manylinux2014_x86_64.whl.metadata (6.6 kB)\n",
      "Requirement already satisfied: charset-normalizer<4,>=2 in /home/ann/anaconda3/envs/mathd2/lib/python3.10/site-packages (from requests>=2.0.0->mistral_common>=1.4.0->mistral_inference) (3.3.2)\n",
      "Requirement already satisfied: idna<4,>=2.5 in /home/ann/anaconda3/envs/mathd2/lib/python3.10/site-packages (from requests>=2.0.0->mistral_common>=1.4.0->mistral_inference) (3.7)\n",
      "Requirement already satisfied: urllib3<3,>=1.21.1 in /home/ann/anaconda3/envs/mathd2/lib/python3.10/site-packages (from requests>=2.0.0->mistral_common>=1.4.0->mistral_inference) (2.3.0)\n",
      "Requirement already satisfied: certifi>=2017.4.17 in /home/ann/anaconda3/envs/mathd2/lib/python3.10/site-packages (from requests>=2.0.0->mistral_common>=1.4.0->mistral_inference) (2025.1.31)\n",
      "Requirement already satisfied: regex>=2022.1.18 in /home/ann/anaconda3/envs/mathd2/lib/python3.10/site-packages (from tiktoken>=0.7.0->mistral_common>=1.4.0->mistral_inference) (2024.11.6)\n",
      "Requirement already satisfied: MarkupSafe>=2.0 in /home/ann/anaconda3/envs/mathd2/lib/python3.10/site-packages (from jinja2->torch==2.6.0->xformers>=0.0.24->mistral_inference) (3.0.2)\n",
      "Downloading mistral_inference-1.5.0-py3-none-any.whl (30 kB)\n",
      "Downloading mistral_common-1.5.3-py3-none-any.whl (6.5 MB)\n",
      "\u001b[2K   \u001b[90m━━━━━━━━━━━━━━━━━━━━━━━━━━━━━━━━━━━━━━━━\u001b[0m \u001b[32m6.5/6.5 MB\u001b[0m \u001b[31m36.9 MB/s\u001b[0m eta \u001b[36m0:00:00\u001b[0m\n",
      "\u001b[?25hDownloading simple_parsing-0.1.7-py3-none-any.whl (112 kB)\n",
      "Downloading xformers-0.0.29.post3-cp310-cp310-manylinux_2_28_x86_64.whl (43.3 MB)\n",
      "\u001b[2K   \u001b[90m━━━━━━━━━━━━━━━━━━━━━━━━━━━━━━━━━━━━━━━━\u001b[0m \u001b[32m43.3/43.3 MB\u001b[0m \u001b[31m79.8 MB/s\u001b[0m eta \u001b[36m0:00:00\u001b[0mta \u001b[36m0:00:01\u001b[0m\n",
      "\u001b[?25hDownloading docstring_parser-0.16-py3-none-any.whl (36 kB)\n",
      "Downloading pydantic-2.10.6-py3-none-any.whl (431 kB)\n",
      "Downloading pydantic_core-2.27.2-cp310-cp310-manylinux_2_17_x86_64.manylinux2014_x86_64.whl (2.0 MB)\n",
      "\u001b[2K   \u001b[90m━━━━━━━━━━━━━━━━━━━━━━━━━━━━━━━━━━━━━━━━\u001b[0m \u001b[32m2.0/2.0 MB\u001b[0m \u001b[31m85.4 MB/s\u001b[0m eta \u001b[36m0:00:00\u001b[0m\n",
      "\u001b[?25hDownloading sentencepiece-0.2.0-cp310-cp310-manylinux_2_17_x86_64.manylinux2014_x86_64.whl (1.3 MB)\n",
      "\u001b[2K   \u001b[90m━━━━━━━━━━━━━━━━━━━━━━━━━━━━━━━━━━━━━━━━\u001b[0m \u001b[32m1.3/1.3 MB\u001b[0m \u001b[31m81.6 MB/s\u001b[0m eta \u001b[36m0:00:00\u001b[0m\n",
      "\u001b[?25hDownloading tiktoken-0.9.0-cp310-cp310-manylinux_2_17_x86_64.manylinux2014_x86_64.whl (1.2 MB)\n",
      "\u001b[2K   \u001b[90m━━━━━━━━━━━━━━━━━━━━━━━━━━━━━━━━━━━━━━━━\u001b[0m \u001b[32m1.2/1.2 MB\u001b[0m \u001b[31m67.7 MB/s\u001b[0m eta \u001b[36m0:00:00\u001b[0m\n",
      "\u001b[?25hDownloading termcolor-2.5.0-py3-none-any.whl (7.8 kB)\n",
      "Downloading annotated_types-0.7.0-py3-none-any.whl (13 kB)\n",
      "Building wheels for collected packages: fire\n",
      "doneheel for fire (setup.py) ... \u001b[?25l\n",
      "\u001b[?25h  Created wheel for fire: filename=fire-0.7.0-py3-none-any.whl size=114298 sha256=d7ac6238a92169975f4a2ec7cd6653ce7fba6924557efef6ca868eb6f6219632\n",
      "  Stored in directory: /home/ann/.cache/pip/wheels/19/39/2f/2d3cadc408a8804103f1c34ddd4b9f6a93497b11fa96fe738e\n",
      "Successfully built fire\n",
      "Installing collected packages: sentencepiece, termcolor, pydantic-core, docstring-parser, annotated-types, tiktoken, simple-parsing, pydantic, fire, xformers, mistral_common, mistral_inference\n",
      "Successfully installed annotated-types-0.7.0 docstring-parser-0.16 fire-0.7.0 mistral_common-1.5.3 mistral_inference-1.5.0 pydantic-2.10.6 pydantic-core-2.27.2 sentencepiece-0.2.0 simple-parsing-0.1.7 termcolor-2.5.0 tiktoken-0.9.0 xformers-0.0.29.post3\n"
     ]
    }
   ],
   "source": [
    "!pip install mistral_inference"
   ]
  },
  {
   "cell_type": "code",
   "execution_count": 10,
   "id": "298f0f80-e08c-4ddf-ab3d-2fc923812ff5",
   "metadata": {},
   "outputs": [],
   "source": [
    "## Setup Device"
   ]
  },
  {
   "cell_type": "code",
   "execution_count": 3,
   "id": "c8589fed",
   "metadata": {
    "tags": []
   },
   "outputs": [
    {
     "data": {
      "text/plain": [
       "'cuda:0'"
      ]
     },
     "execution_count": 3,
     "metadata": {},
     "output_type": "execute_result"
    }
   ],
   "source": [
    "import torch\n",
    "torch.cuda.is_available()\n",
    "device = \"cuda:0\" if torch.cuda.is_available() else \"cpu\"\n",
    "device"
   ]
  },
  {
   "cell_type": "code",
   "execution_count": 12,
   "id": "8da5d90d-e79d-4561-8aa7-1300a49ef1d5",
   "metadata": {},
   "outputs": [
    {
     "name": "stdout",
     "output_type": "stream",
     "text": [
      "Collecting transformers\n",
      "  Downloading transformers-4.49.0-py3-none-any.whl.metadata (44 kB)\n",
      "Requirement already satisfied: filelock in /home/ann/anaconda3/envs/mathd2/lib/python3.10/site-packages (from transformers) (3.13.1)\n",
      "Collecting huggingface-hub<1.0,>=0.26.0 (from transformers)\n",
      "  Downloading huggingface_hub-0.29.1-py3-none-any.whl.metadata (13 kB)\n",
      "Requirement already satisfied: numpy>=1.17 in /home/ann/anaconda3/envs/mathd2/lib/python3.10/site-packages (from transformers) (1.26.4)\n",
      "Requirement already satisfied: packaging>=20.0 in /home/ann/anaconda3/envs/mathd2/lib/python3.10/site-packages (from transformers) (24.2)\n",
      "Requirement already satisfied: pyyaml>=5.1 in /home/ann/anaconda3/envs/mathd2/lib/python3.10/site-packages (from transformers) (6.0.2)\n",
      "Requirement already satisfied: regex!=2019.12.17 in /home/ann/anaconda3/envs/mathd2/lib/python3.10/site-packages (from transformers) (2024.11.6)\n",
      "Requirement already satisfied: requests in /home/ann/anaconda3/envs/mathd2/lib/python3.10/site-packages (from transformers) (2.32.3)\n",
      "Collecting tokenizers<0.22,>=0.21 (from transformers)\n",
      "  Downloading tokenizers-0.21.0-cp39-abi3-manylinux_2_17_x86_64.manylinux2014_x86_64.whl.metadata (6.7 kB)\n",
      "Collecting safetensors>=0.4.1 (from transformers)\n",
      "  Downloading safetensors-0.5.3-cp38-abi3-manylinux_2_17_x86_64.manylinux2014_x86_64.whl.metadata (3.8 kB)\n",
      "Requirement already satisfied: tqdm>=4.27 in /home/ann/anaconda3/envs/mathd2/lib/python3.10/site-packages (from transformers) (4.67.1)\n",
      "Requirement already satisfied: fsspec>=2023.5.0 in /home/ann/anaconda3/envs/mathd2/lib/python3.10/site-packages (from huggingface-hub<1.0,>=0.26.0->transformers) (2024.12.0)\n",
      "Requirement already satisfied: typing-extensions>=3.7.4.3 in /home/ann/anaconda3/envs/mathd2/lib/python3.10/site-packages (from huggingface-hub<1.0,>=0.26.0->transformers) (4.12.2)\n",
      "Requirement already satisfied: charset-normalizer<4,>=2 in /home/ann/anaconda3/envs/mathd2/lib/python3.10/site-packages (from requests->transformers) (3.3.2)\n",
      "Requirement already satisfied: idna<4,>=2.5 in /home/ann/anaconda3/envs/mathd2/lib/python3.10/site-packages (from requests->transformers) (3.7)\n",
      "Requirement already satisfied: urllib3<3,>=1.21.1 in /home/ann/anaconda3/envs/mathd2/lib/python3.10/site-packages (from requests->transformers) (2.3.0)\n",
      "Requirement already satisfied: certifi>=2017.4.17 in /home/ann/anaconda3/envs/mathd2/lib/python3.10/site-packages (from requests->transformers) (2025.1.31)\n",
      "Downloading transformers-4.49.0-py3-none-any.whl (10.0 MB)\n",
      "\u001b[2K   \u001b[90m━━━━━━━━━━━━━━━━━━━━━━━━━━━━━━━━━━━━━━━━\u001b[0m \u001b[32m10.0/10.0 MB\u001b[0m \u001b[31m45.0 MB/s\u001b[0m eta \u001b[36m0:00:00\u001b[0m \u001b[36m0:00:01\u001b[0m\n",
      "\u001b[?25hDownloading huggingface_hub-0.29.1-py3-none-any.whl (468 kB)\n",
      "Downloading safetensors-0.5.3-cp38-abi3-manylinux_2_17_x86_64.manylinux2014_x86_64.whl (471 kB)\n",
      "Downloading tokenizers-0.21.0-cp39-abi3-manylinux_2_17_x86_64.manylinux2014_x86_64.whl (3.0 MB)\n",
      "\u001b[2K   \u001b[90m━━━━━━━━━━━━━━━━━━━━━━━━━━━━━━━━━━━━━━━━\u001b[0m \u001b[32m3.0/3.0 MB\u001b[0m \u001b[31m91.2 MB/s\u001b[0m eta \u001b[36m0:00:00\u001b[0m\n",
      "Installing collected packages: safetensors, huggingface-hub, tokenizers, transformers\n",
      "Successfully installed huggingface-hub-0.29.1 safetensors-0.5.3 tokenizers-0.21.0 transformers-4.49.0\n"
     ]
    }
   ],
   "source": [
    "!pip install transformers"
   ]
  },
  {
   "cell_type": "code",
   "execution_count": 14,
   "id": "fdf4a786-d4b9-4365-aa49-caa3c1d9000d",
   "metadata": {},
   "outputs": [
    {
     "name": "stdout",
     "output_type": "stream",
     "text": [
      "Requirement already satisfied: huggingface_hub in /home/ann/anaconda3/envs/mathd2/lib/python3.10/site-packages (0.29.1)\n",
      "Requirement already satisfied: filelock in /home/ann/anaconda3/envs/mathd2/lib/python3.10/site-packages (from huggingface_hub) (3.13.1)\n",
      "Requirement already satisfied: fsspec>=2023.5.0 in /home/ann/anaconda3/envs/mathd2/lib/python3.10/site-packages (from huggingface_hub) (2024.12.0)\n",
      "Requirement already satisfied: packaging>=20.9 in /home/ann/anaconda3/envs/mathd2/lib/python3.10/site-packages (from huggingface_hub) (24.2)\n",
      "Requirement already satisfied: pyyaml>=5.1 in /home/ann/anaconda3/envs/mathd2/lib/python3.10/site-packages (from huggingface_hub) (6.0.2)\n",
      "Requirement already satisfied: requests in /home/ann/anaconda3/envs/mathd2/lib/python3.10/site-packages (from huggingface_hub) (2.32.3)\n",
      "Requirement already satisfied: tqdm>=4.42.1 in /home/ann/anaconda3/envs/mathd2/lib/python3.10/site-packages (from huggingface_hub) (4.67.1)\n",
      "Requirement already satisfied: typing-extensions>=3.7.4.3 in /home/ann/anaconda3/envs/mathd2/lib/python3.10/site-packages (from huggingface_hub) (4.12.2)\n",
      "Requirement already satisfied: charset-normalizer<4,>=2 in /home/ann/anaconda3/envs/mathd2/lib/python3.10/site-packages (from requests->huggingface_hub) (3.3.2)\n",
      "Requirement already satisfied: idna<4,>=2.5 in /home/ann/anaconda3/envs/mathd2/lib/python3.10/site-packages (from requests->huggingface_hub) (3.7)\n",
      "Requirement already satisfied: urllib3<3,>=1.21.1 in /home/ann/anaconda3/envs/mathd2/lib/python3.10/site-packages (from requests->huggingface_hub) (2.3.0)\n",
      "Requirement already satisfied: certifi>=2017.4.17 in /home/ann/anaconda3/envs/mathd2/lib/python3.10/site-packages (from requests->huggingface_hub) (2025.1.31)\n"
     ]
    }
   ],
   "source": [
    "!pip install huggingface_hub"
   ]
  },
  {
   "cell_type": "code",
   "execution_count": 22,
   "id": "8486fdd7-5c57-4336-98ff-f7222b42f995",
   "metadata": {},
   "outputs": [
    {
     "data": {
      "application/vnd.jupyter.widget-view+json": {
       "model_id": "094617fefc564796b742b057dec02f25",
       "version_major": 2,
       "version_minor": 0
      },
      "text/plain": [
       "VBox(children=(HTML(value='<center> <img\\nsrc=https://huggingface.co/front/assets/huggingface_logo-noborder.sv…"
      ]
     },
     "metadata": {},
     "output_type": "display_data"
    }
   ],
   "source": [
    "from huggingface_hub import notebook_login\n",
    "notebook_login()"
   ]
  },
  {
   "cell_type": "markdown",
   "id": "9c5a7e38-229b-4207-be40-8efbfdf5e8c0",
   "metadata": {},
   "source": [
    "## Test zero-shot"
   ]
  },
  {
   "cell_type": "markdown",
   "id": "5d0f1255-1c40-44c1-8d9d-21c9bd370d89",
   "metadata": {},
   "source": [
    "From https://huggingface.co/mistralai/Mistral-7B-Instruct-v0.3"
   ]
  },
  {
   "cell_type": "markdown",
   "id": "a8743c0e-52f0-4ba3-9826-46e4be48281e",
   "metadata": {},
   "source": [
    "https://huggingface.co/mistralai/Mistral-7B-Instruct-v0.3"
   ]
  },
  {
   "cell_type": "code",
   "execution_count": 4,
   "id": "e31a4bff",
   "metadata": {
    "tags": []
   },
   "outputs": [
    {
     "data": {
      "application/vnd.jupyter.widget-view+json": {
       "model_id": "bf946113ffa748aabda6930a900103ec",
       "version_major": 2,
       "version_minor": 0
      },
      "text/plain": [
       "Fetching 3 files:   0%|          | 0/3 [00:00<?, ?it/s]"
      ]
     },
     "metadata": {},
     "output_type": "display_data"
    },
    {
     "data": {
      "text/plain": [
       "'/home/ann/mistral_models/7B-Instruct-v0.3'"
      ]
     },
     "execution_count": 4,
     "metadata": {},
     "output_type": "execute_result"
    }
   ],
   "source": [
    "from huggingface_hub import snapshot_download\n",
    "from pathlib import Path\n",
    "\n",
    "mistral_models_path = Path.home().joinpath('mistral_models', '7B-Instruct-v0.3')\n",
    "mistral_models_path.mkdir(parents=True, exist_ok=True)\n",
    "\n",
    "snapshot_download(repo_id=\"mistralai/Mistral-7B-Instruct-v0.3\", allow_patterns=[\"params.json\", \"consolidated.safetensors\", \"tokenizer.model.v3\"], local_dir=mistral_models_path)"
   ]
  },
  {
   "cell_type": "code",
   "execution_count": 5,
   "id": "b0d0c82e",
   "metadata": {
    "tags": []
   },
   "outputs": [],
   "source": [
    "setting = \"Your task is to find the correct article title given a mathematical term and definition as context.\\n\""
   ]
  },
  {
   "cell_type": "code",
   "execution_count": 6,
   "id": "94d1f549",
   "metadata": {
    "tags": []
   },
   "outputs": [],
   "source": [
    "no_answer = \"Reply with \\\"I don\\'t know\\\" when uncertain. \\n\""
   ]
  },
  {
   "cell_type": "code",
   "execution_count": 7,
   "id": "dd62a972",
   "metadata": {
    "tags": []
   },
   "outputs": [],
   "source": [
    "no_explanation = \"Only select one answer from the provided list. \\nDo not provide justifications.\\n\""
   ]
  },
  {
   "cell_type": "code",
   "execution_count": 8,
   "id": "29f55289",
   "metadata": {
    "tags": []
   },
   "outputs": [],
   "source": [
    "definition = \"\\n\\nFor example, the endpoints of a line segment are its boundaries.\\n\\n\\n=== Containment ===\\nA geometric figure is said to be contained by its boundary or boundaries.\\n\\n \""
   ]
  },
  {
   "cell_type": "code",
   "execution_count": 9,
   "id": "01a0ed38",
   "metadata": {
    "tags": []
   },
   "outputs": [],
   "source": [
    "term = \"\\\"Boundary\\\"\""
   ]
  },
  {
   "cell_type": "code",
   "execution_count": 10,
   "id": "c0336744",
   "metadata": {
    "tags": []
   },
   "outputs": [],
   "source": [
    "choices = ['Boundary (Geometry)',\n",
    "  'Boundary (Topology)',\n",
    "  'Boundary (Graph Theory)']"
   ]
  },
  {
   "cell_type": "code",
   "execution_count": 11,
   "id": "131e1c39",
   "metadata": {
    "tags": []
   },
   "outputs": [
    {
     "name": "stdout",
     "output_type": "stream",
     "text": [
      "Your task is to find the correct article title given a mathematical term and definition as context.\n",
      "Reply with \"I don't know\" when uncertain. \n",
      "Only select one answer from the provided list. \n",
      "Do not provide justifications.\n",
      "Identify the correct definition title from this list: \n",
      "['Boundary (Geometry)', 'Boundary (Topology)', 'Boundary (Graph Theory)']\n",
      "\n",
      "Given the term \"Boundary\" and the following mathematical definition as context: \n",
      "\n",
      "\n",
      "For example, the endpoints of a line segment are its boundaries.\n",
      "\n",
      "\n",
      "=== Containment ===\n",
      "A geometric figure is said to be contained by its boundary or boundaries.\n",
      "\n",
      " \n"
     ]
    }
   ],
   "source": [
    "test_inst = setting + no_answer + no_explanation + \\\n",
    "            \"Identify the correct definition title from this list: \\n\" + str(choices) + \\\n",
    "            \"\\n\\nGiven the term \" + term + \\\n",
    "            \" and the following mathematical definition as context: \\n\" + definition\n",
    "print(test_inst)"
   ]
  },
  {
   "cell_type": "markdown",
   "id": "80f77053-dcbf-42ed-8137-dc57d5522a8b",
   "metadata": {},
   "source": [
    "### Instruct following test"
   ]
  },
  {
   "cell_type": "code",
   "execution_count": 12,
   "id": "f3758a0d",
   "metadata": {
    "tags": []
   },
   "outputs": [
    {
     "name": "stdout",
     "output_type": "stream",
     "text": [
      "'Boundary (Geometry)'\n"
     ]
    }
   ],
   "source": [
    "from mistral_inference.transformer import Transformer\n",
    "from mistral_inference.generate import generate\n",
    "\n",
    "from mistral_common.tokens.tokenizers.mistral import MistralTokenizer\n",
    "from mistral_common.protocol.instruct.messages import UserMessage\n",
    "from mistral_common.protocol.instruct.request import ChatCompletionRequest\n",
    "\n",
    "\n",
    "tokenizer = MistralTokenizer.from_file(f\"{mistral_models_path}/tokenizer.model.v3\")\n",
    "model = Transformer.from_folder(mistral_models_path)\n",
    "\n",
    "completion_request = ChatCompletionRequest(messages=[UserMessage(content=test_inst)])\n",
    "\n",
    "tokens = tokenizer.encode_chat_completion(completion_request).tokens\n",
    "\n",
    "out_tokens, _ = generate([tokens], model, max_tokens=255, temperature=0.0, eos_id=tokenizer.instruct_tokenizer.tokenizer.eos_id)\n",
    "result = tokenizer.instruct_tokenizer.tokenizer.decode(out_tokens[0])\n",
    "\n",
    "print(result)"
   ]
  },
  {
   "cell_type": "code",
   "execution_count": 15,
   "id": "0d5b6751",
   "metadata": {},
   "outputs": [
    {
     "data": {
      "text/plain": [
       "['Boundary (Geometry)', 'Boundary (Topology)', 'Boundary (Graph Theory)']"
      ]
     },
     "execution_count": 15,
     "metadata": {},
     "output_type": "execute_result"
    }
   ],
   "source": [
    "def get_choices(term):\n",
    "    global df_term_kb\n",
    "    choices = list()\n",
    "    for idx, choice in enumerate(df_term_kb[term]):\n",
    "        #text = f'{idx+1}. {choice.split(\":\")[-1]}'        \n",
    "        text = f'{choice.split(\":\")[-1]}'        \n",
    "        choices.append(text)\n",
    "    \n",
    "    return choices    \n",
    "    \n",
    "\n",
    "get_choices(\"Boundary\")"
   ]
  },
  {
   "cell_type": "code",
   "execution_count": 25,
   "id": "96c6ab21",
   "metadata": {},
   "outputs": [
    {
     "data": {
      "text/plain": [
       "364"
      ]
     },
     "execution_count": 25,
     "metadata": {},
     "output_type": "execute_result"
    }
   ],
   "source": [
    "len(df_test_term)"
   ]
  },
  {
   "cell_type": "code",
   "execution_count": 26,
   "id": "5784f983-33f7-4500-ad77-0b2a184915e2",
   "metadata": {},
   "outputs": [
    {
     "data": {
      "text/plain": [
       "462"
      ]
     },
     "execution_count": 26,
     "metadata": {},
     "output_type": "execute_result"
    }
   ],
   "source": [
    "len(df_test_title)"
   ]
  },
  {
   "cell_type": "code",
   "execution_count": 16,
   "id": "bf13732b",
   "metadata": {},
   "outputs": [],
   "source": [
    "from rich.progress import track, Progress\n",
    "from rich import print\n",
    "import datetime, time\n",
    "\n",
    "def run_test(data, logfile, offset):\n",
    "\n",
    "    global tokenizer\n",
    "    global model\n",
    "    \n",
    "    answers = list()\n",
    "    total_time = 0\n",
    "    messages = list()\n",
    "\n",
    "    print(datetime.datetime.now())\n",
    "\n",
    "    with Progress() as progress:\n",
    "\n",
    "        task1 = progress.add_task(\"[blue] Prompt sample [%s]\" % (len(data)-offset), total=len(data)-offset)\n",
    "\n",
    "        with open(logfile, 'w') as f_logs:\n",
    "\n",
    "            for idx, elem in enumerate(data[offset:]):\n",
    "                progress.update(task1, advance=1)\n",
    "    \n",
    "                choices = get_choices(elem['term'])\n",
    "                inst = setting + \\\n",
    "                    no_answer + \\\n",
    "                    no_explanation + \\\n",
    "                    \"Identify the correct definition title from this list: \\n\" + str(choices) +\\\n",
    "                    \"\\nGiven the term \" + elem['term'] + \\\n",
    "                    \"and the following mathematical definition as context: \\n\" + elem['definition']\n",
    "    \n",
    "                #messages.append([{\"role\": \"user\", \"content\": inst}])\n",
    "                messages = [{\"role\": \"user\", \"content\": inst}]\n",
    "    \n",
    "                #print(f'start [{idx}]: {datetime.datetime.now()}')\n",
    "                start = time.time()\n",
    "\n",
    "                completion_request = ChatCompletionRequest(messages=[UserMessage(content=inst)])\n",
    "\n",
    "                tokens = tokenizer.encode_chat_completion(completion_request).tokens\n",
    "\n",
    "                out_tokens, _ = generate([tokens], model, max_tokens=255, temperature=0.0, eos_id=tokenizer.instruct_tokenizer.tokenizer.eos_id)\n",
    "                result = tokenizer.instruct_tokenizer.tokenizer.decode(out_tokens[0])\n",
    "    \n",
    "                end = time.time()\n",
    "                elapsed_time = end - start\n",
    "                total_time += elapsed_time\n",
    "                logstr = f'[{idx + offset}],{elapsed_time}\\n'\n",
    "                f_logs.write(logstr)\n",
    "    \n",
    "                answers.append((idx, elem['definition'].split(':')[-1], result))        \n",
    "\n",
    "        return total_time, answers\n",
    "        "
   ]
  },
  {
   "cell_type": "markdown",
   "id": "3486b51f-ac73-43ee-9a64-fd4c64adebe7",
   "metadata": {},
   "source": [
    "## test_term"
   ]
  },
  {
   "cell_type": "code",
   "execution_count": 31,
   "id": "c891926f",
   "metadata": {},
   "outputs": [
    {
     "data": {
      "text/html": [
       "<pre style=\"white-space:pre;overflow-x:auto;line-height:normal;font-family:Menlo,'DejaVu Sans Mono',consolas,'Courier New',monospace\"><span style=\"color: #008080; text-decoration-color: #008080; font-weight: bold\">2025</span>-<span style=\"color: #008080; text-decoration-color: #008080; font-weight: bold\">03</span>-<span style=\"color: #008080; text-decoration-color: #008080; font-weight: bold\">01</span> <span style=\"color: #00ff00; text-decoration-color: #00ff00; font-weight: bold\">21:31:51</span>.<span style=\"color: #008080; text-decoration-color: #008080; font-weight: bold\">007708</span>\n",
       "</pre>\n"
      ],
      "text/plain": [
       "\u001b[1;36m2025\u001b[0m-\u001b[1;36m03\u001b[0m-\u001b[1;36m01\u001b[0m \u001b[1;92m21:31:51\u001b[0m.\u001b[1;36m007708\u001b[0m\n"
      ]
     },
     "metadata": {},
     "output_type": "display_data"
    },
    {
     "data": {
      "application/vnd.jupyter.widget-view+json": {
       "model_id": "a29905dd19d84303adf52eb0057749ef",
       "version_major": 2,
       "version_minor": 0
      },
      "text/plain": [
       "Output()"
      ]
     },
     "metadata": {},
     "output_type": "display_data"
    },
    {
     "data": {
      "text/html": [
       "<pre style=\"white-space:pre;overflow-x:auto;line-height:normal;font-family:Menlo,'DejaVu Sans Mono',consolas,'Courier New',monospace\"></pre>\n"
      ],
      "text/plain": []
     },
     "metadata": {},
     "output_type": "display_data"
    }
   ],
   "source": [
    "test_term_time, test_term_answers = run_test(df_test_term, logfile='/home/ann/fiz-ddb/notebook/data/mistralv3-exec-01-test-term.csv', offset=0)"
   ]
  },
  {
   "cell_type": "code",
   "execution_count": 32,
   "id": "aff81ffe",
   "metadata": {},
   "outputs": [
    {
     "data": {
      "text/html": [
       "<pre style=\"white-space:pre;overflow-x:auto;line-height:normal;font-family:Menlo,'DejaVu Sans Mono',consolas,'Courier New',monospace\"><span style=\"color: #008080; text-decoration-color: #008080; font-weight: bold\">206.76170134544373</span>\n",
       "</pre>\n"
      ],
      "text/plain": [
       "\u001b[1;36m206.76170134544373\u001b[0m\n"
      ]
     },
     "metadata": {},
     "output_type": "display_data"
    },
    {
     "data": {
      "text/html": [
       "<pre style=\"white-space:pre;overflow-x:auto;line-height:normal;font-family:Menlo,'DejaVu Sans Mono',consolas,'Courier New',monospace\"><span style=\"color: #008080; text-decoration-color: #008080; font-weight: bold\">364</span>\n",
       "</pre>\n"
      ],
      "text/plain": [
       "\u001b[1;36m364\u001b[0m\n"
      ]
     },
     "metadata": {},
     "output_type": "display_data"
    }
   ],
   "source": [
    "print(test_term_time)\n",
    "print(len(test_term_answers))"
   ]
  },
  {
   "cell_type": "code",
   "execution_count": 33,
   "id": "ca74b53e-5b7c-4d3a-a229-655bac5ea9c3",
   "metadata": {},
   "outputs": [
    {
     "data": {
      "text/plain": [
       "[(0,\n",
       "  'Let T = ( S, τ) be a topological space.\\n\\n\\n=== Definition 1 ===\\nLet T = ( S, τ) be a topological space.\\n\\n\\nT is a Baire space  if and only if  the union of any countable set of closed sets of T whose interiors are empty also has an empty interior.\\n\\n=== Definition 2 ===\\nLet T = ( S, τ) be a topological space.\\n\\n\\nT is a Baire space  if and only if  the intersection of any countable set of open sets of T which are everywhere dense is everywhere dense.\\n\\n=== Definition 3 ===\\nLet T = ( S, τ) be a topological space.\\n\\n\\nT is a Baire space  if and only if  the interior of the union of any countable set of closed sets of T which are nowhere dense is empty.\\n\\n=== Definition 4 ===\\nLet T = ( S, τ) be a topological space.\\n\\n\\nT is a Baire space  if and only if , whenever the union of any countable set of closed sets of T has an interior point, then one of those closed sets must have an interior point.',\n",
       "  \"'Baire Space (Topology)'\"),\n",
       " (1,\n",
       "  'The Baire space 𝐁 is defined as the set of all infinite sequences of natural numbers.\\n\\nIt can also be defined as the Cartesian product of a countably infinite number of copies of the set of natural numbers.',\n",
       "  \"'Baire Space (Topology)'\"),\n",
       " (2,\n",
       "  'Complex analysis is a branch of mathematics that studies complex functions.',\n",
       "  'Complex Function'),\n",
       " (3,\n",
       "  '( a, b )  = ( a, -b )\\n\\n\\nIt is clear by direct comparison with the formal definition that this construction genuinely does generate the complex numbers.',\n",
       "  'Complex Number'),\n",
       " (4,\n",
       "  ' ℂ→ℂ be a complex function.\\n\\nLet f (   )z = w.\\n\\n\\nThen w is referred to as the dependent variable (of f).',\n",
       "  'Complex Function')]"
      ]
     },
     "execution_count": 33,
     "metadata": {},
     "output_type": "execute_result"
    }
   ],
   "source": [
    "test_term_answers[:5]"
   ]
  },
  {
   "cell_type": "markdown",
   "id": "fa2716e7-6959-41f6-bb16-fb00cafc0765",
   "metadata": {
    "jp-MarkdownHeadingCollapsed": true
   },
   "source": [
    "## test_title"
   ]
  },
  {
   "cell_type": "markdown",
   "id": "29c76ef0",
   "metadata": {},
   "source": [
    "# Test run"
   ]
  },
  {
   "cell_type": "code",
   "execution_count": 73,
   "id": "d7d40653-9551-4db4-bfa5-9403786c2e68",
   "metadata": {},
   "outputs": [
    {
     "data": {
      "text/plain": [
       "462"
      ]
     },
     "execution_count": 73,
     "metadata": {},
     "output_type": "execute_result"
    }
   ],
   "source": [
    "len(df_test_title)"
   ]
  },
  {
   "cell_type": "code",
   "execution_count": 74,
   "id": "ee555f26-bdd8-425e-8e71-351052b98aa7",
   "metadata": {},
   "outputs": [
    {
     "data": {
      "text/html": [
       "<pre style=\"white-space:pre;overflow-x:auto;line-height:normal;font-family:Menlo,'DejaVu Sans Mono',consolas,'Courier New',monospace\"><span style=\"color: #008080; text-decoration-color: #008080; font-weight: bold\">2025</span>-<span style=\"color: #008080; text-decoration-color: #008080; font-weight: bold\">03</span>-<span style=\"color: #008080; text-decoration-color: #008080; font-weight: bold\">01</span> <span style=\"color: #00ff00; text-decoration-color: #00ff00; font-weight: bold\">21:59:43</span>.<span style=\"color: #008080; text-decoration-color: #008080; font-weight: bold\">468968</span>\n",
       "</pre>\n"
      ],
      "text/plain": [
       "\u001b[1;36m2025\u001b[0m-\u001b[1;36m03\u001b[0m-\u001b[1;36m01\u001b[0m \u001b[1;92m21:59:43\u001b[0m.\u001b[1;36m468968\u001b[0m\n"
      ]
     },
     "metadata": {},
     "output_type": "display_data"
    },
    {
     "data": {
      "application/vnd.jupyter.widget-view+json": {
       "model_id": "ca4ce7474ced4f3ab60d7dbdf848970a",
       "version_major": 2,
       "version_minor": 0
      },
      "text/plain": [
       "Output()"
      ]
     },
     "metadata": {},
     "output_type": "display_data"
    },
    {
     "data": {
      "text/html": [
       "<pre style=\"white-space:pre;overflow-x:auto;line-height:normal;font-family:Menlo,'DejaVu Sans Mono',consolas,'Courier New',monospace\"></pre>\n"
      ],
      "text/plain": []
     },
     "metadata": {},
     "output_type": "display_data"
    }
   ],
   "source": [
    "test_title_time, test_title_answers = run_test(df_test_title, logfile='/home/ann/fiz-ddb/notebook/data/mistralv3-exec-01-test-title.csv', offset=0)"
   ]
  },
  {
   "cell_type": "markdown",
   "id": "44920e7a",
   "metadata": {},
   "source": [
    "# Analysis"
   ]
  },
  {
   "cell_type": "markdown",
   "id": "76363e8d-f4d2-4e8a-8f2b-f7db2d2d6b18",
   "metadata": {},
   "source": [
    "## test_term"
   ]
  },
  {
   "cell_type": "code",
   "execution_count": 34,
   "id": "ca6721a6",
   "metadata": {},
   "outputs": [
    {
     "data": {
      "text/plain": [
       "364"
      ]
     },
     "execution_count": 34,
     "metadata": {},
     "output_type": "execute_result"
    }
   ],
   "source": [
    "len(test_term_answers)"
   ]
  },
  {
   "cell_type": "markdown",
   "id": "5c53a6a8",
   "metadata": {},
   "source": [
    "{'Boundary': ['Definition:Boundary (Geometry)',\n",
    "  'Definition:Boundary (Topology)',\n",
    "  'Definition:Boundary (Graph Theory)'],\n",
    " 'Right': ['Definition:Right (Direction)',\n",
    "  'Definition:Right Angle',\n",
    "  'Definition:Right Hand Side',\n",
    "  'Definition:Right-Total Relation',\n",
    "  'Definition:Right Quasi-Reflexive Relation`"
   ]
  },
  {
   "cell_type": "code",
   "execution_count": 36,
   "id": "7dbdbea6",
   "metadata": {},
   "outputs": [],
   "source": [
    "import re\n",
    "\n",
    "def get_results(df_test, raw_answers):\n",
    "    results = list()\n",
    "    correct_count = 0\n",
    "    \n",
    "    for idx, elem in enumerate(zip(df_test, raw_answers)):\n",
    "        (gt, answer) = elem\n",
    "        choices = get_choices(gt['term'])\n",
    "        gt = gt['title'].split('Definition:')[-1]\n",
    "        \n",
    "        is_correct = False\n",
    "        answer = re.sub(\"[\\\"\\']\", \"\", answer[2])\n",
    "        \n",
    "        #if gt.lower().strip() in answer[1].lower().strip(): #lax\n",
    "        #if gt in answer or answer in gt:\n",
    "        if answer.lower().strip() in gt.lower().strip():\n",
    "\n",
    "            is_correct = True\n",
    "            correct_count += 1\n",
    "\n",
    "        results.append({\n",
    "            'idx': idx,\n",
    "            'is_correct': is_correct,\n",
    "            'gt': gt,\n",
    "            'pred': answer,\n",
    "            'choices': choices\n",
    "        })\n",
    "\n",
    "    return correct_count, results"
   ]
  },
  {
   "cell_type": "code",
   "execution_count": null,
   "id": "b4b31ebd-f3aa-476a-8c43-2b778160ce81",
   "metadata": {},
   "outputs": [],
   "source": []
  },
  {
   "cell_type": "code",
   "execution_count": 67,
   "id": "baf584b2-4268-4272-b286-eea0707e2ab0",
   "metadata": {},
   "outputs": [],
   "source": [
    "test_term_correct_count, test_term_results = get_results(df_test_term, test_term_answers)"
   ]
  },
  {
   "cell_type": "markdown",
   "id": "c1d9f95d-3ebe-4557-a9e0-fd579434c219",
   "metadata": {},
   "source": [
    "### Scores"
   ]
  },
  {
   "cell_type": "code",
   "execution_count": 68,
   "id": "56060ac3",
   "metadata": {},
   "outputs": [
    {
     "data": {
      "text/html": [
       "<pre style=\"white-space:pre;overflow-x:auto;line-height:normal;font-family:Menlo,'DejaVu Sans Mono',consolas,'Courier New',monospace\">Accuracy: <span style=\"color: #008080; text-decoration-color: #008080; font-weight: bold\">67.03</span>\n",
       "</pre>\n"
      ],
      "text/plain": [
       "Accuracy: \u001b[1;36m67.03\u001b[0m\n"
      ]
     },
     "metadata": {},
     "output_type": "display_data"
    }
   ],
   "source": [
    "print(f'Accuracy: {test_term_correct_count/len(df_test_term)*100:0.2f}')"
   ]
  },
  {
   "cell_type": "code",
   "execution_count": 69,
   "id": "5cf209ce",
   "metadata": {},
   "outputs": [],
   "source": [
    "pkl_vars(test_term_results, '/home/ann/fiz-ddb/notebook/data/vars/mistralv3-results-01-test-term.pkl')"
   ]
  },
  {
   "cell_type": "markdown",
   "id": "572f7594-639c-4b0d-9348-6c53ff11c734",
   "metadata": {},
   "source": [
    "## test_title"
   ]
  },
  {
   "cell_type": "code",
   "execution_count": 75,
   "id": "abd2e6d0-4b19-4fba-a7e4-97ece01a94e1",
   "metadata": {},
   "outputs": [],
   "source": [
    "test_title_correct_count, test_title_results = get_results(df_test_title, test_title_answers)"
   ]
  },
  {
   "cell_type": "code",
   "execution_count": 76,
   "id": "b139e8d3-f9a4-4120-a14f-ea549bef220e",
   "metadata": {},
   "outputs": [
    {
     "data": {
      "text/html": [
       "<pre style=\"white-space:pre;overflow-x:auto;line-height:normal;font-family:Menlo,'DejaVu Sans Mono',consolas,'Courier New',monospace\">Accuracy: <span style=\"color: #008080; text-decoration-color: #008080; font-weight: bold\">69.05</span>\n",
       "</pre>\n"
      ],
      "text/plain": [
       "Accuracy: \u001b[1;36m69.05\u001b[0m\n"
      ]
     },
     "metadata": {},
     "output_type": "display_data"
    }
   ],
   "source": [
    "print(f'Accuracy: {test_title_correct_count/len(df_test_title)*100:0.2f}')"
   ]
  },
  {
   "cell_type": "code",
   "execution_count": 77,
   "id": "6856f1aa-45e3-4c3f-8728-178954b9f451",
   "metadata": {},
   "outputs": [],
   "source": [
    "pkl_vars(test_title_results, '/home/ann/fiz-ddb/notebook/data/vars/mistralv3-results-01-test-title.pkl')"
   ]
  },
  {
   "cell_type": "markdown",
   "id": "3b7663be-a762-4a92-89e5-0b82eebb88f8",
   "metadata": {},
   "source": [
    "## Error Analysis"
   ]
  },
  {
   "cell_type": "code",
   "execution_count": 18,
   "id": "7f0ac990",
   "metadata": {},
   "outputs": [],
   "source": [
    "def get_errors(results):\n",
    "    incorrect = list()\n",
    "    \n",
    "    for result in results:\n",
    "        if not result['is_correct']:\n",
    "            incorrect.append(result)\n",
    "    return incorrect"
   ]
  },
  {
   "cell_type": "code",
   "execution_count": null,
   "id": "d01d7903-7848-4a91-b764-479f5d7244a4",
   "metadata": {},
   "outputs": [],
   "source": []
  },
  {
   "cell_type": "code",
   "execution_count": 71,
   "id": "61766192-332a-47a1-97cf-693b24eef1c3",
   "metadata": {},
   "outputs": [],
   "source": [
    "test_term_incorrect = get_errors(test_term_results)"
   ]
  },
  {
   "cell_type": "code",
   "execution_count": 55,
   "id": "f1be3000-82c2-42b8-8161-f7525dcf74c1",
   "metadata": {},
   "outputs": [
    {
     "data": {
      "text/plain": [
       "120"
      ]
     },
     "execution_count": 55,
     "metadata": {},
     "output_type": "execute_result"
    }
   ],
   "source": [
    "len(test_term_incorrect)"
   ]
  },
  {
   "cell_type": "code",
   "execution_count": 72,
   "id": "71d51709-00d2-4760-a4cc-091998f079f6",
   "metadata": {},
   "outputs": [],
   "source": [
    "import json\n",
    "\n",
    "with open('/home/ann/fiz-ddb/notebook/data/mistralv3-errors-01-test-term.txt', 'w') as f:\n",
    "    f.write(json.dumps(test_term_incorrect, indent=4, sort_keys=True))"
   ]
  },
  {
   "cell_type": "code",
   "execution_count": null,
   "id": "a412e6a0-5f00-4a22-9d0f-c6e13cf217c3",
   "metadata": {},
   "outputs": [],
   "source": []
  },
  {
   "cell_type": "code",
   "execution_count": 79,
   "id": "8344243b-7faa-4ba5-bb45-de663a7fea57",
   "metadata": {},
   "outputs": [],
   "source": [
    "test_title_incorrect = get_errors(test_title_results)\n",
    "\n",
    "with open('/home/ann/fiz-ddb/notebook/data/mistralv3-errors-01-test-title.txt', 'w') as f:\n",
    "    f.write(json.dumps(test_title_incorrect, indent=4, sort_keys=True))"
   ]
  },
  {
   "cell_type": "markdown",
   "id": "daa5b95a",
   "metadata": {},
   "source": [
    "# Cleanup"
   ]
  },
  {
   "cell_type": "code",
   "execution_count": 447,
   "id": "d7e8f7af",
   "metadata": {},
   "outputs": [],
   "source": [
    "import torch, gc\n",
    "model = None\n",
    "tokenizer = None\n",
    "encodeds = None\n",
    "\n",
    "gc.collect()\n",
    "\n",
    "del encodeds\n",
    "del tokenizer\n",
    "del model\n",
    "\n",
    "torch.cuda.empty_cache()"
   ]
  },
  {
   "cell_type": "markdown",
   "id": "e1d7b100-3961-4354-88e9-20234a630c96",
   "metadata": {},
   "source": [
    "# 5-fold"
   ]
  },
  {
   "cell_type": "code",
   "execution_count": 19,
   "id": "89ac98d7-7f58-4c66-ab46-6add50851277",
   "metadata": {},
   "outputs": [
    {
     "data": {
      "text/html": [
       "<pre style=\"white-space:pre;overflow-x:auto;line-height:normal;font-family:Menlo,'DejaVu Sans Mono',consolas,'Courier New',monospace\"><span style=\"font-weight: bold\">[</span>\n",
       "    <span style=\"color: #008000; text-decoration-color: #008000\">'flattened_test_new_candi_1_disam_list.pkl'</span>,\n",
       "    <span style=\"color: #008000; text-decoration-color: #008000\">'flattened_test_new_candi_2_disam_list.pkl'</span>,\n",
       "    <span style=\"color: #008000; text-decoration-color: #008000\">'flattened_test_new_candi_3_disam_list.pkl'</span>,\n",
       "    <span style=\"color: #008000; text-decoration-color: #008000\">'flattened_test_new_candi_4_disam_list.pkl'</span>,\n",
       "    <span style=\"color: #008000; text-decoration-color: #008000\">'flattened_test_new_candi_5_disam_list.pkl'</span>,\n",
       "    <span style=\"color: #008000; text-decoration-color: #008000\">'flattened_test_new_term_1_disam_list.pkl'</span>,\n",
       "    <span style=\"color: #008000; text-decoration-color: #008000\">'flattened_test_new_term_2_disam_list.pkl'</span>,\n",
       "    <span style=\"color: #008000; text-decoration-color: #008000\">'flattened_test_new_term_3_disam_list.pkl'</span>,\n",
       "    <span style=\"color: #008000; text-decoration-color: #008000\">'flattened_test_new_term_4_disam_list.pkl'</span>,\n",
       "    <span style=\"color: #008000; text-decoration-color: #008000\">'flattened_test_new_term_5_disam_list.pkl'</span>\n",
       "<span style=\"font-weight: bold\">]</span>\n",
       "</pre>\n"
      ],
      "text/plain": [
       "\u001b[1m[\u001b[0m\n",
       "    \u001b[32m'flattened_test_new_candi_1_disam_list.pkl'\u001b[0m,\n",
       "    \u001b[32m'flattened_test_new_candi_2_disam_list.pkl'\u001b[0m,\n",
       "    \u001b[32m'flattened_test_new_candi_3_disam_list.pkl'\u001b[0m,\n",
       "    \u001b[32m'flattened_test_new_candi_4_disam_list.pkl'\u001b[0m,\n",
       "    \u001b[32m'flattened_test_new_candi_5_disam_list.pkl'\u001b[0m,\n",
       "    \u001b[32m'flattened_test_new_term_1_disam_list.pkl'\u001b[0m,\n",
       "    \u001b[32m'flattened_test_new_term_2_disam_list.pkl'\u001b[0m,\n",
       "    \u001b[32m'flattened_test_new_term_3_disam_list.pkl'\u001b[0m,\n",
       "    \u001b[32m'flattened_test_new_term_4_disam_list.pkl'\u001b[0m,\n",
       "    \u001b[32m'flattened_test_new_term_5_disam_list.pkl'\u001b[0m\n",
       "\u001b[1m]\u001b[0m\n"
      ]
     },
     "metadata": {},
     "output_type": "display_data"
    }
   ],
   "source": [
    "test_files = [\"flattened_test_new_candi_1_disam_list.pkl\", \\\n",
    "                    \"flattened_test_new_candi_2_disam_list.pkl\", \\\n",
    "                    \"flattened_test_new_candi_3_disam_list.pkl\", \\\n",
    "                    \"flattened_test_new_candi_4_disam_list.pkl\", \\\n",
    "                    \"flattened_test_new_candi_5_disam_list.pkl\", \\\n",
    "                    \"flattened_test_new_term_1_disam_list.pkl\", \\\n",
    "                    \"flattened_test_new_term_2_disam_list.pkl\", \\\n",
    "                    \"flattened_test_new_term_3_disam_list.pkl\", \\\n",
    "                    \"flattened_test_new_term_4_disam_list.pkl\", \\\n",
    "                    \"flattened_test_new_term_5_disam_list.pkl\"]\n",
    "print(test_files)"
   ]
  },
  {
   "cell_type": "code",
   "execution_count": null,
   "id": "5fda163b-b5eb-4948-a14b-32caf2344acb",
   "metadata": {},
   "outputs": [],
   "source": []
  },
  {
   "cell_type": "code",
   "execution_count": null,
   "id": "1b237f7b-f781-4403-a3b2-18dfdc874f63",
   "metadata": {},
   "outputs": [],
   "source": []
  },
  {
   "cell_type": "code",
   "execution_count": 38,
   "id": "ba59d1e7-1d96-4ebb-8be2-897faa8f4613",
   "metadata": {},
   "outputs": [],
   "source": [
    "TEST_DATA = {}"
   ]
  },
  {
   "cell_type": "code",
   "execution_count": 41,
   "id": "7a6a264c-4021-4990-a100-2ba48762385c",
   "metadata": {},
   "outputs": [
    {
     "data": {
      "text/html": [
       "<pre style=\"white-space:pre;overflow-x:auto;line-height:normal;font-family:Menlo,'DejaVu Sans Mono',consolas,'Courier New',monospace\"><span style=\"color: #800080; text-decoration-color: #800080\">/home/ann/fiz-ddb/notebook/data/vars/</span><span style=\"color: #ff00ff; text-decoration-color: #ff00ff\">flattened_test_new_candi_1_disam_list.pkl</span> \n",
       "<span style=\"color: #800080; text-decoration-color: #800080\">/home/ann/fiz-ddb/notebook/data/5fold-mistralv3/</span><span style=\"color: #ff00ff; text-decoration-color: #ff00ff\">flattened_test_new_candi_1_disam_list.pkl.log</span>\n",
       "</pre>\n"
      ],
      "text/plain": [
       "\u001b[35m/home/ann/fiz-ddb/notebook/data/vars/\u001b[0m\u001b[95mflattened_test_new_candi_1_disam_list.pkl\u001b[0m \n",
       "\u001b[35m/home/ann/fiz-ddb/notebook/data/5fold-mistralv3/\u001b[0m\u001b[95mflattened_test_new_candi_1_disam_list.pkl.log\u001b[0m\n"
      ]
     },
     "metadata": {},
     "output_type": "display_data"
    },
    {
     "data": {
      "text/html": [
       "<pre style=\"white-space:pre;overflow-x:auto;line-height:normal;font-family:Menlo,'DejaVu Sans Mono',consolas,'Courier New',monospace\"><span style=\"color: #008080; text-decoration-color: #008080; font-weight: bold\">2025</span>-<span style=\"color: #008080; text-decoration-color: #008080; font-weight: bold\">03</span>-<span style=\"color: #008080; text-decoration-color: #008080; font-weight: bold\">10</span> <span style=\"color: #00ff00; text-decoration-color: #00ff00; font-weight: bold\">14:35:07</span>.<span style=\"color: #008080; text-decoration-color: #008080; font-weight: bold\">466313</span>\n",
       "</pre>\n"
      ],
      "text/plain": [
       "\u001b[1;36m2025\u001b[0m-\u001b[1;36m03\u001b[0m-\u001b[1;36m10\u001b[0m \u001b[1;92m14:35:07\u001b[0m.\u001b[1;36m466313\u001b[0m\n"
      ]
     },
     "metadata": {},
     "output_type": "display_data"
    },
    {
     "data": {
      "application/vnd.jupyter.widget-view+json": {
       "model_id": "55bb5b018e3844d78b5b92106c715ed9",
       "version_major": 2,
       "version_minor": 0
      },
      "text/plain": [
       "Output()"
      ]
     },
     "metadata": {},
     "output_type": "display_data"
    },
    {
     "data": {
      "text/html": [
       "<pre style=\"white-space:pre;overflow-x:auto;line-height:normal;font-family:Menlo,'DejaVu Sans Mono',consolas,'Courier New',monospace\"></pre>\n"
      ],
      "text/plain": []
     },
     "metadata": {},
     "output_type": "display_data"
    },
    {
     "data": {
      "text/html": [
       "<pre style=\"white-space:pre;overflow-x:auto;line-height:normal;font-family:Menlo,'DejaVu Sans Mono',consolas,'Courier New',monospace\"><span style=\"font-weight: bold\">[</span><span style=\"color: #008080; text-decoration-color: #008080; font-weight: bold\">50.60</span><span style=\"font-weight: bold\">]</span> <span style=\"font-weight: bold\">(</span>flattened_test_new_candi_1_disam_list.pkl<span style=\"font-weight: bold\">)</span>\n",
       "</pre>\n"
      ],
      "text/plain": [
       "\u001b[1m[\u001b[0m\u001b[1;36m50.60\u001b[0m\u001b[1m]\u001b[0m \u001b[1m(\u001b[0mflattened_test_new_candi_1_disam_list.pkl\u001b[1m)\u001b[0m\n"
      ]
     },
     "metadata": {},
     "output_type": "display_data"
    },
    {
     "data": {
      "text/html": [
       "<pre style=\"white-space:pre;overflow-x:auto;line-height:normal;font-family:Menlo,'DejaVu Sans Mono',consolas,'Courier New',monospace\"><span style=\"color: #800080; text-decoration-color: #800080\">/home/ann/fiz-ddb/notebook/data/vars/</span><span style=\"color: #ff00ff; text-decoration-color: #ff00ff\">flattened_test_new_candi_2_disam_list.pkl</span> \n",
       "<span style=\"color: #800080; text-decoration-color: #800080\">/home/ann/fiz-ddb/notebook/data/5fold-mistralv3/</span><span style=\"color: #ff00ff; text-decoration-color: #ff00ff\">flattened_test_new_candi_2_disam_list.pkl.log</span>\n",
       "</pre>\n"
      ],
      "text/plain": [
       "\u001b[35m/home/ann/fiz-ddb/notebook/data/vars/\u001b[0m\u001b[95mflattened_test_new_candi_2_disam_list.pkl\u001b[0m \n",
       "\u001b[35m/home/ann/fiz-ddb/notebook/data/5fold-mistralv3/\u001b[0m\u001b[95mflattened_test_new_candi_2_disam_list.pkl.log\u001b[0m\n"
      ]
     },
     "metadata": {},
     "output_type": "display_data"
    },
    {
     "data": {
      "text/html": [
       "<pre style=\"white-space:pre;overflow-x:auto;line-height:normal;font-family:Menlo,'DejaVu Sans Mono',consolas,'Courier New',monospace\"><span style=\"color: #008080; text-decoration-color: #008080; font-weight: bold\">2025</span>-<span style=\"color: #008080; text-decoration-color: #008080; font-weight: bold\">03</span>-<span style=\"color: #008080; text-decoration-color: #008080; font-weight: bold\">10</span> <span style=\"color: #00ff00; text-decoration-color: #00ff00; font-weight: bold\">14:39:20</span>.<span style=\"color: #008080; text-decoration-color: #008080; font-weight: bold\">831251</span>\n",
       "</pre>\n"
      ],
      "text/plain": [
       "\u001b[1;36m2025\u001b[0m-\u001b[1;36m03\u001b[0m-\u001b[1;36m10\u001b[0m \u001b[1;92m14:39:20\u001b[0m.\u001b[1;36m831251\u001b[0m\n"
      ]
     },
     "metadata": {},
     "output_type": "display_data"
    },
    {
     "data": {
      "application/vnd.jupyter.widget-view+json": {
       "model_id": "be1b0a367b384243aeb8137fe0346898",
       "version_major": 2,
       "version_minor": 0
      },
      "text/plain": [
       "Output()"
      ]
     },
     "metadata": {},
     "output_type": "display_data"
    },
    {
     "data": {
      "text/html": [
       "<pre style=\"white-space:pre;overflow-x:auto;line-height:normal;font-family:Menlo,'DejaVu Sans Mono',consolas,'Courier New',monospace\"></pre>\n"
      ],
      "text/plain": []
     },
     "metadata": {},
     "output_type": "display_data"
    },
    {
     "data": {
      "text/html": [
       "<pre style=\"white-space:pre;overflow-x:auto;line-height:normal;font-family:Menlo,'DejaVu Sans Mono',consolas,'Courier New',monospace\"><span style=\"font-weight: bold\">[</span><span style=\"color: #008080; text-decoration-color: #008080; font-weight: bold\">52.15</span><span style=\"font-weight: bold\">]</span> <span style=\"font-weight: bold\">(</span>flattened_test_new_candi_2_disam_list.pkl<span style=\"font-weight: bold\">)</span>\n",
       "</pre>\n"
      ],
      "text/plain": [
       "\u001b[1m[\u001b[0m\u001b[1;36m52.15\u001b[0m\u001b[1m]\u001b[0m \u001b[1m(\u001b[0mflattened_test_new_candi_2_disam_list.pkl\u001b[1m)\u001b[0m\n"
      ]
     },
     "metadata": {},
     "output_type": "display_data"
    },
    {
     "data": {
      "text/html": [
       "<pre style=\"white-space:pre;overflow-x:auto;line-height:normal;font-family:Menlo,'DejaVu Sans Mono',consolas,'Courier New',monospace\"><span style=\"color: #800080; text-decoration-color: #800080\">/home/ann/fiz-ddb/notebook/data/vars/</span><span style=\"color: #ff00ff; text-decoration-color: #ff00ff\">flattened_test_new_candi_3_disam_list.pkl</span> \n",
       "<span style=\"color: #800080; text-decoration-color: #800080\">/home/ann/fiz-ddb/notebook/data/5fold-mistralv3/</span><span style=\"color: #ff00ff; text-decoration-color: #ff00ff\">flattened_test_new_candi_3_disam_list.pkl.log</span>\n",
       "</pre>\n"
      ],
      "text/plain": [
       "\u001b[35m/home/ann/fiz-ddb/notebook/data/vars/\u001b[0m\u001b[95mflattened_test_new_candi_3_disam_list.pkl\u001b[0m \n",
       "\u001b[35m/home/ann/fiz-ddb/notebook/data/5fold-mistralv3/\u001b[0m\u001b[95mflattened_test_new_candi_3_disam_list.pkl.log\u001b[0m\n"
      ]
     },
     "metadata": {},
     "output_type": "display_data"
    },
    {
     "data": {
      "text/html": [
       "<pre style=\"white-space:pre;overflow-x:auto;line-height:normal;font-family:Menlo,'DejaVu Sans Mono',consolas,'Courier New',monospace\"><span style=\"color: #008080; text-decoration-color: #008080; font-weight: bold\">2025</span>-<span style=\"color: #008080; text-decoration-color: #008080; font-weight: bold\">03</span>-<span style=\"color: #008080; text-decoration-color: #008080; font-weight: bold\">10</span> <span style=\"color: #00ff00; text-decoration-color: #00ff00; font-weight: bold\">14:43:44</span>.<span style=\"color: #008080; text-decoration-color: #008080; font-weight: bold\">845940</span>\n",
       "</pre>\n"
      ],
      "text/plain": [
       "\u001b[1;36m2025\u001b[0m-\u001b[1;36m03\u001b[0m-\u001b[1;36m10\u001b[0m \u001b[1;92m14:43:44\u001b[0m.\u001b[1;36m845940\u001b[0m\n"
      ]
     },
     "metadata": {},
     "output_type": "display_data"
    },
    {
     "data": {
      "application/vnd.jupyter.widget-view+json": {
       "model_id": "423127eded5a4e74b79cffca9391db0b",
       "version_major": 2,
       "version_minor": 0
      },
      "text/plain": [
       "Output()"
      ]
     },
     "metadata": {},
     "output_type": "display_data"
    },
    {
     "data": {
      "text/html": [
       "<pre style=\"white-space:pre;overflow-x:auto;line-height:normal;font-family:Menlo,'DejaVu Sans Mono',consolas,'Courier New',monospace\"></pre>\n"
      ],
      "text/plain": []
     },
     "metadata": {},
     "output_type": "display_data"
    },
    {
     "data": {
      "text/html": [
       "<pre style=\"white-space:pre;overflow-x:auto;line-height:normal;font-family:Menlo,'DejaVu Sans Mono',consolas,'Courier New',monospace\"><span style=\"font-weight: bold\">[</span><span style=\"color: #008080; text-decoration-color: #008080; font-weight: bold\">50.54</span><span style=\"font-weight: bold\">]</span> <span style=\"font-weight: bold\">(</span>flattened_test_new_candi_3_disam_list.pkl<span style=\"font-weight: bold\">)</span>\n",
       "</pre>\n"
      ],
      "text/plain": [
       "\u001b[1m[\u001b[0m\u001b[1;36m50.54\u001b[0m\u001b[1m]\u001b[0m \u001b[1m(\u001b[0mflattened_test_new_candi_3_disam_list.pkl\u001b[1m)\u001b[0m\n"
      ]
     },
     "metadata": {},
     "output_type": "display_data"
    },
    {
     "data": {
      "text/html": [
       "<pre style=\"white-space:pre;overflow-x:auto;line-height:normal;font-family:Menlo,'DejaVu Sans Mono',consolas,'Courier New',monospace\"><span style=\"color: #800080; text-decoration-color: #800080\">/home/ann/fiz-ddb/notebook/data/vars/</span><span style=\"color: #ff00ff; text-decoration-color: #ff00ff\">flattened_test_new_candi_4_disam_list.pkl</span> \n",
       "<span style=\"color: #800080; text-decoration-color: #800080\">/home/ann/fiz-ddb/notebook/data/5fold-mistralv3/</span><span style=\"color: #ff00ff; text-decoration-color: #ff00ff\">flattened_test_new_candi_4_disam_list.pkl.log</span>\n",
       "</pre>\n"
      ],
      "text/plain": [
       "\u001b[35m/home/ann/fiz-ddb/notebook/data/vars/\u001b[0m\u001b[95mflattened_test_new_candi_4_disam_list.pkl\u001b[0m \n",
       "\u001b[35m/home/ann/fiz-ddb/notebook/data/5fold-mistralv3/\u001b[0m\u001b[95mflattened_test_new_candi_4_disam_list.pkl.log\u001b[0m\n"
      ]
     },
     "metadata": {},
     "output_type": "display_data"
    },
    {
     "data": {
      "text/html": [
       "<pre style=\"white-space:pre;overflow-x:auto;line-height:normal;font-family:Menlo,'DejaVu Sans Mono',consolas,'Courier New',monospace\"><span style=\"color: #008080; text-decoration-color: #008080; font-weight: bold\">2025</span>-<span style=\"color: #008080; text-decoration-color: #008080; font-weight: bold\">03</span>-<span style=\"color: #008080; text-decoration-color: #008080; font-weight: bold\">10</span> <span style=\"color: #00ff00; text-decoration-color: #00ff00; font-weight: bold\">14:48:23</span>.<span style=\"color: #008080; text-decoration-color: #008080; font-weight: bold\">233414</span>\n",
       "</pre>\n"
      ],
      "text/plain": [
       "\u001b[1;36m2025\u001b[0m-\u001b[1;36m03\u001b[0m-\u001b[1;36m10\u001b[0m \u001b[1;92m14:48:23\u001b[0m.\u001b[1;36m233414\u001b[0m\n"
      ]
     },
     "metadata": {},
     "output_type": "display_data"
    },
    {
     "data": {
      "application/vnd.jupyter.widget-view+json": {
       "model_id": "5ff43304830e4edf83e74237defa8a36",
       "version_major": 2,
       "version_minor": 0
      },
      "text/plain": [
       "Output()"
      ]
     },
     "metadata": {},
     "output_type": "display_data"
    },
    {
     "data": {
      "text/html": [
       "<pre style=\"white-space:pre;overflow-x:auto;line-height:normal;font-family:Menlo,'DejaVu Sans Mono',consolas,'Courier New',monospace\"></pre>\n"
      ],
      "text/plain": []
     },
     "metadata": {},
     "output_type": "display_data"
    },
    {
     "data": {
      "text/html": [
       "<pre style=\"white-space:pre;overflow-x:auto;line-height:normal;font-family:Menlo,'DejaVu Sans Mono',consolas,'Courier New',monospace\"><span style=\"font-weight: bold\">[</span><span style=\"color: #008080; text-decoration-color: #008080; font-weight: bold\">54.88</span><span style=\"font-weight: bold\">]</span> <span style=\"font-weight: bold\">(</span>flattened_test_new_candi_4_disam_list.pkl<span style=\"font-weight: bold\">)</span>\n",
       "</pre>\n"
      ],
      "text/plain": [
       "\u001b[1m[\u001b[0m\u001b[1;36m54.88\u001b[0m\u001b[1m]\u001b[0m \u001b[1m(\u001b[0mflattened_test_new_candi_4_disam_list.pkl\u001b[1m)\u001b[0m\n"
      ]
     },
     "metadata": {},
     "output_type": "display_data"
    },
    {
     "data": {
      "text/html": [
       "<pre style=\"white-space:pre;overflow-x:auto;line-height:normal;font-family:Menlo,'DejaVu Sans Mono',consolas,'Courier New',monospace\"><span style=\"color: #800080; text-decoration-color: #800080\">/home/ann/fiz-ddb/notebook/data/vars/</span><span style=\"color: #ff00ff; text-decoration-color: #ff00ff\">flattened_test_new_candi_5_disam_list.pkl</span> \n",
       "<span style=\"color: #800080; text-decoration-color: #800080\">/home/ann/fiz-ddb/notebook/data/5fold-mistralv3/</span><span style=\"color: #ff00ff; text-decoration-color: #ff00ff\">flattened_test_new_candi_5_disam_list.pkl.log</span>\n",
       "</pre>\n"
      ],
      "text/plain": [
       "\u001b[35m/home/ann/fiz-ddb/notebook/data/vars/\u001b[0m\u001b[95mflattened_test_new_candi_5_disam_list.pkl\u001b[0m \n",
       "\u001b[35m/home/ann/fiz-ddb/notebook/data/5fold-mistralv3/\u001b[0m\u001b[95mflattened_test_new_candi_5_disam_list.pkl.log\u001b[0m\n"
      ]
     },
     "metadata": {},
     "output_type": "display_data"
    },
    {
     "data": {
      "text/html": [
       "<pre style=\"white-space:pre;overflow-x:auto;line-height:normal;font-family:Menlo,'DejaVu Sans Mono',consolas,'Courier New',monospace\"><span style=\"color: #008080; text-decoration-color: #008080; font-weight: bold\">2025</span>-<span style=\"color: #008080; text-decoration-color: #008080; font-weight: bold\">03</span>-<span style=\"color: #008080; text-decoration-color: #008080; font-weight: bold\">10</span> <span style=\"color: #00ff00; text-decoration-color: #00ff00; font-weight: bold\">14:52:02</span>.<span style=\"color: #008080; text-decoration-color: #008080; font-weight: bold\">930949</span>\n",
       "</pre>\n"
      ],
      "text/plain": [
       "\u001b[1;36m2025\u001b[0m-\u001b[1;36m03\u001b[0m-\u001b[1;36m10\u001b[0m \u001b[1;92m14:52:02\u001b[0m.\u001b[1;36m930949\u001b[0m\n"
      ]
     },
     "metadata": {},
     "output_type": "display_data"
    },
    {
     "data": {
      "application/vnd.jupyter.widget-view+json": {
       "model_id": "a7c3b8de424742c081dcab9a4cdd98f9",
       "version_major": 2,
       "version_minor": 0
      },
      "text/plain": [
       "Output()"
      ]
     },
     "metadata": {},
     "output_type": "display_data"
    },
    {
     "data": {
      "text/html": [
       "<pre style=\"white-space:pre;overflow-x:auto;line-height:normal;font-family:Menlo,'DejaVu Sans Mono',consolas,'Courier New',monospace\"></pre>\n"
      ],
      "text/plain": []
     },
     "metadata": {},
     "output_type": "display_data"
    },
    {
     "data": {
      "text/html": [
       "<pre style=\"white-space:pre;overflow-x:auto;line-height:normal;font-family:Menlo,'DejaVu Sans Mono',consolas,'Courier New',monospace\"><span style=\"font-weight: bold\">[</span><span style=\"color: #008080; text-decoration-color: #008080; font-weight: bold\">52.30</span><span style=\"font-weight: bold\">]</span> <span style=\"font-weight: bold\">(</span>flattened_test_new_candi_5_disam_list.pkl<span style=\"font-weight: bold\">)</span>\n",
       "</pre>\n"
      ],
      "text/plain": [
       "\u001b[1m[\u001b[0m\u001b[1;36m52.30\u001b[0m\u001b[1m]\u001b[0m \u001b[1m(\u001b[0mflattened_test_new_candi_5_disam_list.pkl\u001b[1m)\u001b[0m\n"
      ]
     },
     "metadata": {},
     "output_type": "display_data"
    },
    {
     "data": {
      "text/html": [
       "<pre style=\"white-space:pre;overflow-x:auto;line-height:normal;font-family:Menlo,'DejaVu Sans Mono',consolas,'Courier New',monospace\"><span style=\"color: #800080; text-decoration-color: #800080\">/home/ann/fiz-ddb/notebook/data/vars/</span><span style=\"color: #ff00ff; text-decoration-color: #ff00ff\">flattened_test_new_term_1_disam_list.pkl</span> \n",
       "<span style=\"color: #800080; text-decoration-color: #800080\">/home/ann/fiz-ddb/notebook/data/5fold-mistralv3/</span><span style=\"color: #ff00ff; text-decoration-color: #ff00ff\">flattened_test_new_term_1_disam_list.pkl.log</span>\n",
       "</pre>\n"
      ],
      "text/plain": [
       "\u001b[35m/home/ann/fiz-ddb/notebook/data/vars/\u001b[0m\u001b[95mflattened_test_new_term_1_disam_list.pkl\u001b[0m \n",
       "\u001b[35m/home/ann/fiz-ddb/notebook/data/5fold-mistralv3/\u001b[0m\u001b[95mflattened_test_new_term_1_disam_list.pkl.log\u001b[0m\n"
      ]
     },
     "metadata": {},
     "output_type": "display_data"
    },
    {
     "data": {
      "text/html": [
       "<pre style=\"white-space:pre;overflow-x:auto;line-height:normal;font-family:Menlo,'DejaVu Sans Mono',consolas,'Courier New',monospace\"><span style=\"color: #008080; text-decoration-color: #008080; font-weight: bold\">2025</span>-<span style=\"color: #008080; text-decoration-color: #008080; font-weight: bold\">03</span>-<span style=\"color: #008080; text-decoration-color: #008080; font-weight: bold\">10</span> <span style=\"color: #00ff00; text-decoration-color: #00ff00; font-weight: bold\">14:56:10</span>.<span style=\"color: #008080; text-decoration-color: #008080; font-weight: bold\">010384</span>\n",
       "</pre>\n"
      ],
      "text/plain": [
       "\u001b[1;36m2025\u001b[0m-\u001b[1;36m03\u001b[0m-\u001b[1;36m10\u001b[0m \u001b[1;92m14:56:10\u001b[0m.\u001b[1;36m010384\u001b[0m\n"
      ]
     },
     "metadata": {},
     "output_type": "display_data"
    },
    {
     "data": {
      "application/vnd.jupyter.widget-view+json": {
       "model_id": "47f58891dce745309c482efe42d42f74",
       "version_major": 2,
       "version_minor": 0
      },
      "text/plain": [
       "Output()"
      ]
     },
     "metadata": {},
     "output_type": "display_data"
    },
    {
     "data": {
      "text/html": [
       "<pre style=\"white-space:pre;overflow-x:auto;line-height:normal;font-family:Menlo,'DejaVu Sans Mono',consolas,'Courier New',monospace\"></pre>\n"
      ],
      "text/plain": []
     },
     "metadata": {},
     "output_type": "display_data"
    },
    {
     "data": {
      "text/html": [
       "<pre style=\"white-space:pre;overflow-x:auto;line-height:normal;font-family:Menlo,'DejaVu Sans Mono',consolas,'Courier New',monospace\"><span style=\"font-weight: bold\">[</span><span style=\"color: #008080; text-decoration-color: #008080; font-weight: bold\">61.89</span><span style=\"font-weight: bold\">]</span> <span style=\"font-weight: bold\">(</span>flattened_test_new_term_1_disam_list.pkl<span style=\"font-weight: bold\">)</span>\n",
       "</pre>\n"
      ],
      "text/plain": [
       "\u001b[1m[\u001b[0m\u001b[1;36m61.89\u001b[0m\u001b[1m]\u001b[0m \u001b[1m(\u001b[0mflattened_test_new_term_1_disam_list.pkl\u001b[1m)\u001b[0m\n"
      ]
     },
     "metadata": {},
     "output_type": "display_data"
    },
    {
     "data": {
      "text/html": [
       "<pre style=\"white-space:pre;overflow-x:auto;line-height:normal;font-family:Menlo,'DejaVu Sans Mono',consolas,'Courier New',monospace\"><span style=\"color: #800080; text-decoration-color: #800080\">/home/ann/fiz-ddb/notebook/data/vars/</span><span style=\"color: #ff00ff; text-decoration-color: #ff00ff\">flattened_test_new_term_2_disam_list.pkl</span> \n",
       "<span style=\"color: #800080; text-decoration-color: #800080\">/home/ann/fiz-ddb/notebook/data/5fold-mistralv3/</span><span style=\"color: #ff00ff; text-decoration-color: #ff00ff\">flattened_test_new_term_2_disam_list.pkl.log</span>\n",
       "</pre>\n"
      ],
      "text/plain": [
       "\u001b[35m/home/ann/fiz-ddb/notebook/data/vars/\u001b[0m\u001b[95mflattened_test_new_term_2_disam_list.pkl\u001b[0m \n",
       "\u001b[35m/home/ann/fiz-ddb/notebook/data/5fold-mistralv3/\u001b[0m\u001b[95mflattened_test_new_term_2_disam_list.pkl.log\u001b[0m\n"
      ]
     },
     "metadata": {},
     "output_type": "display_data"
    },
    {
     "data": {
      "text/html": [
       "<pre style=\"white-space:pre;overflow-x:auto;line-height:normal;font-family:Menlo,'DejaVu Sans Mono',consolas,'Courier New',monospace\"><span style=\"color: #008080; text-decoration-color: #008080; font-weight: bold\">2025</span>-<span style=\"color: #008080; text-decoration-color: #008080; font-weight: bold\">03</span>-<span style=\"color: #008080; text-decoration-color: #008080; font-weight: bold\">10</span> <span style=\"color: #00ff00; text-decoration-color: #00ff00; font-weight: bold\">15:00:10</span>.<span style=\"color: #008080; text-decoration-color: #008080; font-weight: bold\">826577</span>\n",
       "</pre>\n"
      ],
      "text/plain": [
       "\u001b[1;36m2025\u001b[0m-\u001b[1;36m03\u001b[0m-\u001b[1;36m10\u001b[0m \u001b[1;92m15:00:10\u001b[0m.\u001b[1;36m826577\u001b[0m\n"
      ]
     },
     "metadata": {},
     "output_type": "display_data"
    },
    {
     "data": {
      "application/vnd.jupyter.widget-view+json": {
       "model_id": "4a8f6f4c00d147b4b83aaa7e448762b1",
       "version_major": 2,
       "version_minor": 0
      },
      "text/plain": [
       "Output()"
      ]
     },
     "metadata": {},
     "output_type": "display_data"
    },
    {
     "data": {
      "text/html": [
       "<pre style=\"white-space:pre;overflow-x:auto;line-height:normal;font-family:Menlo,'DejaVu Sans Mono',consolas,'Courier New',monospace\"></pre>\n"
      ],
      "text/plain": []
     },
     "metadata": {},
     "output_type": "display_data"
    },
    {
     "data": {
      "text/html": [
       "<pre style=\"white-space:pre;overflow-x:auto;line-height:normal;font-family:Menlo,'DejaVu Sans Mono',consolas,'Courier New',monospace\"><span style=\"font-weight: bold\">[</span><span style=\"color: #008080; text-decoration-color: #008080; font-weight: bold\">63.54</span><span style=\"font-weight: bold\">]</span> <span style=\"font-weight: bold\">(</span>flattened_test_new_term_2_disam_list.pkl<span style=\"font-weight: bold\">)</span>\n",
       "</pre>\n"
      ],
      "text/plain": [
       "\u001b[1m[\u001b[0m\u001b[1;36m63.54\u001b[0m\u001b[1m]\u001b[0m \u001b[1m(\u001b[0mflattened_test_new_term_2_disam_list.pkl\u001b[1m)\u001b[0m\n"
      ]
     },
     "metadata": {},
     "output_type": "display_data"
    },
    {
     "data": {
      "text/html": [
       "<pre style=\"white-space:pre;overflow-x:auto;line-height:normal;font-family:Menlo,'DejaVu Sans Mono',consolas,'Courier New',monospace\"><span style=\"color: #800080; text-decoration-color: #800080\">/home/ann/fiz-ddb/notebook/data/vars/</span><span style=\"color: #ff00ff; text-decoration-color: #ff00ff\">flattened_test_new_term_3_disam_list.pkl</span> \n",
       "<span style=\"color: #800080; text-decoration-color: #800080\">/home/ann/fiz-ddb/notebook/data/5fold-mistralv3/</span><span style=\"color: #ff00ff; text-decoration-color: #ff00ff\">flattened_test_new_term_3_disam_list.pkl.log</span>\n",
       "</pre>\n"
      ],
      "text/plain": [
       "\u001b[35m/home/ann/fiz-ddb/notebook/data/vars/\u001b[0m\u001b[95mflattened_test_new_term_3_disam_list.pkl\u001b[0m \n",
       "\u001b[35m/home/ann/fiz-ddb/notebook/data/5fold-mistralv3/\u001b[0m\u001b[95mflattened_test_new_term_3_disam_list.pkl.log\u001b[0m\n"
      ]
     },
     "metadata": {},
     "output_type": "display_data"
    },
    {
     "data": {
      "text/html": [
       "<pre style=\"white-space:pre;overflow-x:auto;line-height:normal;font-family:Menlo,'DejaVu Sans Mono',consolas,'Courier New',monospace\"><span style=\"color: #008080; text-decoration-color: #008080; font-weight: bold\">2025</span>-<span style=\"color: #008080; text-decoration-color: #008080; font-weight: bold\">03</span>-<span style=\"color: #008080; text-decoration-color: #008080; font-weight: bold\">10</span> <span style=\"color: #00ff00; text-decoration-color: #00ff00; font-weight: bold\">15:03:39</span>.<span style=\"color: #008080; text-decoration-color: #008080; font-weight: bold\">060293</span>\n",
       "</pre>\n"
      ],
      "text/plain": [
       "\u001b[1;36m2025\u001b[0m-\u001b[1;36m03\u001b[0m-\u001b[1;36m10\u001b[0m \u001b[1;92m15:03:39\u001b[0m.\u001b[1;36m060293\u001b[0m\n"
      ]
     },
     "metadata": {},
     "output_type": "display_data"
    },
    {
     "data": {
      "application/vnd.jupyter.widget-view+json": {
       "model_id": "18cf18c964d34e19a08fb0a886566ab2",
       "version_major": 2,
       "version_minor": 0
      },
      "text/plain": [
       "Output()"
      ]
     },
     "metadata": {},
     "output_type": "display_data"
    },
    {
     "data": {
      "text/html": [
       "<pre style=\"white-space:pre;overflow-x:auto;line-height:normal;font-family:Menlo,'DejaVu Sans Mono',consolas,'Courier New',monospace\"></pre>\n"
      ],
      "text/plain": []
     },
     "metadata": {},
     "output_type": "display_data"
    },
    {
     "data": {
      "text/html": [
       "<pre style=\"white-space:pre;overflow-x:auto;line-height:normal;font-family:Menlo,'DejaVu Sans Mono',consolas,'Courier New',monospace\"><span style=\"font-weight: bold\">[</span><span style=\"color: #008080; text-decoration-color: #008080; font-weight: bold\">66.67</span><span style=\"font-weight: bold\">]</span> <span style=\"font-weight: bold\">(</span>flattened_test_new_term_3_disam_list.pkl<span style=\"font-weight: bold\">)</span>\n",
       "</pre>\n"
      ],
      "text/plain": [
       "\u001b[1m[\u001b[0m\u001b[1;36m66.67\u001b[0m\u001b[1m]\u001b[0m \u001b[1m(\u001b[0mflattened_test_new_term_3_disam_list.pkl\u001b[1m)\u001b[0m\n"
      ]
     },
     "metadata": {},
     "output_type": "display_data"
    },
    {
     "data": {
      "text/html": [
       "<pre style=\"white-space:pre;overflow-x:auto;line-height:normal;font-family:Menlo,'DejaVu Sans Mono',consolas,'Courier New',monospace\"><span style=\"color: #800080; text-decoration-color: #800080\">/home/ann/fiz-ddb/notebook/data/vars/</span><span style=\"color: #ff00ff; text-decoration-color: #ff00ff\">flattened_test_new_term_4_disam_list.pkl</span> \n",
       "<span style=\"color: #800080; text-decoration-color: #800080\">/home/ann/fiz-ddb/notebook/data/5fold-mistralv3/</span><span style=\"color: #ff00ff; text-decoration-color: #ff00ff\">flattened_test_new_term_4_disam_list.pkl.log</span>\n",
       "</pre>\n"
      ],
      "text/plain": [
       "\u001b[35m/home/ann/fiz-ddb/notebook/data/vars/\u001b[0m\u001b[95mflattened_test_new_term_4_disam_list.pkl\u001b[0m \n",
       "\u001b[35m/home/ann/fiz-ddb/notebook/data/5fold-mistralv3/\u001b[0m\u001b[95mflattened_test_new_term_4_disam_list.pkl.log\u001b[0m\n"
      ]
     },
     "metadata": {},
     "output_type": "display_data"
    },
    {
     "data": {
      "text/html": [
       "<pre style=\"white-space:pre;overflow-x:auto;line-height:normal;font-family:Menlo,'DejaVu Sans Mono',consolas,'Courier New',monospace\"><span style=\"color: #008080; text-decoration-color: #008080; font-weight: bold\">2025</span>-<span style=\"color: #008080; text-decoration-color: #008080; font-weight: bold\">03</span>-<span style=\"color: #008080; text-decoration-color: #008080; font-weight: bold\">10</span> <span style=\"color: #00ff00; text-decoration-color: #00ff00; font-weight: bold\">15:06:58</span>.<span style=\"color: #008080; text-decoration-color: #008080; font-weight: bold\">700220</span>\n",
       "</pre>\n"
      ],
      "text/plain": [
       "\u001b[1;36m2025\u001b[0m-\u001b[1;36m03\u001b[0m-\u001b[1;36m10\u001b[0m \u001b[1;92m15:06:58\u001b[0m.\u001b[1;36m700220\u001b[0m\n"
      ]
     },
     "metadata": {},
     "output_type": "display_data"
    },
    {
     "data": {
      "application/vnd.jupyter.widget-view+json": {
       "model_id": "0701920d76f84ba084ede182fcbeb3dd",
       "version_major": 2,
       "version_minor": 0
      },
      "text/plain": [
       "Output()"
      ]
     },
     "metadata": {},
     "output_type": "display_data"
    },
    {
     "data": {
      "text/html": [
       "<pre style=\"white-space:pre;overflow-x:auto;line-height:normal;font-family:Menlo,'DejaVu Sans Mono',consolas,'Courier New',monospace\"></pre>\n"
      ],
      "text/plain": []
     },
     "metadata": {},
     "output_type": "display_data"
    },
    {
     "data": {
      "text/html": [
       "<pre style=\"white-space:pre;overflow-x:auto;line-height:normal;font-family:Menlo,'DejaVu Sans Mono',consolas,'Courier New',monospace\"><span style=\"font-weight: bold\">[</span><span style=\"color: #008080; text-decoration-color: #008080; font-weight: bold\">52.58</span><span style=\"font-weight: bold\">]</span> <span style=\"font-weight: bold\">(</span>flattened_test_new_term_4_disam_list.pkl<span style=\"font-weight: bold\">)</span>\n",
       "</pre>\n"
      ],
      "text/plain": [
       "\u001b[1m[\u001b[0m\u001b[1;36m52.58\u001b[0m\u001b[1m]\u001b[0m \u001b[1m(\u001b[0mflattened_test_new_term_4_disam_list.pkl\u001b[1m)\u001b[0m\n"
      ]
     },
     "metadata": {},
     "output_type": "display_data"
    },
    {
     "data": {
      "text/html": [
       "<pre style=\"white-space:pre;overflow-x:auto;line-height:normal;font-family:Menlo,'DejaVu Sans Mono',consolas,'Courier New',monospace\"><span style=\"color: #800080; text-decoration-color: #800080\">/home/ann/fiz-ddb/notebook/data/vars/</span><span style=\"color: #ff00ff; text-decoration-color: #ff00ff\">flattened_test_new_term_5_disam_list.pkl</span> \n",
       "<span style=\"color: #800080; text-decoration-color: #800080\">/home/ann/fiz-ddb/notebook/data/5fold-mistralv3/</span><span style=\"color: #ff00ff; text-decoration-color: #ff00ff\">flattened_test_new_term_5_disam_list.pkl.log</span>\n",
       "</pre>\n"
      ],
      "text/plain": [
       "\u001b[35m/home/ann/fiz-ddb/notebook/data/vars/\u001b[0m\u001b[95mflattened_test_new_term_5_disam_list.pkl\u001b[0m \n",
       "\u001b[35m/home/ann/fiz-ddb/notebook/data/5fold-mistralv3/\u001b[0m\u001b[95mflattened_test_new_term_5_disam_list.pkl.log\u001b[0m\n"
      ]
     },
     "metadata": {},
     "output_type": "display_data"
    },
    {
     "data": {
      "text/html": [
       "<pre style=\"white-space:pre;overflow-x:auto;line-height:normal;font-family:Menlo,'DejaVu Sans Mono',consolas,'Courier New',monospace\"><span style=\"color: #008080; text-decoration-color: #008080; font-weight: bold\">2025</span>-<span style=\"color: #008080; text-decoration-color: #008080; font-weight: bold\">03</span>-<span style=\"color: #008080; text-decoration-color: #008080; font-weight: bold\">10</span> <span style=\"color: #00ff00; text-decoration-color: #00ff00; font-weight: bold\">15:11:23</span>.<span style=\"color: #008080; text-decoration-color: #008080; font-weight: bold\">918531</span>\n",
       "</pre>\n"
      ],
      "text/plain": [
       "\u001b[1;36m2025\u001b[0m-\u001b[1;36m03\u001b[0m-\u001b[1;36m10\u001b[0m \u001b[1;92m15:11:23\u001b[0m.\u001b[1;36m918531\u001b[0m\n"
      ]
     },
     "metadata": {},
     "output_type": "display_data"
    },
    {
     "data": {
      "application/vnd.jupyter.widget-view+json": {
       "model_id": "7243634d1f1a435d82636399100e8f4c",
       "version_major": 2,
       "version_minor": 0
      },
      "text/plain": [
       "Output()"
      ]
     },
     "metadata": {},
     "output_type": "display_data"
    },
    {
     "data": {
      "text/html": [
       "<pre style=\"white-space:pre;overflow-x:auto;line-height:normal;font-family:Menlo,'DejaVu Sans Mono',consolas,'Courier New',monospace\"></pre>\n"
      ],
      "text/plain": []
     },
     "metadata": {},
     "output_type": "display_data"
    },
    {
     "data": {
      "text/html": [
       "<pre style=\"white-space:pre;overflow-x:auto;line-height:normal;font-family:Menlo,'DejaVu Sans Mono',consolas,'Courier New',monospace\"><span style=\"font-weight: bold\">[</span><span style=\"color: #008080; text-decoration-color: #008080; font-weight: bold\">55.56</span><span style=\"font-weight: bold\">]</span> <span style=\"font-weight: bold\">(</span>flattened_test_new_term_5_disam_list.pkl<span style=\"font-weight: bold\">)</span>\n",
       "</pre>\n"
      ],
      "text/plain": [
       "\u001b[1m[\u001b[0m\u001b[1;36m55.56\u001b[0m\u001b[1m]\u001b[0m \u001b[1m(\u001b[0mflattened_test_new_term_5_disam_list.pkl\u001b[1m)\u001b[0m\n"
      ]
     },
     "metadata": {},
     "output_type": "display_data"
    }
   ],
   "source": [
    "import copy\n",
    "\n",
    "for filename in test_files:\n",
    "    fullpath = f'/home/ann/fiz-ddb/notebook/data/vars/{filename}'\n",
    "    \n",
    "    df_test = reload_vars(fullpath)\n",
    "    logfile = f'/home/ann/fiz-ddb/notebook/data/5fold-mistralv3/{filename}.log'\n",
    "\n",
    "    print(fullpath, logfile)\n",
    "    \n",
    "    test_time, test_answers = run_test(df_test, logfile=logfile, offset=0)\n",
    "\n",
    "    test_correct_count, test_results = get_results(df_test, test_answers)\n",
    "\n",
    "    TEST_DATA[filename] = {\n",
    "        'compute_time': test_time,\n",
    "        'logfile': logfile,\n",
    "        'raw_answers': copy.deepcopy(test_answers),\n",
    "        'correct_count': test_correct_count,\n",
    "        'test_results': copy.deepcopy(test_results)\n",
    "    }\n",
    "\n",
    "    print(f'[{test_correct_count/len(df_test)*100:0.2f}] ({filename})')\n",
    "    pkl_vars(TEST_DATA, '/home/ann/fiz-ddb/notebook/data/vars/mathd2_5fold_mistralv3_20250310.pkl')"
   ]
  },
  {
   "cell_type": "markdown",
   "id": "13f9ecd7-e615-497d-b78b-87652370445a",
   "metadata": {},
   "source": [
    ">[50.60] (flattened_test_new_candi_1_disam_list.pkl)\n",
    ">\n",
    ">[52.15] (flattened_test_new_candi_2_disam_list.pkl)\n",
    ">\n",
    ">[50.54] (flattened_test_new_candi_3_disam_list.pkl)\n",
    ">\n",
    ">[54.88] (flattened_test_new_candi_4_disam_list.pkl)\n",
    ">\n",
    ">[52.30] (flattened_test_new_candi_5_disam_list.pkl)\n",
    ">\n",
    ">[61.89] (flattened_test_new_term_1_disam_list.pkl)\n",
    ">\n",
    ">[63.54] (flattened_test_new_term_2_disam_list.pkl)\n",
    ">\n",
    ">[66.67] (flattened_test_new_term_3_disam_list.pkl)\n",
    ">\n",
    ">[52.58] (flattened_test_new_term_4_disam_list.pkl)\n",
    ">\n",
    ">[55.56] (flattened_test_new_term_5_disam_list.pkl)"
   ]
  }
 ],
 "metadata": {
  "kernelspec": {
   "display_name": "Python 3 (ipykernel)",
   "language": "python",
   "name": "python3"
  },
  "language_info": {
   "codemirror_mode": {
    "name": "ipython",
    "version": 3
   },
   "file_extension": ".py",
   "mimetype": "text/x-python",
   "name": "python",
   "nbconvert_exporter": "python",
   "pygments_lexer": "ipython3",
   "version": "3.10.16"
  }
 },
 "nbformat": 4,
 "nbformat_minor": 5
}
